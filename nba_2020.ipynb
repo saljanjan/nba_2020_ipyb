{
  "nbformat": 4,
  "nbformat_minor": 0,
  "metadata": {
    "colab": {
      "name": "nba_2020.ipynb",
      "provenance": [],
      "collapsed_sections": []
    },
    "kernelspec": {
      "name": "python3",
      "display_name": "Python 3"
    }
  },
  "cells": [
    {
      "cell_type": "markdown",
      "metadata": {
        "id": "XPQKz-WRXd_h"
      },
      "source": [
        "#using google jupyter notebook on colab for the analysis"
      ]
    },
    {
      "cell_type": "code",
      "metadata": {
        "id": "djD-DYXCU8ya"
      },
      "source": [
        "import pandas as pd\r\n",
        "from pandas import Series, DataFrame\r\n",
        "import plotly.express as px"
      ],
      "execution_count": null,
      "outputs": []
    },
    {
      "cell_type": "code",
      "metadata": {
        "id": "DTPWIGfeVmoF",
        "colab": {
          "base_uri": "https://localhost:8080/",
          "height": 485
        },
        "outputId": "0344fe91-8878-4741-ee40-33e6e39daaf1"
      },
      "source": [
        "#nba_20 = pd.read_excel('/content/2019-2020 NBA Player Stats  NBAstuffer.xlsx')\r\n",
        "nba_20_copy=pd.read_excel('/content/drive/MyDrive/2019-2020 NBA Player Stats  NBAstuffer.xlsx')\r\n",
        "#nba_20 = pd.read_excel('/2019-2020 NBA Player Stats  NBAstuffer.xlsx')\r\n",
        "nba_20_copy.head(3)"
      ],
      "execution_count": null,
      "outputs": [
        {
          "output_type": "execute_result",
          "data": {
            "text/html": [
              "<div>\n",
              "<style scoped>\n",
              "    .dataframe tbody tr th:only-of-type {\n",
              "        vertical-align: middle;\n",
              "    }\n",
              "\n",
              "    .dataframe tbody tr th {\n",
              "        vertical-align: top;\n",
              "    }\n",
              "\n",
              "    .dataframe thead th {\n",
              "        text-align: right;\n",
              "    }\n",
              "</style>\n",
              "<table border=\"1\" class=\"dataframe\">\n",
              "  <thead>\n",
              "    <tr style=\"text-align: right;\">\n",
              "      <th></th>\n",
              "      <th>RANK</th>\n",
              "      <th>FULL NAME</th>\n",
              "      <th>TEAM</th>\n",
              "      <th>POS</th>\n",
              "      <th>AGE</th>\n",
              "      <th>GP</th>\n",
              "      <th>MPG</th>\n",
              "      <th>MIN%Minutes PercentagePercentage of team minutes used by a player while he was on the floor</th>\n",
              "      <th>USG%Usage RateUsage rate, a.k.a., usage percentage is an estimate of the percentage of team plays used by a player while he was on the floor</th>\n",
              "      <th>TO%Turnover RateA metric that estimates the number of turnovers a player commits per 100 possessions</th>\n",
              "      <th>FTA</th>\n",
              "      <th>FT%</th>\n",
              "      <th>2PA</th>\n",
              "      <th>2P%</th>\n",
              "      <th>3PA</th>\n",
              "      <th>3P%</th>\n",
              "      <th>eFG%Effective Shooting PercentageWith eFG%, three-point shots made are worth 50% more than two-point shots made. eFG% Formula=(FGM+ (0.5 x 3PM))/FGA</th>\n",
              "      <th>TS%True Shooting PercentageTrue shooting percentage is a measure of shooting efficiency that takes into account field goals, 3-point field goals, and free throws.</th>\n",
              "      <th>PPGPointsPoints per game.</th>\n",
              "      <th>RPGReboundsRebounds per game.</th>\n",
              "      <th>TRB%Total Rebound PercentageTotal rebound percentage is estimated percentage of available rebounds grabbed by the player while the player is on the court.</th>\n",
              "      <th>APGAssistsAssists per game.</th>\n",
              "      <th>AST%Assist PercentageAssist percentage is an estimated percentage of teammate field goals a player assisted while the player is on the court</th>\n",
              "      <th>SPGStealsSteals per game.</th>\n",
              "      <th>BPGBlocksBlocks per game.</th>\n",
              "      <th>TOPGTurnoversTurnovers per game.</th>\n",
              "      <th>VIVersatility IndexVersatility index is a metric that measures a player’s ability to produce in points, assists, and rebounds. The average player will score around a five on the index, while top players score above 10</th>\n",
              "      <th>ORTGOffensive RatingIndividual offensive rating is the number of points produced by a player per 100 total individual possessions.</th>\n",
              "      <th>DRTGDefensive RatingIndividual defensive rating estimates how many points the player allowed per 100 possessions he individually faced while staying on the court.</th>\n",
              "    </tr>\n",
              "  </thead>\n",
              "  <tbody>\n",
              "    <tr>\n",
              "      <th>0</th>\n",
              "      <td>NaN</td>\n",
              "      <td>Jaylen Adams</td>\n",
              "      <td>Por</td>\n",
              "      <td>G</td>\n",
              "      <td>24.44</td>\n",
              "      <td>3</td>\n",
              "      <td>6.9</td>\n",
              "      <td>14.4</td>\n",
              "      <td>18.1</td>\n",
              "      <td>0.0</td>\n",
              "      <td>0</td>\n",
              "      <td>0.000</td>\n",
              "      <td>5</td>\n",
              "      <td>0.600</td>\n",
              "      <td>4</td>\n",
              "      <td>0.0</td>\n",
              "      <td>0.333</td>\n",
              "      <td>0.333</td>\n",
              "      <td>2.0</td>\n",
              "      <td>1.0</td>\n",
              "      <td>7.6</td>\n",
              "      <td>0.7</td>\n",
              "      <td>15.1</td>\n",
              "      <td>0.33</td>\n",
              "      <td>0.00</td>\n",
              "      <td>0.00</td>\n",
              "      <td>6.5</td>\n",
              "      <td>88.9</td>\n",
              "      <td>114.2</td>\n",
              "    </tr>\n",
              "    <tr>\n",
              "      <th>1</th>\n",
              "      <td>NaN</td>\n",
              "      <td>Steven Adams</td>\n",
              "      <td>Okc</td>\n",
              "      <td>C</td>\n",
              "      <td>27.23</td>\n",
              "      <td>7</td>\n",
              "      <td>30.0</td>\n",
              "      <td>62.6</td>\n",
              "      <td>15.7</td>\n",
              "      <td>20.8</td>\n",
              "      <td>20</td>\n",
              "      <td>0.450</td>\n",
              "      <td>51</td>\n",
              "      <td>0.608</td>\n",
              "      <td>1</td>\n",
              "      <td>0.0</td>\n",
              "      <td>0.596</td>\n",
              "      <td>0.584</td>\n",
              "      <td>10.1</td>\n",
              "      <td>11.6</td>\n",
              "      <td>20.1</td>\n",
              "      <td>1.3</td>\n",
              "      <td>7.1</td>\n",
              "      <td>0.57</td>\n",
              "      <td>0.29</td>\n",
              "      <td>2.29</td>\n",
              "      <td>7.1</td>\n",
              "      <td>112.8</td>\n",
              "      <td>105.1</td>\n",
              "    </tr>\n",
              "    <tr>\n",
              "      <th>2</th>\n",
              "      <td>NaN</td>\n",
              "      <td>Bam Adebayo</td>\n",
              "      <td>Mia</td>\n",
              "      <td>C-F</td>\n",
              "      <td>23.24</td>\n",
              "      <td>19</td>\n",
              "      <td>36.2</td>\n",
              "      <td>75.4</td>\n",
              "      <td>21.0</td>\n",
              "      <td>14.8</td>\n",
              "      <td>115</td>\n",
              "      <td>0.783</td>\n",
              "      <td>219</td>\n",
              "      <td>0.566</td>\n",
              "      <td>1</td>\n",
              "      <td>0.0</td>\n",
              "      <td>0.564</td>\n",
              "      <td>0.625</td>\n",
              "      <td>17.8</td>\n",
              "      <td>10.3</td>\n",
              "      <td>16.5</td>\n",
              "      <td>4.4</td>\n",
              "      <td>20.5</td>\n",
              "      <td>1.00</td>\n",
              "      <td>0.84</td>\n",
              "      <td>2.47</td>\n",
              "      <td>10.3</td>\n",
              "      <td>121.4</td>\n",
              "      <td>102.1</td>\n",
              "    </tr>\n",
              "  </tbody>\n",
              "</table>\n",
              "</div>"
            ],
            "text/plain": [
              "   RANK  ... DRTGDefensive RatingIndividual defensive rating estimates how many points the player allowed per 100 possessions he individually faced while staying on the court.\n",
              "0   NaN  ...                                              114.2                                                                                                                \n",
              "1   NaN  ...                                              105.1                                                                                                                \n",
              "2   NaN  ...                                              102.1                                                                                                                \n",
              "\n",
              "[3 rows x 29 columns]"
            ]
          },
          "metadata": {
            "tags": []
          },
          "execution_count": 2
        }
      ]
    },
    {
      "cell_type": "code",
      "metadata": {
        "colab": {
          "base_uri": "https://localhost:8080/",
          "height": 485
        },
        "id": "_mkhfIYSVtTI",
        "outputId": "1c2f62b1-611f-4c8a-b7bd-8e6da93465cb"
      },
      "source": [
        "nba_20_copy.tail(3)"
      ],
      "execution_count": null,
      "outputs": [
        {
          "output_type": "execute_result",
          "data": {
            "text/html": [
              "<div>\n",
              "<style scoped>\n",
              "    .dataframe tbody tr th:only-of-type {\n",
              "        vertical-align: middle;\n",
              "    }\n",
              "\n",
              "    .dataframe tbody tr th {\n",
              "        vertical-align: top;\n",
              "    }\n",
              "\n",
              "    .dataframe thead th {\n",
              "        text-align: right;\n",
              "    }\n",
              "</style>\n",
              "<table border=\"1\" class=\"dataframe\">\n",
              "  <thead>\n",
              "    <tr style=\"text-align: right;\">\n",
              "      <th></th>\n",
              "      <th>RANK</th>\n",
              "      <th>FULL NAME</th>\n",
              "      <th>TEAM</th>\n",
              "      <th>POS</th>\n",
              "      <th>AGE</th>\n",
              "      <th>GP</th>\n",
              "      <th>MPG</th>\n",
              "      <th>MIN%Minutes PercentagePercentage of team minutes used by a player while he was on the floor</th>\n",
              "      <th>USG%Usage RateUsage rate, a.k.a., usage percentage is an estimate of the percentage of team plays used by a player while he was on the floor</th>\n",
              "      <th>TO%Turnover RateA metric that estimates the number of turnovers a player commits per 100 possessions</th>\n",
              "      <th>FTA</th>\n",
              "      <th>FT%</th>\n",
              "      <th>2PA</th>\n",
              "      <th>2P%</th>\n",
              "      <th>3PA</th>\n",
              "      <th>3P%</th>\n",
              "      <th>eFG%Effective Shooting PercentageWith eFG%, three-point shots made are worth 50% more than two-point shots made. eFG% Formula=(FGM+ (0.5 x 3PM))/FGA</th>\n",
              "      <th>TS%True Shooting PercentageTrue shooting percentage is a measure of shooting efficiency that takes into account field goals, 3-point field goals, and free throws.</th>\n",
              "      <th>PPGPointsPoints per game.</th>\n",
              "      <th>RPGReboundsRebounds per game.</th>\n",
              "      <th>TRB%Total Rebound PercentageTotal rebound percentage is estimated percentage of available rebounds grabbed by the player while the player is on the court.</th>\n",
              "      <th>APGAssistsAssists per game.</th>\n",
              "      <th>AST%Assist PercentageAssist percentage is an estimated percentage of teammate field goals a player assisted while the player is on the court</th>\n",
              "      <th>SPGStealsSteals per game.</th>\n",
              "      <th>BPGBlocksBlocks per game.</th>\n",
              "      <th>TOPGTurnoversTurnovers per game.</th>\n",
              "      <th>VIVersatility IndexVersatility index is a metric that measures a player’s ability to produce in points, assists, and rebounds. The average player will score around a five on the index, while top players score above 10</th>\n",
              "      <th>ORTGOffensive RatingIndividual offensive rating is the number of points produced by a player per 100 total individual possessions.</th>\n",
              "      <th>DRTGDefensive RatingIndividual defensive rating estimates how many points the player allowed per 100 possessions he individually faced while staying on the court.</th>\n",
              "    </tr>\n",
              "  </thead>\n",
              "  <tbody>\n",
              "    <tr>\n",
              "      <th>213</th>\n",
              "      <td>NaN</td>\n",
              "      <td>Marvin Williams</td>\n",
              "      <td>Mil</td>\n",
              "      <td>F</td>\n",
              "      <td>34.32</td>\n",
              "      <td>10</td>\n",
              "      <td>17.9</td>\n",
              "      <td>37.2</td>\n",
              "      <td>12.4</td>\n",
              "      <td>5.8</td>\n",
              "      <td>3</td>\n",
              "      <td>1.000</td>\n",
              "      <td>24</td>\n",
              "      <td>0.458</td>\n",
              "      <td>23</td>\n",
              "      <td>0.435</td>\n",
              "      <td>0.553</td>\n",
              "      <td>0.569</td>\n",
              "      <td>5.5</td>\n",
              "      <td>4.8</td>\n",
              "      <td>14.4</td>\n",
              "      <td>0.9</td>\n",
              "      <td>7.1</td>\n",
              "      <td>0.50</td>\n",
              "      <td>0.30</td>\n",
              "      <td>0.30</td>\n",
              "      <td>6.4</td>\n",
              "      <td>123.6</td>\n",
              "      <td>97.9</td>\n",
              "    </tr>\n",
              "    <tr>\n",
              "      <th>214</th>\n",
              "      <td>NaN</td>\n",
              "      <td>Delon Wright</td>\n",
              "      <td>Dal</td>\n",
              "      <td>G</td>\n",
              "      <td>28.46</td>\n",
              "      <td>4</td>\n",
              "      <td>13.3</td>\n",
              "      <td>27.7</td>\n",
              "      <td>13.9</td>\n",
              "      <td>29.1</td>\n",
              "      <td>5</td>\n",
              "      <td>0.600</td>\n",
              "      <td>8</td>\n",
              "      <td>0.625</td>\n",
              "      <td>2</td>\n",
              "      <td>0.500</td>\n",
              "      <td>0.650</td>\n",
              "      <td>0.656</td>\n",
              "      <td>4.0</td>\n",
              "      <td>0.8</td>\n",
              "      <td>3.1</td>\n",
              "      <td>1.8</td>\n",
              "      <td>17.5</td>\n",
              "      <td>1.25</td>\n",
              "      <td>0.00</td>\n",
              "      <td>1.25</td>\n",
              "      <td>5.4</td>\n",
              "      <td>107.5</td>\n",
              "      <td>110.3</td>\n",
              "    </tr>\n",
              "    <tr>\n",
              "      <th>215</th>\n",
              "      <td>NaN</td>\n",
              "      <td>Ivica Zubac</td>\n",
              "      <td>Lac</td>\n",
              "      <td>C</td>\n",
              "      <td>23.57</td>\n",
              "      <td>13</td>\n",
              "      <td>24.6</td>\n",
              "      <td>51.3</td>\n",
              "      <td>14.5</td>\n",
              "      <td>11.3</td>\n",
              "      <td>37</td>\n",
              "      <td>0.811</td>\n",
              "      <td>78</td>\n",
              "      <td>0.564</td>\n",
              "      <td>0</td>\n",
              "      <td>0.000</td>\n",
              "      <td>0.564</td>\n",
              "      <td>0.626</td>\n",
              "      <td>9.1</td>\n",
              "      <td>7.2</td>\n",
              "      <td>16.2</td>\n",
              "      <td>0.6</td>\n",
              "      <td>3.5</td>\n",
              "      <td>0.15</td>\n",
              "      <td>0.77</td>\n",
              "      <td>0.92</td>\n",
              "      <td>5.5</td>\n",
              "      <td>126.1</td>\n",
              "      <td>100.3</td>\n",
              "    </tr>\n",
              "  </tbody>\n",
              "</table>\n",
              "</div>"
            ],
            "text/plain": [
              "     RANK  ... DRTGDefensive RatingIndividual defensive rating estimates how many points the player allowed per 100 possessions he individually faced while staying on the court.\n",
              "213   NaN  ...                                               97.9                                                                                                                \n",
              "214   NaN  ...                                              110.3                                                                                                                \n",
              "215   NaN  ...                                              100.3                                                                                                                \n",
              "\n",
              "[3 rows x 29 columns]"
            ]
          },
          "metadata": {
            "tags": []
          },
          "execution_count": 3
        }
      ]
    },
    {
      "cell_type": "code",
      "metadata": {
        "id": "AsiH_Yi8VvNs",
        "colab": {
          "base_uri": "https://localhost:8080/"
        },
        "outputId": "f43ec053-a760-4512-a882-d42532efb772"
      },
      "source": [
        "nba_20_copy.MPG.min()"
      ],
      "execution_count": null,
      "outputs": [
        {
          "output_type": "execute_result",
          "data": {
            "text/plain": [
              "0.2"
            ]
          },
          "metadata": {
            "tags": []
          },
          "execution_count": 4
        }
      ]
    },
    {
      "cell_type": "code",
      "metadata": {
        "id": "4NfPQP7Iw1Mo",
        "colab": {
          "base_uri": "https://localhost:8080/",
          "height": 389
        },
        "outputId": "2cd34bb5-5876-4d13-a0ac-79cc1e53d4b0"
      },
      "source": [
        "nba_20_copy[nba_20_copy.MPG == 0.2]"
      ],
      "execution_count": null,
      "outputs": [
        {
          "output_type": "execute_result",
          "data": {
            "text/html": [
              "<div>\n",
              "<style scoped>\n",
              "    .dataframe tbody tr th:only-of-type {\n",
              "        vertical-align: middle;\n",
              "    }\n",
              "\n",
              "    .dataframe tbody tr th {\n",
              "        vertical-align: top;\n",
              "    }\n",
              "\n",
              "    .dataframe thead th {\n",
              "        text-align: right;\n",
              "    }\n",
              "</style>\n",
              "<table border=\"1\" class=\"dataframe\">\n",
              "  <thead>\n",
              "    <tr style=\"text-align: right;\">\n",
              "      <th></th>\n",
              "      <th>RANK</th>\n",
              "      <th>FULL NAME</th>\n",
              "      <th>TEAM</th>\n",
              "      <th>POS</th>\n",
              "      <th>AGE</th>\n",
              "      <th>GP</th>\n",
              "      <th>MPG</th>\n",
              "      <th>MIN%Minutes PercentagePercentage of team minutes used by a player while he was on the floor</th>\n",
              "      <th>USG%Usage RateUsage rate, a.k.a., usage percentage is an estimate of the percentage of team plays used by a player while he was on the floor</th>\n",
              "      <th>TO%Turnover RateA metric that estimates the number of turnovers a player commits per 100 possessions</th>\n",
              "      <th>FTA</th>\n",
              "      <th>FT%</th>\n",
              "      <th>2PA</th>\n",
              "      <th>2P%</th>\n",
              "      <th>3PA</th>\n",
              "      <th>3P%</th>\n",
              "      <th>eFG%Effective Shooting PercentageWith eFG%, three-point shots made are worth 50% more than two-point shots made. eFG% Formula=(FGM+ (0.5 x 3PM))/FGA</th>\n",
              "      <th>TS%True Shooting PercentageTrue shooting percentage is a measure of shooting efficiency that takes into account field goals, 3-point field goals, and free throws.</th>\n",
              "      <th>PPGPointsPoints per game.</th>\n",
              "      <th>RPGReboundsRebounds per game.</th>\n",
              "      <th>TRB%Total Rebound PercentageTotal rebound percentage is estimated percentage of available rebounds grabbed by the player while the player is on the court.</th>\n",
              "      <th>APGAssistsAssists per game.</th>\n",
              "      <th>AST%Assist PercentageAssist percentage is an estimated percentage of teammate field goals a player assisted while the player is on the court</th>\n",
              "      <th>SPGStealsSteals per game.</th>\n",
              "      <th>BPGBlocksBlocks per game.</th>\n",
              "      <th>TOPGTurnoversTurnovers per game.</th>\n",
              "      <th>VIVersatility IndexVersatility index is a metric that measures a player’s ability to produce in points, assists, and rebounds. The average player will score around a five on the index, while top players score above 10</th>\n",
              "      <th>ORTGOffensive RatingIndividual offensive rating is the number of points produced by a player per 100 total individual possessions.</th>\n",
              "      <th>DRTGDefensive RatingIndividual defensive rating estimates how many points the player allowed per 100 possessions he individually faced while staying on the court.</th>\n",
              "    </tr>\n",
              "  </thead>\n",
              "  <tbody>\n",
              "    <tr>\n",
              "      <th>103</th>\n",
              "      <td>NaN</td>\n",
              "      <td>Alize Johnson</td>\n",
              "      <td>Ind</td>\n",
              "      <td>F</td>\n",
              "      <td>24.47</td>\n",
              "      <td>1</td>\n",
              "      <td>0.2</td>\n",
              "      <td>0.4</td>\n",
              "      <td>0.0</td>\n",
              "      <td>NaN</td>\n",
              "      <td>0</td>\n",
              "      <td>0.0</td>\n",
              "      <td>0</td>\n",
              "      <td>0.0</td>\n",
              "      <td>0</td>\n",
              "      <td>0.0</td>\n",
              "      <td>NaN</td>\n",
              "      <td>NaN</td>\n",
              "      <td>0.0</td>\n",
              "      <td>0.0</td>\n",
              "      <td>0.0</td>\n",
              "      <td>0.0</td>\n",
              "      <td>0.0</td>\n",
              "      <td>0.0</td>\n",
              "      <td>0.0</td>\n",
              "      <td>0.0</td>\n",
              "      <td>0.0</td>\n",
              "      <td>NaN</td>\n",
              "      <td>NaN</td>\n",
              "    </tr>\n",
              "  </tbody>\n",
              "</table>\n",
              "</div>"
            ],
            "text/plain": [
              "     RANK  ... DRTGDefensive RatingIndividual defensive rating estimates how many points the player allowed per 100 possessions he individually faced while staying on the court.\n",
              "103   NaN  ...                                                NaN                                                                                                                \n",
              "\n",
              "[1 rows x 29 columns]"
            ]
          },
          "metadata": {
            "tags": []
          },
          "execution_count": 5
        }
      ]
    },
    {
      "cell_type": "code",
      "metadata": {
        "colab": {
          "base_uri": "https://localhost:8080/",
          "height": 542
        },
        "id": "XVw-m-AGbili",
        "outputId": "a9b438e9-d286-47ac-d9c4-e3a7500fd954"
      },
      "source": [
        "px.histogram(nba_20_copy, x = 'AGE', y = 'MPG',facet_col='TEAM', color='POS')"
      ],
      "execution_count": null,
      "outputs": [
        {
          "output_type": "display_data",
          "data": {
            "text/html": [
              "<html>\n",
              "<head><meta charset=\"utf-8\" /></head>\n",
              "<body>\n",
              "    <div>            <script src=\"https://cdnjs.cloudflare.com/ajax/libs/mathjax/2.7.5/MathJax.js?config=TeX-AMS-MML_SVG\"></script><script type=\"text/javascript\">if (window.MathJax) {MathJax.Hub.Config({SVG: {font: \"STIX-Web\"}});}</script>                <script type=\"text/javascript\">window.PlotlyConfig = {MathJaxConfig: 'local'};</script>\n",
              "        <script src=\"https://cdn.plot.ly/plotly-latest.min.js\"></script>                <div id=\"9f7176c2-b85c-41b6-a543-97d28ca13d49\" class=\"plotly-graph-div\" style=\"height:525px; width:100%;\"></div>            <script type=\"text/javascript\">                                    window.PLOTLYENV=window.PLOTLYENV || {};                                    if (document.getElementById(\"9f7176c2-b85c-41b6-a543-97d28ca13d49\")) {                    Plotly.newPlot(                        \"9f7176c2-b85c-41b6-a543-97d28ca13d49\",                        [{\"alignmentgroup\": \"True\", \"bingroup\": \"x\", \"histfunc\": \"sum\", \"hovertemplate\": \"POS=G<br>TEAM=Por<br>AGE=%{x}<br>sum of MPG=%{y}<extra></extra>\", \"legendgroup\": \"G\", \"marker\": {\"color\": \"#636efa\"}, \"name\": \"G\", \"offsetgroup\": \"G\", \"orientation\": \"v\", \"showlegend\": true, \"type\": \"histogram\", \"x\": [24.44, 30.24, 29.06, 21.35], \"xaxis\": \"x\", \"y\": [6.9, 35.7, 39.2, 20.5], \"yaxis\": \"y\"}, {\"alignmentgroup\": \"True\", \"bingroup\": \"x\", \"histfunc\": \"sum\", \"hovertemplate\": \"POS=G<br>TEAM=Okc<br>AGE=%{x}<br>sum of MPG=%{y}<extra></extra>\", \"legendgroup\": \"G\", \"marker\": {\"color\": \"#636efa\"}, \"name\": \"G\", \"offsetgroup\": \"G\", \"orientation\": \"v\", \"showlegend\": false, \"type\": \"histogram\", \"x\": [22.2, 21.48, 22.41, 35.44, 27.07], \"xaxis\": \"x2\", \"y\": [8.4, 29.2, 10.4, 37.3, 32.4], \"yaxis\": \"y2\"}, {\"alignmentgroup\": \"True\", \"bingroup\": \"x\", \"histfunc\": \"sum\", \"hovertemplate\": \"POS=G<br>TEAM=Mia<br>AGE=%{x}<br>sum of MPG=%{y}<extra></extra>\", \"legendgroup\": \"G\", \"marker\": {\"color\": \"#636efa\"}, \"name\": \"G\", \"offsetgroup\": \"G\", \"orientation\": \"v\", \"showlegend\": false, \"type\": \"histogram\", \"x\": [34.44, 20.73, 25.19, 24.33], \"xaxis\": \"x3\", \"y\": [32.5, 33.6, 15.9, 0.3], \"yaxis\": \"y3\"}, {\"alignmentgroup\": \"True\", \"bingroup\": \"x\", \"histfunc\": \"sum\", \"hovertemplate\": \"POS=G<br>TEAM=Bro<br>AGE=%{x}<br>sum of MPG=%{y}<extra></extra>\", \"legendgroup\": \"G\", \"marker\": {\"color\": \"#636efa\"}, \"name\": \"G\", \"offsetgroup\": \"G\", \"orientation\": \"v\", \"showlegend\": false, \"type\": \"histogram\", \"x\": [24.89, 28.43, 26.13, 24.31], \"xaxis\": \"x4\", \"y\": [16.2, 23.2, 34.9, 9.0], \"yaxis\": \"y4\"}, {\"alignmentgroup\": \"True\", \"bingroup\": \"x\", \"histfunc\": \"sum\", \"hovertemplate\": \"POS=G<br>TEAM=Mil<br>AGE=%{x}<br>sum of MPG=%{y}<extra></extra>\", \"legendgroup\": \"G\", \"marker\": {\"color\": \"#636efa\"}, \"name\": \"G\", \"offsetgroup\": \"G\", \"orientation\": \"v\", \"showlegend\": false, \"type\": \"histogram\", \"x\": [30.84, 27.76, 23.7, 34.44, 26.53, 34.0], \"xaxis\": \"x5\", \"y\": [29.7, 17.1, 16.5, 26.8, 1.1, 24.6], \"yaxis\": \"y5\"}, {\"alignmentgroup\": \"True\", \"bingroup\": \"x\", \"histfunc\": \"sum\", \"hovertemplate\": \"POS=G<br>TEAM=Tor<br>AGE=%{x}<br>sum of MPG=%{y}<extra></extra>\", \"legendgroup\": \"G\", \"marker\": {\"color\": \"#636efa\"}, \"name\": \"G\", \"offsetgroup\": \"G\", \"orientation\": \"v\", \"showlegend\": false, \"type\": \"histogram\", \"x\": [23.41, 34.55, 27.38, 26.19, 26.63, 25.78], \"xaxis\": \"x6\", \"y\": [14.0, 37.6, 24.8, 8.4, 39.1, 4.4], \"yaxis\": \"y6\"}, {\"alignmentgroup\": \"True\", \"bingroup\": \"x\", \"histfunc\": \"sum\", \"hovertemplate\": \"POS=G<br>TEAM=Orl<br>AGE=%{x}<br>sum of MPG=%{y}<extra></extra>\", \"legendgroup\": \"G\", \"marker\": {\"color\": \"#636efa\"}, \"name\": \"G\", \"offsetgroup\": \"G\", \"orientation\": \"v\", \"showlegend\": false, \"type\": \"histogram\", \"x\": [32.92, 22.37], \"xaxis\": \"x7\", \"y\": [25.6, 29.3], \"yaxis\": \"y7\"}, {\"alignmentgroup\": \"True\", \"bingroup\": \"x\", \"histfunc\": \"sum\", \"hovertemplate\": \"POS=G<br>TEAM=Dal<br>AGE=%{x}<br>sum of MPG=%{y}<extra></extra>\", \"legendgroup\": \"G\", \"marker\": {\"color\": \"#636efa\"}, \"name\": \"G\", \"offsetgroup\": \"G\", \"orientation\": \"v\", \"showlegend\": false, \"type\": \"histogram\", \"x\": [36.29, 27.91, 26.7, 30.14, 28.57, 28.46], \"xaxis\": \"x8\", \"y\": [5.2, 26.1, 4.6, 28.8, 33.9, 13.3], \"yaxis\": \"y8\"}, {\"alignmentgroup\": \"True\", \"bingroup\": \"x\", \"histfunc\": \"sum\", \"hovertemplate\": \"POS=G<br>TEAM=Den<br>AGE=%{x}<br>sum of MPG=%{y}<extra></extra>\", \"legendgroup\": \"G\", \"marker\": {\"color\": \"#636efa\"}, \"name\": \"G\", \"offsetgroup\": \"G\", \"orientation\": \"v\", \"showlegend\": false, \"type\": \"histogram\", \"x\": [26.08, 25.29, 23.63], \"xaxis\": \"x9\", \"y\": [27.1, 21.4, 39.6], \"yaxis\": \"y9\"}, {\"alignmentgroup\": \"True\", \"bingroup\": \"x\", \"histfunc\": \"sum\", \"hovertemplate\": \"POS=G<br>TEAM=Lac<br>AGE=%{x}<br>sum of MPG=%{y}<extra></extra>\", \"legendgroup\": \"G\", \"marker\": {\"color\": \"#636efa\"}, \"name\": \"G\", \"offsetgroup\": \"G\", \"orientation\": \"v\", \"showlegend\": false, \"type\": \"histogram\", \"x\": [32.25, 30.49, 29.21, 23.58, 33.96], \"xaxis\": \"x10\", \"y\": [20.8, 14.2, 3.1, 18.7, 26.2], \"yaxis\": \"y10\"}, {\"alignmentgroup\": \"True\", \"bingroup\": \"x\", \"histfunc\": \"sum\", \"hovertemplate\": \"POS=G<br>TEAM=Uta<br>AGE=%{x}<br>sum of MPG=%{y}<extra></extra>\", \"legendgroup\": \"G\", \"marker\": {\"color\": \"#636efa\"}, \"name\": \"G\", \"offsetgroup\": \"G\", \"orientation\": \"v\", \"showlegend\": false, \"type\": \"histogram\", \"x\": [28.35, 33.0, 24.09, 24.6, 23.05, 26.07], \"xaxis\": \"x11\", \"y\": [28.6, 33.0, 37.7, 11.3, 5.6, 2.4], \"yaxis\": \"y11\"}, {\"alignmentgroup\": \"True\", \"bingroup\": \"x\", \"histfunc\": \"sum\", \"hovertemplate\": \"POS=G<br>TEAM=Ind<br>AGE=%{x}<br>sum of MPG=%{y}<extra></extra>\", \"legendgroup\": \"G\", \"marker\": {\"color\": \"#636efa\"}, \"name\": \"G\", \"offsetgroup\": \"G\", \"orientation\": \"v\", \"showlegend\": false, \"type\": \"histogram\", \"x\": [27.83, 24.03, 28.55, 28.44, 24.78], \"xaxis\": \"x12\", \"y\": [40.0, 18.0, 9.3, 30.6, 13.5], \"yaxis\": \"y12\"}, {\"alignmentgroup\": \"True\", \"bingroup\": \"x\", \"histfunc\": \"sum\", \"hovertemplate\": \"POS=G<br>TEAM=Bos<br>AGE=%{x}<br>sum of MPG=%{y}<extra></extra>\", \"legendgroup\": \"G\", \"marker\": {\"color\": \"#636efa\"}, \"name\": \"G\", \"offsetgroup\": \"G\", \"orientation\": \"v\", \"showlegend\": false, \"type\": \"histogram\", \"x\": [22.59, 26.6, 30.43, 31.22, 22.75], \"xaxis\": \"x13\", \"y\": [3.5, 38.1, 36.9, 16.0, 2.4], \"yaxis\": \"y13\"}, {\"alignmentgroup\": \"True\", \"bingroup\": \"x\", \"histfunc\": \"sum\", \"hovertemplate\": \"POS=G<br>TEAM=Phi<br>AGE=%{x}<br>sum of MPG=%{y}<extra></extra>\", \"legendgroup\": \"G\", \"marker\": {\"color\": \"#636efa\"}, \"name\": \"G\", \"offsetgroup\": \"G\", \"orientation\": \"v\", \"showlegend\": false, \"type\": \"histogram\", \"x\": [29.23, 28.4, 27.07], \"xaxis\": \"x14\", \"y\": [23.7, 12.9, 36.1], \"yaxis\": \"y14\"}, {\"alignmentgroup\": \"True\", \"bingroup\": \"x\", \"histfunc\": \"sum\", \"hovertemplate\": \"POS=G<br>TEAM=Hou<br>AGE=%{x}<br>sum of MPG=%{y}<extra></extra>\", \"legendgroup\": \"G\", \"marker\": {\"color\": \"#636efa\"}, \"name\": \"G\", \"offsetgroup\": \"G\", \"orientation\": \"v\", \"showlegend\": false, \"type\": \"histogram\", \"x\": [23.22, 26.6, 31.8, 31.13, 27.67, 28.2, 31.91], \"xaxis\": \"x15\", \"y\": [4.1, 2.9, 34.1, 37.3, 11.8, 17.6, 32.7], \"yaxis\": \"y15\"}, {\"alignmentgroup\": \"True\", \"bingroup\": \"x\", \"histfunc\": \"sum\", \"hovertemplate\": \"POS=G<br>TEAM=Lal<br>AGE=%{x}<br>sum of MPG=%{y}<extra></extra>\", \"legendgroup\": \"G\", \"marker\": {\"color\": \"#636efa\"}, \"name\": \"G\", \"offsetgroup\": \"G\", \"orientation\": \"v\", \"showlegend\": false, \"type\": \"histogram\", \"x\": [27.65, 26.62, 27.56, 33.31, 19.88, 34.64, 35.09, 28.84], \"xaxis\": \"x16\", \"y\": [29.0, 24.3, 4.1, 25.0, 8.5, 24.7, 7.5, 7.6], \"yaxis\": \"y16\"}, {\"alignmentgroup\": \"True\", \"bingroup\": \"x\", \"histfunc\": \"sum\", \"hovertemplate\": \"POS=C<br>TEAM=Por<br>AGE=%{x}<br>sum of MPG=%{y}<extra></extra>\", \"legendgroup\": \"C\", \"marker\": {\"color\": \"#EF553B\"}, \"name\": \"C\", \"offsetgroup\": \"C\", \"orientation\": \"v\", \"showlegend\": true, \"type\": \"histogram\", \"x\": [26.14, 31.33], \"xaxis\": \"x\", \"y\": [32.3, 21.2], \"yaxis\": \"y\"}, {\"alignmentgroup\": \"True\", \"bingroup\": \"x\", \"histfunc\": \"sum\", \"hovertemplate\": \"POS=C<br>TEAM=Okc<br>AGE=%{x}<br>sum of MPG=%{y}<extra></extra>\", \"legendgroup\": \"C\", \"marker\": {\"color\": \"#EF553B\"}, \"name\": \"C\", \"offsetgroup\": \"C\", \"orientation\": \"v\", \"showlegend\": false, \"type\": \"histogram\", \"x\": [27.23], \"xaxis\": \"x2\", \"y\": [30.0], \"yaxis\": \"y2\"}, {\"alignmentgroup\": \"True\", \"bingroup\": \"x\", \"histfunc\": \"sum\", \"hovertemplate\": \"POS=C<br>TEAM=Mia<br>AGE=%{x}<br>sum of MPG=%{y}<extra></extra>\", \"legendgroup\": \"C\", \"marker\": {\"color\": \"#EF553B\"}, \"name\": \"C\", \"offsetgroup\": \"C\", \"orientation\": \"v\", \"showlegend\": false, \"type\": \"histogram\", \"x\": [28.62, 29.48], \"xaxis\": \"x3\", \"y\": [10.3, 15.2], \"yaxis\": \"y3\"}, {\"alignmentgroup\": \"True\", \"bingroup\": \"x\", \"histfunc\": \"sum\", \"hovertemplate\": \"POS=C<br>TEAM=Bro<br>AGE=%{x}<br>sum of MPG=%{y}<extra></extra>\", \"legendgroup\": \"C\", \"marker\": {\"color\": \"#EF553B\"}, \"name\": \"C\", \"offsetgroup\": \"C\", \"orientation\": \"v\", \"showlegend\": false, \"type\": \"histogram\", \"x\": [22.48], \"xaxis\": \"x4\", \"y\": [33.1], \"yaxis\": \"y4\"}, {\"alignmentgroup\": \"True\", \"bingroup\": \"x\", \"histfunc\": \"sum\", \"hovertemplate\": \"POS=C<br>TEAM=Mil<br>AGE=%{x}<br>sum of MPG=%{y}<extra></extra>\", \"legendgroup\": \"C\", \"marker\": {\"color\": \"#EF553B\"}, \"name\": \"C\", \"offsetgroup\": \"C\", \"orientation\": \"v\", \"showlegend\": false, \"type\": \"histogram\", \"x\": [32.53, 32.53], \"xaxis\": \"x5\", \"y\": [32.8, 6.9], \"yaxis\": \"y5\"}, {\"alignmentgroup\": \"True\", \"bingroup\": \"x\", \"histfunc\": \"sum\", \"hovertemplate\": \"POS=C<br>TEAM=Tor<br>AGE=%{x}<br>sum of MPG=%{y}<extra></extra>\", \"legendgroup\": \"C\", \"marker\": {\"color\": \"#EF553B\"}, \"name\": \"C\", \"offsetgroup\": \"C\", \"orientation\": \"v\", \"showlegend\": false, \"type\": \"histogram\", \"x\": [35.7], \"xaxis\": \"x6\", \"y\": [20.7], \"yaxis\": \"y6\"}, {\"alignmentgroup\": \"True\", \"bingroup\": \"x\", \"histfunc\": \"sum\", \"hovertemplate\": \"POS=C<br>TEAM=Orl<br>AGE=%{x}<br>sum of MPG=%{y}<extra></extra>\", \"legendgroup\": \"C\", \"marker\": {\"color\": \"#EF553B\"}, \"name\": \"C\", \"offsetgroup\": \"C\", \"orientation\": \"v\", \"showlegend\": false, \"type\": \"histogram\", \"x\": [28.04, 29.97], \"xaxis\": \"x7\", \"y\": [17.9, 36.9], \"yaxis\": \"y7\"}, {\"alignmentgroup\": \"True\", \"bingroup\": \"x\", \"histfunc\": \"sum\", \"hovertemplate\": \"POS=C<br>TEAM=Dal<br>AGE=%{x}<br>sum of MPG=%{y}<extra></extra>\", \"legendgroup\": \"C\", \"marker\": {\"color\": \"#EF553B\"}, \"name\": \"C\", \"offsetgroup\": \"C\", \"orientation\": \"v\", \"showlegend\": false, \"type\": \"histogram\", \"x\": [32.16], \"xaxis\": \"x8\", \"y\": [13.7], \"yaxis\": \"y8\"}, {\"alignmentgroup\": \"True\", \"bingroup\": \"x\", \"histfunc\": \"sum\", \"hovertemplate\": \"POS=C<br>TEAM=Den<br>AGE=%{x}<br>sum of MPG=%{y}<extra></extra>\", \"legendgroup\": \"C\", \"marker\": {\"color\": \"#EF553B\"}, \"name\": \"C\", \"offsetgroup\": \"C\", \"orientation\": \"v\", \"showlegend\": false, \"type\": \"histogram\", \"x\": [25.64], \"xaxis\": \"x9\", \"y\": [36.5], \"yaxis\": \"y9\"}, {\"alignmentgroup\": \"True\", \"bingroup\": \"x\", \"histfunc\": \"sum\", \"hovertemplate\": \"POS=C<br>TEAM=Lac<br>AGE=%{x}<br>sum of MPG=%{y}<extra></extra>\", \"legendgroup\": \"C\", \"marker\": {\"color\": \"#EF553B\"}, \"name\": \"C\", \"offsetgroup\": \"C\", \"orientation\": \"v\", \"showlegend\": false, \"type\": \"histogram\", \"x\": [23.57], \"xaxis\": \"x10\", \"y\": [24.6], \"yaxis\": \"y10\"}, {\"alignmentgroup\": \"True\", \"bingroup\": \"x\", \"histfunc\": \"sum\", \"hovertemplate\": \"POS=C<br>TEAM=Uta<br>AGE=%{x}<br>sum of MPG=%{y}<extra></extra>\", \"legendgroup\": \"C\", \"marker\": {\"color\": \"#EF553B\"}, \"name\": \"C\", \"offsetgroup\": \"C\", \"orientation\": \"v\", \"showlegend\": false, \"type\": \"histogram\", \"x\": [28.29], \"xaxis\": \"x11\", \"y\": [38.6], \"yaxis\": \"y11\"}, {\"alignmentgroup\": \"True\", \"bingroup\": \"x\", \"histfunc\": \"sum\", \"hovertemplate\": \"POS=C<br>TEAM=Bos<br>AGE=%{x}<br>sum of MPG=%{y}<extra></extra>\", \"legendgroup\": \"C\", \"marker\": {\"color\": \"#EF553B\"}, \"name\": \"C\", \"offsetgroup\": \"C\", \"orientation\": \"v\", \"showlegend\": false, \"type\": \"histogram\", \"x\": [24.84, 28.39], \"xaxis\": \"x13\", \"y\": [1.4, 10.3], \"yaxis\": \"y13\"}, {\"alignmentgroup\": \"True\", \"bingroup\": \"x\", \"histfunc\": \"sum\", \"hovertemplate\": \"POS=C-F<br>TEAM=Okc<br>AGE=%{x}<br>sum of MPG=%{y}<extra></extra>\", \"legendgroup\": \"C-F\", \"marker\": {\"color\": \"#00cc96\"}, \"name\": \"C-F\", \"offsetgroup\": \"C-F\", \"orientation\": \"v\", \"showlegend\": true, \"type\": \"histogram\", \"x\": [26.51], \"xaxis\": \"x2\", \"y\": [13.9], \"yaxis\": \"y2\"}, {\"alignmentgroup\": \"True\", \"bingroup\": \"x\", \"histfunc\": \"sum\", \"hovertemplate\": \"POS=C-F<br>TEAM=Mia<br>AGE=%{x}<br>sum of MPG=%{y}<extra></extra>\", \"legendgroup\": \"C-F\", \"marker\": {\"color\": \"#00cc96\"}, \"name\": \"C-F\", \"offsetgroup\": \"C-F\", \"orientation\": \"v\", \"showlegend\": false, \"type\": \"histogram\", \"x\": [23.24], \"xaxis\": \"x3\", \"y\": [36.2], \"yaxis\": \"y3\"}, {\"alignmentgroup\": \"True\", \"bingroup\": \"x\", \"histfunc\": \"sum\", \"hovertemplate\": \"POS=C-F<br>TEAM=Den<br>AGE=%{x}<br>sum of MPG=%{y}<extra></extra>\", \"legendgroup\": \"C-F\", \"marker\": {\"color\": \"#00cc96\"}, \"name\": \"C-F\", \"offsetgroup\": \"C-F\", \"orientation\": \"v\", \"showlegend\": false, \"type\": \"histogram\", \"x\": [20.9], \"xaxis\": \"x9\", \"y\": [5.4], \"yaxis\": \"y9\"}, {\"alignmentgroup\": \"True\", \"bingroup\": \"x\", \"histfunc\": \"sum\", \"hovertemplate\": \"POS=C-F<br>TEAM=Uta<br>AGE=%{x}<br>sum of MPG=%{y}<extra></extra>\", \"legendgroup\": \"C-F\", \"marker\": {\"color\": \"#00cc96\"}, \"name\": \"C-F\", \"offsetgroup\": \"C-F\", \"orientation\": \"v\", \"showlegend\": false, \"type\": \"histogram\", \"x\": [22.67], \"xaxis\": \"x11\", \"y\": [8.1], \"yaxis\": \"y11\"}, {\"alignmentgroup\": \"True\", \"bingroup\": \"x\", \"histfunc\": \"sum\", \"hovertemplate\": \"POS=C-F<br>TEAM=Ind<br>AGE=%{x}<br>sum of MPG=%{y}<extra></extra>\", \"legendgroup\": \"C-F\", \"marker\": {\"color\": \"#00cc96\"}, \"name\": \"C-F\", \"offsetgroup\": \"C-F\", \"orientation\": \"v\", \"showlegend\": false, \"type\": \"histogram\", \"x\": [24.55], \"xaxis\": \"x12\", \"y\": [36.4], \"yaxis\": \"y12\"}, {\"alignmentgroup\": \"True\", \"bingroup\": \"x\", \"histfunc\": \"sum\", \"hovertemplate\": \"POS=C-F<br>TEAM=Bos<br>AGE=%{x}<br>sum of MPG=%{y}<extra></extra>\", \"legendgroup\": \"C-F\", \"marker\": {\"color\": \"#00cc96\"}, \"name\": \"C-F\", \"offsetgroup\": \"C-F\", \"orientation\": \"v\", \"showlegend\": false, \"type\": \"histogram\", \"x\": [26.96, 22.99], \"xaxis\": \"x13\", \"y\": [1.8, 11.5], \"yaxis\": \"y13\"}, {\"alignmentgroup\": \"True\", \"bingroup\": \"x\", \"histfunc\": \"sum\", \"hovertemplate\": \"POS=C-F<br>TEAM=Phi<br>AGE=%{x}<br>sum of MPG=%{y}<extra></extra>\", \"legendgroup\": \"C-F\", \"marker\": {\"color\": \"#00cc96\"}, \"name\": \"C-F\", \"offsetgroup\": \"C-F\", \"orientation\": \"v\", \"showlegend\": false, \"type\": \"histogram\", \"x\": [26.58, 34.36, 30.55], \"xaxis\": \"x14\", \"y\": [36.2, 32.1, 5.7], \"yaxis\": \"y14\"}, {\"alignmentgroup\": \"True\", \"bingroup\": \"x\", \"histfunc\": \"sum\", \"hovertemplate\": \"POS=C-F<br>TEAM=Lal<br>AGE=%{x}<br>sum of MPG=%{y}<extra></extra>\", \"legendgroup\": \"C-F\", \"marker\": {\"color\": \"#00cc96\"}, \"name\": \"C-F\", \"offsetgroup\": \"C-F\", \"orientation\": \"v\", \"showlegend\": false, \"type\": \"histogram\", \"x\": [34.84, 32.73], \"xaxis\": \"x16\", \"y\": [15.7, 9.7], \"yaxis\": \"y16\"}, {\"alignmentgroup\": \"True\", \"bingroup\": \"x\", \"histfunc\": \"sum\", \"hovertemplate\": \"POS=F-G<br>TEAM=Por<br>AGE=%{x}<br>sum of MPG=%{y}<extra></extra>\", \"legendgroup\": \"F-G\", \"marker\": {\"color\": \"#ab63fa\"}, \"name\": \"F-G\", \"offsetgroup\": \"F-G\", \"orientation\": \"v\", \"showlegend\": true, \"type\": \"histogram\", \"x\": [25.63], \"xaxis\": \"x\", \"y\": [13.6], \"yaxis\": \"y\"}, {\"alignmentgroup\": \"True\", \"bingroup\": \"x\", \"histfunc\": \"sum\", \"hovertemplate\": \"POS=F-G<br>TEAM=Okc<br>AGE=%{x}<br>sum of MPG=%{y}<extra></extra>\", \"legendgroup\": \"F-G\", \"marker\": {\"color\": \"#ab63fa\"}, \"name\": \"F-G\", \"offsetgroup\": \"F-G\", \"orientation\": \"v\", \"showlegend\": false, \"type\": \"histogram\", \"x\": [20.33], \"xaxis\": \"x2\", \"y\": [18.0], \"yaxis\": \"y2\"}, {\"alignmentgroup\": \"True\", \"bingroup\": \"x\", \"histfunc\": \"sum\", \"hovertemplate\": \"POS=F-G<br>TEAM=Bro<br>AGE=%{x}<br>sum of MPG=%{y}<extra></extra>\", \"legendgroup\": \"F-G\", \"marker\": {\"color\": \"#ab63fa\"}, \"name\": \"F-G\", \"offsetgroup\": \"F-G\", \"orientation\": \"v\", \"showlegend\": false, \"type\": \"histogram\", \"x\": [26.9], \"xaxis\": \"x4\", \"y\": [9.4], \"yaxis\": \"y4\"}, {\"alignmentgroup\": \"True\", \"bingroup\": \"x\", \"histfunc\": \"sum\", \"hovertemplate\": \"POS=F-G<br>TEAM=Tor<br>AGE=%{x}<br>sum of MPG=%{y}<extra></extra>\", \"legendgroup\": \"F-G\", \"marker\": {\"color\": \"#ab63fa\"}, \"name\": \"F-G\", \"offsetgroup\": \"F-G\", \"orientation\": \"v\", \"showlegend\": false, \"type\": \"histogram\", \"x\": [24.37], \"xaxis\": \"x6\", \"y\": [6.7], \"yaxis\": \"y6\"}, {\"alignmentgroup\": \"True\", \"bingroup\": \"x\", \"histfunc\": \"sum\", \"hovertemplate\": \"POS=F-G<br>TEAM=Uta<br>AGE=%{x}<br>sum of MPG=%{y}<extra></extra>\", \"legendgroup\": \"F-G\", \"marker\": {\"color\": \"#ab63fa\"}, \"name\": \"F-G\", \"offsetgroup\": \"F-G\", \"orientation\": \"v\", \"showlegend\": false, \"type\": \"histogram\", \"x\": [33.03], \"xaxis\": \"x11\", \"y\": [33.5], \"yaxis\": \"y11\"}, {\"alignmentgroup\": \"True\", \"bingroup\": \"x\", \"histfunc\": \"sum\", \"hovertemplate\": \"POS=F-G<br>TEAM=Ind<br>AGE=%{x}<br>sum of MPG=%{y}<extra></extra>\", \"legendgroup\": \"F-G\", \"marker\": {\"color\": \"#ab63fa\"}, \"name\": \"F-G\", \"offsetgroup\": \"F-G\", \"orientation\": \"v\", \"showlegend\": false, \"type\": \"histogram\", \"x\": [31.52], \"xaxis\": \"x12\", \"y\": [32.8], \"yaxis\": \"y12\"}, {\"alignmentgroup\": \"True\", \"bingroup\": \"x\", \"histfunc\": \"sum\", \"hovertemplate\": \"POS=F-G<br>TEAM=Bos<br>AGE=%{x}<br>sum of MPG=%{y}<extra></extra>\", \"legendgroup\": \"F-G\", \"marker\": {\"color\": \"#ab63fa\"}, \"name\": \"F-G\", \"offsetgroup\": \"F-G\", \"orientation\": \"v\", \"showlegend\": false, \"type\": \"histogram\", \"x\": [23.97, 22.61], \"xaxis\": \"x13\", \"y\": [39.5, 40.6], \"yaxis\": \"y13\"}, {\"alignmentgroup\": \"True\", \"bingroup\": \"x\", \"histfunc\": \"sum\", \"hovertemplate\": \"POS=F-G<br>TEAM=Hou<br>AGE=%{x}<br>sum of MPG=%{y}<extra></extra>\", \"legendgroup\": \"F-G\", \"marker\": {\"color\": \"#ab63fa\"}, \"name\": \"F-G\", \"offsetgroup\": \"F-G\", \"orientation\": \"v\", \"showlegend\": false, \"type\": \"histogram\", \"x\": [27.35], \"xaxis\": \"x15\", \"y\": [31.0], \"yaxis\": \"y15\"}, {\"alignmentgroup\": \"True\", \"bingroup\": \"x\", \"histfunc\": \"sum\", \"hovertemplate\": \"POS=F<br>TEAM=Por<br>AGE=%{x}<br>sum of MPG=%{y}<extra></extra>\", \"legendgroup\": \"F\", \"marker\": {\"color\": \"#FFA15A\"}, \"name\": \"F\", \"offsetgroup\": \"F\", \"orientation\": \"v\", \"showlegend\": true, \"type\": \"histogram\", \"x\": [36.37, 23.55, 21.54], \"xaxis\": \"x\", \"y\": [35.1, 13.3, 13.8], \"yaxis\": \"y\"}, {\"alignmentgroup\": \"True\", \"bingroup\": \"x\", \"histfunc\": \"sum\", \"hovertemplate\": \"POS=F<br>TEAM=Okc<br>AGE=%{x}<br>sum of MPG=%{y}<extra></extra>\", \"legendgroup\": \"F\", \"marker\": {\"color\": \"#FFA15A\"}, \"name\": \"F\", \"offsetgroup\": \"F\", \"orientation\": \"v\", \"showlegend\": false, \"type\": \"histogram\", \"x\": [32.18, 27.05], \"xaxis\": \"x2\", \"y\": [30.3, 8.5], \"yaxis\": \"y2\"}, {\"alignmentgroup\": \"True\", \"bingroup\": \"x\", \"histfunc\": \"sum\", \"hovertemplate\": \"POS=F<br>TEAM=Mia<br>AGE=%{x}<br>sum of MPG=%{y}<extra></extra>\", \"legendgroup\": \"F\", \"marker\": {\"color\": \"#FFA15A\"}, \"name\": \"F\", \"offsetgroup\": \"F\", \"orientation\": \"v\", \"showlegend\": false, \"type\": \"histogram\", \"x\": [31.08, 30.27, 29.57, 23.66, 26.47], \"xaxis\": \"x3\", \"y\": [38.4, 31.4, 6.0, 6.5, 28.6], \"yaxis\": \"y3\"}, {\"alignmentgroup\": \"True\", \"bingroup\": \"x\", \"histfunc\": \"sum\", \"hovertemplate\": \"POS=F<br>TEAM=Bro<br>AGE=%{x}<br>sum of MPG=%{y}<extra></extra>\", \"legendgroup\": \"F\", \"marker\": {\"color\": \"#FFA15A\"}, \"name\": \"F\", \"offsetgroup\": \"F\", \"orientation\": \"v\", \"showlegend\": false, \"type\": \"histogram\", \"x\": [23.18, 22.68, 32.47], \"xaxis\": \"x4\", \"y\": [6.6, 14.6, 5.7], \"yaxis\": \"y4\"}, {\"alignmentgroup\": \"True\", \"bingroup\": \"x\", \"histfunc\": \"sum\", \"hovertemplate\": \"POS=F<br>TEAM=Mil<br>AGE=%{x}<br>sum of MPG=%{y}<extra></extra>\", \"legendgroup\": \"F\", \"marker\": {\"color\": \"#FFA15A\"}, \"name\": \"F\", \"offsetgroup\": \"F\", \"orientation\": \"v\", \"showlegend\": false, \"type\": \"histogram\", \"x\": [25.85, 33.41, 29.17, 34.32], \"xaxis\": \"x5\", \"y\": [30.8, 7.8, 35.5, 17.9], \"yaxis\": \"y5\"}, {\"alignmentgroup\": \"True\", \"bingroup\": \"x\", \"histfunc\": \"sum\", \"hovertemplate\": \"POS=F<br>TEAM=Tor<br>AGE=%{x}<br>sum of MPG=%{y}<extra></extra>\", \"legendgroup\": \"F\", \"marker\": {\"color\": \"#FFA15A\"}, \"name\": \"F\", \"offsetgroup\": \"F\", \"orientation\": \"v\", \"showlegend\": false, \"type\": \"histogram\", \"x\": [23.24, 25.77, 31.07, 26.53], \"xaxis\": \"x6\", \"y\": [35.7, 7.7, 22.9, 38.0], \"yaxis\": \"y6\"}, {\"alignmentgroup\": \"True\", \"bingroup\": \"x\", \"histfunc\": \"sum\", \"hovertemplate\": \"POS=F<br>TEAM=Orl<br>AGE=%{x}<br>sum of MPG=%{y}<extra></extra>\", \"legendgroup\": \"F\", \"marker\": {\"color\": \"#FFA15A\"}, \"name\": \"F\", \"offsetgroup\": \"F\", \"orientation\": \"v\", \"showlegend\": false, \"type\": \"histogram\", \"x\": [25.9, 30.28, 25.81, 24.81, 24.81], \"xaxis\": \"x7\", \"y\": [28.7, 23.8, 15.2, 3.6, 3.6], \"yaxis\": \"y7\"}, {\"alignmentgroup\": \"True\", \"bingroup\": \"x\", \"histfunc\": \"sum\", \"hovertemplate\": \"POS=F<br>TEAM=Dal<br>AGE=%{x}<br>sum of MPG=%{y}<extra></extra>\", \"legendgroup\": \"F\", \"marker\": {\"color\": \"#FFA15A\"}, \"name\": \"F\", \"offsetgroup\": \"F\", \"orientation\": \"v\", \"showlegend\": false, \"type\": \"histogram\", \"x\": [27.44, 25.54, 27.04, 28.7], \"xaxis\": \"x8\", \"y\": [31.8, 5.3, 9.2, 33.9], \"yaxis\": \"y8\"}, {\"alignmentgroup\": \"True\", \"bingroup\": \"x\", \"histfunc\": \"sum\", \"hovertemplate\": \"POS=F<br>TEAM=Den<br>AGE=%{x}<br>sum of MPG=%{y}<extra></extra>\", \"legendgroup\": \"F\", \"marker\": {\"color\": \"#FFA15A\"}, \"name\": \"F\", \"offsetgroup\": \"F\", \"orientation\": \"v\", \"showlegend\": false, \"type\": \"histogram\", \"x\": [24.72, 23.05, 29.81, 29.24, 26.59, 35.67, 22.29, 25.13], \"xaxis\": \"x9\", \"y\": [4.7, 4.2, 19.8, 5.0, 34.4, 24.2, 23.7, 3.1], \"yaxis\": \"y9\"}, {\"alignmentgroup\": \"True\", \"bingroup\": \"x\", \"histfunc\": \"sum\", \"hovertemplate\": \"POS=F<br>TEAM=Lac<br>AGE=%{x}<br>sum of MPG=%{y}<extra></extra>\", \"legendgroup\": \"F\", \"marker\": {\"color\": \"#FFA15A\"}, \"name\": \"F\", \"offsetgroup\": \"F\", \"orientation\": \"v\", \"showlegend\": false, \"type\": \"histogram\", \"x\": [30.45, 29.29, 31.11, 31.58], \"xaxis\": \"x10\", \"y\": [36.8, 39.3, 29.9, 4.9], \"yaxis\": \"y10\"}, {\"alignmentgroup\": \"True\", \"bingroup\": \"x\", \"histfunc\": \"sum\", \"hovertemplate\": \"POS=F<br>TEAM=Uta<br>AGE=%{x}<br>sum of MPG=%{y}<extra></extra>\", \"legendgroup\": \"F\", \"marker\": {\"color\": \"#FFA15A\"}, \"name\": \"F\", \"offsetgroup\": \"F\", \"orientation\": \"v\", \"showlegend\": false, \"type\": \"histogram\", \"x\": [24.35, 23.49, 27.32, 27.35], \"xaxis\": \"x11\", \"y\": [6.5, 12.3, 16.3, 35.5], \"yaxis\": \"y11\"}, {\"alignmentgroup\": \"True\", \"bingroup\": \"x\", \"histfunc\": \"sum\", \"hovertemplate\": \"POS=F<br>TEAM=Ind<br>AGE=%{x}<br>sum of MPG=%{y}<extra></extra>\", \"legendgroup\": \"F\", \"marker\": {\"color\": \"#FFA15A\"}, \"name\": \"F\", \"offsetgroup\": \"F\", \"orientation\": \"v\", \"showlegend\": false, \"type\": \"histogram\", \"x\": [24.47, 28.77, 27.56, 27.1], \"xaxis\": \"x12\", \"y\": [0.2, 13.6, 12.5, 39.1], \"yaxis\": \"y12\"}, {\"alignmentgroup\": \"True\", \"bingroup\": \"x\", \"histfunc\": \"sum\", \"hovertemplate\": \"POS=F<br>TEAM=Bos<br>AGE=%{x}<br>sum of MPG=%{y}<extra></extra>\", \"legendgroup\": \"F\", \"marker\": {\"color\": \"#FFA15A\"}, \"name\": \"F\", \"offsetgroup\": \"F\", \"orientation\": \"v\", \"showlegend\": false, \"type\": \"histogram\", \"x\": [30.56, 25.85, 28.52, 21.87], \"xaxis\": \"x13\", \"y\": [31.4, 9.4, 28.3, 10.0], \"yaxis\": \"y13\"}, {\"alignmentgroup\": \"True\", \"bingroup\": \"x\", \"histfunc\": \"sum\", \"hovertemplate\": \"POS=F<br>TEAM=Phi<br>AGE=%{x}<br>sum of MPG=%{y}<extra></extra>\", \"legendgroup\": \"F\", \"marker\": {\"color\": \"#FFA15A\"}, \"name\": \"F\", \"offsetgroup\": \"F\", \"orientation\": \"v\", \"showlegend\": false, \"type\": \"histogram\", \"x\": [28.24, 27.69, 32.24], \"xaxis\": \"x14\", \"y\": [37.2, 6.5, 5.0], \"yaxis\": \"y14\"}, {\"alignmentgroup\": \"True\", \"bingroup\": \"x\", \"histfunc\": \"sum\", \"hovertemplate\": \"POS=F<br>TEAM=Hou<br>AGE=%{x}<br>sum of MPG=%{y}<extra></extra>\", \"legendgroup\": \"F\", \"marker\": {\"color\": \"#FFA15A\"}, \"name\": \"F\", \"offsetgroup\": \"F\", \"orientation\": \"v\", \"showlegend\": false, \"type\": \"histogram\", \"x\": [25.06, 34.21, 29.83, 34.12, 35.44], \"xaxis\": \"x15\", \"y\": [3.3, 2.9, 31.6, 28.4, 34.5], \"yaxis\": \"y15\"}, {\"alignmentgroup\": \"True\", \"bingroup\": \"x\", \"histfunc\": \"sum\", \"hovertemplate\": \"POS=F<br>TEAM=Lal<br>AGE=%{x}<br>sum of MPG=%{y}<extra></extra>\", \"legendgroup\": \"F\", \"marker\": {\"color\": \"#FFA15A\"}, \"name\": \"F\", \"offsetgroup\": \"F\", \"orientation\": \"v\", \"showlegend\": false, \"type\": \"histogram\", \"x\": [35.26, 35.78, 25.22, 31.11], \"xaxis\": \"x16\", \"y\": [3.4, 36.3, 23.0, 18.4], \"yaxis\": \"y16\"}, {\"alignmentgroup\": \"True\", \"bingroup\": \"x\", \"histfunc\": \"sum\", \"hovertemplate\": \"POS=F-C<br>TEAM=Okc<br>AGE=%{x}<br>sum of MPG=%{y}<extra></extra>\", \"legendgroup\": \"F-C\", \"marker\": {\"color\": \"#19d3f3\"}, \"name\": \"F-C\", \"offsetgroup\": \"F-C\", \"orientation\": \"v\", \"showlegend\": true, \"type\": \"histogram\", \"x\": [29.28], \"xaxis\": \"x2\", \"y\": [9.9], \"yaxis\": \"y2\"}, {\"alignmentgroup\": \"True\", \"bingroup\": \"x\", \"histfunc\": \"sum\", \"hovertemplate\": \"POS=F-C<br>TEAM=Tor<br>AGE=%{x}<br>sum of MPG=%{y}<extra></extra>\", \"legendgroup\": \"F-C\", \"marker\": {\"color\": \"#19d3f3\"}, \"name\": \"F-C\", \"offsetgroup\": \"F-C\", \"orientation\": \"v\", \"showlegend\": false, \"type\": \"histogram\", \"x\": [27.75], \"xaxis\": \"x6\", \"y\": [6.1], \"yaxis\": \"y6\"}, {\"alignmentgroup\": \"True\", \"bingroup\": \"x\", \"histfunc\": \"sum\", \"hovertemplate\": \"POS=F-C<br>TEAM=Dal<br>AGE=%{x}<br>sum of MPG=%{y}<extra></extra>\", \"legendgroup\": \"F-C\", \"marker\": {\"color\": \"#19d3f3\"}, \"name\": \"F-C\", \"offsetgroup\": \"F-C\", \"orientation\": \"v\", \"showlegend\": false, \"type\": \"histogram\", \"x\": [25.2], \"xaxis\": \"x8\", \"y\": [31.5], \"yaxis\": \"y8\"}, {\"alignmentgroup\": \"True\", \"bingroup\": \"x\", \"histfunc\": \"sum\", \"hovertemplate\": \"POS=F-C<br>TEAM=Den<br>AGE=%{x}<br>sum of MPG=%{y}<extra></extra>\", \"legendgroup\": \"F-C\", \"marker\": {\"color\": \"#19d3f3\"}, \"name\": \"F-C\", \"offsetgroup\": \"F-C\", \"orientation\": \"v\", \"showlegend\": false, \"type\": \"histogram\", \"x\": [30.61], \"xaxis\": \"x9\", \"y\": [10.9], \"yaxis\": \"y9\"}, {\"alignmentgroup\": \"True\", \"bingroup\": \"x\", \"histfunc\": \"sum\", \"hovertemplate\": \"POS=F-C<br>TEAM=Lac<br>AGE=%{x}<br>sum of MPG=%{y}<extra></extra>\", \"legendgroup\": \"F-C\", \"marker\": {\"color\": \"#19d3f3\"}, \"name\": \"F-C\", \"offsetgroup\": \"F-C\", \"orientation\": \"v\", \"showlegend\": false, \"type\": \"histogram\", \"x\": [30.31, 26.71, 35.63], \"xaxis\": \"x10\", \"y\": [17.1, 18.7, 1.0], \"yaxis\": \"y10\"}, {\"alignmentgroup\": \"True\", \"bingroup\": \"x\", \"histfunc\": \"sum\", \"hovertemplate\": \"POS=F-C<br>TEAM=Lal<br>AGE=%{x}<br>sum of MPG=%{y}<extra></extra>\", \"legendgroup\": \"F-C\", \"marker\": {\"color\": \"#19d3f3\"}, \"name\": \"F-C\", \"offsetgroup\": \"F-C\", \"orientation\": \"v\", \"showlegend\": false, \"type\": \"histogram\", \"x\": [27.59], \"xaxis\": \"x16\", \"y\": [36.6], \"yaxis\": \"y16\"}, {\"alignmentgroup\": \"True\", \"bingroup\": \"x\", \"histfunc\": \"sum\", \"hovertemplate\": \"POS=G-F<br>TEAM=Por<br>AGE=%{x}<br>sum of MPG=%{y}<extra></extra>\", \"legendgroup\": \"G-F\", \"marker\": {\"color\": \"#FF6692\"}, \"name\": \"G-F\", \"offsetgroup\": \"G-F\", \"orientation\": \"v\", \"showlegend\": true, \"type\": \"histogram\", \"x\": [21.73], \"xaxis\": \"x\", \"y\": [30.6], \"yaxis\": \"y\"}, {\"alignmentgroup\": \"True\", \"bingroup\": \"x\", \"histfunc\": \"sum\", \"hovertemplate\": \"POS=G-F<br>TEAM=Okc<br>AGE=%{x}<br>sum of MPG=%{y}<extra></extra>\", \"legendgroup\": \"G-F\", \"marker\": {\"color\": \"#FF6692\"}, \"name\": \"G-F\", \"offsetgroup\": \"G-F\", \"orientation\": \"v\", \"showlegend\": false, \"type\": \"histogram\", \"x\": [26.7, 22.25, 28.86], \"xaxis\": \"x2\", \"y\": [2.1, 39.9, 3.4], \"yaxis\": \"y2\"}, {\"alignmentgroup\": \"True\", \"bingroup\": \"x\", \"histfunc\": \"sum\", \"hovertemplate\": \"POS=G-F<br>TEAM=Mia<br>AGE=%{x}<br>sum of MPG=%{y}<extra></extra>\", \"legendgroup\": \"G-F\", \"marker\": {\"color\": \"#FF6692\"}, \"name\": \"G-F\", \"offsetgroup\": \"G-F\", \"orientation\": \"v\", \"showlegend\": false, \"type\": \"histogram\", \"x\": [36.7], \"xaxis\": \"x3\", \"y\": [19.5], \"yaxis\": \"y3\"}, {\"alignmentgroup\": \"True\", \"bingroup\": \"x\", \"histfunc\": \"sum\", \"hovertemplate\": \"POS=G-F<br>TEAM=Bro<br>AGE=%{x}<br>sum of MPG=%{y}<extra></extra>\", \"legendgroup\": \"G-F\", \"marker\": {\"color\": \"#FF6692\"}, \"name\": \"G-F\", \"offsetgroup\": \"G-F\", \"orientation\": \"v\", \"showlegend\": false, \"type\": \"histogram\", \"x\": [29.1, 25.43, 21.43, 34.43], \"xaxis\": \"x4\", \"y\": [36.2, 32.9, 13.1, 34.3], \"yaxis\": \"y4\"}, {\"alignmentgroup\": \"True\", \"bingroup\": \"x\", \"histfunc\": \"sum\", \"hovertemplate\": \"POS=G-F<br>TEAM=Mil<br>AGE=%{x}<br>sum of MPG=%{y}<extra></extra>\", \"legendgroup\": \"G-F\", \"marker\": {\"color\": \"#FF6692\"}, \"name\": \"G-F\", \"offsetgroup\": \"G-F\", \"orientation\": \"v\", \"showlegend\": false, \"type\": \"histogram\", \"x\": [25.67, 39.57], \"xaxis\": \"x5\", \"y\": [3.6, 11.9], \"yaxis\": \"y5\"}, {\"alignmentgroup\": \"True\", \"bingroup\": \"x\", \"histfunc\": \"sum\", \"hovertemplate\": \"POS=G-F<br>TEAM=Tor<br>AGE=%{x}<br>sum of MPG=%{y}<extra></extra>\", \"legendgroup\": \"G-F\", \"marker\": {\"color\": \"#FF6692\"}, \"name\": \"G-F\", \"offsetgroup\": \"G-F\", \"orientation\": \"v\", \"showlegend\": false, \"type\": \"histogram\", \"x\": [27.6], \"xaxis\": \"x6\", \"y\": [5.3], \"yaxis\": \"y6\"}, {\"alignmentgroup\": \"True\", \"bingroup\": \"x\", \"histfunc\": \"sum\", \"hovertemplate\": \"POS=G-F<br>TEAM=Orl<br>AGE=%{x}<br>sum of MPG=%{y}<extra></extra>\", \"legendgroup\": \"G-F\", \"marker\": {\"color\": \"#FF6692\"}, \"name\": \"G-F\", \"offsetgroup\": \"G-F\", \"orientation\": \"v\", \"showlegend\": false, \"type\": \"histogram\", \"x\": [27.95, 29.68], \"xaxis\": \"x7\", \"y\": [34.1, 27.0], \"yaxis\": \"y7\"}, {\"alignmentgroup\": \"True\", \"bingroup\": \"x\", \"histfunc\": \"sum\", \"hovertemplate\": \"POS=G-F<br>TEAM=Dal<br>AGE=%{x}<br>sum of MPG=%{y}<extra></extra>\", \"legendgroup\": \"G-F\", \"marker\": {\"color\": \"#FF6692\"}, \"name\": \"G-F\", \"offsetgroup\": \"G-F\", \"orientation\": \"v\", \"showlegend\": false, \"type\": \"histogram\", \"x\": [21.62, 23.36], \"xaxis\": \"x8\", \"y\": [35.8, 4.6], \"yaxis\": \"y8\"}, {\"alignmentgroup\": \"True\", \"bingroup\": \"x\", \"histfunc\": \"sum\", \"hovertemplate\": \"POS=G-F<br>TEAM=Den<br>AGE=%{x}<br>sum of MPG=%{y}<extra></extra>\", \"legendgroup\": \"G-F\", \"marker\": {\"color\": \"#FF6692\"}, \"name\": \"G-F\", \"offsetgroup\": \"G-F\", \"orientation\": \"v\", \"showlegend\": false, \"type\": \"histogram\", \"x\": [23.96], \"xaxis\": \"x9\", \"y\": [10.4], \"yaxis\": \"y9\"}, {\"alignmentgroup\": \"True\", \"bingroup\": \"x\", \"histfunc\": \"sum\", \"hovertemplate\": \"POS=G-F<br>TEAM=Lac<br>AGE=%{x}<br>sum of MPG=%{y}<extra></extra>\", \"legendgroup\": \"G-F\", \"marker\": {\"color\": \"#FF6692\"}, \"name\": \"G-F\", \"offsetgroup\": \"G-F\", \"orientation\": \"v\", \"showlegend\": false, \"type\": \"histogram\", \"x\": [23.32, 23.98], \"xaxis\": \"x10\", \"y\": [2.3, 2.1], \"yaxis\": \"y10\"}, {\"alignmentgroup\": \"True\", \"bingroup\": \"x\", \"histfunc\": \"sum\", \"hovertemplate\": \"POS=G-F<br>TEAM=Uta<br>AGE=%{x}<br>sum of MPG=%{y}<extra></extra>\", \"legendgroup\": \"G-F\", \"marker\": {\"color\": \"#FF6692\"}, \"name\": \"G-F\", \"offsetgroup\": \"G-F\", \"orientation\": \"v\", \"showlegend\": false, \"type\": \"histogram\", \"x\": [23.19], \"xaxis\": \"x11\", \"y\": [7.0], \"yaxis\": \"y11\"}, {\"alignmentgroup\": \"True\", \"bingroup\": \"x\", \"histfunc\": \"sum\", \"hovertemplate\": \"POS=G-F<br>TEAM=Bos<br>AGE=%{x}<br>sum of MPG=%{y}<extra></extra>\", \"legendgroup\": \"G-F\", \"marker\": {\"color\": \"#FF6692\"}, \"name\": \"G-F\", \"offsetgroup\": \"G-F\", \"orientation\": \"v\", \"showlegend\": false, \"type\": \"histogram\", \"x\": [27.22, 20.97], \"xaxis\": \"x13\", \"y\": [5.7, 6.5], \"yaxis\": \"y13\"}, {\"alignmentgroup\": \"True\", \"bingroup\": \"x\", \"histfunc\": \"sum\", \"hovertemplate\": \"POS=G-F<br>TEAM=Phi<br>AGE=%{x}<br>sum of MPG=%{y}<extra></extra>\", \"legendgroup\": \"G-F\", \"marker\": {\"color\": \"#FF6692\"}, \"name\": \"G-F\", \"offsetgroup\": \"G-F\", \"orientation\": \"v\", \"showlegend\": false, \"type\": \"histogram\", \"x\": [23.22, 24.04, 23.61], \"xaxis\": \"x14\", \"y\": [10.1, 31.5, 18.9], \"yaxis\": \"y14\"}],                        {\"annotations\": [{\"font\": {}, \"showarrow\": false, \"text\": \"TEAM=Por\", \"x\": 0.021875, \"xanchor\": \"center\", \"xref\": \"paper\", \"y\": 1.0, \"yanchor\": \"bottom\", \"yref\": \"paper\"}, {\"font\": {}, \"showarrow\": false, \"text\": \"TEAM=Okc\", \"x\": 0.085625, \"xanchor\": \"center\", \"xref\": \"paper\", \"y\": 1.0, \"yanchor\": \"bottom\", \"yref\": \"paper\"}, {\"font\": {}, \"showarrow\": false, \"text\": \"TEAM=Mia\", \"x\": 0.149375, \"xanchor\": \"center\", \"xref\": \"paper\", \"y\": 1.0, \"yanchor\": \"bottom\", \"yref\": \"paper\"}, {\"font\": {}, \"showarrow\": false, \"text\": \"TEAM=Bro\", \"x\": 0.21312499999999998, \"xanchor\": \"center\", \"xref\": \"paper\", \"y\": 1.0, \"yanchor\": \"bottom\", \"yref\": \"paper\"}, {\"font\": {}, \"showarrow\": false, \"text\": \"TEAM=Mil\", \"x\": 0.276875, \"xanchor\": \"center\", \"xref\": \"paper\", \"y\": 1.0, \"yanchor\": \"bottom\", \"yref\": \"paper\"}, {\"font\": {}, \"showarrow\": false, \"text\": \"TEAM=Tor\", \"x\": 0.34062499999999996, \"xanchor\": \"center\", \"xref\": \"paper\", \"y\": 1.0, \"yanchor\": \"bottom\", \"yref\": \"paper\"}, {\"font\": {}, \"showarrow\": false, \"text\": \"TEAM=Orl\", \"x\": 0.40437500000000004, \"xanchor\": \"center\", \"xref\": \"paper\", \"y\": 1.0, \"yanchor\": \"bottom\", \"yref\": \"paper\"}, {\"font\": {}, \"showarrow\": false, \"text\": \"TEAM=Dal\", \"x\": 0.468125, \"xanchor\": \"center\", \"xref\": \"paper\", \"y\": 1.0, \"yanchor\": \"bottom\", \"yref\": \"paper\"}, {\"font\": {}, \"showarrow\": false, \"text\": \"TEAM=Den\", \"x\": 0.531875, \"xanchor\": \"center\", \"xref\": \"paper\", \"y\": 1.0, \"yanchor\": \"bottom\", \"yref\": \"paper\"}, {\"font\": {}, \"showarrow\": false, \"text\": \"TEAM=Lac\", \"x\": 0.595625, \"xanchor\": \"center\", \"xref\": \"paper\", \"y\": 1.0, \"yanchor\": \"bottom\", \"yref\": \"paper\"}, {\"font\": {}, \"showarrow\": false, \"text\": \"TEAM=Uta\", \"x\": 0.659375, \"xanchor\": \"center\", \"xref\": \"paper\", \"y\": 1.0, \"yanchor\": \"bottom\", \"yref\": \"paper\"}, {\"font\": {}, \"showarrow\": false, \"text\": \"TEAM=Ind\", \"x\": 0.723125, \"xanchor\": \"center\", \"xref\": \"paper\", \"y\": 1.0, \"yanchor\": \"bottom\", \"yref\": \"paper\"}, {\"font\": {}, \"showarrow\": false, \"text\": \"TEAM=Bos\", \"x\": 0.786875, \"xanchor\": \"center\", \"xref\": \"paper\", \"y\": 1.0, \"yanchor\": \"bottom\", \"yref\": \"paper\"}, {\"font\": {}, \"showarrow\": false, \"text\": \"TEAM=Phi\", \"x\": 0.850625, \"xanchor\": \"center\", \"xref\": \"paper\", \"y\": 1.0, \"yanchor\": \"bottom\", \"yref\": \"paper\"}, {\"font\": {}, \"showarrow\": false, \"text\": \"TEAM=Hou\", \"x\": 0.9143749999999999, \"xanchor\": \"center\", \"xref\": \"paper\", \"y\": 1.0, \"yanchor\": \"bottom\", \"yref\": \"paper\"}, {\"font\": {}, \"showarrow\": false, \"text\": \"TEAM=Lal\", \"x\": 0.9781249999999998, \"xanchor\": \"center\", \"xref\": \"paper\", \"y\": 1.0, \"yanchor\": \"bottom\", \"yref\": \"paper\"}], \"barmode\": \"relative\", \"legend\": {\"title\": {\"text\": \"POS\"}, \"tracegroupgap\": 0}, \"margin\": {\"t\": 60}, \"template\": {\"data\": {\"bar\": [{\"error_x\": {\"color\": \"#2a3f5f\"}, \"error_y\": {\"color\": \"#2a3f5f\"}, \"marker\": {\"line\": {\"color\": \"#E5ECF6\", \"width\": 0.5}}, \"type\": \"bar\"}], \"barpolar\": [{\"marker\": {\"line\": {\"color\": \"#E5ECF6\", \"width\": 0.5}}, \"type\": \"barpolar\"}], \"carpet\": [{\"aaxis\": {\"endlinecolor\": \"#2a3f5f\", \"gridcolor\": \"white\", \"linecolor\": \"white\", \"minorgridcolor\": \"white\", \"startlinecolor\": \"#2a3f5f\"}, \"baxis\": {\"endlinecolor\": \"#2a3f5f\", \"gridcolor\": \"white\", \"linecolor\": \"white\", \"minorgridcolor\": \"white\", \"startlinecolor\": \"#2a3f5f\"}, \"type\": \"carpet\"}], \"choropleth\": [{\"colorbar\": {\"outlinewidth\": 0, \"ticks\": \"\"}, \"type\": \"choropleth\"}], \"contour\": [{\"colorbar\": {\"outlinewidth\": 0, \"ticks\": \"\"}, \"colorscale\": [[0.0, \"#0d0887\"], [0.1111111111111111, \"#46039f\"], [0.2222222222222222, \"#7201a8\"], [0.3333333333333333, \"#9c179e\"], [0.4444444444444444, \"#bd3786\"], [0.5555555555555556, \"#d8576b\"], [0.6666666666666666, \"#ed7953\"], [0.7777777777777778, \"#fb9f3a\"], [0.8888888888888888, \"#fdca26\"], [1.0, \"#f0f921\"]], \"type\": \"contour\"}], \"contourcarpet\": [{\"colorbar\": {\"outlinewidth\": 0, \"ticks\": \"\"}, \"type\": \"contourcarpet\"}], \"heatmap\": [{\"colorbar\": {\"outlinewidth\": 0, \"ticks\": \"\"}, \"colorscale\": [[0.0, \"#0d0887\"], [0.1111111111111111, \"#46039f\"], [0.2222222222222222, \"#7201a8\"], [0.3333333333333333, \"#9c179e\"], [0.4444444444444444, \"#bd3786\"], [0.5555555555555556, \"#d8576b\"], [0.6666666666666666, \"#ed7953\"], [0.7777777777777778, \"#fb9f3a\"], [0.8888888888888888, \"#fdca26\"], [1.0, \"#f0f921\"]], \"type\": \"heatmap\"}], \"heatmapgl\": [{\"colorbar\": {\"outlinewidth\": 0, \"ticks\": \"\"}, \"colorscale\": [[0.0, \"#0d0887\"], [0.1111111111111111, \"#46039f\"], [0.2222222222222222, \"#7201a8\"], [0.3333333333333333, \"#9c179e\"], [0.4444444444444444, \"#bd3786\"], [0.5555555555555556, \"#d8576b\"], [0.6666666666666666, \"#ed7953\"], [0.7777777777777778, \"#fb9f3a\"], [0.8888888888888888, \"#fdca26\"], [1.0, \"#f0f921\"]], \"type\": \"heatmapgl\"}], \"histogram\": [{\"marker\": {\"colorbar\": {\"outlinewidth\": 0, \"ticks\": \"\"}}, \"type\": \"histogram\"}], \"histogram2d\": [{\"colorbar\": {\"outlinewidth\": 0, \"ticks\": \"\"}, \"colorscale\": [[0.0, \"#0d0887\"], [0.1111111111111111, \"#46039f\"], [0.2222222222222222, \"#7201a8\"], [0.3333333333333333, \"#9c179e\"], [0.4444444444444444, \"#bd3786\"], [0.5555555555555556, \"#d8576b\"], [0.6666666666666666, \"#ed7953\"], [0.7777777777777778, \"#fb9f3a\"], [0.8888888888888888, \"#fdca26\"], [1.0, \"#f0f921\"]], \"type\": \"histogram2d\"}], \"histogram2dcontour\": [{\"colorbar\": {\"outlinewidth\": 0, \"ticks\": \"\"}, \"colorscale\": [[0.0, \"#0d0887\"], [0.1111111111111111, \"#46039f\"], [0.2222222222222222, \"#7201a8\"], [0.3333333333333333, \"#9c179e\"], [0.4444444444444444, \"#bd3786\"], [0.5555555555555556, \"#d8576b\"], [0.6666666666666666, \"#ed7953\"], [0.7777777777777778, \"#fb9f3a\"], [0.8888888888888888, \"#fdca26\"], [1.0, \"#f0f921\"]], \"type\": \"histogram2dcontour\"}], \"mesh3d\": [{\"colorbar\": {\"outlinewidth\": 0, \"ticks\": \"\"}, \"type\": \"mesh3d\"}], \"parcoords\": [{\"line\": {\"colorbar\": {\"outlinewidth\": 0, \"ticks\": \"\"}}, \"type\": \"parcoords\"}], \"pie\": [{\"automargin\": true, \"type\": \"pie\"}], \"scatter\": [{\"marker\": {\"colorbar\": {\"outlinewidth\": 0, \"ticks\": \"\"}}, \"type\": \"scatter\"}], \"scatter3d\": [{\"line\": {\"colorbar\": {\"outlinewidth\": 0, \"ticks\": \"\"}}, \"marker\": {\"colorbar\": {\"outlinewidth\": 0, \"ticks\": \"\"}}, \"type\": \"scatter3d\"}], \"scattercarpet\": [{\"marker\": {\"colorbar\": {\"outlinewidth\": 0, \"ticks\": \"\"}}, \"type\": \"scattercarpet\"}], \"scattergeo\": [{\"marker\": {\"colorbar\": {\"outlinewidth\": 0, \"ticks\": \"\"}}, \"type\": \"scattergeo\"}], \"scattergl\": [{\"marker\": {\"colorbar\": {\"outlinewidth\": 0, \"ticks\": \"\"}}, \"type\": \"scattergl\"}], \"scattermapbox\": [{\"marker\": {\"colorbar\": {\"outlinewidth\": 0, \"ticks\": \"\"}}, \"type\": \"scattermapbox\"}], \"scatterpolar\": [{\"marker\": {\"colorbar\": {\"outlinewidth\": 0, \"ticks\": \"\"}}, \"type\": \"scatterpolar\"}], \"scatterpolargl\": [{\"marker\": {\"colorbar\": {\"outlinewidth\": 0, \"ticks\": \"\"}}, \"type\": \"scatterpolargl\"}], \"scatterternary\": [{\"marker\": {\"colorbar\": {\"outlinewidth\": 0, \"ticks\": \"\"}}, \"type\": \"scatterternary\"}], \"surface\": [{\"colorbar\": {\"outlinewidth\": 0, \"ticks\": \"\"}, \"colorscale\": [[0.0, \"#0d0887\"], [0.1111111111111111, \"#46039f\"], [0.2222222222222222, \"#7201a8\"], [0.3333333333333333, \"#9c179e\"], [0.4444444444444444, \"#bd3786\"], [0.5555555555555556, \"#d8576b\"], [0.6666666666666666, \"#ed7953\"], [0.7777777777777778, \"#fb9f3a\"], [0.8888888888888888, \"#fdca26\"], [1.0, \"#f0f921\"]], \"type\": \"surface\"}], \"table\": [{\"cells\": {\"fill\": {\"color\": \"#EBF0F8\"}, \"line\": {\"color\": \"white\"}}, \"header\": {\"fill\": {\"color\": \"#C8D4E3\"}, \"line\": {\"color\": \"white\"}}, \"type\": \"table\"}]}, \"layout\": {\"annotationdefaults\": {\"arrowcolor\": \"#2a3f5f\", \"arrowhead\": 0, \"arrowwidth\": 1}, \"autotypenumbers\": \"strict\", \"coloraxis\": {\"colorbar\": {\"outlinewidth\": 0, \"ticks\": \"\"}}, \"colorscale\": {\"diverging\": [[0, \"#8e0152\"], [0.1, \"#c51b7d\"], [0.2, \"#de77ae\"], [0.3, \"#f1b6da\"], [0.4, \"#fde0ef\"], [0.5, \"#f7f7f7\"], [0.6, \"#e6f5d0\"], [0.7, \"#b8e186\"], [0.8, \"#7fbc41\"], [0.9, \"#4d9221\"], [1, \"#276419\"]], \"sequential\": [[0.0, \"#0d0887\"], [0.1111111111111111, \"#46039f\"], [0.2222222222222222, \"#7201a8\"], [0.3333333333333333, \"#9c179e\"], [0.4444444444444444, \"#bd3786\"], [0.5555555555555556, \"#d8576b\"], [0.6666666666666666, \"#ed7953\"], [0.7777777777777778, \"#fb9f3a\"], [0.8888888888888888, \"#fdca26\"], [1.0, \"#f0f921\"]], \"sequentialminus\": [[0.0, \"#0d0887\"], [0.1111111111111111, \"#46039f\"], [0.2222222222222222, \"#7201a8\"], [0.3333333333333333, \"#9c179e\"], [0.4444444444444444, \"#bd3786\"], [0.5555555555555556, \"#d8576b\"], [0.6666666666666666, \"#ed7953\"], [0.7777777777777778, \"#fb9f3a\"], [0.8888888888888888, \"#fdca26\"], [1.0, \"#f0f921\"]]}, \"colorway\": [\"#636efa\", \"#EF553B\", \"#00cc96\", \"#ab63fa\", \"#FFA15A\", \"#19d3f3\", \"#FF6692\", \"#B6E880\", \"#FF97FF\", \"#FECB52\"], \"font\": {\"color\": \"#2a3f5f\"}, \"geo\": {\"bgcolor\": \"white\", \"lakecolor\": \"white\", \"landcolor\": \"#E5ECF6\", \"showlakes\": true, \"showland\": true, \"subunitcolor\": \"white\"}, \"hoverlabel\": {\"align\": \"left\"}, \"hovermode\": \"closest\", \"mapbox\": {\"style\": \"light\"}, \"paper_bgcolor\": \"white\", \"plot_bgcolor\": \"#E5ECF6\", \"polar\": {\"angularaxis\": {\"gridcolor\": \"white\", \"linecolor\": \"white\", \"ticks\": \"\"}, \"bgcolor\": \"#E5ECF6\", \"radialaxis\": {\"gridcolor\": \"white\", \"linecolor\": \"white\", \"ticks\": \"\"}}, \"scene\": {\"xaxis\": {\"backgroundcolor\": \"#E5ECF6\", \"gridcolor\": \"white\", \"gridwidth\": 2, \"linecolor\": \"white\", \"showbackground\": true, \"ticks\": \"\", \"zerolinecolor\": \"white\"}, \"yaxis\": {\"backgroundcolor\": \"#E5ECF6\", \"gridcolor\": \"white\", \"gridwidth\": 2, \"linecolor\": \"white\", \"showbackground\": true, \"ticks\": \"\", \"zerolinecolor\": \"white\"}, \"zaxis\": {\"backgroundcolor\": \"#E5ECF6\", \"gridcolor\": \"white\", \"gridwidth\": 2, \"linecolor\": \"white\", \"showbackground\": true, \"ticks\": \"\", \"zerolinecolor\": \"white\"}}, \"shapedefaults\": {\"line\": {\"color\": \"#2a3f5f\"}}, \"ternary\": {\"aaxis\": {\"gridcolor\": \"white\", \"linecolor\": \"white\", \"ticks\": \"\"}, \"baxis\": {\"gridcolor\": \"white\", \"linecolor\": \"white\", \"ticks\": \"\"}, \"bgcolor\": \"#E5ECF6\", \"caxis\": {\"gridcolor\": \"white\", \"linecolor\": \"white\", \"ticks\": \"\"}}, \"title\": {\"x\": 0.05}, \"xaxis\": {\"automargin\": true, \"gridcolor\": \"white\", \"linecolor\": \"white\", \"ticks\": \"\", \"title\": {\"standoff\": 15}, \"zerolinecolor\": \"white\", \"zerolinewidth\": 2}, \"yaxis\": {\"automargin\": true, \"gridcolor\": \"white\", \"linecolor\": \"white\", \"ticks\": \"\", \"title\": {\"standoff\": 15}, \"zerolinecolor\": \"white\", \"zerolinewidth\": 2}}}, \"xaxis\": {\"anchor\": \"y\", \"domain\": [0.0, 0.04375], \"title\": {\"text\": \"AGE\"}}, \"xaxis10\": {\"anchor\": \"y10\", \"domain\": [0.57375, 0.6174999999999999], \"matches\": \"x\", \"title\": {\"text\": \"AGE\"}}, \"xaxis11\": {\"anchor\": \"y11\", \"domain\": [0.6375000000000001, 0.68125], \"matches\": \"x\", \"title\": {\"text\": \"AGE\"}}, \"xaxis12\": {\"anchor\": \"y12\", \"domain\": [0.70125, 0.745], \"matches\": \"x\", \"title\": {\"text\": \"AGE\"}}, \"xaxis13\": {\"anchor\": \"y13\", \"domain\": [0.765, 0.80875], \"matches\": \"x\", \"title\": {\"text\": \"AGE\"}}, \"xaxis14\": {\"anchor\": \"y14\", \"domain\": [0.82875, 0.8724999999999999], \"matches\": \"x\", \"title\": {\"text\": \"AGE\"}}, \"xaxis15\": {\"anchor\": \"y15\", \"domain\": [0.8925, 0.9362499999999999], \"matches\": \"x\", \"title\": {\"text\": \"AGE\"}}, \"xaxis16\": {\"anchor\": \"y16\", \"domain\": [0.9562499999999998, 0.9999999999999998], \"matches\": \"x\", \"title\": {\"text\": \"AGE\"}}, \"xaxis2\": {\"anchor\": \"y2\", \"domain\": [0.06375, 0.1075], \"matches\": \"x\", \"title\": {\"text\": \"AGE\"}}, \"xaxis3\": {\"anchor\": \"y3\", \"domain\": [0.1275, 0.17125], \"matches\": \"x\", \"title\": {\"text\": \"AGE\"}}, \"xaxis4\": {\"anchor\": \"y4\", \"domain\": [0.19124999999999998, 0.235], \"matches\": \"x\", \"title\": {\"text\": \"AGE\"}}, \"xaxis5\": {\"anchor\": \"y5\", \"domain\": [0.255, 0.29875], \"matches\": \"x\", \"title\": {\"text\": \"AGE\"}}, \"xaxis6\": {\"anchor\": \"y6\", \"domain\": [0.31875, 0.3625], \"matches\": \"x\", \"title\": {\"text\": \"AGE\"}}, \"xaxis7\": {\"anchor\": \"y7\", \"domain\": [0.3825, 0.42625], \"matches\": \"x\", \"title\": {\"text\": \"AGE\"}}, \"xaxis8\": {\"anchor\": \"y8\", \"domain\": [0.44625000000000004, 0.49000000000000005], \"matches\": \"x\", \"title\": {\"text\": \"AGE\"}}, \"xaxis9\": {\"anchor\": \"y9\", \"domain\": [0.51, 0.55375], \"matches\": \"x\", \"title\": {\"text\": \"AGE\"}}, \"yaxis\": {\"anchor\": \"x\", \"domain\": [0.0, 1.0], \"title\": {\"text\": \"sum of MPG\"}}, \"yaxis10\": {\"anchor\": \"x10\", \"domain\": [0.0, 1.0], \"matches\": \"y\", \"showticklabels\": false}, \"yaxis11\": {\"anchor\": \"x11\", \"domain\": [0.0, 1.0], \"matches\": \"y\", \"showticklabels\": false}, \"yaxis12\": {\"anchor\": \"x12\", \"domain\": [0.0, 1.0], \"matches\": \"y\", \"showticklabels\": false}, \"yaxis13\": {\"anchor\": \"x13\", \"domain\": [0.0, 1.0], \"matches\": \"y\", \"showticklabels\": false}, \"yaxis14\": {\"anchor\": \"x14\", \"domain\": [0.0, 1.0], \"matches\": \"y\", \"showticklabels\": false}, \"yaxis15\": {\"anchor\": \"x15\", \"domain\": [0.0, 1.0], \"matches\": \"y\", \"showticklabels\": false}, \"yaxis16\": {\"anchor\": \"x16\", \"domain\": [0.0, 1.0], \"matches\": \"y\", \"showticklabels\": false}, \"yaxis2\": {\"anchor\": \"x2\", \"domain\": [0.0, 1.0], \"matches\": \"y\", \"showticklabels\": false}, \"yaxis3\": {\"anchor\": \"x3\", \"domain\": [0.0, 1.0], \"matches\": \"y\", \"showticklabels\": false}, \"yaxis4\": {\"anchor\": \"x4\", \"domain\": [0.0, 1.0], \"matches\": \"y\", \"showticklabels\": false}, \"yaxis5\": {\"anchor\": \"x5\", \"domain\": [0.0, 1.0], \"matches\": \"y\", \"showticklabels\": false}, \"yaxis6\": {\"anchor\": \"x6\", \"domain\": [0.0, 1.0], \"matches\": \"y\", \"showticklabels\": false}, \"yaxis7\": {\"anchor\": \"x7\", \"domain\": [0.0, 1.0], \"matches\": \"y\", \"showticklabels\": false}, \"yaxis8\": {\"anchor\": \"x8\", \"domain\": [0.0, 1.0], \"matches\": \"y\", \"showticklabels\": false}, \"yaxis9\": {\"anchor\": \"x9\", \"domain\": [0.0, 1.0], \"matches\": \"y\", \"showticklabels\": false}},                        {\"responsive\": true}                    ).then(function(){\n",
              "                            \n",
              "var gd = document.getElementById('9f7176c2-b85c-41b6-a543-97d28ca13d49');\n",
              "var x = new MutationObserver(function (mutations, observer) {{\n",
              "        var display = window.getComputedStyle(gd).display;\n",
              "        if (!display || display === 'none') {{\n",
              "            console.log([gd, 'removed!']);\n",
              "            Plotly.purge(gd);\n",
              "            observer.disconnect();\n",
              "        }}\n",
              "}});\n",
              "\n",
              "// Listen for the removal of the full notebook cells\n",
              "var notebookContainer = gd.closest('#notebook-container');\n",
              "if (notebookContainer) {{\n",
              "    x.observe(notebookContainer, {childList: true});\n",
              "}}\n",
              "\n",
              "// Listen for the clearing of the current output cell\n",
              "var outputEl = gd.closest('.output');\n",
              "if (outputEl) {{\n",
              "    x.observe(outputEl, {childList: true});\n",
              "}}\n",
              "\n",
              "                        })                };                            </script>        </div>\n",
              "</body>\n",
              "</html>"
            ]
          },
          "metadata": {
            "tags": []
          }
        }
      ]
    },
    {
      "cell_type": "markdown",
      "metadata": {
        "id": "NJshOu4-eKdx"
      },
      "source": [
        "#Bar graph Minutes per game Vs. Age"
      ]
    },
    {
      "cell_type": "code",
      "metadata": {
        "colab": {
          "base_uri": "https://localhost:8080/",
          "height": 542
        },
        "id": "f6ovG6IRdSYi",
        "outputId": "c19663f6-9695-484b-d43b-4dfd224d221e"
      },
      "source": [
        "px.bar(nba_20_copy, y = 'AGE', x = 'MPG', color='POS', title='Minutes Vs. Age')"
      ],
      "execution_count": null,
      "outputs": [
        {
          "output_type": "display_data",
          "data": {
            "text/html": [
              "<html>\n",
              "<head><meta charset=\"utf-8\" /></head>\n",
              "<body>\n",
              "    <div>            <script src=\"https://cdnjs.cloudflare.com/ajax/libs/mathjax/2.7.5/MathJax.js?config=TeX-AMS-MML_SVG\"></script><script type=\"text/javascript\">if (window.MathJax) {MathJax.Hub.Config({SVG: {font: \"STIX-Web\"}});}</script>                <script type=\"text/javascript\">window.PlotlyConfig = {MathJaxConfig: 'local'};</script>\n",
              "        <script src=\"https://cdn.plot.ly/plotly-latest.min.js\"></script>                <div id=\"212a2727-d7b8-476c-b048-9987cfa98377\" class=\"plotly-graph-div\" style=\"height:525px; width:100%;\"></div>            <script type=\"text/javascript\">                                    window.PLOTLYENV=window.PLOTLYENV || {};                                    if (document.getElementById(\"212a2727-d7b8-476c-b048-9987cfa98377\")) {                    Plotly.newPlot(                        \"212a2727-d7b8-476c-b048-9987cfa98377\",                        [{\"alignmentgroup\": \"True\", \"hovertemplate\": \"POS=G<br>MPG=%{x}<br>AGE=%{y}<extra></extra>\", \"legendgroup\": \"G\", \"marker\": {\"color\": \"#636efa\"}, \"name\": \"G\", \"offsetgroup\": \"G\", \"orientation\": \"v\", \"showlegend\": true, \"textposition\": \"auto\", \"type\": \"bar\", \"x\": [6.9, 25.6, 5.2, 20.8, 29.7, 40.0, 26.1, 23.7, 29.0, 24.3, 16.2, 28.6, 4.1, 4.6, 33.0, 17.1, 4.1, 28.8, 14.0, 8.4, 16.5, 29.2, 32.5, 3.5, 10.4, 2.9, 29.3, 34.1, 25.0, 33.9, 37.3, 27.1, 33.6, 26.8, 18.0, 8.5, 14.2, 23.2, 34.9, 35.7, 37.6, 9.0, 1.1, 24.6, 39.2, 9.3, 3.1, 11.8, 37.7, 21.4, 11.3, 39.6, 12.9, 15.9, 30.6, 37.3, 24.8, 36.1, 17.6, 24.7, 32.4, 18.7, 20.5, 38.1, 7.5, 13.5, 8.4, 5.6, 39.1, 0.3, 7.6, 36.9, 16.0, 2.4, 4.4, 32.7, 2.4, 26.2, 13.3], \"xaxis\": \"x\", \"y\": [24.44, 32.92, 36.29, 32.25, 30.84, 27.83, 27.91, 29.23, 27.65, 26.62, 24.89, 28.35, 23.22, 26.7, 33.0, 27.76, 27.56, 30.14, 23.41, 22.2, 23.7, 21.48, 34.44, 22.59, 22.41, 26.6, 22.37, 31.8, 33.31, 28.57, 31.13, 26.08, 20.73, 34.44, 24.03, 19.88, 30.49, 28.43, 26.13, 30.24, 34.55, 24.31, 26.53, 34.0, 29.06, 28.55, 29.21, 27.67, 24.09, 25.29, 24.6, 23.63, 28.4, 25.19, 28.44, 35.44, 27.38, 27.07, 28.2, 34.64, 27.07, 23.58, 21.35, 26.6, 35.09, 24.78, 26.19, 23.05, 26.63, 24.33, 28.84, 30.43, 31.22, 22.75, 25.78, 31.91, 26.07, 33.96, 28.46], \"yaxis\": \"y\"}, {\"alignmentgroup\": \"True\", \"hovertemplate\": \"POS=C<br>MPG=%{x}<br>AGE=%{y}<extra></extra>\", \"legendgroup\": \"C\", \"marker\": {\"color\": \"#EF553B\"}, \"name\": \"C\", \"offsetgroup\": \"C\", \"orientation\": \"v\", \"showlegend\": true, \"textposition\": \"auto\", \"type\": \"bar\", \"x\": [30.0, 33.1, 17.9, 1.4, 20.7, 38.6, 36.5, 10.3, 10.3, 32.8, 6.9, 13.7, 32.3, 15.2, 36.9, 21.2, 24.6], \"xaxis\": \"x\", \"y\": [27.23, 22.48, 28.04, 24.84, 35.7, 28.29, 25.64, 28.39, 28.62, 32.53, 32.53, 32.16, 26.14, 29.48, 29.97, 31.33, 23.57], \"yaxis\": \"y\"}, {\"alignmentgroup\": \"True\", \"hovertemplate\": \"POS=C-F<br>MPG=%{x}<br>AGE=%{y}<extra></extra>\", \"legendgroup\": \"C-F\", \"marker\": {\"color\": \"#00cc96\"}, \"name\": \"C-F\", \"offsetgroup\": \"C-F\", \"orientation\": \"v\", \"showlegend\": true, \"textposition\": \"auto\", \"type\": \"bar\", \"x\": [36.2, 5.4, 8.1, 36.2, 32.1, 15.7, 9.7, 13.9, 5.7, 1.8, 36.4, 11.5], \"xaxis\": \"x\", \"y\": [23.24, 20.9, 22.67, 26.58, 34.36, 34.84, 32.73, 26.51, 30.55, 26.96, 24.55, 22.99], \"yaxis\": \"y\"}, {\"alignmentgroup\": \"True\", \"hovertemplate\": \"POS=F-G<br>MPG=%{x}<br>AGE=%{y}<extra></extra>\", \"legendgroup\": \"F-G\", \"marker\": {\"color\": \"#ab63fa\"}, \"name\": \"F-G\", \"offsetgroup\": \"F-G\", \"orientation\": \"v\", \"showlegend\": true, \"textposition\": \"auto\", \"type\": \"bar\", \"x\": [9.4, 18.0, 39.5, 13.6, 32.8, 31.0, 33.5, 6.7, 40.6], \"xaxis\": \"x\", \"y\": [26.9, 20.33, 23.97, 25.63, 31.52, 27.35, 33.03, 24.37, 22.61], \"yaxis\": \"y\"}, {\"alignmentgroup\": \"True\", \"hovertemplate\": \"POS=F<br>MPG=%{x}<br>AGE=%{y}<extra></extra>\", \"legendgroup\": \"F\", \"marker\": {\"color\": \"#FFA15A\"}, \"name\": \"F\", \"offsetgroup\": \"F\", \"orientation\": \"v\", \"showlegend\": true, \"textposition\": \"auto\", \"type\": \"bar\", \"x\": [30.8, 35.1, 35.7, 4.7, 6.5, 38.4, 3.3, 2.9, 28.7, 4.2, 31.6, 19.8, 31.4, 5.0, 3.4, 23.8, 31.8, 13.3, 30.3, 36.8, 34.4, 28.4, 6.6, 37.2, 31.4, 6.0, 13.8, 7.7, 22.9, 7.8, 15.2, 5.3, 36.3, 0.2, 3.6, 6.5, 9.2, 33.9, 14.6, 23.0, 3.6, 39.3, 13.6, 35.5, 24.2, 12.3, 29.9, 18.4, 8.5, 16.3, 9.4, 35.5, 4.9, 6.5, 23.7, 28.6, 12.5, 5.0, 38.0, 28.3, 5.7, 34.5, 3.1, 39.1, 10.0, 17.9], \"xaxis\": \"x\", \"y\": [25.85, 36.37, 23.24, 24.72, 24.35, 31.08, 25.06, 34.21, 25.9, 23.05, 29.83, 29.81, 30.27, 29.24, 35.26, 30.28, 27.44, 23.55, 32.18, 30.45, 26.59, 34.12, 23.18, 28.24, 30.56, 29.57, 21.54, 25.77, 31.07, 33.41, 25.81, 25.54, 35.78, 24.47, 24.81, 23.66, 27.04, 28.7, 22.68, 25.22, 24.81, 29.29, 28.77, 29.17, 35.67, 23.49, 31.11, 31.11, 27.05, 27.32, 25.85, 27.35, 31.58, 27.69, 22.29, 26.47, 27.56, 32.24, 26.53, 28.52, 32.47, 35.44, 25.13, 27.1, 21.87, 34.32], \"yaxis\": \"y\"}, {\"alignmentgroup\": \"True\", \"hovertemplate\": \"POS=F-C<br>MPG=%{x}<br>AGE=%{y}<extra></extra>\", \"legendgroup\": \"F-C\", \"marker\": {\"color\": \"#19d3f3\"}, \"name\": \"F-C\", \"offsetgroup\": \"F-C\", \"orientation\": \"v\", \"showlegend\": true, \"textposition\": \"auto\", \"type\": \"bar\", \"x\": [6.1, 36.6, 17.1, 18.7, 9.9, 1.0, 10.9, 31.5], \"xaxis\": \"x\", \"y\": [27.75, 27.59, 30.31, 26.71, 29.28, 35.63, 30.61, 25.2], \"yaxis\": \"y\"}, {\"alignmentgroup\": \"True\", \"hovertemplate\": \"POS=G-F<br>MPG=%{x}<br>AGE=%{y}<extra></extra>\", \"legendgroup\": \"G-F\", \"marker\": {\"color\": \"#FF6692\"}, \"name\": \"G-F\", \"offsetgroup\": \"G-F\", \"orientation\": \"v\", \"showlegend\": true, \"textposition\": \"auto\", \"type\": \"bar\", \"x\": [3.6, 2.1, 2.3, 35.8, 10.4, 34.1, 39.9, 5.7, 36.2, 19.5, 10.1, 11.9, 6.5, 32.9, 2.1, 5.3, 31.5, 13.1, 7.0, 4.6, 3.4, 27.0, 34.3, 18.9, 30.6], \"xaxis\": \"x\", \"y\": [25.67, 26.7, 23.32, 21.62, 23.96, 27.95, 22.25, 27.22, 29.1, 36.7, 23.22, 39.57, 20.97, 25.43, 23.98, 27.6, 24.04, 21.43, 23.19, 23.36, 28.86, 29.68, 34.43, 23.61, 21.73], \"yaxis\": \"y\"}],                        {\"barmode\": \"relative\", \"legend\": {\"title\": {\"text\": \"POS\"}, \"tracegroupgap\": 0}, \"template\": {\"data\": {\"bar\": [{\"error_x\": {\"color\": \"#2a3f5f\"}, \"error_y\": {\"color\": \"#2a3f5f\"}, \"marker\": {\"line\": {\"color\": \"#E5ECF6\", \"width\": 0.5}}, \"type\": \"bar\"}], \"barpolar\": [{\"marker\": {\"line\": {\"color\": \"#E5ECF6\", \"width\": 0.5}}, \"type\": \"barpolar\"}], \"carpet\": [{\"aaxis\": {\"endlinecolor\": \"#2a3f5f\", \"gridcolor\": \"white\", \"linecolor\": \"white\", \"minorgridcolor\": \"white\", \"startlinecolor\": \"#2a3f5f\"}, \"baxis\": {\"endlinecolor\": \"#2a3f5f\", \"gridcolor\": \"white\", \"linecolor\": \"white\", \"minorgridcolor\": \"white\", \"startlinecolor\": \"#2a3f5f\"}, \"type\": \"carpet\"}], \"choropleth\": [{\"colorbar\": {\"outlinewidth\": 0, \"ticks\": \"\"}, \"type\": \"choropleth\"}], \"contour\": [{\"colorbar\": {\"outlinewidth\": 0, \"ticks\": \"\"}, \"colorscale\": [[0.0, \"#0d0887\"], [0.1111111111111111, \"#46039f\"], [0.2222222222222222, \"#7201a8\"], [0.3333333333333333, \"#9c179e\"], [0.4444444444444444, \"#bd3786\"], [0.5555555555555556, \"#d8576b\"], [0.6666666666666666, \"#ed7953\"], [0.7777777777777778, \"#fb9f3a\"], [0.8888888888888888, \"#fdca26\"], [1.0, \"#f0f921\"]], \"type\": \"contour\"}], \"contourcarpet\": [{\"colorbar\": {\"outlinewidth\": 0, \"ticks\": \"\"}, \"type\": \"contourcarpet\"}], \"heatmap\": [{\"colorbar\": {\"outlinewidth\": 0, \"ticks\": \"\"}, \"colorscale\": [[0.0, \"#0d0887\"], [0.1111111111111111, \"#46039f\"], [0.2222222222222222, \"#7201a8\"], [0.3333333333333333, \"#9c179e\"], [0.4444444444444444, \"#bd3786\"], [0.5555555555555556, \"#d8576b\"], [0.6666666666666666, \"#ed7953\"], [0.7777777777777778, \"#fb9f3a\"], [0.8888888888888888, \"#fdca26\"], [1.0, \"#f0f921\"]], \"type\": \"heatmap\"}], \"heatmapgl\": [{\"colorbar\": {\"outlinewidth\": 0, \"ticks\": \"\"}, \"colorscale\": [[0.0, \"#0d0887\"], [0.1111111111111111, \"#46039f\"], [0.2222222222222222, \"#7201a8\"], [0.3333333333333333, \"#9c179e\"], [0.4444444444444444, \"#bd3786\"], [0.5555555555555556, \"#d8576b\"], [0.6666666666666666, \"#ed7953\"], [0.7777777777777778, \"#fb9f3a\"], [0.8888888888888888, \"#fdca26\"], [1.0, \"#f0f921\"]], \"type\": \"heatmapgl\"}], \"histogram\": [{\"marker\": {\"colorbar\": {\"outlinewidth\": 0, \"ticks\": \"\"}}, \"type\": \"histogram\"}], \"histogram2d\": [{\"colorbar\": {\"outlinewidth\": 0, \"ticks\": \"\"}, \"colorscale\": [[0.0, \"#0d0887\"], [0.1111111111111111, \"#46039f\"], [0.2222222222222222, \"#7201a8\"], [0.3333333333333333, \"#9c179e\"], [0.4444444444444444, \"#bd3786\"], [0.5555555555555556, \"#d8576b\"], [0.6666666666666666, \"#ed7953\"], [0.7777777777777778, \"#fb9f3a\"], [0.8888888888888888, \"#fdca26\"], [1.0, \"#f0f921\"]], \"type\": \"histogram2d\"}], \"histogram2dcontour\": [{\"colorbar\": {\"outlinewidth\": 0, \"ticks\": \"\"}, \"colorscale\": [[0.0, \"#0d0887\"], [0.1111111111111111, \"#46039f\"], [0.2222222222222222, \"#7201a8\"], [0.3333333333333333, \"#9c179e\"], [0.4444444444444444, \"#bd3786\"], [0.5555555555555556, \"#d8576b\"], [0.6666666666666666, \"#ed7953\"], [0.7777777777777778, \"#fb9f3a\"], [0.8888888888888888, \"#fdca26\"], [1.0, \"#f0f921\"]], \"type\": \"histogram2dcontour\"}], \"mesh3d\": [{\"colorbar\": {\"outlinewidth\": 0, \"ticks\": \"\"}, \"type\": \"mesh3d\"}], \"parcoords\": [{\"line\": {\"colorbar\": {\"outlinewidth\": 0, \"ticks\": \"\"}}, \"type\": \"parcoords\"}], \"pie\": [{\"automargin\": true, \"type\": \"pie\"}], \"scatter\": [{\"marker\": {\"colorbar\": {\"outlinewidth\": 0, \"ticks\": \"\"}}, \"type\": \"scatter\"}], \"scatter3d\": [{\"line\": {\"colorbar\": {\"outlinewidth\": 0, \"ticks\": \"\"}}, \"marker\": {\"colorbar\": {\"outlinewidth\": 0, \"ticks\": \"\"}}, \"type\": \"scatter3d\"}], \"scattercarpet\": [{\"marker\": {\"colorbar\": {\"outlinewidth\": 0, \"ticks\": \"\"}}, \"type\": \"scattercarpet\"}], \"scattergeo\": [{\"marker\": {\"colorbar\": {\"outlinewidth\": 0, \"ticks\": \"\"}}, \"type\": \"scattergeo\"}], \"scattergl\": [{\"marker\": {\"colorbar\": {\"outlinewidth\": 0, \"ticks\": \"\"}}, \"type\": \"scattergl\"}], \"scattermapbox\": [{\"marker\": {\"colorbar\": {\"outlinewidth\": 0, \"ticks\": \"\"}}, \"type\": \"scattermapbox\"}], \"scatterpolar\": [{\"marker\": {\"colorbar\": {\"outlinewidth\": 0, \"ticks\": \"\"}}, \"type\": \"scatterpolar\"}], \"scatterpolargl\": [{\"marker\": {\"colorbar\": {\"outlinewidth\": 0, \"ticks\": \"\"}}, \"type\": \"scatterpolargl\"}], \"scatterternary\": [{\"marker\": {\"colorbar\": {\"outlinewidth\": 0, \"ticks\": \"\"}}, \"type\": \"scatterternary\"}], \"surface\": [{\"colorbar\": {\"outlinewidth\": 0, \"ticks\": \"\"}, \"colorscale\": [[0.0, \"#0d0887\"], [0.1111111111111111, \"#46039f\"], [0.2222222222222222, \"#7201a8\"], [0.3333333333333333, \"#9c179e\"], [0.4444444444444444, \"#bd3786\"], [0.5555555555555556, \"#d8576b\"], [0.6666666666666666, \"#ed7953\"], [0.7777777777777778, \"#fb9f3a\"], [0.8888888888888888, \"#fdca26\"], [1.0, \"#f0f921\"]], \"type\": \"surface\"}], \"table\": [{\"cells\": {\"fill\": {\"color\": \"#EBF0F8\"}, \"line\": {\"color\": \"white\"}}, \"header\": {\"fill\": {\"color\": \"#C8D4E3\"}, \"line\": {\"color\": \"white\"}}, \"type\": \"table\"}]}, \"layout\": {\"annotationdefaults\": {\"arrowcolor\": \"#2a3f5f\", \"arrowhead\": 0, \"arrowwidth\": 1}, \"autotypenumbers\": \"strict\", \"coloraxis\": {\"colorbar\": {\"outlinewidth\": 0, \"ticks\": \"\"}}, \"colorscale\": {\"diverging\": [[0, \"#8e0152\"], [0.1, \"#c51b7d\"], [0.2, \"#de77ae\"], [0.3, \"#f1b6da\"], [0.4, \"#fde0ef\"], [0.5, \"#f7f7f7\"], [0.6, \"#e6f5d0\"], [0.7, \"#b8e186\"], [0.8, \"#7fbc41\"], [0.9, \"#4d9221\"], [1, \"#276419\"]], \"sequential\": [[0.0, \"#0d0887\"], [0.1111111111111111, \"#46039f\"], [0.2222222222222222, \"#7201a8\"], [0.3333333333333333, \"#9c179e\"], [0.4444444444444444, \"#bd3786\"], [0.5555555555555556, \"#d8576b\"], [0.6666666666666666, \"#ed7953\"], [0.7777777777777778, \"#fb9f3a\"], [0.8888888888888888, \"#fdca26\"], [1.0, \"#f0f921\"]], \"sequentialminus\": [[0.0, \"#0d0887\"], [0.1111111111111111, \"#46039f\"], [0.2222222222222222, \"#7201a8\"], [0.3333333333333333, \"#9c179e\"], [0.4444444444444444, \"#bd3786\"], [0.5555555555555556, \"#d8576b\"], [0.6666666666666666, \"#ed7953\"], [0.7777777777777778, \"#fb9f3a\"], [0.8888888888888888, \"#fdca26\"], [1.0, \"#f0f921\"]]}, \"colorway\": [\"#636efa\", \"#EF553B\", \"#00cc96\", \"#ab63fa\", \"#FFA15A\", \"#19d3f3\", \"#FF6692\", \"#B6E880\", \"#FF97FF\", \"#FECB52\"], \"font\": {\"color\": \"#2a3f5f\"}, \"geo\": {\"bgcolor\": \"white\", \"lakecolor\": \"white\", \"landcolor\": \"#E5ECF6\", \"showlakes\": true, \"showland\": true, \"subunitcolor\": \"white\"}, \"hoverlabel\": {\"align\": \"left\"}, \"hovermode\": \"closest\", \"mapbox\": {\"style\": \"light\"}, \"paper_bgcolor\": \"white\", \"plot_bgcolor\": \"#E5ECF6\", \"polar\": {\"angularaxis\": {\"gridcolor\": \"white\", \"linecolor\": \"white\", \"ticks\": \"\"}, \"bgcolor\": \"#E5ECF6\", \"radialaxis\": {\"gridcolor\": \"white\", \"linecolor\": \"white\", \"ticks\": \"\"}}, \"scene\": {\"xaxis\": {\"backgroundcolor\": \"#E5ECF6\", \"gridcolor\": \"white\", \"gridwidth\": 2, \"linecolor\": \"white\", \"showbackground\": true, \"ticks\": \"\", \"zerolinecolor\": \"white\"}, \"yaxis\": {\"backgroundcolor\": \"#E5ECF6\", \"gridcolor\": \"white\", \"gridwidth\": 2, \"linecolor\": \"white\", \"showbackground\": true, \"ticks\": \"\", \"zerolinecolor\": \"white\"}, \"zaxis\": {\"backgroundcolor\": \"#E5ECF6\", \"gridcolor\": \"white\", \"gridwidth\": 2, \"linecolor\": \"white\", \"showbackground\": true, \"ticks\": \"\", \"zerolinecolor\": \"white\"}}, \"shapedefaults\": {\"line\": {\"color\": \"#2a3f5f\"}}, \"ternary\": {\"aaxis\": {\"gridcolor\": \"white\", \"linecolor\": \"white\", \"ticks\": \"\"}, \"baxis\": {\"gridcolor\": \"white\", \"linecolor\": \"white\", \"ticks\": \"\"}, \"bgcolor\": \"#E5ECF6\", \"caxis\": {\"gridcolor\": \"white\", \"linecolor\": \"white\", \"ticks\": \"\"}}, \"title\": {\"x\": 0.05}, \"xaxis\": {\"automargin\": true, \"gridcolor\": \"white\", \"linecolor\": \"white\", \"ticks\": \"\", \"title\": {\"standoff\": 15}, \"zerolinecolor\": \"white\", \"zerolinewidth\": 2}, \"yaxis\": {\"automargin\": true, \"gridcolor\": \"white\", \"linecolor\": \"white\", \"ticks\": \"\", \"title\": {\"standoff\": 15}, \"zerolinecolor\": \"white\", \"zerolinewidth\": 2}}}, \"title\": {\"text\": \"Minutes Vs. Age\"}, \"xaxis\": {\"anchor\": \"y\", \"domain\": [0.0, 1.0], \"title\": {\"text\": \"MPG\"}}, \"yaxis\": {\"anchor\": \"x\", \"domain\": [0.0, 1.0], \"title\": {\"text\": \"AGE\"}}},                        {\"responsive\": true}                    ).then(function(){\n",
              "                            \n",
              "var gd = document.getElementById('212a2727-d7b8-476c-b048-9987cfa98377');\n",
              "var x = new MutationObserver(function (mutations, observer) {{\n",
              "        var display = window.getComputedStyle(gd).display;\n",
              "        if (!display || display === 'none') {{\n",
              "            console.log([gd, 'removed!']);\n",
              "            Plotly.purge(gd);\n",
              "            observer.disconnect();\n",
              "        }}\n",
              "}});\n",
              "\n",
              "// Listen for the removal of the full notebook cells\n",
              "var notebookContainer = gd.closest('#notebook-container');\n",
              "if (notebookContainer) {{\n",
              "    x.observe(notebookContainer, {childList: true});\n",
              "}}\n",
              "\n",
              "// Listen for the clearing of the current output cell\n",
              "var outputEl = gd.closest('.output');\n",
              "if (outputEl) {{\n",
              "    x.observe(outputEl, {childList: true});\n",
              "}}\n",
              "\n",
              "                        })                };                            </script>        </div>\n",
              "</body>\n",
              "</html>"
            ]
          },
          "metadata": {
            "tags": []
          }
        }
      ]
    },
    {
      "cell_type": "code",
      "metadata": {
        "colab": {
          "base_uri": "https://localhost:8080/",
          "height": 542
        },
        "id": "x3a51c-vfFNC",
        "outputId": "4832d94c-4986-4498-b8ef-5e95469147b2"
      },
      "source": [
        "px.scatter(nba_20_copy, y = 'AGE', x = 'MPG', color='POS', title='Minutes Vs. Age', template='plotly_dark')"
      ],
      "execution_count": null,
      "outputs": [
        {
          "output_type": "display_data",
          "data": {
            "text/html": [
              "<html>\n",
              "<head><meta charset=\"utf-8\" /></head>\n",
              "<body>\n",
              "    <div>            <script src=\"https://cdnjs.cloudflare.com/ajax/libs/mathjax/2.7.5/MathJax.js?config=TeX-AMS-MML_SVG\"></script><script type=\"text/javascript\">if (window.MathJax) {MathJax.Hub.Config({SVG: {font: \"STIX-Web\"}});}</script>                <script type=\"text/javascript\">window.PlotlyConfig = {MathJaxConfig: 'local'};</script>\n",
              "        <script src=\"https://cdn.plot.ly/plotly-latest.min.js\"></script>                <div id=\"6fccb509-20d6-4d71-8eca-80b2e20e1bf6\" class=\"plotly-graph-div\" style=\"height:525px; width:100%;\"></div>            <script type=\"text/javascript\">                                    window.PLOTLYENV=window.PLOTLYENV || {};                                    if (document.getElementById(\"6fccb509-20d6-4d71-8eca-80b2e20e1bf6\")) {                    Plotly.newPlot(                        \"6fccb509-20d6-4d71-8eca-80b2e20e1bf6\",                        [{\"hovertemplate\": \"POS=G<br>MPG=%{x}<br>AGE=%{y}<extra></extra>\", \"legendgroup\": \"G\", \"marker\": {\"color\": \"#636efa\", \"symbol\": \"circle\"}, \"mode\": \"markers\", \"name\": \"G\", \"orientation\": \"v\", \"showlegend\": true, \"type\": \"scatter\", \"x\": [6.9, 25.6, 5.2, 20.8, 29.7, 40.0, 26.1, 23.7, 29.0, 24.3, 16.2, 28.6, 4.1, 4.6, 33.0, 17.1, 4.1, 28.8, 14.0, 8.4, 16.5, 29.2, 32.5, 3.5, 10.4, 2.9, 29.3, 34.1, 25.0, 33.9, 37.3, 27.1, 33.6, 26.8, 18.0, 8.5, 14.2, 23.2, 34.9, 35.7, 37.6, 9.0, 1.1, 24.6, 39.2, 9.3, 3.1, 11.8, 37.7, 21.4, 11.3, 39.6, 12.9, 15.9, 30.6, 37.3, 24.8, 36.1, 17.6, 24.7, 32.4, 18.7, 20.5, 38.1, 7.5, 13.5, 8.4, 5.6, 39.1, 0.3, 7.6, 36.9, 16.0, 2.4, 4.4, 32.7, 2.4, 26.2, 13.3], \"xaxis\": \"x\", \"y\": [24.44, 32.92, 36.29, 32.25, 30.84, 27.83, 27.91, 29.23, 27.65, 26.62, 24.89, 28.35, 23.22, 26.7, 33.0, 27.76, 27.56, 30.14, 23.41, 22.2, 23.7, 21.48, 34.44, 22.59, 22.41, 26.6, 22.37, 31.8, 33.31, 28.57, 31.13, 26.08, 20.73, 34.44, 24.03, 19.88, 30.49, 28.43, 26.13, 30.24, 34.55, 24.31, 26.53, 34.0, 29.06, 28.55, 29.21, 27.67, 24.09, 25.29, 24.6, 23.63, 28.4, 25.19, 28.44, 35.44, 27.38, 27.07, 28.2, 34.64, 27.07, 23.58, 21.35, 26.6, 35.09, 24.78, 26.19, 23.05, 26.63, 24.33, 28.84, 30.43, 31.22, 22.75, 25.78, 31.91, 26.07, 33.96, 28.46], \"yaxis\": \"y\"}, {\"hovertemplate\": \"POS=C<br>MPG=%{x}<br>AGE=%{y}<extra></extra>\", \"legendgroup\": \"C\", \"marker\": {\"color\": \"#EF553B\", \"symbol\": \"circle\"}, \"mode\": \"markers\", \"name\": \"C\", \"orientation\": \"v\", \"showlegend\": true, \"type\": \"scatter\", \"x\": [30.0, 33.1, 17.9, 1.4, 20.7, 38.6, 36.5, 10.3, 10.3, 32.8, 6.9, 13.7, 32.3, 15.2, 36.9, 21.2, 24.6], \"xaxis\": \"x\", \"y\": [27.23, 22.48, 28.04, 24.84, 35.7, 28.29, 25.64, 28.39, 28.62, 32.53, 32.53, 32.16, 26.14, 29.48, 29.97, 31.33, 23.57], \"yaxis\": \"y\"}, {\"hovertemplate\": \"POS=C-F<br>MPG=%{x}<br>AGE=%{y}<extra></extra>\", \"legendgroup\": \"C-F\", \"marker\": {\"color\": \"#00cc96\", \"symbol\": \"circle\"}, \"mode\": \"markers\", \"name\": \"C-F\", \"orientation\": \"v\", \"showlegend\": true, \"type\": \"scatter\", \"x\": [36.2, 5.4, 8.1, 36.2, 32.1, 15.7, 9.7, 13.9, 5.7, 1.8, 36.4, 11.5], \"xaxis\": \"x\", \"y\": [23.24, 20.9, 22.67, 26.58, 34.36, 34.84, 32.73, 26.51, 30.55, 26.96, 24.55, 22.99], \"yaxis\": \"y\"}, {\"hovertemplate\": \"POS=F-G<br>MPG=%{x}<br>AGE=%{y}<extra></extra>\", \"legendgroup\": \"F-G\", \"marker\": {\"color\": \"#ab63fa\", \"symbol\": \"circle\"}, \"mode\": \"markers\", \"name\": \"F-G\", \"orientation\": \"v\", \"showlegend\": true, \"type\": \"scatter\", \"x\": [9.4, 18.0, 39.5, 13.6, 32.8, 31.0, 33.5, 6.7, 40.6], \"xaxis\": \"x\", \"y\": [26.9, 20.33, 23.97, 25.63, 31.52, 27.35, 33.03, 24.37, 22.61], \"yaxis\": \"y\"}, {\"hovertemplate\": \"POS=F<br>MPG=%{x}<br>AGE=%{y}<extra></extra>\", \"legendgroup\": \"F\", \"marker\": {\"color\": \"#FFA15A\", \"symbol\": \"circle\"}, \"mode\": \"markers\", \"name\": \"F\", \"orientation\": \"v\", \"showlegend\": true, \"type\": \"scatter\", \"x\": [30.8, 35.1, 35.7, 4.7, 6.5, 38.4, 3.3, 2.9, 28.7, 4.2, 31.6, 19.8, 31.4, 5.0, 3.4, 23.8, 31.8, 13.3, 30.3, 36.8, 34.4, 28.4, 6.6, 37.2, 31.4, 6.0, 13.8, 7.7, 22.9, 7.8, 15.2, 5.3, 36.3, 0.2, 3.6, 6.5, 9.2, 33.9, 14.6, 23.0, 3.6, 39.3, 13.6, 35.5, 24.2, 12.3, 29.9, 18.4, 8.5, 16.3, 9.4, 35.5, 4.9, 6.5, 23.7, 28.6, 12.5, 5.0, 38.0, 28.3, 5.7, 34.5, 3.1, 39.1, 10.0, 17.9], \"xaxis\": \"x\", \"y\": [25.85, 36.37, 23.24, 24.72, 24.35, 31.08, 25.06, 34.21, 25.9, 23.05, 29.83, 29.81, 30.27, 29.24, 35.26, 30.28, 27.44, 23.55, 32.18, 30.45, 26.59, 34.12, 23.18, 28.24, 30.56, 29.57, 21.54, 25.77, 31.07, 33.41, 25.81, 25.54, 35.78, 24.47, 24.81, 23.66, 27.04, 28.7, 22.68, 25.22, 24.81, 29.29, 28.77, 29.17, 35.67, 23.49, 31.11, 31.11, 27.05, 27.32, 25.85, 27.35, 31.58, 27.69, 22.29, 26.47, 27.56, 32.24, 26.53, 28.52, 32.47, 35.44, 25.13, 27.1, 21.87, 34.32], \"yaxis\": \"y\"}, {\"hovertemplate\": \"POS=F-C<br>MPG=%{x}<br>AGE=%{y}<extra></extra>\", \"legendgroup\": \"F-C\", \"marker\": {\"color\": \"#19d3f3\", \"symbol\": \"circle\"}, \"mode\": \"markers\", \"name\": \"F-C\", \"orientation\": \"v\", \"showlegend\": true, \"type\": \"scatter\", \"x\": [6.1, 36.6, 17.1, 18.7, 9.9, 1.0, 10.9, 31.5], \"xaxis\": \"x\", \"y\": [27.75, 27.59, 30.31, 26.71, 29.28, 35.63, 30.61, 25.2], \"yaxis\": \"y\"}, {\"hovertemplate\": \"POS=G-F<br>MPG=%{x}<br>AGE=%{y}<extra></extra>\", \"legendgroup\": \"G-F\", \"marker\": {\"color\": \"#FF6692\", \"symbol\": \"circle\"}, \"mode\": \"markers\", \"name\": \"G-F\", \"orientation\": \"v\", \"showlegend\": true, \"type\": \"scatter\", \"x\": [3.6, 2.1, 2.3, 35.8, 10.4, 34.1, 39.9, 5.7, 36.2, 19.5, 10.1, 11.9, 6.5, 32.9, 2.1, 5.3, 31.5, 13.1, 7.0, 4.6, 3.4, 27.0, 34.3, 18.9, 30.6], \"xaxis\": \"x\", \"y\": [25.67, 26.7, 23.32, 21.62, 23.96, 27.95, 22.25, 27.22, 29.1, 36.7, 23.22, 39.57, 20.97, 25.43, 23.98, 27.6, 24.04, 21.43, 23.19, 23.36, 28.86, 29.68, 34.43, 23.61, 21.73], \"yaxis\": \"y\"}],                        {\"legend\": {\"title\": {\"text\": \"POS\"}, \"tracegroupgap\": 0}, \"template\": {\"data\": {\"bar\": [{\"error_x\": {\"color\": \"#f2f5fa\"}, \"error_y\": {\"color\": \"#f2f5fa\"}, \"marker\": {\"line\": {\"color\": \"rgb(17,17,17)\", \"width\": 0.5}}, \"type\": \"bar\"}], \"barpolar\": [{\"marker\": {\"line\": {\"color\": \"rgb(17,17,17)\", \"width\": 0.5}}, \"type\": \"barpolar\"}], \"carpet\": [{\"aaxis\": {\"endlinecolor\": \"#A2B1C6\", \"gridcolor\": \"#506784\", \"linecolor\": \"#506784\", \"minorgridcolor\": \"#506784\", \"startlinecolor\": \"#A2B1C6\"}, \"baxis\": {\"endlinecolor\": \"#A2B1C6\", \"gridcolor\": \"#506784\", \"linecolor\": \"#506784\", \"minorgridcolor\": \"#506784\", \"startlinecolor\": \"#A2B1C6\"}, \"type\": \"carpet\"}], \"choropleth\": [{\"colorbar\": {\"outlinewidth\": 0, \"ticks\": \"\"}, \"type\": \"choropleth\"}], \"contour\": [{\"colorbar\": {\"outlinewidth\": 0, \"ticks\": \"\"}, \"colorscale\": [[0.0, \"#0d0887\"], [0.1111111111111111, \"#46039f\"], [0.2222222222222222, \"#7201a8\"], [0.3333333333333333, \"#9c179e\"], [0.4444444444444444, \"#bd3786\"], [0.5555555555555556, \"#d8576b\"], [0.6666666666666666, \"#ed7953\"], [0.7777777777777778, \"#fb9f3a\"], [0.8888888888888888, \"#fdca26\"], [1.0, \"#f0f921\"]], \"type\": \"contour\"}], \"contourcarpet\": [{\"colorbar\": {\"outlinewidth\": 0, \"ticks\": \"\"}, \"type\": \"contourcarpet\"}], \"heatmap\": [{\"colorbar\": {\"outlinewidth\": 0, \"ticks\": \"\"}, \"colorscale\": [[0.0, \"#0d0887\"], [0.1111111111111111, \"#46039f\"], [0.2222222222222222, \"#7201a8\"], [0.3333333333333333, \"#9c179e\"], [0.4444444444444444, \"#bd3786\"], [0.5555555555555556, \"#d8576b\"], [0.6666666666666666, \"#ed7953\"], [0.7777777777777778, \"#fb9f3a\"], [0.8888888888888888, \"#fdca26\"], [1.0, \"#f0f921\"]], \"type\": \"heatmap\"}], \"heatmapgl\": [{\"colorbar\": {\"outlinewidth\": 0, \"ticks\": \"\"}, \"colorscale\": [[0.0, \"#0d0887\"], [0.1111111111111111, \"#46039f\"], [0.2222222222222222, \"#7201a8\"], [0.3333333333333333, \"#9c179e\"], [0.4444444444444444, \"#bd3786\"], [0.5555555555555556, \"#d8576b\"], [0.6666666666666666, \"#ed7953\"], [0.7777777777777778, \"#fb9f3a\"], [0.8888888888888888, \"#fdca26\"], [1.0, \"#f0f921\"]], \"type\": \"heatmapgl\"}], \"histogram\": [{\"marker\": {\"colorbar\": {\"outlinewidth\": 0, \"ticks\": \"\"}}, \"type\": \"histogram\"}], \"histogram2d\": [{\"colorbar\": {\"outlinewidth\": 0, \"ticks\": \"\"}, \"colorscale\": [[0.0, \"#0d0887\"], [0.1111111111111111, \"#46039f\"], [0.2222222222222222, \"#7201a8\"], [0.3333333333333333, \"#9c179e\"], [0.4444444444444444, \"#bd3786\"], [0.5555555555555556, \"#d8576b\"], [0.6666666666666666, \"#ed7953\"], [0.7777777777777778, \"#fb9f3a\"], [0.8888888888888888, \"#fdca26\"], [1.0, \"#f0f921\"]], \"type\": \"histogram2d\"}], \"histogram2dcontour\": [{\"colorbar\": {\"outlinewidth\": 0, \"ticks\": \"\"}, \"colorscale\": [[0.0, \"#0d0887\"], [0.1111111111111111, \"#46039f\"], [0.2222222222222222, \"#7201a8\"], [0.3333333333333333, \"#9c179e\"], [0.4444444444444444, \"#bd3786\"], [0.5555555555555556, \"#d8576b\"], [0.6666666666666666, \"#ed7953\"], [0.7777777777777778, \"#fb9f3a\"], [0.8888888888888888, \"#fdca26\"], [1.0, \"#f0f921\"]], \"type\": \"histogram2dcontour\"}], \"mesh3d\": [{\"colorbar\": {\"outlinewidth\": 0, \"ticks\": \"\"}, \"type\": \"mesh3d\"}], \"parcoords\": [{\"line\": {\"colorbar\": {\"outlinewidth\": 0, \"ticks\": \"\"}}, \"type\": \"parcoords\"}], \"pie\": [{\"automargin\": true, \"type\": \"pie\"}], \"scatter\": [{\"marker\": {\"line\": {\"color\": \"#283442\"}}, \"type\": \"scatter\"}], \"scatter3d\": [{\"line\": {\"colorbar\": {\"outlinewidth\": 0, \"ticks\": \"\"}}, \"marker\": {\"colorbar\": {\"outlinewidth\": 0, \"ticks\": \"\"}}, \"type\": \"scatter3d\"}], \"scattercarpet\": [{\"marker\": {\"colorbar\": {\"outlinewidth\": 0, \"ticks\": \"\"}}, \"type\": \"scattercarpet\"}], \"scattergeo\": [{\"marker\": {\"colorbar\": {\"outlinewidth\": 0, \"ticks\": \"\"}}, \"type\": \"scattergeo\"}], \"scattergl\": [{\"marker\": {\"line\": {\"color\": \"#283442\"}}, \"type\": \"scattergl\"}], \"scattermapbox\": [{\"marker\": {\"colorbar\": {\"outlinewidth\": 0, \"ticks\": \"\"}}, \"type\": \"scattermapbox\"}], \"scatterpolar\": [{\"marker\": {\"colorbar\": {\"outlinewidth\": 0, \"ticks\": \"\"}}, \"type\": \"scatterpolar\"}], \"scatterpolargl\": [{\"marker\": {\"colorbar\": {\"outlinewidth\": 0, \"ticks\": \"\"}}, \"type\": \"scatterpolargl\"}], \"scatterternary\": [{\"marker\": {\"colorbar\": {\"outlinewidth\": 0, \"ticks\": \"\"}}, \"type\": \"scatterternary\"}], \"surface\": [{\"colorbar\": {\"outlinewidth\": 0, \"ticks\": \"\"}, \"colorscale\": [[0.0, \"#0d0887\"], [0.1111111111111111, \"#46039f\"], [0.2222222222222222, \"#7201a8\"], [0.3333333333333333, \"#9c179e\"], [0.4444444444444444, \"#bd3786\"], [0.5555555555555556, \"#d8576b\"], [0.6666666666666666, \"#ed7953\"], [0.7777777777777778, \"#fb9f3a\"], [0.8888888888888888, \"#fdca26\"], [1.0, \"#f0f921\"]], \"type\": \"surface\"}], \"table\": [{\"cells\": {\"fill\": {\"color\": \"#506784\"}, \"line\": {\"color\": \"rgb(17,17,17)\"}}, \"header\": {\"fill\": {\"color\": \"#2a3f5f\"}, \"line\": {\"color\": \"rgb(17,17,17)\"}}, \"type\": \"table\"}]}, \"layout\": {\"annotationdefaults\": {\"arrowcolor\": \"#f2f5fa\", \"arrowhead\": 0, \"arrowwidth\": 1}, \"autotypenumbers\": \"strict\", \"coloraxis\": {\"colorbar\": {\"outlinewidth\": 0, \"ticks\": \"\"}}, \"colorscale\": {\"diverging\": [[0, \"#8e0152\"], [0.1, \"#c51b7d\"], [0.2, \"#de77ae\"], [0.3, \"#f1b6da\"], [0.4, \"#fde0ef\"], [0.5, \"#f7f7f7\"], [0.6, \"#e6f5d0\"], [0.7, \"#b8e186\"], [0.8, \"#7fbc41\"], [0.9, \"#4d9221\"], [1, \"#276419\"]], \"sequential\": [[0.0, \"#0d0887\"], [0.1111111111111111, \"#46039f\"], [0.2222222222222222, \"#7201a8\"], [0.3333333333333333, \"#9c179e\"], [0.4444444444444444, \"#bd3786\"], [0.5555555555555556, \"#d8576b\"], [0.6666666666666666, \"#ed7953\"], [0.7777777777777778, \"#fb9f3a\"], [0.8888888888888888, \"#fdca26\"], [1.0, \"#f0f921\"]], \"sequentialminus\": [[0.0, \"#0d0887\"], [0.1111111111111111, \"#46039f\"], [0.2222222222222222, \"#7201a8\"], [0.3333333333333333, \"#9c179e\"], [0.4444444444444444, \"#bd3786\"], [0.5555555555555556, \"#d8576b\"], [0.6666666666666666, \"#ed7953\"], [0.7777777777777778, \"#fb9f3a\"], [0.8888888888888888, \"#fdca26\"], [1.0, \"#f0f921\"]]}, \"colorway\": [\"#636efa\", \"#EF553B\", \"#00cc96\", \"#ab63fa\", \"#FFA15A\", \"#19d3f3\", \"#FF6692\", \"#B6E880\", \"#FF97FF\", \"#FECB52\"], \"font\": {\"color\": \"#f2f5fa\"}, \"geo\": {\"bgcolor\": \"rgb(17,17,17)\", \"lakecolor\": \"rgb(17,17,17)\", \"landcolor\": \"rgb(17,17,17)\", \"showlakes\": true, \"showland\": true, \"subunitcolor\": \"#506784\"}, \"hoverlabel\": {\"align\": \"left\"}, \"hovermode\": \"closest\", \"mapbox\": {\"style\": \"dark\"}, \"paper_bgcolor\": \"rgb(17,17,17)\", \"plot_bgcolor\": \"rgb(17,17,17)\", \"polar\": {\"angularaxis\": {\"gridcolor\": \"#506784\", \"linecolor\": \"#506784\", \"ticks\": \"\"}, \"bgcolor\": \"rgb(17,17,17)\", \"radialaxis\": {\"gridcolor\": \"#506784\", \"linecolor\": \"#506784\", \"ticks\": \"\"}}, \"scene\": {\"xaxis\": {\"backgroundcolor\": \"rgb(17,17,17)\", \"gridcolor\": \"#506784\", \"gridwidth\": 2, \"linecolor\": \"#506784\", \"showbackground\": true, \"ticks\": \"\", \"zerolinecolor\": \"#C8D4E3\"}, \"yaxis\": {\"backgroundcolor\": \"rgb(17,17,17)\", \"gridcolor\": \"#506784\", \"gridwidth\": 2, \"linecolor\": \"#506784\", \"showbackground\": true, \"ticks\": \"\", \"zerolinecolor\": \"#C8D4E3\"}, \"zaxis\": {\"backgroundcolor\": \"rgb(17,17,17)\", \"gridcolor\": \"#506784\", \"gridwidth\": 2, \"linecolor\": \"#506784\", \"showbackground\": true, \"ticks\": \"\", \"zerolinecolor\": \"#C8D4E3\"}}, \"shapedefaults\": {\"line\": {\"color\": \"#f2f5fa\"}}, \"sliderdefaults\": {\"bgcolor\": \"#C8D4E3\", \"bordercolor\": \"rgb(17,17,17)\", \"borderwidth\": 1, \"tickwidth\": 0}, \"ternary\": {\"aaxis\": {\"gridcolor\": \"#506784\", \"linecolor\": \"#506784\", \"ticks\": \"\"}, \"baxis\": {\"gridcolor\": \"#506784\", \"linecolor\": \"#506784\", \"ticks\": \"\"}, \"bgcolor\": \"rgb(17,17,17)\", \"caxis\": {\"gridcolor\": \"#506784\", \"linecolor\": \"#506784\", \"ticks\": \"\"}}, \"title\": {\"x\": 0.05}, \"updatemenudefaults\": {\"bgcolor\": \"#506784\", \"borderwidth\": 0}, \"xaxis\": {\"automargin\": true, \"gridcolor\": \"#283442\", \"linecolor\": \"#506784\", \"ticks\": \"\", \"title\": {\"standoff\": 15}, \"zerolinecolor\": \"#283442\", \"zerolinewidth\": 2}, \"yaxis\": {\"automargin\": true, \"gridcolor\": \"#283442\", \"linecolor\": \"#506784\", \"ticks\": \"\", \"title\": {\"standoff\": 15}, \"zerolinecolor\": \"#283442\", \"zerolinewidth\": 2}}}, \"title\": {\"text\": \"Minutes Vs. Age\"}, \"xaxis\": {\"anchor\": \"y\", \"domain\": [0.0, 1.0], \"title\": {\"text\": \"MPG\"}}, \"yaxis\": {\"anchor\": \"x\", \"domain\": [0.0, 1.0], \"title\": {\"text\": \"AGE\"}}},                        {\"responsive\": true}                    ).then(function(){\n",
              "                            \n",
              "var gd = document.getElementById('6fccb509-20d6-4d71-8eca-80b2e20e1bf6');\n",
              "var x = new MutationObserver(function (mutations, observer) {{\n",
              "        var display = window.getComputedStyle(gd).display;\n",
              "        if (!display || display === 'none') {{\n",
              "            console.log([gd, 'removed!']);\n",
              "            Plotly.purge(gd);\n",
              "            observer.disconnect();\n",
              "        }}\n",
              "}});\n",
              "\n",
              "// Listen for the removal of the full notebook cells\n",
              "var notebookContainer = gd.closest('#notebook-container');\n",
              "if (notebookContainer) {{\n",
              "    x.observe(notebookContainer, {childList: true});\n",
              "}}\n",
              "\n",
              "// Listen for the clearing of the current output cell\n",
              "var outputEl = gd.closest('.output');\n",
              "if (outputEl) {{\n",
              "    x.observe(outputEl, {childList: true});\n",
              "}}\n",
              "\n",
              "                        })                };                            </script>        </div>\n",
              "</body>\n",
              "</html>"
            ]
          },
          "metadata": {
            "tags": []
          }
        }
      ]
    },
    {
      "cell_type": "markdown",
      "metadata": {
        "id": "pWs4pQJ-hxVu"
      },
      "source": [
        "#"
      ]
    },
    {
      "cell_type": "markdown",
      "metadata": {
        "id": "cub0nHniiCOX"
      },
      "source": [
        "#Analysis by Position-Age-Minutes"
      ]
    },
    {
      "cell_type": "code",
      "metadata": {
        "id": "4-_EbxGyfy5e"
      },
      "source": [
        "pd.pivot_table(nba_20_copy, index=['POS', 'AGE'], values='MPG', aggfunc='count')"
      ],
      "execution_count": null,
      "outputs": []
    },
    {
      "cell_type": "markdown",
      "metadata": {
        "id": "iKhe-t9XiV1c"
      },
      "source": [
        "#Maximum minutes per game"
      ]
    },
    {
      "cell_type": "code",
      "metadata": {
        "colab": {
          "base_uri": "https://localhost:8080/"
        },
        "id": "_CAbsB64iw3H",
        "outputId": "b8754327-92a5-4afb-92c8-9d257963d91c"
      },
      "source": [
        "nba_20_copy.MPG.max()"
      ],
      "execution_count": null,
      "outputs": [
        {
          "output_type": "execute_result",
          "data": {
            "text/plain": [
              "40.6"
            ]
          },
          "metadata": {
            "tags": []
          },
          "execution_count": 12
        }
      ]
    },
    {
      "cell_type": "markdown",
      "metadata": {
        "id": "3v-6ykW4i2qe"
      },
      "source": [
        "#How many players played the whole game"
      ]
    },
    {
      "cell_type": "code",
      "metadata": {
        "id": "d47hqfkKvCAM",
        "colab": {
          "base_uri": "https://localhost:8080/",
          "height": 168
        },
        "outputId": "5004099a-8995-40d8-c662-b70139e4b5cd"
      },
      "source": [
        "#nba_20_copy[nba_20_copy.MPG == nba_20_copy.MPG.max()]\r\n",
        "nba_20_copy.loc[nba_20_copy.MPG == 40.6]"
      ],
      "execution_count": null,
      "outputs": [
        {
          "output_type": "execute_result",
          "data": {
            "text/html": [
              "<div>\n",
              "<style scoped>\n",
              "    .dataframe tbody tr th:only-of-type {\n",
              "        vertical-align: middle;\n",
              "    }\n",
              "\n",
              "    .dataframe tbody tr th {\n",
              "        vertical-align: top;\n",
              "    }\n",
              "\n",
              "    .dataframe thead th {\n",
              "        text-align: right;\n",
              "    }\n",
              "</style>\n",
              "<table border=\"1\" class=\"dataframe\">\n",
              "  <thead>\n",
              "    <tr style=\"text-align: right;\">\n",
              "      <th></th>\n",
              "      <th>RANK</th>\n",
              "      <th>FULL_NAME</th>\n",
              "      <th>TEAM</th>\n",
              "      <th>POS</th>\n",
              "      <th>AGE</th>\n",
              "      <th>GP</th>\n",
              "      <th>MPG</th>\n",
              "      <th>MIN%Minutes_PercentagePercentage_of_team_minutes_used_by_a_player_while_he_was_on_the_floor</th>\n",
              "      <th>USG%Usage_RateUsage_rate,_a.k.a.,_usage_percentage_is_an_estimate_of_the_percentage_of_team_plays_used_by_a_player_while_he_was_on_the_floor</th>\n",
              "      <th>TO%Turnover_RateA_metric_that_estimates_the_number_of_turnovers_a_player_commits_per_100_possessions</th>\n",
              "      <th>FTA</th>\n",
              "      <th>FT%</th>\n",
              "      <th>2PA</th>\n",
              "      <th>2P%</th>\n",
              "      <th>3PA</th>\n",
              "      <th>3P%</th>\n",
              "      <th>eFG%Effective_Shooting_PercentageWith_eFG%,_three-point_shots_made_are_worth_50%_more_than_two-point_shots_made._eFG%_Formula=(FGM+_(0.5_x_3PM))/FGA</th>\n",
              "      <th>TS%True_Shooting_PercentageTrue_shooting_percentage_is_a_measure_of_shooting_efficiency_that_takes_into_account_field_goals,_3-point_field_goals,_and_free_throws.</th>\n",
              "      <th>PPGPointsPoints_per_game.</th>\n",
              "      <th>RPGReboundsRebounds_per_game.</th>\n",
              "      <th>TRB%Total_Rebound_PercentageTotal_rebound_percentage_is_estimated_percentage_of_available_rebounds_grabbed_by_the_player_while_the_player_is_on_the_court.</th>\n",
              "      <th>APGAssistsAssists_per_game.</th>\n",
              "      <th>AST%Assist_PercentageAssist_percentage_is_an_estimated_percentage_of_teammate_field_goals_a_player_assisted_while_the_player_is_on_the_court</th>\n",
              "      <th>SPGStealsSteals_per_game.</th>\n",
              "      <th>BPGBlocksBlocks_per_game.</th>\n",
              "      <th>TOPGTurnoversTurnovers_per_game.</th>\n",
              "      <th>VIVersatility_IndexVersatility_index_is_a_metric_that_measures_a_player’s_ability_to_produce_in_points,_assists,_and_rebounds._The_average_player_will_score_around_a_five_on_the_index,_while_top_players_score_above_10</th>\n",
              "      <th>ORTGOffensive_RatingIndividual_offensive_rating_is_the_number_of_points_produced_by_a_player_per_100_total_individual_possessions.</th>\n",
              "      <th>DRTGDefensive_RatingIndividual_defensive_rating_estimates_how_many_points_the_player_allowed_per_100_possessions_he_individually_faced_while_staying_on_the_court.</th>\n",
              "    </tr>\n",
              "  </thead>\n",
              "  <tbody>\n",
              "    <tr>\n",
              "      <th>187</th>\n",
              "      <td>NaN</td>\n",
              "      <td>Jayson Tatum</td>\n",
              "      <td>Bos</td>\n",
              "      <td>F-G</td>\n",
              "      <td>22.61</td>\n",
              "      <td>17</td>\n",
              "      <td>40.6</td>\n",
              "      <td>84.6</td>\n",
              "      <td>28.2</td>\n",
              "      <td>11.0</td>\n",
              "      <td>123</td>\n",
              "      <td>0.813</td>\n",
              "      <td>208</td>\n",
              "      <td>0.471</td>\n",
              "      <td>126</td>\n",
              "      <td>0.373</td>\n",
              "      <td>0.504</td>\n",
              "      <td>0.563</td>\n",
              "      <td>25.7</td>\n",
              "      <td>10.0</td>\n",
              "      <td>13.8</td>\n",
              "      <td>5.0</td>\n",
              "      <td>21.3</td>\n",
              "      <td>1.0</td>\n",
              "      <td>1.18</td>\n",
              "      <td>2.82</td>\n",
              "      <td>10.7</td>\n",
              "      <td>112.5</td>\n",
              "      <td>103.1</td>\n",
              "    </tr>\n",
              "  </tbody>\n",
              "</table>\n",
              "</div>"
            ],
            "text/plain": [
              "     RANK  ... DRTGDefensive_RatingIndividual_defensive_rating_estimates_how_many_points_the_player_allowed_per_100_possessions_he_individually_faced_while_staying_on_the_court.\n",
              "187   NaN  ...                                              103.1                                                                                                                \n",
              "\n",
              "[1 rows x 29 columns]"
            ]
          },
          "metadata": {
            "tags": []
          },
          "execution_count": 13
        }
      ]
    },
    {
      "cell_type": "markdown",
      "metadata": {
        "id": "VOTCOm8pkb09"
      },
      "source": [
        "#Age distribution"
      ]
    },
    {
      "cell_type": "code",
      "metadata": {
        "id": "KKxRlH9nxP3M",
        "colab": {
          "base_uri": "https://localhost:8080/",
          "height": 542
        },
        "outputId": "c0e474e8-952c-44cf-8f9b-17d335e97280"
      },
      "source": [
        "#px.histogram(nba_20_copy,)\r\n",
        "fig = px.histogram(nba_20_copy, x=\"AGE\", title='Age Histogram', template='seaborn')\r\n",
        "fig.show()"
      ],
      "execution_count": null,
      "outputs": [
        {
          "output_type": "display_data",
          "data": {
            "text/html": [
              "<html>\n",
              "<head><meta charset=\"utf-8\" /></head>\n",
              "<body>\n",
              "    <div>            <script src=\"https://cdnjs.cloudflare.com/ajax/libs/mathjax/2.7.5/MathJax.js?config=TeX-AMS-MML_SVG\"></script><script type=\"text/javascript\">if (window.MathJax) {MathJax.Hub.Config({SVG: {font: \"STIX-Web\"}});}</script>                <script type=\"text/javascript\">window.PlotlyConfig = {MathJaxConfig: 'local'};</script>\n",
              "        <script src=\"https://cdn.plot.ly/plotly-latest.min.js\"></script>                <div id=\"9fd6122d-51ab-4600-b57a-4f905905535a\" class=\"plotly-graph-div\" style=\"height:525px; width:100%;\"></div>            <script type=\"text/javascript\">                                    window.PLOTLYENV=window.PLOTLYENV || {};                                    if (document.getElementById(\"9fd6122d-51ab-4600-b57a-4f905905535a\")) {                    Plotly.newPlot(                        \"9fd6122d-51ab-4600-b57a-4f905905535a\",                        [{\"alignmentgroup\": \"True\", \"bingroup\": \"x\", \"hovertemplate\": \"AGE=%{x}<br>count=%{y}<extra></extra>\", \"legendgroup\": \"\", \"marker\": {\"color\": \"rgb(76,114,176)\"}, \"name\": \"\", \"offsetgroup\": \"\", \"orientation\": \"v\", \"showlegend\": false, \"type\": \"histogram\", \"x\": [24.44, 27.23, 23.24, 22.48, 26.9, 25.85, 36.37, 23.24, 32.92, 36.29, 24.72, 20.33, 32.25, 28.04, 30.84, 20.9, 27.75, 22.67, 24.35, 27.83, 23.97, 25.67, 27.91, 29.23, 26.7, 31.08, 25.06, 27.65, 34.21, 26.62, 24.89, 25.9, 28.35, 23.22, 26.7, 23.32, 33.0, 27.76, 27.56, 23.05, 29.83, 29.81, 30.27, 30.14, 29.24, 27.59, 23.41, 22.2, 23.7, 21.62, 21.48, 23.96, 34.44, 35.26, 22.59, 26.58, 30.28, 24.84, 22.41, 27.44, 27.95, 26.6, 22.37, 23.55, 32.18, 35.7, 30.45, 22.25, 28.29, 31.8, 26.59, 33.31, 30.31, 27.22, 34.12, 23.18, 28.57, 31.13, 26.71, 26.08, 29.1, 28.24, 30.56, 20.73, 25.63, 34.44, 29.57, 21.54, 24.03, 31.52, 25.77, 34.36, 19.88, 27.35, 34.84, 31.07, 36.7, 33.41, 33.03, 25.81, 25.54, 30.49, 35.78, 24.47, 24.81, 24.37, 28.43, 25.64, 23.66, 28.39, 27.04, 28.7, 23.22, 39.57, 22.68, 25.22, 20.97, 24.81, 29.29, 28.62, 26.13, 30.24, 32.53, 32.53, 34.55, 25.43, 23.98, 32.16, 24.31, 26.53, 34.0, 29.06, 28.55, 28.77, 32.73, 29.21, 27.67, 29.17, 27.6, 35.67, 24.04, 24.09, 23.49, 31.11, 31.11, 25.29, 24.6, 23.63, 21.43, 29.28, 27.05, 28.4, 27.32, 35.63, 26.51, 25.19, 26.14, 25.85, 28.44, 29.48, 27.35, 23.19, 30.55, 31.58, 35.44, 27.69, 30.61, 26.96, 22.29, 25.2, 27.38, 23.36, 27.07, 28.2, 28.86, 26.47, 34.64, 29.68, 27.56, 27.07, 32.24, 23.58, 26.53, 21.35, 26.6, 35.09, 24.78, 22.61, 34.43, 28.52, 32.47, 26.19, 23.61, 21.73, 35.44, 23.05, 24.55, 26.63, 24.33, 25.13, 29.97, 28.84, 30.43, 31.22, 27.1, 22.75, 25.78, 31.91, 31.33, 22.99, 26.07, 21.87, 33.96, 34.32, 28.46, 23.57], \"xaxis\": \"x\", \"yaxis\": \"y\"}],                        {\"barmode\": \"relative\", \"legend\": {\"tracegroupgap\": 0}, \"template\": {\"data\": {\"bar\": [{\"error_x\": {\"color\": \"rgb(36,36,36)\"}, \"error_y\": {\"color\": \"rgb(36,36,36)\"}, \"marker\": {\"line\": {\"color\": \"rgb(234,234,242)\", \"width\": 0.5}}, \"type\": \"bar\"}], \"barpolar\": [{\"marker\": {\"line\": {\"color\": \"rgb(234,234,242)\", \"width\": 0.5}}, \"type\": \"barpolar\"}], \"carpet\": [{\"aaxis\": {\"endlinecolor\": \"rgb(36,36,36)\", \"gridcolor\": \"white\", \"linecolor\": \"white\", \"minorgridcolor\": \"white\", \"startlinecolor\": \"rgb(36,36,36)\"}, \"baxis\": {\"endlinecolor\": \"rgb(36,36,36)\", \"gridcolor\": \"white\", \"linecolor\": \"white\", \"minorgridcolor\": \"white\", \"startlinecolor\": \"rgb(36,36,36)\"}, \"type\": \"carpet\"}], \"choropleth\": [{\"colorbar\": {\"outlinewidth\": 0, \"tickcolor\": \"rgb(36,36,36)\", \"ticklen\": 8, \"ticks\": \"outside\", \"tickwidth\": 2}, \"type\": \"choropleth\"}], \"contour\": [{\"colorbar\": {\"outlinewidth\": 0, \"tickcolor\": \"rgb(36,36,36)\", \"ticklen\": 8, \"ticks\": \"outside\", \"tickwidth\": 2}, \"colorscale\": [[0.0, \"rgb(2,4,25)\"], [0.06274509803921569, \"rgb(24,15,41)\"], [0.12549019607843137, \"rgb(47,23,57)\"], [0.18823529411764706, \"rgb(71,28,72)\"], [0.25098039215686274, \"rgb(97,30,82)\"], [0.3137254901960784, \"rgb(123,30,89)\"], [0.3764705882352941, \"rgb(150,27,91)\"], [0.4392156862745098, \"rgb(177,22,88)\"], [0.5019607843137255, \"rgb(203,26,79)\"], [0.5647058823529412, \"rgb(223,47,67)\"], [0.6274509803921569, \"rgb(236,76,61)\"], [0.6901960784313725, \"rgb(242,107,73)\"], [0.7529411764705882, \"rgb(244,135,95)\"], [0.8156862745098039, \"rgb(245,162,122)\"], [0.8784313725490196, \"rgb(246,188,153)\"], [0.9411764705882353, \"rgb(247,212,187)\"], [1.0, \"rgb(250,234,220)\"]], \"type\": \"contour\"}], \"contourcarpet\": [{\"colorbar\": {\"outlinewidth\": 0, \"tickcolor\": \"rgb(36,36,36)\", \"ticklen\": 8, \"ticks\": \"outside\", \"tickwidth\": 2}, \"type\": \"contourcarpet\"}], \"heatmap\": [{\"colorbar\": {\"outlinewidth\": 0, \"tickcolor\": \"rgb(36,36,36)\", \"ticklen\": 8, \"ticks\": \"outside\", \"tickwidth\": 2}, \"colorscale\": [[0.0, \"rgb(2,4,25)\"], [0.06274509803921569, \"rgb(24,15,41)\"], [0.12549019607843137, \"rgb(47,23,57)\"], [0.18823529411764706, \"rgb(71,28,72)\"], [0.25098039215686274, \"rgb(97,30,82)\"], [0.3137254901960784, \"rgb(123,30,89)\"], [0.3764705882352941, \"rgb(150,27,91)\"], [0.4392156862745098, \"rgb(177,22,88)\"], [0.5019607843137255, \"rgb(203,26,79)\"], [0.5647058823529412, \"rgb(223,47,67)\"], [0.6274509803921569, \"rgb(236,76,61)\"], [0.6901960784313725, \"rgb(242,107,73)\"], [0.7529411764705882, \"rgb(244,135,95)\"], [0.8156862745098039, \"rgb(245,162,122)\"], [0.8784313725490196, \"rgb(246,188,153)\"], [0.9411764705882353, \"rgb(247,212,187)\"], [1.0, \"rgb(250,234,220)\"]], \"type\": \"heatmap\"}], \"heatmapgl\": [{\"colorbar\": {\"outlinewidth\": 0, \"tickcolor\": \"rgb(36,36,36)\", \"ticklen\": 8, \"ticks\": \"outside\", \"tickwidth\": 2}, \"colorscale\": [[0.0, \"rgb(2,4,25)\"], [0.06274509803921569, \"rgb(24,15,41)\"], [0.12549019607843137, \"rgb(47,23,57)\"], [0.18823529411764706, \"rgb(71,28,72)\"], [0.25098039215686274, \"rgb(97,30,82)\"], [0.3137254901960784, \"rgb(123,30,89)\"], [0.3764705882352941, \"rgb(150,27,91)\"], [0.4392156862745098, \"rgb(177,22,88)\"], [0.5019607843137255, \"rgb(203,26,79)\"], [0.5647058823529412, \"rgb(223,47,67)\"], [0.6274509803921569, \"rgb(236,76,61)\"], [0.6901960784313725, \"rgb(242,107,73)\"], [0.7529411764705882, \"rgb(244,135,95)\"], [0.8156862745098039, \"rgb(245,162,122)\"], [0.8784313725490196, \"rgb(246,188,153)\"], [0.9411764705882353, \"rgb(247,212,187)\"], [1.0, \"rgb(250,234,220)\"]], \"type\": \"heatmapgl\"}], \"histogram\": [{\"marker\": {\"colorbar\": {\"outlinewidth\": 0, \"tickcolor\": \"rgb(36,36,36)\", \"ticklen\": 8, \"ticks\": \"outside\", \"tickwidth\": 2}}, \"type\": \"histogram\"}], \"histogram2d\": [{\"colorbar\": {\"outlinewidth\": 0, \"tickcolor\": \"rgb(36,36,36)\", \"ticklen\": 8, \"ticks\": \"outside\", \"tickwidth\": 2}, \"colorscale\": [[0.0, \"rgb(2,4,25)\"], [0.06274509803921569, \"rgb(24,15,41)\"], [0.12549019607843137, \"rgb(47,23,57)\"], [0.18823529411764706, \"rgb(71,28,72)\"], [0.25098039215686274, \"rgb(97,30,82)\"], [0.3137254901960784, \"rgb(123,30,89)\"], [0.3764705882352941, \"rgb(150,27,91)\"], [0.4392156862745098, \"rgb(177,22,88)\"], [0.5019607843137255, \"rgb(203,26,79)\"], [0.5647058823529412, \"rgb(223,47,67)\"], [0.6274509803921569, \"rgb(236,76,61)\"], [0.6901960784313725, \"rgb(242,107,73)\"], [0.7529411764705882, \"rgb(244,135,95)\"], [0.8156862745098039, \"rgb(245,162,122)\"], [0.8784313725490196, \"rgb(246,188,153)\"], [0.9411764705882353, \"rgb(247,212,187)\"], [1.0, \"rgb(250,234,220)\"]], \"type\": \"histogram2d\"}], \"histogram2dcontour\": [{\"colorbar\": {\"outlinewidth\": 0, \"tickcolor\": \"rgb(36,36,36)\", \"ticklen\": 8, \"ticks\": \"outside\", \"tickwidth\": 2}, \"colorscale\": [[0.0, \"rgb(2,4,25)\"], [0.06274509803921569, \"rgb(24,15,41)\"], [0.12549019607843137, \"rgb(47,23,57)\"], [0.18823529411764706, \"rgb(71,28,72)\"], [0.25098039215686274, \"rgb(97,30,82)\"], [0.3137254901960784, \"rgb(123,30,89)\"], [0.3764705882352941, \"rgb(150,27,91)\"], [0.4392156862745098, \"rgb(177,22,88)\"], [0.5019607843137255, \"rgb(203,26,79)\"], [0.5647058823529412, \"rgb(223,47,67)\"], [0.6274509803921569, \"rgb(236,76,61)\"], [0.6901960784313725, \"rgb(242,107,73)\"], [0.7529411764705882, \"rgb(244,135,95)\"], [0.8156862745098039, \"rgb(245,162,122)\"], [0.8784313725490196, \"rgb(246,188,153)\"], [0.9411764705882353, \"rgb(247,212,187)\"], [1.0, \"rgb(250,234,220)\"]], \"type\": \"histogram2dcontour\"}], \"mesh3d\": [{\"colorbar\": {\"outlinewidth\": 0, \"tickcolor\": \"rgb(36,36,36)\", \"ticklen\": 8, \"ticks\": \"outside\", \"tickwidth\": 2}, \"type\": \"mesh3d\"}], \"parcoords\": [{\"line\": {\"colorbar\": {\"outlinewidth\": 0, \"tickcolor\": \"rgb(36,36,36)\", \"ticklen\": 8, \"ticks\": \"outside\", \"tickwidth\": 2}}, \"type\": \"parcoords\"}], \"pie\": [{\"automargin\": true, \"type\": \"pie\"}], \"scatter\": [{\"marker\": {\"colorbar\": {\"outlinewidth\": 0, \"tickcolor\": \"rgb(36,36,36)\", \"ticklen\": 8, \"ticks\": \"outside\", \"tickwidth\": 2}}, \"type\": \"scatter\"}], \"scatter3d\": [{\"line\": {\"colorbar\": {\"outlinewidth\": 0, \"tickcolor\": \"rgb(36,36,36)\", \"ticklen\": 8, \"ticks\": \"outside\", \"tickwidth\": 2}}, \"marker\": {\"colorbar\": {\"outlinewidth\": 0, \"tickcolor\": \"rgb(36,36,36)\", \"ticklen\": 8, \"ticks\": \"outside\", \"tickwidth\": 2}}, \"type\": \"scatter3d\"}], \"scattercarpet\": [{\"marker\": {\"colorbar\": {\"outlinewidth\": 0, \"tickcolor\": \"rgb(36,36,36)\", \"ticklen\": 8, \"ticks\": \"outside\", \"tickwidth\": 2}}, \"type\": \"scattercarpet\"}], \"scattergeo\": [{\"marker\": {\"colorbar\": {\"outlinewidth\": 0, \"tickcolor\": \"rgb(36,36,36)\", \"ticklen\": 8, \"ticks\": \"outside\", \"tickwidth\": 2}}, \"type\": \"scattergeo\"}], \"scattergl\": [{\"marker\": {\"colorbar\": {\"outlinewidth\": 0, \"tickcolor\": \"rgb(36,36,36)\", \"ticklen\": 8, \"ticks\": \"outside\", \"tickwidth\": 2}}, \"type\": \"scattergl\"}], \"scattermapbox\": [{\"marker\": {\"colorbar\": {\"outlinewidth\": 0, \"tickcolor\": \"rgb(36,36,36)\", \"ticklen\": 8, \"ticks\": \"outside\", \"tickwidth\": 2}}, \"type\": \"scattermapbox\"}], \"scatterpolar\": [{\"marker\": {\"colorbar\": {\"outlinewidth\": 0, \"tickcolor\": \"rgb(36,36,36)\", \"ticklen\": 8, \"ticks\": \"outside\", \"tickwidth\": 2}}, \"type\": \"scatterpolar\"}], \"scatterpolargl\": [{\"marker\": {\"colorbar\": {\"outlinewidth\": 0, \"tickcolor\": \"rgb(36,36,36)\", \"ticklen\": 8, \"ticks\": \"outside\", \"tickwidth\": 2}}, \"type\": \"scatterpolargl\"}], \"scatterternary\": [{\"marker\": {\"colorbar\": {\"outlinewidth\": 0, \"tickcolor\": \"rgb(36,36,36)\", \"ticklen\": 8, \"ticks\": \"outside\", \"tickwidth\": 2}}, \"type\": \"scatterternary\"}], \"surface\": [{\"colorbar\": {\"outlinewidth\": 0, \"tickcolor\": \"rgb(36,36,36)\", \"ticklen\": 8, \"ticks\": \"outside\", \"tickwidth\": 2}, \"colorscale\": [[0.0, \"rgb(2,4,25)\"], [0.06274509803921569, \"rgb(24,15,41)\"], [0.12549019607843137, \"rgb(47,23,57)\"], [0.18823529411764706, \"rgb(71,28,72)\"], [0.25098039215686274, \"rgb(97,30,82)\"], [0.3137254901960784, \"rgb(123,30,89)\"], [0.3764705882352941, \"rgb(150,27,91)\"], [0.4392156862745098, \"rgb(177,22,88)\"], [0.5019607843137255, \"rgb(203,26,79)\"], [0.5647058823529412, \"rgb(223,47,67)\"], [0.6274509803921569, \"rgb(236,76,61)\"], [0.6901960784313725, \"rgb(242,107,73)\"], [0.7529411764705882, \"rgb(244,135,95)\"], [0.8156862745098039, \"rgb(245,162,122)\"], [0.8784313725490196, \"rgb(246,188,153)\"], [0.9411764705882353, \"rgb(247,212,187)\"], [1.0, \"rgb(250,234,220)\"]], \"type\": \"surface\"}], \"table\": [{\"cells\": {\"fill\": {\"color\": \"rgb(231,231,240)\"}, \"line\": {\"color\": \"white\"}}, \"header\": {\"fill\": {\"color\": \"rgb(183,183,191)\"}, \"line\": {\"color\": \"white\"}}, \"type\": \"table\"}]}, \"layout\": {\"annotationdefaults\": {\"arrowcolor\": \"rgb(67,103,167)\"}, \"autotypenumbers\": \"strict\", \"coloraxis\": {\"colorbar\": {\"outlinewidth\": 0, \"tickcolor\": \"rgb(36,36,36)\", \"ticklen\": 8, \"ticks\": \"outside\", \"tickwidth\": 2}}, \"colorscale\": {\"sequential\": [[0.0, \"rgb(2,4,25)\"], [0.06274509803921569, \"rgb(24,15,41)\"], [0.12549019607843137, \"rgb(47,23,57)\"], [0.18823529411764706, \"rgb(71,28,72)\"], [0.25098039215686274, \"rgb(97,30,82)\"], [0.3137254901960784, \"rgb(123,30,89)\"], [0.3764705882352941, \"rgb(150,27,91)\"], [0.4392156862745098, \"rgb(177,22,88)\"], [0.5019607843137255, \"rgb(203,26,79)\"], [0.5647058823529412, \"rgb(223,47,67)\"], [0.6274509803921569, \"rgb(236,76,61)\"], [0.6901960784313725, \"rgb(242,107,73)\"], [0.7529411764705882, \"rgb(244,135,95)\"], [0.8156862745098039, \"rgb(245,162,122)\"], [0.8784313725490196, \"rgb(246,188,153)\"], [0.9411764705882353, \"rgb(247,212,187)\"], [1.0, \"rgb(250,234,220)\"]], \"sequentialminus\": [[0.0, \"rgb(2,4,25)\"], [0.06274509803921569, \"rgb(24,15,41)\"], [0.12549019607843137, \"rgb(47,23,57)\"], [0.18823529411764706, \"rgb(71,28,72)\"], [0.25098039215686274, \"rgb(97,30,82)\"], [0.3137254901960784, \"rgb(123,30,89)\"], [0.3764705882352941, \"rgb(150,27,91)\"], [0.4392156862745098, \"rgb(177,22,88)\"], [0.5019607843137255, \"rgb(203,26,79)\"], [0.5647058823529412, \"rgb(223,47,67)\"], [0.6274509803921569, \"rgb(236,76,61)\"], [0.6901960784313725, \"rgb(242,107,73)\"], [0.7529411764705882, \"rgb(244,135,95)\"], [0.8156862745098039, \"rgb(245,162,122)\"], [0.8784313725490196, \"rgb(246,188,153)\"], [0.9411764705882353, \"rgb(247,212,187)\"], [1.0, \"rgb(250,234,220)\"]]}, \"colorway\": [\"rgb(76,114,176)\", \"rgb(221,132,82)\", \"rgb(85,168,104)\", \"rgb(196,78,82)\", \"rgb(129,114,179)\", \"rgb(147,120,96)\", \"rgb(218,139,195)\", \"rgb(140,140,140)\", \"rgb(204,185,116)\", \"rgb(100,181,205)\"], \"font\": {\"color\": \"rgb(36,36,36)\"}, \"geo\": {\"bgcolor\": \"white\", \"lakecolor\": \"white\", \"landcolor\": \"rgb(234,234,242)\", \"showlakes\": true, \"showland\": true, \"subunitcolor\": \"white\"}, \"hoverlabel\": {\"align\": \"left\"}, \"hovermode\": \"closest\", \"paper_bgcolor\": \"white\", \"plot_bgcolor\": \"rgb(234,234,242)\", \"polar\": {\"angularaxis\": {\"gridcolor\": \"white\", \"linecolor\": \"white\", \"showgrid\": true, \"ticks\": \"\"}, \"bgcolor\": \"rgb(234,234,242)\", \"radialaxis\": {\"gridcolor\": \"white\", \"linecolor\": \"white\", \"showgrid\": true, \"ticks\": \"\"}}, \"scene\": {\"xaxis\": {\"backgroundcolor\": \"rgb(234,234,242)\", \"gridcolor\": \"white\", \"gridwidth\": 2, \"linecolor\": \"white\", \"showbackground\": true, \"showgrid\": true, \"ticks\": \"\", \"zerolinecolor\": \"white\"}, \"yaxis\": {\"backgroundcolor\": \"rgb(234,234,242)\", \"gridcolor\": \"white\", \"gridwidth\": 2, \"linecolor\": \"white\", \"showbackground\": true, \"showgrid\": true, \"ticks\": \"\", \"zerolinecolor\": \"white\"}, \"zaxis\": {\"backgroundcolor\": \"rgb(234,234,242)\", \"gridcolor\": \"white\", \"gridwidth\": 2, \"linecolor\": \"white\", \"showbackground\": true, \"showgrid\": true, \"ticks\": \"\", \"zerolinecolor\": \"white\"}}, \"shapedefaults\": {\"fillcolor\": \"rgb(67,103,167)\", \"line\": {\"width\": 0}, \"opacity\": 0.5}, \"ternary\": {\"aaxis\": {\"gridcolor\": \"white\", \"linecolor\": \"white\", \"showgrid\": true, \"ticks\": \"\"}, \"baxis\": {\"gridcolor\": \"white\", \"linecolor\": \"white\", \"showgrid\": true, \"ticks\": \"\"}, \"bgcolor\": \"rgb(234,234,242)\", \"caxis\": {\"gridcolor\": \"white\", \"linecolor\": \"white\", \"showgrid\": true, \"ticks\": \"\"}}, \"xaxis\": {\"automargin\": true, \"gridcolor\": \"white\", \"linecolor\": \"white\", \"showgrid\": true, \"ticks\": \"\", \"title\": {\"standoff\": 15}, \"zerolinecolor\": \"white\"}, \"yaxis\": {\"automargin\": true, \"gridcolor\": \"white\", \"linecolor\": \"white\", \"showgrid\": true, \"ticks\": \"\", \"title\": {\"standoff\": 15}, \"zerolinecolor\": \"white\"}}}, \"title\": {\"text\": \"Age Histogram\"}, \"xaxis\": {\"anchor\": \"y\", \"domain\": [0.0, 1.0], \"title\": {\"text\": \"AGE\"}}, \"yaxis\": {\"anchor\": \"x\", \"domain\": [0.0, 1.0], \"title\": {\"text\": \"count\"}}},                        {\"responsive\": true}                    ).then(function(){\n",
              "                            \n",
              "var gd = document.getElementById('9fd6122d-51ab-4600-b57a-4f905905535a');\n",
              "var x = new MutationObserver(function (mutations, observer) {{\n",
              "        var display = window.getComputedStyle(gd).display;\n",
              "        if (!display || display === 'none') {{\n",
              "            console.log([gd, 'removed!']);\n",
              "            Plotly.purge(gd);\n",
              "            observer.disconnect();\n",
              "        }}\n",
              "}});\n",
              "\n",
              "// Listen for the removal of the full notebook cells\n",
              "var notebookContainer = gd.closest('#notebook-container');\n",
              "if (notebookContainer) {{\n",
              "    x.observe(notebookContainer, {childList: true});\n",
              "}}\n",
              "\n",
              "// Listen for the clearing of the current output cell\n",
              "var outputEl = gd.closest('.output');\n",
              "if (outputEl) {{\n",
              "    x.observe(outputEl, {childList: true});\n",
              "}}\n",
              "\n",
              "                        })                };                            </script>        </div>\n",
              "</body>\n",
              "</html>"
            ]
          },
          "metadata": {
            "tags": []
          }
        }
      ]
    },
    {
      "cell_type": "code",
      "metadata": {
        "colab": {
          "base_uri": "https://localhost:8080/",
          "height": 542
        },
        "id": "nJB39322oT1O",
        "outputId": "c5f5ca0b-d169-4429-dbe9-0d3a7a8bbe27"
      },
      "source": [
        "fig = px.histogram(nba_20_copy, x=\"AGE\", histnorm='probability density', title='Age Density', template='presentation')\r\n",
        "fig.show()"
      ],
      "execution_count": null,
      "outputs": [
        {
          "output_type": "display_data",
          "data": {
            "text/html": [
              "<html>\n",
              "<head><meta charset=\"utf-8\" /></head>\n",
              "<body>\n",
              "    <div>            <script src=\"https://cdnjs.cloudflare.com/ajax/libs/mathjax/2.7.5/MathJax.js?config=TeX-AMS-MML_SVG\"></script><script type=\"text/javascript\">if (window.MathJax) {MathJax.Hub.Config({SVG: {font: \"STIX-Web\"}});}</script>                <script type=\"text/javascript\">window.PlotlyConfig = {MathJaxConfig: 'local'};</script>\n",
              "        <script src=\"https://cdn.plot.ly/plotly-latest.min.js\"></script>                <div id=\"d866f4ec-851c-48bf-b2c8-ac256db2ac3f\" class=\"plotly-graph-div\" style=\"height:525px; width:100%;\"></div>            <script type=\"text/javascript\">                                    window.PLOTLYENV=window.PLOTLYENV || {};                                    if (document.getElementById(\"d866f4ec-851c-48bf-b2c8-ac256db2ac3f\")) {                    Plotly.newPlot(                        \"d866f4ec-851c-48bf-b2c8-ac256db2ac3f\",                        [{\"alignmentgroup\": \"True\", \"bingroup\": \"x\", \"histnorm\": \"probability density\", \"hovertemplate\": \"AGE=%{x}<br>probability density=%{y}<extra></extra>\", \"legendgroup\": \"\", \"marker\": {\"color\": \"#1F77B4\"}, \"name\": \"\", \"offsetgroup\": \"\", \"orientation\": \"v\", \"showlegend\": false, \"type\": \"histogram\", \"x\": [24.44, 27.23, 23.24, 22.48, 26.9, 25.85, 36.37, 23.24, 32.92, 36.29, 24.72, 20.33, 32.25, 28.04, 30.84, 20.9, 27.75, 22.67, 24.35, 27.83, 23.97, 25.67, 27.91, 29.23, 26.7, 31.08, 25.06, 27.65, 34.21, 26.62, 24.89, 25.9, 28.35, 23.22, 26.7, 23.32, 33.0, 27.76, 27.56, 23.05, 29.83, 29.81, 30.27, 30.14, 29.24, 27.59, 23.41, 22.2, 23.7, 21.62, 21.48, 23.96, 34.44, 35.26, 22.59, 26.58, 30.28, 24.84, 22.41, 27.44, 27.95, 26.6, 22.37, 23.55, 32.18, 35.7, 30.45, 22.25, 28.29, 31.8, 26.59, 33.31, 30.31, 27.22, 34.12, 23.18, 28.57, 31.13, 26.71, 26.08, 29.1, 28.24, 30.56, 20.73, 25.63, 34.44, 29.57, 21.54, 24.03, 31.52, 25.77, 34.36, 19.88, 27.35, 34.84, 31.07, 36.7, 33.41, 33.03, 25.81, 25.54, 30.49, 35.78, 24.47, 24.81, 24.37, 28.43, 25.64, 23.66, 28.39, 27.04, 28.7, 23.22, 39.57, 22.68, 25.22, 20.97, 24.81, 29.29, 28.62, 26.13, 30.24, 32.53, 32.53, 34.55, 25.43, 23.98, 32.16, 24.31, 26.53, 34.0, 29.06, 28.55, 28.77, 32.73, 29.21, 27.67, 29.17, 27.6, 35.67, 24.04, 24.09, 23.49, 31.11, 31.11, 25.29, 24.6, 23.63, 21.43, 29.28, 27.05, 28.4, 27.32, 35.63, 26.51, 25.19, 26.14, 25.85, 28.44, 29.48, 27.35, 23.19, 30.55, 31.58, 35.44, 27.69, 30.61, 26.96, 22.29, 25.2, 27.38, 23.36, 27.07, 28.2, 28.86, 26.47, 34.64, 29.68, 27.56, 27.07, 32.24, 23.58, 26.53, 21.35, 26.6, 35.09, 24.78, 22.61, 34.43, 28.52, 32.47, 26.19, 23.61, 21.73, 35.44, 23.05, 24.55, 26.63, 24.33, 25.13, 29.97, 28.84, 30.43, 31.22, 27.1, 22.75, 25.78, 31.91, 31.33, 22.99, 26.07, 21.87, 33.96, 34.32, 28.46, 23.57], \"xaxis\": \"x\", \"yaxis\": \"y\"}],                        {\"barmode\": \"relative\", \"legend\": {\"tracegroupgap\": 0}, \"template\": {\"data\": {\"pie\": [{\"automargin\": true, \"type\": \"pie\"}], \"scatter\": [{\"line\": {\"width\": 3}, \"marker\": {\"size\": 9}, \"type\": \"scatter\"}], \"scatter3d\": [{\"line\": {\"width\": 3}, \"marker\": {\"size\": 9}, \"type\": \"scatter3d\"}], \"scattergeo\": [{\"line\": {\"width\": 3}, \"marker\": {\"size\": 9}, \"type\": \"scattergeo\"}], \"scattergl\": [{\"line\": {\"width\": 3}, \"marker\": {\"size\": 9}, \"type\": \"scattergl\"}], \"scatterpolar\": [{\"line\": {\"width\": 3}, \"marker\": {\"size\": 9}, \"type\": \"scatterpolar\"}], \"scatterpolargl\": [{\"line\": {\"width\": 3}, \"marker\": {\"size\": 9}, \"type\": \"scatterpolargl\"}], \"scatterternary\": [{\"line\": {\"width\": 3}, \"marker\": {\"size\": 9}, \"type\": \"scatterternary\"}], \"table\": [{\"cells\": {\"height\": 30}, \"header\": {\"height\": 36}, \"type\": \"table\"}]}, \"layout\": {\"font\": {\"size\": 18}, \"xaxis\": {\"title\": {\"standoff\": 15}}, \"yaxis\": {\"title\": {\"standoff\": 15}}}}, \"title\": {\"text\": \"Age Density\"}, \"xaxis\": {\"anchor\": \"y\", \"domain\": [0.0, 1.0], \"title\": {\"text\": \"AGE\"}}, \"yaxis\": {\"anchor\": \"x\", \"domain\": [0.0, 1.0], \"title\": {\"text\": \"probability density\"}}},                        {\"responsive\": true}                    ).then(function(){\n",
              "                            \n",
              "var gd = document.getElementById('d866f4ec-851c-48bf-b2c8-ac256db2ac3f');\n",
              "var x = new MutationObserver(function (mutations, observer) {{\n",
              "        var display = window.getComputedStyle(gd).display;\n",
              "        if (!display || display === 'none') {{\n",
              "            console.log([gd, 'removed!']);\n",
              "            Plotly.purge(gd);\n",
              "            observer.disconnect();\n",
              "        }}\n",
              "}});\n",
              "\n",
              "// Listen for the removal of the full notebook cells\n",
              "var notebookContainer = gd.closest('#notebook-container');\n",
              "if (notebookContainer) {{\n",
              "    x.observe(notebookContainer, {childList: true});\n",
              "}}\n",
              "\n",
              "// Listen for the clearing of the current output cell\n",
              "var outputEl = gd.closest('.output');\n",
              "if (outputEl) {{\n",
              "    x.observe(outputEl, {childList: true});\n",
              "}}\n",
              "\n",
              "                        })                };                            </script>        </div>\n",
              "</body>\n",
              "</html>"
            ]
          },
          "metadata": {
            "tags": []
          }
        }
      ]
    },
    {
      "cell_type": "code",
      "metadata": {
        "colab": {
          "base_uri": "https://localhost:8080/",
          "height": 542
        },
        "id": "ftumPBSMsAec",
        "outputId": "a8d52f65-b733-4345-ea02-fae615ffa6f7"
      },
      "source": [
        "fig = px.histogram(nba_20_copy, x=\"AGE\", histnorm='probability density', title='Age/Position Density', template='plotly_dark', color = 'POS')\r\n",
        "fig.show()"
      ],
      "execution_count": null,
      "outputs": [
        {
          "output_type": "display_data",
          "data": {
            "text/html": [
              "<html>\n",
              "<head><meta charset=\"utf-8\" /></head>\n",
              "<body>\n",
              "    <div>            <script src=\"https://cdnjs.cloudflare.com/ajax/libs/mathjax/2.7.5/MathJax.js?config=TeX-AMS-MML_SVG\"></script><script type=\"text/javascript\">if (window.MathJax) {MathJax.Hub.Config({SVG: {font: \"STIX-Web\"}});}</script>                <script type=\"text/javascript\">window.PlotlyConfig = {MathJaxConfig: 'local'};</script>\n",
              "        <script src=\"https://cdn.plot.ly/plotly-latest.min.js\"></script>                <div id=\"ea377ba6-8212-439d-a261-36c29a767ced\" class=\"plotly-graph-div\" style=\"height:525px; width:100%;\"></div>            <script type=\"text/javascript\">                                    window.PLOTLYENV=window.PLOTLYENV || {};                                    if (document.getElementById(\"ea377ba6-8212-439d-a261-36c29a767ced\")) {                    Plotly.newPlot(                        \"ea377ba6-8212-439d-a261-36c29a767ced\",                        [{\"alignmentgroup\": \"True\", \"bingroup\": \"x\", \"histnorm\": \"probability density\", \"hovertemplate\": \"POS=G<br>AGE=%{x}<br>probability density=%{y}<extra></extra>\", \"legendgroup\": \"G\", \"marker\": {\"color\": \"#636efa\"}, \"name\": \"G\", \"offsetgroup\": \"G\", \"orientation\": \"v\", \"showlegend\": true, \"type\": \"histogram\", \"x\": [24.44, 32.92, 36.29, 32.25, 30.84, 27.83, 27.91, 29.23, 27.65, 26.62, 24.89, 28.35, 23.22, 26.7, 33.0, 27.76, 27.56, 30.14, 23.41, 22.2, 23.7, 21.48, 34.44, 22.59, 22.41, 26.6, 22.37, 31.8, 33.31, 28.57, 31.13, 26.08, 20.73, 34.44, 24.03, 19.88, 30.49, 28.43, 26.13, 30.24, 34.55, 24.31, 26.53, 34.0, 29.06, 28.55, 29.21, 27.67, 24.09, 25.29, 24.6, 23.63, 28.4, 25.19, 28.44, 35.44, 27.38, 27.07, 28.2, 34.64, 27.07, 23.58, 21.35, 26.6, 35.09, 24.78, 26.19, 23.05, 26.63, 24.33, 28.84, 30.43, 31.22, 22.75, 25.78, 31.91, 26.07, 33.96, 28.46], \"xaxis\": \"x\", \"yaxis\": \"y\"}, {\"alignmentgroup\": \"True\", \"bingroup\": \"x\", \"histnorm\": \"probability density\", \"hovertemplate\": \"POS=C<br>AGE=%{x}<br>probability density=%{y}<extra></extra>\", \"legendgroup\": \"C\", \"marker\": {\"color\": \"#EF553B\"}, \"name\": \"C\", \"offsetgroup\": \"C\", \"orientation\": \"v\", \"showlegend\": true, \"type\": \"histogram\", \"x\": [27.23, 22.48, 28.04, 24.84, 35.7, 28.29, 25.64, 28.39, 28.62, 32.53, 32.53, 32.16, 26.14, 29.48, 29.97, 31.33, 23.57], \"xaxis\": \"x\", \"yaxis\": \"y\"}, {\"alignmentgroup\": \"True\", \"bingroup\": \"x\", \"histnorm\": \"probability density\", \"hovertemplate\": \"POS=C-F<br>AGE=%{x}<br>probability density=%{y}<extra></extra>\", \"legendgroup\": \"C-F\", \"marker\": {\"color\": \"#00cc96\"}, \"name\": \"C-F\", \"offsetgroup\": \"C-F\", \"orientation\": \"v\", \"showlegend\": true, \"type\": \"histogram\", \"x\": [23.24, 20.9, 22.67, 26.58, 34.36, 34.84, 32.73, 26.51, 30.55, 26.96, 24.55, 22.99], \"xaxis\": \"x\", \"yaxis\": \"y\"}, {\"alignmentgroup\": \"True\", \"bingroup\": \"x\", \"histnorm\": \"probability density\", \"hovertemplate\": \"POS=F-G<br>AGE=%{x}<br>probability density=%{y}<extra></extra>\", \"legendgroup\": \"F-G\", \"marker\": {\"color\": \"#ab63fa\"}, \"name\": \"F-G\", \"offsetgroup\": \"F-G\", \"orientation\": \"v\", \"showlegend\": true, \"type\": \"histogram\", \"x\": [26.9, 20.33, 23.97, 25.63, 31.52, 27.35, 33.03, 24.37, 22.61], \"xaxis\": \"x\", \"yaxis\": \"y\"}, {\"alignmentgroup\": \"True\", \"bingroup\": \"x\", \"histnorm\": \"probability density\", \"hovertemplate\": \"POS=F<br>AGE=%{x}<br>probability density=%{y}<extra></extra>\", \"legendgroup\": \"F\", \"marker\": {\"color\": \"#FFA15A\"}, \"name\": \"F\", \"offsetgroup\": \"F\", \"orientation\": \"v\", \"showlegend\": true, \"type\": \"histogram\", \"x\": [25.85, 36.37, 23.24, 24.72, 24.35, 31.08, 25.06, 34.21, 25.9, 23.05, 29.83, 29.81, 30.27, 29.24, 35.26, 30.28, 27.44, 23.55, 32.18, 30.45, 26.59, 34.12, 23.18, 28.24, 30.56, 29.57, 21.54, 25.77, 31.07, 33.41, 25.81, 25.54, 35.78, 24.47, 24.81, 23.66, 27.04, 28.7, 22.68, 25.22, 24.81, 29.29, 28.77, 29.17, 35.67, 23.49, 31.11, 31.11, 27.05, 27.32, 25.85, 27.35, 31.58, 27.69, 22.29, 26.47, 27.56, 32.24, 26.53, 28.52, 32.47, 35.44, 25.13, 27.1, 21.87, 34.32], \"xaxis\": \"x\", \"yaxis\": \"y\"}, {\"alignmentgroup\": \"True\", \"bingroup\": \"x\", \"histnorm\": \"probability density\", \"hovertemplate\": \"POS=F-C<br>AGE=%{x}<br>probability density=%{y}<extra></extra>\", \"legendgroup\": \"F-C\", \"marker\": {\"color\": \"#19d3f3\"}, \"name\": \"F-C\", \"offsetgroup\": \"F-C\", \"orientation\": \"v\", \"showlegend\": true, \"type\": \"histogram\", \"x\": [27.75, 27.59, 30.31, 26.71, 29.28, 35.63, 30.61, 25.2], \"xaxis\": \"x\", \"yaxis\": \"y\"}, {\"alignmentgroup\": \"True\", \"bingroup\": \"x\", \"histnorm\": \"probability density\", \"hovertemplate\": \"POS=G-F<br>AGE=%{x}<br>probability density=%{y}<extra></extra>\", \"legendgroup\": \"G-F\", \"marker\": {\"color\": \"#FF6692\"}, \"name\": \"G-F\", \"offsetgroup\": \"G-F\", \"orientation\": \"v\", \"showlegend\": true, \"type\": \"histogram\", \"x\": [25.67, 26.7, 23.32, 21.62, 23.96, 27.95, 22.25, 27.22, 29.1, 36.7, 23.22, 39.57, 20.97, 25.43, 23.98, 27.6, 24.04, 21.43, 23.19, 23.36, 28.86, 29.68, 34.43, 23.61, 21.73], \"xaxis\": \"x\", \"yaxis\": \"y\"}],                        {\"barmode\": \"relative\", \"legend\": {\"title\": {\"text\": \"POS\"}, \"tracegroupgap\": 0}, \"template\": {\"data\": {\"bar\": [{\"error_x\": {\"color\": \"#f2f5fa\"}, \"error_y\": {\"color\": \"#f2f5fa\"}, \"marker\": {\"line\": {\"color\": \"rgb(17,17,17)\", \"width\": 0.5}}, \"type\": \"bar\"}], \"barpolar\": [{\"marker\": {\"line\": {\"color\": \"rgb(17,17,17)\", \"width\": 0.5}}, \"type\": \"barpolar\"}], \"carpet\": [{\"aaxis\": {\"endlinecolor\": \"#A2B1C6\", \"gridcolor\": \"#506784\", \"linecolor\": \"#506784\", \"minorgridcolor\": \"#506784\", \"startlinecolor\": \"#A2B1C6\"}, \"baxis\": {\"endlinecolor\": \"#A2B1C6\", \"gridcolor\": \"#506784\", \"linecolor\": \"#506784\", \"minorgridcolor\": \"#506784\", \"startlinecolor\": \"#A2B1C6\"}, \"type\": \"carpet\"}], \"choropleth\": [{\"colorbar\": {\"outlinewidth\": 0, \"ticks\": \"\"}, \"type\": \"choropleth\"}], \"contour\": [{\"colorbar\": {\"outlinewidth\": 0, \"ticks\": \"\"}, \"colorscale\": [[0.0, \"#0d0887\"], [0.1111111111111111, \"#46039f\"], [0.2222222222222222, \"#7201a8\"], [0.3333333333333333, \"#9c179e\"], [0.4444444444444444, \"#bd3786\"], [0.5555555555555556, \"#d8576b\"], [0.6666666666666666, \"#ed7953\"], [0.7777777777777778, \"#fb9f3a\"], [0.8888888888888888, \"#fdca26\"], [1.0, \"#f0f921\"]], \"type\": \"contour\"}], \"contourcarpet\": [{\"colorbar\": {\"outlinewidth\": 0, \"ticks\": \"\"}, \"type\": \"contourcarpet\"}], \"heatmap\": [{\"colorbar\": {\"outlinewidth\": 0, \"ticks\": \"\"}, \"colorscale\": [[0.0, \"#0d0887\"], [0.1111111111111111, \"#46039f\"], [0.2222222222222222, \"#7201a8\"], [0.3333333333333333, \"#9c179e\"], [0.4444444444444444, \"#bd3786\"], [0.5555555555555556, \"#d8576b\"], [0.6666666666666666, \"#ed7953\"], [0.7777777777777778, \"#fb9f3a\"], [0.8888888888888888, \"#fdca26\"], [1.0, \"#f0f921\"]], \"type\": \"heatmap\"}], \"heatmapgl\": [{\"colorbar\": {\"outlinewidth\": 0, \"ticks\": \"\"}, \"colorscale\": [[0.0, \"#0d0887\"], [0.1111111111111111, \"#46039f\"], [0.2222222222222222, \"#7201a8\"], [0.3333333333333333, \"#9c179e\"], [0.4444444444444444, \"#bd3786\"], [0.5555555555555556, \"#d8576b\"], [0.6666666666666666, \"#ed7953\"], [0.7777777777777778, \"#fb9f3a\"], [0.8888888888888888, \"#fdca26\"], [1.0, \"#f0f921\"]], \"type\": \"heatmapgl\"}], \"histogram\": [{\"marker\": {\"colorbar\": {\"outlinewidth\": 0, \"ticks\": \"\"}}, \"type\": \"histogram\"}], \"histogram2d\": [{\"colorbar\": {\"outlinewidth\": 0, \"ticks\": \"\"}, \"colorscale\": [[0.0, \"#0d0887\"], [0.1111111111111111, \"#46039f\"], [0.2222222222222222, \"#7201a8\"], [0.3333333333333333, \"#9c179e\"], [0.4444444444444444, \"#bd3786\"], [0.5555555555555556, \"#d8576b\"], [0.6666666666666666, \"#ed7953\"], [0.7777777777777778, \"#fb9f3a\"], [0.8888888888888888, \"#fdca26\"], [1.0, \"#f0f921\"]], \"type\": \"histogram2d\"}], \"histogram2dcontour\": [{\"colorbar\": {\"outlinewidth\": 0, \"ticks\": \"\"}, \"colorscale\": [[0.0, \"#0d0887\"], [0.1111111111111111, \"#46039f\"], [0.2222222222222222, \"#7201a8\"], [0.3333333333333333, \"#9c179e\"], [0.4444444444444444, \"#bd3786\"], [0.5555555555555556, \"#d8576b\"], [0.6666666666666666, \"#ed7953\"], [0.7777777777777778, \"#fb9f3a\"], [0.8888888888888888, \"#fdca26\"], [1.0, \"#f0f921\"]], \"type\": \"histogram2dcontour\"}], \"mesh3d\": [{\"colorbar\": {\"outlinewidth\": 0, \"ticks\": \"\"}, \"type\": \"mesh3d\"}], \"parcoords\": [{\"line\": {\"colorbar\": {\"outlinewidth\": 0, \"ticks\": \"\"}}, \"type\": \"parcoords\"}], \"pie\": [{\"automargin\": true, \"type\": \"pie\"}], \"scatter\": [{\"marker\": {\"line\": {\"color\": \"#283442\"}}, \"type\": \"scatter\"}], \"scatter3d\": [{\"line\": {\"colorbar\": {\"outlinewidth\": 0, \"ticks\": \"\"}}, \"marker\": {\"colorbar\": {\"outlinewidth\": 0, \"ticks\": \"\"}}, \"type\": \"scatter3d\"}], \"scattercarpet\": [{\"marker\": {\"colorbar\": {\"outlinewidth\": 0, \"ticks\": \"\"}}, \"type\": \"scattercarpet\"}], \"scattergeo\": [{\"marker\": {\"colorbar\": {\"outlinewidth\": 0, \"ticks\": \"\"}}, \"type\": \"scattergeo\"}], \"scattergl\": [{\"marker\": {\"line\": {\"color\": \"#283442\"}}, \"type\": \"scattergl\"}], \"scattermapbox\": [{\"marker\": {\"colorbar\": {\"outlinewidth\": 0, \"ticks\": \"\"}}, \"type\": \"scattermapbox\"}], \"scatterpolar\": [{\"marker\": {\"colorbar\": {\"outlinewidth\": 0, \"ticks\": \"\"}}, \"type\": \"scatterpolar\"}], \"scatterpolargl\": [{\"marker\": {\"colorbar\": {\"outlinewidth\": 0, \"ticks\": \"\"}}, \"type\": \"scatterpolargl\"}], \"scatterternary\": [{\"marker\": {\"colorbar\": {\"outlinewidth\": 0, \"ticks\": \"\"}}, \"type\": \"scatterternary\"}], \"surface\": [{\"colorbar\": {\"outlinewidth\": 0, \"ticks\": \"\"}, \"colorscale\": [[0.0, \"#0d0887\"], [0.1111111111111111, \"#46039f\"], [0.2222222222222222, \"#7201a8\"], [0.3333333333333333, \"#9c179e\"], [0.4444444444444444, \"#bd3786\"], [0.5555555555555556, \"#d8576b\"], [0.6666666666666666, \"#ed7953\"], [0.7777777777777778, \"#fb9f3a\"], [0.8888888888888888, \"#fdca26\"], [1.0, \"#f0f921\"]], \"type\": \"surface\"}], \"table\": [{\"cells\": {\"fill\": {\"color\": \"#506784\"}, \"line\": {\"color\": \"rgb(17,17,17)\"}}, \"header\": {\"fill\": {\"color\": \"#2a3f5f\"}, \"line\": {\"color\": \"rgb(17,17,17)\"}}, \"type\": \"table\"}]}, \"layout\": {\"annotationdefaults\": {\"arrowcolor\": \"#f2f5fa\", \"arrowhead\": 0, \"arrowwidth\": 1}, \"autotypenumbers\": \"strict\", \"coloraxis\": {\"colorbar\": {\"outlinewidth\": 0, \"ticks\": \"\"}}, \"colorscale\": {\"diverging\": [[0, \"#8e0152\"], [0.1, \"#c51b7d\"], [0.2, \"#de77ae\"], [0.3, \"#f1b6da\"], [0.4, \"#fde0ef\"], [0.5, \"#f7f7f7\"], [0.6, \"#e6f5d0\"], [0.7, \"#b8e186\"], [0.8, \"#7fbc41\"], [0.9, \"#4d9221\"], [1, \"#276419\"]], \"sequential\": [[0.0, \"#0d0887\"], [0.1111111111111111, \"#46039f\"], [0.2222222222222222, \"#7201a8\"], [0.3333333333333333, \"#9c179e\"], [0.4444444444444444, \"#bd3786\"], [0.5555555555555556, \"#d8576b\"], [0.6666666666666666, \"#ed7953\"], [0.7777777777777778, \"#fb9f3a\"], [0.8888888888888888, \"#fdca26\"], [1.0, \"#f0f921\"]], \"sequentialminus\": [[0.0, \"#0d0887\"], [0.1111111111111111, \"#46039f\"], [0.2222222222222222, \"#7201a8\"], [0.3333333333333333, \"#9c179e\"], [0.4444444444444444, \"#bd3786\"], [0.5555555555555556, \"#d8576b\"], [0.6666666666666666, \"#ed7953\"], [0.7777777777777778, \"#fb9f3a\"], [0.8888888888888888, \"#fdca26\"], [1.0, \"#f0f921\"]]}, \"colorway\": [\"#636efa\", \"#EF553B\", \"#00cc96\", \"#ab63fa\", \"#FFA15A\", \"#19d3f3\", \"#FF6692\", \"#B6E880\", \"#FF97FF\", \"#FECB52\"], \"font\": {\"color\": \"#f2f5fa\"}, \"geo\": {\"bgcolor\": \"rgb(17,17,17)\", \"lakecolor\": \"rgb(17,17,17)\", \"landcolor\": \"rgb(17,17,17)\", \"showlakes\": true, \"showland\": true, \"subunitcolor\": \"#506784\"}, \"hoverlabel\": {\"align\": \"left\"}, \"hovermode\": \"closest\", \"mapbox\": {\"style\": \"dark\"}, \"paper_bgcolor\": \"rgb(17,17,17)\", \"plot_bgcolor\": \"rgb(17,17,17)\", \"polar\": {\"angularaxis\": {\"gridcolor\": \"#506784\", \"linecolor\": \"#506784\", \"ticks\": \"\"}, \"bgcolor\": \"rgb(17,17,17)\", \"radialaxis\": {\"gridcolor\": \"#506784\", \"linecolor\": \"#506784\", \"ticks\": \"\"}}, \"scene\": {\"xaxis\": {\"backgroundcolor\": \"rgb(17,17,17)\", \"gridcolor\": \"#506784\", \"gridwidth\": 2, \"linecolor\": \"#506784\", \"showbackground\": true, \"ticks\": \"\", \"zerolinecolor\": \"#C8D4E3\"}, \"yaxis\": {\"backgroundcolor\": \"rgb(17,17,17)\", \"gridcolor\": \"#506784\", \"gridwidth\": 2, \"linecolor\": \"#506784\", \"showbackground\": true, \"ticks\": \"\", \"zerolinecolor\": \"#C8D4E3\"}, \"zaxis\": {\"backgroundcolor\": \"rgb(17,17,17)\", \"gridcolor\": \"#506784\", \"gridwidth\": 2, \"linecolor\": \"#506784\", \"showbackground\": true, \"ticks\": \"\", \"zerolinecolor\": \"#C8D4E3\"}}, \"shapedefaults\": {\"line\": {\"color\": \"#f2f5fa\"}}, \"sliderdefaults\": {\"bgcolor\": \"#C8D4E3\", \"bordercolor\": \"rgb(17,17,17)\", \"borderwidth\": 1, \"tickwidth\": 0}, \"ternary\": {\"aaxis\": {\"gridcolor\": \"#506784\", \"linecolor\": \"#506784\", \"ticks\": \"\"}, \"baxis\": {\"gridcolor\": \"#506784\", \"linecolor\": \"#506784\", \"ticks\": \"\"}, \"bgcolor\": \"rgb(17,17,17)\", \"caxis\": {\"gridcolor\": \"#506784\", \"linecolor\": \"#506784\", \"ticks\": \"\"}}, \"title\": {\"x\": 0.05}, \"updatemenudefaults\": {\"bgcolor\": \"#506784\", \"borderwidth\": 0}, \"xaxis\": {\"automargin\": true, \"gridcolor\": \"#283442\", \"linecolor\": \"#506784\", \"ticks\": \"\", \"title\": {\"standoff\": 15}, \"zerolinecolor\": \"#283442\", \"zerolinewidth\": 2}, \"yaxis\": {\"automargin\": true, \"gridcolor\": \"#283442\", \"linecolor\": \"#506784\", \"ticks\": \"\", \"title\": {\"standoff\": 15}, \"zerolinecolor\": \"#283442\", \"zerolinewidth\": 2}}}, \"title\": {\"text\": \"Age/Position Density\"}, \"xaxis\": {\"anchor\": \"y\", \"domain\": [0.0, 1.0], \"title\": {\"text\": \"AGE\"}}, \"yaxis\": {\"anchor\": \"x\", \"domain\": [0.0, 1.0], \"title\": {\"text\": \"probability density\"}}},                        {\"responsive\": true}                    ).then(function(){\n",
              "                            \n",
              "var gd = document.getElementById('ea377ba6-8212-439d-a261-36c29a767ced');\n",
              "var x = new MutationObserver(function (mutations, observer) {{\n",
              "        var display = window.getComputedStyle(gd).display;\n",
              "        if (!display || display === 'none') {{\n",
              "            console.log([gd, 'removed!']);\n",
              "            Plotly.purge(gd);\n",
              "            observer.disconnect();\n",
              "        }}\n",
              "}});\n",
              "\n",
              "// Listen for the removal of the full notebook cells\n",
              "var notebookContainer = gd.closest('#notebook-container');\n",
              "if (notebookContainer) {{\n",
              "    x.observe(notebookContainer, {childList: true});\n",
              "}}\n",
              "\n",
              "// Listen for the clearing of the current output cell\n",
              "var outputEl = gd.closest('.output');\n",
              "if (outputEl) {{\n",
              "    x.observe(outputEl, {childList: true});\n",
              "}}\n",
              "\n",
              "                        })                };                            </script>        </div>\n",
              "</body>\n",
              "</html>"
            ]
          },
          "metadata": {
            "tags": []
          }
        }
      ]
    },
    {
      "cell_type": "code",
      "metadata": {
        "id": "uR_q4VbBylHL",
        "colab": {
          "base_uri": "https://localhost:8080/",
          "height": 542
        },
        "outputId": "16303c9e-9cfe-42d5-b8c6-1f24807cad36"
      },
      "source": [
        "fig = px.scatter(nba_20_copy, x = '2PA', y='3PA', color='TEAM', title='2-Pts Vs. 3Pts By a Team', template='plotly_dark')\r\n",
        "fig.show()"
      ],
      "execution_count": null,
      "outputs": [
        {
          "output_type": "display_data",
          "data": {
            "text/html": [
              "<html>\n",
              "<head><meta charset=\"utf-8\" /></head>\n",
              "<body>\n",
              "    <div>            <script src=\"https://cdnjs.cloudflare.com/ajax/libs/mathjax/2.7.5/MathJax.js?config=TeX-AMS-MML_SVG\"></script><script type=\"text/javascript\">if (window.MathJax) {MathJax.Hub.Config({SVG: {font: \"STIX-Web\"}});}</script>                <script type=\"text/javascript\">window.PlotlyConfig = {MathJaxConfig: 'local'};</script>\n",
              "        <script src=\"https://cdn.plot.ly/plotly-latest.min.js\"></script>                <div id=\"b45011c4-bb5f-4ae2-a6ee-418832604bc1\" class=\"plotly-graph-div\" style=\"height:525px; width:100%;\"></div>            <script type=\"text/javascript\">                                    window.PLOTLYENV=window.PLOTLYENV || {};                                    if (document.getElementById(\"b45011c4-bb5f-4ae2-a6ee-418832604bc1\")) {                    Plotly.newPlot(                        \"b45011c4-bb5f-4ae2-a6ee-418832604bc1\",                        [{\"hovertemplate\": \"TEAM=Por<br>2PA=%{x}<br>3PA=%{y}<extra></extra>\", \"legendgroup\": \"Por\", \"marker\": {\"color\": \"#636efa\", \"symbol\": \"circle\"}, \"mode\": \"markers\", \"name\": \"Por\", \"orientation\": \"v\", \"showlegend\": true, \"type\": \"scatter\", \"x\": [5, 49, 10, 15, 12, 31, 64, 46, 12, 21, 23], \"xaxis\": \"x\", \"y\": [4, 19, 5, 7, 0, 33, 35, 11, 14, 24, 1], \"yaxis\": \"y\"}, {\"hovertemplate\": \"TEAM=Okc<br>2PA=%{x}<br>3PA=%{y}<extra></extra>\", \"legendgroup\": \"Okc\", \"marker\": {\"color\": \"#EF553B\", \"symbol\": \"circle\"}, \"mode\": \"markers\", \"name\": \"Okc\", \"orientation\": \"v\", \"showlegend\": true, \"type\": \"scatter\", \"x\": [51, 9, 0, 6, 26, 1, 42, 55, 1, 2, 16, 69, 0, 64], \"xaxis\": \"x\", \"y\": [1, 22, 0, 5, 50, 10, 37, 35, 1, 5, 1, 43, 1, 45], \"yaxis\": \"y\"}, {\"hovertemplate\": \"TEAM=Mia<br>2PA=%{x}<br>3PA=%{y}<extra></extra>\", \"legendgroup\": \"Mia\", \"marker\": {\"color\": \"#00cc96\", \"symbol\": \"circle\"}, \"mode\": \"markers\", \"name\": \"Mia\", \"orientation\": \"v\", \"showlegend\": true, \"type\": \"scatter\", \"x\": [219, 252, 40, 161, 149, 3, 26, 8, 4, 49, 46, 20, 0], \"xaxis\": \"x\", \"y\": [1, 43, 161, 107, 128, 6, 39, 9, 4, 43, 49, 156, 0], \"yaxis\": \"y\"}, {\"hovertemplate\": \"TEAM=Bro<br>2PA=%{x}<br>3PA=%{y}<extra></extra>\", \"legendgroup\": \"Bro\", \"marker\": {\"color\": \"#ab63fa\", \"symbol\": \"circle\"}, \"mode\": \"markers\", \"name\": \"Bro\", \"orientation\": \"v\", \"showlegend\": true, \"type\": \"scatter\", \"x\": [24, 1, 8, 5, 11, 18, 12, 52, 20, 9, 5, 13, 3], \"xaxis\": \"x\", \"y\": [0, 11, 16, 0, 12, 28, 8, 21, 39, 5, 6, 36, 2], \"yaxis\": \"y\"}, {\"hovertemplate\": \"TEAM=Mil<br>2PA=%{x}<br>3PA=%{y}<extra></extra>\", \"legendgroup\": \"Mil\", \"marker\": {\"color\": \"#FFA15A\", \"symbol\": \"circle\"}, \"mode\": \"markers\", \"name\": \"Mil\", \"orientation\": \"v\", \"showlegend\": true, \"type\": \"scatter\", \"x\": [121, 66, 0, 12, 30, 39, 4, 10, 61, 4, 0, 14, 115, 24], \"xaxis\": \"x\", \"y\": [40, 32, 1, 23, 21, 28, 5, 37, 53, 0, 0, 43, 65, 23], \"yaxis\": \"y\"}, {\"hovertemplate\": \"TEAM=Tor<br>2PA=%{x}<br>3PA=%{y}<extra></extra>\", \"legendgroup\": \"Tor\", \"marker\": {\"color\": \"#19d3f3\", \"symbol\": \"circle\"}, \"mode\": \"markers\", \"name\": \"Tor\", \"orientation\": \"v\", \"showlegend\": true, \"type\": \"scatter\", \"x\": [47, 6, 10, 37, 9, 65, 6, 76, 2, 52, 129, 9, 80, 2], \"xaxis\": \"x\", \"y\": [41, 5, 19, 27, 1, 45, 5, 72, 1, 52, 53, 12, 110, 0], \"yaxis\": \"y\"}, {\"hovertemplate\": \"TEAM=Orl<br>2PA=%{x}<br>3PA=%{y}<extra></extra>\", \"legendgroup\": \"Orl\", \"marker\": {\"color\": \"#FF6692\", \"symbol\": \"circle\"}, \"mode\": \"markers\", \"name\": \"Orl\", \"orientation\": \"v\", \"showlegend\": true, \"type\": \"scatter\", \"x\": [29, 14, 1, 19, 22, 44, 13, 1, 0, 34, 67], \"xaxis\": \"x\", \"y\": [18, 0, 32, 16, 35, 16, 7, 1, 1, 30, 44], \"yaxis\": \"y\"}, {\"hovertemplate\": \"TEAM=Dal<br>2PA=%{x}<br>3PA=%{y}<extra></extra>\", \"legendgroup\": \"Dal\", \"marker\": {\"color\": \"#B6E880\", \"symbol\": \"circle\"}, \"mode\": \"markers\", \"name\": \"Dal\", \"orientation\": \"v\", \"showlegend\": true, \"type\": \"scatter\", \"x\": [1, 42, 5, 32, 84, 22, 41, 3, 5, 13, 29, 23, 2, 8], \"xaxis\": \"x\", \"y\": [0, 17, 0, 21, 44, 30, 54, 3, 9, 26, 1, 17, 1, 2], \"yaxis\": \"y\"}, {\"hovertemplate\": \"TEAM=Den<br>2PA=%{x}<br>3PA=%{y}<extra></extra>\", \"legendgroup\": \"Den\", \"marker\": {\"color\": \"#FF97FF\", \"symbol\": \"circle\"}, \"mode\": \"markers\", \"name\": \"Den\", \"orientation\": \"v\", \"showlegend\": true, \"type\": \"scatter\", \"x\": [5, 6, 0, 36, 6, 25, 80, 38, 245, 74, 93, 231, 38, 75, 1], \"xaxis\": \"x\", \"y\": [0, 3, 0, 42, 6, 8, 95, 52, 98, 44, 40, 137, 1, 89, 0], \"yaxis\": \"y\"}, {\"hovertemplate\": \"TEAM=Lac<br>2PA=%{x}<br>3PA=%{y}<extra></extra>\", \"legendgroup\": \"Lac\", \"marker\": {\"color\": \"#FECB52\", \"symbol\": \"circle\"}, \"mode\": \"markers\", \"name\": \"Lac\", \"orientation\": \"v\", \"showlegend\": true, \"type\": \"scatter\", \"x\": [17, 2, 110, 32, 77, 16, 195, 3, 2, 52, 0, 0, 17, 95, 78], \"xaxis\": \"x\", \"y\": [22, 1, 111, 23, 5, 32, 73, 2, 3, 59, 0, 3, 42, 51, 0], \"yaxis\": \"y\"}, {\"hovertemplate\": \"TEAM=Uta<br>2PA=%{x}<br>3PA=%{y}<extra></extra>\", \"legendgroup\": \"Uta\", \"marker\": {\"color\": \"#636efa\", \"symbol\": \"circle\"}, \"mode\": \"markers\", \"name\": \"Uta\", \"orientation\": \"v\", \"showlegend\": true, \"type\": \"scatter\", \"x\": [9, 2, 48, 30, 74, 14, 93, 2, 11, 15, 10, 2, 2, 0], \"xaxis\": \"x\", \"y\": [0, 3, 49, 34, 0, 40, 64, 10, 3, 29, 22, 4, 3, 0], \"yaxis\": \"y\"}, {\"hovertemplate\": \"TEAM=Ind<br>2PA=%{x}<br>3PA=%{y}<extra></extra>\", \"legendgroup\": \"Ind\", \"marker\": {\"color\": \"#EF553B\", \"symbol\": \"circle\"}, \"mode\": \"markers\", \"name\": \"Ind\", \"orientation\": \"v\", \"showlegend\": true, \"type\": \"scatter\", \"x\": [41, 12, 5, 0, 8, 5, 23, 16, 4, 30, 49], \"xaxis\": \"x\", \"y\": [24, 9, 16, 0, 0, 10, 33, 0, 3, 14, 19], \"yaxis\": \"y\"}, {\"hovertemplate\": \"TEAM=Bos<br>2PA=%{x}<br>3PA=%{y}<extra></extra>\", \"legendgroup\": \"Bos\", \"marker\": {\"color\": \"#00cc96\", \"symbol\": \"circle\"}, \"mode\": \"markers\", \"name\": \"Bos\", \"orientation\": \"v\", \"showlegend\": true, \"type\": \"scatter\", \"x\": [168, 0, 1, 0, 26, 41, 8, 5, 0, 75, 208, 91, 130, 33, 0, 30, 9], \"xaxis\": \"x\", \"y\": [120, 0, 0, 2, 24, 1, 2, 23, 0, 123, 126, 26, 126, 27, 1, 1, 17], \"yaxis\": \"y\"}, {\"hovertemplate\": \"TEAM=Phi<br>2PA=%{x}<br>3PA=%{y}<extra></extra>\", \"legendgroup\": \"Phi\", \"marker\": {\"color\": \"#ab63fa\", \"symbol\": \"circle\"}, \"mode\": \"markers\", \"name\": \"Phi\", \"orientation\": \"v\", \"showlegend\": true, \"type\": \"scatter\", \"x\": [33, 58, 46, 21, 1, 19, 4, 0, 0, 28, 3, 3], \"xaxis\": \"x\", \"y\": [16, 16, 15, 4, 6, 25, 5, 0, 0, 28, 2, 4], \"yaxis\": \"y\"}, {\"hovertemplate\": \"TEAM=Hou<br>2PA=%{x}<br>3PA=%{y}<extra></extra>\", \"legendgroup\": \"Hou\", \"marker\": {\"color\": \"#FFA15A\", \"symbol\": \"circle\"}, \"mode\": \"markers\", \"name\": \"Hou\", \"orientation\": \"v\", \"showlegend\": true, \"type\": \"scatter\", \"x\": [1, 2, 0, 27, 2, 86, 49, 111, 32, 4, 26, 21, 107], \"xaxis\": \"x\", \"y\": [1, 0, 5, 68, 2, 90, 54, 117, 53, 36, 35, 67, 33], \"yaxis\": \"y\"}, {\"hovertemplate\": \"TEAM=Lal<br>2PA=%{x}<br>3PA=%{y}<extra></extra>\", \"legendgroup\": \"Lal\", \"marker\": {\"color\": \"#19d3f3\", \"symbol\": \"circle\"}, \"mode\": \"markers\", \"name\": \"Lal\", \"orientation\": \"v\", \"showlegend\": true, \"type\": \"scatter\", \"x\": [70, 52, 6, 299, 1, 55, 7, 55, 263, 96, 30, 29, 71, 4, 8], \"xaxis\": \"x\", \"y\": [119, 61, 4, 60, 3, 115, 5, 2, 119, 83, 2, 69, 50, 22, 4], \"yaxis\": \"y\"}],                        {\"legend\": {\"title\": {\"text\": \"TEAM\"}, \"tracegroupgap\": 0}, \"template\": {\"data\": {\"bar\": [{\"error_x\": {\"color\": \"#f2f5fa\"}, \"error_y\": {\"color\": \"#f2f5fa\"}, \"marker\": {\"line\": {\"color\": \"rgb(17,17,17)\", \"width\": 0.5}}, \"type\": \"bar\"}], \"barpolar\": [{\"marker\": {\"line\": {\"color\": \"rgb(17,17,17)\", \"width\": 0.5}}, \"type\": \"barpolar\"}], \"carpet\": [{\"aaxis\": {\"endlinecolor\": \"#A2B1C6\", \"gridcolor\": \"#506784\", \"linecolor\": \"#506784\", \"minorgridcolor\": \"#506784\", \"startlinecolor\": \"#A2B1C6\"}, \"baxis\": {\"endlinecolor\": \"#A2B1C6\", \"gridcolor\": \"#506784\", \"linecolor\": \"#506784\", \"minorgridcolor\": \"#506784\", \"startlinecolor\": \"#A2B1C6\"}, \"type\": \"carpet\"}], \"choropleth\": [{\"colorbar\": {\"outlinewidth\": 0, \"ticks\": \"\"}, \"type\": \"choropleth\"}], \"contour\": [{\"colorbar\": {\"outlinewidth\": 0, \"ticks\": \"\"}, \"colorscale\": [[0.0, \"#0d0887\"], [0.1111111111111111, \"#46039f\"], [0.2222222222222222, \"#7201a8\"], [0.3333333333333333, \"#9c179e\"], [0.4444444444444444, \"#bd3786\"], [0.5555555555555556, \"#d8576b\"], [0.6666666666666666, \"#ed7953\"], [0.7777777777777778, \"#fb9f3a\"], [0.8888888888888888, \"#fdca26\"], [1.0, \"#f0f921\"]], \"type\": \"contour\"}], \"contourcarpet\": [{\"colorbar\": {\"outlinewidth\": 0, \"ticks\": \"\"}, \"type\": \"contourcarpet\"}], \"heatmap\": [{\"colorbar\": {\"outlinewidth\": 0, \"ticks\": \"\"}, \"colorscale\": [[0.0, \"#0d0887\"], [0.1111111111111111, \"#46039f\"], [0.2222222222222222, \"#7201a8\"], [0.3333333333333333, \"#9c179e\"], [0.4444444444444444, \"#bd3786\"], [0.5555555555555556, \"#d8576b\"], [0.6666666666666666, \"#ed7953\"], [0.7777777777777778, \"#fb9f3a\"], [0.8888888888888888, \"#fdca26\"], [1.0, \"#f0f921\"]], \"type\": \"heatmap\"}], \"heatmapgl\": [{\"colorbar\": {\"outlinewidth\": 0, \"ticks\": \"\"}, \"colorscale\": [[0.0, \"#0d0887\"], [0.1111111111111111, \"#46039f\"], [0.2222222222222222, \"#7201a8\"], [0.3333333333333333, \"#9c179e\"], [0.4444444444444444, \"#bd3786\"], [0.5555555555555556, \"#d8576b\"], [0.6666666666666666, \"#ed7953\"], [0.7777777777777778, \"#fb9f3a\"], [0.8888888888888888, \"#fdca26\"], [1.0, \"#f0f921\"]], \"type\": \"heatmapgl\"}], \"histogram\": [{\"marker\": {\"colorbar\": {\"outlinewidth\": 0, \"ticks\": \"\"}}, \"type\": \"histogram\"}], \"histogram2d\": [{\"colorbar\": {\"outlinewidth\": 0, \"ticks\": \"\"}, \"colorscale\": [[0.0, \"#0d0887\"], [0.1111111111111111, \"#46039f\"], [0.2222222222222222, \"#7201a8\"], [0.3333333333333333, \"#9c179e\"], [0.4444444444444444, \"#bd3786\"], [0.5555555555555556, \"#d8576b\"], [0.6666666666666666, \"#ed7953\"], [0.7777777777777778, \"#fb9f3a\"], [0.8888888888888888, \"#fdca26\"], [1.0, \"#f0f921\"]], \"type\": \"histogram2d\"}], \"histogram2dcontour\": [{\"colorbar\": {\"outlinewidth\": 0, \"ticks\": \"\"}, \"colorscale\": [[0.0, \"#0d0887\"], [0.1111111111111111, \"#46039f\"], [0.2222222222222222, \"#7201a8\"], [0.3333333333333333, \"#9c179e\"], [0.4444444444444444, \"#bd3786\"], [0.5555555555555556, \"#d8576b\"], [0.6666666666666666, \"#ed7953\"], [0.7777777777777778, \"#fb9f3a\"], [0.8888888888888888, \"#fdca26\"], [1.0, \"#f0f921\"]], \"type\": \"histogram2dcontour\"}], \"mesh3d\": [{\"colorbar\": {\"outlinewidth\": 0, \"ticks\": \"\"}, \"type\": \"mesh3d\"}], \"parcoords\": [{\"line\": {\"colorbar\": {\"outlinewidth\": 0, \"ticks\": \"\"}}, \"type\": \"parcoords\"}], \"pie\": [{\"automargin\": true, \"type\": \"pie\"}], \"scatter\": [{\"marker\": {\"line\": {\"color\": \"#283442\"}}, \"type\": \"scatter\"}], \"scatter3d\": [{\"line\": {\"colorbar\": {\"outlinewidth\": 0, \"ticks\": \"\"}}, \"marker\": {\"colorbar\": {\"outlinewidth\": 0, \"ticks\": \"\"}}, \"type\": \"scatter3d\"}], \"scattercarpet\": [{\"marker\": {\"colorbar\": {\"outlinewidth\": 0, \"ticks\": \"\"}}, \"type\": \"scattercarpet\"}], \"scattergeo\": [{\"marker\": {\"colorbar\": {\"outlinewidth\": 0, \"ticks\": \"\"}}, \"type\": \"scattergeo\"}], \"scattergl\": [{\"marker\": {\"line\": {\"color\": \"#283442\"}}, \"type\": \"scattergl\"}], \"scattermapbox\": [{\"marker\": {\"colorbar\": {\"outlinewidth\": 0, \"ticks\": \"\"}}, \"type\": \"scattermapbox\"}], \"scatterpolar\": [{\"marker\": {\"colorbar\": {\"outlinewidth\": 0, \"ticks\": \"\"}}, \"type\": \"scatterpolar\"}], \"scatterpolargl\": [{\"marker\": {\"colorbar\": {\"outlinewidth\": 0, \"ticks\": \"\"}}, \"type\": \"scatterpolargl\"}], \"scatterternary\": [{\"marker\": {\"colorbar\": {\"outlinewidth\": 0, \"ticks\": \"\"}}, \"type\": \"scatterternary\"}], \"surface\": [{\"colorbar\": {\"outlinewidth\": 0, \"ticks\": \"\"}, \"colorscale\": [[0.0, \"#0d0887\"], [0.1111111111111111, \"#46039f\"], [0.2222222222222222, \"#7201a8\"], [0.3333333333333333, \"#9c179e\"], [0.4444444444444444, \"#bd3786\"], [0.5555555555555556, \"#d8576b\"], [0.6666666666666666, \"#ed7953\"], [0.7777777777777778, \"#fb9f3a\"], [0.8888888888888888, \"#fdca26\"], [1.0, \"#f0f921\"]], \"type\": \"surface\"}], \"table\": [{\"cells\": {\"fill\": {\"color\": \"#506784\"}, \"line\": {\"color\": \"rgb(17,17,17)\"}}, \"header\": {\"fill\": {\"color\": \"#2a3f5f\"}, \"line\": {\"color\": \"rgb(17,17,17)\"}}, \"type\": \"table\"}]}, \"layout\": {\"annotationdefaults\": {\"arrowcolor\": \"#f2f5fa\", \"arrowhead\": 0, \"arrowwidth\": 1}, \"autotypenumbers\": \"strict\", \"coloraxis\": {\"colorbar\": {\"outlinewidth\": 0, \"ticks\": \"\"}}, \"colorscale\": {\"diverging\": [[0, \"#8e0152\"], [0.1, \"#c51b7d\"], [0.2, \"#de77ae\"], [0.3, \"#f1b6da\"], [0.4, \"#fde0ef\"], [0.5, \"#f7f7f7\"], [0.6, \"#e6f5d0\"], [0.7, \"#b8e186\"], [0.8, \"#7fbc41\"], [0.9, \"#4d9221\"], [1, \"#276419\"]], \"sequential\": [[0.0, \"#0d0887\"], [0.1111111111111111, \"#46039f\"], [0.2222222222222222, \"#7201a8\"], [0.3333333333333333, \"#9c179e\"], [0.4444444444444444, \"#bd3786\"], [0.5555555555555556, \"#d8576b\"], [0.6666666666666666, \"#ed7953\"], [0.7777777777777778, \"#fb9f3a\"], [0.8888888888888888, \"#fdca26\"], [1.0, \"#f0f921\"]], \"sequentialminus\": [[0.0, \"#0d0887\"], [0.1111111111111111, \"#46039f\"], [0.2222222222222222, \"#7201a8\"], [0.3333333333333333, \"#9c179e\"], [0.4444444444444444, \"#bd3786\"], [0.5555555555555556, \"#d8576b\"], [0.6666666666666666, \"#ed7953\"], [0.7777777777777778, \"#fb9f3a\"], [0.8888888888888888, \"#fdca26\"], [1.0, \"#f0f921\"]]}, \"colorway\": [\"#636efa\", \"#EF553B\", \"#00cc96\", \"#ab63fa\", \"#FFA15A\", \"#19d3f3\", \"#FF6692\", \"#B6E880\", \"#FF97FF\", \"#FECB52\"], \"font\": {\"color\": \"#f2f5fa\"}, \"geo\": {\"bgcolor\": \"rgb(17,17,17)\", \"lakecolor\": \"rgb(17,17,17)\", \"landcolor\": \"rgb(17,17,17)\", \"showlakes\": true, \"showland\": true, \"subunitcolor\": \"#506784\"}, \"hoverlabel\": {\"align\": \"left\"}, \"hovermode\": \"closest\", \"mapbox\": {\"style\": \"dark\"}, \"paper_bgcolor\": \"rgb(17,17,17)\", \"plot_bgcolor\": \"rgb(17,17,17)\", \"polar\": {\"angularaxis\": {\"gridcolor\": \"#506784\", \"linecolor\": \"#506784\", \"ticks\": \"\"}, \"bgcolor\": \"rgb(17,17,17)\", \"radialaxis\": {\"gridcolor\": \"#506784\", \"linecolor\": \"#506784\", \"ticks\": \"\"}}, \"scene\": {\"xaxis\": {\"backgroundcolor\": \"rgb(17,17,17)\", \"gridcolor\": \"#506784\", \"gridwidth\": 2, \"linecolor\": \"#506784\", \"showbackground\": true, \"ticks\": \"\", \"zerolinecolor\": \"#C8D4E3\"}, \"yaxis\": {\"backgroundcolor\": \"rgb(17,17,17)\", \"gridcolor\": \"#506784\", \"gridwidth\": 2, \"linecolor\": \"#506784\", \"showbackground\": true, \"ticks\": \"\", \"zerolinecolor\": \"#C8D4E3\"}, \"zaxis\": {\"backgroundcolor\": \"rgb(17,17,17)\", \"gridcolor\": \"#506784\", \"gridwidth\": 2, \"linecolor\": \"#506784\", \"showbackground\": true, \"ticks\": \"\", \"zerolinecolor\": \"#C8D4E3\"}}, \"shapedefaults\": {\"line\": {\"color\": \"#f2f5fa\"}}, \"sliderdefaults\": {\"bgcolor\": \"#C8D4E3\", \"bordercolor\": \"rgb(17,17,17)\", \"borderwidth\": 1, \"tickwidth\": 0}, \"ternary\": {\"aaxis\": {\"gridcolor\": \"#506784\", \"linecolor\": \"#506784\", \"ticks\": \"\"}, \"baxis\": {\"gridcolor\": \"#506784\", \"linecolor\": \"#506784\", \"ticks\": \"\"}, \"bgcolor\": \"rgb(17,17,17)\", \"caxis\": {\"gridcolor\": \"#506784\", \"linecolor\": \"#506784\", \"ticks\": \"\"}}, \"title\": {\"x\": 0.05}, \"updatemenudefaults\": {\"bgcolor\": \"#506784\", \"borderwidth\": 0}, \"xaxis\": {\"automargin\": true, \"gridcolor\": \"#283442\", \"linecolor\": \"#506784\", \"ticks\": \"\", \"title\": {\"standoff\": 15}, \"zerolinecolor\": \"#283442\", \"zerolinewidth\": 2}, \"yaxis\": {\"automargin\": true, \"gridcolor\": \"#283442\", \"linecolor\": \"#506784\", \"ticks\": \"\", \"title\": {\"standoff\": 15}, \"zerolinecolor\": \"#283442\", \"zerolinewidth\": 2}}}, \"title\": {\"text\": \"2-Pts Vs. 3Pts By a Team\"}, \"xaxis\": {\"anchor\": \"y\", \"domain\": [0.0, 1.0], \"title\": {\"text\": \"2PA\"}}, \"yaxis\": {\"anchor\": \"x\", \"domain\": [0.0, 1.0], \"title\": {\"text\": \"3PA\"}}},                        {\"responsive\": true}                    ).then(function(){\n",
              "                            \n",
              "var gd = document.getElementById('b45011c4-bb5f-4ae2-a6ee-418832604bc1');\n",
              "var x = new MutationObserver(function (mutations, observer) {{\n",
              "        var display = window.getComputedStyle(gd).display;\n",
              "        if (!display || display === 'none') {{\n",
              "            console.log([gd, 'removed!']);\n",
              "            Plotly.purge(gd);\n",
              "            observer.disconnect();\n",
              "        }}\n",
              "}});\n",
              "\n",
              "// Listen for the removal of the full notebook cells\n",
              "var notebookContainer = gd.closest('#notebook-container');\n",
              "if (notebookContainer) {{\n",
              "    x.observe(notebookContainer, {childList: true});\n",
              "}}\n",
              "\n",
              "// Listen for the clearing of the current output cell\n",
              "var outputEl = gd.closest('.output');\n",
              "if (outputEl) {{\n",
              "    x.observe(outputEl, {childList: true});\n",
              "}}\n",
              "\n",
              "                        })                };                            </script>        </div>\n",
              "</body>\n",
              "</html>"
            ]
          },
          "metadata": {
            "tags": []
          }
        }
      ]
    },
    {
      "cell_type": "markdown",
      "metadata": {
        "id": "keqUNmAeGqsV"
      },
      "source": [
        "#Top 3 players in (2 points)"
      ]
    },
    {
      "cell_type": "code",
      "metadata": {
        "colab": {
          "base_uri": "https://localhost:8080/",
          "height": 264
        },
        "id": "05OojpyEGpLG",
        "outputId": "a9a4358f-732e-4e33-abce-e8bdeb08926b"
      },
      "source": [
        "nba_20_copy.nlargest(3, '2PA')"
      ],
      "execution_count": null,
      "outputs": [
        {
          "output_type": "execute_result",
          "data": {
            "text/html": [
              "<div>\n",
              "<style scoped>\n",
              "    .dataframe tbody tr th:only-of-type {\n",
              "        vertical-align: middle;\n",
              "    }\n",
              "\n",
              "    .dataframe tbody tr th {\n",
              "        vertical-align: top;\n",
              "    }\n",
              "\n",
              "    .dataframe thead th {\n",
              "        text-align: right;\n",
              "    }\n",
              "</style>\n",
              "<table border=\"1\" class=\"dataframe\">\n",
              "  <thead>\n",
              "    <tr style=\"text-align: right;\">\n",
              "      <th></th>\n",
              "      <th>RANK</th>\n",
              "      <th>FULL_NAME</th>\n",
              "      <th>TEAM</th>\n",
              "      <th>POS</th>\n",
              "      <th>AGE</th>\n",
              "      <th>GP</th>\n",
              "      <th>MPG</th>\n",
              "      <th>MIN%Minutes_PercentagePercentage_of_team_minutes_used_by_a_player_while_he_was_on_the_floor</th>\n",
              "      <th>USG%Usage_RateUsage_rate,_a.k.a.,_usage_percentage_is_an_estimate_of_the_percentage_of_team_plays_used_by_a_player_while_he_was_on_the_floor</th>\n",
              "      <th>TO%Turnover_RateA_metric_that_estimates_the_number_of_turnovers_a_player_commits_per_100_possessions</th>\n",
              "      <th>FTA</th>\n",
              "      <th>FT%</th>\n",
              "      <th>2PA</th>\n",
              "      <th>2P%</th>\n",
              "      <th>3PA</th>\n",
              "      <th>3P%</th>\n",
              "      <th>eFG%Effective_Shooting_PercentageWith_eFG%,_three-point_shots_made_are_worth_50%_more_than_two-point_shots_made._eFG%_Formula=(FGM+_(0.5_x_3PM))/FGA</th>\n",
              "      <th>TS%True_Shooting_PercentageTrue_shooting_percentage_is_a_measure_of_shooting_efficiency_that_takes_into_account_field_goals,_3-point_field_goals,_and_free_throws.</th>\n",
              "      <th>PPGPointsPoints_per_game.</th>\n",
              "      <th>RPGReboundsRebounds_per_game.</th>\n",
              "      <th>TRB%Total_Rebound_PercentageTotal_rebound_percentage_is_estimated_percentage_of_available_rebounds_grabbed_by_the_player_while_the_player_is_on_the_court.</th>\n",
              "      <th>APGAssistsAssists_per_game.</th>\n",
              "      <th>AST%Assist_PercentageAssist_percentage_is_an_estimated_percentage_of_teammate_field_goals_a_player_assisted_while_the_player_is_on_the_court</th>\n",
              "      <th>SPGStealsSteals_per_game.</th>\n",
              "      <th>BPGBlocksBlocks_per_game.</th>\n",
              "      <th>TOPGTurnoversTurnovers_per_game.</th>\n",
              "      <th>VIVersatility_IndexVersatility_index_is_a_metric_that_measures_a_player’s_ability_to_produce_in_points,_assists,_and_rebounds._The_average_player_will_score_around_a_five_on_the_index,_while_top_players_score_above_10</th>\n",
              "      <th>ORTGOffensive_RatingIndividual_offensive_rating_is_the_number_of_points_produced_by_a_player_per_100_total_individual_possessions.</th>\n",
              "      <th>DRTGDefensive_RatingIndividual_defensive_rating_estimates_how_many_points_the_player_allowed_per_100_possessions_he_individually_faced_while_staying_on_the_court.</th>\n",
              "    </tr>\n",
              "  </thead>\n",
              "  <tbody>\n",
              "    <tr>\n",
              "      <th>45</th>\n",
              "      <td>NaN</td>\n",
              "      <td>Anthony Davis</td>\n",
              "      <td>Lal</td>\n",
              "      <td>F-C</td>\n",
              "      <td>27.59</td>\n",
              "      <td>21</td>\n",
              "      <td>36.6</td>\n",
              "      <td>76.3</td>\n",
              "      <td>27.8</td>\n",
              "      <td>10.8</td>\n",
              "      <td>179</td>\n",
              "      <td>0.832</td>\n",
              "      <td>299</td>\n",
              "      <td>0.609</td>\n",
              "      <td>60</td>\n",
              "      <td>0.383</td>\n",
              "      <td>0.603</td>\n",
              "      <td>0.665</td>\n",
              "      <td>27.7</td>\n",
              "      <td>9.7</td>\n",
              "      <td>15.6</td>\n",
              "      <td>3.5</td>\n",
              "      <td>16.1</td>\n",
              "      <td>1.24</td>\n",
              "      <td>1.43</td>\n",
              "      <td>2.52</td>\n",
              "      <td>10.7</td>\n",
              "      <td>127.8</td>\n",
              "      <td>102.0</td>\n",
              "    </tr>\n",
              "    <tr>\n",
              "      <th>102</th>\n",
              "      <td>NaN</td>\n",
              "      <td>LeBron James</td>\n",
              "      <td>Lal</td>\n",
              "      <td>F</td>\n",
              "      <td>35.78</td>\n",
              "      <td>21</td>\n",
              "      <td>36.3</td>\n",
              "      <td>75.6</td>\n",
              "      <td>30.4</td>\n",
              "      <td>15.8</td>\n",
              "      <td>150</td>\n",
              "      <td>0.720</td>\n",
              "      <td>263</td>\n",
              "      <td>0.646</td>\n",
              "      <td>119</td>\n",
              "      <td>0.370</td>\n",
              "      <td>0.618</td>\n",
              "      <td>0.647</td>\n",
              "      <td>27.6</td>\n",
              "      <td>10.8</td>\n",
              "      <td>17.5</td>\n",
              "      <td>8.8</td>\n",
              "      <td>42.1</td>\n",
              "      <td>1.19</td>\n",
              "      <td>0.86</td>\n",
              "      <td>4.00</td>\n",
              "      <td>15.2</td>\n",
              "      <td>122.3</td>\n",
              "      <td>102.5</td>\n",
              "    </tr>\n",
              "    <tr>\n",
              "      <th>25</th>\n",
              "      <td>NaN</td>\n",
              "      <td>Jimmy Butler</td>\n",
              "      <td>Mia</td>\n",
              "      <td>F</td>\n",
              "      <td>31.08</td>\n",
              "      <td>21</td>\n",
              "      <td>38.4</td>\n",
              "      <td>80.0</td>\n",
              "      <td>24.6</td>\n",
              "      <td>13.5</td>\n",
              "      <td>191</td>\n",
              "      <td>0.859</td>\n",
              "      <td>252</td>\n",
              "      <td>0.512</td>\n",
              "      <td>43</td>\n",
              "      <td>0.349</td>\n",
              "      <td>0.514</td>\n",
              "      <td>0.616</td>\n",
              "      <td>22.2</td>\n",
              "      <td>6.5</td>\n",
              "      <td>9.7</td>\n",
              "      <td>6.0</td>\n",
              "      <td>26.3</td>\n",
              "      <td>1.95</td>\n",
              "      <td>0.67</td>\n",
              "      <td>2.81</td>\n",
              "      <td>9.9</td>\n",
              "      <td>123.1</td>\n",
              "      <td>107.8</td>\n",
              "    </tr>\n",
              "  </tbody>\n",
              "</table>\n",
              "</div>"
            ],
            "text/plain": [
              "     RANK  ... DRTGDefensive_RatingIndividual_defensive_rating_estimates_how_many_points_the_player_allowed_per_100_possessions_he_individually_faced_while_staying_on_the_court.\n",
              "45    NaN  ...                                              102.0                                                                                                                \n",
              "102   NaN  ...                                              102.5                                                                                                                \n",
              "25    NaN  ...                                              107.8                                                                                                                \n",
              "\n",
              "[3 rows x 29 columns]"
            ]
          },
          "metadata": {
            "tags": []
          },
          "execution_count": 18
        }
      ]
    },
    {
      "cell_type": "markdown",
      "metadata": {
        "id": "P_mehkGcG_xG"
      },
      "source": [
        "#top 3 players for 3 points"
      ]
    },
    {
      "cell_type": "code",
      "metadata": {
        "colab": {
          "base_uri": "https://localhost:8080/",
          "height": 264
        },
        "id": "82d7k-ZRG-0E",
        "outputId": "6258eaae-3950-4091-991b-8faabc71057b"
      },
      "source": [
        "nba_20_copy.nlargest(3, '3PA')"
      ],
      "execution_count": null,
      "outputs": [
        {
          "output_type": "execute_result",
          "data": {
            "text/html": [
              "<div>\n",
              "<style scoped>\n",
              "    .dataframe tbody tr th:only-of-type {\n",
              "        vertical-align: middle;\n",
              "    }\n",
              "\n",
              "    .dataframe tbody tr th {\n",
              "        vertical-align: top;\n",
              "    }\n",
              "\n",
              "    .dataframe thead th {\n",
              "        text-align: right;\n",
              "    }\n",
              "</style>\n",
              "<table border=\"1\" class=\"dataframe\">\n",
              "  <thead>\n",
              "    <tr style=\"text-align: right;\">\n",
              "      <th></th>\n",
              "      <th>RANK</th>\n",
              "      <th>FULL_NAME</th>\n",
              "      <th>TEAM</th>\n",
              "      <th>POS</th>\n",
              "      <th>AGE</th>\n",
              "      <th>GP</th>\n",
              "      <th>MPG</th>\n",
              "      <th>MIN%Minutes_PercentagePercentage_of_team_minutes_used_by_a_player_while_he_was_on_the_floor</th>\n",
              "      <th>USG%Usage_RateUsage_rate,_a.k.a.,_usage_percentage_is_an_estimate_of_the_percentage_of_team_plays_used_by_a_player_while_he_was_on_the_floor</th>\n",
              "      <th>TO%Turnover_RateA_metric_that_estimates_the_number_of_turnovers_a_player_commits_per_100_possessions</th>\n",
              "      <th>FTA</th>\n",
              "      <th>FT%</th>\n",
              "      <th>2PA</th>\n",
              "      <th>2P%</th>\n",
              "      <th>3PA</th>\n",
              "      <th>3P%</th>\n",
              "      <th>eFG%Effective_Shooting_PercentageWith_eFG%,_three-point_shots_made_are_worth_50%_more_than_two-point_shots_made._eFG%_Formula=(FGM+_(0.5_x_3PM))/FGA</th>\n",
              "      <th>TS%True_Shooting_PercentageTrue_shooting_percentage_is_a_measure_of_shooting_efficiency_that_takes_into_account_field_goals,_3-point_field_goals,_and_free_throws.</th>\n",
              "      <th>PPGPointsPoints_per_game.</th>\n",
              "      <th>RPGReboundsRebounds_per_game.</th>\n",
              "      <th>TRB%Total_Rebound_PercentageTotal_rebound_percentage_is_estimated_percentage_of_available_rebounds_grabbed_by_the_player_while_the_player_is_on_the_court.</th>\n",
              "      <th>APGAssistsAssists_per_game.</th>\n",
              "      <th>AST%Assist_PercentageAssist_percentage_is_an_estimated_percentage_of_teammate_field_goals_a_player_assisted_while_the_player_is_on_the_court</th>\n",
              "      <th>SPGStealsSteals_per_game.</th>\n",
              "      <th>BPGBlocksBlocks_per_game.</th>\n",
              "      <th>TOPGTurnoversTurnovers_per_game.</th>\n",
              "      <th>VIVersatility_IndexVersatility_index_is_a_metric_that_measures_a_player’s_ability_to_produce_in_points,_assists,_and_rebounds._The_average_player_will_score_around_a_five_on_the_index,_while_top_players_score_above_10</th>\n",
              "      <th>ORTGOffensive_RatingIndividual_offensive_rating_is_the_number_of_points_produced_by_a_player_per_100_total_individual_possessions.</th>\n",
              "      <th>DRTGDefensive_RatingIndividual_defensive_rating_estimates_how_many_points_the_player_allowed_per_100_possessions_he_individually_faced_while_staying_on_the_court.</th>\n",
              "    </tr>\n",
              "  </thead>\n",
              "  <tbody>\n",
              "    <tr>\n",
              "      <th>42</th>\n",
              "      <td>NaN</td>\n",
              "      <td>Jae Crowder</td>\n",
              "      <td>Mia</td>\n",
              "      <td>F</td>\n",
              "      <td>30.27</td>\n",
              "      <td>21</td>\n",
              "      <td>31.4</td>\n",
              "      <td>65.5</td>\n",
              "      <td>16.2</td>\n",
              "      <td>6.3</td>\n",
              "      <td>46</td>\n",
              "      <td>0.761</td>\n",
              "      <td>40</td>\n",
              "      <td>0.650</td>\n",
              "      <td>161</td>\n",
              "      <td>0.342</td>\n",
              "      <td>0.540</td>\n",
              "      <td>0.570</td>\n",
              "      <td>12.0</td>\n",
              "      <td>5.6</td>\n",
              "      <td>10.2</td>\n",
              "      <td>1.9</td>\n",
              "      <td>9.0</td>\n",
              "      <td>0.67</td>\n",
              "      <td>0.57</td>\n",
              "      <td>0.71</td>\n",
              "      <td>6.4</td>\n",
              "      <td>114.0</td>\n",
              "      <td>104.2</td>\n",
              "    </tr>\n",
              "    <tr>\n",
              "      <th>175</th>\n",
              "      <td>NaN</td>\n",
              "      <td>Duncan Robinson</td>\n",
              "      <td>Mia</td>\n",
              "      <td>F</td>\n",
              "      <td>26.47</td>\n",
              "      <td>21</td>\n",
              "      <td>28.6</td>\n",
              "      <td>59.5</td>\n",
              "      <td>15.8</td>\n",
              "      <td>7.7</td>\n",
              "      <td>38</td>\n",
              "      <td>0.868</td>\n",
              "      <td>20</td>\n",
              "      <td>0.650</td>\n",
              "      <td>156</td>\n",
              "      <td>0.397</td>\n",
              "      <td>0.602</td>\n",
              "      <td>0.636</td>\n",
              "      <td>11.7</td>\n",
              "      <td>2.8</td>\n",
              "      <td>5.6</td>\n",
              "      <td>1.8</td>\n",
              "      <td>9.7</td>\n",
              "      <td>0.67</td>\n",
              "      <td>0.29</td>\n",
              "      <td>0.76</td>\n",
              "      <td>5.4</td>\n",
              "      <td>121.7</td>\n",
              "      <td>103.3</td>\n",
              "    </tr>\n",
              "    <tr>\n",
              "      <th>147</th>\n",
              "      <td>NaN</td>\n",
              "      <td>Jamal Murray</td>\n",
              "      <td>Den</td>\n",
              "      <td>G</td>\n",
              "      <td>23.63</td>\n",
              "      <td>19</td>\n",
              "      <td>39.6</td>\n",
              "      <td>82.6</td>\n",
              "      <td>27.6</td>\n",
              "      <td>11.6</td>\n",
              "      <td>78</td>\n",
              "      <td>0.897</td>\n",
              "      <td>231</td>\n",
              "      <td>0.537</td>\n",
              "      <td>137</td>\n",
              "      <td>0.453</td>\n",
              "      <td>0.590</td>\n",
              "      <td>0.626</td>\n",
              "      <td>26.5</td>\n",
              "      <td>4.8</td>\n",
              "      <td>7.3</td>\n",
              "      <td>6.6</td>\n",
              "      <td>30.0</td>\n",
              "      <td>0.95</td>\n",
              "      <td>0.32</td>\n",
              "      <td>2.79</td>\n",
              "      <td>9.5</td>\n",
              "      <td>121.5</td>\n",
              "      <td>111.7</td>\n",
              "    </tr>\n",
              "  </tbody>\n",
              "</table>\n",
              "</div>"
            ],
            "text/plain": [
              "     RANK  ... DRTGDefensive_RatingIndividual_defensive_rating_estimates_how_many_points_the_player_allowed_per_100_possessions_he_individually_faced_while_staying_on_the_court.\n",
              "42    NaN  ...                                              104.2                                                                                                                \n",
              "175   NaN  ...                                              103.3                                                                                                                \n",
              "147   NaN  ...                                              111.7                                                                                                                \n",
              "\n",
              "[3 rows x 29 columns]"
            ]
          },
          "metadata": {
            "tags": []
          },
          "execution_count": 19
        }
      ]
    },
    {
      "cell_type": "markdown",
      "metadata": {
        "id": "-SrDEKWjxk-M"
      },
      "source": [
        "#histogram for 2-pts vs. 3-pts by a team"
      ]
    },
    {
      "cell_type": "code",
      "metadata": {
        "colab": {
          "base_uri": "https://localhost:8080/",
          "height": 542
        },
        "id": "B_7FlaqDwSxn",
        "outputId": "46bee486-36ef-44fe-e1ff-0dcce2fa8934"
      },
      "source": [
        "\r\n",
        "fig = px.bar(nba_20_copy, x = '2PA', y='3PA', color='TEAM', title='2-Pts Vs. 3Pts By a Team', template='plotly_white')\r\n",
        "fig.show()"
      ],
      "execution_count": null,
      "outputs": [
        {
          "output_type": "display_data",
          "data": {
            "text/html": [
              "<html>\n",
              "<head><meta charset=\"utf-8\" /></head>\n",
              "<body>\n",
              "    <div>            <script src=\"https://cdnjs.cloudflare.com/ajax/libs/mathjax/2.7.5/MathJax.js?config=TeX-AMS-MML_SVG\"></script><script type=\"text/javascript\">if (window.MathJax) {MathJax.Hub.Config({SVG: {font: \"STIX-Web\"}});}</script>                <script type=\"text/javascript\">window.PlotlyConfig = {MathJaxConfig: 'local'};</script>\n",
              "        <script src=\"https://cdn.plot.ly/plotly-latest.min.js\"></script>                <div id=\"8ff95d2b-f566-4655-9952-7f2193055820\" class=\"plotly-graph-div\" style=\"height:525px; width:100%;\"></div>            <script type=\"text/javascript\">                                    window.PLOTLYENV=window.PLOTLYENV || {};                                    if (document.getElementById(\"8ff95d2b-f566-4655-9952-7f2193055820\")) {                    Plotly.newPlot(                        \"8ff95d2b-f566-4655-9952-7f2193055820\",                        [{\"alignmentgroup\": \"True\", \"hovertemplate\": \"TEAM=Por<br>2PA=%{x}<br>3PA=%{y}<extra></extra>\", \"legendgroup\": \"Por\", \"marker\": {\"color\": \"#636efa\"}, \"name\": \"Por\", \"offsetgroup\": \"Por\", \"orientation\": \"v\", \"showlegend\": true, \"textposition\": \"auto\", \"type\": \"bar\", \"x\": [5, 49, 10, 15, 12, 31, 64, 46, 12, 21, 23], \"xaxis\": \"x\", \"y\": [4, 19, 5, 7, 0, 33, 35, 11, 14, 24, 1], \"yaxis\": \"y\"}, {\"alignmentgroup\": \"True\", \"hovertemplate\": \"TEAM=Okc<br>2PA=%{x}<br>3PA=%{y}<extra></extra>\", \"legendgroup\": \"Okc\", \"marker\": {\"color\": \"#EF553B\"}, \"name\": \"Okc\", \"offsetgroup\": \"Okc\", \"orientation\": \"v\", \"showlegend\": true, \"textposition\": \"auto\", \"type\": \"bar\", \"x\": [51, 9, 0, 6, 26, 1, 42, 55, 1, 2, 16, 69, 0, 64], \"xaxis\": \"x\", \"y\": [1, 22, 0, 5, 50, 10, 37, 35, 1, 5, 1, 43, 1, 45], \"yaxis\": \"y\"}, {\"alignmentgroup\": \"True\", \"hovertemplate\": \"TEAM=Mia<br>2PA=%{x}<br>3PA=%{y}<extra></extra>\", \"legendgroup\": \"Mia\", \"marker\": {\"color\": \"#00cc96\"}, \"name\": \"Mia\", \"offsetgroup\": \"Mia\", \"orientation\": \"v\", \"showlegend\": true, \"textposition\": \"auto\", \"type\": \"bar\", \"x\": [219, 252, 40, 161, 149, 3, 26, 8, 4, 49, 46, 20, 0], \"xaxis\": \"x\", \"y\": [1, 43, 161, 107, 128, 6, 39, 9, 4, 43, 49, 156, 0], \"yaxis\": \"y\"}, {\"alignmentgroup\": \"True\", \"hovertemplate\": \"TEAM=Bro<br>2PA=%{x}<br>3PA=%{y}<extra></extra>\", \"legendgroup\": \"Bro\", \"marker\": {\"color\": \"#ab63fa\"}, \"name\": \"Bro\", \"offsetgroup\": \"Bro\", \"orientation\": \"v\", \"showlegend\": true, \"textposition\": \"auto\", \"type\": \"bar\", \"x\": [24, 1, 8, 5, 11, 18, 12, 52, 20, 9, 5, 13, 3], \"xaxis\": \"x\", \"y\": [0, 11, 16, 0, 12, 28, 8, 21, 39, 5, 6, 36, 2], \"yaxis\": \"y\"}, {\"alignmentgroup\": \"True\", \"hovertemplate\": \"TEAM=Mil<br>2PA=%{x}<br>3PA=%{y}<extra></extra>\", \"legendgroup\": \"Mil\", \"marker\": {\"color\": \"#FFA15A\"}, \"name\": \"Mil\", \"offsetgroup\": \"Mil\", \"orientation\": \"v\", \"showlegend\": true, \"textposition\": \"auto\", \"type\": \"bar\", \"x\": [121, 66, 0, 12, 30, 39, 4, 10, 61, 4, 0, 14, 115, 24], \"xaxis\": \"x\", \"y\": [40, 32, 1, 23, 21, 28, 5, 37, 53, 0, 0, 43, 65, 23], \"yaxis\": \"y\"}, {\"alignmentgroup\": \"True\", \"hovertemplate\": \"TEAM=Tor<br>2PA=%{x}<br>3PA=%{y}<extra></extra>\", \"legendgroup\": \"Tor\", \"marker\": {\"color\": \"#19d3f3\"}, \"name\": \"Tor\", \"offsetgroup\": \"Tor\", \"orientation\": \"v\", \"showlegend\": true, \"textposition\": \"auto\", \"type\": \"bar\", \"x\": [47, 6, 10, 37, 9, 65, 6, 76, 2, 52, 129, 9, 80, 2], \"xaxis\": \"x\", \"y\": [41, 5, 19, 27, 1, 45, 5, 72, 1, 52, 53, 12, 110, 0], \"yaxis\": \"y\"}, {\"alignmentgroup\": \"True\", \"hovertemplate\": \"TEAM=Orl<br>2PA=%{x}<br>3PA=%{y}<extra></extra>\", \"legendgroup\": \"Orl\", \"marker\": {\"color\": \"#FF6692\"}, \"name\": \"Orl\", \"offsetgroup\": \"Orl\", \"orientation\": \"v\", \"showlegend\": true, \"textposition\": \"auto\", \"type\": \"bar\", \"x\": [29, 14, 1, 19, 22, 44, 13, 1, 0, 34, 67], \"xaxis\": \"x\", \"y\": [18, 0, 32, 16, 35, 16, 7, 1, 1, 30, 44], \"yaxis\": \"y\"}, {\"alignmentgroup\": \"True\", \"hovertemplate\": \"TEAM=Dal<br>2PA=%{x}<br>3PA=%{y}<extra></extra>\", \"legendgroup\": \"Dal\", \"marker\": {\"color\": \"#B6E880\"}, \"name\": \"Dal\", \"offsetgroup\": \"Dal\", \"orientation\": \"v\", \"showlegend\": true, \"textposition\": \"auto\", \"type\": \"bar\", \"x\": [1, 42, 5, 32, 84, 22, 41, 3, 5, 13, 29, 23, 2, 8], \"xaxis\": \"x\", \"y\": [0, 17, 0, 21, 44, 30, 54, 3, 9, 26, 1, 17, 1, 2], \"yaxis\": \"y\"}, {\"alignmentgroup\": \"True\", \"hovertemplate\": \"TEAM=Den<br>2PA=%{x}<br>3PA=%{y}<extra></extra>\", \"legendgroup\": \"Den\", \"marker\": {\"color\": \"#FF97FF\"}, \"name\": \"Den\", \"offsetgroup\": \"Den\", \"orientation\": \"v\", \"showlegend\": true, \"textposition\": \"auto\", \"type\": \"bar\", \"x\": [5, 6, 0, 36, 6, 25, 80, 38, 245, 74, 93, 231, 38, 75, 1], \"xaxis\": \"x\", \"y\": [0, 3, 0, 42, 6, 8, 95, 52, 98, 44, 40, 137, 1, 89, 0], \"yaxis\": \"y\"}, {\"alignmentgroup\": \"True\", \"hovertemplate\": \"TEAM=Lac<br>2PA=%{x}<br>3PA=%{y}<extra></extra>\", \"legendgroup\": \"Lac\", \"marker\": {\"color\": \"#FECB52\"}, \"name\": \"Lac\", \"offsetgroup\": \"Lac\", \"orientation\": \"v\", \"showlegend\": true, \"textposition\": \"auto\", \"type\": \"bar\", \"x\": [17, 2, 110, 32, 77, 16, 195, 3, 2, 52, 0, 0, 17, 95, 78], \"xaxis\": \"x\", \"y\": [22, 1, 111, 23, 5, 32, 73, 2, 3, 59, 0, 3, 42, 51, 0], \"yaxis\": \"y\"}, {\"alignmentgroup\": \"True\", \"hovertemplate\": \"TEAM=Uta<br>2PA=%{x}<br>3PA=%{y}<extra></extra>\", \"legendgroup\": \"Uta\", \"marker\": {\"color\": \"#636efa\"}, \"name\": \"Uta\", \"offsetgroup\": \"Uta\", \"orientation\": \"v\", \"showlegend\": true, \"textposition\": \"auto\", \"type\": \"bar\", \"x\": [9, 2, 48, 30, 74, 14, 93, 2, 11, 15, 10, 2, 2, 0], \"xaxis\": \"x\", \"y\": [0, 3, 49, 34, 0, 40, 64, 10, 3, 29, 22, 4, 3, 0], \"yaxis\": \"y\"}, {\"alignmentgroup\": \"True\", \"hovertemplate\": \"TEAM=Ind<br>2PA=%{x}<br>3PA=%{y}<extra></extra>\", \"legendgroup\": \"Ind\", \"marker\": {\"color\": \"#EF553B\"}, \"name\": \"Ind\", \"offsetgroup\": \"Ind\", \"orientation\": \"v\", \"showlegend\": true, \"textposition\": \"auto\", \"type\": \"bar\", \"x\": [41, 12, 5, 0, 8, 5, 23, 16, 4, 30, 49], \"xaxis\": \"x\", \"y\": [24, 9, 16, 0, 0, 10, 33, 0, 3, 14, 19], \"yaxis\": \"y\"}, {\"alignmentgroup\": \"True\", \"hovertemplate\": \"TEAM=Bos<br>2PA=%{x}<br>3PA=%{y}<extra></extra>\", \"legendgroup\": \"Bos\", \"marker\": {\"color\": \"#00cc96\"}, \"name\": \"Bos\", \"offsetgroup\": \"Bos\", \"orientation\": \"v\", \"showlegend\": true, \"textposition\": \"auto\", \"type\": \"bar\", \"x\": [168, 0, 1, 0, 26, 41, 8, 5, 0, 75, 208, 91, 130, 33, 0, 30, 9], \"xaxis\": \"x\", \"y\": [120, 0, 0, 2, 24, 1, 2, 23, 0, 123, 126, 26, 126, 27, 1, 1, 17], \"yaxis\": \"y\"}, {\"alignmentgroup\": \"True\", \"hovertemplate\": \"TEAM=Phi<br>2PA=%{x}<br>3PA=%{y}<extra></extra>\", \"legendgroup\": \"Phi\", \"marker\": {\"color\": \"#ab63fa\"}, \"name\": \"Phi\", \"offsetgroup\": \"Phi\", \"orientation\": \"v\", \"showlegend\": true, \"textposition\": \"auto\", \"type\": \"bar\", \"x\": [33, 58, 46, 21, 1, 19, 4, 0, 0, 28, 3, 3], \"xaxis\": \"x\", \"y\": [16, 16, 15, 4, 6, 25, 5, 0, 0, 28, 2, 4], \"yaxis\": \"y\"}, {\"alignmentgroup\": \"True\", \"hovertemplate\": \"TEAM=Hou<br>2PA=%{x}<br>3PA=%{y}<extra></extra>\", \"legendgroup\": \"Hou\", \"marker\": {\"color\": \"#FFA15A\"}, \"name\": \"Hou\", \"offsetgroup\": \"Hou\", \"orientation\": \"v\", \"showlegend\": true, \"textposition\": \"auto\", \"type\": \"bar\", \"x\": [1, 2, 0, 27, 2, 86, 49, 111, 32, 4, 26, 21, 107], \"xaxis\": \"x\", \"y\": [1, 0, 5, 68, 2, 90, 54, 117, 53, 36, 35, 67, 33], \"yaxis\": \"y\"}, {\"alignmentgroup\": \"True\", \"hovertemplate\": \"TEAM=Lal<br>2PA=%{x}<br>3PA=%{y}<extra></extra>\", \"legendgroup\": \"Lal\", \"marker\": {\"color\": \"#19d3f3\"}, \"name\": \"Lal\", \"offsetgroup\": \"Lal\", \"orientation\": \"v\", \"showlegend\": true, \"textposition\": \"auto\", \"type\": \"bar\", \"x\": [70, 52, 6, 299, 1, 55, 7, 55, 263, 96, 30, 29, 71, 4, 8], \"xaxis\": \"x\", \"y\": [119, 61, 4, 60, 3, 115, 5, 2, 119, 83, 2, 69, 50, 22, 4], \"yaxis\": \"y\"}],                        {\"barmode\": \"relative\", \"legend\": {\"title\": {\"text\": \"TEAM\"}, \"tracegroupgap\": 0}, \"template\": {\"data\": {\"bar\": [{\"error_x\": {\"color\": \"#2a3f5f\"}, \"error_y\": {\"color\": \"#2a3f5f\"}, \"marker\": {\"line\": {\"color\": \"white\", \"width\": 0.5}}, \"type\": \"bar\"}], \"barpolar\": [{\"marker\": {\"line\": {\"color\": \"white\", \"width\": 0.5}}, \"type\": \"barpolar\"}], \"carpet\": [{\"aaxis\": {\"endlinecolor\": \"#2a3f5f\", \"gridcolor\": \"#C8D4E3\", \"linecolor\": \"#C8D4E3\", \"minorgridcolor\": \"#C8D4E3\", \"startlinecolor\": \"#2a3f5f\"}, \"baxis\": {\"endlinecolor\": \"#2a3f5f\", \"gridcolor\": \"#C8D4E3\", \"linecolor\": \"#C8D4E3\", \"minorgridcolor\": \"#C8D4E3\", \"startlinecolor\": \"#2a3f5f\"}, \"type\": \"carpet\"}], \"choropleth\": [{\"colorbar\": {\"outlinewidth\": 0, \"ticks\": \"\"}, \"type\": \"choropleth\"}], \"contour\": [{\"colorbar\": {\"outlinewidth\": 0, \"ticks\": \"\"}, \"colorscale\": [[0.0, \"#0d0887\"], [0.1111111111111111, \"#46039f\"], [0.2222222222222222, \"#7201a8\"], [0.3333333333333333, \"#9c179e\"], [0.4444444444444444, \"#bd3786\"], [0.5555555555555556, \"#d8576b\"], [0.6666666666666666, \"#ed7953\"], [0.7777777777777778, \"#fb9f3a\"], [0.8888888888888888, \"#fdca26\"], [1.0, \"#f0f921\"]], \"type\": \"contour\"}], \"contourcarpet\": [{\"colorbar\": {\"outlinewidth\": 0, \"ticks\": \"\"}, \"type\": \"contourcarpet\"}], \"heatmap\": [{\"colorbar\": {\"outlinewidth\": 0, \"ticks\": \"\"}, \"colorscale\": [[0.0, \"#0d0887\"], [0.1111111111111111, \"#46039f\"], [0.2222222222222222, \"#7201a8\"], [0.3333333333333333, \"#9c179e\"], [0.4444444444444444, \"#bd3786\"], [0.5555555555555556, \"#d8576b\"], [0.6666666666666666, \"#ed7953\"], [0.7777777777777778, \"#fb9f3a\"], [0.8888888888888888, \"#fdca26\"], [1.0, \"#f0f921\"]], \"type\": \"heatmap\"}], \"heatmapgl\": [{\"colorbar\": {\"outlinewidth\": 0, \"ticks\": \"\"}, \"colorscale\": [[0.0, \"#0d0887\"], [0.1111111111111111, \"#46039f\"], [0.2222222222222222, \"#7201a8\"], [0.3333333333333333, \"#9c179e\"], [0.4444444444444444, \"#bd3786\"], [0.5555555555555556, \"#d8576b\"], [0.6666666666666666, \"#ed7953\"], [0.7777777777777778, \"#fb9f3a\"], [0.8888888888888888, \"#fdca26\"], [1.0, \"#f0f921\"]], \"type\": \"heatmapgl\"}], \"histogram\": [{\"marker\": {\"colorbar\": {\"outlinewidth\": 0, \"ticks\": \"\"}}, \"type\": \"histogram\"}], \"histogram2d\": [{\"colorbar\": {\"outlinewidth\": 0, \"ticks\": \"\"}, \"colorscale\": [[0.0, \"#0d0887\"], [0.1111111111111111, \"#46039f\"], [0.2222222222222222, \"#7201a8\"], [0.3333333333333333, \"#9c179e\"], [0.4444444444444444, \"#bd3786\"], [0.5555555555555556, \"#d8576b\"], [0.6666666666666666, \"#ed7953\"], [0.7777777777777778, \"#fb9f3a\"], [0.8888888888888888, \"#fdca26\"], [1.0, \"#f0f921\"]], \"type\": \"histogram2d\"}], \"histogram2dcontour\": [{\"colorbar\": {\"outlinewidth\": 0, \"ticks\": \"\"}, \"colorscale\": [[0.0, \"#0d0887\"], [0.1111111111111111, \"#46039f\"], [0.2222222222222222, \"#7201a8\"], [0.3333333333333333, \"#9c179e\"], [0.4444444444444444, \"#bd3786\"], [0.5555555555555556, \"#d8576b\"], [0.6666666666666666, \"#ed7953\"], [0.7777777777777778, \"#fb9f3a\"], [0.8888888888888888, \"#fdca26\"], [1.0, \"#f0f921\"]], \"type\": \"histogram2dcontour\"}], \"mesh3d\": [{\"colorbar\": {\"outlinewidth\": 0, \"ticks\": \"\"}, \"type\": \"mesh3d\"}], \"parcoords\": [{\"line\": {\"colorbar\": {\"outlinewidth\": 0, \"ticks\": \"\"}}, \"type\": \"parcoords\"}], \"pie\": [{\"automargin\": true, \"type\": \"pie\"}], \"scatter\": [{\"marker\": {\"colorbar\": {\"outlinewidth\": 0, \"ticks\": \"\"}}, \"type\": \"scatter\"}], \"scatter3d\": [{\"line\": {\"colorbar\": {\"outlinewidth\": 0, \"ticks\": \"\"}}, \"marker\": {\"colorbar\": {\"outlinewidth\": 0, \"ticks\": \"\"}}, \"type\": \"scatter3d\"}], \"scattercarpet\": [{\"marker\": {\"colorbar\": {\"outlinewidth\": 0, \"ticks\": \"\"}}, \"type\": \"scattercarpet\"}], \"scattergeo\": [{\"marker\": {\"colorbar\": {\"outlinewidth\": 0, \"ticks\": \"\"}}, \"type\": \"scattergeo\"}], \"scattergl\": [{\"marker\": {\"colorbar\": {\"outlinewidth\": 0, \"ticks\": \"\"}}, \"type\": \"scattergl\"}], \"scattermapbox\": [{\"marker\": {\"colorbar\": {\"outlinewidth\": 0, \"ticks\": \"\"}}, \"type\": \"scattermapbox\"}], \"scatterpolar\": [{\"marker\": {\"colorbar\": {\"outlinewidth\": 0, \"ticks\": \"\"}}, \"type\": \"scatterpolar\"}], \"scatterpolargl\": [{\"marker\": {\"colorbar\": {\"outlinewidth\": 0, \"ticks\": \"\"}}, \"type\": \"scatterpolargl\"}], \"scatterternary\": [{\"marker\": {\"colorbar\": {\"outlinewidth\": 0, \"ticks\": \"\"}}, \"type\": \"scatterternary\"}], \"surface\": [{\"colorbar\": {\"outlinewidth\": 0, \"ticks\": \"\"}, \"colorscale\": [[0.0, \"#0d0887\"], [0.1111111111111111, \"#46039f\"], [0.2222222222222222, \"#7201a8\"], [0.3333333333333333, \"#9c179e\"], [0.4444444444444444, \"#bd3786\"], [0.5555555555555556, \"#d8576b\"], [0.6666666666666666, \"#ed7953\"], [0.7777777777777778, \"#fb9f3a\"], [0.8888888888888888, \"#fdca26\"], [1.0, \"#f0f921\"]], \"type\": \"surface\"}], \"table\": [{\"cells\": {\"fill\": {\"color\": \"#EBF0F8\"}, \"line\": {\"color\": \"white\"}}, \"header\": {\"fill\": {\"color\": \"#C8D4E3\"}, \"line\": {\"color\": \"white\"}}, \"type\": \"table\"}]}, \"layout\": {\"annotationdefaults\": {\"arrowcolor\": \"#2a3f5f\", \"arrowhead\": 0, \"arrowwidth\": 1}, \"autotypenumbers\": \"strict\", \"coloraxis\": {\"colorbar\": {\"outlinewidth\": 0, \"ticks\": \"\"}}, \"colorscale\": {\"diverging\": [[0, \"#8e0152\"], [0.1, \"#c51b7d\"], [0.2, \"#de77ae\"], [0.3, \"#f1b6da\"], [0.4, \"#fde0ef\"], [0.5, \"#f7f7f7\"], [0.6, \"#e6f5d0\"], [0.7, \"#b8e186\"], [0.8, \"#7fbc41\"], [0.9, \"#4d9221\"], [1, \"#276419\"]], \"sequential\": [[0.0, \"#0d0887\"], [0.1111111111111111, \"#46039f\"], [0.2222222222222222, \"#7201a8\"], [0.3333333333333333, \"#9c179e\"], [0.4444444444444444, \"#bd3786\"], [0.5555555555555556, \"#d8576b\"], [0.6666666666666666, \"#ed7953\"], [0.7777777777777778, \"#fb9f3a\"], [0.8888888888888888, \"#fdca26\"], [1.0, \"#f0f921\"]], \"sequentialminus\": [[0.0, \"#0d0887\"], [0.1111111111111111, \"#46039f\"], [0.2222222222222222, \"#7201a8\"], [0.3333333333333333, \"#9c179e\"], [0.4444444444444444, \"#bd3786\"], [0.5555555555555556, \"#d8576b\"], [0.6666666666666666, \"#ed7953\"], [0.7777777777777778, \"#fb9f3a\"], [0.8888888888888888, \"#fdca26\"], [1.0, \"#f0f921\"]]}, \"colorway\": [\"#636efa\", \"#EF553B\", \"#00cc96\", \"#ab63fa\", \"#FFA15A\", \"#19d3f3\", \"#FF6692\", \"#B6E880\", \"#FF97FF\", \"#FECB52\"], \"font\": {\"color\": \"#2a3f5f\"}, \"geo\": {\"bgcolor\": \"white\", \"lakecolor\": \"white\", \"landcolor\": \"white\", \"showlakes\": true, \"showland\": true, \"subunitcolor\": \"#C8D4E3\"}, \"hoverlabel\": {\"align\": \"left\"}, \"hovermode\": \"closest\", \"mapbox\": {\"style\": \"light\"}, \"paper_bgcolor\": \"white\", \"plot_bgcolor\": \"white\", \"polar\": {\"angularaxis\": {\"gridcolor\": \"#EBF0F8\", \"linecolor\": \"#EBF0F8\", \"ticks\": \"\"}, \"bgcolor\": \"white\", \"radialaxis\": {\"gridcolor\": \"#EBF0F8\", \"linecolor\": \"#EBF0F8\", \"ticks\": \"\"}}, \"scene\": {\"xaxis\": {\"backgroundcolor\": \"white\", \"gridcolor\": \"#DFE8F3\", \"gridwidth\": 2, \"linecolor\": \"#EBF0F8\", \"showbackground\": true, \"ticks\": \"\", \"zerolinecolor\": \"#EBF0F8\"}, \"yaxis\": {\"backgroundcolor\": \"white\", \"gridcolor\": \"#DFE8F3\", \"gridwidth\": 2, \"linecolor\": \"#EBF0F8\", \"showbackground\": true, \"ticks\": \"\", \"zerolinecolor\": \"#EBF0F8\"}, \"zaxis\": {\"backgroundcolor\": \"white\", \"gridcolor\": \"#DFE8F3\", \"gridwidth\": 2, \"linecolor\": \"#EBF0F8\", \"showbackground\": true, \"ticks\": \"\", \"zerolinecolor\": \"#EBF0F8\"}}, \"shapedefaults\": {\"line\": {\"color\": \"#2a3f5f\"}}, \"ternary\": {\"aaxis\": {\"gridcolor\": \"#DFE8F3\", \"linecolor\": \"#A2B1C6\", \"ticks\": \"\"}, \"baxis\": {\"gridcolor\": \"#DFE8F3\", \"linecolor\": \"#A2B1C6\", \"ticks\": \"\"}, \"bgcolor\": \"white\", \"caxis\": {\"gridcolor\": \"#DFE8F3\", \"linecolor\": \"#A2B1C6\", \"ticks\": \"\"}}, \"title\": {\"x\": 0.05}, \"xaxis\": {\"automargin\": true, \"gridcolor\": \"#EBF0F8\", \"linecolor\": \"#EBF0F8\", \"ticks\": \"\", \"title\": {\"standoff\": 15}, \"zerolinecolor\": \"#EBF0F8\", \"zerolinewidth\": 2}, \"yaxis\": {\"automargin\": true, \"gridcolor\": \"#EBF0F8\", \"linecolor\": \"#EBF0F8\", \"ticks\": \"\", \"title\": {\"standoff\": 15}, \"zerolinecolor\": \"#EBF0F8\", \"zerolinewidth\": 2}}}, \"title\": {\"text\": \"2-Pts Vs. 3Pts By a Team\"}, \"xaxis\": {\"anchor\": \"y\", \"domain\": [0.0, 1.0], \"title\": {\"text\": \"2PA\"}}, \"yaxis\": {\"anchor\": \"x\", \"domain\": [0.0, 1.0], \"title\": {\"text\": \"3PA\"}}},                        {\"responsive\": true}                    ).then(function(){\n",
              "                            \n",
              "var gd = document.getElementById('8ff95d2b-f566-4655-9952-7f2193055820');\n",
              "var x = new MutationObserver(function (mutations, observer) {{\n",
              "        var display = window.getComputedStyle(gd).display;\n",
              "        if (!display || display === 'none') {{\n",
              "            console.log([gd, 'removed!']);\n",
              "            Plotly.purge(gd);\n",
              "            observer.disconnect();\n",
              "        }}\n",
              "}});\n",
              "\n",
              "// Listen for the removal of the full notebook cells\n",
              "var notebookContainer = gd.closest('#notebook-container');\n",
              "if (notebookContainer) {{\n",
              "    x.observe(notebookContainer, {childList: true});\n",
              "}}\n",
              "\n",
              "// Listen for the clearing of the current output cell\n",
              "var outputEl = gd.closest('.output');\n",
              "if (outputEl) {{\n",
              "    x.observe(outputEl, {childList: true});\n",
              "}}\n",
              "\n",
              "                        })                };                            </script>        </div>\n",
              "</body>\n",
              "</html>"
            ]
          },
          "metadata": {
            "tags": []
          }
        }
      ]
    },
    {
      "cell_type": "markdown",
      "metadata": {
        "id": "_co2LaMUxVvl"
      },
      "source": [
        "#2-pts vs. 3-pts as percent --> use crosstab"
      ]
    },
    {
      "cell_type": "code",
      "metadata": {
        "colab": {
          "base_uri": "https://localhost:8080/"
        },
        "id": "_ubjIIzXxSsG",
        "outputId": "fd6f4c0a-f758-438c-f3b5-48f02fe2497e"
      },
      "source": [
        "print(nba_20_copy.groupby('TEAM')[['2PA', '3PA','GP']].count())"
      ],
      "execution_count": null,
      "outputs": [
        {
          "output_type": "stream",
          "text": [
            "      2PA  3PA  GP\n",
            "TEAM              \n",
            "Bos    17   17  17\n",
            "Bro    13   13  13\n",
            "Dal    14   14  14\n",
            "Den    15   15  15\n",
            "Hou    13   13  13\n",
            "Ind    11   11  11\n",
            "Lac    15   15  15\n",
            "Lal    15   15  15\n",
            "Mia    13   13  13\n",
            "Mil    14   14  14\n",
            "Okc    14   14  14\n",
            "Orl    11   11  11\n",
            "Phi    12   12  12\n",
            "Por    11   11  11\n",
            "Tor    14   14  14\n",
            "Uta    14   14  14\n"
          ],
          "name": "stdout"
        }
      ]
    },
    {
      "cell_type": "markdown",
      "metadata": {
        "id": "3mBYGwOVBVe_"
      },
      "source": [
        "#Game per min. Vs. 2PA"
      ]
    },
    {
      "cell_type": "code",
      "metadata": {
        "colab": {
          "base_uri": "https://localhost:8080/",
          "height": 469
        },
        "id": "FuqJZd8p4S64",
        "outputId": "6a990d68-cf7f-4ca1-bdd3-ac2948586ae4"
      },
      "source": [
        "import seaborn as sns\r\n",
        "import matplotlib.pyplot as plt\r\n",
        "%matplotlib inline\r\n",
        "sns.set_style('darkgrid')\r\n",
        "plt.figure(figsize=(21,7))\r\n",
        "pts = nba_20_copy.pivot_table(\"3PA\", \"2PA\", \"GP\")\r\n",
        "plt.xlabel('Game Played', size = 16, color='b')\r\n",
        "plt.ylabel('2_Points', size = 16, color='b')\r\n",
        "plt.title('Heat Map', size = 21, color='b')\r\n",
        "\r\n",
        "ax = sns.heatmap(pts)"
      ],
      "execution_count": null,
      "outputs": [
        {
          "output_type": "display_data",
          "data": {
            "image/png": "[encoded data removed]",
            "text/plain": [
              "<Figure size 1512x504 with 2 Axes>"
            ]
          },
          "metadata": {
            "tags": []
          }
        }
      ]
    },
    {
      "cell_type": "markdown",
      "metadata": {
        "id": "85TN3EiA5TxT"
      },
      "source": [
        "## RELATION BETWEEN AGE AND MINUTE/GAME  "
      ]
    },
    {
      "cell_type": "code",
      "metadata": {
        "id": "x-sfyxfs5xdP",
        "colab": {
          "base_uri": "https://localhost:8080/",
          "height": 542
        },
        "outputId": "105e3b00-87e4-4bf7-c0c5-019d829f1de1"
      },
      "source": [
        "px.histogram(nba_20_copy, x = 'AGE', y = 'MPG', color= 'TEAM', title='Age Vs. Minutes')"
      ],
      "execution_count": null,
      "outputs": [
        {
          "output_type": "display_data",
          "data": {
            "text/html": [
              "<html>\n",
              "<head><meta charset=\"utf-8\" /></head>\n",
              "<body>\n",
              "    <div>            <script src=\"https://cdnjs.cloudflare.com/ajax/libs/mathjax/2.7.5/MathJax.js?config=TeX-AMS-MML_SVG\"></script><script type=\"text/javascript\">if (window.MathJax) {MathJax.Hub.Config({SVG: {font: \"STIX-Web\"}});}</script>                <script type=\"text/javascript\">window.PlotlyConfig = {MathJaxConfig: 'local'};</script>\n",
              "        <script src=\"https://cdn.plot.ly/plotly-latest.min.js\"></script>                <div id=\"6b33b0bc-067a-4d74-8c34-823034054aef\" class=\"plotly-graph-div\" style=\"height:525px; width:100%;\"></div>            <script type=\"text/javascript\">                                    window.PLOTLYENV=window.PLOTLYENV || {};                                    if (document.getElementById(\"6b33b0bc-067a-4d74-8c34-823034054aef\")) {                    Plotly.newPlot(                        \"6b33b0bc-067a-4d74-8c34-823034054aef\",                        [{\"alignmentgroup\": \"True\", \"bingroup\": \"x\", \"histfunc\": \"sum\", \"hovertemplate\": \"TEAM=Por<br>AGE=%{x}<br>sum of MPG=%{y}<extra></extra>\", \"legendgroup\": \"Por\", \"marker\": {\"color\": \"#636efa\"}, \"name\": \"Por\", \"offsetgroup\": \"Por\", \"orientation\": \"v\", \"showlegend\": true, \"type\": \"histogram\", \"x\": [24.44, 36.37, 23.55, 25.63, 21.54, 30.24, 29.06, 26.14, 21.35, 21.73, 31.33], \"xaxis\": \"x\", \"y\": [6.9, 35.1, 13.3, 13.6, 13.8, 35.7, 39.2, 32.3, 20.5, 30.6, 21.2], \"yaxis\": \"y\"}, {\"alignmentgroup\": \"True\", \"bingroup\": \"x\", \"histfunc\": \"sum\", \"hovertemplate\": \"TEAM=Okc<br>AGE=%{x}<br>sum of MPG=%{y}<extra></extra>\", \"legendgroup\": \"Okc\", \"marker\": {\"color\": \"#EF553B\"}, \"name\": \"Okc\", \"offsetgroup\": \"Okc\", \"orientation\": \"v\", \"showlegend\": true, \"type\": \"histogram\", \"x\": [27.23, 20.33, 26.7, 22.2, 21.48, 22.41, 32.18, 22.25, 29.28, 27.05, 26.51, 35.44, 28.86, 27.07], \"xaxis\": \"x\", \"y\": [30.0, 18.0, 2.1, 8.4, 29.2, 10.4, 30.3, 39.9, 9.9, 8.5, 13.9, 37.3, 3.4, 32.4], \"yaxis\": \"y\"}, {\"alignmentgroup\": \"True\", \"bingroup\": \"x\", \"histfunc\": \"sum\", \"hovertemplate\": \"TEAM=Mia<br>AGE=%{x}<br>sum of MPG=%{y}<extra></extra>\", \"legendgroup\": \"Mia\", \"marker\": {\"color\": \"#00cc96\"}, \"name\": \"Mia\", \"offsetgroup\": \"Mia\", \"orientation\": \"v\", \"showlegend\": true, \"type\": \"histogram\", \"x\": [23.24, 31.08, 30.27, 34.44, 20.73, 29.57, 36.7, 23.66, 28.62, 25.19, 29.48, 26.47, 24.33], \"xaxis\": \"x\", \"y\": [36.2, 38.4, 31.4, 32.5, 33.6, 6.0, 19.5, 6.5, 10.3, 15.9, 15.2, 28.6, 0.3], \"yaxis\": \"y\"}, {\"alignmentgroup\": \"True\", \"bingroup\": \"x\", \"histfunc\": \"sum\", \"hovertemplate\": \"TEAM=Bro<br>AGE=%{x}<br>sum of MPG=%{y}<extra></extra>\", \"legendgroup\": \"Bro\", \"marker\": {\"color\": \"#ab63fa\"}, \"name\": \"Bro\", \"offsetgroup\": \"Bro\", \"orientation\": \"v\", \"showlegend\": true, \"type\": \"histogram\", \"x\": [22.48, 26.9, 24.89, 23.18, 29.1, 28.43, 22.68, 26.13, 25.43, 24.31, 21.43, 34.43, 32.47], \"xaxis\": \"x\", \"y\": [33.1, 9.4, 16.2, 6.6, 36.2, 23.2, 14.6, 34.9, 32.9, 9.0, 13.1, 34.3, 5.7], \"yaxis\": \"y\"}, {\"alignmentgroup\": \"True\", \"bingroup\": \"x\", \"histfunc\": \"sum\", \"hovertemplate\": \"TEAM=Mil<br>AGE=%{x}<br>sum of MPG=%{y}<extra></extra>\", \"legendgroup\": \"Mil\", \"marker\": {\"color\": \"#FFA15A\"}, \"name\": \"Mil\", \"offsetgroup\": \"Mil\", \"orientation\": \"v\", \"showlegend\": true, \"type\": \"histogram\", \"x\": [25.85, 30.84, 25.67, 27.76, 23.7, 34.44, 33.41, 39.57, 32.53, 32.53, 26.53, 34.0, 29.17, 34.32], \"xaxis\": \"x\", \"y\": [30.8, 29.7, 3.6, 17.1, 16.5, 26.8, 7.8, 11.9, 32.8, 6.9, 1.1, 24.6, 35.5, 17.9], \"yaxis\": \"y\"}, {\"alignmentgroup\": \"True\", \"bingroup\": \"x\", \"histfunc\": \"sum\", \"hovertemplate\": \"TEAM=Tor<br>AGE=%{x}<br>sum of MPG=%{y}<extra></extra>\", \"legendgroup\": \"Tor\", \"marker\": {\"color\": \"#19d3f3\"}, \"name\": \"Tor\", \"offsetgroup\": \"Tor\", \"orientation\": \"v\", \"showlegend\": true, \"type\": \"histogram\", \"x\": [23.24, 27.75, 23.41, 35.7, 25.77, 31.07, 24.37, 34.55, 27.6, 27.38, 26.53, 26.19, 26.63, 25.78], \"xaxis\": \"x\", \"y\": [35.7, 6.1, 14.0, 20.7, 7.7, 22.9, 6.7, 37.6, 5.3, 24.8, 38.0, 8.4, 39.1, 4.4], \"yaxis\": \"y\"}, {\"alignmentgroup\": \"True\", \"bingroup\": \"x\", \"histfunc\": \"sum\", \"hovertemplate\": \"TEAM=Orl<br>AGE=%{x}<br>sum of MPG=%{y}<extra></extra>\", \"legendgroup\": \"Orl\", \"marker\": {\"color\": \"#FF6692\"}, \"name\": \"Orl\", \"offsetgroup\": \"Orl\", \"orientation\": \"v\", \"showlegend\": true, \"type\": \"histogram\", \"x\": [32.92, 28.04, 25.9, 30.28, 27.95, 22.37, 25.81, 24.81, 24.81, 29.68, 29.97], \"xaxis\": \"x\", \"y\": [25.6, 17.9, 28.7, 23.8, 34.1, 29.3, 15.2, 3.6, 3.6, 27.0, 36.9], \"yaxis\": \"y\"}, {\"alignmentgroup\": \"True\", \"bingroup\": \"x\", \"histfunc\": \"sum\", \"hovertemplate\": \"TEAM=Dal<br>AGE=%{x}<br>sum of MPG=%{y}<extra></extra>\", \"legendgroup\": \"Dal\", \"marker\": {\"color\": \"#B6E880\"}, \"name\": \"Dal\", \"offsetgroup\": \"Dal\", \"orientation\": \"v\", \"showlegend\": true, \"type\": \"histogram\", \"x\": [36.29, 27.91, 26.7, 30.14, 21.62, 27.44, 28.57, 25.54, 27.04, 28.7, 32.16, 25.2, 23.36, 28.46], \"xaxis\": \"x\", \"y\": [5.2, 26.1, 4.6, 28.8, 35.8, 31.8, 33.9, 5.3, 9.2, 33.9, 13.7, 31.5, 4.6, 13.3], \"yaxis\": \"y\"}, {\"alignmentgroup\": \"True\", \"bingroup\": \"x\", \"histfunc\": \"sum\", \"hovertemplate\": \"TEAM=Den<br>AGE=%{x}<br>sum of MPG=%{y}<extra></extra>\", \"legendgroup\": \"Den\", \"marker\": {\"color\": \"#FF97FF\"}, \"name\": \"Den\", \"offsetgroup\": \"Den\", \"orientation\": \"v\", \"showlegend\": true, \"type\": \"histogram\", \"x\": [24.72, 20.9, 23.05, 29.81, 29.24, 23.96, 26.59, 26.08, 25.64, 35.67, 25.29, 23.63, 30.61, 22.29, 25.13], \"xaxis\": \"x\", \"y\": [4.7, 5.4, 4.2, 19.8, 5.0, 10.4, 34.4, 27.1, 36.5, 24.2, 21.4, 39.6, 10.9, 23.7, 3.1], \"yaxis\": \"y\"}, {\"alignmentgroup\": \"True\", \"bingroup\": \"x\", \"histfunc\": \"sum\", \"hovertemplate\": \"TEAM=Lac<br>AGE=%{x}<br>sum of MPG=%{y}<extra></extra>\", \"legendgroup\": \"Lac\", \"marker\": {\"color\": \"#FECB52\"}, \"name\": \"Lac\", \"offsetgroup\": \"Lac\", \"orientation\": \"v\", \"showlegend\": true, \"type\": \"histogram\", \"x\": [32.25, 23.32, 30.45, 30.31, 26.71, 30.49, 29.29, 23.98, 29.21, 31.11, 35.63, 31.58, 23.58, 33.96, 23.57], \"xaxis\": \"x\", \"y\": [20.8, 2.3, 36.8, 17.1, 18.7, 14.2, 39.3, 2.1, 3.1, 29.9, 1.0, 4.9, 18.7, 26.2, 24.6], \"yaxis\": \"y\"}, {\"alignmentgroup\": \"True\", \"bingroup\": \"x\", \"histfunc\": \"sum\", \"hovertemplate\": \"TEAM=Uta<br>AGE=%{x}<br>sum of MPG=%{y}<extra></extra>\", \"legendgroup\": \"Uta\", \"marker\": {\"color\": \"#636efa\"}, \"name\": \"Uta\", \"offsetgroup\": \"Uta\", \"orientation\": \"v\", \"showlegend\": true, \"type\": \"histogram\", \"x\": [22.67, 24.35, 28.35, 33.0, 28.29, 33.03, 24.09, 23.49, 24.6, 27.32, 27.35, 23.19, 23.05, 26.07], \"xaxis\": \"x\", \"y\": [8.1, 6.5, 28.6, 33.0, 38.6, 33.5, 37.7, 12.3, 11.3, 16.3, 35.5, 7.0, 5.6, 2.4], \"yaxis\": \"y\"}, {\"alignmentgroup\": \"True\", \"bingroup\": \"x\", \"histfunc\": \"sum\", \"hovertemplate\": \"TEAM=Ind<br>AGE=%{x}<br>sum of MPG=%{y}<extra></extra>\", \"legendgroup\": \"Ind\", \"marker\": {\"color\": \"#EF553B\"}, \"name\": \"Ind\", \"offsetgroup\": \"Ind\", \"orientation\": \"v\", \"showlegend\": true, \"type\": \"histogram\", \"x\": [27.83, 24.03, 31.52, 24.47, 28.55, 28.77, 28.44, 27.56, 24.78, 24.55, 27.1], \"xaxis\": \"x\", \"y\": [40.0, 18.0, 32.8, 0.2, 9.3, 13.6, 30.6, 12.5, 13.5, 36.4, 39.1], \"yaxis\": \"y\"}, {\"alignmentgroup\": \"True\", \"bingroup\": \"x\", \"histfunc\": \"sum\", \"hovertemplate\": \"TEAM=Bos<br>AGE=%{x}<br>sum of MPG=%{y}<extra></extra>\", \"legendgroup\": \"Bos\", \"marker\": {\"color\": \"#00cc96\"}, \"name\": \"Bos\", \"offsetgroup\": \"Bos\", \"orientation\": \"v\", \"showlegend\": true, \"type\": \"histogram\", \"x\": [23.97, 22.59, 24.84, 27.22, 30.56, 28.39, 20.97, 25.85, 26.96, 26.6, 22.61, 28.52, 30.43, 31.22, 22.75, 22.99, 21.87], \"xaxis\": \"x\", \"y\": [39.5, 3.5, 1.4, 5.7, 31.4, 10.3, 6.5, 9.4, 1.8, 38.1, 40.6, 28.3, 36.9, 16.0, 2.4, 11.5, 10.0], \"yaxis\": \"y\"}, {\"alignmentgroup\": \"True\", \"bingroup\": \"x\", \"histfunc\": \"sum\", \"hovertemplate\": \"TEAM=Phi<br>AGE=%{x}<br>sum of MPG=%{y}<extra></extra>\", \"legendgroup\": \"Phi\", \"marker\": {\"color\": \"#ab63fa\"}, \"name\": \"Phi\", \"offsetgroup\": \"Phi\", \"orientation\": \"v\", \"showlegend\": true, \"type\": \"histogram\", \"x\": [29.23, 26.58, 28.24, 34.36, 23.22, 24.04, 28.4, 30.55, 27.69, 27.07, 32.24, 23.61], \"xaxis\": \"x\", \"y\": [23.7, 36.2, 37.2, 32.1, 10.1, 31.5, 12.9, 5.7, 6.5, 36.1, 5.0, 18.9], \"yaxis\": \"y\"}, {\"alignmentgroup\": \"True\", \"bingroup\": \"x\", \"histfunc\": \"sum\", \"hovertemplate\": \"TEAM=Hou<br>AGE=%{x}<br>sum of MPG=%{y}<extra></extra>\", \"legendgroup\": \"Hou\", \"marker\": {\"color\": \"#FFA15A\"}, \"name\": \"Hou\", \"offsetgroup\": \"Hou\", \"orientation\": \"v\", \"showlegend\": true, \"type\": \"histogram\", \"x\": [25.06, 34.21, 23.22, 29.83, 26.6, 31.8, 34.12, 31.13, 27.35, 27.67, 28.2, 35.44, 31.91], \"xaxis\": \"x\", \"y\": [3.3, 2.9, 4.1, 31.6, 2.9, 34.1, 28.4, 37.3, 31.0, 11.8, 17.6, 34.5, 32.7], \"yaxis\": \"y\"}, {\"alignmentgroup\": \"True\", \"bingroup\": \"x\", \"histfunc\": \"sum\", \"hovertemplate\": \"TEAM=Lal<br>AGE=%{x}<br>sum of MPG=%{y}<extra></extra>\", \"legendgroup\": \"Lal\", \"marker\": {\"color\": \"#19d3f3\"}, \"name\": \"Lal\", \"offsetgroup\": \"Lal\", \"orientation\": \"v\", \"showlegend\": true, \"type\": \"histogram\", \"x\": [27.65, 26.62, 27.56, 27.59, 35.26, 33.31, 19.88, 34.84, 35.78, 25.22, 32.73, 31.11, 34.64, 35.09, 28.84], \"xaxis\": \"x\", \"y\": [29.0, 24.3, 4.1, 36.6, 3.4, 25.0, 8.5, 15.7, 36.3, 23.0, 9.7, 18.4, 24.7, 7.5, 7.6], \"yaxis\": \"y\"}],                        {\"barmode\": \"relative\", \"legend\": {\"title\": {\"text\": \"TEAM\"}, \"tracegroupgap\": 0}, \"template\": {\"data\": {\"bar\": [{\"error_x\": {\"color\": \"#2a3f5f\"}, \"error_y\": {\"color\": \"#2a3f5f\"}, \"marker\": {\"line\": {\"color\": \"#E5ECF6\", \"width\": 0.5}}, \"type\": \"bar\"}], \"barpolar\": [{\"marker\": {\"line\": {\"color\": \"#E5ECF6\", \"width\": 0.5}}, \"type\": \"barpolar\"}], \"carpet\": [{\"aaxis\": {\"endlinecolor\": \"#2a3f5f\", \"gridcolor\": \"white\", \"linecolor\": \"white\", \"minorgridcolor\": \"white\", \"startlinecolor\": \"#2a3f5f\"}, \"baxis\": {\"endlinecolor\": \"#2a3f5f\", \"gridcolor\": \"white\", \"linecolor\": \"white\", \"minorgridcolor\": \"white\", \"startlinecolor\": \"#2a3f5f\"}, \"type\": \"carpet\"}], \"choropleth\": [{\"colorbar\": {\"outlinewidth\": 0, \"ticks\": \"\"}, \"type\": \"choropleth\"}], \"contour\": [{\"colorbar\": {\"outlinewidth\": 0, \"ticks\": \"\"}, \"colorscale\": [[0.0, \"#0d0887\"], [0.1111111111111111, \"#46039f\"], [0.2222222222222222, \"#7201a8\"], [0.3333333333333333, \"#9c179e\"], [0.4444444444444444, \"#bd3786\"], [0.5555555555555556, \"#d8576b\"], [0.6666666666666666, \"#ed7953\"], [0.7777777777777778, \"#fb9f3a\"], [0.8888888888888888, \"#fdca26\"], [1.0, \"#f0f921\"]], \"type\": \"contour\"}], \"contourcarpet\": [{\"colorbar\": {\"outlinewidth\": 0, \"ticks\": \"\"}, \"type\": \"contourcarpet\"}], \"heatmap\": [{\"colorbar\": {\"outlinewidth\": 0, \"ticks\": \"\"}, \"colorscale\": [[0.0, \"#0d0887\"], [0.1111111111111111, \"#46039f\"], [0.2222222222222222, \"#7201a8\"], [0.3333333333333333, \"#9c179e\"], [0.4444444444444444, \"#bd3786\"], [0.5555555555555556, \"#d8576b\"], [0.6666666666666666, \"#ed7953\"], [0.7777777777777778, \"#fb9f3a\"], [0.8888888888888888, \"#fdca26\"], [1.0, \"#f0f921\"]], \"type\": \"heatmap\"}], \"heatmapgl\": [{\"colorbar\": {\"outlinewidth\": 0, \"ticks\": \"\"}, \"colorscale\": [[0.0, \"#0d0887\"], [0.1111111111111111, \"#46039f\"], [0.2222222222222222, \"#7201a8\"], [0.3333333333333333, \"#9c179e\"], [0.4444444444444444, \"#bd3786\"], [0.5555555555555556, \"#d8576b\"], [0.6666666666666666, \"#ed7953\"], [0.7777777777777778, \"#fb9f3a\"], [0.8888888888888888, \"#fdca26\"], [1.0, \"#f0f921\"]], \"type\": \"heatmapgl\"}], \"histogram\": [{\"marker\": {\"colorbar\": {\"outlinewidth\": 0, \"ticks\": \"\"}}, \"type\": \"histogram\"}], \"histogram2d\": [{\"colorbar\": {\"outlinewidth\": 0, \"ticks\": \"\"}, \"colorscale\": [[0.0, \"#0d0887\"], [0.1111111111111111, \"#46039f\"], [0.2222222222222222, \"#7201a8\"], [0.3333333333333333, \"#9c179e\"], [0.4444444444444444, \"#bd3786\"], [0.5555555555555556, \"#d8576b\"], [0.6666666666666666, \"#ed7953\"], [0.7777777777777778, \"#fb9f3a\"], [0.8888888888888888, \"#fdca26\"], [1.0, \"#f0f921\"]], \"type\": \"histogram2d\"}], \"histogram2dcontour\": [{\"colorbar\": {\"outlinewidth\": 0, \"ticks\": \"\"}, \"colorscale\": [[0.0, \"#0d0887\"], [0.1111111111111111, \"#46039f\"], [0.2222222222222222, \"#7201a8\"], [0.3333333333333333, \"#9c179e\"], [0.4444444444444444, \"#bd3786\"], [0.5555555555555556, \"#d8576b\"], [0.6666666666666666, \"#ed7953\"], [0.7777777777777778, \"#fb9f3a\"], [0.8888888888888888, \"#fdca26\"], [1.0, \"#f0f921\"]], \"type\": \"histogram2dcontour\"}], \"mesh3d\": [{\"colorbar\": {\"outlinewidth\": 0, \"ticks\": \"\"}, \"type\": \"mesh3d\"}], \"parcoords\": [{\"line\": {\"colorbar\": {\"outlinewidth\": 0, \"ticks\": \"\"}}, \"type\": \"parcoords\"}], \"pie\": [{\"automargin\": true, \"type\": \"pie\"}], \"scatter\": [{\"marker\": {\"colorbar\": {\"outlinewidth\": 0, \"ticks\": \"\"}}, \"type\": \"scatter\"}], \"scatter3d\": [{\"line\": {\"colorbar\": {\"outlinewidth\": 0, \"ticks\": \"\"}}, \"marker\": {\"colorbar\": {\"outlinewidth\": 0, \"ticks\": \"\"}}, \"type\": \"scatter3d\"}], \"scattercarpet\": [{\"marker\": {\"colorbar\": {\"outlinewidth\": 0, \"ticks\": \"\"}}, \"type\": \"scattercarpet\"}], \"scattergeo\": [{\"marker\": {\"colorbar\": {\"outlinewidth\": 0, \"ticks\": \"\"}}, \"type\": \"scattergeo\"}], \"scattergl\": [{\"marker\": {\"colorbar\": {\"outlinewidth\": 0, \"ticks\": \"\"}}, \"type\": \"scattergl\"}], \"scattermapbox\": [{\"marker\": {\"colorbar\": {\"outlinewidth\": 0, \"ticks\": \"\"}}, \"type\": \"scattermapbox\"}], \"scatterpolar\": [{\"marker\": {\"colorbar\": {\"outlinewidth\": 0, \"ticks\": \"\"}}, \"type\": \"scatterpolar\"}], \"scatterpolargl\": [{\"marker\": {\"colorbar\": {\"outlinewidth\": 0, \"ticks\": \"\"}}, \"type\": \"scatterpolargl\"}], \"scatterternary\": [{\"marker\": {\"colorbar\": {\"outlinewidth\": 0, \"ticks\": \"\"}}, \"type\": \"scatterternary\"}], \"surface\": [{\"colorbar\": {\"outlinewidth\": 0, \"ticks\": \"\"}, \"colorscale\": [[0.0, \"#0d0887\"], [0.1111111111111111, \"#46039f\"], [0.2222222222222222, \"#7201a8\"], [0.3333333333333333, \"#9c179e\"], [0.4444444444444444, \"#bd3786\"], [0.5555555555555556, \"#d8576b\"], [0.6666666666666666, \"#ed7953\"], [0.7777777777777778, \"#fb9f3a\"], [0.8888888888888888, \"#fdca26\"], [1.0, \"#f0f921\"]], \"type\": \"surface\"}], \"table\": [{\"cells\": {\"fill\": {\"color\": \"#EBF0F8\"}, \"line\": {\"color\": \"white\"}}, \"header\": {\"fill\": {\"color\": \"#C8D4E3\"}, \"line\": {\"color\": \"white\"}}, \"type\": \"table\"}]}, \"layout\": {\"annotationdefaults\": {\"arrowcolor\": \"#2a3f5f\", \"arrowhead\": 0, \"arrowwidth\": 1}, \"autotypenumbers\": \"strict\", \"coloraxis\": {\"colorbar\": {\"outlinewidth\": 0, \"ticks\": \"\"}}, \"colorscale\": {\"diverging\": [[0, \"#8e0152\"], [0.1, \"#c51b7d\"], [0.2, \"#de77ae\"], [0.3, \"#f1b6da\"], [0.4, \"#fde0ef\"], [0.5, \"#f7f7f7\"], [0.6, \"#e6f5d0\"], [0.7, \"#b8e186\"], [0.8, \"#7fbc41\"], [0.9, \"#4d9221\"], [1, \"#276419\"]], \"sequential\": [[0.0, \"#0d0887\"], [0.1111111111111111, \"#46039f\"], [0.2222222222222222, \"#7201a8\"], [0.3333333333333333, \"#9c179e\"], [0.4444444444444444, \"#bd3786\"], [0.5555555555555556, \"#d8576b\"], [0.6666666666666666, \"#ed7953\"], [0.7777777777777778, \"#fb9f3a\"], [0.8888888888888888, \"#fdca26\"], [1.0, \"#f0f921\"]], \"sequentialminus\": [[0.0, \"#0d0887\"], [0.1111111111111111, \"#46039f\"], [0.2222222222222222, \"#7201a8\"], [0.3333333333333333, \"#9c179e\"], [0.4444444444444444, \"#bd3786\"], [0.5555555555555556, \"#d8576b\"], [0.6666666666666666, \"#ed7953\"], [0.7777777777777778, \"#fb9f3a\"], [0.8888888888888888, \"#fdca26\"], [1.0, \"#f0f921\"]]}, \"colorway\": [\"#636efa\", \"#EF553B\", \"#00cc96\", \"#ab63fa\", \"#FFA15A\", \"#19d3f3\", \"#FF6692\", \"#B6E880\", \"#FF97FF\", \"#FECB52\"], \"font\": {\"color\": \"#2a3f5f\"}, \"geo\": {\"bgcolor\": \"white\", \"lakecolor\": \"white\", \"landcolor\": \"#E5ECF6\", \"showlakes\": true, \"showland\": true, \"subunitcolor\": \"white\"}, \"hoverlabel\": {\"align\": \"left\"}, \"hovermode\": \"closest\", \"mapbox\": {\"style\": \"light\"}, \"paper_bgcolor\": \"white\", \"plot_bgcolor\": \"#E5ECF6\", \"polar\": {\"angularaxis\": {\"gridcolor\": \"white\", \"linecolor\": \"white\", \"ticks\": \"\"}, \"bgcolor\": \"#E5ECF6\", \"radialaxis\": {\"gridcolor\": \"white\", \"linecolor\": \"white\", \"ticks\": \"\"}}, \"scene\": {\"xaxis\": {\"backgroundcolor\": \"#E5ECF6\", \"gridcolor\": \"white\", \"gridwidth\": 2, \"linecolor\": \"white\", \"showbackground\": true, \"ticks\": \"\", \"zerolinecolor\": \"white\"}, \"yaxis\": {\"backgroundcolor\": \"#E5ECF6\", \"gridcolor\": \"white\", \"gridwidth\": 2, \"linecolor\": \"white\", \"showbackground\": true, \"ticks\": \"\", \"zerolinecolor\": \"white\"}, \"zaxis\": {\"backgroundcolor\": \"#E5ECF6\", \"gridcolor\": \"white\", \"gridwidth\": 2, \"linecolor\": \"white\", \"showbackground\": true, \"ticks\": \"\", \"zerolinecolor\": \"white\"}}, \"shapedefaults\": {\"line\": {\"color\": \"#2a3f5f\"}}, \"ternary\": {\"aaxis\": {\"gridcolor\": \"white\", \"linecolor\": \"white\", \"ticks\": \"\"}, \"baxis\": {\"gridcolor\": \"white\", \"linecolor\": \"white\", \"ticks\": \"\"}, \"bgcolor\": \"#E5ECF6\", \"caxis\": {\"gridcolor\": \"white\", \"linecolor\": \"white\", \"ticks\": \"\"}}, \"title\": {\"x\": 0.05}, \"xaxis\": {\"automargin\": true, \"gridcolor\": \"white\", \"linecolor\": \"white\", \"ticks\": \"\", \"title\": {\"standoff\": 15}, \"zerolinecolor\": \"white\", \"zerolinewidth\": 2}, \"yaxis\": {\"automargin\": true, \"gridcolor\": \"white\", \"linecolor\": \"white\", \"ticks\": \"\", \"title\": {\"standoff\": 15}, \"zerolinecolor\": \"white\", \"zerolinewidth\": 2}}}, \"title\": {\"text\": \"Age Vs. Minutes\"}, \"xaxis\": {\"anchor\": \"y\", \"domain\": [0.0, 1.0], \"title\": {\"text\": \"AGE\"}}, \"yaxis\": {\"anchor\": \"x\", \"domain\": [0.0, 1.0], \"title\": {\"text\": \"sum of MPG\"}}},                        {\"responsive\": true}                    ).then(function(){\n",
              "                            \n",
              "var gd = document.getElementById('6b33b0bc-067a-4d74-8c34-823034054aef');\n",
              "var x = new MutationObserver(function (mutations, observer) {{\n",
              "        var display = window.getComputedStyle(gd).display;\n",
              "        if (!display || display === 'none') {{\n",
              "            console.log([gd, 'removed!']);\n",
              "            Plotly.purge(gd);\n",
              "            observer.disconnect();\n",
              "        }}\n",
              "}});\n",
              "\n",
              "// Listen for the removal of the full notebook cells\n",
              "var notebookContainer = gd.closest('#notebook-container');\n",
              "if (notebookContainer) {{\n",
              "    x.observe(notebookContainer, {childList: true});\n",
              "}}\n",
              "\n",
              "// Listen for the clearing of the current output cell\n",
              "var outputEl = gd.closest('.output');\n",
              "if (outputEl) {{\n",
              "    x.observe(outputEl, {childList: true});\n",
              "}}\n",
              "\n",
              "                        })                };                            </script>        </div>\n",
              "</body>\n",
              "</html>"
            ]
          },
          "metadata": {
            "tags": []
          }
        }
      ]
    },
    {
      "cell_type": "code",
      "metadata": {
        "colab": {
          "base_uri": "https://localhost:8080/",
          "height": 542
        },
        "id": "nFDY2AVeBphF",
        "outputId": "7a1164b5-c761-4022-caad-b8d470c90a61"
      },
      "source": [
        "px.scatter(nba_20_copy, x = 'two_pa', y = 'AGE', color='TEAM', title='2Pt Vs. Age', template='plotly_white')"
      ],
      "execution_count": null,
      "outputs": [
        {
          "output_type": "display_data",
          "data": {
            "text/html": [
              "<html>\n",
              "<head><meta charset=\"utf-8\" /></head>\n",
              "<body>\n",
              "    <div>            <script src=\"https://cdnjs.cloudflare.com/ajax/libs/mathjax/2.7.5/MathJax.js?config=TeX-AMS-MML_SVG\"></script><script type=\"text/javascript\">if (window.MathJax) {MathJax.Hub.Config({SVG: {font: \"STIX-Web\"}});}</script>                <script type=\"text/javascript\">window.PlotlyConfig = {MathJaxConfig: 'local'};</script>\n",
              "        <script src=\"https://cdn.plot.ly/plotly-latest.min.js\"></script>                <div id=\"9fb7fbd6-3b23-4b44-ab9e-ab3f65a566e5\" class=\"plotly-graph-div\" style=\"height:525px; width:100%;\"></div>            <script type=\"text/javascript\">                                    window.PLOTLYENV=window.PLOTLYENV || {};                                    if (document.getElementById(\"9fb7fbd6-3b23-4b44-ab9e-ab3f65a566e5\")) {                    Plotly.newPlot(                        \"9fb7fbd6-3b23-4b44-ab9e-ab3f65a566e5\",                        [{\"hovertemplate\": \"TEAM=Por<br>two_pa=%{x}<br>AGE=%{y}<extra></extra>\", \"legendgroup\": \"Por\", \"marker\": {\"color\": \"#636efa\", \"symbol\": \"circle\"}, \"mode\": \"markers\", \"name\": \"Por\", \"orientation\": \"v\", \"showlegend\": true, \"type\": \"scatter\", \"x\": [5, 49, 10, 15, 12, 31, 64, 46, 12, 21, 23], \"xaxis\": \"x\", \"y\": [24.44, 36.37, 23.55, 25.63, 21.54, 30.24, 29.06, 26.14, 21.35, 21.73, 31.33], \"yaxis\": \"y\"}, {\"hovertemplate\": \"TEAM=Okc<br>two_pa=%{x}<br>AGE=%{y}<extra></extra>\", \"legendgroup\": \"Okc\", \"marker\": {\"color\": \"#EF553B\", \"symbol\": \"circle\"}, \"mode\": \"markers\", \"name\": \"Okc\", \"orientation\": \"v\", \"showlegend\": true, \"type\": \"scatter\", \"x\": [51, 9, 0, 6, 26, 1, 42, 55, 1, 2, 16, 69, 0, 64], \"xaxis\": \"x\", \"y\": [27.23, 20.33, 26.7, 22.2, 21.48, 22.41, 32.18, 22.25, 29.28, 27.05, 26.51, 35.44, 28.86, 27.07], \"yaxis\": \"y\"}, {\"hovertemplate\": \"TEAM=Mia<br>two_pa=%{x}<br>AGE=%{y}<extra></extra>\", \"legendgroup\": \"Mia\", \"marker\": {\"color\": \"#00cc96\", \"symbol\": \"circle\"}, \"mode\": \"markers\", \"name\": \"Mia\", \"orientation\": \"v\", \"showlegend\": true, \"type\": \"scatter\", \"x\": [219, 252, 40, 161, 149, 3, 26, 8, 4, 49, 46, 20, 0], \"xaxis\": \"x\", \"y\": [23.24, 31.08, 30.27, 34.44, 20.73, 29.57, 36.7, 23.66, 28.62, 25.19, 29.48, 26.47, 24.33], \"yaxis\": \"y\"}, {\"hovertemplate\": \"TEAM=Bro<br>two_pa=%{x}<br>AGE=%{y}<extra></extra>\", \"legendgroup\": \"Bro\", \"marker\": {\"color\": \"#ab63fa\", \"symbol\": \"circle\"}, \"mode\": \"markers\", \"name\": \"Bro\", \"orientation\": \"v\", \"showlegend\": true, \"type\": \"scatter\", \"x\": [24, 1, 8, 5, 11, 18, 12, 52, 20, 9, 5, 13, 3], \"xaxis\": \"x\", \"y\": [22.48, 26.9, 24.89, 23.18, 29.1, 28.43, 22.68, 26.13, 25.43, 24.31, 21.43, 34.43, 32.47], \"yaxis\": \"y\"}, {\"hovertemplate\": \"TEAM=Mil<br>two_pa=%{x}<br>AGE=%{y}<extra></extra>\", \"legendgroup\": \"Mil\", \"marker\": {\"color\": \"#FFA15A\", \"symbol\": \"circle\"}, \"mode\": \"markers\", \"name\": \"Mil\", \"orientation\": \"v\", \"showlegend\": true, \"type\": \"scatter\", \"x\": [121, 66, 0, 12, 30, 39, 4, 10, 61, 4, 0, 14, 115, 24], \"xaxis\": \"x\", \"y\": [25.85, 30.84, 25.67, 27.76, 23.7, 34.44, 33.41, 39.57, 32.53, 32.53, 26.53, 34.0, 29.17, 34.32], \"yaxis\": \"y\"}, {\"hovertemplate\": \"TEAM=Tor<br>two_pa=%{x}<br>AGE=%{y}<extra></extra>\", \"legendgroup\": \"Tor\", \"marker\": {\"color\": \"#19d3f3\", \"symbol\": \"circle\"}, \"mode\": \"markers\", \"name\": \"Tor\", \"orientation\": \"v\", \"showlegend\": true, \"type\": \"scatter\", \"x\": [47, 6, 10, 37, 9, 65, 6, 76, 2, 52, 129, 9, 80, 2], \"xaxis\": \"x\", \"y\": [23.24, 27.75, 23.41, 35.7, 25.77, 31.07, 24.37, 34.55, 27.6, 27.38, 26.53, 26.19, 26.63, 25.78], \"yaxis\": \"y\"}, {\"hovertemplate\": \"TEAM=Orl<br>two_pa=%{x}<br>AGE=%{y}<extra></extra>\", \"legendgroup\": \"Orl\", \"marker\": {\"color\": \"#FF6692\", \"symbol\": \"circle\"}, \"mode\": \"markers\", \"name\": \"Orl\", \"orientation\": \"v\", \"showlegend\": true, \"type\": \"scatter\", \"x\": [29, 14, 1, 19, 22, 44, 13, 1, 0, 34, 67], \"xaxis\": \"x\", \"y\": [32.92, 28.04, 25.9, 30.28, 27.95, 22.37, 25.81, 24.81, 24.81, 29.68, 29.97], \"yaxis\": \"y\"}, {\"hovertemplate\": \"TEAM=Dal<br>two_pa=%{x}<br>AGE=%{y}<extra></extra>\", \"legendgroup\": \"Dal\", \"marker\": {\"color\": \"#B6E880\", \"symbol\": \"circle\"}, \"mode\": \"markers\", \"name\": \"Dal\", \"orientation\": \"v\", \"showlegend\": true, \"type\": \"scatter\", \"x\": [1, 42, 5, 32, 84, 22, 41, 3, 5, 13, 29, 23, 2, 8], \"xaxis\": \"x\", \"y\": [36.29, 27.91, 26.7, 30.14, 21.62, 27.44, 28.57, 25.54, 27.04, 28.7, 32.16, 25.2, 23.36, 28.46], \"yaxis\": \"y\"}, {\"hovertemplate\": \"TEAM=Den<br>two_pa=%{x}<br>AGE=%{y}<extra></extra>\", \"legendgroup\": \"Den\", \"marker\": {\"color\": \"#FF97FF\", \"symbol\": \"circle\"}, \"mode\": \"markers\", \"name\": \"Den\", \"orientation\": \"v\", \"showlegend\": true, \"type\": \"scatter\", \"x\": [5, 6, 0, 36, 6, 25, 80, 38, 245, 74, 93, 231, 38, 75, 1], \"xaxis\": \"x\", \"y\": [24.72, 20.9, 23.05, 29.81, 29.24, 23.96, 26.59, 26.08, 25.64, 35.67, 25.29, 23.63, 30.61, 22.29, 25.13], \"yaxis\": \"y\"}, {\"hovertemplate\": \"TEAM=Lac<br>two_pa=%{x}<br>AGE=%{y}<extra></extra>\", \"legendgroup\": \"Lac\", \"marker\": {\"color\": \"#FECB52\", \"symbol\": \"circle\"}, \"mode\": \"markers\", \"name\": \"Lac\", \"orientation\": \"v\", \"showlegend\": true, \"type\": \"scatter\", \"x\": [17, 2, 110, 32, 77, 16, 195, 3, 2, 52, 0, 0, 17, 95, 78], \"xaxis\": \"x\", \"y\": [32.25, 23.32, 30.45, 30.31, 26.71, 30.49, 29.29, 23.98, 29.21, 31.11, 35.63, 31.58, 23.58, 33.96, 23.57], \"yaxis\": \"y\"}, {\"hovertemplate\": \"TEAM=Uta<br>two_pa=%{x}<br>AGE=%{y}<extra></extra>\", \"legendgroup\": \"Uta\", \"marker\": {\"color\": \"#636efa\", \"symbol\": \"circle\"}, \"mode\": \"markers\", \"name\": \"Uta\", \"orientation\": \"v\", \"showlegend\": true, \"type\": \"scatter\", \"x\": [9, 2, 48, 30, 74, 14, 93, 2, 11, 15, 10, 2, 2, 0], \"xaxis\": \"x\", \"y\": [22.67, 24.35, 28.35, 33.0, 28.29, 33.03, 24.09, 23.49, 24.6, 27.32, 27.35, 23.19, 23.05, 26.07], \"yaxis\": \"y\"}, {\"hovertemplate\": \"TEAM=Ind<br>two_pa=%{x}<br>AGE=%{y}<extra></extra>\", \"legendgroup\": \"Ind\", \"marker\": {\"color\": \"#EF553B\", \"symbol\": \"circle\"}, \"mode\": \"markers\", \"name\": \"Ind\", \"orientation\": \"v\", \"showlegend\": true, \"type\": \"scatter\", \"x\": [41, 12, 5, 0, 8, 5, 23, 16, 4, 30, 49], \"xaxis\": \"x\", \"y\": [27.83, 24.03, 31.52, 24.47, 28.55, 28.77, 28.44, 27.56, 24.78, 24.55, 27.1], \"yaxis\": \"y\"}, {\"hovertemplate\": \"TEAM=Bos<br>two_pa=%{x}<br>AGE=%{y}<extra></extra>\", \"legendgroup\": \"Bos\", \"marker\": {\"color\": \"#00cc96\", \"symbol\": \"circle\"}, \"mode\": \"markers\", \"name\": \"Bos\", \"orientation\": \"v\", \"showlegend\": true, \"type\": \"scatter\", \"x\": [168, 0, 1, 0, 26, 41, 8, 5, 0, 75, 208, 91, 130, 33, 0, 30, 9], \"xaxis\": \"x\", \"y\": [23.97, 22.59, 24.84, 27.22, 30.56, 28.39, 20.97, 25.85, 26.96, 26.6, 22.61, 28.52, 30.43, 31.22, 22.75, 22.99, 21.87], \"yaxis\": \"y\"}, {\"hovertemplate\": \"TEAM=Phi<br>two_pa=%{x}<br>AGE=%{y}<extra></extra>\", \"legendgroup\": \"Phi\", \"marker\": {\"color\": \"#ab63fa\", \"symbol\": \"circle\"}, \"mode\": \"markers\", \"name\": \"Phi\", \"orientation\": \"v\", \"showlegend\": true, \"type\": \"scatter\", \"x\": [33, 58, 46, 21, 1, 19, 4, 0, 0, 28, 3, 3], \"xaxis\": \"x\", \"y\": [29.23, 26.58, 28.24, 34.36, 23.22, 24.04, 28.4, 30.55, 27.69, 27.07, 32.24, 23.61], \"yaxis\": \"y\"}, {\"hovertemplate\": \"TEAM=Hou<br>two_pa=%{x}<br>AGE=%{y}<extra></extra>\", \"legendgroup\": \"Hou\", \"marker\": {\"color\": \"#FFA15A\", \"symbol\": \"circle\"}, \"mode\": \"markers\", \"name\": \"Hou\", \"orientation\": \"v\", \"showlegend\": true, \"type\": \"scatter\", \"x\": [1, 2, 0, 27, 2, 86, 49, 111, 32, 4, 26, 21, 107], \"xaxis\": \"x\", \"y\": [25.06, 34.21, 23.22, 29.83, 26.6, 31.8, 34.12, 31.13, 27.35, 27.67, 28.2, 35.44, 31.91], \"yaxis\": \"y\"}, {\"hovertemplate\": \"TEAM=Lal<br>two_pa=%{x}<br>AGE=%{y}<extra></extra>\", \"legendgroup\": \"Lal\", \"marker\": {\"color\": \"#19d3f3\", \"symbol\": \"circle\"}, \"mode\": \"markers\", \"name\": \"Lal\", \"orientation\": \"v\", \"showlegend\": true, \"type\": \"scatter\", \"x\": [70, 52, 6, 299, 1, 55, 7, 55, 263, 96, 30, 29, 71, 4, 8], \"xaxis\": \"x\", \"y\": [27.65, 26.62, 27.56, 27.59, 35.26, 33.31, 19.88, 34.84, 35.78, 25.22, 32.73, 31.11, 34.64, 35.09, 28.84], \"yaxis\": \"y\"}],                        {\"legend\": {\"title\": {\"text\": \"TEAM\"}, \"tracegroupgap\": 0}, \"template\": {\"data\": {\"bar\": [{\"error_x\": {\"color\": \"#2a3f5f\"}, \"error_y\": {\"color\": \"#2a3f5f\"}, \"marker\": {\"line\": {\"color\": \"white\", \"width\": 0.5}}, \"type\": \"bar\"}], \"barpolar\": [{\"marker\": {\"line\": {\"color\": \"white\", \"width\": 0.5}}, \"type\": \"barpolar\"}], \"carpet\": [{\"aaxis\": {\"endlinecolor\": \"#2a3f5f\", \"gridcolor\": \"#C8D4E3\", \"linecolor\": \"#C8D4E3\", \"minorgridcolor\": \"#C8D4E3\", \"startlinecolor\": \"#2a3f5f\"}, \"baxis\": {\"endlinecolor\": \"#2a3f5f\", \"gridcolor\": \"#C8D4E3\", \"linecolor\": \"#C8D4E3\", \"minorgridcolor\": \"#C8D4E3\", \"startlinecolor\": \"#2a3f5f\"}, \"type\": \"carpet\"}], \"choropleth\": [{\"colorbar\": {\"outlinewidth\": 0, \"ticks\": \"\"}, \"type\": \"choropleth\"}], \"contour\": [{\"colorbar\": {\"outlinewidth\": 0, \"ticks\": \"\"}, \"colorscale\": [[0.0, \"#0d0887\"], [0.1111111111111111, \"#46039f\"], [0.2222222222222222, \"#7201a8\"], [0.3333333333333333, \"#9c179e\"], [0.4444444444444444, \"#bd3786\"], [0.5555555555555556, \"#d8576b\"], [0.6666666666666666, \"#ed7953\"], [0.7777777777777778, \"#fb9f3a\"], [0.8888888888888888, \"#fdca26\"], [1.0, \"#f0f921\"]], \"type\": \"contour\"}], \"contourcarpet\": [{\"colorbar\": {\"outlinewidth\": 0, \"ticks\": \"\"}, \"type\": \"contourcarpet\"}], \"heatmap\": [{\"colorbar\": {\"outlinewidth\": 0, \"ticks\": \"\"}, \"colorscale\": [[0.0, \"#0d0887\"], [0.1111111111111111, \"#46039f\"], [0.2222222222222222, \"#7201a8\"], [0.3333333333333333, \"#9c179e\"], [0.4444444444444444, \"#bd3786\"], [0.5555555555555556, \"#d8576b\"], [0.6666666666666666, \"#ed7953\"], [0.7777777777777778, \"#fb9f3a\"], [0.8888888888888888, \"#fdca26\"], [1.0, \"#f0f921\"]], \"type\": \"heatmap\"}], \"heatmapgl\": [{\"colorbar\": {\"outlinewidth\": 0, \"ticks\": \"\"}, \"colorscale\": [[0.0, \"#0d0887\"], [0.1111111111111111, \"#46039f\"], [0.2222222222222222, \"#7201a8\"], [0.3333333333333333, \"#9c179e\"], [0.4444444444444444, \"#bd3786\"], [0.5555555555555556, \"#d8576b\"], [0.6666666666666666, \"#ed7953\"], [0.7777777777777778, \"#fb9f3a\"], [0.8888888888888888, \"#fdca26\"], [1.0, \"#f0f921\"]], \"type\": \"heatmapgl\"}], \"histogram\": [{\"marker\": {\"colorbar\": {\"outlinewidth\": 0, \"ticks\": \"\"}}, \"type\": \"histogram\"}], \"histogram2d\": [{\"colorbar\": {\"outlinewidth\": 0, \"ticks\": \"\"}, \"colorscale\": [[0.0, \"#0d0887\"], [0.1111111111111111, \"#46039f\"], [0.2222222222222222, \"#7201a8\"], [0.3333333333333333, \"#9c179e\"], [0.4444444444444444, \"#bd3786\"], [0.5555555555555556, \"#d8576b\"], [0.6666666666666666, \"#ed7953\"], [0.7777777777777778, \"#fb9f3a\"], [0.8888888888888888, \"#fdca26\"], [1.0, \"#f0f921\"]], \"type\": \"histogram2d\"}], \"histogram2dcontour\": [{\"colorbar\": {\"outlinewidth\": 0, \"ticks\": \"\"}, \"colorscale\": [[0.0, \"#0d0887\"], [0.1111111111111111, \"#46039f\"], [0.2222222222222222, \"#7201a8\"], [0.3333333333333333, \"#9c179e\"], [0.4444444444444444, \"#bd3786\"], [0.5555555555555556, \"#d8576b\"], [0.6666666666666666, \"#ed7953\"], [0.7777777777777778, \"#fb9f3a\"], [0.8888888888888888, \"#fdca26\"], [1.0, \"#f0f921\"]], \"type\": \"histogram2dcontour\"}], \"mesh3d\": [{\"colorbar\": {\"outlinewidth\": 0, \"ticks\": \"\"}, \"type\": \"mesh3d\"}], \"parcoords\": [{\"line\": {\"colorbar\": {\"outlinewidth\": 0, \"ticks\": \"\"}}, \"type\": \"parcoords\"}], \"pie\": [{\"automargin\": true, \"type\": \"pie\"}], \"scatter\": [{\"marker\": {\"colorbar\": {\"outlinewidth\": 0, \"ticks\": \"\"}}, \"type\": \"scatter\"}], \"scatter3d\": [{\"line\": {\"colorbar\": {\"outlinewidth\": 0, \"ticks\": \"\"}}, \"marker\": {\"colorbar\": {\"outlinewidth\": 0, \"ticks\": \"\"}}, \"type\": \"scatter3d\"}], \"scattercarpet\": [{\"marker\": {\"colorbar\": {\"outlinewidth\": 0, \"ticks\": \"\"}}, \"type\": \"scattercarpet\"}], \"scattergeo\": [{\"marker\": {\"colorbar\": {\"outlinewidth\": 0, \"ticks\": \"\"}}, \"type\": \"scattergeo\"}], \"scattergl\": [{\"marker\": {\"colorbar\": {\"outlinewidth\": 0, \"ticks\": \"\"}}, \"type\": \"scattergl\"}], \"scattermapbox\": [{\"marker\": {\"colorbar\": {\"outlinewidth\": 0, \"ticks\": \"\"}}, \"type\": \"scattermapbox\"}], \"scatterpolar\": [{\"marker\": {\"colorbar\": {\"outlinewidth\": 0, \"ticks\": \"\"}}, \"type\": \"scatterpolar\"}], \"scatterpolargl\": [{\"marker\": {\"colorbar\": {\"outlinewidth\": 0, \"ticks\": \"\"}}, \"type\": \"scatterpolargl\"}], \"scatterternary\": [{\"marker\": {\"colorbar\": {\"outlinewidth\": 0, \"ticks\": \"\"}}, \"type\": \"scatterternary\"}], \"surface\": [{\"colorbar\": {\"outlinewidth\": 0, \"ticks\": \"\"}, \"colorscale\": [[0.0, \"#0d0887\"], [0.1111111111111111, \"#46039f\"], [0.2222222222222222, \"#7201a8\"], [0.3333333333333333, \"#9c179e\"], [0.4444444444444444, \"#bd3786\"], [0.5555555555555556, \"#d8576b\"], [0.6666666666666666, \"#ed7953\"], [0.7777777777777778, \"#fb9f3a\"], [0.8888888888888888, \"#fdca26\"], [1.0, \"#f0f921\"]], \"type\": \"surface\"}], \"table\": [{\"cells\": {\"fill\": {\"color\": \"#EBF0F8\"}, \"line\": {\"color\": \"white\"}}, \"header\": {\"fill\": {\"color\": \"#C8D4E3\"}, \"line\": {\"color\": \"white\"}}, \"type\": \"table\"}]}, \"layout\": {\"annotationdefaults\": {\"arrowcolor\": \"#2a3f5f\", \"arrowhead\": 0, \"arrowwidth\": 1}, \"autotypenumbers\": \"strict\", \"coloraxis\": {\"colorbar\": {\"outlinewidth\": 0, \"ticks\": \"\"}}, \"colorscale\": {\"diverging\": [[0, \"#8e0152\"], [0.1, \"#c51b7d\"], [0.2, \"#de77ae\"], [0.3, \"#f1b6da\"], [0.4, \"#fde0ef\"], [0.5, \"#f7f7f7\"], [0.6, \"#e6f5d0\"], [0.7, \"#b8e186\"], [0.8, \"#7fbc41\"], [0.9, \"#4d9221\"], [1, \"#276419\"]], \"sequential\": [[0.0, \"#0d0887\"], [0.1111111111111111, \"#46039f\"], [0.2222222222222222, \"#7201a8\"], [0.3333333333333333, \"#9c179e\"], [0.4444444444444444, \"#bd3786\"], [0.5555555555555556, \"#d8576b\"], [0.6666666666666666, \"#ed7953\"], [0.7777777777777778, \"#fb9f3a\"], [0.8888888888888888, \"#fdca26\"], [1.0, \"#f0f921\"]], \"sequentialminus\": [[0.0, \"#0d0887\"], [0.1111111111111111, \"#46039f\"], [0.2222222222222222, \"#7201a8\"], [0.3333333333333333, \"#9c179e\"], [0.4444444444444444, \"#bd3786\"], [0.5555555555555556, \"#d8576b\"], [0.6666666666666666, \"#ed7953\"], [0.7777777777777778, \"#fb9f3a\"], [0.8888888888888888, \"#fdca26\"], [1.0, \"#f0f921\"]]}, \"colorway\": [\"#636efa\", \"#EF553B\", \"#00cc96\", \"#ab63fa\", \"#FFA15A\", \"#19d3f3\", \"#FF6692\", \"#B6E880\", \"#FF97FF\", \"#FECB52\"], \"font\": {\"color\": \"#2a3f5f\"}, \"geo\": {\"bgcolor\": \"white\", \"lakecolor\": \"white\", \"landcolor\": \"white\", \"showlakes\": true, \"showland\": true, \"subunitcolor\": \"#C8D4E3\"}, \"hoverlabel\": {\"align\": \"left\"}, \"hovermode\": \"closest\", \"mapbox\": {\"style\": \"light\"}, \"paper_bgcolor\": \"white\", \"plot_bgcolor\": \"white\", \"polar\": {\"angularaxis\": {\"gridcolor\": \"#EBF0F8\", \"linecolor\": \"#EBF0F8\", \"ticks\": \"\"}, \"bgcolor\": \"white\", \"radialaxis\": {\"gridcolor\": \"#EBF0F8\", \"linecolor\": \"#EBF0F8\", \"ticks\": \"\"}}, \"scene\": {\"xaxis\": {\"backgroundcolor\": \"white\", \"gridcolor\": \"#DFE8F3\", \"gridwidth\": 2, \"linecolor\": \"#EBF0F8\", \"showbackground\": true, \"ticks\": \"\", \"zerolinecolor\": \"#EBF0F8\"}, \"yaxis\": {\"backgroundcolor\": \"white\", \"gridcolor\": \"#DFE8F3\", \"gridwidth\": 2, \"linecolor\": \"#EBF0F8\", \"showbackground\": true, \"ticks\": \"\", \"zerolinecolor\": \"#EBF0F8\"}, \"zaxis\": {\"backgroundcolor\": \"white\", \"gridcolor\": \"#DFE8F3\", \"gridwidth\": 2, \"linecolor\": \"#EBF0F8\", \"showbackground\": true, \"ticks\": \"\", \"zerolinecolor\": \"#EBF0F8\"}}, \"shapedefaults\": {\"line\": {\"color\": \"#2a3f5f\"}}, \"ternary\": {\"aaxis\": {\"gridcolor\": \"#DFE8F3\", \"linecolor\": \"#A2B1C6\", \"ticks\": \"\"}, \"baxis\": {\"gridcolor\": \"#DFE8F3\", \"linecolor\": \"#A2B1C6\", \"ticks\": \"\"}, \"bgcolor\": \"white\", \"caxis\": {\"gridcolor\": \"#DFE8F3\", \"linecolor\": \"#A2B1C6\", \"ticks\": \"\"}}, \"title\": {\"x\": 0.05}, \"xaxis\": {\"automargin\": true, \"gridcolor\": \"#EBF0F8\", \"linecolor\": \"#EBF0F8\", \"ticks\": \"\", \"title\": {\"standoff\": 15}, \"zerolinecolor\": \"#EBF0F8\", \"zerolinewidth\": 2}, \"yaxis\": {\"automargin\": true, \"gridcolor\": \"#EBF0F8\", \"linecolor\": \"#EBF0F8\", \"ticks\": \"\", \"title\": {\"standoff\": 15}, \"zerolinecolor\": \"#EBF0F8\", \"zerolinewidth\": 2}}}, \"title\": {\"text\": \"2Pt Vs. Age\"}, \"xaxis\": {\"anchor\": \"y\", \"domain\": [0.0, 1.0], \"title\": {\"text\": \"two_pa\"}}, \"yaxis\": {\"anchor\": \"x\", \"domain\": [0.0, 1.0], \"title\": {\"text\": \"AGE\"}}},                        {\"responsive\": true}                    ).then(function(){\n",
              "                            \n",
              "var gd = document.getElementById('9fb7fbd6-3b23-4b44-ab9e-ab3f65a566e5');\n",
              "var x = new MutationObserver(function (mutations, observer) {{\n",
              "        var display = window.getComputedStyle(gd).display;\n",
              "        if (!display || display === 'none') {{\n",
              "            console.log([gd, 'removed!']);\n",
              "            Plotly.purge(gd);\n",
              "            observer.disconnect();\n",
              "        }}\n",
              "}});\n",
              "\n",
              "// Listen for the removal of the full notebook cells\n",
              "var notebookContainer = gd.closest('#notebook-container');\n",
              "if (notebookContainer) {{\n",
              "    x.observe(notebookContainer, {childList: true});\n",
              "}}\n",
              "\n",
              "// Listen for the clearing of the current output cell\n",
              "var outputEl = gd.closest('.output');\n",
              "if (outputEl) {{\n",
              "    x.observe(outputEl, {childList: true});\n",
              "}}\n",
              "\n",
              "                        })                };                            </script>        </div>\n",
              "</body>\n",
              "</html>"
            ]
          },
          "metadata": {
            "tags": []
          }
        }
      ]
    },
    {
      "cell_type": "code",
      "metadata": {
        "id": "IPuhCz4a6OKY"
      },
      "source": [
        "import plotly.figure_factory as ff"
      ],
      "execution_count": null,
      "outputs": []
    },
    {
      "cell_type": "markdown",
      "metadata": {
        "id": "Uhe0rlSTeret"
      },
      "source": [
        "##Age density plot + Histogram"
      ]
    },
    {
      "cell_type": "code",
      "metadata": {
        "id": "lYJS9aIucwH0",
        "colab": {
          "base_uri": "https://localhost:8080/",
          "height": 542
        },
        "outputId": "fc4cd403-f5a6-4f4a-ded1-fdabd607848c"
      },
      "source": [
        "x = nba_20_copy.AGE\r\n",
        "hist_data = [x]\r\n",
        "group_labels = ['nba_20_copy']\r\n",
        "\r\n",
        "fig = ff.create_distplot(hist_data, group_labels)\r\n",
        "fig.show()"
      ],
      "execution_count": null,
      "outputs": [
        {
          "output_type": "display_data",
          "data": {
            "text/html": [
              "<html>\n",
              "<head><meta charset=\"utf-8\" /></head>\n",
              "<body>\n",
              "    <div>            <script src=\"https://cdnjs.cloudflare.com/ajax/libs/mathjax/2.7.5/MathJax.js?config=TeX-AMS-MML_SVG\"></script><script type=\"text/javascript\">if (window.MathJax) {MathJax.Hub.Config({SVG: {font: \"STIX-Web\"}});}</script>                <script type=\"text/javascript\">window.PlotlyConfig = {MathJaxConfig: 'local'};</script>\n",
              "        <script src=\"https://cdn.plot.ly/plotly-latest.min.js\"></script>                <div id=\"5ec62ea9-359a-4053-a4b7-7b072f40309c\" class=\"plotly-graph-div\" style=\"height:525px; width:100%;\"></div>            <script type=\"text/javascript\">                                    window.PLOTLYENV=window.PLOTLYENV || {};                                    if (document.getElementById(\"5ec62ea9-359a-4053-a4b7-7b072f40309c\")) {                    Plotly.newPlot(                        \"5ec62ea9-359a-4053-a4b7-7b072f40309c\",                        [{\"autobinx\": false, \"histnorm\": \"probability density\", \"legendgroup\": \"nba_20_copy\", \"marker\": {\"color\": \"rgb(31, 119, 180)\"}, \"name\": \"nba_20_copy\", \"opacity\": 0.7, \"type\": \"histogram\", \"x\": [24.44, 27.23, 23.24, 22.48, 26.9, 25.85, 36.37, 23.24, 32.92, 36.29, 24.72, 20.33, 32.25, 28.04, 30.84, 20.9, 27.75, 22.67, 24.35, 27.83, 23.97, 25.67, 27.91, 29.23, 26.7, 31.08, 25.06, 27.65, 34.21, 26.62, 24.89, 25.9, 28.35, 23.22, 26.7, 23.32, 33.0, 27.76, 27.56, 23.05, 29.83, 29.81, 30.27, 30.14, 29.24, 27.59, 23.41, 22.2, 23.7, 21.62, 21.48, 23.96, 34.44, 35.26, 22.59, 26.58, 30.28, 24.84, 22.41, 27.44, 27.95, 26.6, 22.37, 23.55, 32.18, 35.7, 30.45, 22.25, 28.29, 31.8, 26.59, 33.31, 30.31, 27.22, 34.12, 23.18, 28.57, 31.13, 26.71, 26.08, 29.1, 28.24, 30.56, 20.73, 25.63, 34.44, 29.57, 21.54, 24.03, 31.52, 25.77, 34.36, 19.88, 27.35, 34.84, 31.07, 36.7, 33.41, 33.03, 25.81, 25.54, 30.49, 35.78, 24.47, 24.81, 24.37, 28.43, 25.64, 23.66, 28.39, 27.04, 28.7, 23.22, 39.57, 22.68, 25.22, 20.97, 24.81, 29.29, 28.62, 26.13, 30.24, 32.53, 32.53, 34.55, 25.43, 23.98, 32.16, 24.31, 26.53, 34.0, 29.06, 28.55, 28.77, 32.73, 29.21, 27.67, 29.17, 27.6, 35.67, 24.04, 24.09, 23.49, 31.11, 31.11, 25.29, 24.6, 23.63, 21.43, 29.28, 27.05, 28.4, 27.32, 35.63, 26.51, 25.19, 26.14, 25.85, 28.44, 29.48, 27.35, 23.19, 30.55, 31.58, 35.44, 27.69, 30.61, 26.96, 22.29, 25.2, 27.38, 23.36, 27.07, 28.2, 28.86, 26.47, 34.64, 29.68, 27.56, 27.07, 32.24, 23.58, 26.53, 21.35, 26.6, 35.09, 24.78, 22.61, 34.43, 28.52, 32.47, 26.19, 23.61, 21.73, 35.44, 23.05, 24.55, 26.63, 24.33, 25.13, 29.97, 28.84, 30.43, 31.22, 27.1, 22.75, 25.78, 31.91, 31.33, 22.99, 26.07, 21.87, 33.96, 34.32, 28.46, 23.57], \"xaxis\": \"x\", \"xbins\": {\"end\": 39.57, \"size\": 1.0, \"start\": 19.88}, \"yaxis\": \"y\"}, {\"legendgroup\": \"nba_20_copy\", \"marker\": {\"color\": \"rgb(31, 119, 180)\"}, \"mode\": \"lines\", \"name\": \"nba_20_copy\", \"showlegend\": false, \"type\": \"scatter\", \"x\": [19.88, 19.91938, 19.958759999999998, 19.99814, 20.03752, 20.0769, 20.11628, 20.155659999999997, 20.19504, 20.23442, 20.273799999999998, 20.31318, 20.35256, 20.391939999999998, 20.43132, 20.4707, 20.51008, 20.54946, 20.588839999999998, 20.62822, 20.6676, 20.706979999999998, 20.74636, 20.78574, 20.82512, 20.8645, 20.90388, 20.94326, 20.98264, 21.022019999999998, 21.0614, 21.10078, 21.140159999999998, 21.17954, 21.21892, 21.2583, 21.29768, 21.33706, 21.37644, 21.41582, 21.455199999999998, 21.49458, 21.53396, 21.573339999999998, 21.61272, 21.6521, 21.69148, 21.73086, 21.770239999999998, 21.80962, 21.849, 21.888379999999998, 21.92776, 21.96714, 22.00652, 22.0459, 22.085279999999997, 22.12466, 22.16404, 22.203419999999998, 22.2428, 22.28218, 22.321559999999998, 22.36094, 22.40032, 22.4397, 22.47908, 22.518459999999997, 22.55784, 22.59722, 22.636599999999998, 22.67598, 22.71536, 22.754739999999998, 22.79412, 22.8335, 22.87288, 22.91226, 22.951639999999998, 22.99102, 23.0304, 23.069779999999998, 23.10916, 23.14854, 23.18792, 23.2273, 23.26668, 23.30606, 23.34544, 23.384819999999998, 23.4242, 23.46358, 23.502959999999998, 23.54234, 23.58172, 23.6211, 23.66048, 23.69986, 23.73924, 23.77862, 23.817999999999998, 23.85738, 23.89676, 23.936139999999998, 23.97552, 24.0149, 24.05428, 24.09366, 24.13304, 24.17242, 24.2118, 24.251179999999998, 24.29056, 24.32994, 24.36932, 24.4087, 24.448079999999997, 24.48746, 24.52684, 24.56622, 24.6056, 24.64498, 24.684359999999998, 24.72374, 24.76312, 24.8025, 24.84188, 24.881259999999997, 24.92064, 24.96002, 24.9994, 25.03878, 25.07816, 25.117539999999998, 25.15692, 25.1963, 25.23568, 25.27506, 25.314439999999998, 25.35382, 25.3932, 25.432579999999998, 25.47196, 25.511339999999997, 25.55072, 25.5901, 25.62948, 25.66886, 25.70824, 25.747619999999998, 25.787, 25.82638, 25.865759999999998, 25.90514, 25.94452, 25.9839, 26.02328, 26.06266, 26.10204, 26.14142, 26.180799999999998, 26.22018, 26.25956, 26.298939999999998, 26.33832, 26.3777, 26.41708, 26.45646, 26.49584, 26.53522, 26.5746, 26.613979999999998, 26.65336, 26.69274, 26.732120000000002, 26.7715, 26.810879999999997, 26.85026, 26.88964, 26.92902, 26.9684, 27.00778, 27.047159999999998, 27.08654, 27.12592, 27.1653, 27.20468, 27.244059999999998, 27.28344, 27.32282, 27.3622, 27.40158, 27.44096, 27.480339999999998, 27.51972, 27.5591, 27.59848, 27.63786, 27.677239999999998, 27.71662, 27.756, 27.795379999999998, 27.83476, 27.87414, 27.91352, 27.9529, 27.99228, 28.031660000000002, 28.07104, 28.110419999999998, 28.1498, 28.18918, 28.22856, 28.26794, 28.307319999999997, 28.3467, 28.38608, 28.42546, 28.46484, 28.50422, 28.543599999999998, 28.58298, 28.62236, 28.661739999999998, 28.70112, 28.740499999999997, 28.77988, 28.81926, 28.85864, 28.89802, 28.9374, 28.976779999999998, 29.01616, 29.05554, 29.09492, 29.1343, 29.173679999999997, 29.21306, 29.25244, 29.29182, 29.3312, 29.370579999999997, 29.409959999999998, 29.44934, 29.48872, 29.528100000000002, 29.56748, 29.606859999999998, 29.64624, 29.68562, 29.725, 29.76438, 29.803759999999997, 29.84314, 29.88252, 29.9219, 29.961280000000002, 30.000659999999996, 30.040039999999998, 30.07942, 30.1188, 30.15818, 30.197560000000003, 30.236939999999997, 30.27632, 30.3157, 30.35508, 30.394460000000002, 30.43384, 30.473219999999998, 30.5126, 30.55198, 30.59136, 30.630740000000003, 30.670119999999997, 30.7095, 30.74888, 30.78826, 30.827640000000002, 30.86702, 30.906399999999998, 30.94578, 30.98516, 31.024540000000002, 31.06392, 31.1033, 31.14268, 31.18206, 31.22144, 31.260820000000002, 31.3002, 31.339579999999998, 31.37896, 31.41834, 31.457720000000002, 31.4971, 31.53648, 31.57586, 31.61524, 31.65462, 31.694, 31.73338, 31.772759999999998, 31.81214, 31.85152, 31.890900000000002, 31.93028, 31.96966, 32.00904, 32.04842, 32.0878, 32.127179999999996, 32.166560000000004, 32.20594, 32.24532, 32.2847, 32.324079999999995, 32.36346, 32.40284, 32.44222, 32.4816, 32.52098, 32.56036, 32.59974, 32.63912, 32.6785, 32.71788, 32.75726, 32.79664, 32.83602, 32.8754, 32.91478, 32.95416, 32.993539999999996, 33.03292, 33.0723, 33.11168, 33.15106, 33.190439999999995, 33.229820000000004, 33.2692, 33.30858, 33.34796, 33.38734, 33.42672, 33.4661, 33.50548, 33.54486, 33.58424, 33.62362, 33.663, 33.70238, 33.74176, 33.78114, 33.82052, 33.859899999999996, 33.89928, 33.93866, 33.97804, 34.01742, 34.0568, 34.09618, 34.13556, 34.17494, 34.21432, 34.2537, 34.29308, 34.33246, 34.37184, 34.41122, 34.4506, 34.48998, 34.52936, 34.56874, 34.60812, 34.6475, 34.68688, 34.726259999999996, 34.76564, 34.80502, 34.8444, 34.88378, 34.92316, 34.962540000000004, 35.00192, 35.0413, 35.08068, 35.12006, 35.159440000000004, 35.19882, 35.2382, 35.27758, 35.31696, 35.35634, 35.39572, 35.4351, 35.47448, 35.51386, 35.55324, 35.59262, 35.632000000000005, 35.67138, 35.71076, 35.75014, 35.789519999999996, 35.828900000000004, 35.86828, 35.90766, 35.94704, 35.98642, 36.025800000000004, 36.06518, 36.10456, 36.14394, 36.18332, 36.2227, 36.26208, 36.301460000000006, 36.34084, 36.38022, 36.4196, 36.45898, 36.49836, 36.53774, 36.57712, 36.6165, 36.655879999999996, 36.695260000000005, 36.73464, 36.77402, 36.8134, 36.85278, 36.892160000000004, 36.93154, 36.97092, 37.0103, 37.049679999999995, 37.08906, 37.12844, 37.16782, 37.2072, 37.24658, 37.28596, 37.32534, 37.364720000000005, 37.4041, 37.443479999999994, 37.48286, 37.52224, 37.561620000000005, 37.601, 37.64038, 37.67976, 37.719139999999996, 37.758520000000004, 37.7979, 37.83728, 37.87666, 37.916039999999995, 37.955420000000004, 37.9948, 38.03418, 38.07356, 38.11294, 38.15232, 38.1917, 38.231080000000006, 38.27046, 38.309839999999994, 38.34922, 38.3886, 38.42798, 38.46736, 38.50674, 38.54612, 38.585499999999996, 38.624880000000005, 38.66426, 38.70364, 38.74302, 38.782399999999996, 38.821780000000004, 38.86116, 38.90054, 38.93992, 38.9793, 39.01868, 39.05806, 39.097440000000006, 39.13682, 39.1762, 39.21558, 39.25496, 39.29434, 39.33372, 39.3731, 39.41248, 39.451859999999996, 39.491240000000005, 39.53062], \"xaxis\": \"x\", \"y\": [0.014057668591449815, 0.014522388993221714, 0.014996741474993669, 0.015480726350850512, 0.015974337144923797, 0.016477560444245542, 0.016990375748788873, 0.017512755318507277, 0.018044664017241217, 0.018586059153422558, 0.019136890317579158, 0.019697099216718354, 0.020266619505748453, 0.02084537661618888, 0.021433287582509838, 0.022030260866541005, 0.022636196180492233, 0.023250984309230366, 0.023874506932567086, 0.024506636448419654, 0.025147235797815182, 0.02579615829282109, 0.0264532474485885, 0.02711833682080285, 0.02779124984993903, 0.028471799713812473, 0.029159789190012653, 0.029855010529888166, 0.030557245345831492, 0.03126626451367673, 0.03198182809208443, 0.03270368526083146, 0.03343157427996037, 0.034165222471762444, 0.03490434622757554, 0.03564865104137114, 0.03639783157208181, 0.03715157173657791, 0.03790954483515063, 0.03867141371128168, 0.03943683094738996, 0.04020543909813981, 0.040976870962766254, 0.04175074989773374, 0.042526690170882946, 0.04330429735804444, 0.04408316878290867, 0.04486289400073052, 0.04564305532623012, 0.04642322840581583, 0.047202982834008624, 0.0479818828136933, 0.048759487859555896, 0.04953535354379281, 0.050309032282902386, 0.05108007416408621, 0.05184802780950177, 0.05261244127633107, 0.053372862990339595, 0.05412884271033179, 0.05487993252063259, 0.05562568784846362, 0.05636566850283204, 0.0570994397313116, 0.057826573290865435, 0.05854664852865958, 0.0592592534686214, 0.05996398589932664, 0.060660454458657996, 0.06134827971054308, 0.06202709520899022, 0.06269654854455978, 0.0633563023683637, 0.06400603538866906, 0.0646454433351868, 0.065274239886168, 0.06589215755349664, 0.06649894852106433, 0.06709438543183854, 0.06767826211919048, 0.0682503942782305, 0.06881062007311187, 0.06935880067649602, 0.06989482073763773, 0.07041858877583278, 0.07093003749627799, 0.07142912402572424, 0.07191583006564699, 0.07239016196102732, 0.07285215068321017, 0.07330185172570393, 0.07373934491217983, 0.0741647341163466, 0.07457814689378296, 0.07497973402623438, 0.0753696689792951, 0.07574814727481304, 0.07611538577976715, 0.07647162191377278, 0.07681711277776289, 0.07715213420678003, 0.07747697975018376, 0.07779195958293007, 0.07809739935192028, 0.07839363896173056, 0.07868103130432945, 0.07895994093766645, 0.07923074271825818, 0.07949382039312548, 0.07974956515662968, 0.07999837417792385, 0.08024064910487645, 0.08047679455043419, 0.0807072165674755, 0.08093232111825543, 0.08115251254456832, 0.08136819204474466, 0.08157975616356815, 0.0817875953011277, 0.08199209224653224, 0.08219362074229458, 0.0823925440850416, 0.0825892137680412, 0.08278396817083598, 0.08297713130105626, 0.08316901159324483, 0.08335990076926343, 0.08355007276456963, 0.08373978272436124, 0.08392926607326281, 0.08411873766191345, 0.08430839099346724, 0.08449839753267235, 0.08468890609983845, 0.0848800423516328, 0.08507190835028065, 0.08526458222236957, 0.08545811790808448, 0.08565254500132363, 0.0858478686807787, 0.08604406973168745, 0.08624110465760812, 0.08643890588120917, 0.08663738203271479, 0.08683641832431575, 0.08703587700852095, 0.08723559791811679, 0.0874353990850962, 0.08763507743563559, 0.08783440955792683, 0.08803315253942019, 0.08823104486979569, 0.08842780740576654, 0.0886231443936184, 0.0888167445452126, 0.08900828216301991, 0.08919741830961893, 0.0893838020169727, 0.08956707153070441, 0.08974685558451842, 0.08992277469985611, 0.09009444250584911, 0.09026146707461565, 0.0904234522669564, 0.09057999908353273, 0.09073070701665882, 0.09087517539790549, 0.0910130047367935, 0.09114379804596164, 0.09126716214830656, 0.09138270896172787, 0.09149005675725728, 0.09158883138651482, 0.09167866747460453, 0.09175920957475246, 0.09183011328117932, 0.09189104629691287, 0.09194168945344924, 0.09198173767940054, 0.09201090091548836, 0.09202890497347334, 0.09203549233684892, 0.09203042290136187, 0.09201347465366388, 0.09198444428663716, 0.0919431477501777, 0.09188942073645856, 0.09182311909893202, 0.09174411920456416, 0.09165231821902689, 0.09154763432479604, 0.09143000687233094, 0.09129939646472256, 0.09115578497641169, 0.0909991755067813, 0.09082959226962545, 0.09064708041968972, 0.09045170581766013, 0.09024355473515296, 0.09002273350143086, 0.08978936809372699, 0.08954360367321308, 0.08928560406879439, 0.08901555121104776, 0.08873364451874997, 0.08844010024056315, 0.08813515075455434, 0.08781904382833348, 0.08749204184268451, 0.08715442098165456, 0.08680647039214254, 0.08644849131609805, 0.0860807961985025, 0.08570370777435554, 0.0853175581379324, 0.08492268779761403, 0.0845194447196111, 0.08410818336392288, 0.08368926371587461, 0.08326305031657152, 0.0828299112955962, 0.08239021740924563, 0.08194434108757558, 0.08149265549346633, 0.08103553359687392, 0.08057334726735839, 0.08010646638790361, 0.07963525799295403, 0.07916008543349203, 0.07868130757186696, 0.07819927800896662, 0.07771434434618599, 0.07722684748450558, 0.07673712096283701, 0.07624549033762996, 0.0757522726055604, 0.07525777567094025, 0.07476229785929472, 0.07426612747836063, 0.07376954242755086, 0.07327280985672165, 0.07277618587486542, 0.07227991530913179, 0.07178423151435746, 0.07128935623306623, 0.07079549950567125, 0.07030285963039354, 0.06981162317218807, 0.06932196501975076, 0.06883404848946756, 0.06834802547495804, 0.06786403664066762, 0.06738221165776768, 0.06690266948044131, 0.0664255186604604, 0.06595085769779623, 0.06547877542486025, 0.06500935142183294, 0.06454265646042102, 0.06407875297327292, 0.06361769554619454, 0.06315953143022943, 0.06270430107061062, 0.06225203864954701, 0.06180277263978046, 0.06135652636584327, 0.060913318569946515, 0.060473163979458705, 0.060036073872966236, 0.059602056641966085, 0.05917111834530387, 0.0587432632535572, 0.05831849438065297, 0.057896814000121026, 0.057478224143499, 0.05706272707853402, 0.056650325764965634, 0.05624102428581709, 0.05583482825227698, 0.05543174518041198, 0.055031784838112635, 0.05463495956084445, 0.054241284534943306, 0.05385077804736851, 0.053463461700994905, 0.05307936059470308, 0.05269850346769058, 0.05232092280760147, 0.05194665492223364, 0.051575739974747584, 0.05120822198245971, 0.050844148779455124, 0.05048357194340666, 0.050126546687130596, 0.04977313171554727, 0.04942338904884955, 0.04907738381280889, 0.0487351839972711, 0.048396860184008475, 0.048062485245207405, 0.04773213401397312, 0.04740588292833317, 0.04708380965031494, 0.046765992661759195, 0.04645251083861792, 0.04614344300555823, 0.04583886747277113, 0.045538861556949965, 0.045243501088468016, 0.044952859906842065, 0.04466700934662407, 0.04438601771591246, 0.04410994976971648, 0.04383886618045082, 0.04357282300786627, 0.043311871170755835, 0.04305605592279572, 0.04280541633489759, 0.04255998478646072, 0.04231978646791331, 0.042084838896932014, 0.04185515145071382, 0.04163072491665739, 0.04141155106378197, 0.04119761223717479, 0.04098888097771129, 0.0407853196692373, 0.0405868802153332, 0.04039350374770713, 0.040205120368172344, 0.04002164892606988, 0.03984299683288427, 0.03966905991568305, 0.03949972231087874, 0.03933485639966943, 0.039174322786365054, 0.039017970320640555, 0.03886563616459096, 0.03871714590527908, 0.03857231371328131, 0.03843094254754132, 0.0382928244066388, 0.03815774062637575, 0.03802546222336925, 0.037895750284128005, 0.03776835639887286, 0.03764302313914513, 0.037519484578032, 0.03739746685162346, 0.0372766887601079, 0.037156862406705876, 0.03703769387244605, 0.036918883924594796, 0.03680012875637073, 0.03668112075540323, 0.03656154929823547, 0.03644110156802513, 0.03631946339246287, 0.03619632009881069, 0.03607135738285879, 0.0359442621885145, 0.03581472359466574, 0.035682433705910524, 0.03554708854370984, 0.03540838893450407, 0.035266041391335524, 0.03511975898553989, 0.03496926220510631, 0.03481427979636155, 0.03465454958570585, 0.03448981927821694, 0.03431984723004289, 0.034144403191625296, 0.03396326901892585, 0.033776239349978913, 0.03358312224424982, 0.03338373978244869, 0.033177928624630336, 0.0329655405245979, 0.03274644279882447, 0.03252051874830709, 0.03228766803197506, 0.03204780699048398, 0.031800868919437925, 0.031546804291295846, 0.031285580925430295, 0.031017184106018638, 0.030741616647653017, 0.03045889890876311, 0.03016906875314406, 0.02987218146007675, 0.029568309583717787, 0.02925754276261426, 0.028939987480376114, 0.028615766778699835, 0.02828501992409601, 0.02794790202981931, 0.027604583634634812, 0.02725525024018451, 0.0269001018088316, 0.026539352223968093, 0.02617322871486915, 0.025801971248256998, 0.025425831888822383, 0.025045074131006317, 0.024659972204408014, 0.024270810355226484, 0.023877882106178583, 0.023481489497366143, 0.023081942310578214, 0.022679557279526655, 0.022274657288511544, 0.021867570562007433, 0.02145862984764491, 0.021048171595040247, 0.020636535132897777, 0.02022406184677245, 0.01981109435983928, 0.01939797571897032, 0.018985048588362533, 0.018572654452908247, 0.018161132833430755, 0.01775082051584549, 0.017342050796232078, 0.016935152743729524, 0.01653045048308653, 0.016128262498617242, 0.015728900961226453, 0.015332671080082193, 0.014939870480417903, 0.014550788608859068, 0.014165706167568591, 0.013784894578409947, 0.013408615478227163, 0.01303712024623967, 0.012670649564448818, 0.012309433011847082, 0.011953688693118589, 0.011603622902415525, 0.011259429822684833, 0.010921291260920587, 0.010589376419605149, 0.010263841704501063, 0.009944830568848477, 0.009632473393918423, 0.009326887405770716, 0.00902817662795869, 0.008736431869827706, 0.008451730749950379, 0.008174137754145532, 0.007903704327435899, 0.007640468999200266, 0.007384457540694194, 0.007135683154018658, 0.006894146691537843, 0.006659836904664369, 0.006432730720853415, 0.006212793547577034, 0.005999979601978137, 0.005794232264841789, 0.005595484457461896, 0.005403659039924266, 0.005218669229280666, 0.005040419036040378, 0.004868803717368858, 0.004703710245347297, 0.004545017788619085, 0.004392598205726819, 0.00424631654842441, 0.004106031573239623, 0.003971596259555592, 0.0038428583324795853, 0.0037196607887750124, 0.003601842424143208, 0.003489238360159889, 0.0033816805691948464, 0.0032789983956723564, 0.0031810190720652338, 0.003087568228054705, 0.0029984703913353487, 0.002913549478593987, 0.002832629275247695, 0.0027555339025869554, 0.0026820882710341994, 0.0026121185182986792, 0.0025454524312805743, 0.002481919850655558, 0.0024213530571509565, 0.0023635871386083196, 0.0023084603370139302, 0.0022558143747668487, 0.002205494759545675, 0.002157351067226702, 0.00211123720240017, 0.002067011636125693, 0.002024537620662235, 0.0019836833810031175, 0.0019443222831406004, 0.0019063329790777264, 0.0018695995286976013], \"yaxis\": \"y\"}, {\"legendgroup\": \"nba_20_copy\", \"marker\": {\"color\": \"rgb(31, 119, 180)\", \"symbol\": \"line-ns-open\"}, \"mode\": \"markers\", \"name\": \"nba_20_copy\", \"showlegend\": false, \"type\": \"scatter\", \"x\": [24.44, 27.23, 23.24, 22.48, 26.9, 25.85, 36.37, 23.24, 32.92, 36.29, 24.72, 20.33, 32.25, 28.04, 30.84, 20.9, 27.75, 22.67, 24.35, 27.83, 23.97, 25.67, 27.91, 29.23, 26.7, 31.08, 25.06, 27.65, 34.21, 26.62, 24.89, 25.9, 28.35, 23.22, 26.7, 23.32, 33.0, 27.76, 27.56, 23.05, 29.83, 29.81, 30.27, 30.14, 29.24, 27.59, 23.41, 22.2, 23.7, 21.62, 21.48, 23.96, 34.44, 35.26, 22.59, 26.58, 30.28, 24.84, 22.41, 27.44, 27.95, 26.6, 22.37, 23.55, 32.18, 35.7, 30.45, 22.25, 28.29, 31.8, 26.59, 33.31, 30.31, 27.22, 34.12, 23.18, 28.57, 31.13, 26.71, 26.08, 29.1, 28.24, 30.56, 20.73, 25.63, 34.44, 29.57, 21.54, 24.03, 31.52, 25.77, 34.36, 19.88, 27.35, 34.84, 31.07, 36.7, 33.41, 33.03, 25.81, 25.54, 30.49, 35.78, 24.47, 24.81, 24.37, 28.43, 25.64, 23.66, 28.39, 27.04, 28.7, 23.22, 39.57, 22.68, 25.22, 20.97, 24.81, 29.29, 28.62, 26.13, 30.24, 32.53, 32.53, 34.55, 25.43, 23.98, 32.16, 24.31, 26.53, 34.0, 29.06, 28.55, 28.77, 32.73, 29.21, 27.67, 29.17, 27.6, 35.67, 24.04, 24.09, 23.49, 31.11, 31.11, 25.29, 24.6, 23.63, 21.43, 29.28, 27.05, 28.4, 27.32, 35.63, 26.51, 25.19, 26.14, 25.85, 28.44, 29.48, 27.35, 23.19, 30.55, 31.58, 35.44, 27.69, 30.61, 26.96, 22.29, 25.2, 27.38, 23.36, 27.07, 28.2, 28.86, 26.47, 34.64, 29.68, 27.56, 27.07, 32.24, 23.58, 26.53, 21.35, 26.6, 35.09, 24.78, 22.61, 34.43, 28.52, 32.47, 26.19, 23.61, 21.73, 35.44, 23.05, 24.55, 26.63, 24.33, 25.13, 29.97, 28.84, 30.43, 31.22, 27.1, 22.75, 25.78, 31.91, 31.33, 22.99, 26.07, 21.87, 33.96, 34.32, 28.46, 23.57], \"xaxis\": \"x\", \"y\": [\"nba_20_copy\", \"nba_20_copy\", \"nba_20_copy\", \"nba_20_copy\", \"nba_20_copy\", \"nba_20_copy\", \"nba_20_copy\", \"nba_20_copy\", \"nba_20_copy\", \"nba_20_copy\", \"nba_20_copy\", \"nba_20_copy\", \"nba_20_copy\", \"nba_20_copy\", \"nba_20_copy\", \"nba_20_copy\", \"nba_20_copy\", \"nba_20_copy\", \"nba_20_copy\", \"nba_20_copy\", \"nba_20_copy\", \"nba_20_copy\", \"nba_20_copy\", \"nba_20_copy\", \"nba_20_copy\", \"nba_20_copy\", \"nba_20_copy\", \"nba_20_copy\", \"nba_20_copy\", \"nba_20_copy\", \"nba_20_copy\", \"nba_20_copy\", \"nba_20_copy\", \"nba_20_copy\", \"nba_20_copy\", \"nba_20_copy\", \"nba_20_copy\", \"nba_20_copy\", \"nba_20_copy\", \"nba_20_copy\", \"nba_20_copy\", \"nba_20_copy\", \"nba_20_copy\", \"nba_20_copy\", \"nba_20_copy\", \"nba_20_copy\", \"nba_20_copy\", \"nba_20_copy\", \"nba_20_copy\", \"nba_20_copy\", \"nba_20_copy\", \"nba_20_copy\", \"nba_20_copy\", \"nba_20_copy\", \"nba_20_copy\", \"nba_20_copy\", \"nba_20_copy\", \"nba_20_copy\", \"nba_20_copy\", \"nba_20_copy\", \"nba_20_copy\", \"nba_20_copy\", \"nba_20_copy\", \"nba_20_copy\", \"nba_20_copy\", \"nba_20_copy\", \"nba_20_copy\", \"nba_20_copy\", \"nba_20_copy\", \"nba_20_copy\", \"nba_20_copy\", \"nba_20_copy\", \"nba_20_copy\", \"nba_20_copy\", \"nba_20_copy\", \"nba_20_copy\", \"nba_20_copy\", \"nba_20_copy\", \"nba_20_copy\", \"nba_20_copy\", \"nba_20_copy\", \"nba_20_copy\", \"nba_20_copy\", \"nba_20_copy\", \"nba_20_copy\", \"nba_20_copy\", \"nba_20_copy\", \"nba_20_copy\", \"nba_20_copy\", \"nba_20_copy\", \"nba_20_copy\", \"nba_20_copy\", \"nba_20_copy\", \"nba_20_copy\", \"nba_20_copy\", \"nba_20_copy\", \"nba_20_copy\", \"nba_20_copy\", \"nba_20_copy\", \"nba_20_copy\", \"nba_20_copy\", \"nba_20_copy\", \"nba_20_copy\", \"nba_20_copy\", \"nba_20_copy\", \"nba_20_copy\", \"nba_20_copy\", \"nba_20_copy\", \"nba_20_copy\", \"nba_20_copy\", \"nba_20_copy\", \"nba_20_copy\", \"nba_20_copy\", \"nba_20_copy\", \"nba_20_copy\", \"nba_20_copy\", \"nba_20_copy\", \"nba_20_copy\", \"nba_20_copy\", \"nba_20_copy\", \"nba_20_copy\", \"nba_20_copy\", \"nba_20_copy\", \"nba_20_copy\", \"nba_20_copy\", \"nba_20_copy\", \"nba_20_copy\", \"nba_20_copy\", \"nba_20_copy\", \"nba_20_copy\", \"nba_20_copy\", \"nba_20_copy\", \"nba_20_copy\", \"nba_20_copy\", \"nba_20_copy\", \"nba_20_copy\", \"nba_20_copy\", \"nba_20_copy\", \"nba_20_copy\", \"nba_20_copy\", \"nba_20_copy\", \"nba_20_copy\", \"nba_20_copy\", \"nba_20_copy\", \"nba_20_copy\", \"nba_20_copy\", \"nba_20_copy\", \"nba_20_copy\", \"nba_20_copy\", \"nba_20_copy\", \"nba_20_copy\", \"nba_20_copy\", \"nba_20_copy\", \"nba_20_copy\", \"nba_20_copy\", \"nba_20_copy\", \"nba_20_copy\", \"nba_20_copy\", \"nba_20_copy\", \"nba_20_copy\", \"nba_20_copy\", \"nba_20_copy\", \"nba_20_copy\", \"nba_20_copy\", \"nba_20_copy\", \"nba_20_copy\", \"nba_20_copy\", \"nba_20_copy\", \"nba_20_copy\", \"nba_20_copy\", \"nba_20_copy\", \"nba_20_copy\", \"nba_20_copy\", \"nba_20_copy\", \"nba_20_copy\", \"nba_20_copy\", \"nba_20_copy\", \"nba_20_copy\", \"nba_20_copy\", \"nba_20_copy\", \"nba_20_copy\", \"nba_20_copy\", \"nba_20_copy\", \"nba_20_copy\", \"nba_20_copy\", \"nba_20_copy\", \"nba_20_copy\", \"nba_20_copy\", \"nba_20_copy\", \"nba_20_copy\", \"nba_20_copy\", \"nba_20_copy\", \"nba_20_copy\", \"nba_20_copy\", \"nba_20_copy\", \"nba_20_copy\", \"nba_20_copy\", \"nba_20_copy\", \"nba_20_copy\", \"nba_20_copy\", \"nba_20_copy\", \"nba_20_copy\", \"nba_20_copy\", \"nba_20_copy\", \"nba_20_copy\", \"nba_20_copy\", \"nba_20_copy\", \"nba_20_copy\", \"nba_20_copy\", \"nba_20_copy\", \"nba_20_copy\", \"nba_20_copy\", \"nba_20_copy\", \"nba_20_copy\", \"nba_20_copy\", \"nba_20_copy\"], \"yaxis\": \"y2\"}],                        {\"barmode\": \"overlay\", \"hovermode\": \"closest\", \"legend\": {\"traceorder\": \"reversed\"}, \"template\": {\"data\": {\"bar\": [{\"error_x\": {\"color\": \"#2a3f5f\"}, \"error_y\": {\"color\": \"#2a3f5f\"}, \"marker\": {\"line\": {\"color\": \"#E5ECF6\", \"width\": 0.5}}, \"type\": \"bar\"}], \"barpolar\": [{\"marker\": {\"line\": {\"color\": \"#E5ECF6\", \"width\": 0.5}}, \"type\": \"barpolar\"}], \"carpet\": [{\"aaxis\": {\"endlinecolor\": \"#2a3f5f\", \"gridcolor\": \"white\", \"linecolor\": \"white\", \"minorgridcolor\": \"white\", \"startlinecolor\": \"#2a3f5f\"}, \"baxis\": {\"endlinecolor\": \"#2a3f5f\", \"gridcolor\": \"white\", \"linecolor\": \"white\", \"minorgridcolor\": \"white\", \"startlinecolor\": \"#2a3f5f\"}, \"type\": \"carpet\"}], \"choropleth\": [{\"colorbar\": {\"outlinewidth\": 0, \"ticks\": \"\"}, \"type\": \"choropleth\"}], \"contour\": [{\"colorbar\": {\"outlinewidth\": 0, \"ticks\": \"\"}, \"colorscale\": [[0.0, \"#0d0887\"], [0.1111111111111111, \"#46039f\"], [0.2222222222222222, \"#7201a8\"], [0.3333333333333333, \"#9c179e\"], [0.4444444444444444, \"#bd3786\"], [0.5555555555555556, \"#d8576b\"], [0.6666666666666666, \"#ed7953\"], [0.7777777777777778, \"#fb9f3a\"], [0.8888888888888888, \"#fdca26\"], [1.0, \"#f0f921\"]], \"type\": \"contour\"}], \"contourcarpet\": [{\"colorbar\": {\"outlinewidth\": 0, \"ticks\": \"\"}, \"type\": \"contourcarpet\"}], \"heatmap\": [{\"colorbar\": {\"outlinewidth\": 0, \"ticks\": \"\"}, \"colorscale\": [[0.0, \"#0d0887\"], [0.1111111111111111, \"#46039f\"], [0.2222222222222222, \"#7201a8\"], [0.3333333333333333, \"#9c179e\"], [0.4444444444444444, \"#bd3786\"], [0.5555555555555556, \"#d8576b\"], [0.6666666666666666, \"#ed7953\"], [0.7777777777777778, \"#fb9f3a\"], [0.8888888888888888, \"#fdca26\"], [1.0, \"#f0f921\"]], \"type\": \"heatmap\"}], \"heatmapgl\": [{\"colorbar\": {\"outlinewidth\": 0, \"ticks\": \"\"}, \"colorscale\": [[0.0, \"#0d0887\"], [0.1111111111111111, \"#46039f\"], [0.2222222222222222, \"#7201a8\"], [0.3333333333333333, \"#9c179e\"], [0.4444444444444444, \"#bd3786\"], [0.5555555555555556, \"#d8576b\"], [0.6666666666666666, \"#ed7953\"], [0.7777777777777778, \"#fb9f3a\"], [0.8888888888888888, \"#fdca26\"], [1.0, \"#f0f921\"]], \"type\": \"heatmapgl\"}], \"histogram\": [{\"marker\": {\"colorbar\": {\"outlinewidth\": 0, \"ticks\": \"\"}}, \"type\": \"histogram\"}], \"histogram2d\": [{\"colorbar\": {\"outlinewidth\": 0, \"ticks\": \"\"}, \"colorscale\": [[0.0, \"#0d0887\"], [0.1111111111111111, \"#46039f\"], [0.2222222222222222, \"#7201a8\"], [0.3333333333333333, \"#9c179e\"], [0.4444444444444444, \"#bd3786\"], [0.5555555555555556, \"#d8576b\"], [0.6666666666666666, \"#ed7953\"], [0.7777777777777778, \"#fb9f3a\"], [0.8888888888888888, \"#fdca26\"], [1.0, \"#f0f921\"]], \"type\": \"histogram2d\"}], \"histogram2dcontour\": [{\"colorbar\": {\"outlinewidth\": 0, \"ticks\": \"\"}, \"colorscale\": [[0.0, \"#0d0887\"], [0.1111111111111111, \"#46039f\"], [0.2222222222222222, \"#7201a8\"], [0.3333333333333333, \"#9c179e\"], [0.4444444444444444, \"#bd3786\"], [0.5555555555555556, \"#d8576b\"], [0.6666666666666666, \"#ed7953\"], [0.7777777777777778, \"#fb9f3a\"], [0.8888888888888888, \"#fdca26\"], [1.0, \"#f0f921\"]], \"type\": \"histogram2dcontour\"}], \"mesh3d\": [{\"colorbar\": {\"outlinewidth\": 0, \"ticks\": \"\"}, \"type\": \"mesh3d\"}], \"parcoords\": [{\"line\": {\"colorbar\": {\"outlinewidth\": 0, \"ticks\": \"\"}}, \"type\": \"parcoords\"}], \"pie\": [{\"automargin\": true, \"type\": \"pie\"}], \"scatter\": [{\"marker\": {\"colorbar\": {\"outlinewidth\": 0, \"ticks\": \"\"}}, \"type\": \"scatter\"}], \"scatter3d\": [{\"line\": {\"colorbar\": {\"outlinewidth\": 0, \"ticks\": \"\"}}, \"marker\": {\"colorbar\": {\"outlinewidth\": 0, \"ticks\": \"\"}}, \"type\": \"scatter3d\"}], \"scattercarpet\": [{\"marker\": {\"colorbar\": {\"outlinewidth\": 0, \"ticks\": \"\"}}, \"type\": \"scattercarpet\"}], \"scattergeo\": [{\"marker\": {\"colorbar\": {\"outlinewidth\": 0, \"ticks\": \"\"}}, \"type\": \"scattergeo\"}], \"scattergl\": [{\"marker\": {\"colorbar\": {\"outlinewidth\": 0, \"ticks\": \"\"}}, \"type\": \"scattergl\"}], \"scattermapbox\": [{\"marker\": {\"colorbar\": {\"outlinewidth\": 0, \"ticks\": \"\"}}, \"type\": \"scattermapbox\"}], \"scatterpolar\": [{\"marker\": {\"colorbar\": {\"outlinewidth\": 0, \"ticks\": \"\"}}, \"type\": \"scatterpolar\"}], \"scatterpolargl\": [{\"marker\": {\"colorbar\": {\"outlinewidth\": 0, \"ticks\": \"\"}}, \"type\": \"scatterpolargl\"}], \"scatterternary\": [{\"marker\": {\"colorbar\": {\"outlinewidth\": 0, \"ticks\": \"\"}}, \"type\": \"scatterternary\"}], \"surface\": [{\"colorbar\": {\"outlinewidth\": 0, \"ticks\": \"\"}, \"colorscale\": [[0.0, \"#0d0887\"], [0.1111111111111111, \"#46039f\"], [0.2222222222222222, \"#7201a8\"], [0.3333333333333333, \"#9c179e\"], [0.4444444444444444, \"#bd3786\"], [0.5555555555555556, \"#d8576b\"], [0.6666666666666666, \"#ed7953\"], [0.7777777777777778, \"#fb9f3a\"], [0.8888888888888888, \"#fdca26\"], [1.0, \"#f0f921\"]], \"type\": \"surface\"}], \"table\": [{\"cells\": {\"fill\": {\"color\": \"#EBF0F8\"}, \"line\": {\"color\": \"white\"}}, \"header\": {\"fill\": {\"color\": \"#C8D4E3\"}, \"line\": {\"color\": \"white\"}}, \"type\": \"table\"}]}, \"layout\": {\"annotationdefaults\": {\"arrowcolor\": \"#2a3f5f\", \"arrowhead\": 0, \"arrowwidth\": 1}, \"autotypenumbers\": \"strict\", \"coloraxis\": {\"colorbar\": {\"outlinewidth\": 0, \"ticks\": \"\"}}, \"colorscale\": {\"diverging\": [[0, \"#8e0152\"], [0.1, \"#c51b7d\"], [0.2, \"#de77ae\"], [0.3, \"#f1b6da\"], [0.4, \"#fde0ef\"], [0.5, \"#f7f7f7\"], [0.6, \"#e6f5d0\"], [0.7, \"#b8e186\"], [0.8, \"#7fbc41\"], [0.9, \"#4d9221\"], [1, \"#276419\"]], \"sequential\": [[0.0, \"#0d0887\"], [0.1111111111111111, \"#46039f\"], [0.2222222222222222, \"#7201a8\"], [0.3333333333333333, \"#9c179e\"], [0.4444444444444444, \"#bd3786\"], [0.5555555555555556, \"#d8576b\"], [0.6666666666666666, \"#ed7953\"], [0.7777777777777778, \"#fb9f3a\"], [0.8888888888888888, \"#fdca26\"], [1.0, \"#f0f921\"]], \"sequentialminus\": [[0.0, \"#0d0887\"], [0.1111111111111111, \"#46039f\"], [0.2222222222222222, \"#7201a8\"], [0.3333333333333333, \"#9c179e\"], [0.4444444444444444, \"#bd3786\"], [0.5555555555555556, \"#d8576b\"], [0.6666666666666666, \"#ed7953\"], [0.7777777777777778, \"#fb9f3a\"], [0.8888888888888888, \"#fdca26\"], [1.0, \"#f0f921\"]]}, \"colorway\": [\"#636efa\", \"#EF553B\", \"#00cc96\", \"#ab63fa\", \"#FFA15A\", \"#19d3f3\", \"#FF6692\", \"#B6E880\", \"#FF97FF\", \"#FECB52\"], \"font\": {\"color\": \"#2a3f5f\"}, \"geo\": {\"bgcolor\": \"white\", \"lakecolor\": \"white\", \"landcolor\": \"#E5ECF6\", \"showlakes\": true, \"showland\": true, \"subunitcolor\": \"white\"}, \"hoverlabel\": {\"align\": \"left\"}, \"hovermode\": \"closest\", \"mapbox\": {\"style\": \"light\"}, \"paper_bgcolor\": \"white\", \"plot_bgcolor\": \"#E5ECF6\", \"polar\": {\"angularaxis\": {\"gridcolor\": \"white\", \"linecolor\": \"white\", \"ticks\": \"\"}, \"bgcolor\": \"#E5ECF6\", \"radialaxis\": {\"gridcolor\": \"white\", \"linecolor\": \"white\", \"ticks\": \"\"}}, \"scene\": {\"xaxis\": {\"backgroundcolor\": \"#E5ECF6\", \"gridcolor\": \"white\", \"gridwidth\": 2, \"linecolor\": \"white\", \"showbackground\": true, \"ticks\": \"\", \"zerolinecolor\": \"white\"}, \"yaxis\": {\"backgroundcolor\": \"#E5ECF6\", \"gridcolor\": \"white\", \"gridwidth\": 2, \"linecolor\": \"white\", \"showbackground\": true, \"ticks\": \"\", \"zerolinecolor\": \"white\"}, \"zaxis\": {\"backgroundcolor\": \"#E5ECF6\", \"gridcolor\": \"white\", \"gridwidth\": 2, \"linecolor\": \"white\", \"showbackground\": true, \"ticks\": \"\", \"zerolinecolor\": \"white\"}}, \"shapedefaults\": {\"line\": {\"color\": \"#2a3f5f\"}}, \"ternary\": {\"aaxis\": {\"gridcolor\": \"white\", \"linecolor\": \"white\", \"ticks\": \"\"}, \"baxis\": {\"gridcolor\": \"white\", \"linecolor\": \"white\", \"ticks\": \"\"}, \"bgcolor\": \"#E5ECF6\", \"caxis\": {\"gridcolor\": \"white\", \"linecolor\": \"white\", \"ticks\": \"\"}}, \"title\": {\"x\": 0.05}, \"xaxis\": {\"automargin\": true, \"gridcolor\": \"white\", \"linecolor\": \"white\", \"ticks\": \"\", \"title\": {\"standoff\": 15}, \"zerolinecolor\": \"white\", \"zerolinewidth\": 2}, \"yaxis\": {\"automargin\": true, \"gridcolor\": \"white\", \"linecolor\": \"white\", \"ticks\": \"\", \"title\": {\"standoff\": 15}, \"zerolinecolor\": \"white\", \"zerolinewidth\": 2}}}, \"xaxis\": {\"anchor\": \"y2\", \"domain\": [0.0, 1.0], \"zeroline\": false}, \"yaxis\": {\"anchor\": \"free\", \"domain\": [0.35, 1], \"position\": 0.0}, \"yaxis2\": {\"anchor\": \"x\", \"domain\": [0, 0.25], \"dtick\": 1, \"showticklabels\": false}},                        {\"responsive\": true}                    ).then(function(){\n",
              "                            \n",
              "var gd = document.getElementById('5ec62ea9-359a-4053-a4b7-7b072f40309c');\n",
              "var x = new MutationObserver(function (mutations, observer) {{\n",
              "        var display = window.getComputedStyle(gd).display;\n",
              "        if (!display || display === 'none') {{\n",
              "            console.log([gd, 'removed!']);\n",
              "            Plotly.purge(gd);\n",
              "            observer.disconnect();\n",
              "        }}\n",
              "}});\n",
              "\n",
              "// Listen for the removal of the full notebook cells\n",
              "var notebookContainer = gd.closest('#notebook-container');\n",
              "if (notebookContainer) {{\n",
              "    x.observe(notebookContainer, {childList: true});\n",
              "}}\n",
              "\n",
              "// Listen for the clearing of the current output cell\n",
              "var outputEl = gd.closest('.output');\n",
              "if (outputEl) {{\n",
              "    x.observe(outputEl, {childList: true});\n",
              "}}\n",
              "\n",
              "                        })                };                            </script>        </div>\n",
              "</body>\n",
              "</html>"
            ]
          },
          "metadata": {
            "tags": []
          }
        }
      ]
    },
    {
      "cell_type": "markdown",
      "metadata": {
        "id": "_nB0f0TIewFB"
      },
      "source": [
        "##pass/Game played density plot "
      ]
    },
    {
      "cell_type": "code",
      "metadata": {
        "id": "vHBkJa0Hc-QR",
        "colab": {
          "base_uri": "https://localhost:8080/",
          "height": 542
        },
        "outputId": "e233f877-cea4-4538-881e-c2cd532fa234"
      },
      "source": [
        "x = nba_20_copy.GP\r\n",
        "hist_data = [x]\r\n",
        "group_labels = ['nba_20_copy'] # dataframe\r\n",
        "\r\n",
        "fig = ff.create_distplot(hist_data, group_labels)\r\n",
        "#fig.show()\r\n",
        "\r\n",
        "fig.update_layout(title_text='Passes/Game Distribution')\r\n",
        "fig.show()"
      ],
      "execution_count": null,
      "outputs": [
        {
          "output_type": "display_data",
          "data": {
            "text/html": [
              "<html>\n",
              "<head><meta charset=\"utf-8\" /></head>\n",
              "<body>\n",
              "    <div>            <script src=\"https://cdnjs.cloudflare.com/ajax/libs/mathjax/2.7.5/MathJax.js?config=TeX-AMS-MML_SVG\"></script><script type=\"text/javascript\">if (window.MathJax) {MathJax.Hub.Config({SVG: {font: \"STIX-Web\"}});}</script>                <script type=\"text/javascript\">window.PlotlyConfig = {MathJaxConfig: 'local'};</script>\n",
              "        <script src=\"https://cdn.plot.ly/plotly-latest.min.js\"></script>                <div id=\"626ddc19-6c91-4d67-b53c-bc443481830e\" class=\"plotly-graph-div\" style=\"height:525px; width:100%;\"></div>            <script type=\"text/javascript\">                                    window.PLOTLYENV=window.PLOTLYENV || {};                                    if (document.getElementById(\"626ddc19-6c91-4d67-b53c-bc443481830e\")) {                    Plotly.newPlot(                        \"626ddc19-6c91-4d67-b53c-bc443481830e\",                        [{\"autobinx\": false, \"histnorm\": \"probability density\", \"legendgroup\": \"nba_20_copy\", \"marker\": {\"color\": \"rgb(31, 119, 180)\"}, \"name\": \"nba_20_copy\", \"opacity\": 0.7, \"type\": \"histogram\", \"x\": [3, 7, 19, 4, 3, 9, 5, 11, 5, 1, 5, 7, 8, 5, 9, 4, 7, 6, 2, 4, 17, 1, 6, 4, 1, 21, 2, 21, 2, 21, 4, 5, 7, 2, 2, 3, 5, 10, 6, 1, 12, 19, 21, 6, 6, 21, 6, 3, 10, 6, 6, 12, 17, 9, 1, 4, 5, 2, 4, 6, 5, 4, 5, 4, 7, 11, 13, 7, 7, 12, 19, 21, 13, 1, 12, 3, 6, 12, 13, 14, 2, 4, 5, 21, 5, 10, 7, 3, 4, 4, 5, 4, 2, 9, 18, 11, 21, 3, 7, 5, 3, 12, 21, 1, 1, 3, 4, 19, 15, 10, 6, 6, 4, 10, 4, 21, 7, 1, 13, 3, 4, 4, 10, 3, 11, 4, 13, 6, 3, 2, 10, 5, 3, 4, 14, 5, 11, 10, 1, 19, 4, 7, 7, 13, 21, 19, 3, 19, 3, 2, 3, 2, 7, 2, 7, 15, 5, 13, 4, 17, 7, 2, 1, 2, 7, 1, 19, 1, 19, 3, 11, 2, 4, 12, 1, 21, 16, 5, 4, 7, 4, 13, 11, 4, 17, 10, 3, 17, 4, 17, 3, 10, 4, 5, 12, 2, 4, 11, 1, 1, 5, 5, 17, 17, 4, 1, 2, 8, 5, 13, 1, 17, 13, 10, 4, 13], \"xaxis\": \"x\", \"xbins\": {\"end\": 21.0, \"size\": 1.0, \"start\": 1.0}, \"yaxis\": \"y\"}, {\"legendgroup\": \"nba_20_copy\", \"marker\": {\"color\": \"rgb(31, 119, 180)\"}, \"mode\": \"lines\", \"name\": \"nba_20_copy\", \"showlegend\": false, \"type\": \"scatter\", \"x\": [1.0, 1.04, 1.08, 1.12, 1.16, 1.2, 1.24, 1.28, 1.32, 1.3599999999999999, 1.4, 1.44, 1.48, 1.52, 1.56, 1.6, 1.6400000000000001, 1.6800000000000002, 1.72, 1.76, 1.8, 1.8399999999999999, 1.88, 1.92, 1.96, 2.0, 2.04, 2.08, 2.12, 2.16, 2.2, 2.24, 2.2800000000000002, 2.3200000000000003, 2.3600000000000003, 2.4, 2.44, 2.48, 2.52, 2.56, 2.6, 2.6399999999999997, 2.6799999999999997, 2.7199999999999998, 2.76, 2.8, 2.84, 2.88, 2.92, 2.96, 3.0, 3.04, 3.08, 3.12, 3.16, 3.2, 3.24, 3.28, 3.32, 3.36, 3.4, 3.44, 3.48, 3.52, 3.56, 3.6, 3.64, 3.68, 3.72, 3.76, 3.8, 3.84, 3.88, 3.92, 3.96, 4.0, 4.04, 4.08, 4.12, 4.16, 4.2, 4.24, 4.279999999999999, 4.32, 4.359999999999999, 4.4, 4.4399999999999995, 4.48, 4.52, 4.5600000000000005, 4.6, 4.640000000000001, 4.68, 4.720000000000001, 4.76, 4.8, 4.84, 4.88, 4.92, 4.96, 5.0, 5.04, 5.08, 5.12, 5.16, 5.2, 5.24, 5.28, 5.32, 5.36, 5.4, 5.44, 5.48, 5.52, 5.56, 5.6, 5.64, 5.68, 5.72, 5.76, 5.8, 5.84, 5.88, 5.92, 5.96, 6.0, 6.04, 6.08, 6.12, 6.16, 6.2, 6.24, 6.28, 6.32, 6.36, 6.4, 6.44, 6.48, 6.52, 6.56, 6.6, 6.64, 6.68, 6.72, 6.76, 6.8, 6.84, 6.88, 6.92, 6.96, 7.0, 7.04, 7.08, 7.12, 7.16, 7.2, 7.24, 7.28, 7.32, 7.36, 7.4, 7.44, 7.48, 7.52, 7.56, 7.6, 7.64, 7.68, 7.72, 7.76, 7.8, 7.84, 7.88, 7.92, 7.96, 8.0, 8.04, 8.08, 8.120000000000001, 8.16, 8.2, 8.24, 8.280000000000001, 8.32, 8.36, 8.4, 8.440000000000001, 8.48, 8.52, 8.559999999999999, 8.6, 8.64, 8.68, 8.719999999999999, 8.76, 8.8, 8.84, 8.879999999999999, 8.92, 8.96, 9.0, 9.04, 9.08, 9.12, 9.16, 9.2, 9.24, 9.28, 9.32, 9.36, 9.4, 9.44, 9.48, 9.52, 9.56, 9.6, 9.64, 9.68, 9.72, 9.76, 9.8, 9.84, 9.88, 9.92, 9.96, 10.0, 10.04, 10.08, 10.12, 10.16, 10.2, 10.24, 10.28, 10.32, 10.36, 10.4, 10.44, 10.48, 10.52, 10.56, 10.6, 10.64, 10.68, 10.72, 10.76, 10.8, 10.84, 10.88, 10.92, 10.96, 11.0, 11.04, 11.08, 11.12, 11.16, 11.2, 11.24, 11.28, 11.32, 11.36, 11.4, 11.44, 11.48, 11.52, 11.56, 11.6, 11.64, 11.68, 11.72, 11.76, 11.8, 11.84, 11.88, 11.92, 11.96, 12.0, 12.04, 12.08, 12.12, 12.16, 12.2, 12.24, 12.28, 12.32, 12.36, 12.4, 12.44, 12.48, 12.52, 12.56, 12.6, 12.64, 12.68, 12.72, 12.76, 12.8, 12.84, 12.88, 12.92, 12.96, 13.0, 13.04, 13.08, 13.12, 13.16, 13.2, 13.24, 13.28, 13.32, 13.36, 13.4, 13.44, 13.48, 13.52, 13.56, 13.6, 13.64, 13.68, 13.72, 13.76, 13.8, 13.84, 13.88, 13.92, 13.96, 14.0, 14.04, 14.08, 14.12, 14.16, 14.2, 14.24, 14.28, 14.32, 14.36, 14.4, 14.44, 14.48, 14.52, 14.56, 14.6, 14.64, 14.68, 14.72, 14.76, 14.8, 14.84, 14.88, 14.92, 14.96, 15.0, 15.04, 15.08, 15.12, 15.16, 15.2, 15.24, 15.28, 15.32, 15.36, 15.4, 15.44, 15.48, 15.52, 15.56, 15.6, 15.64, 15.68, 15.72, 15.76, 15.8, 15.84, 15.88, 15.92, 15.96, 16.0, 16.04, 16.08, 16.119999999999997, 16.16, 16.2, 16.240000000000002, 16.28, 16.32, 16.36, 16.4, 16.439999999999998, 16.48, 16.52, 16.560000000000002, 16.6, 16.64, 16.68, 16.72, 16.759999999999998, 16.8, 16.84, 16.880000000000003, 16.92, 16.96, 17.0, 17.04, 17.08, 17.12, 17.16, 17.2, 17.24, 17.28, 17.32, 17.36, 17.4, 17.44, 17.48, 17.52, 17.56, 17.6, 17.64, 17.68, 17.72, 17.76, 17.8, 17.84, 17.88, 17.92, 17.96, 18.0, 18.04, 18.08, 18.12, 18.16, 18.2, 18.24, 18.28, 18.32, 18.36, 18.4, 18.44, 18.48, 18.52, 18.56, 18.6, 18.64, 18.68, 18.72, 18.76, 18.8, 18.84, 18.88, 18.92, 18.96, 19.0, 19.04, 19.08, 19.12, 19.16, 19.2, 19.24, 19.28, 19.32, 19.36, 19.4, 19.44, 19.48, 19.52, 19.56, 19.6, 19.64, 19.68, 19.72, 19.76, 19.8, 19.84, 19.88, 19.92, 19.96, 20.0, 20.04, 20.08, 20.12, 20.16, 20.2, 20.24, 20.28, 20.32, 20.36, 20.4, 20.44, 20.48, 20.52, 20.56, 20.6, 20.64, 20.68, 20.72, 20.76, 20.8, 20.84, 20.88, 20.92, 20.96], \"xaxis\": \"x\", \"y\": [0.05373741748419504, 0.05450730714856624, 0.05527557543477733, 0.05604191949841526, 0.056806036064027315, 0.05756762162241593, 0.0583263726260316, 0.05908198568234916, 0.05983415774512514, 0.06058258630345296, 0.06132696956853986, 0.06206700665815356, 0.0628023977786904, 0.06353284440483992, 0.06425804945682252, 0.06497771747519863, 0.06569155479325256, 0.06639926970696743, 0.06710057264261521, 0.06779517632199569, 0.06848279592536619, 0.06916314925210852, 0.06983595687918707, 0.07050094231745518, 0.07115783216587125, 0.07180635626368949, 0.07244624784068895, 0.07307724366550615, 0.07369908419213853, 0.07431151370467917, 0.07491428046034425, 0.07550713683085243, 0.07608983944220425, 0.07666214931291197, 0.07722383199072012, 0.0777746576878484, 0.07831440141478556, 0.07884284311265008, 0.07935976778412739, 0.07986496562298126, 0.08035823214212982, 0.08083936830026545, 0.08130818062698417, 0.08176448134638414, 0.08220808849907882, 0.08263882606256134, 0.08305652406984025, 0.08346101872626502, 0.0838521525244413, 0.08422977435712646, 0.08459373962799059, 0.08494391036011394, 0.08528015530208014, 0.0856023500315261, 0.08591037705598721, 0.08620412591088156, 0.08648349325446301, 0.08674838295956777, 0.08699870620197545, 0.0872343815452043, 0.08745533502154626, 0.08766150020915882, 0.08785281830501812, 0.08802923819354429, 0.08819071651070241, 0.08833721770339581, 0.08846871408395669, 0.08858518587955268, 0.08868662127632798, 0.08877301645810257, 0.08884437563946088, 0.08890071109306531, 0.08894204317104007, 0.0889684003202798, 0.08897981909154194, 0.08897634414220017, 0.0889580282325357, 0.0889249322154655, 0.08887712501961062, 0.08881468362562317, 0.08873769303569985, 0.08864624623623105, 0.08854044415353404, 0.08842039560264672, 0.08828621722916184, 0.0881380334440973, 0.08797597635181718, 0.08780018567102169, 0.08761080864884847, 0.08740799996813162, 0.08719192164788231, 0.08696274293707056, 0.0867206402017888, 0.08646579680590483, 0.08619840298530912, 0.0859186557158839, 0.08562675857531933, 0.08532292159892543, 0.08500736112958683, 0.08468029966202045, 0.08434196568150235, 0.08399259349724081, 0.08363242307057175, 0.0832616998381665, 0.08288067453044133, 0.0824896029853623, 0.08208874595785058, 0.08167836892498205, 0.08125874188719169, 0.08083013916568715, 0.08039283919627505, 0.07994712431981359, 0.07949328056949288, 0.07903159745515506, 0.0785623677448545, 0.0780858872438677, 0.07760245457135247, 0.0771123709348575, 0.07661593990288003, 0.07611346717566779, 0.07560526035445796, 0.0750916287093405, 0.07457288294593481, 0.07404933497106261, 0.07352129765759631, 0.07298908460866131, 0.07245300992136613, 0.07191338795023189, 0.07137053307049121, 0.07082475944142101, 0.07027638076987455, 0.0697257100741776, 0.06917305944854549, 0.06861873982818356, 0.06806306075522975, 0.06750633014569497, 0.06694885405756361, 0.06639093646020676, 0.06583287900527238, 0.0652749807992067, 0.06471753817757106, 0.0641608444813164, 0.06360518983517459, 0.06305086092834014, 0.062498140797604726, 0.061947308613119076, 0.06139863946695503, 0.06085240416464406, 0.06030886901987549, 0.059768295652533714, 0.059230940790265016, 0.05869705607376062, 0.05816688786595221, 0.05764067706531319, 0.05711865892346805, 0.056601062867308025, 0.05608811232582208, 0.05558002456184488, 0.05507701050893429, 0.05457927461358577, 0.05408701468299494, 0.05360042173858017, 0.053119679875474377, 0.052644966128199265, 0.052176450342728165, 0.05171429505514531, 0.05125865537710706, 0.05080967888830439, 0.05036750553612373, 0.04993226754269777, 0.049504089319533734, 0.049083087389895586, 0.04866937031911545, 0.04826303865299629, 0.04786418486446242, 0.04747289330860287, 0.04708924018624123, 0.04671329351615892, 0.046345113116080625, 0.04598475059252387, 0.04563224933959651, 0.04528764454681525, 0.044950963216003795, 0.04462222418731054, 0.04430143817437609, 0.043988607808658396, 0.04368372769291275, 0.04338678446380251, 0.0430977568636043, 0.04281661582094849, 0.04254332454052349, 0.04227783860165364, 0.04202010606564122, 0.04177006759174842, 0.04152765656167584, 0.04129279921238088, 0.04106541477705619, 0.04084541563407986, 0.040632707463726506, 0.040427189412418164, 0.040228754264275336, 0.04003728861971486, 0.03985267308083108, 0.0396747824432784, 0.039503485894365704, 0.039338647217059, 0.03918012499957928, 0.039027772850272965, 0.03888143961742188, 0.0387409696136555, 0.03860620284461559, 0.03847697524152339, 0.03835311889729041, 0.038234462305811914, 0.03812083060407778, 0.038012045816734626, 0.03790792710273193, 0.037808291003683846, 0.0377129516935796, 0.0376217212294783, 0.03753440980282607, 0.03745082599103464, 0.03737077700897066, 0.03729406896000268, 0.037220507086266966, 0.037149896017812066, 0.03708204002029561, 0.03701674324091203, 0.036953809952237904, 0.036893044793693396, 0.03683425301032526, 0.03677724068862711, 0.03672181498912631, 0.03666778437547152, 0.03661495883977292, 0.036563150123951046, 0.03651217193686763, 0.036461840167018804, 0.0364119730905852, 0.0363623915746419, 0.03631291927534562, 0.0362633828309252, 0.03621361204931343, 0.03616344009026873, 0.036112703641845295, 0.03606124309108262, 0.03600890268878992, 0.03595553070831931, 0.03590097959821972, 0.03584510612868393, 0.03578777153169893, 0.035728841634825474, 0.03566818698853724, 0.035605682987055805, 0.03554120998262742, 0.03547465339319235, 0.03540590380340192, 0.035334857058947684, 0.035261414354167894, 0.03518548231290548, 0.03510697306259114, 0.03502580430153487, 0.03494189935940834, 0.03485518725090672, 0.03476560272257991, 0.03467308629282824, 0.03457758428505974, 0.034479048854006794, 0.034377438005206755, 0.03427271560764951, 0.03416485139960107, 0.03405382098761115, 0.033939605838719716, 0.033822193265875856, 0.03370157640658827, 0.033577754194828294, 0.033450731326209855, 0.03332051821647378, 0.03318713095330912, 0.033050591241545794, 0.03291092634175892, 0.032768169002329116, 0.032622357385008474, 0.03247353498404636, 0.03232175053893605, 0.03216705794084858, 0.032009516132826245, 0.03184918900381731, 0.031686145276637656, 0.03152045838995476, 0.031352206374397805, 0.031181471722904724, 0.031008341255426643, 0.03083290597811937, 0.030655260937160828, 0.030475505067343287, 0.030293741035598325, 0.030110075079624626, 0.029924616841796887, 0.029737479198545955, 0.029548778085410867, 0.02935863231797377, 0.02916716340889919, 0.028974495381311145, 0.0287807545787501, 0.028586069471963717, 0.028390570462795483, 0.02819438968544447, 0.027997660805379507, 0.02780051881620107, 0.027603099834752176, 0.027405540894787975, 0.027207979739523012, 0.027010554613380394, 0.026813404053276025, 0.02661666667977479, 0.026420480988463668, 0.026224985141888663, 0.026030316762407926, 0.025836612726315853, 0.025644008959595004, 0.025452640235653686, 0.025262639975407796, 0.025074140050064163, 0.024887270586960938, 0.02470215977881856, 0.02451893369675017, 0.024337716107375833, 0.024158628294379418, 0.023981788884840042, 0.02380731368066104, 0.023635315495413135, 0.02346590399689483, 0.02329918555570585, 0.02313526310011477, 0.02297423597749135, 0.022816199822557802, 0.022661246432702037, 0.022509463650576756, 0.02236093525419523, 0.02221574085471523, 0.022073955802086695, 0.021935651098719207, 0.021800893321306688, 0.02166974455092795, 0.02154226231152084, 0.021418499516808152, 0.021298504425732518, 0.021182320606436638, 0.02106998690880392, 0.020961537445554086, 0.020857001581865844, 0.020756403933478648, 0.020659764373203413, 0.020567098045751974, 0.020478415390773348, 0.020393722173965532, 0.020313019526109886, 0.02023630398985788, 0.020163567574078223, 0.020094797815556103, 0.02002997784781688, 0.01996908647683086, 0.019912098263337685, 0.01985898361151501, 0.01980970886370064, 0.01976423640086337, 0.019722524748506262, 0.019684528687672478, 0.01965019937071538, 0.01961948444148313, 0.0195923281595611, 0.019568671528207175, 0.019548452425609836, 0.019531605739093145, 0.01951806350189007, 0.01950775503210287, 0.019500607073467555, 0.01949654393754057, 0.019495487646926355, 0.01949735807916696, 0.019502073110919654, 0.019509548762051618, 0.01951969933928896, 0.019532437579062603, 0.019547674789203516, 0.019565320989148042, 0.01958528504832525, 0.019607474822409363, 0.0196317972871328, 0.019658158669368757, 0.019686464575206175, 0.019716620114755477, 0.019748530023438158, 0.01978209877953085, 0.019817230717750624, 0.019853830138686294, 0.019891801413898364, 0.0199310490865286, 0.019971477967279373, 0.020012993225641814, 0.020055500476271026, 0.020098905860426376, 0.02014311612241386, 0.02018803868098823, 0.020233581695690186, 0.020279654128115537, 0.020326165798130028, 0.02037302743506462, 0.020420150723942886, 0.020467448346810514, 0.02051483401925596, 0.020562222522226493, 0.020609529729261437, 0.020656672629280552, 0.020703569345079623, 0.020750139147701137, 0.020796302466860157, 0.0208419808976192, 0.02088709720351802, 0.02093157531637387, 0.020975340332979524, 0.02101831850893406, 0.02106043724985003, 0.021101625100187253, 0.021141811729969887, 0.021180927919647444, 0.02121890554336484, 0.021255677550908368, 0.021291177948597338, 0.021325341779389283, 0.02135810510246861, 0.021389404972583455, 0.021419179419396556, 0.02144736742710789, 0.021473908914604406, 0.021498744716385042, 0.02152181656450247, 0.021543067071754223, 0.0215624397163477, 0.02157987882825276, 0.021595329577445307, 0.021608737964233227, 0.021620050811843726, 0.021629215761438097, 0.02163618126970558, 0.021640896609173937, 0.021643311871358994, 0.021643377972860166, 0.021641046664492222, 0.02163627054352791, 0.0216290030691092, 0.02161919858086674, 0.021606812320771943, 0.021591800458226854, 0.021574120118380606, 0.021553729413643752, 0.02153058747835387, 0.021504654506529886, 0.021475891792634007, 0.02144426177524474, 0.0214097280835279, 0.0213722555863759, 0.02133181044407109, 0.021288360162313787, 0.021241873648440285, 0.021192321269644758, 0.021139674913003222, 0.021083908047087874, 0.021024995784947736, 0.020962914948220904, 0.020897644132134467, 0.020829163771139886, 0.020757456204922517, 0.0206825057445198, 0.020604298738273807, 0.020522823637343004, 0.020438071060490986, 0.02035003385787057, 0.020258707173519293, 0.020164088506281146, 0.02006617776887347, 0.01996497734481617, 0.01986049214294829, 0.019752729649256884, 0.01964169997575266, 0.019527415906130583, 0.01940989293796369, 0.01928914932118511, 0.019165206092625, 0.019038087106377912, 0.018907819059790405, 0.01877443151486765, 0.01863795691491536, 0.018498430596244307, 0.01835589079478172, 0.018210378647447775, 0.018061938188173848, 0.01791061633845369, 0.01775646289233786], \"yaxis\": \"y\"}, {\"legendgroup\": \"nba_20_copy\", \"marker\": {\"color\": \"rgb(31, 119, 180)\", \"symbol\": \"line-ns-open\"}, \"mode\": \"markers\", \"name\": \"nba_20_copy\", \"showlegend\": false, \"type\": \"scatter\", \"x\": [3, 7, 19, 4, 3, 9, 5, 11, 5, 1, 5, 7, 8, 5, 9, 4, 7, 6, 2, 4, 17, 1, 6, 4, 1, 21, 2, 21, 2, 21, 4, 5, 7, 2, 2, 3, 5, 10, 6, 1, 12, 19, 21, 6, 6, 21, 6, 3, 10, 6, 6, 12, 17, 9, 1, 4, 5, 2, 4, 6, 5, 4, 5, 4, 7, 11, 13, 7, 7, 12, 19, 21, 13, 1, 12, 3, 6, 12, 13, 14, 2, 4, 5, 21, 5, 10, 7, 3, 4, 4, 5, 4, 2, 9, 18, 11, 21, 3, 7, 5, 3, 12, 21, 1, 1, 3, 4, 19, 15, 10, 6, 6, 4, 10, 4, 21, 7, 1, 13, 3, 4, 4, 10, 3, 11, 4, 13, 6, 3, 2, 10, 5, 3, 4, 14, 5, 11, 10, 1, 19, 4, 7, 7, 13, 21, 19, 3, 19, 3, 2, 3, 2, 7, 2, 7, 15, 5, 13, 4, 17, 7, 2, 1, 2, 7, 1, 19, 1, 19, 3, 11, 2, 4, 12, 1, 21, 16, 5, 4, 7, 4, 13, 11, 4, 17, 10, 3, 17, 4, 17, 3, 10, 4, 5, 12, 2, 4, 11, 1, 1, 5, 5, 17, 17, 4, 1, 2, 8, 5, 13, 1, 17, 13, 10, 4, 13], \"xaxis\": \"x\", \"y\": [\"nba_20_copy\", \"nba_20_copy\", \"nba_20_copy\", \"nba_20_copy\", \"nba_20_copy\", \"nba_20_copy\", \"nba_20_copy\", \"nba_20_copy\", \"nba_20_copy\", \"nba_20_copy\", \"nba_20_copy\", \"nba_20_copy\", \"nba_20_copy\", \"nba_20_copy\", \"nba_20_copy\", \"nba_20_copy\", \"nba_20_copy\", \"nba_20_copy\", \"nba_20_copy\", \"nba_20_copy\", \"nba_20_copy\", \"nba_20_copy\", \"nba_20_copy\", \"nba_20_copy\", \"nba_20_copy\", \"nba_20_copy\", \"nba_20_copy\", \"nba_20_copy\", \"nba_20_copy\", \"nba_20_copy\", \"nba_20_copy\", \"nba_20_copy\", \"nba_20_copy\", \"nba_20_copy\", \"nba_20_copy\", \"nba_20_copy\", \"nba_20_copy\", \"nba_20_copy\", \"nba_20_copy\", \"nba_20_copy\", \"nba_20_copy\", \"nba_20_copy\", \"nba_20_copy\", \"nba_20_copy\", \"nba_20_copy\", \"nba_20_copy\", \"nba_20_copy\", \"nba_20_copy\", \"nba_20_copy\", \"nba_20_copy\", \"nba_20_copy\", \"nba_20_copy\", \"nba_20_copy\", \"nba_20_copy\", \"nba_20_copy\", \"nba_20_copy\", \"nba_20_copy\", \"nba_20_copy\", \"nba_20_copy\", \"nba_20_copy\", \"nba_20_copy\", \"nba_20_copy\", \"nba_20_copy\", \"nba_20_copy\", \"nba_20_copy\", \"nba_20_copy\", \"nba_20_copy\", \"nba_20_copy\", \"nba_20_copy\", \"nba_20_copy\", \"nba_20_copy\", \"nba_20_copy\", \"nba_20_copy\", \"nba_20_copy\", \"nba_20_copy\", \"nba_20_copy\", \"nba_20_copy\", \"nba_20_copy\", \"nba_20_copy\", \"nba_20_copy\", \"nba_20_copy\", \"nba_20_copy\", \"nba_20_copy\", \"nba_20_copy\", \"nba_20_copy\", \"nba_20_copy\", \"nba_20_copy\", \"nba_20_copy\", \"nba_20_copy\", \"nba_20_copy\", \"nba_20_copy\", \"nba_20_copy\", \"nba_20_copy\", \"nba_20_copy\", \"nba_20_copy\", \"nba_20_copy\", \"nba_20_copy\", \"nba_20_copy\", \"nba_20_copy\", \"nba_20_copy\", \"nba_20_copy\", \"nba_20_copy\", \"nba_20_copy\", \"nba_20_copy\", \"nba_20_copy\", \"nba_20_copy\", \"nba_20_copy\", \"nba_20_copy\", \"nba_20_copy\", \"nba_20_copy\", \"nba_20_copy\", \"nba_20_copy\", \"nba_20_copy\", \"nba_20_copy\", \"nba_20_copy\", \"nba_20_copy\", \"nba_20_copy\", \"nba_20_copy\", \"nba_20_copy\", \"nba_20_copy\", \"nba_20_copy\", \"nba_20_copy\", \"nba_20_copy\", \"nba_20_copy\", \"nba_20_copy\", \"nba_20_copy\", \"nba_20_copy\", \"nba_20_copy\", \"nba_20_copy\", \"nba_20_copy\", \"nba_20_copy\", \"nba_20_copy\", \"nba_20_copy\", \"nba_20_copy\", \"nba_20_copy\", \"nba_20_copy\", \"nba_20_copy\", \"nba_20_copy\", \"nba_20_copy\", \"nba_20_copy\", \"nba_20_copy\", \"nba_20_copy\", \"nba_20_copy\", \"nba_20_copy\", \"nba_20_copy\", \"nba_20_copy\", \"nba_20_copy\", \"nba_20_copy\", \"nba_20_copy\", \"nba_20_copy\", \"nba_20_copy\", \"nba_20_copy\", \"nba_20_copy\", \"nba_20_copy\", \"nba_20_copy\", \"nba_20_copy\", \"nba_20_copy\", \"nba_20_copy\", \"nba_20_copy\", \"nba_20_copy\", \"nba_20_copy\", \"nba_20_copy\", \"nba_20_copy\", \"nba_20_copy\", \"nba_20_copy\", \"nba_20_copy\", \"nba_20_copy\", \"nba_20_copy\", \"nba_20_copy\", \"nba_20_copy\", \"nba_20_copy\", \"nba_20_copy\", \"nba_20_copy\", \"nba_20_copy\", \"nba_20_copy\", \"nba_20_copy\", \"nba_20_copy\", \"nba_20_copy\", \"nba_20_copy\", \"nba_20_copy\", \"nba_20_copy\", \"nba_20_copy\", \"nba_20_copy\", \"nba_20_copy\", \"nba_20_copy\", \"nba_20_copy\", \"nba_20_copy\", \"nba_20_copy\", \"nba_20_copy\", \"nba_20_copy\", \"nba_20_copy\", \"nba_20_copy\", \"nba_20_copy\", \"nba_20_copy\", \"nba_20_copy\", \"nba_20_copy\", \"nba_20_copy\", \"nba_20_copy\", \"nba_20_copy\", \"nba_20_copy\", \"nba_20_copy\", \"nba_20_copy\", \"nba_20_copy\", \"nba_20_copy\", \"nba_20_copy\", \"nba_20_copy\", \"nba_20_copy\", \"nba_20_copy\", \"nba_20_copy\", \"nba_20_copy\", \"nba_20_copy\", \"nba_20_copy\", \"nba_20_copy\", \"nba_20_copy\", \"nba_20_copy\", \"nba_20_copy\"], \"yaxis\": \"y2\"}],                        {\"barmode\": \"overlay\", \"hovermode\": \"closest\", \"legend\": {\"traceorder\": \"reversed\"}, \"template\": {\"data\": {\"bar\": [{\"error_x\": {\"color\": \"#2a3f5f\"}, \"error_y\": {\"color\": \"#2a3f5f\"}, \"marker\": {\"line\": {\"color\": \"#E5ECF6\", \"width\": 0.5}}, \"type\": \"bar\"}], \"barpolar\": [{\"marker\": {\"line\": {\"color\": \"#E5ECF6\", \"width\": 0.5}}, \"type\": \"barpolar\"}], \"carpet\": [{\"aaxis\": {\"endlinecolor\": \"#2a3f5f\", \"gridcolor\": \"white\", \"linecolor\": \"white\", \"minorgridcolor\": \"white\", \"startlinecolor\": \"#2a3f5f\"}, \"baxis\": {\"endlinecolor\": \"#2a3f5f\", \"gridcolor\": \"white\", \"linecolor\": \"white\", \"minorgridcolor\": \"white\", \"startlinecolor\": \"#2a3f5f\"}, \"type\": \"carpet\"}], \"choropleth\": [{\"colorbar\": {\"outlinewidth\": 0, \"ticks\": \"\"}, \"type\": \"choropleth\"}], \"contour\": [{\"colorbar\": {\"outlinewidth\": 0, \"ticks\": \"\"}, \"colorscale\": [[0.0, \"#0d0887\"], [0.1111111111111111, \"#46039f\"], [0.2222222222222222, \"#7201a8\"], [0.3333333333333333, \"#9c179e\"], [0.4444444444444444, \"#bd3786\"], [0.5555555555555556, \"#d8576b\"], [0.6666666666666666, \"#ed7953\"], [0.7777777777777778, \"#fb9f3a\"], [0.8888888888888888, \"#fdca26\"], [1.0, \"#f0f921\"]], \"type\": \"contour\"}], \"contourcarpet\": [{\"colorbar\": {\"outlinewidth\": 0, \"ticks\": \"\"}, \"type\": \"contourcarpet\"}], \"heatmap\": [{\"colorbar\": {\"outlinewidth\": 0, \"ticks\": \"\"}, \"colorscale\": [[0.0, \"#0d0887\"], [0.1111111111111111, \"#46039f\"], [0.2222222222222222, \"#7201a8\"], [0.3333333333333333, \"#9c179e\"], [0.4444444444444444, \"#bd3786\"], [0.5555555555555556, \"#d8576b\"], [0.6666666666666666, \"#ed7953\"], [0.7777777777777778, \"#fb9f3a\"], [0.8888888888888888, \"#fdca26\"], [1.0, \"#f0f921\"]], \"type\": \"heatmap\"}], \"heatmapgl\": [{\"colorbar\": {\"outlinewidth\": 0, \"ticks\": \"\"}, \"colorscale\": [[0.0, \"#0d0887\"], [0.1111111111111111, \"#46039f\"], [0.2222222222222222, \"#7201a8\"], [0.3333333333333333, \"#9c179e\"], [0.4444444444444444, \"#bd3786\"], [0.5555555555555556, \"#d8576b\"], [0.6666666666666666, \"#ed7953\"], [0.7777777777777778, \"#fb9f3a\"], [0.8888888888888888, \"#fdca26\"], [1.0, \"#f0f921\"]], \"type\": \"heatmapgl\"}], \"histogram\": [{\"marker\": {\"colorbar\": {\"outlinewidth\": 0, \"ticks\": \"\"}}, \"type\": \"histogram\"}], \"histogram2d\": [{\"colorbar\": {\"outlinewidth\": 0, \"ticks\": \"\"}, \"colorscale\": [[0.0, \"#0d0887\"], [0.1111111111111111, \"#46039f\"], [0.2222222222222222, \"#7201a8\"], [0.3333333333333333, \"#9c179e\"], [0.4444444444444444, \"#bd3786\"], [0.5555555555555556, \"#d8576b\"], [0.6666666666666666, \"#ed7953\"], [0.7777777777777778, \"#fb9f3a\"], [0.8888888888888888, \"#fdca26\"], [1.0, \"#f0f921\"]], \"type\": \"histogram2d\"}], \"histogram2dcontour\": [{\"colorbar\": {\"outlinewidth\": 0, \"ticks\": \"\"}, \"colorscale\": [[0.0, \"#0d0887\"], [0.1111111111111111, \"#46039f\"], [0.2222222222222222, \"#7201a8\"], [0.3333333333333333, \"#9c179e\"], [0.4444444444444444, \"#bd3786\"], [0.5555555555555556, \"#d8576b\"], [0.6666666666666666, \"#ed7953\"], [0.7777777777777778, \"#fb9f3a\"], [0.8888888888888888, \"#fdca26\"], [1.0, \"#f0f921\"]], \"type\": \"histogram2dcontour\"}], \"mesh3d\": [{\"colorbar\": {\"outlinewidth\": 0, \"ticks\": \"\"}, \"type\": \"mesh3d\"}], \"parcoords\": [{\"line\": {\"colorbar\": {\"outlinewidth\": 0, \"ticks\": \"\"}}, \"type\": \"parcoords\"}], \"pie\": [{\"automargin\": true, \"type\": \"pie\"}], \"scatter\": [{\"marker\": {\"colorbar\": {\"outlinewidth\": 0, \"ticks\": \"\"}}, \"type\": \"scatter\"}], \"scatter3d\": [{\"line\": {\"colorbar\": {\"outlinewidth\": 0, \"ticks\": \"\"}}, \"marker\": {\"colorbar\": {\"outlinewidth\": 0, \"ticks\": \"\"}}, \"type\": \"scatter3d\"}], \"scattercarpet\": [{\"marker\": {\"colorbar\": {\"outlinewidth\": 0, \"ticks\": \"\"}}, \"type\": \"scattercarpet\"}], \"scattergeo\": [{\"marker\": {\"colorbar\": {\"outlinewidth\": 0, \"ticks\": \"\"}}, \"type\": \"scattergeo\"}], \"scattergl\": [{\"marker\": {\"colorbar\": {\"outlinewidth\": 0, \"ticks\": \"\"}}, \"type\": \"scattergl\"}], \"scattermapbox\": [{\"marker\": {\"colorbar\": {\"outlinewidth\": 0, \"ticks\": \"\"}}, \"type\": \"scattermapbox\"}], \"scatterpolar\": [{\"marker\": {\"colorbar\": {\"outlinewidth\": 0, \"ticks\": \"\"}}, \"type\": \"scatterpolar\"}], \"scatterpolargl\": [{\"marker\": {\"colorbar\": {\"outlinewidth\": 0, \"ticks\": \"\"}}, \"type\": \"scatterpolargl\"}], \"scatterternary\": [{\"marker\": {\"colorbar\": {\"outlinewidth\": 0, \"ticks\": \"\"}}, \"type\": \"scatterternary\"}], \"surface\": [{\"colorbar\": {\"outlinewidth\": 0, \"ticks\": \"\"}, \"colorscale\": [[0.0, \"#0d0887\"], [0.1111111111111111, \"#46039f\"], [0.2222222222222222, \"#7201a8\"], [0.3333333333333333, \"#9c179e\"], [0.4444444444444444, \"#bd3786\"], [0.5555555555555556, \"#d8576b\"], [0.6666666666666666, \"#ed7953\"], [0.7777777777777778, \"#fb9f3a\"], [0.8888888888888888, \"#fdca26\"], [1.0, \"#f0f921\"]], \"type\": \"surface\"}], \"table\": [{\"cells\": {\"fill\": {\"color\": \"#EBF0F8\"}, \"line\": {\"color\": \"white\"}}, \"header\": {\"fill\": {\"color\": \"#C8D4E3\"}, \"line\": {\"color\": \"white\"}}, \"type\": \"table\"}]}, \"layout\": {\"annotationdefaults\": {\"arrowcolor\": \"#2a3f5f\", \"arrowhead\": 0, \"arrowwidth\": 1}, \"autotypenumbers\": \"strict\", \"coloraxis\": {\"colorbar\": {\"outlinewidth\": 0, \"ticks\": \"\"}}, \"colorscale\": {\"diverging\": [[0, \"#8e0152\"], [0.1, \"#c51b7d\"], [0.2, \"#de77ae\"], [0.3, \"#f1b6da\"], [0.4, \"#fde0ef\"], [0.5, \"#f7f7f7\"], [0.6, \"#e6f5d0\"], [0.7, \"#b8e186\"], [0.8, \"#7fbc41\"], [0.9, \"#4d9221\"], [1, \"#276419\"]], \"sequential\": [[0.0, \"#0d0887\"], [0.1111111111111111, \"#46039f\"], [0.2222222222222222, \"#7201a8\"], [0.3333333333333333, \"#9c179e\"], [0.4444444444444444, \"#bd3786\"], [0.5555555555555556, \"#d8576b\"], [0.6666666666666666, \"#ed7953\"], [0.7777777777777778, \"#fb9f3a\"], [0.8888888888888888, \"#fdca26\"], [1.0, \"#f0f921\"]], \"sequentialminus\": [[0.0, \"#0d0887\"], [0.1111111111111111, \"#46039f\"], [0.2222222222222222, \"#7201a8\"], [0.3333333333333333, \"#9c179e\"], [0.4444444444444444, \"#bd3786\"], [0.5555555555555556, \"#d8576b\"], [0.6666666666666666, \"#ed7953\"], [0.7777777777777778, \"#fb9f3a\"], [0.8888888888888888, \"#fdca26\"], [1.0, \"#f0f921\"]]}, \"colorway\": [\"#636efa\", \"#EF553B\", \"#00cc96\", \"#ab63fa\", \"#FFA15A\", \"#19d3f3\", \"#FF6692\", \"#B6E880\", \"#FF97FF\", \"#FECB52\"], \"font\": {\"color\": \"#2a3f5f\"}, \"geo\": {\"bgcolor\": \"white\", \"lakecolor\": \"white\", \"landcolor\": \"#E5ECF6\", \"showlakes\": true, \"showland\": true, \"subunitcolor\": \"white\"}, \"hoverlabel\": {\"align\": \"left\"}, \"hovermode\": \"closest\", \"mapbox\": {\"style\": \"light\"}, \"paper_bgcolor\": \"white\", \"plot_bgcolor\": \"#E5ECF6\", \"polar\": {\"angularaxis\": {\"gridcolor\": \"white\", \"linecolor\": \"white\", \"ticks\": \"\"}, \"bgcolor\": \"#E5ECF6\", \"radialaxis\": {\"gridcolor\": \"white\", \"linecolor\": \"white\", \"ticks\": \"\"}}, \"scene\": {\"xaxis\": {\"backgroundcolor\": \"#E5ECF6\", \"gridcolor\": \"white\", \"gridwidth\": 2, \"linecolor\": \"white\", \"showbackground\": true, \"ticks\": \"\", \"zerolinecolor\": \"white\"}, \"yaxis\": {\"backgroundcolor\": \"#E5ECF6\", \"gridcolor\": \"white\", \"gridwidth\": 2, \"linecolor\": \"white\", \"showbackground\": true, \"ticks\": \"\", \"zerolinecolor\": \"white\"}, \"zaxis\": {\"backgroundcolor\": \"#E5ECF6\", \"gridcolor\": \"white\", \"gridwidth\": 2, \"linecolor\": \"white\", \"showbackground\": true, \"ticks\": \"\", \"zerolinecolor\": \"white\"}}, \"shapedefaults\": {\"line\": {\"color\": \"#2a3f5f\"}}, \"ternary\": {\"aaxis\": {\"gridcolor\": \"white\", \"linecolor\": \"white\", \"ticks\": \"\"}, \"baxis\": {\"gridcolor\": \"white\", \"linecolor\": \"white\", \"ticks\": \"\"}, \"bgcolor\": \"#E5ECF6\", \"caxis\": {\"gridcolor\": \"white\", \"linecolor\": \"white\", \"ticks\": \"\"}}, \"title\": {\"x\": 0.05}, \"xaxis\": {\"automargin\": true, \"gridcolor\": \"white\", \"linecolor\": \"white\", \"ticks\": \"\", \"title\": {\"standoff\": 15}, \"zerolinecolor\": \"white\", \"zerolinewidth\": 2}, \"yaxis\": {\"automargin\": true, \"gridcolor\": \"white\", \"linecolor\": \"white\", \"ticks\": \"\", \"title\": {\"standoff\": 15}, \"zerolinecolor\": \"white\", \"zerolinewidth\": 2}}}, \"title\": {\"text\": \"Passes/Game Distribution\"}, \"xaxis\": {\"anchor\": \"y2\", \"domain\": [0.0, 1.0], \"zeroline\": false}, \"yaxis\": {\"anchor\": \"free\", \"domain\": [0.35, 1], \"position\": 0.0}, \"yaxis2\": {\"anchor\": \"x\", \"domain\": [0, 0.25], \"dtick\": 1, \"showticklabels\": false}},                        {\"responsive\": true}                    ).then(function(){\n",
              "                            \n",
              "var gd = document.getElementById('626ddc19-6c91-4d67-b53c-bc443481830e');\n",
              "var x = new MutationObserver(function (mutations, observer) {{\n",
              "        var display = window.getComputedStyle(gd).display;\n",
              "        if (!display || display === 'none') {{\n",
              "            console.log([gd, 'removed!']);\n",
              "            Plotly.purge(gd);\n",
              "            observer.disconnect();\n",
              "        }}\n",
              "}});\n",
              "\n",
              "// Listen for the removal of the full notebook cells\n",
              "var notebookContainer = gd.closest('#notebook-container');\n",
              "if (notebookContainer) {{\n",
              "    x.observe(notebookContainer, {childList: true});\n",
              "}}\n",
              "\n",
              "// Listen for the clearing of the current output cell\n",
              "var outputEl = gd.closest('.output');\n",
              "if (outputEl) {{\n",
              "    x.observe(outputEl, {childList: true});\n",
              "}}\n",
              "\n",
              "                        })                };                            </script>        </div>\n",
              "</body>\n",
              "</html>"
            ]
          },
          "metadata": {
            "tags": []
          }
        }
      ]
    },
    {
      "cell_type": "markdown",
      "metadata": {
        "id": "8SsEaeWHdk0e"
      },
      "source": [
        "#Two point by the team (histogram)"
      ]
    },
    {
      "cell_type": "code",
      "metadata": {
        "id": "iUm0Ni03fSD3",
        "colab": {
          "base_uri": "https://localhost:8080/",
          "height": 542
        },
        "outputId": "8e921637-dc1f-4d85-8dad-31f4730f3ad3"
      },
      "source": [
        "px.histogram(nba_20_copy, x = 'TEAM', y = '2PA', color='TEAM', title='Two Points by a Team', template='plotly_white')"
      ],
      "execution_count": null,
      "outputs": [
        {
          "output_type": "display_data",
          "data": {
            "text/html": [
              "<html>\n",
              "<head><meta charset=\"utf-8\" /></head>\n",
              "<body>\n",
              "    <div>            <script src=\"https://cdnjs.cloudflare.com/ajax/libs/mathjax/2.7.5/MathJax.js?config=TeX-AMS-MML_SVG\"></script><script type=\"text/javascript\">if (window.MathJax) {MathJax.Hub.Config({SVG: {font: \"STIX-Web\"}});}</script>                <script type=\"text/javascript\">window.PlotlyConfig = {MathJaxConfig: 'local'};</script>\n",
              "        <script src=\"https://cdn.plot.ly/plotly-latest.min.js\"></script>                <div id=\"2eb8f8e9-480d-464f-8750-6f4139146b05\" class=\"plotly-graph-div\" style=\"height:525px; width:100%;\"></div>            <script type=\"text/javascript\">                                    window.PLOTLYENV=window.PLOTLYENV || {};                                    if (document.getElementById(\"2eb8f8e9-480d-464f-8750-6f4139146b05\")) {                    Plotly.newPlot(                        \"2eb8f8e9-480d-464f-8750-6f4139146b05\",                        [{\"alignmentgroup\": \"True\", \"bingroup\": \"x\", \"histfunc\": \"sum\", \"hovertemplate\": \"TEAM=%{x}<br>sum of 2PA=%{y}<extra></extra>\", \"legendgroup\": \"Por\", \"marker\": {\"color\": \"#636efa\"}, \"name\": \"Por\", \"offsetgroup\": \"Por\", \"orientation\": \"v\", \"showlegend\": true, \"type\": \"histogram\", \"x\": [\"Por\", \"Por\", \"Por\", \"Por\", \"Por\", \"Por\", \"Por\", \"Por\", \"Por\", \"Por\", \"Por\"], \"xaxis\": \"x\", \"y\": [5, 49, 10, 15, 12, 31, 64, 46, 12, 21, 23], \"yaxis\": \"y\"}, {\"alignmentgroup\": \"True\", \"bingroup\": \"x\", \"histfunc\": \"sum\", \"hovertemplate\": \"TEAM=%{x}<br>sum of 2PA=%{y}<extra></extra>\", \"legendgroup\": \"Okc\", \"marker\": {\"color\": \"#EF553B\"}, \"name\": \"Okc\", \"offsetgroup\": \"Okc\", \"orientation\": \"v\", \"showlegend\": true, \"type\": \"histogram\", \"x\": [\"Okc\", \"Okc\", \"Okc\", \"Okc\", \"Okc\", \"Okc\", \"Okc\", \"Okc\", \"Okc\", \"Okc\", \"Okc\", \"Okc\", \"Okc\", \"Okc\"], \"xaxis\": \"x\", \"y\": [51, 9, 0, 6, 26, 1, 42, 55, 1, 2, 16, 69, 0, 64], \"yaxis\": \"y\"}, {\"alignmentgroup\": \"True\", \"bingroup\": \"x\", \"histfunc\": \"sum\", \"hovertemplate\": \"TEAM=%{x}<br>sum of 2PA=%{y}<extra></extra>\", \"legendgroup\": \"Mia\", \"marker\": {\"color\": \"#00cc96\"}, \"name\": \"Mia\", \"offsetgroup\": \"Mia\", \"orientation\": \"v\", \"showlegend\": true, \"type\": \"histogram\", \"x\": [\"Mia\", \"Mia\", \"Mia\", \"Mia\", \"Mia\", \"Mia\", \"Mia\", \"Mia\", \"Mia\", \"Mia\", \"Mia\", \"Mia\", \"Mia\"], \"xaxis\": \"x\", \"y\": [219, 252, 40, 161, 149, 3, 26, 8, 4, 49, 46, 20, 0], \"yaxis\": \"y\"}, {\"alignmentgroup\": \"True\", \"bingroup\": \"x\", \"histfunc\": \"sum\", \"hovertemplate\": \"TEAM=%{x}<br>sum of 2PA=%{y}<extra></extra>\", \"legendgroup\": \"Bro\", \"marker\": {\"color\": \"#ab63fa\"}, \"name\": \"Bro\", \"offsetgroup\": \"Bro\", \"orientation\": \"v\", \"showlegend\": true, \"type\": \"histogram\", \"x\": [\"Bro\", \"Bro\", \"Bro\", \"Bro\", \"Bro\", \"Bro\", \"Bro\", \"Bro\", \"Bro\", \"Bro\", \"Bro\", \"Bro\", \"Bro\"], \"xaxis\": \"x\", \"y\": [24, 1, 8, 5, 11, 18, 12, 52, 20, 9, 5, 13, 3], \"yaxis\": \"y\"}, {\"alignmentgroup\": \"True\", \"bingroup\": \"x\", \"histfunc\": \"sum\", \"hovertemplate\": \"TEAM=%{x}<br>sum of 2PA=%{y}<extra></extra>\", \"legendgroup\": \"Mil\", \"marker\": {\"color\": \"#FFA15A\"}, \"name\": \"Mil\", \"offsetgroup\": \"Mil\", \"orientation\": \"v\", \"showlegend\": true, \"type\": \"histogram\", \"x\": [\"Mil\", \"Mil\", \"Mil\", \"Mil\", \"Mil\", \"Mil\", \"Mil\", \"Mil\", \"Mil\", \"Mil\", \"Mil\", \"Mil\", \"Mil\", \"Mil\"], \"xaxis\": \"x\", \"y\": [121, 66, 0, 12, 30, 39, 4, 10, 61, 4, 0, 14, 115, 24], \"yaxis\": \"y\"}, {\"alignmentgroup\": \"True\", \"bingroup\": \"x\", \"histfunc\": \"sum\", \"hovertemplate\": \"TEAM=%{x}<br>sum of 2PA=%{y}<extra></extra>\", \"legendgroup\": \"Tor\", \"marker\": {\"color\": \"#19d3f3\"}, \"name\": \"Tor\", \"offsetgroup\": \"Tor\", \"orientation\": \"v\", \"showlegend\": true, \"type\": \"histogram\", \"x\": [\"Tor\", \"Tor\", \"Tor\", \"Tor\", \"Tor\", \"Tor\", \"Tor\", \"Tor\", \"Tor\", \"Tor\", \"Tor\", \"Tor\", \"Tor\", \"Tor\"], \"xaxis\": \"x\", \"y\": [47, 6, 10, 37, 9, 65, 6, 76, 2, 52, 129, 9, 80, 2], \"yaxis\": \"y\"}, {\"alignmentgroup\": \"True\", \"bingroup\": \"x\", \"histfunc\": \"sum\", \"hovertemplate\": \"TEAM=%{x}<br>sum of 2PA=%{y}<extra></extra>\", \"legendgroup\": \"Orl\", \"marker\": {\"color\": \"#FF6692\"}, \"name\": \"Orl\", \"offsetgroup\": \"Orl\", \"orientation\": \"v\", \"showlegend\": true, \"type\": \"histogram\", \"x\": [\"Orl\", \"Orl\", \"Orl\", \"Orl\", \"Orl\", \"Orl\", \"Orl\", \"Orl\", \"Orl\", \"Orl\", \"Orl\"], \"xaxis\": \"x\", \"y\": [29, 14, 1, 19, 22, 44, 13, 1, 0, 34, 67], \"yaxis\": \"y\"}, {\"alignmentgroup\": \"True\", \"bingroup\": \"x\", \"histfunc\": \"sum\", \"hovertemplate\": \"TEAM=%{x}<br>sum of 2PA=%{y}<extra></extra>\", \"legendgroup\": \"Dal\", \"marker\": {\"color\": \"#B6E880\"}, \"name\": \"Dal\", \"offsetgroup\": \"Dal\", \"orientation\": \"v\", \"showlegend\": true, \"type\": \"histogram\", \"x\": [\"Dal\", \"Dal\", \"Dal\", \"Dal\", \"Dal\", \"Dal\", \"Dal\", \"Dal\", \"Dal\", \"Dal\", \"Dal\", \"Dal\", \"Dal\", \"Dal\"], \"xaxis\": \"x\", \"y\": [1, 42, 5, 32, 84, 22, 41, 3, 5, 13, 29, 23, 2, 8], \"yaxis\": \"y\"}, {\"alignmentgroup\": \"True\", \"bingroup\": \"x\", \"histfunc\": \"sum\", \"hovertemplate\": \"TEAM=%{x}<br>sum of 2PA=%{y}<extra></extra>\", \"legendgroup\": \"Den\", \"marker\": {\"color\": \"#FF97FF\"}, \"name\": \"Den\", \"offsetgroup\": \"Den\", \"orientation\": \"v\", \"showlegend\": true, \"type\": \"histogram\", \"x\": [\"Den\", \"Den\", \"Den\", \"Den\", \"Den\", \"Den\", \"Den\", \"Den\", \"Den\", \"Den\", \"Den\", \"Den\", \"Den\", \"Den\", \"Den\"], \"xaxis\": \"x\", \"y\": [5, 6, 0, 36, 6, 25, 80, 38, 245, 74, 93, 231, 38, 75, 1], \"yaxis\": \"y\"}, {\"alignmentgroup\": \"True\", \"bingroup\": \"x\", \"histfunc\": \"sum\", \"hovertemplate\": \"TEAM=%{x}<br>sum of 2PA=%{y}<extra></extra>\", \"legendgroup\": \"Lac\", \"marker\": {\"color\": \"#FECB52\"}, \"name\": \"Lac\", \"offsetgroup\": \"Lac\", \"orientation\": \"v\", \"showlegend\": true, \"type\": \"histogram\", \"x\": [\"Lac\", \"Lac\", \"Lac\", \"Lac\", \"Lac\", \"Lac\", \"Lac\", \"Lac\", \"Lac\", \"Lac\", \"Lac\", \"Lac\", \"Lac\", \"Lac\", \"Lac\"], \"xaxis\": \"x\", \"y\": [17, 2, 110, 32, 77, 16, 195, 3, 2, 52, 0, 0, 17, 95, 78], \"yaxis\": \"y\"}, {\"alignmentgroup\": \"True\", \"bingroup\": \"x\", \"histfunc\": \"sum\", \"hovertemplate\": \"TEAM=%{x}<br>sum of 2PA=%{y}<extra></extra>\", \"legendgroup\": \"Uta\", \"marker\": {\"color\": \"#636efa\"}, \"name\": \"Uta\", \"offsetgroup\": \"Uta\", \"orientation\": \"v\", \"showlegend\": true, \"type\": \"histogram\", \"x\": [\"Uta\", \"Uta\", \"Uta\", \"Uta\", \"Uta\", \"Uta\", \"Uta\", \"Uta\", \"Uta\", \"Uta\", \"Uta\", \"Uta\", \"Uta\", \"Uta\"], \"xaxis\": \"x\", \"y\": [9, 2, 48, 30, 74, 14, 93, 2, 11, 15, 10, 2, 2, 0], \"yaxis\": \"y\"}, {\"alignmentgroup\": \"True\", \"bingroup\": \"x\", \"histfunc\": \"sum\", \"hovertemplate\": \"TEAM=%{x}<br>sum of 2PA=%{y}<extra></extra>\", \"legendgroup\": \"Ind\", \"marker\": {\"color\": \"#EF553B\"}, \"name\": \"Ind\", \"offsetgroup\": \"Ind\", \"orientation\": \"v\", \"showlegend\": true, \"type\": \"histogram\", \"x\": [\"Ind\", \"Ind\", \"Ind\", \"Ind\", \"Ind\", \"Ind\", \"Ind\", \"Ind\", \"Ind\", \"Ind\", \"Ind\"], \"xaxis\": \"x\", \"y\": [41, 12, 5, 0, 8, 5, 23, 16, 4, 30, 49], \"yaxis\": \"y\"}, {\"alignmentgroup\": \"True\", \"bingroup\": \"x\", \"histfunc\": \"sum\", \"hovertemplate\": \"TEAM=%{x}<br>sum of 2PA=%{y}<extra></extra>\", \"legendgroup\": \"Bos\", \"marker\": {\"color\": \"#00cc96\"}, \"name\": \"Bos\", \"offsetgroup\": \"Bos\", \"orientation\": \"v\", \"showlegend\": true, \"type\": \"histogram\", \"x\": [\"Bos\", \"Bos\", \"Bos\", \"Bos\", \"Bos\", \"Bos\", \"Bos\", \"Bos\", \"Bos\", \"Bos\", \"Bos\", \"Bos\", \"Bos\", \"Bos\", \"Bos\", \"Bos\", \"Bos\"], \"xaxis\": \"x\", \"y\": [168, 0, 1, 0, 26, 41, 8, 5, 0, 75, 208, 91, 130, 33, 0, 30, 9], \"yaxis\": \"y\"}, {\"alignmentgroup\": \"True\", \"bingroup\": \"x\", \"histfunc\": \"sum\", \"hovertemplate\": \"TEAM=%{x}<br>sum of 2PA=%{y}<extra></extra>\", \"legendgroup\": \"Phi\", \"marker\": {\"color\": \"#ab63fa\"}, \"name\": \"Phi\", \"offsetgroup\": \"Phi\", \"orientation\": \"v\", \"showlegend\": true, \"type\": \"histogram\", \"x\": [\"Phi\", \"Phi\", \"Phi\", \"Phi\", \"Phi\", \"Phi\", \"Phi\", \"Phi\", \"Phi\", \"Phi\", \"Phi\", \"Phi\"], \"xaxis\": \"x\", \"y\": [33, 58, 46, 21, 1, 19, 4, 0, 0, 28, 3, 3], \"yaxis\": \"y\"}, {\"alignmentgroup\": \"True\", \"bingroup\": \"x\", \"histfunc\": \"sum\", \"hovertemplate\": \"TEAM=%{x}<br>sum of 2PA=%{y}<extra></extra>\", \"legendgroup\": \"Hou\", \"marker\": {\"color\": \"#FFA15A\"}, \"name\": \"Hou\", \"offsetgroup\": \"Hou\", \"orientation\": \"v\", \"showlegend\": true, \"type\": \"histogram\", \"x\": [\"Hou\", \"Hou\", \"Hou\", \"Hou\", \"Hou\", \"Hou\", \"Hou\", \"Hou\", \"Hou\", \"Hou\", \"Hou\", \"Hou\", \"Hou\"], \"xaxis\": \"x\", \"y\": [1, 2, 0, 27, 2, 86, 49, 111, 32, 4, 26, 21, 107], \"yaxis\": \"y\"}, {\"alignmentgroup\": \"True\", \"bingroup\": \"x\", \"histfunc\": \"sum\", \"hovertemplate\": \"TEAM=%{x}<br>sum of 2PA=%{y}<extra></extra>\", \"legendgroup\": \"Lal\", \"marker\": {\"color\": \"#19d3f3\"}, \"name\": \"Lal\", \"offsetgroup\": \"Lal\", \"orientation\": \"v\", \"showlegend\": true, \"type\": \"histogram\", \"x\": [\"Lal\", \"Lal\", \"Lal\", \"Lal\", \"Lal\", \"Lal\", \"Lal\", \"Lal\", \"Lal\", \"Lal\", \"Lal\", \"Lal\", \"Lal\", \"Lal\", \"Lal\"], \"xaxis\": \"x\", \"y\": [70, 52, 6, 299, 1, 55, 7, 55, 263, 96, 30, 29, 71, 4, 8], \"yaxis\": \"y\"}],                        {\"barmode\": \"relative\", \"legend\": {\"title\": {\"text\": \"TEAM\"}, \"tracegroupgap\": 0}, \"template\": {\"data\": {\"bar\": [{\"error_x\": {\"color\": \"#2a3f5f\"}, \"error_y\": {\"color\": \"#2a3f5f\"}, \"marker\": {\"line\": {\"color\": \"white\", \"width\": 0.5}}, \"type\": \"bar\"}], \"barpolar\": [{\"marker\": {\"line\": {\"color\": \"white\", \"width\": 0.5}}, \"type\": \"barpolar\"}], \"carpet\": [{\"aaxis\": {\"endlinecolor\": \"#2a3f5f\", \"gridcolor\": \"#C8D4E3\", \"linecolor\": \"#C8D4E3\", \"minorgridcolor\": \"#C8D4E3\", \"startlinecolor\": \"#2a3f5f\"}, \"baxis\": {\"endlinecolor\": \"#2a3f5f\", \"gridcolor\": \"#C8D4E3\", \"linecolor\": \"#C8D4E3\", \"minorgridcolor\": \"#C8D4E3\", \"startlinecolor\": \"#2a3f5f\"}, \"type\": \"carpet\"}], \"choropleth\": [{\"colorbar\": {\"outlinewidth\": 0, \"ticks\": \"\"}, \"type\": \"choropleth\"}], \"contour\": [{\"colorbar\": {\"outlinewidth\": 0, \"ticks\": \"\"}, \"colorscale\": [[0.0, \"#0d0887\"], [0.1111111111111111, \"#46039f\"], [0.2222222222222222, \"#7201a8\"], [0.3333333333333333, \"#9c179e\"], [0.4444444444444444, \"#bd3786\"], [0.5555555555555556, \"#d8576b\"], [0.6666666666666666, \"#ed7953\"], [0.7777777777777778, \"#fb9f3a\"], [0.8888888888888888, \"#fdca26\"], [1.0, \"#f0f921\"]], \"type\": \"contour\"}], \"contourcarpet\": [{\"colorbar\": {\"outlinewidth\": 0, \"ticks\": \"\"}, \"type\": \"contourcarpet\"}], \"heatmap\": [{\"colorbar\": {\"outlinewidth\": 0, \"ticks\": \"\"}, \"colorscale\": [[0.0, \"#0d0887\"], [0.1111111111111111, \"#46039f\"], [0.2222222222222222, \"#7201a8\"], [0.3333333333333333, \"#9c179e\"], [0.4444444444444444, \"#bd3786\"], [0.5555555555555556, \"#d8576b\"], [0.6666666666666666, \"#ed7953\"], [0.7777777777777778, \"#fb9f3a\"], [0.8888888888888888, \"#fdca26\"], [1.0, \"#f0f921\"]], \"type\": \"heatmap\"}], \"heatmapgl\": [{\"colorbar\": {\"outlinewidth\": 0, \"ticks\": \"\"}, \"colorscale\": [[0.0, \"#0d0887\"], [0.1111111111111111, \"#46039f\"], [0.2222222222222222, \"#7201a8\"], [0.3333333333333333, \"#9c179e\"], [0.4444444444444444, \"#bd3786\"], [0.5555555555555556, \"#d8576b\"], [0.6666666666666666, \"#ed7953\"], [0.7777777777777778, \"#fb9f3a\"], [0.8888888888888888, \"#fdca26\"], [1.0, \"#f0f921\"]], \"type\": \"heatmapgl\"}], \"histogram\": [{\"marker\": {\"colorbar\": {\"outlinewidth\": 0, \"ticks\": \"\"}}, \"type\": \"histogram\"}], \"histogram2d\": [{\"colorbar\": {\"outlinewidth\": 0, \"ticks\": \"\"}, \"colorscale\": [[0.0, \"#0d0887\"], [0.1111111111111111, \"#46039f\"], [0.2222222222222222, \"#7201a8\"], [0.3333333333333333, \"#9c179e\"], [0.4444444444444444, \"#bd3786\"], [0.5555555555555556, \"#d8576b\"], [0.6666666666666666, \"#ed7953\"], [0.7777777777777778, \"#fb9f3a\"], [0.8888888888888888, \"#fdca26\"], [1.0, \"#f0f921\"]], \"type\": \"histogram2d\"}], \"histogram2dcontour\": [{\"colorbar\": {\"outlinewidth\": 0, \"ticks\": \"\"}, \"colorscale\": [[0.0, \"#0d0887\"], [0.1111111111111111, \"#46039f\"], [0.2222222222222222, \"#7201a8\"], [0.3333333333333333, \"#9c179e\"], [0.4444444444444444, \"#bd3786\"], [0.5555555555555556, \"#d8576b\"], [0.6666666666666666, \"#ed7953\"], [0.7777777777777778, \"#fb9f3a\"], [0.8888888888888888, \"#fdca26\"], [1.0, \"#f0f921\"]], \"type\": \"histogram2dcontour\"}], \"mesh3d\": [{\"colorbar\": {\"outlinewidth\": 0, \"ticks\": \"\"}, \"type\": \"mesh3d\"}], \"parcoords\": [{\"line\": {\"colorbar\": {\"outlinewidth\": 0, \"ticks\": \"\"}}, \"type\": \"parcoords\"}], \"pie\": [{\"automargin\": true, \"type\": \"pie\"}], \"scatter\": [{\"marker\": {\"colorbar\": {\"outlinewidth\": 0, \"ticks\": \"\"}}, \"type\": \"scatter\"}], \"scatter3d\": [{\"line\": {\"colorbar\": {\"outlinewidth\": 0, \"ticks\": \"\"}}, \"marker\": {\"colorbar\": {\"outlinewidth\": 0, \"ticks\": \"\"}}, \"type\": \"scatter3d\"}], \"scattercarpet\": [{\"marker\": {\"colorbar\": {\"outlinewidth\": 0, \"ticks\": \"\"}}, \"type\": \"scattercarpet\"}], \"scattergeo\": [{\"marker\": {\"colorbar\": {\"outlinewidth\": 0, \"ticks\": \"\"}}, \"type\": \"scattergeo\"}], \"scattergl\": [{\"marker\": {\"colorbar\": {\"outlinewidth\": 0, \"ticks\": \"\"}}, \"type\": \"scattergl\"}], \"scattermapbox\": [{\"marker\": {\"colorbar\": {\"outlinewidth\": 0, \"ticks\": \"\"}}, \"type\": \"scattermapbox\"}], \"scatterpolar\": [{\"marker\": {\"colorbar\": {\"outlinewidth\": 0, \"ticks\": \"\"}}, \"type\": \"scatterpolar\"}], \"scatterpolargl\": [{\"marker\": {\"colorbar\": {\"outlinewidth\": 0, \"ticks\": \"\"}}, \"type\": \"scatterpolargl\"}], \"scatterternary\": [{\"marker\": {\"colorbar\": {\"outlinewidth\": 0, \"ticks\": \"\"}}, \"type\": \"scatterternary\"}], \"surface\": [{\"colorbar\": {\"outlinewidth\": 0, \"ticks\": \"\"}, \"colorscale\": [[0.0, \"#0d0887\"], [0.1111111111111111, \"#46039f\"], [0.2222222222222222, \"#7201a8\"], [0.3333333333333333, \"#9c179e\"], [0.4444444444444444, \"#bd3786\"], [0.5555555555555556, \"#d8576b\"], [0.6666666666666666, \"#ed7953\"], [0.7777777777777778, \"#fb9f3a\"], [0.8888888888888888, \"#fdca26\"], [1.0, \"#f0f921\"]], \"type\": \"surface\"}], \"table\": [{\"cells\": {\"fill\": {\"color\": \"#EBF0F8\"}, \"line\": {\"color\": \"white\"}}, \"header\": {\"fill\": {\"color\": \"#C8D4E3\"}, \"line\": {\"color\": \"white\"}}, \"type\": \"table\"}]}, \"layout\": {\"annotationdefaults\": {\"arrowcolor\": \"#2a3f5f\", \"arrowhead\": 0, \"arrowwidth\": 1}, \"autotypenumbers\": \"strict\", \"coloraxis\": {\"colorbar\": {\"outlinewidth\": 0, \"ticks\": \"\"}}, \"colorscale\": {\"diverging\": [[0, \"#8e0152\"], [0.1, \"#c51b7d\"], [0.2, \"#de77ae\"], [0.3, \"#f1b6da\"], [0.4, \"#fde0ef\"], [0.5, \"#f7f7f7\"], [0.6, \"#e6f5d0\"], [0.7, \"#b8e186\"], [0.8, \"#7fbc41\"], [0.9, \"#4d9221\"], [1, \"#276419\"]], \"sequential\": [[0.0, \"#0d0887\"], [0.1111111111111111, \"#46039f\"], [0.2222222222222222, \"#7201a8\"], [0.3333333333333333, \"#9c179e\"], [0.4444444444444444, \"#bd3786\"], [0.5555555555555556, \"#d8576b\"], [0.6666666666666666, \"#ed7953\"], [0.7777777777777778, \"#fb9f3a\"], [0.8888888888888888, \"#fdca26\"], [1.0, \"#f0f921\"]], \"sequentialminus\": [[0.0, \"#0d0887\"], [0.1111111111111111, \"#46039f\"], [0.2222222222222222, \"#7201a8\"], [0.3333333333333333, \"#9c179e\"], [0.4444444444444444, \"#bd3786\"], [0.5555555555555556, \"#d8576b\"], [0.6666666666666666, \"#ed7953\"], [0.7777777777777778, \"#fb9f3a\"], [0.8888888888888888, \"#fdca26\"], [1.0, \"#f0f921\"]]}, \"colorway\": [\"#636efa\", \"#EF553B\", \"#00cc96\", \"#ab63fa\", \"#FFA15A\", \"#19d3f3\", \"#FF6692\", \"#B6E880\", \"#FF97FF\", \"#FECB52\"], \"font\": {\"color\": \"#2a3f5f\"}, \"geo\": {\"bgcolor\": \"white\", \"lakecolor\": \"white\", \"landcolor\": \"white\", \"showlakes\": true, \"showland\": true, \"subunitcolor\": \"#C8D4E3\"}, \"hoverlabel\": {\"align\": \"left\"}, \"hovermode\": \"closest\", \"mapbox\": {\"style\": \"light\"}, \"paper_bgcolor\": \"white\", \"plot_bgcolor\": \"white\", \"polar\": {\"angularaxis\": {\"gridcolor\": \"#EBF0F8\", \"linecolor\": \"#EBF0F8\", \"ticks\": \"\"}, \"bgcolor\": \"white\", \"radialaxis\": {\"gridcolor\": \"#EBF0F8\", \"linecolor\": \"#EBF0F8\", \"ticks\": \"\"}}, \"scene\": {\"xaxis\": {\"backgroundcolor\": \"white\", \"gridcolor\": \"#DFE8F3\", \"gridwidth\": 2, \"linecolor\": \"#EBF0F8\", \"showbackground\": true, \"ticks\": \"\", \"zerolinecolor\": \"#EBF0F8\"}, \"yaxis\": {\"backgroundcolor\": \"white\", \"gridcolor\": \"#DFE8F3\", \"gridwidth\": 2, \"linecolor\": \"#EBF0F8\", \"showbackground\": true, \"ticks\": \"\", \"zerolinecolor\": \"#EBF0F8\"}, \"zaxis\": {\"backgroundcolor\": \"white\", \"gridcolor\": \"#DFE8F3\", \"gridwidth\": 2, \"linecolor\": \"#EBF0F8\", \"showbackground\": true, \"ticks\": \"\", \"zerolinecolor\": \"#EBF0F8\"}}, \"shapedefaults\": {\"line\": {\"color\": \"#2a3f5f\"}}, \"ternary\": {\"aaxis\": {\"gridcolor\": \"#DFE8F3\", \"linecolor\": \"#A2B1C6\", \"ticks\": \"\"}, \"baxis\": {\"gridcolor\": \"#DFE8F3\", \"linecolor\": \"#A2B1C6\", \"ticks\": \"\"}, \"bgcolor\": \"white\", \"caxis\": {\"gridcolor\": \"#DFE8F3\", \"linecolor\": \"#A2B1C6\", \"ticks\": \"\"}}, \"title\": {\"x\": 0.05}, \"xaxis\": {\"automargin\": true, \"gridcolor\": \"#EBF0F8\", \"linecolor\": \"#EBF0F8\", \"ticks\": \"\", \"title\": {\"standoff\": 15}, \"zerolinecolor\": \"#EBF0F8\", \"zerolinewidth\": 2}, \"yaxis\": {\"automargin\": true, \"gridcolor\": \"#EBF0F8\", \"linecolor\": \"#EBF0F8\", \"ticks\": \"\", \"title\": {\"standoff\": 15}, \"zerolinecolor\": \"#EBF0F8\", \"zerolinewidth\": 2}}}, \"title\": {\"text\": \"Two Points by a Team\"}, \"xaxis\": {\"anchor\": \"y\", \"categoryarray\": [\"Por\", \"Okc\", \"Mia\", \"Bro\", \"Mil\", \"Tor\", \"Orl\", \"Dal\", \"Den\", \"Lac\", \"Uta\", \"Ind\", \"Bos\", \"Phi\", \"Hou\", \"Lal\"], \"categoryorder\": \"array\", \"domain\": [0.0, 1.0], \"title\": {\"text\": \"TEAM\"}}, \"yaxis\": {\"anchor\": \"x\", \"domain\": [0.0, 1.0], \"title\": {\"text\": \"sum of 2PA\"}}},                        {\"responsive\": true}                    ).then(function(){\n",
              "                            \n",
              "var gd = document.getElementById('2eb8f8e9-480d-464f-8750-6f4139146b05');\n",
              "var x = new MutationObserver(function (mutations, observer) {{\n",
              "        var display = window.getComputedStyle(gd).display;\n",
              "        if (!display || display === 'none') {{\n",
              "            console.log([gd, 'removed!']);\n",
              "            Plotly.purge(gd);\n",
              "            observer.disconnect();\n",
              "        }}\n",
              "}});\n",
              "\n",
              "// Listen for the removal of the full notebook cells\n",
              "var notebookContainer = gd.closest('#notebook-container');\n",
              "if (notebookContainer) {{\n",
              "    x.observe(notebookContainer, {childList: true});\n",
              "}}\n",
              "\n",
              "// Listen for the clearing of the current output cell\n",
              "var outputEl = gd.closest('.output');\n",
              "if (outputEl) {{\n",
              "    x.observe(outputEl, {childList: true});\n",
              "}}\n",
              "\n",
              "                        })                };                            </script>        </div>\n",
              "</body>\n",
              "</html>"
            ]
          },
          "metadata": {
            "tags": []
          }
        }
      ]
    },
    {
      "cell_type": "code",
      "metadata": {
        "colab": {
          "base_uri": "https://localhost:8080/",
          "height": 542
        },
        "id": "0fINMCkLgWbU",
        "outputId": "477d289c-ce53-40cf-f377-1910b8292181"
      },
      "source": [
        "fig = px.bar(nba_20_copy, x=\"TEAM\", y=\"2PA\", color='3PA', title='2Points Vs. 3Poins By a Team')\r\n",
        "fig.show()"
      ],
      "execution_count": null,
      "outputs": [
        {
          "output_type": "display_data",
          "data": {
            "text/html": [
              "<html>\n",
              "<head><meta charset=\"utf-8\" /></head>\n",
              "<body>\n",
              "    <div>            <script src=\"https://cdnjs.cloudflare.com/ajax/libs/mathjax/2.7.5/MathJax.js?config=TeX-AMS-MML_SVG\"></script><script type=\"text/javascript\">if (window.MathJax) {MathJax.Hub.Config({SVG: {font: \"STIX-Web\"}});}</script>                <script type=\"text/javascript\">window.PlotlyConfig = {MathJaxConfig: 'local'};</script>\n",
              "        <script src=\"https://cdn.plot.ly/plotly-latest.min.js\"></script>                <div id=\"65c815df-8f9d-488f-ac67-1c5070bd8df6\" class=\"plotly-graph-div\" style=\"height:525px; width:100%;\"></div>            <script type=\"text/javascript\">                                    window.PLOTLYENV=window.PLOTLYENV || {};                                    if (document.getElementById(\"65c815df-8f9d-488f-ac67-1c5070bd8df6\")) {                    Plotly.newPlot(                        \"65c815df-8f9d-488f-ac67-1c5070bd8df6\",                        [{\"alignmentgroup\": \"True\", \"hovertemplate\": \"TEAM=%{x}<br>2PA=%{y}<br>3PA=%{marker.color}<extra></extra>\", \"legendgroup\": \"\", \"marker\": {\"color\": [4, 1, 1, 0, 11, 40, 19, 41, 18, 0, 0, 22, 22, 0, 32, 3, 5, 0, 3, 24, 120, 1, 17, 16, 0, 43, 1, 119, 0, 61, 16, 32, 49, 5, 0, 1, 34, 23, 4, 0, 68, 42, 161, 21, 6, 60, 19, 5, 21, 44, 50, 8, 107, 3, 0, 16, 16, 0, 10, 30, 35, 2, 16, 5, 37, 27, 111, 35, 0, 90, 95, 115, 23, 2, 54, 0, 54, 117, 5, 52, 12, 15, 24, 128, 7, 28, 6, 0, 9, 16, 1, 4, 5, 53, 2, 45, 39, 5, 40, 7, 3, 32, 119, 0, 1, 5, 28, 98, 9, 1, 9, 26, 6, 37, 8, 83, 2, 1, 73, 4, 21, 33, 53, 0, 72, 39, 2, 1, 5, 0, 43, 35, 0, 10, 2, 3, 36, 65, 1, 44, 25, 64, 10, 59, 69, 40, 3, 137, 6, 1, 5, 5, 29, 0, 1, 43, 11, 23, 33, 49, 22, 4, 0, 3, 43, 0, 1, 0, 89, 17, 52, 1, 28, 35, 1, 156, 50, 30, 0, 45, 2, 42, 53, 14, 123, 22, 3, 126, 36, 26, 2, 12, 4, 24, 67, 3, 14, 110, 0, 0, 44, 4, 126, 27, 19, 1, 0, 33, 1, 1, 0, 17, 51, 23, 2, 0], \"coloraxis\": \"coloraxis\"}, \"name\": \"\", \"offsetgroup\": \"\", \"orientation\": \"v\", \"showlegend\": false, \"textposition\": \"auto\", \"type\": \"bar\", \"x\": [\"Por\", \"Okc\", \"Mia\", \"Bro\", \"Bro\", \"Mil\", \"Por\", \"Tor\", \"Orl\", \"Dal\", \"Den\", \"Okc\", \"Lac\", \"Orl\", \"Mil\", \"Den\", \"Tor\", \"Uta\", \"Uta\", \"Ind\", \"Bos\", \"Mil\", \"Dal\", \"Phi\", \"Okc\", \"Mia\", \"Hou\", \"Lal\", \"Hou\", \"Lal\", \"Bro\", \"Orl\", \"Uta\", \"Hou\", \"Dal\", \"Lac\", \"Uta\", \"Mil\", \"Lal\", \"Den\", \"Hou\", \"Den\", \"Mia\", \"Dal\", \"Den\", \"Lal\", \"Tor\", \"Okc\", \"Mil\", \"Dal\", \"Okc\", \"Den\", \"Mia\", \"Lal\", \"Bos\", \"Phi\", \"Orl\", \"Bos\", \"Okc\", \"Dal\", \"Orl\", \"Hou\", \"Orl\", \"Por\", \"Okc\", \"Tor\", \"Lac\", \"Okc\", \"Uta\", \"Hou\", \"Den\", \"Lal\", \"Lac\", \"Bos\", \"Hou\", \"Bro\", \"Dal\", \"Hou\", \"Lac\", \"Den\", \"Bro\", \"Phi\", \"Bos\", \"Mia\", \"Por\", \"Mil\", \"Mia\", \"Por\", \"Ind\", \"Ind\", \"Tor\", \"Phi\", \"Lal\", \"Hou\", \"Lal\", \"Tor\", \"Mia\", \"Mil\", \"Uta\", \"Orl\", \"Dal\", \"Lac\", \"Lal\", \"Ind\", \"Orl\", \"Tor\", \"Bro\", \"Den\", \"Mia\", \"Bos\", \"Dal\", \"Dal\", \"Phi\", \"Mil\", \"Bro\", \"Lal\", \"Bos\", \"Orl\", \"Lac\", \"Mia\", \"Bro\", \"Por\", \"Mil\", \"Mil\", \"Tor\", \"Bro\", \"Lac\", \"Dal\", \"Bro\", \"Mil\", \"Mil\", \"Por\", \"Ind\", \"Ind\", \"Lal\", \"Lac\", \"Hou\", \"Mil\", \"Tor\", \"Den\", \"Phi\", \"Uta\", \"Uta\", \"Lac\", \"Lal\", \"Den\", \"Uta\", \"Den\", \"Bro\", \"Okc\", \"Okc\", \"Phi\", \"Uta\", \"Lac\", \"Okc\", \"Mia\", \"Por\", \"Bos\", \"Ind\", \"Mia\", \"Uta\", \"Uta\", \"Phi\", \"Lac\", \"Okc\", \"Phi\", \"Den\", \"Bos\", \"Den\", \"Dal\", \"Tor\", \"Dal\", \"Phi\", \"Hou\", \"Okc\", \"Mia\", \"Lal\", \"Orl\", \"Ind\", \"Okc\", \"Phi\", \"Lac\", \"Tor\", \"Por\", \"Bos\", \"Lal\", \"Ind\", \"Bos\", \"Bro\", \"Bos\", \"Bro\", \"Tor\", \"Phi\", \"Por\", \"Hou\", \"Uta\", \"Ind\", \"Tor\", \"Mia\", \"Den\", \"Orl\", \"Lal\", \"Bos\", \"Bos\", \"Ind\", \"Bos\", \"Tor\", \"Hou\", \"Por\", \"Bos\", \"Uta\", \"Bos\", \"Lac\", \"Mil\", \"Dal\", \"Lac\"], \"xaxis\": \"x\", \"y\": [5, 51, 219, 24, 1, 121, 49, 47, 29, 1, 5, 9, 17, 14, 66, 6, 6, 9, 2, 41, 168, 0, 42, 33, 0, 252, 1, 70, 2, 52, 8, 1, 48, 0, 5, 2, 30, 12, 6, 0, 27, 36, 40, 32, 6, 299, 10, 6, 30, 84, 26, 25, 161, 1, 0, 58, 19, 1, 1, 22, 22, 2, 44, 10, 42, 37, 110, 55, 74, 86, 80, 55, 32, 0, 49, 5, 41, 111, 77, 38, 11, 46, 26, 149, 15, 39, 3, 12, 12, 5, 9, 21, 7, 32, 55, 65, 26, 4, 14, 13, 3, 16, 263, 0, 1, 6, 18, 245, 8, 41, 5, 13, 1, 10, 12, 96, 8, 0, 195, 4, 52, 31, 61, 4, 76, 20, 3, 29, 9, 0, 14, 64, 8, 5, 30, 2, 4, 115, 2, 74, 19, 93, 2, 52, 29, 93, 11, 231, 5, 1, 2, 4, 15, 0, 16, 49, 46, 5, 23, 46, 10, 2, 0, 0, 69, 0, 38, 0, 75, 23, 52, 2, 28, 26, 0, 20, 71, 34, 16, 64, 3, 17, 129, 12, 75, 4, 4, 208, 13, 91, 3, 9, 3, 21, 21, 2, 30, 80, 0, 1, 67, 8, 130, 33, 49, 0, 2, 107, 23, 30, 0, 9, 95, 24, 8, 78], \"yaxis\": \"y\"}],                        {\"barmode\": \"relative\", \"coloraxis\": {\"colorbar\": {\"title\": {\"text\": \"3PA\"}}, \"colorscale\": [[0.0, \"#0d0887\"], [0.1111111111111111, \"#46039f\"], [0.2222222222222222, \"#7201a8\"], [0.3333333333333333, \"#9c179e\"], [0.4444444444444444, \"#bd3786\"], [0.5555555555555556, \"#d8576b\"], [0.6666666666666666, \"#ed7953\"], [0.7777777777777778, \"#fb9f3a\"], [0.8888888888888888, \"#fdca26\"], [1.0, \"#f0f921\"]]}, \"legend\": {\"tracegroupgap\": 0}, \"template\": {\"data\": {\"bar\": [{\"error_x\": {\"color\": \"#2a3f5f\"}, \"error_y\": {\"color\": \"#2a3f5f\"}, \"marker\": {\"line\": {\"color\": \"#E5ECF6\", \"width\": 0.5}}, \"type\": \"bar\"}], \"barpolar\": [{\"marker\": {\"line\": {\"color\": \"#E5ECF6\", \"width\": 0.5}}, \"type\": \"barpolar\"}], \"carpet\": [{\"aaxis\": {\"endlinecolor\": \"#2a3f5f\", \"gridcolor\": \"white\", \"linecolor\": \"white\", \"minorgridcolor\": \"white\", \"startlinecolor\": \"#2a3f5f\"}, \"baxis\": {\"endlinecolor\": \"#2a3f5f\", \"gridcolor\": \"white\", \"linecolor\": \"white\", \"minorgridcolor\": \"white\", \"startlinecolor\": \"#2a3f5f\"}, \"type\": \"carpet\"}], \"choropleth\": [{\"colorbar\": {\"outlinewidth\": 0, \"ticks\": \"\"}, \"type\": \"choropleth\"}], \"contour\": [{\"colorbar\": {\"outlinewidth\": 0, \"ticks\": \"\"}, \"colorscale\": [[0.0, \"#0d0887\"], [0.1111111111111111, \"#46039f\"], [0.2222222222222222, \"#7201a8\"], [0.3333333333333333, \"#9c179e\"], [0.4444444444444444, \"#bd3786\"], [0.5555555555555556, \"#d8576b\"], [0.6666666666666666, \"#ed7953\"], [0.7777777777777778, \"#fb9f3a\"], [0.8888888888888888, \"#fdca26\"], [1.0, \"#f0f921\"]], \"type\": \"contour\"}], \"contourcarpet\": [{\"colorbar\": {\"outlinewidth\": 0, \"ticks\": \"\"}, \"type\": \"contourcarpet\"}], \"heatmap\": [{\"colorbar\": {\"outlinewidth\": 0, \"ticks\": \"\"}, \"colorscale\": [[0.0, \"#0d0887\"], [0.1111111111111111, \"#46039f\"], [0.2222222222222222, \"#7201a8\"], [0.3333333333333333, \"#9c179e\"], [0.4444444444444444, \"#bd3786\"], [0.5555555555555556, \"#d8576b\"], [0.6666666666666666, \"#ed7953\"], [0.7777777777777778, \"#fb9f3a\"], [0.8888888888888888, \"#fdca26\"], [1.0, \"#f0f921\"]], \"type\": \"heatmap\"}], \"heatmapgl\": [{\"colorbar\": {\"outlinewidth\": 0, \"ticks\": \"\"}, \"colorscale\": [[0.0, \"#0d0887\"], [0.1111111111111111, \"#46039f\"], [0.2222222222222222, \"#7201a8\"], [0.3333333333333333, \"#9c179e\"], [0.4444444444444444, \"#bd3786\"], [0.5555555555555556, \"#d8576b\"], [0.6666666666666666, \"#ed7953\"], [0.7777777777777778, \"#fb9f3a\"], [0.8888888888888888, \"#fdca26\"], [1.0, \"#f0f921\"]], \"type\": \"heatmapgl\"}], \"histogram\": [{\"marker\": {\"colorbar\": {\"outlinewidth\": 0, \"ticks\": \"\"}}, \"type\": \"histogram\"}], \"histogram2d\": [{\"colorbar\": {\"outlinewidth\": 0, \"ticks\": \"\"}, \"colorscale\": [[0.0, \"#0d0887\"], [0.1111111111111111, \"#46039f\"], [0.2222222222222222, \"#7201a8\"], [0.3333333333333333, \"#9c179e\"], [0.4444444444444444, \"#bd3786\"], [0.5555555555555556, \"#d8576b\"], [0.6666666666666666, \"#ed7953\"], [0.7777777777777778, \"#fb9f3a\"], [0.8888888888888888, \"#fdca26\"], [1.0, \"#f0f921\"]], \"type\": \"histogram2d\"}], \"histogram2dcontour\": [{\"colorbar\": {\"outlinewidth\": 0, \"ticks\": \"\"}, \"colorscale\": [[0.0, \"#0d0887\"], [0.1111111111111111, \"#46039f\"], [0.2222222222222222, \"#7201a8\"], [0.3333333333333333, \"#9c179e\"], [0.4444444444444444, \"#bd3786\"], [0.5555555555555556, \"#d8576b\"], [0.6666666666666666, \"#ed7953\"], [0.7777777777777778, \"#fb9f3a\"], [0.8888888888888888, \"#fdca26\"], [1.0, \"#f0f921\"]], \"type\": \"histogram2dcontour\"}], \"mesh3d\": [{\"colorbar\": {\"outlinewidth\": 0, \"ticks\": \"\"}, \"type\": \"mesh3d\"}], \"parcoords\": [{\"line\": {\"colorbar\": {\"outlinewidth\": 0, \"ticks\": \"\"}}, \"type\": \"parcoords\"}], \"pie\": [{\"automargin\": true, \"type\": \"pie\"}], \"scatter\": [{\"marker\": {\"colorbar\": {\"outlinewidth\": 0, \"ticks\": \"\"}}, \"type\": \"scatter\"}], \"scatter3d\": [{\"line\": {\"colorbar\": {\"outlinewidth\": 0, \"ticks\": \"\"}}, \"marker\": {\"colorbar\": {\"outlinewidth\": 0, \"ticks\": \"\"}}, \"type\": \"scatter3d\"}], \"scattercarpet\": [{\"marker\": {\"colorbar\": {\"outlinewidth\": 0, \"ticks\": \"\"}}, \"type\": \"scattercarpet\"}], \"scattergeo\": [{\"marker\": {\"colorbar\": {\"outlinewidth\": 0, \"ticks\": \"\"}}, \"type\": \"scattergeo\"}], \"scattergl\": [{\"marker\": {\"colorbar\": {\"outlinewidth\": 0, \"ticks\": \"\"}}, \"type\": \"scattergl\"}], \"scattermapbox\": [{\"marker\": {\"colorbar\": {\"outlinewidth\": 0, \"ticks\": \"\"}}, \"type\": \"scattermapbox\"}], \"scatterpolar\": [{\"marker\": {\"colorbar\": {\"outlinewidth\": 0, \"ticks\": \"\"}}, \"type\": \"scatterpolar\"}], \"scatterpolargl\": [{\"marker\": {\"colorbar\": {\"outlinewidth\": 0, \"ticks\": \"\"}}, \"type\": \"scatterpolargl\"}], \"scatterternary\": [{\"marker\": {\"colorbar\": {\"outlinewidth\": 0, \"ticks\": \"\"}}, \"type\": \"scatterternary\"}], \"surface\": [{\"colorbar\": {\"outlinewidth\": 0, \"ticks\": \"\"}, \"colorscale\": [[0.0, \"#0d0887\"], [0.1111111111111111, \"#46039f\"], [0.2222222222222222, \"#7201a8\"], [0.3333333333333333, \"#9c179e\"], [0.4444444444444444, \"#bd3786\"], [0.5555555555555556, \"#d8576b\"], [0.6666666666666666, \"#ed7953\"], [0.7777777777777778, \"#fb9f3a\"], [0.8888888888888888, \"#fdca26\"], [1.0, \"#f0f921\"]], \"type\": \"surface\"}], \"table\": [{\"cells\": {\"fill\": {\"color\": \"#EBF0F8\"}, \"line\": {\"color\": \"white\"}}, \"header\": {\"fill\": {\"color\": \"#C8D4E3\"}, \"line\": {\"color\": \"white\"}}, \"type\": \"table\"}]}, \"layout\": {\"annotationdefaults\": {\"arrowcolor\": \"#2a3f5f\", \"arrowhead\": 0, \"arrowwidth\": 1}, \"autotypenumbers\": \"strict\", \"coloraxis\": {\"colorbar\": {\"outlinewidth\": 0, \"ticks\": \"\"}}, \"colorscale\": {\"diverging\": [[0, \"#8e0152\"], [0.1, \"#c51b7d\"], [0.2, \"#de77ae\"], [0.3, \"#f1b6da\"], [0.4, \"#fde0ef\"], [0.5, \"#f7f7f7\"], [0.6, \"#e6f5d0\"], [0.7, \"#b8e186\"], [0.8, \"#7fbc41\"], [0.9, \"#4d9221\"], [1, \"#276419\"]], \"sequential\": [[0.0, \"#0d0887\"], [0.1111111111111111, \"#46039f\"], [0.2222222222222222, \"#7201a8\"], [0.3333333333333333, \"#9c179e\"], [0.4444444444444444, \"#bd3786\"], [0.5555555555555556, \"#d8576b\"], [0.6666666666666666, \"#ed7953\"], [0.7777777777777778, \"#fb9f3a\"], [0.8888888888888888, \"#fdca26\"], [1.0, \"#f0f921\"]], \"sequentialminus\": [[0.0, \"#0d0887\"], [0.1111111111111111, \"#46039f\"], [0.2222222222222222, \"#7201a8\"], [0.3333333333333333, \"#9c179e\"], [0.4444444444444444, \"#bd3786\"], [0.5555555555555556, \"#d8576b\"], [0.6666666666666666, \"#ed7953\"], [0.7777777777777778, \"#fb9f3a\"], [0.8888888888888888, \"#fdca26\"], [1.0, \"#f0f921\"]]}, \"colorway\": [\"#636efa\", \"#EF553B\", \"#00cc96\", \"#ab63fa\", \"#FFA15A\", \"#19d3f3\", \"#FF6692\", \"#B6E880\", \"#FF97FF\", \"#FECB52\"], \"font\": {\"color\": \"#2a3f5f\"}, \"geo\": {\"bgcolor\": \"white\", \"lakecolor\": \"white\", \"landcolor\": \"#E5ECF6\", \"showlakes\": true, \"showland\": true, \"subunitcolor\": \"white\"}, \"hoverlabel\": {\"align\": \"left\"}, \"hovermode\": \"closest\", \"mapbox\": {\"style\": \"light\"}, \"paper_bgcolor\": \"white\", \"plot_bgcolor\": \"#E5ECF6\", \"polar\": {\"angularaxis\": {\"gridcolor\": \"white\", \"linecolor\": \"white\", \"ticks\": \"\"}, \"bgcolor\": \"#E5ECF6\", \"radialaxis\": {\"gridcolor\": \"white\", \"linecolor\": \"white\", \"ticks\": \"\"}}, \"scene\": {\"xaxis\": {\"backgroundcolor\": \"#E5ECF6\", \"gridcolor\": \"white\", \"gridwidth\": 2, \"linecolor\": \"white\", \"showbackground\": true, \"ticks\": \"\", \"zerolinecolor\": \"white\"}, \"yaxis\": {\"backgroundcolor\": \"#E5ECF6\", \"gridcolor\": \"white\", \"gridwidth\": 2, \"linecolor\": \"white\", \"showbackground\": true, \"ticks\": \"\", \"zerolinecolor\": \"white\"}, \"zaxis\": {\"backgroundcolor\": \"#E5ECF6\", \"gridcolor\": \"white\", \"gridwidth\": 2, \"linecolor\": \"white\", \"showbackground\": true, \"ticks\": \"\", \"zerolinecolor\": \"white\"}}, \"shapedefaults\": {\"line\": {\"color\": \"#2a3f5f\"}}, \"ternary\": {\"aaxis\": {\"gridcolor\": \"white\", \"linecolor\": \"white\", \"ticks\": \"\"}, \"baxis\": {\"gridcolor\": \"white\", \"linecolor\": \"white\", \"ticks\": \"\"}, \"bgcolor\": \"#E5ECF6\", \"caxis\": {\"gridcolor\": \"white\", \"linecolor\": \"white\", \"ticks\": \"\"}}, \"title\": {\"x\": 0.05}, \"xaxis\": {\"automargin\": true, \"gridcolor\": \"white\", \"linecolor\": \"white\", \"ticks\": \"\", \"title\": {\"standoff\": 15}, \"zerolinecolor\": \"white\", \"zerolinewidth\": 2}, \"yaxis\": {\"automargin\": true, \"gridcolor\": \"white\", \"linecolor\": \"white\", \"ticks\": \"\", \"title\": {\"standoff\": 15}, \"zerolinecolor\": \"white\", \"zerolinewidth\": 2}}}, \"title\": {\"text\": \"2Points Vs. 3Poins By a Team\"}, \"xaxis\": {\"anchor\": \"y\", \"domain\": [0.0, 1.0], \"title\": {\"text\": \"TEAM\"}}, \"yaxis\": {\"anchor\": \"x\", \"domain\": [0.0, 1.0], \"title\": {\"text\": \"2PA\"}}},                        {\"responsive\": true}                    ).then(function(){\n",
              "                            \n",
              "var gd = document.getElementById('65c815df-8f9d-488f-ac67-1c5070bd8df6');\n",
              "var x = new MutationObserver(function (mutations, observer) {{\n",
              "        var display = window.getComputedStyle(gd).display;\n",
              "        if (!display || display === 'none') {{\n",
              "            console.log([gd, 'removed!']);\n",
              "            Plotly.purge(gd);\n",
              "            observer.disconnect();\n",
              "        }}\n",
              "}});\n",
              "\n",
              "// Listen for the removal of the full notebook cells\n",
              "var notebookContainer = gd.closest('#notebook-container');\n",
              "if (notebookContainer) {{\n",
              "    x.observe(notebookContainer, {childList: true});\n",
              "}}\n",
              "\n",
              "// Listen for the clearing of the current output cell\n",
              "var outputEl = gd.closest('.output');\n",
              "if (outputEl) {{\n",
              "    x.observe(outputEl, {childList: true});\n",
              "}}\n",
              "\n",
              "                        })                };                            </script>        </div>\n",
              "</body>\n",
              "</html>"
            ]
          },
          "metadata": {
            "tags": []
          }
        }
      ]
    },
    {
      "cell_type": "code",
      "metadata": {
        "id": "1t5REIkzfTqX",
        "colab": {
          "base_uri": "https://localhost:8080/"
        },
        "outputId": "ae1aa490-ce17-45d3-ac39-94865ad8f9b6"
      },
      "source": [
        "nba_20_copy.groupby('FULL_NAME')['2PA'].value_counts()"
      ],
      "execution_count": null,
      "outputs": [
        {
          "output_type": "execute_result",
          "data": {
            "text/plain": [
              "FULL_NAME        2PA\n",
              "Aaron Holiday    12     1\n",
              "Abdel Nader      2      1\n",
              "Al Horford       21     1\n",
              "Alec Burks       33     1\n",
              "Alex Caruso      52     1\n",
              "                       ..\n",
              "Victor Oladipo   23     1\n",
              "Vincent Poirier  0      1\n",
              "Wenyen Gabriel   10     1\n",
              "Wes Iwundu       13     1\n",
              "Wesley Matthews  14     1\n",
              "Name: 2PA, Length: 216, dtype: int64"
            ]
          },
          "metadata": {
            "tags": []
          },
          "execution_count": 29
        }
      ]
    },
    {
      "cell_type": "code",
      "metadata": {
        "id": "RIwQ21ovxbq9"
      },
      "source": [
        "nba_20_copy.groupby('FULL_NAME')[['2PA', '3PA']].sum()"
      ],
      "execution_count": null,
      "outputs": []
    },
    {
      "cell_type": "markdown",
      "metadata": {
        "id": "H4Y0qRoivO84"
      },
      "source": [
        "## Need to rename several columns for analysis"
      ]
    },
    {
      "cell_type": "code",
      "metadata": {
        "id": "nTNHfr6yf7Rs",
        "colab": {
          "base_uri": "https://localhost:8080/",
          "height": 481
        },
        "outputId": "9df57a20-524c-4065-c4bd-f6e50e6ae34c"
      },
      "source": [
        "pd.pivot_table(nba_20_copy, index = ['TEAM', 'FULL_NAME'],  values=['2PA', '3PA'], aggfunc=['sum'])"
      ],
      "execution_count": null,
      "outputs": [
        {
          "output_type": "execute_result",
          "data": {
            "text/html": [
              "<div>\n",
              "<style scoped>\n",
              "    .dataframe tbody tr th:only-of-type {\n",
              "        vertical-align: middle;\n",
              "    }\n",
              "\n",
              "    .dataframe tbody tr th {\n",
              "        vertical-align: top;\n",
              "    }\n",
              "\n",
              "    .dataframe thead tr th {\n",
              "        text-align: left;\n",
              "    }\n",
              "\n",
              "    .dataframe thead tr:last-of-type th {\n",
              "        text-align: right;\n",
              "    }\n",
              "</style>\n",
              "<table border=\"1\" class=\"dataframe\">\n",
              "  <thead>\n",
              "    <tr>\n",
              "      <th></th>\n",
              "      <th></th>\n",
              "      <th colspan=\"2\" halign=\"left\">sum</th>\n",
              "    </tr>\n",
              "    <tr>\n",
              "      <th></th>\n",
              "      <th></th>\n",
              "      <th>2PA</th>\n",
              "      <th>3PA</th>\n",
              "    </tr>\n",
              "    <tr>\n",
              "      <th>TEAM</th>\n",
              "      <th>FULL_NAME</th>\n",
              "      <th></th>\n",
              "      <th></th>\n",
              "    </tr>\n",
              "  </thead>\n",
              "  <tbody>\n",
              "    <tr>\n",
              "      <th rowspan=\"5\" valign=\"top\">Bos</th>\n",
              "      <th>Brad Wanamaker</th>\n",
              "      <td>33</td>\n",
              "      <td>27</td>\n",
              "    </tr>\n",
              "    <tr>\n",
              "      <th>Carsen Edwards</th>\n",
              "      <td>0</td>\n",
              "      <td>0</td>\n",
              "    </tr>\n",
              "    <tr>\n",
              "      <th>Daniel Theis</th>\n",
              "      <td>91</td>\n",
              "      <td>26</td>\n",
              "    </tr>\n",
              "    <tr>\n",
              "      <th>Enes Kanter</th>\n",
              "      <td>41</td>\n",
              "      <td>1</td>\n",
              "    </tr>\n",
              "    <tr>\n",
              "      <th>Gordon Hayward</th>\n",
              "      <td>26</td>\n",
              "      <td>24</td>\n",
              "    </tr>\n",
              "    <tr>\n",
              "      <th>...</th>\n",
              "      <th>...</th>\n",
              "      <td>...</td>\n",
              "      <td>...</td>\n",
              "    </tr>\n",
              "    <tr>\n",
              "      <th rowspan=\"5\" valign=\"top\">Uta</th>\n",
              "      <th>Nigel Williams-Goss</th>\n",
              "      <td>0</td>\n",
              "      <td>0</td>\n",
              "    </tr>\n",
              "    <tr>\n",
              "      <th>Rayjon Tucker</th>\n",
              "      <td>2</td>\n",
              "      <td>3</td>\n",
              "    </tr>\n",
              "    <tr>\n",
              "      <th>Royce O'Neale</th>\n",
              "      <td>10</td>\n",
              "      <td>22</td>\n",
              "    </tr>\n",
              "    <tr>\n",
              "      <th>Rudy Gobert</th>\n",
              "      <td>74</td>\n",
              "      <td>0</td>\n",
              "    </tr>\n",
              "    <tr>\n",
              "      <th>Tony Bradley</th>\n",
              "      <td>9</td>\n",
              "      <td>0</td>\n",
              "    </tr>\n",
              "  </tbody>\n",
              "</table>\n",
              "<p>216 rows × 2 columns</p>\n",
              "</div>"
            ],
            "text/plain": [
              "                         sum    \n",
              "                         2PA 3PA\n",
              "TEAM FULL_NAME                  \n",
              "Bos  Brad Wanamaker       33  27\n",
              "     Carsen Edwards        0   0\n",
              "     Daniel Theis         91  26\n",
              "     Enes Kanter          41   1\n",
              "     Gordon Hayward       26  24\n",
              "...                       ..  ..\n",
              "Uta  Nigel Williams-Goss   0   0\n",
              "     Rayjon Tucker         2   3\n",
              "     Royce O'Neale        10  22\n",
              "     Rudy Gobert          74   0\n",
              "     Tony Bradley          9   0\n",
              "\n",
              "[216 rows x 2 columns]"
            ]
          },
          "metadata": {
            "tags": []
          },
          "execution_count": 32
        }
      ]
    },
    {
      "cell_type": "code",
      "metadata": {
        "colab": {
          "base_uri": "https://localhost:8080/",
          "height": 481
        },
        "id": "y2NxIAWJ1Tmr",
        "outputId": "0f555182-c217-411c-d9a0-96cbe3b8a7fb"
      },
      "source": [
        "pd.pivot_table(nba_20_copy, index = ['TEAM', 'FULL_NAME'],  values=['2PA', '3PA'], aggfunc=['count', 'max'])"
      ],
      "execution_count": null,
      "outputs": [
        {
          "output_type": "execute_result",
          "data": {
            "text/html": [
              "<div>\n",
              "<style scoped>\n",
              "    .dataframe tbody tr th:only-of-type {\n",
              "        vertical-align: middle;\n",
              "    }\n",
              "\n",
              "    .dataframe tbody tr th {\n",
              "        vertical-align: top;\n",
              "    }\n",
              "\n",
              "    .dataframe thead tr th {\n",
              "        text-align: left;\n",
              "    }\n",
              "\n",
              "    .dataframe thead tr:last-of-type th {\n",
              "        text-align: right;\n",
              "    }\n",
              "</style>\n",
              "<table border=\"1\" class=\"dataframe\">\n",
              "  <thead>\n",
              "    <tr>\n",
              "      <th></th>\n",
              "      <th></th>\n",
              "      <th colspan=\"2\" halign=\"left\">count</th>\n",
              "      <th colspan=\"2\" halign=\"left\">max</th>\n",
              "    </tr>\n",
              "    <tr>\n",
              "      <th></th>\n",
              "      <th></th>\n",
              "      <th>2PA</th>\n",
              "      <th>3PA</th>\n",
              "      <th>2PA</th>\n",
              "      <th>3PA</th>\n",
              "    </tr>\n",
              "    <tr>\n",
              "      <th>TEAM</th>\n",
              "      <th>FULL_NAME</th>\n",
              "      <th></th>\n",
              "      <th></th>\n",
              "      <th></th>\n",
              "      <th></th>\n",
              "    </tr>\n",
              "  </thead>\n",
              "  <tbody>\n",
              "    <tr>\n",
              "      <th rowspan=\"5\" valign=\"top\">Bos</th>\n",
              "      <th>Brad Wanamaker</th>\n",
              "      <td>1</td>\n",
              "      <td>1</td>\n",
              "      <td>33</td>\n",
              "      <td>27</td>\n",
              "    </tr>\n",
              "    <tr>\n",
              "      <th>Carsen Edwards</th>\n",
              "      <td>1</td>\n",
              "      <td>1</td>\n",
              "      <td>0</td>\n",
              "      <td>0</td>\n",
              "    </tr>\n",
              "    <tr>\n",
              "      <th>Daniel Theis</th>\n",
              "      <td>1</td>\n",
              "      <td>1</td>\n",
              "      <td>91</td>\n",
              "      <td>26</td>\n",
              "    </tr>\n",
              "    <tr>\n",
              "      <th>Enes Kanter</th>\n",
              "      <td>1</td>\n",
              "      <td>1</td>\n",
              "      <td>41</td>\n",
              "      <td>1</td>\n",
              "    </tr>\n",
              "    <tr>\n",
              "      <th>Gordon Hayward</th>\n",
              "      <td>1</td>\n",
              "      <td>1</td>\n",
              "      <td>26</td>\n",
              "      <td>24</td>\n",
              "    </tr>\n",
              "    <tr>\n",
              "      <th>...</th>\n",
              "      <th>...</th>\n",
              "      <td>...</td>\n",
              "      <td>...</td>\n",
              "      <td>...</td>\n",
              "      <td>...</td>\n",
              "    </tr>\n",
              "    <tr>\n",
              "      <th rowspan=\"5\" valign=\"top\">Uta</th>\n",
              "      <th>Nigel Williams-Goss</th>\n",
              "      <td>1</td>\n",
              "      <td>1</td>\n",
              "      <td>0</td>\n",
              "      <td>0</td>\n",
              "    </tr>\n",
              "    <tr>\n",
              "      <th>Rayjon Tucker</th>\n",
              "      <td>1</td>\n",
              "      <td>1</td>\n",
              "      <td>2</td>\n",
              "      <td>3</td>\n",
              "    </tr>\n",
              "    <tr>\n",
              "      <th>Royce O'Neale</th>\n",
              "      <td>1</td>\n",
              "      <td>1</td>\n",
              "      <td>10</td>\n",
              "      <td>22</td>\n",
              "    </tr>\n",
              "    <tr>\n",
              "      <th>Rudy Gobert</th>\n",
              "      <td>1</td>\n",
              "      <td>1</td>\n",
              "      <td>74</td>\n",
              "      <td>0</td>\n",
              "    </tr>\n",
              "    <tr>\n",
              "      <th>Tony Bradley</th>\n",
              "      <td>1</td>\n",
              "      <td>1</td>\n",
              "      <td>9</td>\n",
              "      <td>0</td>\n",
              "    </tr>\n",
              "  </tbody>\n",
              "</table>\n",
              "<p>216 rows × 4 columns</p>\n",
              "</div>"
            ],
            "text/plain": [
              "                         count     max    \n",
              "                           2PA 3PA 2PA 3PA\n",
              "TEAM FULL_NAME                            \n",
              "Bos  Brad Wanamaker          1   1  33  27\n",
              "     Carsen Edwards          1   1   0   0\n",
              "     Daniel Theis            1   1  91  26\n",
              "     Enes Kanter             1   1  41   1\n",
              "     Gordon Hayward          1   1  26  24\n",
              "...                        ...  ..  ..  ..\n",
              "Uta  Nigel Williams-Goss     1   1   0   0\n",
              "     Rayjon Tucker           1   1   2   3\n",
              "     Royce O'Neale           1   1  10  22\n",
              "     Rudy Gobert             1   1  74   0\n",
              "     Tony Bradley            1   1   9   0\n",
              "\n",
              "[216 rows x 4 columns]"
            ]
          },
          "metadata": {
            "tags": []
          },
          "execution_count": 33
        }
      ]
    },
    {
      "cell_type": "markdown",
      "metadata": {
        "id": "LmdLfzg1DVAZ"
      },
      "source": [
        "#sorted 2pt and 3pt by a player (descending)"
      ]
    },
    {
      "cell_type": "code",
      "metadata": {
        "colab": {
          "base_uri": "https://localhost:8080/",
          "height": 360
        },
        "id": "jfQS3-6P1ajH",
        "outputId": "a2edaa3b-3b56-44d8-b860-158b5f02cec7"
      },
      "source": [
        "nba_20_copy.sort_values(by=['two_pa', 'three_pa'], ascending=False).head(5)"
      ],
      "execution_count": null,
      "outputs": [
        {
          "output_type": "execute_result",
          "data": {
            "text/html": [
              "<div>\n",
              "<style scoped>\n",
              "    .dataframe tbody tr th:only-of-type {\n",
              "        vertical-align: middle;\n",
              "    }\n",
              "\n",
              "    .dataframe tbody tr th {\n",
              "        vertical-align: top;\n",
              "    }\n",
              "\n",
              "    .dataframe thead th {\n",
              "        text-align: right;\n",
              "    }\n",
              "</style>\n",
              "<table border=\"1\" class=\"dataframe\">\n",
              "  <thead>\n",
              "    <tr style=\"text-align: right;\">\n",
              "      <th></th>\n",
              "      <th>RANK</th>\n",
              "      <th>FULL_NAME</th>\n",
              "      <th>TEAM</th>\n",
              "      <th>POS</th>\n",
              "      <th>AGE</th>\n",
              "      <th>GP</th>\n",
              "      <th>MPG</th>\n",
              "      <th>MIN%Minutes_PercentagePercentage_of_team_minutes_used_by_a_player_while_he_was_on_the_floor</th>\n",
              "      <th>USG%Usage_RateUsage_rate,_a.k.a.,_usage_percentage_is_an_estimate_of_the_percentage_of_team_plays_used_by_a_player_while_he_was_on_the_floor</th>\n",
              "      <th>TO%Turnover_RateA_metric_that_estimates_the_number_of_turnovers_a_player_commits_per_100_possessions</th>\n",
              "      <th>FTA</th>\n",
              "      <th>FT%</th>\n",
              "      <th>two_pa</th>\n",
              "      <th>2P%</th>\n",
              "      <th>three_pa</th>\n",
              "      <th>3P%</th>\n",
              "      <th>eFG%Effective_Shooting_PercentageWith_eFG%,_three-point_shots_made_are_worth_50%_more_than_two-point_shots_made._eFG%_Formula=(FGM+_(0.5_x_3PM))/FGA</th>\n",
              "      <th>TS%True_Shooting_PercentageTrue_shooting_percentage_is_a_measure_of_shooting_efficiency_that_takes_into_account_field_goals,_3-point_field_goals,_and_free_throws.</th>\n",
              "      <th>PPGPointsPoints_per_game.</th>\n",
              "      <th>RPGReboundsRebounds_per_game.</th>\n",
              "      <th>TRB%Total_Rebound_PercentageTotal_rebound_percentage_is_estimated_percentage_of_available_rebounds_grabbed_by_the_player_while_the_player_is_on_the_court.</th>\n",
              "      <th>APGAssistsAssists_per_game.</th>\n",
              "      <th>AST%Assist_PercentageAssist_percentage_is_an_estimated_percentage_of_teammate_field_goals_a_player_assisted_while_the_player_is_on_the_court</th>\n",
              "      <th>SPGStealsSteals_per_game.</th>\n",
              "      <th>BPGBlocksBlocks_per_game.</th>\n",
              "      <th>TOPGTurnoversTurnovers_per_game.</th>\n",
              "      <th>VIVersatility_IndexVersatility_index_is_a_metric_that_measures_a_player’s_ability_to_produce_in_points,_assists,_and_rebounds._The_average_player_will_score_around_a_five_on_the_index,_while_top_players_score_above_10</th>\n",
              "      <th>ORTGOffensive_RatingIndividual_offensive_rating_is_the_number_of_points_produced_by_a_player_per_100_total_individual_possessions.</th>\n",
              "      <th>DRTGDefensive_RatingIndividual_defensive_rating_estimates_how_many_points_the_player_allowed_per_100_possessions_he_individually_faced_while_staying_on_the_court.</th>\n",
              "    </tr>\n",
              "  </thead>\n",
              "  <tbody>\n",
              "    <tr>\n",
              "      <th>45</th>\n",
              "      <td>NaN</td>\n",
              "      <td>Anthony Davis</td>\n",
              "      <td>Lal</td>\n",
              "      <td>F-C</td>\n",
              "      <td>27.59</td>\n",
              "      <td>21</td>\n",
              "      <td>36.6</td>\n",
              "      <td>76.3</td>\n",
              "      <td>27.8</td>\n",
              "      <td>10.8</td>\n",
              "      <td>179</td>\n",
              "      <td>0.832</td>\n",
              "      <td>299</td>\n",
              "      <td>0.609</td>\n",
              "      <td>60</td>\n",
              "      <td>0.383</td>\n",
              "      <td>0.603</td>\n",
              "      <td>0.665</td>\n",
              "      <td>27.7</td>\n",
              "      <td>9.7</td>\n",
              "      <td>15.6</td>\n",
              "      <td>3.5</td>\n",
              "      <td>16.1</td>\n",
              "      <td>1.24</td>\n",
              "      <td>1.43</td>\n",
              "      <td>2.52</td>\n",
              "      <td>10.7</td>\n",
              "      <td>127.8</td>\n",
              "      <td>102.0</td>\n",
              "    </tr>\n",
              "    <tr>\n",
              "      <th>102</th>\n",
              "      <td>NaN</td>\n",
              "      <td>LeBron James</td>\n",
              "      <td>Lal</td>\n",
              "      <td>F</td>\n",
              "      <td>35.78</td>\n",
              "      <td>21</td>\n",
              "      <td>36.3</td>\n",
              "      <td>75.6</td>\n",
              "      <td>30.4</td>\n",
              "      <td>15.8</td>\n",
              "      <td>150</td>\n",
              "      <td>0.720</td>\n",
              "      <td>263</td>\n",
              "      <td>0.646</td>\n",
              "      <td>119</td>\n",
              "      <td>0.370</td>\n",
              "      <td>0.618</td>\n",
              "      <td>0.647</td>\n",
              "      <td>27.6</td>\n",
              "      <td>10.8</td>\n",
              "      <td>17.5</td>\n",
              "      <td>8.8</td>\n",
              "      <td>42.1</td>\n",
              "      <td>1.19</td>\n",
              "      <td>0.86</td>\n",
              "      <td>4.00</td>\n",
              "      <td>15.2</td>\n",
              "      <td>122.3</td>\n",
              "      <td>102.5</td>\n",
              "    </tr>\n",
              "    <tr>\n",
              "      <th>25</th>\n",
              "      <td>NaN</td>\n",
              "      <td>Jimmy Butler</td>\n",
              "      <td>Mia</td>\n",
              "      <td>F</td>\n",
              "      <td>31.08</td>\n",
              "      <td>21</td>\n",
              "      <td>38.4</td>\n",
              "      <td>80.0</td>\n",
              "      <td>24.6</td>\n",
              "      <td>13.5</td>\n",
              "      <td>191</td>\n",
              "      <td>0.859</td>\n",
              "      <td>252</td>\n",
              "      <td>0.512</td>\n",
              "      <td>43</td>\n",
              "      <td>0.349</td>\n",
              "      <td>0.514</td>\n",
              "      <td>0.616</td>\n",
              "      <td>22.2</td>\n",
              "      <td>6.5</td>\n",
              "      <td>9.7</td>\n",
              "      <td>6.0</td>\n",
              "      <td>26.3</td>\n",
              "      <td>1.95</td>\n",
              "      <td>0.67</td>\n",
              "      <td>2.81</td>\n",
              "      <td>9.9</td>\n",
              "      <td>123.1</td>\n",
              "      <td>107.8</td>\n",
              "    </tr>\n",
              "    <tr>\n",
              "      <th>107</th>\n",
              "      <td>NaN</td>\n",
              "      <td>Nikola Jokic</td>\n",
              "      <td>Den</td>\n",
              "      <td>C</td>\n",
              "      <td>25.64</td>\n",
              "      <td>19</td>\n",
              "      <td>36.5</td>\n",
              "      <td>76.1</td>\n",
              "      <td>28.9</td>\n",
              "      <td>14.1</td>\n",
              "      <td>79</td>\n",
              "      <td>0.835</td>\n",
              "      <td>245</td>\n",
              "      <td>0.555</td>\n",
              "      <td>98</td>\n",
              "      <td>0.429</td>\n",
              "      <td>0.580</td>\n",
              "      <td>0.614</td>\n",
              "      <td>24.4</td>\n",
              "      <td>9.8</td>\n",
              "      <td>16.0</td>\n",
              "      <td>5.7</td>\n",
              "      <td>28.6</td>\n",
              "      <td>1.05</td>\n",
              "      <td>0.79</td>\n",
              "      <td>3.26</td>\n",
              "      <td>12.2</td>\n",
              "      <td>116.4</td>\n",
              "      <td>102.9</td>\n",
              "    </tr>\n",
              "    <tr>\n",
              "      <th>147</th>\n",
              "      <td>NaN</td>\n",
              "      <td>Jamal Murray</td>\n",
              "      <td>Den</td>\n",
              "      <td>G</td>\n",
              "      <td>23.63</td>\n",
              "      <td>19</td>\n",
              "      <td>39.6</td>\n",
              "      <td>82.6</td>\n",
              "      <td>27.6</td>\n",
              "      <td>11.6</td>\n",
              "      <td>78</td>\n",
              "      <td>0.897</td>\n",
              "      <td>231</td>\n",
              "      <td>0.537</td>\n",
              "      <td>137</td>\n",
              "      <td>0.453</td>\n",
              "      <td>0.590</td>\n",
              "      <td>0.626</td>\n",
              "      <td>26.5</td>\n",
              "      <td>4.8</td>\n",
              "      <td>7.3</td>\n",
              "      <td>6.6</td>\n",
              "      <td>30.0</td>\n",
              "      <td>0.95</td>\n",
              "      <td>0.32</td>\n",
              "      <td>2.79</td>\n",
              "      <td>9.5</td>\n",
              "      <td>121.5</td>\n",
              "      <td>111.7</td>\n",
              "    </tr>\n",
              "  </tbody>\n",
              "</table>\n",
              "</div>"
            ],
            "text/plain": [
              "     RANK  ... DRTGDefensive_RatingIndividual_defensive_rating_estimates_how_many_points_the_player_allowed_per_100_possessions_he_individually_faced_while_staying_on_the_court.\n",
              "45    NaN  ...                                              102.0                                                                                                                \n",
              "102   NaN  ...                                              102.5                                                                                                                \n",
              "25    NaN  ...                                              107.8                                                                                                                \n",
              "107   NaN  ...                                              102.9                                                                                                                \n",
              "147   NaN  ...                                              111.7                                                                                                                \n",
              "\n",
              "[5 rows x 29 columns]"
            ]
          },
          "metadata": {
            "tags": []
          },
          "execution_count": 82
        }
      ]
    },
    {
      "cell_type": "code",
      "metadata": {
        "colab": {
          "base_uri": "https://localhost:8080/"
        },
        "id": "VnJKzNdU2YVj",
        "outputId": "7483966a-69b8-42c3-c573-c05d6ecf153e"
      },
      "source": [
        "nba_20_copy['2PA'].max()"
      ],
      "execution_count": null,
      "outputs": [
        {
          "output_type": "execute_result",
          "data": {
            "text/plain": [
              "299"
            ]
          },
          "metadata": {
            "tags": []
          },
          "execution_count": 36
        }
      ]
    },
    {
      "cell_type": "code",
      "metadata": {
        "id": "s5lyDXI9_RO-"
      },
      "source": [
        "#nba_20_copy.loc[nba_20_copy.2PA== 299] #not working bc of 3PA. change the column name"
      ],
      "execution_count": null,
      "outputs": []
    },
    {
      "cell_type": "markdown",
      "metadata": {
        "id": "obOfcQIADnS2"
      },
      "source": [
        "#You must install upgrade plotly and restart the kernal"
      ]
    },
    {
      "cell_type": "code",
      "metadata": {
        "id": "DH4McPCtEzTc",
        "colab": {
          "base_uri": "https://localhost:8080/"
        },
        "outputId": "b611d797-473e-4573-a294-56ff29294f2a"
      },
      "source": [
        "!pip install --upgrade plotly"
      ],
      "execution_count": null,
      "outputs": [
        {
          "output_type": "stream",
          "text": [
            "Requirement already up-to-date: plotly in /usr/local/lib/python3.6/dist-packages (4.14.3)\n",
            "Requirement already satisfied, skipping upgrade: retrying>=1.3.3 in /usr/local/lib/python3.6/dist-packages (from plotly) (1.3.3)\n",
            "Requirement already satisfied, skipping upgrade: six in /usr/local/lib/python3.6/dist-packages (from plotly) (1.15.0)\n"
          ],
          "name": "stdout"
        }
      ]
    },
    {
      "cell_type": "code",
      "metadata": {
        "colab": {
          "base_uri": "https://localhost:8080/",
          "height": 542
        },
        "id": "4hUw5yS9AHOn",
        "outputId": "691a275f-37e0-4206-9ee5-cf5dcb92c1bd"
      },
      "source": [
        "import plotly.express as px\r\n",
        "\r\n",
        "fig = px.sunburst(nba_20_copy, path=['TEAM', 'FULL_NAME', '2PA', '3PA'], values='3PA')\r\n",
        "fig.show()"
      ],
      "execution_count": null,
      "outputs": [
        {
          "output_type": "display_data",
          "data": {
            "text/html": [
              "<html>\n",
              "<head><meta charset=\"utf-8\" /></head>\n",
              "<body>\n",
              "    <div>            <script src=\"https://cdnjs.cloudflare.com/ajax/libs/mathjax/2.7.5/MathJax.js?config=TeX-AMS-MML_SVG\"></script><script type=\"text/javascript\">if (window.MathJax) {MathJax.Hub.Config({SVG: {font: \"STIX-Web\"}});}</script>                <script type=\"text/javascript\">window.PlotlyConfig = {MathJaxConfig: 'local'};</script>\n",
              "        <script src=\"https://cdn.plot.ly/plotly-latest.min.js\"></script>                <div id=\"4a79545b-e2c5-4b7e-ad1e-70d725e36157\" class=\"plotly-graph-div\" style=\"height:525px; width:100%;\"></div>            <script type=\"text/javascript\">                                    window.PLOTLYENV=window.PLOTLYENV || {};                                    if (document.getElementById(\"4a79545b-e2c5-4b7e-ad1e-70d725e36157\")) {                    Plotly.newPlot(                        \"4a79545b-e2c5-4b7e-ad1e-70d725e36157\",                        [{\"branchvalues\": \"total\", \"domain\": {\"x\": [0.0, 1.0], \"y\": [0.0, 1.0]}, \"hovertemplate\": \"labels=%{label}<br>3PA=%{value}<br>parent=%{parent}<br>id=%{id}<extra></extra>\", \"ids\": [\"Ind/Alize Johnson/0/0\", \"Bos/Carsen Edwards/0/0\", \"Okc/Deonte Burton/0/0\", \"Mil/Frank Mason/0/0\", \"Mia/Gabe Vincent/0/0\", \"Lac/Joakim Noah/0/0\", \"Phi/Kyle O'Quinn/0/0\", \"Uta/Nigel Williams-Goss/0/0\", \"Phi/Norvel Pelle/0/0\", \"Den/Tyler Cook/0/0\", \"Bos/Vincent Poirier/0/0\", \"Dal/J.J. Barea/1/0\", \"Den/Noah Vonleh/1/0\", \"Bos/Tacko Fall/1/0\", \"Hou/DeMarre Carroll/2/0\", \"Tor/Paul Watson/2/0\", \"Mil/Robin Lopez/4/0\", \"Dal/Antonius Cleveland/5/0\", \"Bro/Donta Hall/5/0\", \"Den/Keita Bates-Diop/5/0\", \"Ind/T.J. McConnell/8/0\", \"Uta/Tony Bradley/9/0\", \"Por/Jaylen Hoard/12/0\", \"Orl/Khem Birch/14/0\", \"Ind/JaKarr Sampson/16/0\", \"Bro/Jarrett Allen/24/0\", \"Uta/Rudy Gobert/74/0\", \"Lac/Ivica Zubac/78/0\", \"Okc/Andre Roberson/0/1\", \"Mil/Sterling Brown/0/1\", \"Bos/Tremont Waters/0/1\", \"Orl/Vic Law/0/1\", \"Orl/BJ Johnson/1/1\", \"Hou/Bruno Caboclo/1/1\", \"Okc/Mike Muscala/1/1\", \"Lac/Amir Coffey/2/1\", \"Dal/Josh Reaves/2/1\", \"Tor/Malcolm Miller/2/1\", \"Tor/Rondae Hollis-Jefferson/9/1\", \"Okc/Nerlens Noel/16/1\", \"Por/Hassan Whiteside/23/1\", \"Dal/Boban Marjanovic/29/1\", \"Bos/Robert Williams III/30/1\", \"Den/Mason Plumlee/38/1\", \"Bos/Enes Kanter/41/1\", \"Okc/Steven Adams/51/1\", \"Mia/Bam Adebayo/219/1\", \"Bos/Javonte Green/0/2\", \"Hou/Michael Frazier/2/2\", \"Bro/Lance Thomas/3/2\", \"Phi/Mike Scott/3/2\", \"Lac/Terance Mann/3/2\", \"Dal/Delon Wright/8/2\", \"Bos/Romeo Langford/8/2\", \"Lal/JaVale McGee/30/2\", \"Lal/Dwight Howard/55/2\", \"Lac/Patrick Patterson/0/3\", \"Lal/Jared Dudley/1/3\", \"Uta/Jarrell Brantley/2/3\", \"Uta/Rayjon Tucker/2/3\", \"Lac/Rodney McGruder/2/3\", \"Dal/Justin Jackson/3/3\", \"Ind/Edmond Sumner/4/3\", \"Den/Bol Bol/6/3\", \"Uta/Emmanuel Mudiay/11/3\", \"Uta/Miye Oni/2/4\", \"Phi/Matisse Thybulle/3/4\", \"Mia/Meyers Leonard/4/4\", \"Por/Jaylen Adams/5/4\", \"Lal/Quinn Cook/6/4\", \"Lal/Dion Waiters/8/4\", \"Phi/Al Horford/21/4\", \"Hou/Chris Clemons/0/5\", \"Okc/Abdel Nader/2/5\", \"Mil/Ersan Ilyasova/4/5\", \"Phi/Raul Neto/4/5\", \"Tor/Chris Boucher/6/5\", \"Okc/Hamidou Diallo/6/5\", \"Tor/Stanley Johnson/6/5\", \"Lal/Talen Horton-Tucker/7/5\", \"Bro/Jeremiah Martin/9/5\", \"Por/Wenyen Gabriel/10/5\", \"Lac/Montrezl Harrell/77/5\", \"Phi/Furkan Korkmaz/1/6\", \"Mia/Solomon Hill/3/6\", \"Bro/Dzanan Musa/5/6\", \"Den/Troy Daniels/6/6\", \"Orl/Wes Iwundu/13/7\", \"Por/Mario Hezonja/15/7\", \"Bro/Rodions Kurucs/12/8\", \"Den/PJ Dozier/25/8\", \"Dal/Michael Kidd-Gilchrist/5/9\", \"Mia/Derrick Jones Jr./8/9\", \"Ind/Aaron Holiday/12/9\", \"Okc/Terrance Ferguson/1/10\", \"Uta/Juwan Morgan/2/10\", \"Ind/Doug McDermott/5/10\", \"Bro/Justin Anderson/1/11\", \"Por/Jusuf Nurkic/46/11\", \"Tor/Matt Thomas/9/12\", \"Bro/Joe Harris/11/12\", \"Por/Anfernee Simons/12/14\", \"Ind/Myles Turner/30/14\", \"Phi/Tobias Harris/46/15\", \"Ind/Justin Holiday/5/16\", \"Bro/Chris Chiozza/8/16\", \"Orl/James Ennis III/19/16\", \"Phi/Alec Burks/33/16\", \"Orl/Markelle Fultz/44/16\", \"Phi/Joel Embiid/58/16\", \"Bos/Grant Williams/9/17\", \"Dal/Kristaps Porzingis/23/17\", \"Dal/Trey Burke/42/17\", \"Orl/D.J. Augustin/29/18\", \"Tor/Terence Davis/10/19\", \"Por/Carmelo Anthony/49/19\", \"Ind/T.J. Warren/49/19\", \"Mil/Donte DiVincenzo/30/21\", \"Dal/Seth Curry/32/21\", \"Bro/Caris LeVert/52/21\", \"Lal/JR Smith/4/22\", \"Okc/Darius Bazley/9/22\", \"Uta/Royce O'Neale/10/22\", \"Lac/Patrick Beverley/17/22\", \"Bos/Semi Ojeleye/5/23\", \"Mil/Pat Connaughton/12/23\", \"Mil/Marvin Williams/24/23\", \"Lac/JaMychal Green/32/23\", \"Por/Gary Trent Jr./21/24\", \"Bos/Gordon Hayward/26/24\", \"Ind/Malcolm Brogdon/41/24\", \"Phi/Shake Milton/19/25\", \"Dal/Maxi Kleber/13/26\", \"Bos/Daniel Theis/91/26\", \"Bos/Brad Wanamaker/33/27\", \"Tor/Marc Gasol/37/27\", \"Bro/Tyler Johnson/18/28\", \"Phi/Josh Richardson/28/28\", \"Mil/George Hill/39/28\", \"Uta/Georges Niang/15/29\", \"Dal/Dorian Finney-Smith/22/30\", \"Orl/Terrence Ross/34/30\", \"Orl/Gary Clark/1/32\", \"Lac/Reggie Jackson/16/32\", \"Mil/Eric Bledsoe/66/32\", \"Ind/Victor Oladipo/23/33\", \"Por/Damian Lillard/31/33\", \"Hou/Russell Westbrook/107/33\", \"Uta/Mike Conley/30/34\", \"Orl/Evan Fournier/22/35\", \"Hou/Austin Rivers/26/35\", \"Okc/Shai Gilgeous-Alexander/55/35\", \"Por/CJ McCollum/64/35\", \"Hou/Ben McLemore/4/36\", \"Bro/Garrett Temple/13/36\", \"Mil/Kyle Korver/10/37\", \"Okc/Danilo Gallinari/42/37\", \"Bro/Timothe Luwawu-Cabarrot/20/39\", \"Mia/Andre Iguodala/26/39\", \"Uta/Joe Ingles/14/40\", \"Den/Monte Morris/93/40\", \"Mil/Giannis Antetokounmpo/121/40\", \"Tor/OG Anunoby/47/41\", \"Lac/Landry Shamet/17/42\", \"Den/Torrey Craig/36/42\", \"Mil/Wesley Matthews/14/43\", \"Mia/Kendrick Nunn/49/43\", \"Okc/Chris Paul/69/43\", \"Mia/Jimmy Butler/252/43\", \"Orl/Nikola Vucevic/67/44\", \"Den/Paul Millsap/74/44\", \"Dal/Luka Doncic/84/44\", \"Okc/Dennis Schroder/64/45\", \"Tor/Serge Ibaka/65/45\", \"Mia/Kelly Olynyk/46/49\", \"Uta/Jordan Clarkson/48/49\", \"Okc/Luguentz Dort/26/50\", \"Lal/Rajon Rondo/71/50\", \"Lac/Lou Williams/95/51\", \"Den/Gary Harris/38/52\", \"Tor/Norman Powell/52/52\", \"Hou/Danuel House Jr./32/53\", \"Mil/Brook Lopez/61/53\", \"Tor/Pascal Siakam/129/53\", \"Dal/Tim Hardaway Jr./41/54\", \"Hou/Jeff Green/49/54\", \"Lac/Marcus Morris Sr./52/59\", \"Lal/Anthony Davis/299/60\", \"Lal/Alex Caruso/52/61\", \"Uta/Donovan Mitchell/93/64\", \"Mil/Khris Middleton/115/65\", \"Hou/P.J. Tucker/21/67\", \"Hou/Robert Covington/27/68\", \"Lal/Markieff Morris/29/69\", \"Tor/Kyle Lowry/76/72\", \"Lac/Kawhi Leonard/195/73\", \"Lal/Kyle Kuzma/96/83\", \"Den/Michael Porter Jr./75/89\", \"Hou/Eric Gordon/86/90\", \"Den/Jerami Grant/80/95\", \"Den/Nikola Jokic/245/98\", \"Mia/Goran Dragic/161/107\", \"Tor/Fred VanVleet/80/110\", \"Lac/Paul George/110/111\", \"Lal/Danny Green/55/115\", \"Hou/James Harden/111/117\", \"Lal/Kentavious Caldwell-Pope/70/119\", \"Lal/LeBron James/263/119\", \"Bos/Jaylen Brown/168/120\", \"Bos/Marcus Smart/75/123\", \"Bos/Kemba Walker/130/126\", \"Bos/Jayson Tatum/208/126\", \"Mia/Tyler Herro/149/128\", \"Den/Jamal Murray/231/137\", \"Mia/Duncan Robinson/20/156\", \"Mia/Jae Crowder/40/161\", \"Ind/Alize Johnson/0\", \"Okc/Andre Roberson/0\", \"Bos/Carsen Edwards/0\", \"Hou/Chris Clemons/0\", \"Okc/Deonte Burton/0\", \"Mil/Frank Mason/0\", \"Mia/Gabe Vincent/0\", \"Bos/Javonte Green/0\", \"Lac/Joakim Noah/0\", \"Phi/Kyle O'Quinn/0\", \"Uta/Nigel Williams-Goss/0\", \"Phi/Norvel Pelle/0\", \"Lac/Patrick Patterson/0\", \"Mil/Sterling Brown/0\", \"Bos/Tremont Waters/0\", \"Den/Tyler Cook/0\", \"Orl/Vic Law/0\", \"Bos/Vincent Poirier/0\", \"Orl/BJ Johnson/1\", \"Hou/Bruno Caboclo/1\", \"Phi/Furkan Korkmaz/1\", \"Orl/Gary Clark/1\", \"Dal/J.J. Barea/1\", \"Lal/Jared Dudley/1\", \"Bro/Justin Anderson/1\", \"Okc/Mike Muscala/1\", \"Den/Noah Vonleh/1\", \"Bos/Tacko Fall/1\", \"Okc/Terrance Ferguson/1\", \"Okc/Abdel Nader/2\", \"Lac/Amir Coffey/2\", \"Hou/DeMarre Carroll/2\", \"Uta/Jarrell Brantley/2\", \"Dal/Josh Reaves/2\", \"Uta/Juwan Morgan/2\", \"Tor/Malcolm Miller/2\", \"Hou/Michael Frazier/2\", \"Uta/Miye Oni/2\", \"Tor/Paul Watson/2\", \"Uta/Rayjon Tucker/2\", \"Lac/Rodney McGruder/2\", \"Dal/Justin Jackson/3\", \"Bro/Lance Thomas/3\", \"Phi/Matisse Thybulle/3\", \"Phi/Mike Scott/3\", \"Mia/Solomon Hill/3\", \"Lac/Terance Mann/3\", \"Hou/Ben McLemore/4\", \"Ind/Edmond Sumner/4\", \"Mil/Ersan Ilyasova/4\", \"Lal/JR Smith/4\", \"Mia/Meyers Leonard/4\", \"Phi/Raul Neto/4\", \"Mil/Robin Lopez/4\", \"Dal/Antonius Cleveland/5\", \"Bro/Donta Hall/5\", \"Ind/Doug McDermott/5\", \"Bro/Dzanan Musa/5\", \"Por/Jaylen Adams/5\", \"Ind/Justin Holiday/5\", \"Den/Keita Bates-Diop/5\", \"Dal/Michael Kidd-Gilchrist/5\", \"Bos/Semi Ojeleye/5\", \"Den/Bol Bol/6\", \"Tor/Chris Boucher/6\", \"Okc/Hamidou Diallo/6\", \"Lal/Quinn Cook/6\", \"Tor/Stanley Johnson/6\", \"Den/Troy Daniels/6\", \"Lal/Talen Horton-Tucker/7\", \"Bro/Chris Chiozza/8\", \"Dal/Delon Wright/8\", \"Mia/Derrick Jones Jr./8\", \"Lal/Dion Waiters/8\", \"Bos/Romeo Langford/8\", \"Ind/T.J. McConnell/8\", \"Okc/Darius Bazley/9\", \"Bos/Grant Williams/9\", \"Bro/Jeremiah Martin/9\", \"Tor/Matt Thomas/9\", \"Tor/Rondae Hollis-Jefferson/9\", \"Uta/Tony Bradley/9\", \"Mil/Kyle Korver/10\", \"Uta/Royce O'Neale/10\", \"Tor/Terence Davis/10\", \"Por/Wenyen Gabriel/10\", \"Uta/Emmanuel Mudiay/11\", \"Bro/Joe Harris/11\", \"Ind/Aaron Holiday/12\", \"Por/Anfernee Simons/12\", \"Por/Jaylen Hoard/12\", \"Mil/Pat Connaughton/12\", \"Bro/Rodions Kurucs/12\", \"Bro/Garrett Temple/13\", \"Dal/Maxi Kleber/13\", \"Orl/Wes Iwundu/13\", \"Uta/Joe Ingles/14\", \"Orl/Khem Birch/14\", \"Mil/Wesley Matthews/14\", \"Uta/Georges Niang/15\", \"Por/Mario Hezonja/15\", \"Ind/JaKarr Sampson/16\", \"Okc/Nerlens Noel/16\", \"Lac/Reggie Jackson/16\", \"Lac/Landry Shamet/17\", \"Lac/Patrick Beverley/17\", \"Bro/Tyler Johnson/18\", \"Orl/James Ennis III/19\", \"Phi/Shake Milton/19\", \"Mia/Duncan Robinson/20\", \"Bro/Timothe Luwawu-Cabarrot/20\", \"Phi/Al Horford/21\", \"Por/Gary Trent Jr./21\", \"Hou/P.J. Tucker/21\", \"Dal/Dorian Finney-Smith/22\", \"Orl/Evan Fournier/22\", \"Por/Hassan Whiteside/23\", \"Dal/Kristaps Porzingis/23\", \"Ind/Victor Oladipo/23\", \"Bro/Jarrett Allen/24\", \"Mil/Marvin Williams/24\", \"Den/PJ Dozier/25\", \"Mia/Andre Iguodala/26\", \"Hou/Austin Rivers/26\", \"Bos/Gordon Hayward/26\", \"Okc/Luguentz Dort/26\", \"Hou/Robert Covington/27\", \"Phi/Josh Richardson/28\", \"Dal/Boban Marjanovic/29\", \"Orl/D.J. Augustin/29\", \"Lal/Markieff Morris/29\", \"Mil/Donte DiVincenzo/30\", \"Lal/JaVale McGee/30\", \"Uta/Mike Conley/30\", \"Ind/Myles Turner/30\", \"Bos/Robert Williams III/30\", \"Por/Damian Lillard/31\", \"Hou/Danuel House Jr./32\", \"Lac/JaMychal Green/32\", \"Dal/Seth Curry/32\", \"Phi/Alec Burks/33\", \"Bos/Brad Wanamaker/33\", \"Orl/Terrence Ross/34\", \"Den/Torrey Craig/36\", \"Tor/Marc Gasol/37\", \"Den/Gary Harris/38\", \"Den/Mason Plumlee/38\", \"Mil/George Hill/39\", \"Mia/Jae Crowder/40\", \"Bos/Enes Kanter/41\", \"Ind/Malcolm Brogdon/41\", \"Dal/Tim Hardaway Jr./41\", \"Okc/Danilo Gallinari/42\", \"Dal/Trey Burke/42\", \"Orl/Markelle Fultz/44\", \"Por/Jusuf Nurkic/46\", \"Mia/Kelly Olynyk/46\", \"Phi/Tobias Harris/46\", \"Tor/OG Anunoby/47\", \"Uta/Jordan Clarkson/48\", \"Por/Carmelo Anthony/49\", \"Hou/Jeff Green/49\", \"Mia/Kendrick Nunn/49\", \"Ind/T.J. Warren/49\", \"Okc/Steven Adams/51\", \"Lal/Alex Caruso/52\", \"Bro/Caris LeVert/52\", \"Lac/Marcus Morris Sr./52\", \"Tor/Norman Powell/52\", \"Lal/Danny Green/55\", \"Lal/Dwight Howard/55\", \"Okc/Shai Gilgeous-Alexander/55\", \"Phi/Joel Embiid/58\", \"Mil/Brook Lopez/61\", \"Por/CJ McCollum/64\", \"Okc/Dennis Schroder/64\", \"Tor/Serge Ibaka/65\", \"Mil/Eric Bledsoe/66\", \"Orl/Nikola Vucevic/67\", \"Okc/Chris Paul/69\", \"Lal/Kentavious Caldwell-Pope/70\", \"Lal/Rajon Rondo/71\", \"Den/Paul Millsap/74\", \"Uta/Rudy Gobert/74\", \"Bos/Marcus Smart/75\", \"Den/Michael Porter Jr./75\", \"Tor/Kyle Lowry/76\", \"Lac/Montrezl Harrell/77\", \"Lac/Ivica Zubac/78\", \"Tor/Fred VanVleet/80\", \"Den/Jerami Grant/80\", \"Dal/Luka Doncic/84\", \"Hou/Eric Gordon/86\", \"Bos/Daniel Theis/91\", \"Uta/Donovan Mitchell/93\", \"Den/Monte Morris/93\", \"Lac/Lou Williams/95\", \"Lal/Kyle Kuzma/96\", \"Hou/Russell Westbrook/107\", \"Lac/Paul George/110\", \"Hou/James Harden/111\", \"Mil/Khris Middleton/115\", \"Mil/Giannis Antetokounmpo/121\", \"Tor/Pascal Siakam/129\", \"Bos/Kemba Walker/130\", \"Mia/Tyler Herro/149\", \"Mia/Goran Dragic/161\", \"Bos/Jaylen Brown/168\", \"Lac/Kawhi Leonard/195\", \"Bos/Jayson Tatum/208\", \"Mia/Bam Adebayo/219\", \"Den/Jamal Murray/231\", \"Den/Nikola Jokic/245\", \"Mia/Jimmy Butler/252\", \"Lal/LeBron James/263\", \"Lal/Anthony Davis/299\", \"Ind/Aaron Holiday\", \"Okc/Abdel Nader\", \"Phi/Al Horford\", \"Phi/Alec Burks\", \"Lal/Alex Caruso\", \"Ind/Alize Johnson\", \"Lac/Amir Coffey\", \"Mia/Andre Iguodala\", \"Okc/Andre Roberson\", \"Por/Anfernee Simons\", \"Lal/Anthony Davis\", \"Dal/Antonius Cleveland\", \"Hou/Austin Rivers\", \"Orl/BJ Johnson\", \"Mia/Bam Adebayo\", \"Hou/Ben McLemore\", \"Dal/Boban Marjanovic\", \"Den/Bol Bol\", \"Bos/Brad Wanamaker\", \"Mil/Brook Lopez\", \"Hou/Bruno Caboclo\", \"Por/CJ McCollum\", \"Bro/Caris LeVert\", \"Por/Carmelo Anthony\", \"Bos/Carsen Edwards\", \"Tor/Chris Boucher\", \"Bro/Chris Chiozza\", \"Hou/Chris Clemons\", \"Okc/Chris Paul\", \"Orl/D.J. Augustin\", \"Por/Damian Lillard\", \"Bos/Daniel Theis\", \"Okc/Danilo Gallinari\", \"Lal/Danny Green\", \"Hou/Danuel House Jr.\", \"Okc/Darius Bazley\", \"Hou/DeMarre Carroll\", \"Dal/Delon Wright\", \"Okc/Dennis Schroder\", \"Okc/Deonte Burton\", \"Mia/Derrick Jones Jr.\", \"Lal/Dion Waiters\", \"Uta/Donovan Mitchell\", \"Bro/Donta Hall\", \"Mil/Donte DiVincenzo\", \"Dal/Dorian Finney-Smith\", \"Ind/Doug McDermott\", \"Mia/Duncan Robinson\", \"Lal/Dwight Howard\", \"Bro/Dzanan Musa\", \"Ind/Edmond Sumner\", \"Uta/Emmanuel Mudiay\", \"Bos/Enes Kanter\", \"Mil/Eric Bledsoe\", \"Hou/Eric Gordon\", \"Mil/Ersan Ilyasova\", \"Orl/Evan Fournier\", \"Mil/Frank Mason\", \"Tor/Fred VanVleet\", \"Phi/Furkan Korkmaz\", \"Mia/Gabe Vincent\", \"Bro/Garrett Temple\", \"Orl/Gary Clark\", \"Den/Gary Harris\", \"Por/Gary Trent Jr.\", \"Mil/George Hill\", \"Uta/Georges Niang\", \"Mil/Giannis Antetokounmpo\", \"Mia/Goran Dragic\", \"Bos/Gordon Hayward\", \"Bos/Grant Williams\", \"Okc/Hamidou Diallo\", \"Por/Hassan Whiteside\", \"Lac/Ivica Zubac\", \"Dal/J.J. Barea\", \"Lal/JR Smith\", \"Ind/JaKarr Sampson\", \"Lac/JaMychal Green\", \"Lal/JaVale McGee\", \"Mia/Jae Crowder\", \"Den/Jamal Murray\", \"Orl/James Ennis III\", \"Hou/James Harden\", \"Lal/Jared Dudley\", \"Uta/Jarrell Brantley\", \"Bro/Jarrett Allen\", \"Bos/Javonte Green\", \"Por/Jaylen Adams\", \"Bos/Jaylen Brown\", \"Por/Jaylen Hoard\", \"Bos/Jayson Tatum\", \"Hou/Jeff Green\", \"Den/Jerami Grant\", \"Bro/Jeremiah Martin\", \"Mia/Jimmy Butler\", \"Lac/Joakim Noah\", \"Bro/Joe Harris\", \"Uta/Joe Ingles\", \"Phi/Joel Embiid\", \"Uta/Jordan Clarkson\", \"Dal/Josh Reaves\", \"Phi/Josh Richardson\", \"Bro/Justin Anderson\", \"Ind/Justin Holiday\", \"Dal/Justin Jackson\", \"Por/Jusuf Nurkic\", \"Uta/Juwan Morgan\", \"Lac/Kawhi Leonard\", \"Den/Keita Bates-Diop\", \"Mia/Kelly Olynyk\", \"Bos/Kemba Walker\", \"Mia/Kendrick Nunn\", \"Lal/Kentavious Caldwell-Pope\", \"Orl/Khem Birch\", \"Mil/Khris Middleton\", \"Dal/Kristaps Porzingis\", \"Mil/Kyle Korver\", \"Lal/Kyle Kuzma\", \"Tor/Kyle Lowry\", \"Phi/Kyle O'Quinn\", \"Bro/Lance Thomas\", \"Lac/Landry Shamet\", \"Lal/LeBron James\", \"Lac/Lou Williams\", \"Okc/Luguentz Dort\", \"Dal/Luka Doncic\", \"Ind/Malcolm Brogdon\", \"Tor/Malcolm Miller\", \"Tor/Marc Gasol\", \"Lac/Marcus Morris Sr.\", \"Bos/Marcus Smart\", \"Por/Mario Hezonja\", \"Orl/Markelle Fultz\", \"Lal/Markieff Morris\", \"Mil/Marvin Williams\", \"Den/Mason Plumlee\", \"Phi/Matisse Thybulle\", \"Tor/Matt Thomas\", \"Dal/Maxi Kleber\", \"Mia/Meyers Leonard\", \"Hou/Michael Frazier\", \"Dal/Michael Kidd-Gilchrist\", \"Den/Michael Porter Jr.\", \"Uta/Mike Conley\", \"Okc/Mike Muscala\", \"Phi/Mike Scott\", \"Uta/Miye Oni\", \"Den/Monte Morris\", \"Lac/Montrezl Harrell\", \"Ind/Myles Turner\", \"Okc/Nerlens Noel\", \"Uta/Nigel Williams-Goss\", \"Den/Nikola Jokic\", \"Orl/Nikola Vucevic\", \"Den/Noah Vonleh\", \"Tor/Norman Powell\", \"Phi/Norvel Pelle\", \"Tor/OG Anunoby\", \"Hou/P.J. Tucker\", \"Den/PJ Dozier\", \"Tor/Pascal Siakam\", \"Mil/Pat Connaughton\", \"Lac/Patrick Beverley\", \"Lac/Patrick Patterson\", \"Lac/Paul George\", \"Den/Paul Millsap\", \"Tor/Paul Watson\", \"Lal/Quinn Cook\", \"Lal/Rajon Rondo\", \"Phi/Raul Neto\", \"Uta/Rayjon Tucker\", \"Lac/Reggie Jackson\", \"Hou/Robert Covington\", \"Bos/Robert Williams III\", \"Mil/Robin Lopez\", \"Bro/Rodions Kurucs\", \"Lac/Rodney McGruder\", \"Bos/Romeo Langford\", \"Tor/Rondae Hollis-Jefferson\", \"Uta/Royce O'Neale\", \"Uta/Rudy Gobert\", \"Hou/Russell Westbrook\", \"Bos/Semi Ojeleye\", \"Tor/Serge Ibaka\", \"Dal/Seth Curry\", \"Okc/Shai Gilgeous-Alexander\", \"Phi/Shake Milton\", \"Mia/Solomon Hill\", \"Tor/Stanley Johnson\", \"Mil/Sterling Brown\", \"Okc/Steven Adams\", \"Ind/T.J. McConnell\", \"Ind/T.J. Warren\", \"Bos/Tacko Fall\", \"Lal/Talen Horton-Tucker\", \"Lac/Terance Mann\", \"Tor/Terence Davis\", \"Okc/Terrance Ferguson\", \"Orl/Terrence Ross\", \"Dal/Tim Hardaway Jr.\", \"Bro/Timothe Luwawu-Cabarrot\", \"Phi/Tobias Harris\", \"Uta/Tony Bradley\", \"Den/Torrey Craig\", \"Bos/Tremont Waters\", \"Dal/Trey Burke\", \"Den/Troy Daniels\", \"Den/Tyler Cook\", \"Mia/Tyler Herro\", \"Bro/Tyler Johnson\", \"Orl/Vic Law\", \"Ind/Victor Oladipo\", \"Bos/Vincent Poirier\", \"Por/Wenyen Gabriel\", \"Orl/Wes Iwundu\", \"Mil/Wesley Matthews\", \"Bos\", \"Bro\", \"Dal\", \"Den\", \"Hou\", \"Ind\", \"Lac\", \"Lal\", \"Mia\", \"Mil\", \"Okc\", \"Orl\", \"Phi\", \"Por\", \"Tor\", \"Uta\"], \"labels\": [\"0\", \"0\", \"0\", \"0\", \"0\", \"0\", \"0\", \"0\", \"0\", \"0\", \"0\", \"0\", \"0\", \"0\", \"0\", \"0\", \"0\", \"0\", \"0\", \"0\", \"0\", \"0\", \"0\", \"0\", \"0\", \"0\", \"0\", \"0\", \"1\", \"1\", \"1\", \"1\", \"1\", \"1\", \"1\", \"1\", \"1\", \"1\", \"1\", \"1\", \"1\", \"1\", \"1\", \"1\", \"1\", \"1\", \"1\", \"2\", \"2\", \"2\", \"2\", \"2\", \"2\", \"2\", \"2\", \"2\", \"3\", \"3\", \"3\", \"3\", \"3\", \"3\", \"3\", \"3\", \"3\", \"4\", \"4\", \"4\", \"4\", \"4\", \"4\", \"4\", \"5\", \"5\", \"5\", \"5\", \"5\", \"5\", \"5\", \"5\", \"5\", \"5\", \"5\", \"6\", \"6\", \"6\", \"6\", \"7\", \"7\", \"8\", \"8\", \"9\", \"9\", \"9\", \"10\", \"10\", \"10\", \"11\", \"11\", \"12\", \"12\", \"14\", \"14\", \"15\", \"16\", \"16\", \"16\", \"16\", \"16\", \"16\", \"17\", \"17\", \"17\", \"18\", \"19\", \"19\", \"19\", \"21\", \"21\", \"21\", \"22\", \"22\", \"22\", \"22\", \"23\", \"23\", \"23\", \"23\", \"24\", \"24\", \"24\", \"25\", \"26\", \"26\", \"27\", \"27\", \"28\", \"28\", \"28\", \"29\", \"30\", \"30\", \"32\", \"32\", \"32\", \"33\", \"33\", \"33\", \"34\", \"35\", \"35\", \"35\", \"35\", \"36\", \"36\", \"37\", \"37\", \"39\", \"39\", \"40\", \"40\", \"40\", \"41\", \"42\", \"42\", \"43\", \"43\", \"43\", \"43\", \"44\", \"44\", \"44\", \"45\", \"45\", \"49\", \"49\", \"50\", \"50\", \"51\", \"52\", \"52\", \"53\", \"53\", \"53\", \"54\", \"54\", \"59\", \"60\", \"61\", \"64\", \"65\", \"67\", \"68\", \"69\", \"72\", \"73\", \"83\", \"89\", \"90\", \"95\", \"98\", \"107\", \"110\", \"111\", \"115\", \"117\", \"119\", \"119\", \"120\", \"123\", \"126\", \"126\", \"128\", \"137\", \"156\", \"161\", \"0\", \"0\", \"0\", \"0\", \"0\", \"0\", \"0\", \"0\", \"0\", \"0\", \"0\", \"0\", \"0\", \"0\", \"0\", \"0\", \"0\", \"0\", \"1\", \"1\", \"1\", \"1\", \"1\", \"1\", \"1\", \"1\", \"1\", \"1\", \"1\", \"2\", \"2\", \"2\", \"2\", \"2\", \"2\", \"2\", \"2\", \"2\", \"2\", \"2\", \"2\", \"3\", \"3\", \"3\", \"3\", \"3\", \"3\", \"4\", \"4\", \"4\", \"4\", \"4\", \"4\", \"4\", \"5\", \"5\", \"5\", \"5\", \"5\", \"5\", \"5\", \"5\", \"5\", \"6\", \"6\", \"6\", \"6\", \"6\", \"6\", \"7\", \"8\", \"8\", \"8\", \"8\", \"8\", \"8\", \"9\", \"9\", \"9\", \"9\", \"9\", \"9\", \"10\", \"10\", \"10\", \"10\", \"11\", \"11\", \"12\", \"12\", \"12\", \"12\", \"12\", \"13\", \"13\", \"13\", \"14\", \"14\", \"14\", \"15\", \"15\", \"16\", \"16\", \"16\", \"17\", \"17\", \"18\", \"19\", \"19\", \"20\", \"20\", \"21\", \"21\", \"21\", \"22\", \"22\", \"23\", \"23\", \"23\", \"24\", \"24\", \"25\", \"26\", \"26\", \"26\", \"26\", \"27\", \"28\", \"29\", \"29\", \"29\", \"30\", \"30\", \"30\", \"30\", \"30\", \"31\", \"32\", \"32\", \"32\", \"33\", \"33\", \"34\", \"36\", \"37\", \"38\", \"38\", \"39\", \"40\", \"41\", \"41\", \"41\", \"42\", \"42\", \"44\", \"46\", \"46\", \"46\", \"47\", \"48\", \"49\", \"49\", \"49\", \"49\", \"51\", \"52\", \"52\", \"52\", \"52\", \"55\", \"55\", \"55\", \"58\", \"61\", \"64\", \"64\", \"65\", \"66\", \"67\", \"69\", \"70\", \"71\", \"74\", \"74\", \"75\", \"75\", \"76\", \"77\", \"78\", \"80\", \"80\", \"84\", \"86\", \"91\", \"93\", \"93\", \"95\", \"96\", \"107\", \"110\", \"111\", \"115\", \"121\", \"129\", \"130\", \"149\", \"161\", \"168\", \"195\", \"208\", \"219\", \"231\", \"245\", \"252\", \"263\", \"299\", \"Aaron Holiday\", \"Abdel Nader\", \"Al Horford\", \"Alec Burks\", \"Alex Caruso\", \"Alize Johnson\", \"Amir Coffey\", \"Andre Iguodala\", \"Andre Roberson\", \"Anfernee Simons\", \"Anthony Davis\", \"Antonius Cleveland\", \"Austin Rivers\", \"BJ Johnson\", \"Bam Adebayo\", \"Ben McLemore\", \"Boban Marjanovic\", \"Bol Bol\", \"Brad Wanamaker\", \"Brook Lopez\", \"Bruno Caboclo\", \"CJ McCollum\", \"Caris LeVert\", \"Carmelo Anthony\", \"Carsen Edwards\", \"Chris Boucher\", \"Chris Chiozza\", \"Chris Clemons\", \"Chris Paul\", \"D.J. Augustin\", \"Damian Lillard\", \"Daniel Theis\", \"Danilo Gallinari\", \"Danny Green\", \"Danuel House Jr.\", \"Darius Bazley\", \"DeMarre Carroll\", \"Delon Wright\", \"Dennis Schroder\", \"Deonte Burton\", \"Derrick Jones Jr.\", \"Dion Waiters\", \"Donovan Mitchell\", \"Donta Hall\", \"Donte DiVincenzo\", \"Dorian Finney-Smith\", \"Doug McDermott\", \"Duncan Robinson\", \"Dwight Howard\", \"Dzanan Musa\", \"Edmond Sumner\", \"Emmanuel Mudiay\", \"Enes Kanter\", \"Eric Bledsoe\", \"Eric Gordon\", \"Ersan Ilyasova\", \"Evan Fournier\", \"Frank Mason\", \"Fred VanVleet\", \"Furkan Korkmaz\", \"Gabe Vincent\", \"Garrett Temple\", \"Gary Clark\", \"Gary Harris\", \"Gary Trent Jr.\", \"George Hill\", \"Georges Niang\", \"Giannis Antetokounmpo\", \"Goran Dragic\", \"Gordon Hayward\", \"Grant Williams\", \"Hamidou Diallo\", \"Hassan Whiteside\", \"Ivica Zubac\", \"J.J. Barea\", \"JR Smith\", \"JaKarr Sampson\", \"JaMychal Green\", \"JaVale McGee\", \"Jae Crowder\", \"Jamal Murray\", \"James Ennis III\", \"James Harden\", \"Jared Dudley\", \"Jarrell Brantley\", \"Jarrett Allen\", \"Javonte Green\", \"Jaylen Adams\", \"Jaylen Brown\", \"Jaylen Hoard\", \"Jayson Tatum\", \"Jeff Green\", \"Jerami Grant\", \"Jeremiah Martin\", \"Jimmy Butler\", \"Joakim Noah\", \"Joe Harris\", \"Joe Ingles\", \"Joel Embiid\", \"Jordan Clarkson\", \"Josh Reaves\", \"Josh Richardson\", \"Justin Anderson\", \"Justin Holiday\", \"Justin Jackson\", \"Jusuf Nurkic\", \"Juwan Morgan\", \"Kawhi Leonard\", \"Keita Bates-Diop\", \"Kelly Olynyk\", \"Kemba Walker\", \"Kendrick Nunn\", \"Kentavious Caldwell-Pope\", \"Khem Birch\", \"Khris Middleton\", \"Kristaps Porzingis\", \"Kyle Korver\", \"Kyle Kuzma\", \"Kyle Lowry\", \"Kyle O'Quinn\", \"Lance Thomas\", \"Landry Shamet\", \"LeBron James\", \"Lou Williams\", \"Luguentz Dort\", \"Luka Doncic\", \"Malcolm Brogdon\", \"Malcolm Miller\", \"Marc Gasol\", \"Marcus Morris Sr.\", \"Marcus Smart\", \"Mario Hezonja\", \"Markelle Fultz\", \"Markieff Morris\", \"Marvin Williams\", \"Mason Plumlee\", \"Matisse Thybulle\", \"Matt Thomas\", \"Maxi Kleber\", \"Meyers Leonard\", \"Michael Frazier\", \"Michael Kidd-Gilchrist\", \"Michael Porter Jr.\", \"Mike Conley\", \"Mike Muscala\", \"Mike Scott\", \"Miye Oni\", \"Monte Morris\", \"Montrezl Harrell\", \"Myles Turner\", \"Nerlens Noel\", \"Nigel Williams-Goss\", \"Nikola Jokic\", \"Nikola Vucevic\", \"Noah Vonleh\", \"Norman Powell\", \"Norvel Pelle\", \"OG Anunoby\", \"P.J. Tucker\", \"PJ Dozier\", \"Pascal Siakam\", \"Pat Connaughton\", \"Patrick Beverley\", \"Patrick Patterson\", \"Paul George\", \"Paul Millsap\", \"Paul Watson\", \"Quinn Cook\", \"Rajon Rondo\", \"Raul Neto\", \"Rayjon Tucker\", \"Reggie Jackson\", \"Robert Covington\", \"Robert Williams III\", \"Robin Lopez\", \"Rodions Kurucs\", \"Rodney McGruder\", \"Romeo Langford\", \"Rondae Hollis-Jefferson\", \"Royce O'Neale\", \"Rudy Gobert\", \"Russell Westbrook\", \"Semi Ojeleye\", \"Serge Ibaka\", \"Seth Curry\", \"Shai Gilgeous-Alexander\", \"Shake Milton\", \"Solomon Hill\", \"Stanley Johnson\", \"Sterling Brown\", \"Steven Adams\", \"T.J. McConnell\", \"T.J. Warren\", \"Tacko Fall\", \"Talen Horton-Tucker\", \"Terance Mann\", \"Terence Davis\", \"Terrance Ferguson\", \"Terrence Ross\", \"Tim Hardaway Jr.\", \"Timothe Luwawu-Cabarrot\", \"Tobias Harris\", \"Tony Bradley\", \"Torrey Craig\", \"Tremont Waters\", \"Trey Burke\", \"Troy Daniels\", \"Tyler Cook\", \"Tyler Herro\", \"Tyler Johnson\", \"Vic Law\", \"Victor Oladipo\", \"Vincent Poirier\", \"Wenyen Gabriel\", \"Wes Iwundu\", \"Wesley Matthews\", \"Bos\", \"Bro\", \"Dal\", \"Den\", \"Hou\", \"Ind\", \"Lac\", \"Lal\", \"Mia\", \"Mil\", \"Okc\", \"Orl\", \"Phi\", \"Por\", \"Tor\", \"Uta\"], \"name\": \"\", \"parents\": [\"Ind/Alize Johnson/0\", \"Bos/Carsen Edwards/0\", \"Okc/Deonte Burton/0\", \"Mil/Frank Mason/0\", \"Mia/Gabe Vincent/0\", \"Lac/Joakim Noah/0\", \"Phi/Kyle O'Quinn/0\", \"Uta/Nigel Williams-Goss/0\", \"Phi/Norvel Pelle/0\", \"Den/Tyler Cook/0\", \"Bos/Vincent Poirier/0\", \"Dal/J.J. Barea/1\", \"Den/Noah Vonleh/1\", \"Bos/Tacko Fall/1\", \"Hou/DeMarre Carroll/2\", \"Tor/Paul Watson/2\", \"Mil/Robin Lopez/4\", \"Dal/Antonius Cleveland/5\", \"Bro/Donta Hall/5\", \"Den/Keita Bates-Diop/5\", \"Ind/T.J. McConnell/8\", \"Uta/Tony Bradley/9\", \"Por/Jaylen Hoard/12\", \"Orl/Khem Birch/14\", \"Ind/JaKarr Sampson/16\", \"Bro/Jarrett Allen/24\", \"Uta/Rudy Gobert/74\", \"Lac/Ivica Zubac/78\", \"Okc/Andre Roberson/0\", \"Mil/Sterling Brown/0\", \"Bos/Tremont Waters/0\", \"Orl/Vic Law/0\", \"Orl/BJ Johnson/1\", \"Hou/Bruno Caboclo/1\", \"Okc/Mike Muscala/1\", \"Lac/Amir Coffey/2\", \"Dal/Josh Reaves/2\", \"Tor/Malcolm Miller/2\", \"Tor/Rondae Hollis-Jefferson/9\", \"Okc/Nerlens Noel/16\", \"Por/Hassan Whiteside/23\", \"Dal/Boban Marjanovic/29\", \"Bos/Robert Williams III/30\", \"Den/Mason Plumlee/38\", \"Bos/Enes Kanter/41\", \"Okc/Steven Adams/51\", \"Mia/Bam Adebayo/219\", \"Bos/Javonte Green/0\", \"Hou/Michael Frazier/2\", \"Bro/Lance Thomas/3\", \"Phi/Mike Scott/3\", \"Lac/Terance Mann/3\", \"Dal/Delon Wright/8\", \"Bos/Romeo Langford/8\", \"Lal/JaVale McGee/30\", \"Lal/Dwight Howard/55\", \"Lac/Patrick Patterson/0\", \"Lal/Jared Dudley/1\", \"Uta/Jarrell Brantley/2\", \"Uta/Rayjon Tucker/2\", \"Lac/Rodney McGruder/2\", \"Dal/Justin Jackson/3\", \"Ind/Edmond Sumner/4\", \"Den/Bol Bol/6\", \"Uta/Emmanuel Mudiay/11\", \"Uta/Miye Oni/2\", \"Phi/Matisse Thybulle/3\", \"Mia/Meyers Leonard/4\", \"Por/Jaylen Adams/5\", \"Lal/Quinn Cook/6\", \"Lal/Dion Waiters/8\", \"Phi/Al Horford/21\", \"Hou/Chris Clemons/0\", \"Okc/Abdel Nader/2\", \"Mil/Ersan Ilyasova/4\", \"Phi/Raul Neto/4\", \"Tor/Chris Boucher/6\", \"Okc/Hamidou Diallo/6\", \"Tor/Stanley Johnson/6\", \"Lal/Talen Horton-Tucker/7\", \"Bro/Jeremiah Martin/9\", \"Por/Wenyen Gabriel/10\", \"Lac/Montrezl Harrell/77\", \"Phi/Furkan Korkmaz/1\", \"Mia/Solomon Hill/3\", \"Bro/Dzanan Musa/5\", \"Den/Troy Daniels/6\", \"Orl/Wes Iwundu/13\", \"Por/Mario Hezonja/15\", \"Bro/Rodions Kurucs/12\", \"Den/PJ Dozier/25\", \"Dal/Michael Kidd-Gilchrist/5\", \"Mia/Derrick Jones Jr./8\", \"Ind/Aaron Holiday/12\", \"Okc/Terrance Ferguson/1\", \"Uta/Juwan Morgan/2\", \"Ind/Doug McDermott/5\", \"Bro/Justin Anderson/1\", \"Por/Jusuf Nurkic/46\", \"Tor/Matt Thomas/9\", \"Bro/Joe Harris/11\", \"Por/Anfernee Simons/12\", \"Ind/Myles Turner/30\", \"Phi/Tobias Harris/46\", \"Ind/Justin Holiday/5\", \"Bro/Chris Chiozza/8\", \"Orl/James Ennis III/19\", \"Phi/Alec Burks/33\", \"Orl/Markelle Fultz/44\", \"Phi/Joel Embiid/58\", \"Bos/Grant Williams/9\", \"Dal/Kristaps Porzingis/23\", \"Dal/Trey Burke/42\", \"Orl/D.J. Augustin/29\", \"Tor/Terence Davis/10\", \"Por/Carmelo Anthony/49\", \"Ind/T.J. Warren/49\", \"Mil/Donte DiVincenzo/30\", \"Dal/Seth Curry/32\", \"Bro/Caris LeVert/52\", \"Lal/JR Smith/4\", \"Okc/Darius Bazley/9\", \"Uta/Royce O'Neale/10\", \"Lac/Patrick Beverley/17\", \"Bos/Semi Ojeleye/5\", \"Mil/Pat Connaughton/12\", \"Mil/Marvin Williams/24\", \"Lac/JaMychal Green/32\", \"Por/Gary Trent Jr./21\", \"Bos/Gordon Hayward/26\", \"Ind/Malcolm Brogdon/41\", \"Phi/Shake Milton/19\", \"Dal/Maxi Kleber/13\", \"Bos/Daniel Theis/91\", \"Bos/Brad Wanamaker/33\", \"Tor/Marc Gasol/37\", \"Bro/Tyler Johnson/18\", \"Phi/Josh Richardson/28\", \"Mil/George Hill/39\", \"Uta/Georges Niang/15\", \"Dal/Dorian Finney-Smith/22\", \"Orl/Terrence Ross/34\", \"Orl/Gary Clark/1\", \"Lac/Reggie Jackson/16\", \"Mil/Eric Bledsoe/66\", \"Ind/Victor Oladipo/23\", \"Por/Damian Lillard/31\", \"Hou/Russell Westbrook/107\", \"Uta/Mike Conley/30\", \"Orl/Evan Fournier/22\", \"Hou/Austin Rivers/26\", \"Okc/Shai Gilgeous-Alexander/55\", \"Por/CJ McCollum/64\", \"Hou/Ben McLemore/4\", \"Bro/Garrett Temple/13\", \"Mil/Kyle Korver/10\", \"Okc/Danilo Gallinari/42\", \"Bro/Timothe Luwawu-Cabarrot/20\", \"Mia/Andre Iguodala/26\", \"Uta/Joe Ingles/14\", \"Den/Monte Morris/93\", \"Mil/Giannis Antetokounmpo/121\", \"Tor/OG Anunoby/47\", \"Lac/Landry Shamet/17\", \"Den/Torrey Craig/36\", \"Mil/Wesley Matthews/14\", \"Mia/Kendrick Nunn/49\", \"Okc/Chris Paul/69\", \"Mia/Jimmy Butler/252\", \"Orl/Nikola Vucevic/67\", \"Den/Paul Millsap/74\", \"Dal/Luka Doncic/84\", \"Okc/Dennis Schroder/64\", \"Tor/Serge Ibaka/65\", \"Mia/Kelly Olynyk/46\", \"Uta/Jordan Clarkson/48\", \"Okc/Luguentz Dort/26\", \"Lal/Rajon Rondo/71\", \"Lac/Lou Williams/95\", \"Den/Gary Harris/38\", \"Tor/Norman Powell/52\", \"Hou/Danuel House Jr./32\", \"Mil/Brook Lopez/61\", \"Tor/Pascal Siakam/129\", \"Dal/Tim Hardaway Jr./41\", \"Hou/Jeff Green/49\", \"Lac/Marcus Morris Sr./52\", \"Lal/Anthony Davis/299\", \"Lal/Alex Caruso/52\", \"Uta/Donovan Mitchell/93\", \"Mil/Khris Middleton/115\", \"Hou/P.J. Tucker/21\", \"Hou/Robert Covington/27\", \"Lal/Markieff Morris/29\", \"Tor/Kyle Lowry/76\", \"Lac/Kawhi Leonard/195\", \"Lal/Kyle Kuzma/96\", \"Den/Michael Porter Jr./75\", \"Hou/Eric Gordon/86\", \"Den/Jerami Grant/80\", \"Den/Nikola Jokic/245\", \"Mia/Goran Dragic/161\", \"Tor/Fred VanVleet/80\", \"Lac/Paul George/110\", \"Lal/Danny Green/55\", \"Hou/James Harden/111\", \"Lal/Kentavious Caldwell-Pope/70\", \"Lal/LeBron James/263\", \"Bos/Jaylen Brown/168\", \"Bos/Marcus Smart/75\", \"Bos/Kemba Walker/130\", \"Bos/Jayson Tatum/208\", \"Mia/Tyler Herro/149\", \"Den/Jamal Murray/231\", \"Mia/Duncan Robinson/20\", \"Mia/Jae Crowder/40\", \"Ind/Alize Johnson\", \"Okc/Andre Roberson\", \"Bos/Carsen Edwards\", \"Hou/Chris Clemons\", \"Okc/Deonte Burton\", \"Mil/Frank Mason\", \"Mia/Gabe Vincent\", \"Bos/Javonte Green\", \"Lac/Joakim Noah\", \"Phi/Kyle O'Quinn\", \"Uta/Nigel Williams-Goss\", \"Phi/Norvel Pelle\", \"Lac/Patrick Patterson\", \"Mil/Sterling Brown\", \"Bos/Tremont Waters\", \"Den/Tyler Cook\", \"Orl/Vic Law\", \"Bos/Vincent Poirier\", \"Orl/BJ Johnson\", \"Hou/Bruno Caboclo\", \"Phi/Furkan Korkmaz\", \"Orl/Gary Clark\", \"Dal/J.J. Barea\", \"Lal/Jared Dudley\", \"Bro/Justin Anderson\", \"Okc/Mike Muscala\", \"Den/Noah Vonleh\", \"Bos/Tacko Fall\", \"Okc/Terrance Ferguson\", \"Okc/Abdel Nader\", \"Lac/Amir Coffey\", \"Hou/DeMarre Carroll\", \"Uta/Jarrell Brantley\", \"Dal/Josh Reaves\", \"Uta/Juwan Morgan\", \"Tor/Malcolm Miller\", \"Hou/Michael Frazier\", \"Uta/Miye Oni\", \"Tor/Paul Watson\", \"Uta/Rayjon Tucker\", \"Lac/Rodney McGruder\", \"Dal/Justin Jackson\", \"Bro/Lance Thomas\", \"Phi/Matisse Thybulle\", \"Phi/Mike Scott\", \"Mia/Solomon Hill\", \"Lac/Terance Mann\", \"Hou/Ben McLemore\", \"Ind/Edmond Sumner\", \"Mil/Ersan Ilyasova\", \"Lal/JR Smith\", \"Mia/Meyers Leonard\", \"Phi/Raul Neto\", \"Mil/Robin Lopez\", \"Dal/Antonius Cleveland\", \"Bro/Donta Hall\", \"Ind/Doug McDermott\", \"Bro/Dzanan Musa\", \"Por/Jaylen Adams\", \"Ind/Justin Holiday\", \"Den/Keita Bates-Diop\", \"Dal/Michael Kidd-Gilchrist\", \"Bos/Semi Ojeleye\", \"Den/Bol Bol\", \"Tor/Chris Boucher\", \"Okc/Hamidou Diallo\", \"Lal/Quinn Cook\", \"Tor/Stanley Johnson\", \"Den/Troy Daniels\", \"Lal/Talen Horton-Tucker\", \"Bro/Chris Chiozza\", \"Dal/Delon Wright\", \"Mia/Derrick Jones Jr.\", \"Lal/Dion Waiters\", \"Bos/Romeo Langford\", \"Ind/T.J. McConnell\", \"Okc/Darius Bazley\", \"Bos/Grant Williams\", \"Bro/Jeremiah Martin\", \"Tor/Matt Thomas\", \"Tor/Rondae Hollis-Jefferson\", \"Uta/Tony Bradley\", \"Mil/Kyle Korver\", \"Uta/Royce O'Neale\", \"Tor/Terence Davis\", \"Por/Wenyen Gabriel\", \"Uta/Emmanuel Mudiay\", \"Bro/Joe Harris\", \"Ind/Aaron Holiday\", \"Por/Anfernee Simons\", \"Por/Jaylen Hoard\", \"Mil/Pat Connaughton\", \"Bro/Rodions Kurucs\", \"Bro/Garrett Temple\", \"Dal/Maxi Kleber\", \"Orl/Wes Iwundu\", \"Uta/Joe Ingles\", \"Orl/Khem Birch\", \"Mil/Wesley Matthews\", \"Uta/Georges Niang\", \"Por/Mario Hezonja\", \"Ind/JaKarr Sampson\", \"Okc/Nerlens Noel\", \"Lac/Reggie Jackson\", \"Lac/Landry Shamet\", \"Lac/Patrick Beverley\", \"Bro/Tyler Johnson\", \"Orl/James Ennis III\", \"Phi/Shake Milton\", \"Mia/Duncan Robinson\", \"Bro/Timothe Luwawu-Cabarrot\", \"Phi/Al Horford\", \"Por/Gary Trent Jr.\", \"Hou/P.J. Tucker\", \"Dal/Dorian Finney-Smith\", \"Orl/Evan Fournier\", \"Por/Hassan Whiteside\", \"Dal/Kristaps Porzingis\", \"Ind/Victor Oladipo\", \"Bro/Jarrett Allen\", \"Mil/Marvin Williams\", \"Den/PJ Dozier\", \"Mia/Andre Iguodala\", \"Hou/Austin Rivers\", \"Bos/Gordon Hayward\", \"Okc/Luguentz Dort\", \"Hou/Robert Covington\", \"Phi/Josh Richardson\", \"Dal/Boban Marjanovic\", \"Orl/D.J. Augustin\", \"Lal/Markieff Morris\", \"Mil/Donte DiVincenzo\", \"Lal/JaVale McGee\", \"Uta/Mike Conley\", \"Ind/Myles Turner\", \"Bos/Robert Williams III\", \"Por/Damian Lillard\", \"Hou/Danuel House Jr.\", \"Lac/JaMychal Green\", \"Dal/Seth Curry\", \"Phi/Alec Burks\", \"Bos/Brad Wanamaker\", \"Orl/Terrence Ross\", \"Den/Torrey Craig\", \"Tor/Marc Gasol\", \"Den/Gary Harris\", \"Den/Mason Plumlee\", \"Mil/George Hill\", \"Mia/Jae Crowder\", \"Bos/Enes Kanter\", \"Ind/Malcolm Brogdon\", \"Dal/Tim Hardaway Jr.\", \"Okc/Danilo Gallinari\", \"Dal/Trey Burke\", \"Orl/Markelle Fultz\", \"Por/Jusuf Nurkic\", \"Mia/Kelly Olynyk\", \"Phi/Tobias Harris\", \"Tor/OG Anunoby\", \"Uta/Jordan Clarkson\", \"Por/Carmelo Anthony\", \"Hou/Jeff Green\", \"Mia/Kendrick Nunn\", \"Ind/T.J. Warren\", \"Okc/Steven Adams\", \"Lal/Alex Caruso\", \"Bro/Caris LeVert\", \"Lac/Marcus Morris Sr.\", \"Tor/Norman Powell\", \"Lal/Danny Green\", \"Lal/Dwight Howard\", \"Okc/Shai Gilgeous-Alexander\", \"Phi/Joel Embiid\", \"Mil/Brook Lopez\", \"Por/CJ McCollum\", \"Okc/Dennis Schroder\", \"Tor/Serge Ibaka\", \"Mil/Eric Bledsoe\", \"Orl/Nikola Vucevic\", \"Okc/Chris Paul\", \"Lal/Kentavious Caldwell-Pope\", \"Lal/Rajon Rondo\", \"Den/Paul Millsap\", \"Uta/Rudy Gobert\", \"Bos/Marcus Smart\", \"Den/Michael Porter Jr.\", \"Tor/Kyle Lowry\", \"Lac/Montrezl Harrell\", \"Lac/Ivica Zubac\", \"Tor/Fred VanVleet\", \"Den/Jerami Grant\", \"Dal/Luka Doncic\", \"Hou/Eric Gordon\", \"Bos/Daniel Theis\", \"Uta/Donovan Mitchell\", \"Den/Monte Morris\", \"Lac/Lou Williams\", \"Lal/Kyle Kuzma\", \"Hou/Russell Westbrook\", \"Lac/Paul George\", \"Hou/James Harden\", \"Mil/Khris Middleton\", \"Mil/Giannis Antetokounmpo\", \"Tor/Pascal Siakam\", \"Bos/Kemba Walker\", \"Mia/Tyler Herro\", \"Mia/Goran Dragic\", \"Bos/Jaylen Brown\", \"Lac/Kawhi Leonard\", \"Bos/Jayson Tatum\", \"Mia/Bam Adebayo\", \"Den/Jamal Murray\", \"Den/Nikola Jokic\", \"Mia/Jimmy Butler\", \"Lal/LeBron James\", \"Lal/Anthony Davis\", \"Ind\", \"Okc\", \"Phi\", \"Phi\", \"Lal\", \"Ind\", \"Lac\", \"Mia\", \"Okc\", \"Por\", \"Lal\", \"Dal\", \"Hou\", \"Orl\", \"Mia\", \"Hou\", \"Dal\", \"Den\", \"Bos\", \"Mil\", \"Hou\", \"Por\", \"Bro\", \"Por\", \"Bos\", \"Tor\", \"Bro\", \"Hou\", \"Okc\", \"Orl\", \"Por\", \"Bos\", \"Okc\", \"Lal\", \"Hou\", \"Okc\", \"Hou\", \"Dal\", \"Okc\", \"Okc\", \"Mia\", \"Lal\", \"Uta\", \"Bro\", \"Mil\", \"Dal\", \"Ind\", \"Mia\", \"Lal\", \"Bro\", \"Ind\", \"Uta\", \"Bos\", \"Mil\", \"Hou\", \"Mil\", \"Orl\", \"Mil\", \"Tor\", \"Phi\", \"Mia\", \"Bro\", \"Orl\", \"Den\", \"Por\", \"Mil\", \"Uta\", \"Mil\", \"Mia\", \"Bos\", \"Bos\", \"Okc\", \"Por\", \"Lac\", \"Dal\", \"Lal\", \"Ind\", \"Lac\", \"Lal\", \"Mia\", \"Den\", \"Orl\", \"Hou\", \"Lal\", \"Uta\", \"Bro\", \"Bos\", \"Por\", \"Bos\", \"Por\", \"Bos\", \"Hou\", \"Den\", \"Bro\", \"Mia\", \"Lac\", \"Bro\", \"Uta\", \"Phi\", \"Uta\", \"Dal\", \"Phi\", \"Bro\", \"Ind\", \"Dal\", \"Por\", \"Uta\", \"Lac\", \"Den\", \"Mia\", \"Bos\", \"Mia\", \"Lal\", \"Orl\", \"Mil\", \"Dal\", \"Mil\", \"Lal\", \"Tor\", \"Phi\", \"Bro\", \"Lac\", \"Lal\", \"Lac\", \"Okc\", \"Dal\", \"Ind\", \"Tor\", \"Tor\", \"Lac\", \"Bos\", \"Por\", \"Orl\", \"Lal\", \"Mil\", \"Den\", \"Phi\", \"Tor\", \"Dal\", \"Mia\", \"Hou\", \"Dal\", \"Den\", \"Uta\", \"Okc\", \"Phi\", \"Uta\", \"Den\", \"Lac\", \"Ind\", \"Okc\", \"Uta\", \"Den\", \"Orl\", \"Den\", \"Tor\", \"Phi\", \"Tor\", \"Hou\", \"Den\", \"Tor\", \"Mil\", \"Lac\", \"Lac\", \"Lac\", \"Den\", \"Tor\", \"Lal\", \"Lal\", \"Phi\", \"Uta\", \"Lac\", \"Hou\", \"Bos\", \"Mil\", \"Bro\", \"Lac\", \"Bos\", \"Tor\", \"Uta\", \"Uta\", \"Hou\", \"Bos\", \"Tor\", \"Dal\", \"Okc\", \"Phi\", \"Mia\", \"Tor\", \"Mil\", \"Okc\", \"Ind\", \"Ind\", \"Bos\", \"Lal\", \"Lac\", \"Tor\", \"Okc\", \"Orl\", \"Dal\", \"Bro\", \"Phi\", \"Uta\", \"Den\", \"Bos\", \"Dal\", \"Den\", \"Den\", \"Mia\", \"Bro\", \"Orl\", \"Ind\", \"Bos\", \"Por\", \"Orl\", \"Mil\", \"\", \"\", \"\", \"\", \"\", \"\", \"\", \"\", \"\", \"\", \"\", \"\", \"\", \"\", \"\", \"\"], \"type\": \"sunburst\", \"values\": [0, 0, 0, 0, 0, 0, 0, 0, 0, 0, 0, 0, 0, 0, 0, 0, 0, 0, 0, 0, 0, 0, 0, 0, 0, 0, 0, 0, 1, 1, 1, 1, 1, 1, 1, 1, 1, 1, 1, 1, 1, 1, 1, 1, 1, 1, 1, 2, 2, 2, 2, 2, 2, 2, 2, 2, 3, 3, 3, 3, 3, 3, 3, 3, 3, 4, 4, 4, 4, 4, 4, 4, 5, 5, 5, 5, 5, 5, 5, 5, 5, 5, 5, 6, 6, 6, 6, 7, 7, 8, 8, 9, 9, 9, 10, 10, 10, 11, 11, 12, 12, 14, 14, 15, 16, 16, 16, 16, 16, 16, 17, 17, 17, 18, 19, 19, 19, 21, 21, 21, 22, 22, 22, 22, 23, 23, 23, 23, 24, 24, 24, 25, 26, 26, 27, 27, 28, 28, 28, 29, 30, 30, 32, 32, 32, 33, 33, 33, 34, 35, 35, 35, 35, 36, 36, 37, 37, 39, 39, 40, 40, 40, 41, 42, 42, 43, 43, 43, 43, 44, 44, 44, 45, 45, 49, 49, 50, 50, 51, 52, 52, 53, 53, 53, 54, 54, 59, 60, 61, 64, 65, 67, 68, 69, 72, 73, 83, 89, 90, 95, 98, 107, 110, 111, 115, 117, 119, 119, 120, 123, 126, 126, 128, 137, 156, 161, 0, 1, 0, 5, 0, 0, 0, 2, 0, 0, 0, 0, 3, 1, 1, 0, 1, 0, 1, 1, 6, 32, 0, 3, 11, 1, 0, 0, 10, 5, 1, 0, 3, 1, 10, 1, 2, 4, 0, 3, 3, 3, 2, 4, 2, 6, 2, 36, 3, 5, 22, 4, 5, 0, 0, 0, 10, 6, 4, 16, 0, 9, 23, 3, 5, 5, 4, 5, 6, 5, 16, 2, 9, 4, 2, 0, 22, 17, 5, 12, 1, 0, 37, 22, 19, 5, 3, 12, 9, 14, 0, 23, 8, 36, 26, 7, 40, 0, 43, 29, 7, 0, 1, 32, 42, 22, 28, 16, 25, 156, 39, 4, 24, 67, 30, 35, 1, 17, 33, 0, 23, 8, 39, 35, 24, 50, 68, 28, 1, 18, 69, 21, 2, 34, 14, 1, 33, 53, 23, 21, 16, 27, 30, 42, 27, 52, 1, 28, 161, 1, 24, 54, 37, 17, 16, 11, 49, 15, 41, 49, 19, 54, 43, 19, 1, 61, 21, 59, 52, 115, 2, 35, 16, 53, 35, 45, 45, 32, 44, 43, 119, 50, 44, 0, 123, 89, 72, 5, 0, 110, 95, 44, 90, 26, 64, 40, 51, 83, 33, 111, 117, 65, 40, 53, 126, 128, 107, 120, 73, 126, 1, 137, 98, 43, 119, 60, 9, 5, 4, 16, 61, 0, 1, 39, 1, 14, 60, 0, 35, 1, 1, 36, 1, 3, 27, 53, 1, 35, 21, 19, 0, 5, 16, 5, 43, 18, 33, 26, 37, 115, 53, 22, 0, 2, 45, 0, 9, 4, 64, 0, 21, 30, 10, 156, 2, 6, 3, 3, 1, 32, 90, 5, 35, 0, 110, 6, 0, 36, 32, 52, 24, 28, 29, 40, 107, 24, 17, 5, 1, 0, 0, 22, 0, 23, 2, 161, 137, 16, 117, 3, 3, 0, 2, 4, 120, 0, 126, 54, 95, 5, 43, 0, 12, 40, 16, 49, 1, 28, 11, 16, 3, 11, 10, 73, 0, 49, 126, 43, 119, 0, 65, 17, 37, 83, 72, 0, 2, 42, 119, 51, 50, 44, 24, 1, 27, 59, 123, 7, 16, 69, 23, 1, 4, 12, 26, 4, 2, 9, 89, 34, 1, 2, 4, 40, 5, 14, 1, 0, 98, 44, 0, 52, 0, 41, 67, 8, 53, 23, 22, 3, 111, 44, 0, 4, 50, 5, 3, 32, 68, 1, 0, 8, 3, 2, 1, 22, 0, 33, 23, 45, 21, 35, 25, 6, 5, 1, 1, 0, 19, 0, 5, 2, 19, 10, 30, 54, 39, 15, 0, 42, 1, 17, 6, 0, 128, 28, 1, 33, 0, 5, 7, 43, 619, 184, 225, 615, 561, 128, 427, 718, 746, 371, 256, 200, 121, 153, 443, 261]}],                        {\"legend\": {\"tracegroupgap\": 0}, \"margin\": {\"t\": 60}, \"template\": {\"data\": {\"bar\": [{\"error_x\": {\"color\": \"#2a3f5f\"}, \"error_y\": {\"color\": \"#2a3f5f\"}, \"marker\": {\"line\": {\"color\": \"#E5ECF6\", \"width\": 0.5}}, \"type\": \"bar\"}], \"barpolar\": [{\"marker\": {\"line\": {\"color\": \"#E5ECF6\", \"width\": 0.5}}, \"type\": \"barpolar\"}], \"carpet\": [{\"aaxis\": {\"endlinecolor\": \"#2a3f5f\", \"gridcolor\": \"white\", \"linecolor\": \"white\", \"minorgridcolor\": \"white\", \"startlinecolor\": \"#2a3f5f\"}, \"baxis\": {\"endlinecolor\": \"#2a3f5f\", \"gridcolor\": \"white\", \"linecolor\": \"white\", \"minorgridcolor\": \"white\", \"startlinecolor\": \"#2a3f5f\"}, \"type\": \"carpet\"}], \"choropleth\": [{\"colorbar\": {\"outlinewidth\": 0, \"ticks\": \"\"}, \"type\": \"choropleth\"}], \"contour\": [{\"colorbar\": {\"outlinewidth\": 0, \"ticks\": \"\"}, \"colorscale\": [[0.0, \"#0d0887\"], [0.1111111111111111, \"#46039f\"], [0.2222222222222222, \"#7201a8\"], [0.3333333333333333, \"#9c179e\"], [0.4444444444444444, \"#bd3786\"], [0.5555555555555556, \"#d8576b\"], [0.6666666666666666, \"#ed7953\"], [0.7777777777777778, \"#fb9f3a\"], [0.8888888888888888, \"#fdca26\"], [1.0, \"#f0f921\"]], \"type\": \"contour\"}], \"contourcarpet\": [{\"colorbar\": {\"outlinewidth\": 0, \"ticks\": \"\"}, \"type\": \"contourcarpet\"}], \"heatmap\": [{\"colorbar\": {\"outlinewidth\": 0, \"ticks\": \"\"}, \"colorscale\": [[0.0, \"#0d0887\"], [0.1111111111111111, \"#46039f\"], [0.2222222222222222, \"#7201a8\"], [0.3333333333333333, \"#9c179e\"], [0.4444444444444444, \"#bd3786\"], [0.5555555555555556, \"#d8576b\"], [0.6666666666666666, \"#ed7953\"], [0.7777777777777778, \"#fb9f3a\"], [0.8888888888888888, \"#fdca26\"], [1.0, \"#f0f921\"]], \"type\": \"heatmap\"}], \"heatmapgl\": [{\"colorbar\": {\"outlinewidth\": 0, \"ticks\": \"\"}, \"colorscale\": [[0.0, \"#0d0887\"], [0.1111111111111111, \"#46039f\"], [0.2222222222222222, \"#7201a8\"], [0.3333333333333333, \"#9c179e\"], [0.4444444444444444, \"#bd3786\"], [0.5555555555555556, \"#d8576b\"], [0.6666666666666666, \"#ed7953\"], [0.7777777777777778, \"#fb9f3a\"], [0.8888888888888888, \"#fdca26\"], [1.0, \"#f0f921\"]], \"type\": \"heatmapgl\"}], \"histogram\": [{\"marker\": {\"colorbar\": {\"outlinewidth\": 0, \"ticks\": \"\"}}, \"type\": \"histogram\"}], \"histogram2d\": [{\"colorbar\": {\"outlinewidth\": 0, \"ticks\": \"\"}, \"colorscale\": [[0.0, \"#0d0887\"], [0.1111111111111111, \"#46039f\"], [0.2222222222222222, \"#7201a8\"], [0.3333333333333333, \"#9c179e\"], [0.4444444444444444, \"#bd3786\"], [0.5555555555555556, \"#d8576b\"], [0.6666666666666666, \"#ed7953\"], [0.7777777777777778, \"#fb9f3a\"], [0.8888888888888888, \"#fdca26\"], [1.0, \"#f0f921\"]], \"type\": \"histogram2d\"}], \"histogram2dcontour\": [{\"colorbar\": {\"outlinewidth\": 0, \"ticks\": \"\"}, \"colorscale\": [[0.0, \"#0d0887\"], [0.1111111111111111, \"#46039f\"], [0.2222222222222222, \"#7201a8\"], [0.3333333333333333, \"#9c179e\"], [0.4444444444444444, \"#bd3786\"], [0.5555555555555556, \"#d8576b\"], [0.6666666666666666, \"#ed7953\"], [0.7777777777777778, \"#fb9f3a\"], [0.8888888888888888, \"#fdca26\"], [1.0, \"#f0f921\"]], \"type\": \"histogram2dcontour\"}], \"mesh3d\": [{\"colorbar\": {\"outlinewidth\": 0, \"ticks\": \"\"}, \"type\": \"mesh3d\"}], \"parcoords\": [{\"line\": {\"colorbar\": {\"outlinewidth\": 0, \"ticks\": \"\"}}, \"type\": \"parcoords\"}], \"pie\": [{\"automargin\": true, \"type\": \"pie\"}], \"scatter\": [{\"marker\": {\"colorbar\": {\"outlinewidth\": 0, \"ticks\": \"\"}}, \"type\": \"scatter\"}], \"scatter3d\": [{\"line\": {\"colorbar\": {\"outlinewidth\": 0, \"ticks\": \"\"}}, \"marker\": {\"colorbar\": {\"outlinewidth\": 0, \"ticks\": \"\"}}, \"type\": \"scatter3d\"}], \"scattercarpet\": [{\"marker\": {\"colorbar\": {\"outlinewidth\": 0, \"ticks\": \"\"}}, \"type\": \"scattercarpet\"}], \"scattergeo\": [{\"marker\": {\"colorbar\": {\"outlinewidth\": 0, \"ticks\": \"\"}}, \"type\": \"scattergeo\"}], \"scattergl\": [{\"marker\": {\"colorbar\": {\"outlinewidth\": 0, \"ticks\": \"\"}}, \"type\": \"scattergl\"}], \"scattermapbox\": [{\"marker\": {\"colorbar\": {\"outlinewidth\": 0, \"ticks\": \"\"}}, \"type\": \"scattermapbox\"}], \"scatterpolar\": [{\"marker\": {\"colorbar\": {\"outlinewidth\": 0, \"ticks\": \"\"}}, \"type\": \"scatterpolar\"}], \"scatterpolargl\": [{\"marker\": {\"colorbar\": {\"outlinewidth\": 0, \"ticks\": \"\"}}, \"type\": \"scatterpolargl\"}], \"scatterternary\": [{\"marker\": {\"colorbar\": {\"outlinewidth\": 0, \"ticks\": \"\"}}, \"type\": \"scatterternary\"}], \"surface\": [{\"colorbar\": {\"outlinewidth\": 0, \"ticks\": \"\"}, \"colorscale\": [[0.0, \"#0d0887\"], [0.1111111111111111, \"#46039f\"], [0.2222222222222222, \"#7201a8\"], [0.3333333333333333, \"#9c179e\"], [0.4444444444444444, \"#bd3786\"], [0.5555555555555556, \"#d8576b\"], [0.6666666666666666, \"#ed7953\"], [0.7777777777777778, \"#fb9f3a\"], [0.8888888888888888, \"#fdca26\"], [1.0, \"#f0f921\"]], \"type\": \"surface\"}], \"table\": [{\"cells\": {\"fill\": {\"color\": \"#EBF0F8\"}, \"line\": {\"color\": \"white\"}}, \"header\": {\"fill\": {\"color\": \"#C8D4E3\"}, \"line\": {\"color\": \"white\"}}, \"type\": \"table\"}]}, \"layout\": {\"annotationdefaults\": {\"arrowcolor\": \"#2a3f5f\", \"arrowhead\": 0, \"arrowwidth\": 1}, \"autotypenumbers\": \"strict\", \"coloraxis\": {\"colorbar\": {\"outlinewidth\": 0, \"ticks\": \"\"}}, \"colorscale\": {\"diverging\": [[0, \"#8e0152\"], [0.1, \"#c51b7d\"], [0.2, \"#de77ae\"], [0.3, \"#f1b6da\"], [0.4, \"#fde0ef\"], [0.5, \"#f7f7f7\"], [0.6, \"#e6f5d0\"], [0.7, \"#b8e186\"], [0.8, \"#7fbc41\"], [0.9, \"#4d9221\"], [1, \"#276419\"]], \"sequential\": [[0.0, \"#0d0887\"], [0.1111111111111111, \"#46039f\"], [0.2222222222222222, \"#7201a8\"], [0.3333333333333333, \"#9c179e\"], [0.4444444444444444, \"#bd3786\"], [0.5555555555555556, \"#d8576b\"], [0.6666666666666666, \"#ed7953\"], [0.7777777777777778, \"#fb9f3a\"], [0.8888888888888888, \"#fdca26\"], [1.0, \"#f0f921\"]], \"sequentialminus\": [[0.0, \"#0d0887\"], [0.1111111111111111, \"#46039f\"], [0.2222222222222222, \"#7201a8\"], [0.3333333333333333, \"#9c179e\"], [0.4444444444444444, \"#bd3786\"], [0.5555555555555556, \"#d8576b\"], [0.6666666666666666, \"#ed7953\"], [0.7777777777777778, \"#fb9f3a\"], [0.8888888888888888, \"#fdca26\"], [1.0, \"#f0f921\"]]}, \"colorway\": [\"#636efa\", \"#EF553B\", \"#00cc96\", \"#ab63fa\", \"#FFA15A\", \"#19d3f3\", \"#FF6692\", \"#B6E880\", \"#FF97FF\", \"#FECB52\"], \"font\": {\"color\": \"#2a3f5f\"}, \"geo\": {\"bgcolor\": \"white\", \"lakecolor\": \"white\", \"landcolor\": \"#E5ECF6\", \"showlakes\": true, \"showland\": true, \"subunitcolor\": \"white\"}, \"hoverlabel\": {\"align\": \"left\"}, \"hovermode\": \"closest\", \"mapbox\": {\"style\": \"light\"}, \"paper_bgcolor\": \"white\", \"plot_bgcolor\": \"#E5ECF6\", \"polar\": {\"angularaxis\": {\"gridcolor\": \"white\", \"linecolor\": \"white\", \"ticks\": \"\"}, \"bgcolor\": \"#E5ECF6\", \"radialaxis\": {\"gridcolor\": \"white\", \"linecolor\": \"white\", \"ticks\": \"\"}}, \"scene\": {\"xaxis\": {\"backgroundcolor\": \"#E5ECF6\", \"gridcolor\": \"white\", \"gridwidth\": 2, \"linecolor\": \"white\", \"showbackground\": true, \"ticks\": \"\", \"zerolinecolor\": \"white\"}, \"yaxis\": {\"backgroundcolor\": \"#E5ECF6\", \"gridcolor\": \"white\", \"gridwidth\": 2, \"linecolor\": \"white\", \"showbackground\": true, \"ticks\": \"\", \"zerolinecolor\": \"white\"}, \"zaxis\": {\"backgroundcolor\": \"#E5ECF6\", \"gridcolor\": \"white\", \"gridwidth\": 2, \"linecolor\": \"white\", \"showbackground\": true, \"ticks\": \"\", \"zerolinecolor\": \"white\"}}, \"shapedefaults\": {\"line\": {\"color\": \"#2a3f5f\"}}, \"ternary\": {\"aaxis\": {\"gridcolor\": \"white\", \"linecolor\": \"white\", \"ticks\": \"\"}, \"baxis\": {\"gridcolor\": \"white\", \"linecolor\": \"white\", \"ticks\": \"\"}, \"bgcolor\": \"#E5ECF6\", \"caxis\": {\"gridcolor\": \"white\", \"linecolor\": \"white\", \"ticks\": \"\"}}, \"title\": {\"x\": 0.05}, \"xaxis\": {\"automargin\": true, \"gridcolor\": \"white\", \"linecolor\": \"white\", \"ticks\": \"\", \"title\": {\"standoff\": 15}, \"zerolinecolor\": \"white\", \"zerolinewidth\": 2}, \"yaxis\": {\"automargin\": true, \"gridcolor\": \"white\", \"linecolor\": \"white\", \"ticks\": \"\", \"title\": {\"standoff\": 15}, \"zerolinecolor\": \"white\", \"zerolinewidth\": 2}}}},                        {\"responsive\": true}                    ).then(function(){\n",
              "                            \n",
              "var gd = document.getElementById('4a79545b-e2c5-4b7e-ad1e-70d725e36157');\n",
              "var x = new MutationObserver(function (mutations, observer) {{\n",
              "        var display = window.getComputedStyle(gd).display;\n",
              "        if (!display || display === 'none') {{\n",
              "            console.log([gd, 'removed!']);\n",
              "            Plotly.purge(gd);\n",
              "            observer.disconnect();\n",
              "        }}\n",
              "}});\n",
              "\n",
              "// Listen for the removal of the full notebook cells\n",
              "var notebookContainer = gd.closest('#notebook-container');\n",
              "if (notebookContainer) {{\n",
              "    x.observe(notebookContainer, {childList: true});\n",
              "}}\n",
              "\n",
              "// Listen for the clearing of the current output cell\n",
              "var outputEl = gd.closest('.output');\n",
              "if (outputEl) {{\n",
              "    x.observe(outputEl, {childList: true});\n",
              "}}\n",
              "\n",
              "                        })                };                            </script>        </div>\n",
              "</body>\n",
              "</html>"
            ]
          },
          "metadata": {
            "tags": []
          }
        }
      ]
    },
    {
      "cell_type": "markdown",
      "metadata": {
        "id": "FP3VyFHVD3PV"
      },
      "source": [
        "#pie chart for 2pts by a team"
      ]
    },
    {
      "cell_type": "code",
      "metadata": {
        "id": "XQGIToR02XFE",
        "colab": {
          "base_uri": "https://localhost:8080/",
          "height": 542
        },
        "outputId": "5e7f695b-17c5-4ab1-c835-3dc3b9519852"
      },
      "source": [
        "\r\n",
        "fig = px.pie(nba_20_copy, values='two_pa', names='TEAM',title='2 Points Percent',template='plotly_dark' )\r\n",
        "fig.show()"
      ],
      "execution_count": null,
      "outputs": [
        {
          "output_type": "display_data",
          "data": {
            "text/html": [
              "<html>\n",
              "<head><meta charset=\"utf-8\" /></head>\n",
              "<body>\n",
              "    <div>            <script src=\"https://cdnjs.cloudflare.com/ajax/libs/mathjax/2.7.5/MathJax.js?config=TeX-AMS-MML_SVG\"></script><script type=\"text/javascript\">if (window.MathJax) {MathJax.Hub.Config({SVG: {font: \"STIX-Web\"}});}</script>                <script type=\"text/javascript\">window.PlotlyConfig = {MathJaxConfig: 'local'};</script>\n",
              "        <script src=\"https://cdn.plot.ly/plotly-latest.min.js\"></script>                <div id=\"9b3c24fd-7d8b-4972-909d-d304e6f1593b\" class=\"plotly-graph-div\" style=\"height:525px; width:100%;\"></div>            <script type=\"text/javascript\">                                    window.PLOTLYENV=window.PLOTLYENV || {};                                    if (document.getElementById(\"9b3c24fd-7d8b-4972-909d-d304e6f1593b\")) {                    Plotly.newPlot(                        \"9b3c24fd-7d8b-4972-909d-d304e6f1593b\",                        [{\"domain\": {\"x\": [0.0, 1.0], \"y\": [0.0, 1.0]}, \"hovertemplate\": \"TEAM=%{label}<br>two_pa=%{value}<extra></extra>\", \"labels\": [\"Por\", \"Okc\", \"Mia\", \"Bro\", \"Bro\", \"Mil\", \"Por\", \"Tor\", \"Orl\", \"Dal\", \"Den\", \"Okc\", \"Lac\", \"Orl\", \"Mil\", \"Den\", \"Tor\", \"Uta\", \"Uta\", \"Ind\", \"Bos\", \"Mil\", \"Dal\", \"Phi\", \"Okc\", \"Mia\", \"Hou\", \"Lal\", \"Hou\", \"Lal\", \"Bro\", \"Orl\", \"Uta\", \"Hou\", \"Dal\", \"Lac\", \"Uta\", \"Mil\", \"Lal\", \"Den\", \"Hou\", \"Den\", \"Mia\", \"Dal\", \"Den\", \"Lal\", \"Tor\", \"Okc\", \"Mil\", \"Dal\", \"Okc\", \"Den\", \"Mia\", \"Lal\", \"Bos\", \"Phi\", \"Orl\", \"Bos\", \"Okc\", \"Dal\", \"Orl\", \"Hou\", \"Orl\", \"Por\", \"Okc\", \"Tor\", \"Lac\", \"Okc\", \"Uta\", \"Hou\", \"Den\", \"Lal\", \"Lac\", \"Bos\", \"Hou\", \"Bro\", \"Dal\", \"Hou\", \"Lac\", \"Den\", \"Bro\", \"Phi\", \"Bos\", \"Mia\", \"Por\", \"Mil\", \"Mia\", \"Por\", \"Ind\", \"Ind\", \"Tor\", \"Phi\", \"Lal\", \"Hou\", \"Lal\", \"Tor\", \"Mia\", \"Mil\", \"Uta\", \"Orl\", \"Dal\", \"Lac\", \"Lal\", \"Ind\", \"Orl\", \"Tor\", \"Bro\", \"Den\", \"Mia\", \"Bos\", \"Dal\", \"Dal\", \"Phi\", \"Mil\", \"Bro\", \"Lal\", \"Bos\", \"Orl\", \"Lac\", \"Mia\", \"Bro\", \"Por\", \"Mil\", \"Mil\", \"Tor\", \"Bro\", \"Lac\", \"Dal\", \"Bro\", \"Mil\", \"Mil\", \"Por\", \"Ind\", \"Ind\", \"Lal\", \"Lac\", \"Hou\", \"Mil\", \"Tor\", \"Den\", \"Phi\", \"Uta\", \"Uta\", \"Lac\", \"Lal\", \"Den\", \"Uta\", \"Den\", \"Bro\", \"Okc\", \"Okc\", \"Phi\", \"Uta\", \"Lac\", \"Okc\", \"Mia\", \"Por\", \"Bos\", \"Ind\", \"Mia\", \"Uta\", \"Uta\", \"Phi\", \"Lac\", \"Okc\", \"Phi\", \"Den\", \"Bos\", \"Den\", \"Dal\", \"Tor\", \"Dal\", \"Phi\", \"Hou\", \"Okc\", \"Mia\", \"Lal\", \"Orl\", \"Ind\", \"Okc\", \"Phi\", \"Lac\", \"Tor\", \"Por\", \"Bos\", \"Lal\", \"Ind\", \"Bos\", \"Bro\", \"Bos\", \"Bro\", \"Tor\", \"Phi\", \"Por\", \"Hou\", \"Uta\", \"Ind\", \"Tor\", \"Mia\", \"Den\", \"Orl\", \"Lal\", \"Bos\", \"Bos\", \"Ind\", \"Bos\", \"Tor\", \"Hou\", \"Por\", \"Bos\", \"Uta\", \"Bos\", \"Lac\", \"Mil\", \"Dal\", \"Lac\"], \"legendgroup\": \"\", \"name\": \"\", \"showlegend\": true, \"type\": \"pie\", \"values\": [5, 51, 219, 24, 1, 121, 49, 47, 29, 1, 5, 9, 17, 14, 66, 6, 6, 9, 2, 41, 168, 0, 42, 33, 0, 252, 1, 70, 2, 52, 8, 1, 48, 0, 5, 2, 30, 12, 6, 0, 27, 36, 40, 32, 6, 299, 10, 6, 30, 84, 26, 25, 161, 1, 0, 58, 19, 1, 1, 22, 22, 2, 44, 10, 42, 37, 110, 55, 74, 86, 80, 55, 32, 0, 49, 5, 41, 111, 77, 38, 11, 46, 26, 149, 15, 39, 3, 12, 12, 5, 9, 21, 7, 32, 55, 65, 26, 4, 14, 13, 3, 16, 263, 0, 1, 6, 18, 245, 8, 41, 5, 13, 1, 10, 12, 96, 8, 0, 195, 4, 52, 31, 61, 4, 76, 20, 3, 29, 9, 0, 14, 64, 8, 5, 30, 2, 4, 115, 2, 74, 19, 93, 2, 52, 29, 93, 11, 231, 5, 1, 2, 4, 15, 0, 16, 49, 46, 5, 23, 46, 10, 2, 0, 0, 69, 0, 38, 0, 75, 23, 52, 2, 28, 26, 0, 20, 71, 34, 16, 64, 3, 17, 129, 12, 75, 4, 4, 208, 13, 91, 3, 9, 3, 21, 21, 2, 30, 80, 0, 1, 67, 8, 130, 33, 49, 0, 2, 107, 23, 30, 0, 9, 95, 24, 8, 78]}],                        {\"legend\": {\"tracegroupgap\": 0}, \"template\": {\"data\": {\"bar\": [{\"error_x\": {\"color\": \"#f2f5fa\"}, \"error_y\": {\"color\": \"#f2f5fa\"}, \"marker\": {\"line\": {\"color\": \"rgb(17,17,17)\", \"width\": 0.5}}, \"type\": \"bar\"}], \"barpolar\": [{\"marker\": {\"line\": {\"color\": \"rgb(17,17,17)\", \"width\": 0.5}}, \"type\": \"barpolar\"}], \"carpet\": [{\"aaxis\": {\"endlinecolor\": \"#A2B1C6\", \"gridcolor\": \"#506784\", \"linecolor\": \"#506784\", \"minorgridcolor\": \"#506784\", \"startlinecolor\": \"#A2B1C6\"}, \"baxis\": {\"endlinecolor\": \"#A2B1C6\", \"gridcolor\": \"#506784\", \"linecolor\": \"#506784\", \"minorgridcolor\": \"#506784\", \"startlinecolor\": \"#A2B1C6\"}, \"type\": \"carpet\"}], \"choropleth\": [{\"colorbar\": {\"outlinewidth\": 0, \"ticks\": \"\"}, \"type\": \"choropleth\"}], \"contour\": [{\"colorbar\": {\"outlinewidth\": 0, \"ticks\": \"\"}, \"colorscale\": [[0.0, \"#0d0887\"], [0.1111111111111111, \"#46039f\"], [0.2222222222222222, \"#7201a8\"], [0.3333333333333333, \"#9c179e\"], [0.4444444444444444, \"#bd3786\"], [0.5555555555555556, \"#d8576b\"], [0.6666666666666666, \"#ed7953\"], [0.7777777777777778, \"#fb9f3a\"], [0.8888888888888888, \"#fdca26\"], [1.0, \"#f0f921\"]], \"type\": \"contour\"}], \"contourcarpet\": [{\"colorbar\": {\"outlinewidth\": 0, \"ticks\": \"\"}, \"type\": \"contourcarpet\"}], \"heatmap\": [{\"colorbar\": {\"outlinewidth\": 0, \"ticks\": \"\"}, \"colorscale\": [[0.0, \"#0d0887\"], [0.1111111111111111, \"#46039f\"], [0.2222222222222222, \"#7201a8\"], [0.3333333333333333, \"#9c179e\"], [0.4444444444444444, \"#bd3786\"], [0.5555555555555556, \"#d8576b\"], [0.6666666666666666, \"#ed7953\"], [0.7777777777777778, \"#fb9f3a\"], [0.8888888888888888, \"#fdca26\"], [1.0, \"#f0f921\"]], \"type\": \"heatmap\"}], \"heatmapgl\": [{\"colorbar\": {\"outlinewidth\": 0, \"ticks\": \"\"}, \"colorscale\": [[0.0, \"#0d0887\"], [0.1111111111111111, \"#46039f\"], [0.2222222222222222, \"#7201a8\"], [0.3333333333333333, \"#9c179e\"], [0.4444444444444444, \"#bd3786\"], [0.5555555555555556, \"#d8576b\"], [0.6666666666666666, \"#ed7953\"], [0.7777777777777778, \"#fb9f3a\"], [0.8888888888888888, \"#fdca26\"], [1.0, \"#f0f921\"]], \"type\": \"heatmapgl\"}], \"histogram\": [{\"marker\": {\"colorbar\": {\"outlinewidth\": 0, \"ticks\": \"\"}}, \"type\": \"histogram\"}], \"histogram2d\": [{\"colorbar\": {\"outlinewidth\": 0, \"ticks\": \"\"}, \"colorscale\": [[0.0, \"#0d0887\"], [0.1111111111111111, \"#46039f\"], [0.2222222222222222, \"#7201a8\"], [0.3333333333333333, \"#9c179e\"], [0.4444444444444444, \"#bd3786\"], [0.5555555555555556, \"#d8576b\"], [0.6666666666666666, \"#ed7953\"], [0.7777777777777778, \"#fb9f3a\"], [0.8888888888888888, \"#fdca26\"], [1.0, \"#f0f921\"]], \"type\": \"histogram2d\"}], \"histogram2dcontour\": [{\"colorbar\": {\"outlinewidth\": 0, \"ticks\": \"\"}, \"colorscale\": [[0.0, \"#0d0887\"], [0.1111111111111111, \"#46039f\"], [0.2222222222222222, \"#7201a8\"], [0.3333333333333333, \"#9c179e\"], [0.4444444444444444, \"#bd3786\"], [0.5555555555555556, \"#d8576b\"], [0.6666666666666666, \"#ed7953\"], [0.7777777777777778, \"#fb9f3a\"], [0.8888888888888888, \"#fdca26\"], [1.0, \"#f0f921\"]], \"type\": \"histogram2dcontour\"}], \"mesh3d\": [{\"colorbar\": {\"outlinewidth\": 0, \"ticks\": \"\"}, \"type\": \"mesh3d\"}], \"parcoords\": [{\"line\": {\"colorbar\": {\"outlinewidth\": 0, \"ticks\": \"\"}}, \"type\": \"parcoords\"}], \"pie\": [{\"automargin\": true, \"type\": \"pie\"}], \"scatter\": [{\"marker\": {\"line\": {\"color\": \"#283442\"}}, \"type\": \"scatter\"}], \"scatter3d\": [{\"line\": {\"colorbar\": {\"outlinewidth\": 0, \"ticks\": \"\"}}, \"marker\": {\"colorbar\": {\"outlinewidth\": 0, \"ticks\": \"\"}}, \"type\": \"scatter3d\"}], \"scattercarpet\": [{\"marker\": {\"colorbar\": {\"outlinewidth\": 0, \"ticks\": \"\"}}, \"type\": \"scattercarpet\"}], \"scattergeo\": [{\"marker\": {\"colorbar\": {\"outlinewidth\": 0, \"ticks\": \"\"}}, \"type\": \"scattergeo\"}], \"scattergl\": [{\"marker\": {\"line\": {\"color\": \"#283442\"}}, \"type\": \"scattergl\"}], \"scattermapbox\": [{\"marker\": {\"colorbar\": {\"outlinewidth\": 0, \"ticks\": \"\"}}, \"type\": \"scattermapbox\"}], \"scatterpolar\": [{\"marker\": {\"colorbar\": {\"outlinewidth\": 0, \"ticks\": \"\"}}, \"type\": \"scatterpolar\"}], \"scatterpolargl\": [{\"marker\": {\"colorbar\": {\"outlinewidth\": 0, \"ticks\": \"\"}}, \"type\": \"scatterpolargl\"}], \"scatterternary\": [{\"marker\": {\"colorbar\": {\"outlinewidth\": 0, \"ticks\": \"\"}}, \"type\": \"scatterternary\"}], \"surface\": [{\"colorbar\": {\"outlinewidth\": 0, \"ticks\": \"\"}, \"colorscale\": [[0.0, \"#0d0887\"], [0.1111111111111111, \"#46039f\"], [0.2222222222222222, \"#7201a8\"], [0.3333333333333333, \"#9c179e\"], [0.4444444444444444, \"#bd3786\"], [0.5555555555555556, \"#d8576b\"], [0.6666666666666666, \"#ed7953\"], [0.7777777777777778, \"#fb9f3a\"], [0.8888888888888888, \"#fdca26\"], [1.0, \"#f0f921\"]], \"type\": \"surface\"}], \"table\": [{\"cells\": {\"fill\": {\"color\": \"#506784\"}, \"line\": {\"color\": \"rgb(17,17,17)\"}}, \"header\": {\"fill\": {\"color\": \"#2a3f5f\"}, \"line\": {\"color\": \"rgb(17,17,17)\"}}, \"type\": \"table\"}]}, \"layout\": {\"annotationdefaults\": {\"arrowcolor\": \"#f2f5fa\", \"arrowhead\": 0, \"arrowwidth\": 1}, \"autotypenumbers\": \"strict\", \"coloraxis\": {\"colorbar\": {\"outlinewidth\": 0, \"ticks\": \"\"}}, \"colorscale\": {\"diverging\": [[0, \"#8e0152\"], [0.1, \"#c51b7d\"], [0.2, \"#de77ae\"], [0.3, \"#f1b6da\"], [0.4, \"#fde0ef\"], [0.5, \"#f7f7f7\"], [0.6, \"#e6f5d0\"], [0.7, \"#b8e186\"], [0.8, \"#7fbc41\"], [0.9, \"#4d9221\"], [1, \"#276419\"]], \"sequential\": [[0.0, \"#0d0887\"], [0.1111111111111111, \"#46039f\"], [0.2222222222222222, \"#7201a8\"], [0.3333333333333333, \"#9c179e\"], [0.4444444444444444, \"#bd3786\"], [0.5555555555555556, \"#d8576b\"], [0.6666666666666666, \"#ed7953\"], [0.7777777777777778, \"#fb9f3a\"], [0.8888888888888888, \"#fdca26\"], [1.0, \"#f0f921\"]], \"sequentialminus\": [[0.0, \"#0d0887\"], [0.1111111111111111, \"#46039f\"], [0.2222222222222222, \"#7201a8\"], [0.3333333333333333, \"#9c179e\"], [0.4444444444444444, \"#bd3786\"], [0.5555555555555556, \"#d8576b\"], [0.6666666666666666, \"#ed7953\"], [0.7777777777777778, \"#fb9f3a\"], [0.8888888888888888, \"#fdca26\"], [1.0, \"#f0f921\"]]}, \"colorway\": [\"#636efa\", \"#EF553B\", \"#00cc96\", \"#ab63fa\", \"#FFA15A\", \"#19d3f3\", \"#FF6692\", \"#B6E880\", \"#FF97FF\", \"#FECB52\"], \"font\": {\"color\": \"#f2f5fa\"}, \"geo\": {\"bgcolor\": \"rgb(17,17,17)\", \"lakecolor\": \"rgb(17,17,17)\", \"landcolor\": \"rgb(17,17,17)\", \"showlakes\": true, \"showland\": true, \"subunitcolor\": \"#506784\"}, \"hoverlabel\": {\"align\": \"left\"}, \"hovermode\": \"closest\", \"mapbox\": {\"style\": \"dark\"}, \"paper_bgcolor\": \"rgb(17,17,17)\", \"plot_bgcolor\": \"rgb(17,17,17)\", \"polar\": {\"angularaxis\": {\"gridcolor\": \"#506784\", \"linecolor\": \"#506784\", \"ticks\": \"\"}, \"bgcolor\": \"rgb(17,17,17)\", \"radialaxis\": {\"gridcolor\": \"#506784\", \"linecolor\": \"#506784\", \"ticks\": \"\"}}, \"scene\": {\"xaxis\": {\"backgroundcolor\": \"rgb(17,17,17)\", \"gridcolor\": \"#506784\", \"gridwidth\": 2, \"linecolor\": \"#506784\", \"showbackground\": true, \"ticks\": \"\", \"zerolinecolor\": \"#C8D4E3\"}, \"yaxis\": {\"backgroundcolor\": \"rgb(17,17,17)\", \"gridcolor\": \"#506784\", \"gridwidth\": 2, \"linecolor\": \"#506784\", \"showbackground\": true, \"ticks\": \"\", \"zerolinecolor\": \"#C8D4E3\"}, \"zaxis\": {\"backgroundcolor\": \"rgb(17,17,17)\", \"gridcolor\": \"#506784\", \"gridwidth\": 2, \"linecolor\": \"#506784\", \"showbackground\": true, \"ticks\": \"\", \"zerolinecolor\": \"#C8D4E3\"}}, \"shapedefaults\": {\"line\": {\"color\": \"#f2f5fa\"}}, \"sliderdefaults\": {\"bgcolor\": \"#C8D4E3\", \"bordercolor\": \"rgb(17,17,17)\", \"borderwidth\": 1, \"tickwidth\": 0}, \"ternary\": {\"aaxis\": {\"gridcolor\": \"#506784\", \"linecolor\": \"#506784\", \"ticks\": \"\"}, \"baxis\": {\"gridcolor\": \"#506784\", \"linecolor\": \"#506784\", \"ticks\": \"\"}, \"bgcolor\": \"rgb(17,17,17)\", \"caxis\": {\"gridcolor\": \"#506784\", \"linecolor\": \"#506784\", \"ticks\": \"\"}}, \"title\": {\"x\": 0.05}, \"updatemenudefaults\": {\"bgcolor\": \"#506784\", \"borderwidth\": 0}, \"xaxis\": {\"automargin\": true, \"gridcolor\": \"#283442\", \"linecolor\": \"#506784\", \"ticks\": \"\", \"title\": {\"standoff\": 15}, \"zerolinecolor\": \"#283442\", \"zerolinewidth\": 2}, \"yaxis\": {\"automargin\": true, \"gridcolor\": \"#283442\", \"linecolor\": \"#506784\", \"ticks\": \"\", \"title\": {\"standoff\": 15}, \"zerolinecolor\": \"#283442\", \"zerolinewidth\": 2}}}, \"title\": {\"text\": \"2 Points Percent\"}},                        {\"responsive\": true}                    ).then(function(){\n",
              "                            \n",
              "var gd = document.getElementById('9b3c24fd-7d8b-4972-909d-d304e6f1593b');\n",
              "var x = new MutationObserver(function (mutations, observer) {{\n",
              "        var display = window.getComputedStyle(gd).display;\n",
              "        if (!display || display === 'none') {{\n",
              "            console.log([gd, 'removed!']);\n",
              "            Plotly.purge(gd);\n",
              "            observer.disconnect();\n",
              "        }}\n",
              "}});\n",
              "\n",
              "// Listen for the removal of the full notebook cells\n",
              "var notebookContainer = gd.closest('#notebook-container');\n",
              "if (notebookContainer) {{\n",
              "    x.observe(notebookContainer, {childList: true});\n",
              "}}\n",
              "\n",
              "// Listen for the clearing of the current output cell\n",
              "var outputEl = gd.closest('.output');\n",
              "if (outputEl) {{\n",
              "    x.observe(outputEl, {childList: true});\n",
              "}}\n",
              "\n",
              "                        })                };                            </script>        </div>\n",
              "</body>\n",
              "</html>"
            ]
          },
          "metadata": {
            "tags": []
          }
        }
      ]
    },
    {
      "cell_type": "markdown",
      "metadata": {
        "id": "jItBUTMcD_BQ"
      },
      "source": [
        "#pie chart 3pts by a team"
      ]
    },
    {
      "cell_type": "code",
      "metadata": {
        "id": "bSp1WYgq7LpZ",
        "colab": {
          "base_uri": "https://localhost:8080/",
          "height": 542
        },
        "outputId": "03289b53-c781-416b-b293-d9f58f5eb61d"
      },
      "source": [
        "\r\n",
        "fig = px.pie(nba_20_copy, values='three_pa', names='TEAM',title='3 Points Percent',template='plotly_dark' )\r\n",
        "fig.show()"
      ],
      "execution_count": null,
      "outputs": [
        {
          "output_type": "display_data",
          "data": {
            "text/html": [
              "<html>\n",
              "<head><meta charset=\"utf-8\" /></head>\n",
              "<body>\n",
              "    <div>            <script src=\"https://cdnjs.cloudflare.com/ajax/libs/mathjax/2.7.5/MathJax.js?config=TeX-AMS-MML_SVG\"></script><script type=\"text/javascript\">if (window.MathJax) {MathJax.Hub.Config({SVG: {font: \"STIX-Web\"}});}</script>                <script type=\"text/javascript\">window.PlotlyConfig = {MathJaxConfig: 'local'};</script>\n",
              "        <script src=\"https://cdn.plot.ly/plotly-latest.min.js\"></script>                <div id=\"b5984ec2-5e96-4aa8-8335-3bbd20634ada\" class=\"plotly-graph-div\" style=\"height:525px; width:100%;\"></div>            <script type=\"text/javascript\">                                    window.PLOTLYENV=window.PLOTLYENV || {};                                    if (document.getElementById(\"b5984ec2-5e96-4aa8-8335-3bbd20634ada\")) {                    Plotly.newPlot(                        \"b5984ec2-5e96-4aa8-8335-3bbd20634ada\",                        [{\"domain\": {\"x\": [0.0, 1.0], \"y\": [0.0, 1.0]}, \"hovertemplate\": \"TEAM=%{label}<br>three_pa=%{value}<extra></extra>\", \"labels\": [\"Por\", \"Okc\", \"Mia\", \"Bro\", \"Bro\", \"Mil\", \"Por\", \"Tor\", \"Orl\", \"Dal\", \"Den\", \"Okc\", \"Lac\", \"Orl\", \"Mil\", \"Den\", \"Tor\", \"Uta\", \"Uta\", \"Ind\", \"Bos\", \"Mil\", \"Dal\", \"Phi\", \"Okc\", \"Mia\", \"Hou\", \"Lal\", \"Hou\", \"Lal\", \"Bro\", \"Orl\", \"Uta\", \"Hou\", \"Dal\", \"Lac\", \"Uta\", \"Mil\", \"Lal\", \"Den\", \"Hou\", \"Den\", \"Mia\", \"Dal\", \"Den\", \"Lal\", \"Tor\", \"Okc\", \"Mil\", \"Dal\", \"Okc\", \"Den\", \"Mia\", \"Lal\", \"Bos\", \"Phi\", \"Orl\", \"Bos\", \"Okc\", \"Dal\", \"Orl\", \"Hou\", \"Orl\", \"Por\", \"Okc\", \"Tor\", \"Lac\", \"Okc\", \"Uta\", \"Hou\", \"Den\", \"Lal\", \"Lac\", \"Bos\", \"Hou\", \"Bro\", \"Dal\", \"Hou\", \"Lac\", \"Den\", \"Bro\", \"Phi\", \"Bos\", \"Mia\", \"Por\", \"Mil\", \"Mia\", \"Por\", \"Ind\", \"Ind\", \"Tor\", \"Phi\", \"Lal\", \"Hou\", \"Lal\", \"Tor\", \"Mia\", \"Mil\", \"Uta\", \"Orl\", \"Dal\", \"Lac\", \"Lal\", \"Ind\", \"Orl\", \"Tor\", \"Bro\", \"Den\", \"Mia\", \"Bos\", \"Dal\", \"Dal\", \"Phi\", \"Mil\", \"Bro\", \"Lal\", \"Bos\", \"Orl\", \"Lac\", \"Mia\", \"Bro\", \"Por\", \"Mil\", \"Mil\", \"Tor\", \"Bro\", \"Lac\", \"Dal\", \"Bro\", \"Mil\", \"Mil\", \"Por\", \"Ind\", \"Ind\", \"Lal\", \"Lac\", \"Hou\", \"Mil\", \"Tor\", \"Den\", \"Phi\", \"Uta\", \"Uta\", \"Lac\", \"Lal\", \"Den\", \"Uta\", \"Den\", \"Bro\", \"Okc\", \"Okc\", \"Phi\", \"Uta\", \"Lac\", \"Okc\", \"Mia\", \"Por\", \"Bos\", \"Ind\", \"Mia\", \"Uta\", \"Uta\", \"Phi\", \"Lac\", \"Okc\", \"Phi\", \"Den\", \"Bos\", \"Den\", \"Dal\", \"Tor\", \"Dal\", \"Phi\", \"Hou\", \"Okc\", \"Mia\", \"Lal\", \"Orl\", \"Ind\", \"Okc\", \"Phi\", \"Lac\", \"Tor\", \"Por\", \"Bos\", \"Lal\", \"Ind\", \"Bos\", \"Bro\", \"Bos\", \"Bro\", \"Tor\", \"Phi\", \"Por\", \"Hou\", \"Uta\", \"Ind\", \"Tor\", \"Mia\", \"Den\", \"Orl\", \"Lal\", \"Bos\", \"Bos\", \"Ind\", \"Bos\", \"Tor\", \"Hou\", \"Por\", \"Bos\", \"Uta\", \"Bos\", \"Lac\", \"Mil\", \"Dal\", \"Lac\"], \"legendgroup\": \"\", \"name\": \"\", \"showlegend\": true, \"type\": \"pie\", \"values\": [4, 1, 1, 0, 11, 40, 19, 41, 18, 0, 0, 22, 22, 0, 32, 3, 5, 0, 3, 24, 120, 1, 17, 16, 0, 43, 1, 119, 0, 61, 16, 32, 49, 5, 0, 1, 34, 23, 4, 0, 68, 42, 161, 21, 6, 60, 19, 5, 21, 44, 50, 8, 107, 3, 0, 16, 16, 0, 10, 30, 35, 2, 16, 5, 37, 27, 111, 35, 0, 90, 95, 115, 23, 2, 54, 0, 54, 117, 5, 52, 12, 15, 24, 128, 7, 28, 6, 0, 9, 16, 1, 4, 5, 53, 2, 45, 39, 5, 40, 7, 3, 32, 119, 0, 1, 5, 28, 98, 9, 1, 9, 26, 6, 37, 8, 83, 2, 1, 73, 4, 21, 33, 53, 0, 72, 39, 2, 1, 5, 0, 43, 35, 0, 10, 2, 3, 36, 65, 1, 44, 25, 64, 10, 59, 69, 40, 3, 137, 6, 1, 5, 5, 29, 0, 1, 43, 11, 23, 33, 49, 22, 4, 0, 3, 43, 0, 1, 0, 89, 17, 52, 1, 28, 35, 1, 156, 50, 30, 0, 45, 2, 42, 53, 14, 123, 22, 3, 126, 36, 26, 2, 12, 4, 24, 67, 3, 14, 110, 0, 0, 44, 4, 126, 27, 19, 1, 0, 33, 1, 1, 0, 17, 51, 23, 2, 0]}],                        {\"legend\": {\"tracegroupgap\": 0}, \"template\": {\"data\": {\"bar\": [{\"error_x\": {\"color\": \"#f2f5fa\"}, \"error_y\": {\"color\": \"#f2f5fa\"}, \"marker\": {\"line\": {\"color\": \"rgb(17,17,17)\", \"width\": 0.5}}, \"type\": \"bar\"}], \"barpolar\": [{\"marker\": {\"line\": {\"color\": \"rgb(17,17,17)\", \"width\": 0.5}}, \"type\": \"barpolar\"}], \"carpet\": [{\"aaxis\": {\"endlinecolor\": \"#A2B1C6\", \"gridcolor\": \"#506784\", \"linecolor\": \"#506784\", \"minorgridcolor\": \"#506784\", \"startlinecolor\": \"#A2B1C6\"}, \"baxis\": {\"endlinecolor\": \"#A2B1C6\", \"gridcolor\": \"#506784\", \"linecolor\": \"#506784\", \"minorgridcolor\": \"#506784\", \"startlinecolor\": \"#A2B1C6\"}, \"type\": \"carpet\"}], \"choropleth\": [{\"colorbar\": {\"outlinewidth\": 0, \"ticks\": \"\"}, \"type\": \"choropleth\"}], \"contour\": [{\"colorbar\": {\"outlinewidth\": 0, \"ticks\": \"\"}, \"colorscale\": [[0.0, \"#0d0887\"], [0.1111111111111111, \"#46039f\"], [0.2222222222222222, \"#7201a8\"], [0.3333333333333333, \"#9c179e\"], [0.4444444444444444, \"#bd3786\"], [0.5555555555555556, \"#d8576b\"], [0.6666666666666666, \"#ed7953\"], [0.7777777777777778, \"#fb9f3a\"], [0.8888888888888888, \"#fdca26\"], [1.0, \"#f0f921\"]], \"type\": \"contour\"}], \"contourcarpet\": [{\"colorbar\": {\"outlinewidth\": 0, \"ticks\": \"\"}, \"type\": \"contourcarpet\"}], \"heatmap\": [{\"colorbar\": {\"outlinewidth\": 0, \"ticks\": \"\"}, \"colorscale\": [[0.0, \"#0d0887\"], [0.1111111111111111, \"#46039f\"], [0.2222222222222222, \"#7201a8\"], [0.3333333333333333, \"#9c179e\"], [0.4444444444444444, \"#bd3786\"], [0.5555555555555556, \"#d8576b\"], [0.6666666666666666, \"#ed7953\"], [0.7777777777777778, \"#fb9f3a\"], [0.8888888888888888, \"#fdca26\"], [1.0, \"#f0f921\"]], \"type\": \"heatmap\"}], \"heatmapgl\": [{\"colorbar\": {\"outlinewidth\": 0, \"ticks\": \"\"}, \"colorscale\": [[0.0, \"#0d0887\"], [0.1111111111111111, \"#46039f\"], [0.2222222222222222, \"#7201a8\"], [0.3333333333333333, \"#9c179e\"], [0.4444444444444444, \"#bd3786\"], [0.5555555555555556, \"#d8576b\"], [0.6666666666666666, \"#ed7953\"], [0.7777777777777778, \"#fb9f3a\"], [0.8888888888888888, \"#fdca26\"], [1.0, \"#f0f921\"]], \"type\": \"heatmapgl\"}], \"histogram\": [{\"marker\": {\"colorbar\": {\"outlinewidth\": 0, \"ticks\": \"\"}}, \"type\": \"histogram\"}], \"histogram2d\": [{\"colorbar\": {\"outlinewidth\": 0, \"ticks\": \"\"}, \"colorscale\": [[0.0, \"#0d0887\"], [0.1111111111111111, \"#46039f\"], [0.2222222222222222, \"#7201a8\"], [0.3333333333333333, \"#9c179e\"], [0.4444444444444444, \"#bd3786\"], [0.5555555555555556, \"#d8576b\"], [0.6666666666666666, \"#ed7953\"], [0.7777777777777778, \"#fb9f3a\"], [0.8888888888888888, \"#fdca26\"], [1.0, \"#f0f921\"]], \"type\": \"histogram2d\"}], \"histogram2dcontour\": [{\"colorbar\": {\"outlinewidth\": 0, \"ticks\": \"\"}, \"colorscale\": [[0.0, \"#0d0887\"], [0.1111111111111111, \"#46039f\"], [0.2222222222222222, \"#7201a8\"], [0.3333333333333333, \"#9c179e\"], [0.4444444444444444, \"#bd3786\"], [0.5555555555555556, \"#d8576b\"], [0.6666666666666666, \"#ed7953\"], [0.7777777777777778, \"#fb9f3a\"], [0.8888888888888888, \"#fdca26\"], [1.0, \"#f0f921\"]], \"type\": \"histogram2dcontour\"}], \"mesh3d\": [{\"colorbar\": {\"outlinewidth\": 0, \"ticks\": \"\"}, \"type\": \"mesh3d\"}], \"parcoords\": [{\"line\": {\"colorbar\": {\"outlinewidth\": 0, \"ticks\": \"\"}}, \"type\": \"parcoords\"}], \"pie\": [{\"automargin\": true, \"type\": \"pie\"}], \"scatter\": [{\"marker\": {\"line\": {\"color\": \"#283442\"}}, \"type\": \"scatter\"}], \"scatter3d\": [{\"line\": {\"colorbar\": {\"outlinewidth\": 0, \"ticks\": \"\"}}, \"marker\": {\"colorbar\": {\"outlinewidth\": 0, \"ticks\": \"\"}}, \"type\": \"scatter3d\"}], \"scattercarpet\": [{\"marker\": {\"colorbar\": {\"outlinewidth\": 0, \"ticks\": \"\"}}, \"type\": \"scattercarpet\"}], \"scattergeo\": [{\"marker\": {\"colorbar\": {\"outlinewidth\": 0, \"ticks\": \"\"}}, \"type\": \"scattergeo\"}], \"scattergl\": [{\"marker\": {\"line\": {\"color\": \"#283442\"}}, \"type\": \"scattergl\"}], \"scattermapbox\": [{\"marker\": {\"colorbar\": {\"outlinewidth\": 0, \"ticks\": \"\"}}, \"type\": \"scattermapbox\"}], \"scatterpolar\": [{\"marker\": {\"colorbar\": {\"outlinewidth\": 0, \"ticks\": \"\"}}, \"type\": \"scatterpolar\"}], \"scatterpolargl\": [{\"marker\": {\"colorbar\": {\"outlinewidth\": 0, \"ticks\": \"\"}}, \"type\": \"scatterpolargl\"}], \"scatterternary\": [{\"marker\": {\"colorbar\": {\"outlinewidth\": 0, \"ticks\": \"\"}}, \"type\": \"scatterternary\"}], \"surface\": [{\"colorbar\": {\"outlinewidth\": 0, \"ticks\": \"\"}, \"colorscale\": [[0.0, \"#0d0887\"], [0.1111111111111111, \"#46039f\"], [0.2222222222222222, \"#7201a8\"], [0.3333333333333333, \"#9c179e\"], [0.4444444444444444, \"#bd3786\"], [0.5555555555555556, \"#d8576b\"], [0.6666666666666666, \"#ed7953\"], [0.7777777777777778, \"#fb9f3a\"], [0.8888888888888888, \"#fdca26\"], [1.0, \"#f0f921\"]], \"type\": \"surface\"}], \"table\": [{\"cells\": {\"fill\": {\"color\": \"#506784\"}, \"line\": {\"color\": \"rgb(17,17,17)\"}}, \"header\": {\"fill\": {\"color\": \"#2a3f5f\"}, \"line\": {\"color\": \"rgb(17,17,17)\"}}, \"type\": \"table\"}]}, \"layout\": {\"annotationdefaults\": {\"arrowcolor\": \"#f2f5fa\", \"arrowhead\": 0, \"arrowwidth\": 1}, \"autotypenumbers\": \"strict\", \"coloraxis\": {\"colorbar\": {\"outlinewidth\": 0, \"ticks\": \"\"}}, \"colorscale\": {\"diverging\": [[0, \"#8e0152\"], [0.1, \"#c51b7d\"], [0.2, \"#de77ae\"], [0.3, \"#f1b6da\"], [0.4, \"#fde0ef\"], [0.5, \"#f7f7f7\"], [0.6, \"#e6f5d0\"], [0.7, \"#b8e186\"], [0.8, \"#7fbc41\"], [0.9, \"#4d9221\"], [1, \"#276419\"]], \"sequential\": [[0.0, \"#0d0887\"], [0.1111111111111111, \"#46039f\"], [0.2222222222222222, \"#7201a8\"], [0.3333333333333333, \"#9c179e\"], [0.4444444444444444, \"#bd3786\"], [0.5555555555555556, \"#d8576b\"], [0.6666666666666666, \"#ed7953\"], [0.7777777777777778, \"#fb9f3a\"], [0.8888888888888888, \"#fdca26\"], [1.0, \"#f0f921\"]], \"sequentialminus\": [[0.0, \"#0d0887\"], [0.1111111111111111, \"#46039f\"], [0.2222222222222222, \"#7201a8\"], [0.3333333333333333, \"#9c179e\"], [0.4444444444444444, \"#bd3786\"], [0.5555555555555556, \"#d8576b\"], [0.6666666666666666, \"#ed7953\"], [0.7777777777777778, \"#fb9f3a\"], [0.8888888888888888, \"#fdca26\"], [1.0, \"#f0f921\"]]}, \"colorway\": [\"#636efa\", \"#EF553B\", \"#00cc96\", \"#ab63fa\", \"#FFA15A\", \"#19d3f3\", \"#FF6692\", \"#B6E880\", \"#FF97FF\", \"#FECB52\"], \"font\": {\"color\": \"#f2f5fa\"}, \"geo\": {\"bgcolor\": \"rgb(17,17,17)\", \"lakecolor\": \"rgb(17,17,17)\", \"landcolor\": \"rgb(17,17,17)\", \"showlakes\": true, \"showland\": true, \"subunitcolor\": \"#506784\"}, \"hoverlabel\": {\"align\": \"left\"}, \"hovermode\": \"closest\", \"mapbox\": {\"style\": \"dark\"}, \"paper_bgcolor\": \"rgb(17,17,17)\", \"plot_bgcolor\": \"rgb(17,17,17)\", \"polar\": {\"angularaxis\": {\"gridcolor\": \"#506784\", \"linecolor\": \"#506784\", \"ticks\": \"\"}, \"bgcolor\": \"rgb(17,17,17)\", \"radialaxis\": {\"gridcolor\": \"#506784\", \"linecolor\": \"#506784\", \"ticks\": \"\"}}, \"scene\": {\"xaxis\": {\"backgroundcolor\": \"rgb(17,17,17)\", \"gridcolor\": \"#506784\", \"gridwidth\": 2, \"linecolor\": \"#506784\", \"showbackground\": true, \"ticks\": \"\", \"zerolinecolor\": \"#C8D4E3\"}, \"yaxis\": {\"backgroundcolor\": \"rgb(17,17,17)\", \"gridcolor\": \"#506784\", \"gridwidth\": 2, \"linecolor\": \"#506784\", \"showbackground\": true, \"ticks\": \"\", \"zerolinecolor\": \"#C8D4E3\"}, \"zaxis\": {\"backgroundcolor\": \"rgb(17,17,17)\", \"gridcolor\": \"#506784\", \"gridwidth\": 2, \"linecolor\": \"#506784\", \"showbackground\": true, \"ticks\": \"\", \"zerolinecolor\": \"#C8D4E3\"}}, \"shapedefaults\": {\"line\": {\"color\": \"#f2f5fa\"}}, \"sliderdefaults\": {\"bgcolor\": \"#C8D4E3\", \"bordercolor\": \"rgb(17,17,17)\", \"borderwidth\": 1, \"tickwidth\": 0}, \"ternary\": {\"aaxis\": {\"gridcolor\": \"#506784\", \"linecolor\": \"#506784\", \"ticks\": \"\"}, \"baxis\": {\"gridcolor\": \"#506784\", \"linecolor\": \"#506784\", \"ticks\": \"\"}, \"bgcolor\": \"rgb(17,17,17)\", \"caxis\": {\"gridcolor\": \"#506784\", \"linecolor\": \"#506784\", \"ticks\": \"\"}}, \"title\": {\"x\": 0.05}, \"updatemenudefaults\": {\"bgcolor\": \"#506784\", \"borderwidth\": 0}, \"xaxis\": {\"automargin\": true, \"gridcolor\": \"#283442\", \"linecolor\": \"#506784\", \"ticks\": \"\", \"title\": {\"standoff\": 15}, \"zerolinecolor\": \"#283442\", \"zerolinewidth\": 2}, \"yaxis\": {\"automargin\": true, \"gridcolor\": \"#283442\", \"linecolor\": \"#506784\", \"ticks\": \"\", \"title\": {\"standoff\": 15}, \"zerolinecolor\": \"#283442\", \"zerolinewidth\": 2}}}, \"title\": {\"text\": \"3 Points Percent\"}},                        {\"responsive\": true}                    ).then(function(){\n",
              "                            \n",
              "var gd = document.getElementById('b5984ec2-5e96-4aa8-8335-3bbd20634ada');\n",
              "var x = new MutationObserver(function (mutations, observer) {{\n",
              "        var display = window.getComputedStyle(gd).display;\n",
              "        if (!display || display === 'none') {{\n",
              "            console.log([gd, 'removed!']);\n",
              "            Plotly.purge(gd);\n",
              "            observer.disconnect();\n",
              "        }}\n",
              "}});\n",
              "\n",
              "// Listen for the removal of the full notebook cells\n",
              "var notebookContainer = gd.closest('#notebook-container');\n",
              "if (notebookContainer) {{\n",
              "    x.observe(notebookContainer, {childList: true});\n",
              "}}\n",
              "\n",
              "// Listen for the clearing of the current output cell\n",
              "var outputEl = gd.closest('.output');\n",
              "if (outputEl) {{\n",
              "    x.observe(outputEl, {childList: true});\n",
              "}}\n",
              "\n",
              "                        })                };                            </script>        </div>\n",
              "</body>\n",
              "</html>"
            ]
          },
          "metadata": {
            "tags": []
          }
        }
      ]
    },
    {
      "cell_type": "markdown",
      "metadata": {
        "id": "Y8zEz4ja9YP4"
      },
      "source": [
        "#Dounut chart for Two points percent for each team"
      ]
    },
    {
      "cell_type": "code",
      "metadata": {
        "id": "9pCP6fhR71Ny",
        "colab": {
          "base_uri": "https://localhost:8080/",
          "height": 542
        },
        "outputId": "5652c753-8d58-41a6-f336-62e153d1c969"
      },
      "source": [
        "import plotly.graph_objects as go\r\n",
        "\r\n",
        "labels = nba_20_copy.TEAM\r\n",
        "values = nba_20_copy.two_pa\r\n",
        "\r\n",
        "# Use `hole` to create a donut-like pie chart\r\n",
        "fig = go.Figure(data=[go.Pie(labels=labels, values=values, hole=.2)])\r\n",
        "fig.show()"
      ],
      "execution_count": null,
      "outputs": [
        {
          "output_type": "display_data",
          "data": {
            "text/html": [
              "<html>\n",
              "<head><meta charset=\"utf-8\" /></head>\n",
              "<body>\n",
              "    <div>            <script src=\"https://cdnjs.cloudflare.com/ajax/libs/mathjax/2.7.5/MathJax.js?config=TeX-AMS-MML_SVG\"></script><script type=\"text/javascript\">if (window.MathJax) {MathJax.Hub.Config({SVG: {font: \"STIX-Web\"}});}</script>                <script type=\"text/javascript\">window.PlotlyConfig = {MathJaxConfig: 'local'};</script>\n",
              "        <script src=\"https://cdn.plot.ly/plotly-latest.min.js\"></script>                <div id=\"07778150-bcd0-456a-a36f-31ac86fdab66\" class=\"plotly-graph-div\" style=\"height:525px; width:100%;\"></div>            <script type=\"text/javascript\">                                    window.PLOTLYENV=window.PLOTLYENV || {};                                    if (document.getElementById(\"07778150-bcd0-456a-a36f-31ac86fdab66\")) {                    Plotly.newPlot(                        \"07778150-bcd0-456a-a36f-31ac86fdab66\",                        [{\"hole\": 0.2, \"labels\": [\"Por\", \"Okc\", \"Mia\", \"Bro\", \"Bro\", \"Mil\", \"Por\", \"Tor\", \"Orl\", \"Dal\", \"Den\", \"Okc\", \"Lac\", \"Orl\", \"Mil\", \"Den\", \"Tor\", \"Uta\", \"Uta\", \"Ind\", \"Bos\", \"Mil\", \"Dal\", \"Phi\", \"Okc\", \"Mia\", \"Hou\", \"Lal\", \"Hou\", \"Lal\", \"Bro\", \"Orl\", \"Uta\", \"Hou\", \"Dal\", \"Lac\", \"Uta\", \"Mil\", \"Lal\", \"Den\", \"Hou\", \"Den\", \"Mia\", \"Dal\", \"Den\", \"Lal\", \"Tor\", \"Okc\", \"Mil\", \"Dal\", \"Okc\", \"Den\", \"Mia\", \"Lal\", \"Bos\", \"Phi\", \"Orl\", \"Bos\", \"Okc\", \"Dal\", \"Orl\", \"Hou\", \"Orl\", \"Por\", \"Okc\", \"Tor\", \"Lac\", \"Okc\", \"Uta\", \"Hou\", \"Den\", \"Lal\", \"Lac\", \"Bos\", \"Hou\", \"Bro\", \"Dal\", \"Hou\", \"Lac\", \"Den\", \"Bro\", \"Phi\", \"Bos\", \"Mia\", \"Por\", \"Mil\", \"Mia\", \"Por\", \"Ind\", \"Ind\", \"Tor\", \"Phi\", \"Lal\", \"Hou\", \"Lal\", \"Tor\", \"Mia\", \"Mil\", \"Uta\", \"Orl\", \"Dal\", \"Lac\", \"Lal\", \"Ind\", \"Orl\", \"Tor\", \"Bro\", \"Den\", \"Mia\", \"Bos\", \"Dal\", \"Dal\", \"Phi\", \"Mil\", \"Bro\", \"Lal\", \"Bos\", \"Orl\", \"Lac\", \"Mia\", \"Bro\", \"Por\", \"Mil\", \"Mil\", \"Tor\", \"Bro\", \"Lac\", \"Dal\", \"Bro\", \"Mil\", \"Mil\", \"Por\", \"Ind\", \"Ind\", \"Lal\", \"Lac\", \"Hou\", \"Mil\", \"Tor\", \"Den\", \"Phi\", \"Uta\", \"Uta\", \"Lac\", \"Lal\", \"Den\", \"Uta\", \"Den\", \"Bro\", \"Okc\", \"Okc\", \"Phi\", \"Uta\", \"Lac\", \"Okc\", \"Mia\", \"Por\", \"Bos\", \"Ind\", \"Mia\", \"Uta\", \"Uta\", \"Phi\", \"Lac\", \"Okc\", \"Phi\", \"Den\", \"Bos\", \"Den\", \"Dal\", \"Tor\", \"Dal\", \"Phi\", \"Hou\", \"Okc\", \"Mia\", \"Lal\", \"Orl\", \"Ind\", \"Okc\", \"Phi\", \"Lac\", \"Tor\", \"Por\", \"Bos\", \"Lal\", \"Ind\", \"Bos\", \"Bro\", \"Bos\", \"Bro\", \"Tor\", \"Phi\", \"Por\", \"Hou\", \"Uta\", \"Ind\", \"Tor\", \"Mia\", \"Den\", \"Orl\", \"Lal\", \"Bos\", \"Bos\", \"Ind\", \"Bos\", \"Tor\", \"Hou\", \"Por\", \"Bos\", \"Uta\", \"Bos\", \"Lac\", \"Mil\", \"Dal\", \"Lac\"], \"type\": \"pie\", \"values\": [5, 51, 219, 24, 1, 121, 49, 47, 29, 1, 5, 9, 17, 14, 66, 6, 6, 9, 2, 41, 168, 0, 42, 33, 0, 252, 1, 70, 2, 52, 8, 1, 48, 0, 5, 2, 30, 12, 6, 0, 27, 36, 40, 32, 6, 299, 10, 6, 30, 84, 26, 25, 161, 1, 0, 58, 19, 1, 1, 22, 22, 2, 44, 10, 42, 37, 110, 55, 74, 86, 80, 55, 32, 0, 49, 5, 41, 111, 77, 38, 11, 46, 26, 149, 15, 39, 3, 12, 12, 5, 9, 21, 7, 32, 55, 65, 26, 4, 14, 13, 3, 16, 263, 0, 1, 6, 18, 245, 8, 41, 5, 13, 1, 10, 12, 96, 8, 0, 195, 4, 52, 31, 61, 4, 76, 20, 3, 29, 9, 0, 14, 64, 8, 5, 30, 2, 4, 115, 2, 74, 19, 93, 2, 52, 29, 93, 11, 231, 5, 1, 2, 4, 15, 0, 16, 49, 46, 5, 23, 46, 10, 2, 0, 0, 69, 0, 38, 0, 75, 23, 52, 2, 28, 26, 0, 20, 71, 34, 16, 64, 3, 17, 129, 12, 75, 4, 4, 208, 13, 91, 3, 9, 3, 21, 21, 2, 30, 80, 0, 1, 67, 8, 130, 33, 49, 0, 2, 107, 23, 30, 0, 9, 95, 24, 8, 78]}],                        {\"template\": {\"data\": {\"bar\": [{\"error_x\": {\"color\": \"#2a3f5f\"}, \"error_y\": {\"color\": \"#2a3f5f\"}, \"marker\": {\"line\": {\"color\": \"#E5ECF6\", \"width\": 0.5}}, \"type\": \"bar\"}], \"barpolar\": [{\"marker\": {\"line\": {\"color\": \"#E5ECF6\", \"width\": 0.5}}, \"type\": \"barpolar\"}], \"carpet\": [{\"aaxis\": {\"endlinecolor\": \"#2a3f5f\", \"gridcolor\": \"white\", \"linecolor\": \"white\", \"minorgridcolor\": \"white\", \"startlinecolor\": \"#2a3f5f\"}, \"baxis\": {\"endlinecolor\": \"#2a3f5f\", \"gridcolor\": \"white\", \"linecolor\": \"white\", \"minorgridcolor\": \"white\", \"startlinecolor\": \"#2a3f5f\"}, \"type\": \"carpet\"}], \"choropleth\": [{\"colorbar\": {\"outlinewidth\": 0, \"ticks\": \"\"}, \"type\": \"choropleth\"}], \"contour\": [{\"colorbar\": {\"outlinewidth\": 0, \"ticks\": \"\"}, \"colorscale\": [[0.0, \"#0d0887\"], [0.1111111111111111, \"#46039f\"], [0.2222222222222222, \"#7201a8\"], [0.3333333333333333, \"#9c179e\"], [0.4444444444444444, \"#bd3786\"], [0.5555555555555556, \"#d8576b\"], [0.6666666666666666, \"#ed7953\"], [0.7777777777777778, \"#fb9f3a\"], [0.8888888888888888, \"#fdca26\"], [1.0, \"#f0f921\"]], \"type\": \"contour\"}], \"contourcarpet\": [{\"colorbar\": {\"outlinewidth\": 0, \"ticks\": \"\"}, \"type\": \"contourcarpet\"}], \"heatmap\": [{\"colorbar\": {\"outlinewidth\": 0, \"ticks\": \"\"}, \"colorscale\": [[0.0, \"#0d0887\"], [0.1111111111111111, \"#46039f\"], [0.2222222222222222, \"#7201a8\"], [0.3333333333333333, \"#9c179e\"], [0.4444444444444444, \"#bd3786\"], [0.5555555555555556, \"#d8576b\"], [0.6666666666666666, \"#ed7953\"], [0.7777777777777778, \"#fb9f3a\"], [0.8888888888888888, \"#fdca26\"], [1.0, \"#f0f921\"]], \"type\": \"heatmap\"}], \"heatmapgl\": [{\"colorbar\": {\"outlinewidth\": 0, \"ticks\": \"\"}, \"colorscale\": [[0.0, \"#0d0887\"], [0.1111111111111111, \"#46039f\"], [0.2222222222222222, \"#7201a8\"], [0.3333333333333333, \"#9c179e\"], [0.4444444444444444, \"#bd3786\"], [0.5555555555555556, \"#d8576b\"], [0.6666666666666666, \"#ed7953\"], [0.7777777777777778, \"#fb9f3a\"], [0.8888888888888888, \"#fdca26\"], [1.0, \"#f0f921\"]], \"type\": \"heatmapgl\"}], \"histogram\": [{\"marker\": {\"colorbar\": {\"outlinewidth\": 0, \"ticks\": \"\"}}, \"type\": \"histogram\"}], \"histogram2d\": [{\"colorbar\": {\"outlinewidth\": 0, \"ticks\": \"\"}, \"colorscale\": [[0.0, \"#0d0887\"], [0.1111111111111111, \"#46039f\"], [0.2222222222222222, \"#7201a8\"], [0.3333333333333333, \"#9c179e\"], [0.4444444444444444, \"#bd3786\"], [0.5555555555555556, \"#d8576b\"], [0.6666666666666666, \"#ed7953\"], [0.7777777777777778, \"#fb9f3a\"], [0.8888888888888888, \"#fdca26\"], [1.0, \"#f0f921\"]], \"type\": \"histogram2d\"}], \"histogram2dcontour\": [{\"colorbar\": {\"outlinewidth\": 0, \"ticks\": \"\"}, \"colorscale\": [[0.0, \"#0d0887\"], [0.1111111111111111, \"#46039f\"], [0.2222222222222222, \"#7201a8\"], [0.3333333333333333, \"#9c179e\"], [0.4444444444444444, \"#bd3786\"], [0.5555555555555556, \"#d8576b\"], [0.6666666666666666, \"#ed7953\"], [0.7777777777777778, \"#fb9f3a\"], [0.8888888888888888, \"#fdca26\"], [1.0, \"#f0f921\"]], \"type\": \"histogram2dcontour\"}], \"mesh3d\": [{\"colorbar\": {\"outlinewidth\": 0, \"ticks\": \"\"}, \"type\": \"mesh3d\"}], \"parcoords\": [{\"line\": {\"colorbar\": {\"outlinewidth\": 0, \"ticks\": \"\"}}, \"type\": \"parcoords\"}], \"pie\": [{\"automargin\": true, \"type\": \"pie\"}], \"scatter\": [{\"marker\": {\"colorbar\": {\"outlinewidth\": 0, \"ticks\": \"\"}}, \"type\": \"scatter\"}], \"scatter3d\": [{\"line\": {\"colorbar\": {\"outlinewidth\": 0, \"ticks\": \"\"}}, \"marker\": {\"colorbar\": {\"outlinewidth\": 0, \"ticks\": \"\"}}, \"type\": \"scatter3d\"}], \"scattercarpet\": [{\"marker\": {\"colorbar\": {\"outlinewidth\": 0, \"ticks\": \"\"}}, \"type\": \"scattercarpet\"}], \"scattergeo\": [{\"marker\": {\"colorbar\": {\"outlinewidth\": 0, \"ticks\": \"\"}}, \"type\": \"scattergeo\"}], \"scattergl\": [{\"marker\": {\"colorbar\": {\"outlinewidth\": 0, \"ticks\": \"\"}}, \"type\": \"scattergl\"}], \"scattermapbox\": [{\"marker\": {\"colorbar\": {\"outlinewidth\": 0, \"ticks\": \"\"}}, \"type\": \"scattermapbox\"}], \"scatterpolar\": [{\"marker\": {\"colorbar\": {\"outlinewidth\": 0, \"ticks\": \"\"}}, \"type\": \"scatterpolar\"}], \"scatterpolargl\": [{\"marker\": {\"colorbar\": {\"outlinewidth\": 0, \"ticks\": \"\"}}, \"type\": \"scatterpolargl\"}], \"scatterternary\": [{\"marker\": {\"colorbar\": {\"outlinewidth\": 0, \"ticks\": \"\"}}, \"type\": \"scatterternary\"}], \"surface\": [{\"colorbar\": {\"outlinewidth\": 0, \"ticks\": \"\"}, \"colorscale\": [[0.0, \"#0d0887\"], [0.1111111111111111, \"#46039f\"], [0.2222222222222222, \"#7201a8\"], [0.3333333333333333, \"#9c179e\"], [0.4444444444444444, \"#bd3786\"], [0.5555555555555556, \"#d8576b\"], [0.6666666666666666, \"#ed7953\"], [0.7777777777777778, \"#fb9f3a\"], [0.8888888888888888, \"#fdca26\"], [1.0, \"#f0f921\"]], \"type\": \"surface\"}], \"table\": [{\"cells\": {\"fill\": {\"color\": \"#EBF0F8\"}, \"line\": {\"color\": \"white\"}}, \"header\": {\"fill\": {\"color\": \"#C8D4E3\"}, \"line\": {\"color\": \"white\"}}, \"type\": \"table\"}]}, \"layout\": {\"annotationdefaults\": {\"arrowcolor\": \"#2a3f5f\", \"arrowhead\": 0, \"arrowwidth\": 1}, \"autotypenumbers\": \"strict\", \"coloraxis\": {\"colorbar\": {\"outlinewidth\": 0, \"ticks\": \"\"}}, \"colorscale\": {\"diverging\": [[0, \"#8e0152\"], [0.1, \"#c51b7d\"], [0.2, \"#de77ae\"], [0.3, \"#f1b6da\"], [0.4, \"#fde0ef\"], [0.5, \"#f7f7f7\"], [0.6, \"#e6f5d0\"], [0.7, \"#b8e186\"], [0.8, \"#7fbc41\"], [0.9, \"#4d9221\"], [1, \"#276419\"]], \"sequential\": [[0.0, \"#0d0887\"], [0.1111111111111111, \"#46039f\"], [0.2222222222222222, \"#7201a8\"], [0.3333333333333333, \"#9c179e\"], [0.4444444444444444, \"#bd3786\"], [0.5555555555555556, \"#d8576b\"], [0.6666666666666666, \"#ed7953\"], [0.7777777777777778, \"#fb9f3a\"], [0.8888888888888888, \"#fdca26\"], [1.0, \"#f0f921\"]], \"sequentialminus\": [[0.0, \"#0d0887\"], [0.1111111111111111, \"#46039f\"], [0.2222222222222222, \"#7201a8\"], [0.3333333333333333, \"#9c179e\"], [0.4444444444444444, \"#bd3786\"], [0.5555555555555556, \"#d8576b\"], [0.6666666666666666, \"#ed7953\"], [0.7777777777777778, \"#fb9f3a\"], [0.8888888888888888, \"#fdca26\"], [1.0, \"#f0f921\"]]}, \"colorway\": [\"#636efa\", \"#EF553B\", \"#00cc96\", \"#ab63fa\", \"#FFA15A\", \"#19d3f3\", \"#FF6692\", \"#B6E880\", \"#FF97FF\", \"#FECB52\"], \"font\": {\"color\": \"#2a3f5f\"}, \"geo\": {\"bgcolor\": \"white\", \"lakecolor\": \"white\", \"landcolor\": \"#E5ECF6\", \"showlakes\": true, \"showland\": true, \"subunitcolor\": \"white\"}, \"hoverlabel\": {\"align\": \"left\"}, \"hovermode\": \"closest\", \"mapbox\": {\"style\": \"light\"}, \"paper_bgcolor\": \"white\", \"plot_bgcolor\": \"#E5ECF6\", \"polar\": {\"angularaxis\": {\"gridcolor\": \"white\", \"linecolor\": \"white\", \"ticks\": \"\"}, \"bgcolor\": \"#E5ECF6\", \"radialaxis\": {\"gridcolor\": \"white\", \"linecolor\": \"white\", \"ticks\": \"\"}}, \"scene\": {\"xaxis\": {\"backgroundcolor\": \"#E5ECF6\", \"gridcolor\": \"white\", \"gridwidth\": 2, \"linecolor\": \"white\", \"showbackground\": true, \"ticks\": \"\", \"zerolinecolor\": \"white\"}, \"yaxis\": {\"backgroundcolor\": \"#E5ECF6\", \"gridcolor\": \"white\", \"gridwidth\": 2, \"linecolor\": \"white\", \"showbackground\": true, \"ticks\": \"\", \"zerolinecolor\": \"white\"}, \"zaxis\": {\"backgroundcolor\": \"#E5ECF6\", \"gridcolor\": \"white\", \"gridwidth\": 2, \"linecolor\": \"white\", \"showbackground\": true, \"ticks\": \"\", \"zerolinecolor\": \"white\"}}, \"shapedefaults\": {\"line\": {\"color\": \"#2a3f5f\"}}, \"ternary\": {\"aaxis\": {\"gridcolor\": \"white\", \"linecolor\": \"white\", \"ticks\": \"\"}, \"baxis\": {\"gridcolor\": \"white\", \"linecolor\": \"white\", \"ticks\": \"\"}, \"bgcolor\": \"#E5ECF6\", \"caxis\": {\"gridcolor\": \"white\", \"linecolor\": \"white\", \"ticks\": \"\"}}, \"title\": {\"x\": 0.05}, \"xaxis\": {\"automargin\": true, \"gridcolor\": \"white\", \"linecolor\": \"white\", \"ticks\": \"\", \"title\": {\"standoff\": 15}, \"zerolinecolor\": \"white\", \"zerolinewidth\": 2}, \"yaxis\": {\"automargin\": true, \"gridcolor\": \"white\", \"linecolor\": \"white\", \"ticks\": \"\", \"title\": {\"standoff\": 15}, \"zerolinecolor\": \"white\", \"zerolinewidth\": 2}}}},                        {\"responsive\": true}                    ).then(function(){\n",
              "                            \n",
              "var gd = document.getElementById('07778150-bcd0-456a-a36f-31ac86fdab66');\n",
              "var x = new MutationObserver(function (mutations, observer) {{\n",
              "        var display = window.getComputedStyle(gd).display;\n",
              "        if (!display || display === 'none') {{\n",
              "            console.log([gd, 'removed!']);\n",
              "            Plotly.purge(gd);\n",
              "            observer.disconnect();\n",
              "        }}\n",
              "}});\n",
              "\n",
              "// Listen for the removal of the full notebook cells\n",
              "var notebookContainer = gd.closest('#notebook-container');\n",
              "if (notebookContainer) {{\n",
              "    x.observe(notebookContainer, {childList: true});\n",
              "}}\n",
              "\n",
              "// Listen for the clearing of the current output cell\n",
              "var outputEl = gd.closest('.output');\n",
              "if (outputEl) {{\n",
              "    x.observe(outputEl, {childList: true});\n",
              "}}\n",
              "\n",
              "                        })                };                            </script>        </div>\n",
              "</body>\n",
              "</html>"
            ]
          },
          "metadata": {
            "tags": []
          }
        }
      ]
    },
    {
      "cell_type": "markdown",
      "metadata": {
        "id": "4MLZSHWtEOab"
      },
      "source": [
        "#3pts pie chart"
      ]
    },
    {
      "cell_type": "code",
      "metadata": {
        "id": "JAjLyqeyLknt",
        "colab": {
          "base_uri": "https://localhost:8080/",
          "height": 542
        },
        "outputId": "f4a4f931-ec2c-49dd-83d6-cf3e8908a880"
      },
      "source": [
        "import plotly.graph_objects as go\r\n",
        "\r\n",
        "labels = nba_20_copy.TEAM\r\n",
        "values = nba_20_copy.three_pa\r\n",
        "\r\n",
        "# Use `hole` to create a donut-like pie chart\r\n",
        "fig = go.Figure(data=[go.Pie(labels=labels, values=values, hole=.3)])\r\n",
        "fig.show()"
      ],
      "execution_count": null,
      "outputs": [
        {
          "output_type": "display_data",
          "data": {
            "text/html": [
              "<html>\n",
              "<head><meta charset=\"utf-8\" /></head>\n",
              "<body>\n",
              "    <div>            <script src=\"https://cdnjs.cloudflare.com/ajax/libs/mathjax/2.7.5/MathJax.js?config=TeX-AMS-MML_SVG\"></script><script type=\"text/javascript\">if (window.MathJax) {MathJax.Hub.Config({SVG: {font: \"STIX-Web\"}});}</script>                <script type=\"text/javascript\">window.PlotlyConfig = {MathJaxConfig: 'local'};</script>\n",
              "        <script src=\"https://cdn.plot.ly/plotly-latest.min.js\"></script>                <div id=\"42532871-0e4c-4ea4-b15a-03defaf8f6ac\" class=\"plotly-graph-div\" style=\"height:525px; width:100%;\"></div>            <script type=\"text/javascript\">                                    window.PLOTLYENV=window.PLOTLYENV || {};                                    if (document.getElementById(\"42532871-0e4c-4ea4-b15a-03defaf8f6ac\")) {                    Plotly.newPlot(                        \"42532871-0e4c-4ea4-b15a-03defaf8f6ac\",                        [{\"hole\": 0.3, \"labels\": [\"Por\", \"Okc\", \"Mia\", \"Bro\", \"Bro\", \"Mil\", \"Por\", \"Tor\", \"Orl\", \"Dal\", \"Den\", \"Okc\", \"Lac\", \"Orl\", \"Mil\", \"Den\", \"Tor\", \"Uta\", \"Uta\", \"Ind\", \"Bos\", \"Mil\", \"Dal\", \"Phi\", \"Okc\", \"Mia\", \"Hou\", \"Lal\", \"Hou\", \"Lal\", \"Bro\", \"Orl\", \"Uta\", \"Hou\", \"Dal\", \"Lac\", \"Uta\", \"Mil\", \"Lal\", \"Den\", \"Hou\", \"Den\", \"Mia\", \"Dal\", \"Den\", \"Lal\", \"Tor\", \"Okc\", \"Mil\", \"Dal\", \"Okc\", \"Den\", \"Mia\", \"Lal\", \"Bos\", \"Phi\", \"Orl\", \"Bos\", \"Okc\", \"Dal\", \"Orl\", \"Hou\", \"Orl\", \"Por\", \"Okc\", \"Tor\", \"Lac\", \"Okc\", \"Uta\", \"Hou\", \"Den\", \"Lal\", \"Lac\", \"Bos\", \"Hou\", \"Bro\", \"Dal\", \"Hou\", \"Lac\", \"Den\", \"Bro\", \"Phi\", \"Bos\", \"Mia\", \"Por\", \"Mil\", \"Mia\", \"Por\", \"Ind\", \"Ind\", \"Tor\", \"Phi\", \"Lal\", \"Hou\", \"Lal\", \"Tor\", \"Mia\", \"Mil\", \"Uta\", \"Orl\", \"Dal\", \"Lac\", \"Lal\", \"Ind\", \"Orl\", \"Tor\", \"Bro\", \"Den\", \"Mia\", \"Bos\", \"Dal\", \"Dal\", \"Phi\", \"Mil\", \"Bro\", \"Lal\", \"Bos\", \"Orl\", \"Lac\", \"Mia\", \"Bro\", \"Por\", \"Mil\", \"Mil\", \"Tor\", \"Bro\", \"Lac\", \"Dal\", \"Bro\", \"Mil\", \"Mil\", \"Por\", \"Ind\", \"Ind\", \"Lal\", \"Lac\", \"Hou\", \"Mil\", \"Tor\", \"Den\", \"Phi\", \"Uta\", \"Uta\", \"Lac\", \"Lal\", \"Den\", \"Uta\", \"Den\", \"Bro\", \"Okc\", \"Okc\", \"Phi\", \"Uta\", \"Lac\", \"Okc\", \"Mia\", \"Por\", \"Bos\", \"Ind\", \"Mia\", \"Uta\", \"Uta\", \"Phi\", \"Lac\", \"Okc\", \"Phi\", \"Den\", \"Bos\", \"Den\", \"Dal\", \"Tor\", \"Dal\", \"Phi\", \"Hou\", \"Okc\", \"Mia\", \"Lal\", \"Orl\", \"Ind\", \"Okc\", \"Phi\", \"Lac\", \"Tor\", \"Por\", \"Bos\", \"Lal\", \"Ind\", \"Bos\", \"Bro\", \"Bos\", \"Bro\", \"Tor\", \"Phi\", \"Por\", \"Hou\", \"Uta\", \"Ind\", \"Tor\", \"Mia\", \"Den\", \"Orl\", \"Lal\", \"Bos\", \"Bos\", \"Ind\", \"Bos\", \"Tor\", \"Hou\", \"Por\", \"Bos\", \"Uta\", \"Bos\", \"Lac\", \"Mil\", \"Dal\", \"Lac\"], \"type\": \"pie\", \"values\": [4, 1, 1, 0, 11, 40, 19, 41, 18, 0, 0, 22, 22, 0, 32, 3, 5, 0, 3, 24, 120, 1, 17, 16, 0, 43, 1, 119, 0, 61, 16, 32, 49, 5, 0, 1, 34, 23, 4, 0, 68, 42, 161, 21, 6, 60, 19, 5, 21, 44, 50, 8, 107, 3, 0, 16, 16, 0, 10, 30, 35, 2, 16, 5, 37, 27, 111, 35, 0, 90, 95, 115, 23, 2, 54, 0, 54, 117, 5, 52, 12, 15, 24, 128, 7, 28, 6, 0, 9, 16, 1, 4, 5, 53, 2, 45, 39, 5, 40, 7, 3, 32, 119, 0, 1, 5, 28, 98, 9, 1, 9, 26, 6, 37, 8, 83, 2, 1, 73, 4, 21, 33, 53, 0, 72, 39, 2, 1, 5, 0, 43, 35, 0, 10, 2, 3, 36, 65, 1, 44, 25, 64, 10, 59, 69, 40, 3, 137, 6, 1, 5, 5, 29, 0, 1, 43, 11, 23, 33, 49, 22, 4, 0, 3, 43, 0, 1, 0, 89, 17, 52, 1, 28, 35, 1, 156, 50, 30, 0, 45, 2, 42, 53, 14, 123, 22, 3, 126, 36, 26, 2, 12, 4, 24, 67, 3, 14, 110, 0, 0, 44, 4, 126, 27, 19, 1, 0, 33, 1, 1, 0, 17, 51, 23, 2, 0]}],                        {\"template\": {\"data\": {\"bar\": [{\"error_x\": {\"color\": \"#2a3f5f\"}, \"error_y\": {\"color\": \"#2a3f5f\"}, \"marker\": {\"line\": {\"color\": \"#E5ECF6\", \"width\": 0.5}}, \"type\": \"bar\"}], \"barpolar\": [{\"marker\": {\"line\": {\"color\": \"#E5ECF6\", \"width\": 0.5}}, \"type\": \"barpolar\"}], \"carpet\": [{\"aaxis\": {\"endlinecolor\": \"#2a3f5f\", \"gridcolor\": \"white\", \"linecolor\": \"white\", \"minorgridcolor\": \"white\", \"startlinecolor\": \"#2a3f5f\"}, \"baxis\": {\"endlinecolor\": \"#2a3f5f\", \"gridcolor\": \"white\", \"linecolor\": \"white\", \"minorgridcolor\": \"white\", \"startlinecolor\": \"#2a3f5f\"}, \"type\": \"carpet\"}], \"choropleth\": [{\"colorbar\": {\"outlinewidth\": 0, \"ticks\": \"\"}, \"type\": \"choropleth\"}], \"contour\": [{\"colorbar\": {\"outlinewidth\": 0, \"ticks\": \"\"}, \"colorscale\": [[0.0, \"#0d0887\"], [0.1111111111111111, \"#46039f\"], [0.2222222222222222, \"#7201a8\"], [0.3333333333333333, \"#9c179e\"], [0.4444444444444444, \"#bd3786\"], [0.5555555555555556, \"#d8576b\"], [0.6666666666666666, \"#ed7953\"], [0.7777777777777778, \"#fb9f3a\"], [0.8888888888888888, \"#fdca26\"], [1.0, \"#f0f921\"]], \"type\": \"contour\"}], \"contourcarpet\": [{\"colorbar\": {\"outlinewidth\": 0, \"ticks\": \"\"}, \"type\": \"contourcarpet\"}], \"heatmap\": [{\"colorbar\": {\"outlinewidth\": 0, \"ticks\": \"\"}, \"colorscale\": [[0.0, \"#0d0887\"], [0.1111111111111111, \"#46039f\"], [0.2222222222222222, \"#7201a8\"], [0.3333333333333333, \"#9c179e\"], [0.4444444444444444, \"#bd3786\"], [0.5555555555555556, \"#d8576b\"], [0.6666666666666666, \"#ed7953\"], [0.7777777777777778, \"#fb9f3a\"], [0.8888888888888888, \"#fdca26\"], [1.0, \"#f0f921\"]], \"type\": \"heatmap\"}], \"heatmapgl\": [{\"colorbar\": {\"outlinewidth\": 0, \"ticks\": \"\"}, \"colorscale\": [[0.0, \"#0d0887\"], [0.1111111111111111, \"#46039f\"], [0.2222222222222222, \"#7201a8\"], [0.3333333333333333, \"#9c179e\"], [0.4444444444444444, \"#bd3786\"], [0.5555555555555556, \"#d8576b\"], [0.6666666666666666, \"#ed7953\"], [0.7777777777777778, \"#fb9f3a\"], [0.8888888888888888, \"#fdca26\"], [1.0, \"#f0f921\"]], \"type\": \"heatmapgl\"}], \"histogram\": [{\"marker\": {\"colorbar\": {\"outlinewidth\": 0, \"ticks\": \"\"}}, \"type\": \"histogram\"}], \"histogram2d\": [{\"colorbar\": {\"outlinewidth\": 0, \"ticks\": \"\"}, \"colorscale\": [[0.0, \"#0d0887\"], [0.1111111111111111, \"#46039f\"], [0.2222222222222222, \"#7201a8\"], [0.3333333333333333, \"#9c179e\"], [0.4444444444444444, \"#bd3786\"], [0.5555555555555556, \"#d8576b\"], [0.6666666666666666, \"#ed7953\"], [0.7777777777777778, \"#fb9f3a\"], [0.8888888888888888, \"#fdca26\"], [1.0, \"#f0f921\"]], \"type\": \"histogram2d\"}], \"histogram2dcontour\": [{\"colorbar\": {\"outlinewidth\": 0, \"ticks\": \"\"}, \"colorscale\": [[0.0, \"#0d0887\"], [0.1111111111111111, \"#46039f\"], [0.2222222222222222, \"#7201a8\"], [0.3333333333333333, \"#9c179e\"], [0.4444444444444444, \"#bd3786\"], [0.5555555555555556, \"#d8576b\"], [0.6666666666666666, \"#ed7953\"], [0.7777777777777778, \"#fb9f3a\"], [0.8888888888888888, \"#fdca26\"], [1.0, \"#f0f921\"]], \"type\": \"histogram2dcontour\"}], \"mesh3d\": [{\"colorbar\": {\"outlinewidth\": 0, \"ticks\": \"\"}, \"type\": \"mesh3d\"}], \"parcoords\": [{\"line\": {\"colorbar\": {\"outlinewidth\": 0, \"ticks\": \"\"}}, \"type\": \"parcoords\"}], \"pie\": [{\"automargin\": true, \"type\": \"pie\"}], \"scatter\": [{\"marker\": {\"colorbar\": {\"outlinewidth\": 0, \"ticks\": \"\"}}, \"type\": \"scatter\"}], \"scatter3d\": [{\"line\": {\"colorbar\": {\"outlinewidth\": 0, \"ticks\": \"\"}}, \"marker\": {\"colorbar\": {\"outlinewidth\": 0, \"ticks\": \"\"}}, \"type\": \"scatter3d\"}], \"scattercarpet\": [{\"marker\": {\"colorbar\": {\"outlinewidth\": 0, \"ticks\": \"\"}}, \"type\": \"scattercarpet\"}], \"scattergeo\": [{\"marker\": {\"colorbar\": {\"outlinewidth\": 0, \"ticks\": \"\"}}, \"type\": \"scattergeo\"}], \"scattergl\": [{\"marker\": {\"colorbar\": {\"outlinewidth\": 0, \"ticks\": \"\"}}, \"type\": \"scattergl\"}], \"scattermapbox\": [{\"marker\": {\"colorbar\": {\"outlinewidth\": 0, \"ticks\": \"\"}}, \"type\": \"scattermapbox\"}], \"scatterpolar\": [{\"marker\": {\"colorbar\": {\"outlinewidth\": 0, \"ticks\": \"\"}}, \"type\": \"scatterpolar\"}], \"scatterpolargl\": [{\"marker\": {\"colorbar\": {\"outlinewidth\": 0, \"ticks\": \"\"}}, \"type\": \"scatterpolargl\"}], \"scatterternary\": [{\"marker\": {\"colorbar\": {\"outlinewidth\": 0, \"ticks\": \"\"}}, \"type\": \"scatterternary\"}], \"surface\": [{\"colorbar\": {\"outlinewidth\": 0, \"ticks\": \"\"}, \"colorscale\": [[0.0, \"#0d0887\"], [0.1111111111111111, \"#46039f\"], [0.2222222222222222, \"#7201a8\"], [0.3333333333333333, \"#9c179e\"], [0.4444444444444444, \"#bd3786\"], [0.5555555555555556, \"#d8576b\"], [0.6666666666666666, \"#ed7953\"], [0.7777777777777778, \"#fb9f3a\"], [0.8888888888888888, \"#fdca26\"], [1.0, \"#f0f921\"]], \"type\": \"surface\"}], \"table\": [{\"cells\": {\"fill\": {\"color\": \"#EBF0F8\"}, \"line\": {\"color\": \"white\"}}, \"header\": {\"fill\": {\"color\": \"#C8D4E3\"}, \"line\": {\"color\": \"white\"}}, \"type\": \"table\"}]}, \"layout\": {\"annotationdefaults\": {\"arrowcolor\": \"#2a3f5f\", \"arrowhead\": 0, \"arrowwidth\": 1}, \"autotypenumbers\": \"strict\", \"coloraxis\": {\"colorbar\": {\"outlinewidth\": 0, \"ticks\": \"\"}}, \"colorscale\": {\"diverging\": [[0, \"#8e0152\"], [0.1, \"#c51b7d\"], [0.2, \"#de77ae\"], [0.3, \"#f1b6da\"], [0.4, \"#fde0ef\"], [0.5, \"#f7f7f7\"], [0.6, \"#e6f5d0\"], [0.7, \"#b8e186\"], [0.8, \"#7fbc41\"], [0.9, \"#4d9221\"], [1, \"#276419\"]], \"sequential\": [[0.0, \"#0d0887\"], [0.1111111111111111, \"#46039f\"], [0.2222222222222222, \"#7201a8\"], [0.3333333333333333, \"#9c179e\"], [0.4444444444444444, \"#bd3786\"], [0.5555555555555556, \"#d8576b\"], [0.6666666666666666, \"#ed7953\"], [0.7777777777777778, \"#fb9f3a\"], [0.8888888888888888, \"#fdca26\"], [1.0, \"#f0f921\"]], \"sequentialminus\": [[0.0, \"#0d0887\"], [0.1111111111111111, \"#46039f\"], [0.2222222222222222, \"#7201a8\"], [0.3333333333333333, \"#9c179e\"], [0.4444444444444444, \"#bd3786\"], [0.5555555555555556, \"#d8576b\"], [0.6666666666666666, \"#ed7953\"], [0.7777777777777778, \"#fb9f3a\"], [0.8888888888888888, \"#fdca26\"], [1.0, \"#f0f921\"]]}, \"colorway\": [\"#636efa\", \"#EF553B\", \"#00cc96\", \"#ab63fa\", \"#FFA15A\", \"#19d3f3\", \"#FF6692\", \"#B6E880\", \"#FF97FF\", \"#FECB52\"], \"font\": {\"color\": \"#2a3f5f\"}, \"geo\": {\"bgcolor\": \"white\", \"lakecolor\": \"white\", \"landcolor\": \"#E5ECF6\", \"showlakes\": true, \"showland\": true, \"subunitcolor\": \"white\"}, \"hoverlabel\": {\"align\": \"left\"}, \"hovermode\": \"closest\", \"mapbox\": {\"style\": \"light\"}, \"paper_bgcolor\": \"white\", \"plot_bgcolor\": \"#E5ECF6\", \"polar\": {\"angularaxis\": {\"gridcolor\": \"white\", \"linecolor\": \"white\", \"ticks\": \"\"}, \"bgcolor\": \"#E5ECF6\", \"radialaxis\": {\"gridcolor\": \"white\", \"linecolor\": \"white\", \"ticks\": \"\"}}, \"scene\": {\"xaxis\": {\"backgroundcolor\": \"#E5ECF6\", \"gridcolor\": \"white\", \"gridwidth\": 2, \"linecolor\": \"white\", \"showbackground\": true, \"ticks\": \"\", \"zerolinecolor\": \"white\"}, \"yaxis\": {\"backgroundcolor\": \"#E5ECF6\", \"gridcolor\": \"white\", \"gridwidth\": 2, \"linecolor\": \"white\", \"showbackground\": true, \"ticks\": \"\", \"zerolinecolor\": \"white\"}, \"zaxis\": {\"backgroundcolor\": \"#E5ECF6\", \"gridcolor\": \"white\", \"gridwidth\": 2, \"linecolor\": \"white\", \"showbackground\": true, \"ticks\": \"\", \"zerolinecolor\": \"white\"}}, \"shapedefaults\": {\"line\": {\"color\": \"#2a3f5f\"}}, \"ternary\": {\"aaxis\": {\"gridcolor\": \"white\", \"linecolor\": \"white\", \"ticks\": \"\"}, \"baxis\": {\"gridcolor\": \"white\", \"linecolor\": \"white\", \"ticks\": \"\"}, \"bgcolor\": \"#E5ECF6\", \"caxis\": {\"gridcolor\": \"white\", \"linecolor\": \"white\", \"ticks\": \"\"}}, \"title\": {\"x\": 0.05}, \"xaxis\": {\"automargin\": true, \"gridcolor\": \"white\", \"linecolor\": \"white\", \"ticks\": \"\", \"title\": {\"standoff\": 15}, \"zerolinecolor\": \"white\", \"zerolinewidth\": 2}, \"yaxis\": {\"automargin\": true, \"gridcolor\": \"white\", \"linecolor\": \"white\", \"ticks\": \"\", \"title\": {\"standoff\": 15}, \"zerolinecolor\": \"white\", \"zerolinewidth\": 2}}}},                        {\"responsive\": true}                    ).then(function(){\n",
              "                            \n",
              "var gd = document.getElementById('42532871-0e4c-4ea4-b15a-03defaf8f6ac');\n",
              "var x = new MutationObserver(function (mutations, observer) {{\n",
              "        var display = window.getComputedStyle(gd).display;\n",
              "        if (!display || display === 'none') {{\n",
              "            console.log([gd, 'removed!']);\n",
              "            Plotly.purge(gd);\n",
              "            observer.disconnect();\n",
              "        }}\n",
              "}});\n",
              "\n",
              "// Listen for the removal of the full notebook cells\n",
              "var notebookContainer = gd.closest('#notebook-container');\n",
              "if (notebookContainer) {{\n",
              "    x.observe(notebookContainer, {childList: true});\n",
              "}}\n",
              "\n",
              "// Listen for the clearing of the current output cell\n",
              "var outputEl = gd.closest('.output');\n",
              "if (outputEl) {{\n",
              "    x.observe(outputEl, {childList: true});\n",
              "}}\n",
              "\n",
              "                        })                };                            </script>        </div>\n",
              "</body>\n",
              "</html>"
            ]
          },
          "metadata": {
            "tags": []
          }
        }
      ]
    },
    {
      "cell_type": "markdown",
      "metadata": {
        "id": "bLOGVIkYQanQ"
      },
      "source": [
        "#two donut charts side by side comparing 2pts va. 3pts "
      ]
    },
    {
      "cell_type": "code",
      "metadata": {
        "id": "QCdcADbV82Gn",
        "colab": {
          "base_uri": "https://localhost:8080/",
          "height": 542
        },
        "outputId": "858618ed-95f6-44e7-8c1c-f69e84b79073"
      },
      "source": [
        "import plotly.graph_objects as go\r\n",
        "from plotly.subplots import make_subplots\r\n",
        "\r\n",
        "labels = nba_20_copy.TEAM\r\n",
        "\r\n",
        "# Create subplots: use 'domain' type for Pie subplot\r\n",
        "fig = make_subplots(rows=1, cols=2, specs=[[{'type':'domain'}, {'type':'domain'}]])\r\n",
        "fig.add_trace(go.Pie(labels=labels, values=nba_20_copy.two_pa, name=\"Two Points\"),\r\n",
        "1,1)\r\n",
        "fig.add_trace(go.Pie(labels=labels, values=nba_20_copy.three_pa, name=\"Three Points\"),\r\n",
        "              1, 2)\r\n",
        "# Use `hole` to create a donut-like pie chart\r\n",
        "fig.update_traces(hole=.4, hoverinfo=\"label+percent+name\")\r\n",
        "\r\n",
        "fig.update_layout(\r\n",
        "    title_text=\"2-Pts Vs. 3-Pts\",\r\n",
        "    # Add annotations in the center of the donut pies.\r\n",
        "    annotations=[dict(text='2_Pts', x=0.18, y=0.5, font_size=20, showarrow=False),\r\n",
        "                 dict(text='3_Pts', x=0.82, y=0.5, font_size=20, showarrow=False)])\r\n",
        "fig.show()"
      ],
      "execution_count": null,
      "outputs": [
        {
          "output_type": "display_data",
          "data": {
            "text/html": [
              "<html>\n",
              "<head><meta charset=\"utf-8\" /></head>\n",
              "<body>\n",
              "    <div>            <script src=\"https://cdnjs.cloudflare.com/ajax/libs/mathjax/2.7.5/MathJax.js?config=TeX-AMS-MML_SVG\"></script><script type=\"text/javascript\">if (window.MathJax) {MathJax.Hub.Config({SVG: {font: \"STIX-Web\"}});}</script>                <script type=\"text/javascript\">window.PlotlyConfig = {MathJaxConfig: 'local'};</script>\n",
              "        <script src=\"https://cdn.plot.ly/plotly-latest.min.js\"></script>                <div id=\"2a05d7e7-8db5-42f0-aeec-3111a6ee76a7\" class=\"plotly-graph-div\" style=\"height:525px; width:100%;\"></div>            <script type=\"text/javascript\">                                    window.PLOTLYENV=window.PLOTLYENV || {};                                    if (document.getElementById(\"2a05d7e7-8db5-42f0-aeec-3111a6ee76a7\")) {                    Plotly.newPlot(                        \"2a05d7e7-8db5-42f0-aeec-3111a6ee76a7\",                        [{\"domain\": {\"x\": [0.0, 0.45], \"y\": [0.0, 1.0]}, \"hole\": 0.4, \"hoverinfo\": \"label+percent+name\", \"labels\": [\"Por\", \"Okc\", \"Mia\", \"Bro\", \"Bro\", \"Mil\", \"Por\", \"Tor\", \"Orl\", \"Dal\", \"Den\", \"Okc\", \"Lac\", \"Orl\", \"Mil\", \"Den\", \"Tor\", \"Uta\", \"Uta\", \"Ind\", \"Bos\", \"Mil\", \"Dal\", \"Phi\", \"Okc\", \"Mia\", \"Hou\", \"Lal\", \"Hou\", \"Lal\", \"Bro\", \"Orl\", \"Uta\", \"Hou\", \"Dal\", \"Lac\", \"Uta\", \"Mil\", \"Lal\", \"Den\", \"Hou\", \"Den\", \"Mia\", \"Dal\", \"Den\", \"Lal\", \"Tor\", \"Okc\", \"Mil\", \"Dal\", \"Okc\", \"Den\", \"Mia\", \"Lal\", \"Bos\", \"Phi\", \"Orl\", \"Bos\", \"Okc\", \"Dal\", \"Orl\", \"Hou\", \"Orl\", \"Por\", \"Okc\", \"Tor\", \"Lac\", \"Okc\", \"Uta\", \"Hou\", \"Den\", \"Lal\", \"Lac\", \"Bos\", \"Hou\", \"Bro\", \"Dal\", \"Hou\", \"Lac\", \"Den\", \"Bro\", \"Phi\", \"Bos\", \"Mia\", \"Por\", \"Mil\", \"Mia\", \"Por\", \"Ind\", \"Ind\", \"Tor\", \"Phi\", \"Lal\", \"Hou\", \"Lal\", \"Tor\", \"Mia\", \"Mil\", \"Uta\", \"Orl\", \"Dal\", \"Lac\", \"Lal\", \"Ind\", \"Orl\", \"Tor\", \"Bro\", \"Den\", \"Mia\", \"Bos\", \"Dal\", \"Dal\", \"Phi\", \"Mil\", \"Bro\", \"Lal\", \"Bos\", \"Orl\", \"Lac\", \"Mia\", \"Bro\", \"Por\", \"Mil\", \"Mil\", \"Tor\", \"Bro\", \"Lac\", \"Dal\", \"Bro\", \"Mil\", \"Mil\", \"Por\", \"Ind\", \"Ind\", \"Lal\", \"Lac\", \"Hou\", \"Mil\", \"Tor\", \"Den\", \"Phi\", \"Uta\", \"Uta\", \"Lac\", \"Lal\", \"Den\", \"Uta\", \"Den\", \"Bro\", \"Okc\", \"Okc\", \"Phi\", \"Uta\", \"Lac\", \"Okc\", \"Mia\", \"Por\", \"Bos\", \"Ind\", \"Mia\", \"Uta\", \"Uta\", \"Phi\", \"Lac\", \"Okc\", \"Phi\", \"Den\", \"Bos\", \"Den\", \"Dal\", \"Tor\", \"Dal\", \"Phi\", \"Hou\", \"Okc\", \"Mia\", \"Lal\", \"Orl\", \"Ind\", \"Okc\", \"Phi\", \"Lac\", \"Tor\", \"Por\", \"Bos\", \"Lal\", \"Ind\", \"Bos\", \"Bro\", \"Bos\", \"Bro\", \"Tor\", \"Phi\", \"Por\", \"Hou\", \"Uta\", \"Ind\", \"Tor\", \"Mia\", \"Den\", \"Orl\", \"Lal\", \"Bos\", \"Bos\", \"Ind\", \"Bos\", \"Tor\", \"Hou\", \"Por\", \"Bos\", \"Uta\", \"Bos\", \"Lac\", \"Mil\", \"Dal\", \"Lac\"], \"name\": \"Two Points\", \"type\": \"pie\", \"values\": [5, 51, 219, 24, 1, 121, 49, 47, 29, 1, 5, 9, 17, 14, 66, 6, 6, 9, 2, 41, 168, 0, 42, 33, 0, 252, 1, 70, 2, 52, 8, 1, 48, 0, 5, 2, 30, 12, 6, 0, 27, 36, 40, 32, 6, 299, 10, 6, 30, 84, 26, 25, 161, 1, 0, 58, 19, 1, 1, 22, 22, 2, 44, 10, 42, 37, 110, 55, 74, 86, 80, 55, 32, 0, 49, 5, 41, 111, 77, 38, 11, 46, 26, 149, 15, 39, 3, 12, 12, 5, 9, 21, 7, 32, 55, 65, 26, 4, 14, 13, 3, 16, 263, 0, 1, 6, 18, 245, 8, 41, 5, 13, 1, 10, 12, 96, 8, 0, 195, 4, 52, 31, 61, 4, 76, 20, 3, 29, 9, 0, 14, 64, 8, 5, 30, 2, 4, 115, 2, 74, 19, 93, 2, 52, 29, 93, 11, 231, 5, 1, 2, 4, 15, 0, 16, 49, 46, 5, 23, 46, 10, 2, 0, 0, 69, 0, 38, 0, 75, 23, 52, 2, 28, 26, 0, 20, 71, 34, 16, 64, 3, 17, 129, 12, 75, 4, 4, 208, 13, 91, 3, 9, 3, 21, 21, 2, 30, 80, 0, 1, 67, 8, 130, 33, 49, 0, 2, 107, 23, 30, 0, 9, 95, 24, 8, 78]}, {\"domain\": {\"x\": [0.55, 1.0], \"y\": [0.0, 1.0]}, \"hole\": 0.4, \"hoverinfo\": \"label+percent+name\", \"labels\": [\"Por\", \"Okc\", \"Mia\", \"Bro\", \"Bro\", \"Mil\", \"Por\", \"Tor\", \"Orl\", \"Dal\", \"Den\", \"Okc\", \"Lac\", \"Orl\", \"Mil\", \"Den\", \"Tor\", \"Uta\", \"Uta\", \"Ind\", \"Bos\", \"Mil\", \"Dal\", \"Phi\", \"Okc\", \"Mia\", \"Hou\", \"Lal\", \"Hou\", \"Lal\", \"Bro\", \"Orl\", \"Uta\", \"Hou\", \"Dal\", \"Lac\", \"Uta\", \"Mil\", \"Lal\", \"Den\", \"Hou\", \"Den\", \"Mia\", \"Dal\", \"Den\", \"Lal\", \"Tor\", \"Okc\", \"Mil\", \"Dal\", \"Okc\", \"Den\", \"Mia\", \"Lal\", \"Bos\", \"Phi\", \"Orl\", \"Bos\", \"Okc\", \"Dal\", \"Orl\", \"Hou\", \"Orl\", \"Por\", \"Okc\", \"Tor\", \"Lac\", \"Okc\", \"Uta\", \"Hou\", \"Den\", \"Lal\", \"Lac\", \"Bos\", \"Hou\", \"Bro\", \"Dal\", \"Hou\", \"Lac\", \"Den\", \"Bro\", \"Phi\", \"Bos\", \"Mia\", \"Por\", \"Mil\", \"Mia\", \"Por\", \"Ind\", \"Ind\", \"Tor\", \"Phi\", \"Lal\", \"Hou\", \"Lal\", \"Tor\", \"Mia\", \"Mil\", \"Uta\", \"Orl\", \"Dal\", \"Lac\", \"Lal\", \"Ind\", \"Orl\", \"Tor\", \"Bro\", \"Den\", \"Mia\", \"Bos\", \"Dal\", \"Dal\", \"Phi\", \"Mil\", \"Bro\", \"Lal\", \"Bos\", \"Orl\", \"Lac\", \"Mia\", \"Bro\", \"Por\", \"Mil\", \"Mil\", \"Tor\", \"Bro\", \"Lac\", \"Dal\", \"Bro\", \"Mil\", \"Mil\", \"Por\", \"Ind\", \"Ind\", \"Lal\", \"Lac\", \"Hou\", \"Mil\", \"Tor\", \"Den\", \"Phi\", \"Uta\", \"Uta\", \"Lac\", \"Lal\", \"Den\", \"Uta\", \"Den\", \"Bro\", \"Okc\", \"Okc\", \"Phi\", \"Uta\", \"Lac\", \"Okc\", \"Mia\", \"Por\", \"Bos\", \"Ind\", \"Mia\", \"Uta\", \"Uta\", \"Phi\", \"Lac\", \"Okc\", \"Phi\", \"Den\", \"Bos\", \"Den\", \"Dal\", \"Tor\", \"Dal\", \"Phi\", \"Hou\", \"Okc\", \"Mia\", \"Lal\", \"Orl\", \"Ind\", \"Okc\", \"Phi\", \"Lac\", \"Tor\", \"Por\", \"Bos\", \"Lal\", \"Ind\", \"Bos\", \"Bro\", \"Bos\", \"Bro\", \"Tor\", \"Phi\", \"Por\", \"Hou\", \"Uta\", \"Ind\", \"Tor\", \"Mia\", \"Den\", \"Orl\", \"Lal\", \"Bos\", \"Bos\", \"Ind\", \"Bos\", \"Tor\", \"Hou\", \"Por\", \"Bos\", \"Uta\", \"Bos\", \"Lac\", \"Mil\", \"Dal\", \"Lac\"], \"name\": \"Three Points\", \"type\": \"pie\", \"values\": [4, 1, 1, 0, 11, 40, 19, 41, 18, 0, 0, 22, 22, 0, 32, 3, 5, 0, 3, 24, 120, 1, 17, 16, 0, 43, 1, 119, 0, 61, 16, 32, 49, 5, 0, 1, 34, 23, 4, 0, 68, 42, 161, 21, 6, 60, 19, 5, 21, 44, 50, 8, 107, 3, 0, 16, 16, 0, 10, 30, 35, 2, 16, 5, 37, 27, 111, 35, 0, 90, 95, 115, 23, 2, 54, 0, 54, 117, 5, 52, 12, 15, 24, 128, 7, 28, 6, 0, 9, 16, 1, 4, 5, 53, 2, 45, 39, 5, 40, 7, 3, 32, 119, 0, 1, 5, 28, 98, 9, 1, 9, 26, 6, 37, 8, 83, 2, 1, 73, 4, 21, 33, 53, 0, 72, 39, 2, 1, 5, 0, 43, 35, 0, 10, 2, 3, 36, 65, 1, 44, 25, 64, 10, 59, 69, 40, 3, 137, 6, 1, 5, 5, 29, 0, 1, 43, 11, 23, 33, 49, 22, 4, 0, 3, 43, 0, 1, 0, 89, 17, 52, 1, 28, 35, 1, 156, 50, 30, 0, 45, 2, 42, 53, 14, 123, 22, 3, 126, 36, 26, 2, 12, 4, 24, 67, 3, 14, 110, 0, 0, 44, 4, 126, 27, 19, 1, 0, 33, 1, 1, 0, 17, 51, 23, 2, 0]}],                        {\"annotations\": [{\"font\": {\"size\": 20}, \"showarrow\": false, \"text\": \"2_Pts\", \"x\": 0.18, \"y\": 0.5}, {\"font\": {\"size\": 20}, \"showarrow\": false, \"text\": \"3_Pts\", \"x\": 0.82, \"y\": 0.5}], \"template\": {\"data\": {\"bar\": [{\"error_x\": {\"color\": \"#2a3f5f\"}, \"error_y\": {\"color\": \"#2a3f5f\"}, \"marker\": {\"line\": {\"color\": \"#E5ECF6\", \"width\": 0.5}}, \"type\": \"bar\"}], \"barpolar\": [{\"marker\": {\"line\": {\"color\": \"#E5ECF6\", \"width\": 0.5}}, \"type\": \"barpolar\"}], \"carpet\": [{\"aaxis\": {\"endlinecolor\": \"#2a3f5f\", \"gridcolor\": \"white\", \"linecolor\": \"white\", \"minorgridcolor\": \"white\", \"startlinecolor\": \"#2a3f5f\"}, \"baxis\": {\"endlinecolor\": \"#2a3f5f\", \"gridcolor\": \"white\", \"linecolor\": \"white\", \"minorgridcolor\": \"white\", \"startlinecolor\": \"#2a3f5f\"}, \"type\": \"carpet\"}], \"choropleth\": [{\"colorbar\": {\"outlinewidth\": 0, \"ticks\": \"\"}, \"type\": \"choropleth\"}], \"contour\": [{\"colorbar\": {\"outlinewidth\": 0, \"ticks\": \"\"}, \"colorscale\": [[0.0, \"#0d0887\"], [0.1111111111111111, \"#46039f\"], [0.2222222222222222, \"#7201a8\"], [0.3333333333333333, \"#9c179e\"], [0.4444444444444444, \"#bd3786\"], [0.5555555555555556, \"#d8576b\"], [0.6666666666666666, \"#ed7953\"], [0.7777777777777778, \"#fb9f3a\"], [0.8888888888888888, \"#fdca26\"], [1.0, \"#f0f921\"]], \"type\": \"contour\"}], \"contourcarpet\": [{\"colorbar\": {\"outlinewidth\": 0, \"ticks\": \"\"}, \"type\": \"contourcarpet\"}], \"heatmap\": [{\"colorbar\": {\"outlinewidth\": 0, \"ticks\": \"\"}, \"colorscale\": [[0.0, \"#0d0887\"], [0.1111111111111111, \"#46039f\"], [0.2222222222222222, \"#7201a8\"], [0.3333333333333333, \"#9c179e\"], [0.4444444444444444, \"#bd3786\"], [0.5555555555555556, \"#d8576b\"], [0.6666666666666666, \"#ed7953\"], [0.7777777777777778, \"#fb9f3a\"], [0.8888888888888888, \"#fdca26\"], [1.0, \"#f0f921\"]], \"type\": \"heatmap\"}], \"heatmapgl\": [{\"colorbar\": {\"outlinewidth\": 0, \"ticks\": \"\"}, \"colorscale\": [[0.0, \"#0d0887\"], [0.1111111111111111, \"#46039f\"], [0.2222222222222222, \"#7201a8\"], [0.3333333333333333, \"#9c179e\"], [0.4444444444444444, \"#bd3786\"], [0.5555555555555556, \"#d8576b\"], [0.6666666666666666, \"#ed7953\"], [0.7777777777777778, \"#fb9f3a\"], [0.8888888888888888, \"#fdca26\"], [1.0, \"#f0f921\"]], \"type\": \"heatmapgl\"}], \"histogram\": [{\"marker\": {\"colorbar\": {\"outlinewidth\": 0, \"ticks\": \"\"}}, \"type\": \"histogram\"}], \"histogram2d\": [{\"colorbar\": {\"outlinewidth\": 0, \"ticks\": \"\"}, \"colorscale\": [[0.0, \"#0d0887\"], [0.1111111111111111, \"#46039f\"], [0.2222222222222222, \"#7201a8\"], [0.3333333333333333, \"#9c179e\"], [0.4444444444444444, \"#bd3786\"], [0.5555555555555556, \"#d8576b\"], [0.6666666666666666, \"#ed7953\"], [0.7777777777777778, \"#fb9f3a\"], [0.8888888888888888, \"#fdca26\"], [1.0, \"#f0f921\"]], \"type\": \"histogram2d\"}], \"histogram2dcontour\": [{\"colorbar\": {\"outlinewidth\": 0, \"ticks\": \"\"}, \"colorscale\": [[0.0, \"#0d0887\"], [0.1111111111111111, \"#46039f\"], [0.2222222222222222, \"#7201a8\"], [0.3333333333333333, \"#9c179e\"], [0.4444444444444444, \"#bd3786\"], [0.5555555555555556, \"#d8576b\"], [0.6666666666666666, \"#ed7953\"], [0.7777777777777778, \"#fb9f3a\"], [0.8888888888888888, \"#fdca26\"], [1.0, \"#f0f921\"]], \"type\": \"histogram2dcontour\"}], \"mesh3d\": [{\"colorbar\": {\"outlinewidth\": 0, \"ticks\": \"\"}, \"type\": \"mesh3d\"}], \"parcoords\": [{\"line\": {\"colorbar\": {\"outlinewidth\": 0, \"ticks\": \"\"}}, \"type\": \"parcoords\"}], \"pie\": [{\"automargin\": true, \"type\": \"pie\"}], \"scatter\": [{\"marker\": {\"colorbar\": {\"outlinewidth\": 0, \"ticks\": \"\"}}, \"type\": \"scatter\"}], \"scatter3d\": [{\"line\": {\"colorbar\": {\"outlinewidth\": 0, \"ticks\": \"\"}}, \"marker\": {\"colorbar\": {\"outlinewidth\": 0, \"ticks\": \"\"}}, \"type\": \"scatter3d\"}], \"scattercarpet\": [{\"marker\": {\"colorbar\": {\"outlinewidth\": 0, \"ticks\": \"\"}}, \"type\": \"scattercarpet\"}], \"scattergeo\": [{\"marker\": {\"colorbar\": {\"outlinewidth\": 0, \"ticks\": \"\"}}, \"type\": \"scattergeo\"}], \"scattergl\": [{\"marker\": {\"colorbar\": {\"outlinewidth\": 0, \"ticks\": \"\"}}, \"type\": \"scattergl\"}], \"scattermapbox\": [{\"marker\": {\"colorbar\": {\"outlinewidth\": 0, \"ticks\": \"\"}}, \"type\": \"scattermapbox\"}], \"scatterpolar\": [{\"marker\": {\"colorbar\": {\"outlinewidth\": 0, \"ticks\": \"\"}}, \"type\": \"scatterpolar\"}], \"scatterpolargl\": [{\"marker\": {\"colorbar\": {\"outlinewidth\": 0, \"ticks\": \"\"}}, \"type\": \"scatterpolargl\"}], \"scatterternary\": [{\"marker\": {\"colorbar\": {\"outlinewidth\": 0, \"ticks\": \"\"}}, \"type\": \"scatterternary\"}], \"surface\": [{\"colorbar\": {\"outlinewidth\": 0, \"ticks\": \"\"}, \"colorscale\": [[0.0, \"#0d0887\"], [0.1111111111111111, \"#46039f\"], [0.2222222222222222, \"#7201a8\"], [0.3333333333333333, \"#9c179e\"], [0.4444444444444444, \"#bd3786\"], [0.5555555555555556, \"#d8576b\"], [0.6666666666666666, \"#ed7953\"], [0.7777777777777778, \"#fb9f3a\"], [0.8888888888888888, \"#fdca26\"], [1.0, \"#f0f921\"]], \"type\": \"surface\"}], \"table\": [{\"cells\": {\"fill\": {\"color\": \"#EBF0F8\"}, \"line\": {\"color\": \"white\"}}, \"header\": {\"fill\": {\"color\": \"#C8D4E3\"}, \"line\": {\"color\": \"white\"}}, \"type\": \"table\"}]}, \"layout\": {\"annotationdefaults\": {\"arrowcolor\": \"#2a3f5f\", \"arrowhead\": 0, \"arrowwidth\": 1}, \"autotypenumbers\": \"strict\", \"coloraxis\": {\"colorbar\": {\"outlinewidth\": 0, \"ticks\": \"\"}}, \"colorscale\": {\"diverging\": [[0, \"#8e0152\"], [0.1, \"#c51b7d\"], [0.2, \"#de77ae\"], [0.3, \"#f1b6da\"], [0.4, \"#fde0ef\"], [0.5, \"#f7f7f7\"], [0.6, \"#e6f5d0\"], [0.7, \"#b8e186\"], [0.8, \"#7fbc41\"], [0.9, \"#4d9221\"], [1, \"#276419\"]], \"sequential\": [[0.0, \"#0d0887\"], [0.1111111111111111, \"#46039f\"], [0.2222222222222222, \"#7201a8\"], [0.3333333333333333, \"#9c179e\"], [0.4444444444444444, \"#bd3786\"], [0.5555555555555556, \"#d8576b\"], [0.6666666666666666, \"#ed7953\"], [0.7777777777777778, \"#fb9f3a\"], [0.8888888888888888, \"#fdca26\"], [1.0, \"#f0f921\"]], \"sequentialminus\": [[0.0, \"#0d0887\"], [0.1111111111111111, \"#46039f\"], [0.2222222222222222, \"#7201a8\"], [0.3333333333333333, \"#9c179e\"], [0.4444444444444444, \"#bd3786\"], [0.5555555555555556, \"#d8576b\"], [0.6666666666666666, \"#ed7953\"], [0.7777777777777778, \"#fb9f3a\"], [0.8888888888888888, \"#fdca26\"], [1.0, \"#f0f921\"]]}, \"colorway\": [\"#636efa\", \"#EF553B\", \"#00cc96\", \"#ab63fa\", \"#FFA15A\", \"#19d3f3\", \"#FF6692\", \"#B6E880\", \"#FF97FF\", \"#FECB52\"], \"font\": {\"color\": \"#2a3f5f\"}, \"geo\": {\"bgcolor\": \"white\", \"lakecolor\": \"white\", \"landcolor\": \"#E5ECF6\", \"showlakes\": true, \"showland\": true, \"subunitcolor\": \"white\"}, \"hoverlabel\": {\"align\": \"left\"}, \"hovermode\": \"closest\", \"mapbox\": {\"style\": \"light\"}, \"paper_bgcolor\": \"white\", \"plot_bgcolor\": \"#E5ECF6\", \"polar\": {\"angularaxis\": {\"gridcolor\": \"white\", \"linecolor\": \"white\", \"ticks\": \"\"}, \"bgcolor\": \"#E5ECF6\", \"radialaxis\": {\"gridcolor\": \"white\", \"linecolor\": \"white\", \"ticks\": \"\"}}, \"scene\": {\"xaxis\": {\"backgroundcolor\": \"#E5ECF6\", \"gridcolor\": \"white\", \"gridwidth\": 2, \"linecolor\": \"white\", \"showbackground\": true, \"ticks\": \"\", \"zerolinecolor\": \"white\"}, \"yaxis\": {\"backgroundcolor\": \"#E5ECF6\", \"gridcolor\": \"white\", \"gridwidth\": 2, \"linecolor\": \"white\", \"showbackground\": true, \"ticks\": \"\", \"zerolinecolor\": \"white\"}, \"zaxis\": {\"backgroundcolor\": \"#E5ECF6\", \"gridcolor\": \"white\", \"gridwidth\": 2, \"linecolor\": \"white\", \"showbackground\": true, \"ticks\": \"\", \"zerolinecolor\": \"white\"}}, \"shapedefaults\": {\"line\": {\"color\": \"#2a3f5f\"}}, \"ternary\": {\"aaxis\": {\"gridcolor\": \"white\", \"linecolor\": \"white\", \"ticks\": \"\"}, \"baxis\": {\"gridcolor\": \"white\", \"linecolor\": \"white\", \"ticks\": \"\"}, \"bgcolor\": \"#E5ECF6\", \"caxis\": {\"gridcolor\": \"white\", \"linecolor\": \"white\", \"ticks\": \"\"}}, \"title\": {\"x\": 0.05}, \"xaxis\": {\"automargin\": true, \"gridcolor\": \"white\", \"linecolor\": \"white\", \"ticks\": \"\", \"title\": {\"standoff\": 15}, \"zerolinecolor\": \"white\", \"zerolinewidth\": 2}, \"yaxis\": {\"automargin\": true, \"gridcolor\": \"white\", \"linecolor\": \"white\", \"ticks\": \"\", \"title\": {\"standoff\": 15}, \"zerolinecolor\": \"white\", \"zerolinewidth\": 2}}}, \"title\": {\"text\": \"2-Pts Vs. 3-Pts\"}},                        {\"responsive\": true}                    ).then(function(){\n",
              "                            \n",
              "var gd = document.getElementById('2a05d7e7-8db5-42f0-aeec-3111a6ee76a7');\n",
              "var x = new MutationObserver(function (mutations, observer) {{\n",
              "        var display = window.getComputedStyle(gd).display;\n",
              "        if (!display || display === 'none') {{\n",
              "            console.log([gd, 'removed!']);\n",
              "            Plotly.purge(gd);\n",
              "            observer.disconnect();\n",
              "        }}\n",
              "}});\n",
              "\n",
              "// Listen for the removal of the full notebook cells\n",
              "var notebookContainer = gd.closest('#notebook-container');\n",
              "if (notebookContainer) {{\n",
              "    x.observe(notebookContainer, {childList: true});\n",
              "}}\n",
              "\n",
              "// Listen for the clearing of the current output cell\n",
              "var outputEl = gd.closest('.output');\n",
              "if (outputEl) {{\n",
              "    x.observe(outputEl, {childList: true});\n",
              "}}\n",
              "\n",
              "                        })                };                            </script>        </div>\n",
              "</body>\n",
              "</html>"
            ]
          },
          "metadata": {
            "tags": []
          }
        }
      ]
    },
    {
      "cell_type": "markdown",
      "metadata": {
        "id": "oZjUTytvgNtS"
      },
      "source": [
        "#Stacked bar chart, Comparing 2pts. Vs. 3pts."
      ]
    },
    {
      "cell_type": "code",
      "metadata": {
        "id": "KxD7Wxz1ftq8",
        "colab": {
          "base_uri": "https://localhost:8080/",
          "height": 542
        },
        "outputId": "e5f65b30-4599-4515-fa12-cdaa4b77687c"
      },
      "source": [
        "fig = px.bar(nba_20_copy, x=\"TEAM\", y=[nba_20_copy.two_pa, nba_20_copy.three_pa], title=\"2Pts. Vs. 3Pts.\")\r\n",
        "fig.show()"
      ],
      "execution_count": null,
      "outputs": [
        {
          "output_type": "display_data",
          "data": {
            "text/html": [
              "<html>\n",
              "<head><meta charset=\"utf-8\" /></head>\n",
              "<body>\n",
              "    <div>            <script src=\"https://cdnjs.cloudflare.com/ajax/libs/mathjax/2.7.5/MathJax.js?config=TeX-AMS-MML_SVG\"></script><script type=\"text/javascript\">if (window.MathJax) {MathJax.Hub.Config({SVG: {font: \"STIX-Web\"}});}</script>                <script type=\"text/javascript\">window.PlotlyConfig = {MathJaxConfig: 'local'};</script>\n",
              "        <script src=\"https://cdn.plot.ly/plotly-latest.min.js\"></script>                <div id=\"e6a96b93-17ad-419c-853d-2208c5f0c367\" class=\"plotly-graph-div\" style=\"height:525px; width:100%;\"></div>            <script type=\"text/javascript\">                                    window.PLOTLYENV=window.PLOTLYENV || {};                                    if (document.getElementById(\"e6a96b93-17ad-419c-853d-2208c5f0c367\")) {                    Plotly.newPlot(                        \"e6a96b93-17ad-419c-853d-2208c5f0c367\",                        [{\"alignmentgroup\": \"True\", \"hovertemplate\": \"variable=two_pa<br>TEAM=%{x}<br>value=%{y}<extra></extra>\", \"legendgroup\": \"two_pa\", \"marker\": {\"color\": \"#636efa\"}, \"name\": \"two_pa\", \"offsetgroup\": \"two_pa\", \"orientation\": \"v\", \"showlegend\": true, \"textposition\": \"auto\", \"type\": \"bar\", \"x\": [\"Por\", \"Okc\", \"Mia\", \"Bro\", \"Bro\", \"Mil\", \"Por\", \"Tor\", \"Orl\", \"Dal\", \"Den\", \"Okc\", \"Lac\", \"Orl\", \"Mil\", \"Den\", \"Tor\", \"Uta\", \"Uta\", \"Ind\", \"Bos\", \"Mil\", \"Dal\", \"Phi\", \"Okc\", \"Mia\", \"Hou\", \"Lal\", \"Hou\", \"Lal\", \"Bro\", \"Orl\", \"Uta\", \"Hou\", \"Dal\", \"Lac\", \"Uta\", \"Mil\", \"Lal\", \"Den\", \"Hou\", \"Den\", \"Mia\", \"Dal\", \"Den\", \"Lal\", \"Tor\", \"Okc\", \"Mil\", \"Dal\", \"Okc\", \"Den\", \"Mia\", \"Lal\", \"Bos\", \"Phi\", \"Orl\", \"Bos\", \"Okc\", \"Dal\", \"Orl\", \"Hou\", \"Orl\", \"Por\", \"Okc\", \"Tor\", \"Lac\", \"Okc\", \"Uta\", \"Hou\", \"Den\", \"Lal\", \"Lac\", \"Bos\", \"Hou\", \"Bro\", \"Dal\", \"Hou\", \"Lac\", \"Den\", \"Bro\", \"Phi\", \"Bos\", \"Mia\", \"Por\", \"Mil\", \"Mia\", \"Por\", \"Ind\", \"Ind\", \"Tor\", \"Phi\", \"Lal\", \"Hou\", \"Lal\", \"Tor\", \"Mia\", \"Mil\", \"Uta\", \"Orl\", \"Dal\", \"Lac\", \"Lal\", \"Ind\", \"Orl\", \"Tor\", \"Bro\", \"Den\", \"Mia\", \"Bos\", \"Dal\", \"Dal\", \"Phi\", \"Mil\", \"Bro\", \"Lal\", \"Bos\", \"Orl\", \"Lac\", \"Mia\", \"Bro\", \"Por\", \"Mil\", \"Mil\", \"Tor\", \"Bro\", \"Lac\", \"Dal\", \"Bro\", \"Mil\", \"Mil\", \"Por\", \"Ind\", \"Ind\", \"Lal\", \"Lac\", \"Hou\", \"Mil\", \"Tor\", \"Den\", \"Phi\", \"Uta\", \"Uta\", \"Lac\", \"Lal\", \"Den\", \"Uta\", \"Den\", \"Bro\", \"Okc\", \"Okc\", \"Phi\", \"Uta\", \"Lac\", \"Okc\", \"Mia\", \"Por\", \"Bos\", \"Ind\", \"Mia\", \"Uta\", \"Uta\", \"Phi\", \"Lac\", \"Okc\", \"Phi\", \"Den\", \"Bos\", \"Den\", \"Dal\", \"Tor\", \"Dal\", \"Phi\", \"Hou\", \"Okc\", \"Mia\", \"Lal\", \"Orl\", \"Ind\", \"Okc\", \"Phi\", \"Lac\", \"Tor\", \"Por\", \"Bos\", \"Lal\", \"Ind\", \"Bos\", \"Bro\", \"Bos\", \"Bro\", \"Tor\", \"Phi\", \"Por\", \"Hou\", \"Uta\", \"Ind\", \"Tor\", \"Mia\", \"Den\", \"Orl\", \"Lal\", \"Bos\", \"Bos\", \"Ind\", \"Bos\", \"Tor\", \"Hou\", \"Por\", \"Bos\", \"Uta\", \"Bos\", \"Lac\", \"Mil\", \"Dal\", \"Lac\"], \"xaxis\": \"x\", \"y\": [5, 51, 219, 24, 1, 121, 49, 47, 29, 1, 5, 9, 17, 14, 66, 6, 6, 9, 2, 41, 168, 0, 42, 33, 0, 252, 1, 70, 2, 52, 8, 1, 48, 0, 5, 2, 30, 12, 6, 0, 27, 36, 40, 32, 6, 299, 10, 6, 30, 84, 26, 25, 161, 1, 0, 58, 19, 1, 1, 22, 22, 2, 44, 10, 42, 37, 110, 55, 74, 86, 80, 55, 32, 0, 49, 5, 41, 111, 77, 38, 11, 46, 26, 149, 15, 39, 3, 12, 12, 5, 9, 21, 7, 32, 55, 65, 26, 4, 14, 13, 3, 16, 263, 0, 1, 6, 18, 245, 8, 41, 5, 13, 1, 10, 12, 96, 8, 0, 195, 4, 52, 31, 61, 4, 76, 20, 3, 29, 9, 0, 14, 64, 8, 5, 30, 2, 4, 115, 2, 74, 19, 93, 2, 52, 29, 93, 11, 231, 5, 1, 2, 4, 15, 0, 16, 49, 46, 5, 23, 46, 10, 2, 0, 0, 69, 0, 38, 0, 75, 23, 52, 2, 28, 26, 0, 20, 71, 34, 16, 64, 3, 17, 129, 12, 75, 4, 4, 208, 13, 91, 3, 9, 3, 21, 21, 2, 30, 80, 0, 1, 67, 8, 130, 33, 49, 0, 2, 107, 23, 30, 0, 9, 95, 24, 8, 78], \"yaxis\": \"y\"}, {\"alignmentgroup\": \"True\", \"hovertemplate\": \"variable=three_pa<br>TEAM=%{x}<br>value=%{y}<extra></extra>\", \"legendgroup\": \"three_pa\", \"marker\": {\"color\": \"#EF553B\"}, \"name\": \"three_pa\", \"offsetgroup\": \"three_pa\", \"orientation\": \"v\", \"showlegend\": true, \"textposition\": \"auto\", \"type\": \"bar\", \"x\": [\"Por\", \"Okc\", \"Mia\", \"Bro\", \"Bro\", \"Mil\", \"Por\", \"Tor\", \"Orl\", \"Dal\", \"Den\", \"Okc\", \"Lac\", \"Orl\", \"Mil\", \"Den\", \"Tor\", \"Uta\", \"Uta\", \"Ind\", \"Bos\", \"Mil\", \"Dal\", \"Phi\", \"Okc\", \"Mia\", \"Hou\", \"Lal\", \"Hou\", \"Lal\", \"Bro\", \"Orl\", \"Uta\", \"Hou\", \"Dal\", \"Lac\", \"Uta\", \"Mil\", \"Lal\", \"Den\", \"Hou\", \"Den\", \"Mia\", \"Dal\", \"Den\", \"Lal\", \"Tor\", \"Okc\", \"Mil\", \"Dal\", \"Okc\", \"Den\", \"Mia\", \"Lal\", \"Bos\", \"Phi\", \"Orl\", \"Bos\", \"Okc\", \"Dal\", \"Orl\", \"Hou\", \"Orl\", \"Por\", \"Okc\", \"Tor\", \"Lac\", \"Okc\", \"Uta\", \"Hou\", \"Den\", \"Lal\", \"Lac\", \"Bos\", \"Hou\", \"Bro\", \"Dal\", \"Hou\", \"Lac\", \"Den\", \"Bro\", \"Phi\", \"Bos\", \"Mia\", \"Por\", \"Mil\", \"Mia\", \"Por\", \"Ind\", \"Ind\", \"Tor\", \"Phi\", \"Lal\", \"Hou\", \"Lal\", \"Tor\", \"Mia\", \"Mil\", \"Uta\", \"Orl\", \"Dal\", \"Lac\", \"Lal\", \"Ind\", \"Orl\", \"Tor\", \"Bro\", \"Den\", \"Mia\", \"Bos\", \"Dal\", \"Dal\", \"Phi\", \"Mil\", \"Bro\", \"Lal\", \"Bos\", \"Orl\", \"Lac\", \"Mia\", \"Bro\", \"Por\", \"Mil\", \"Mil\", \"Tor\", \"Bro\", \"Lac\", \"Dal\", \"Bro\", \"Mil\", \"Mil\", \"Por\", \"Ind\", \"Ind\", \"Lal\", \"Lac\", \"Hou\", \"Mil\", \"Tor\", \"Den\", \"Phi\", \"Uta\", \"Uta\", \"Lac\", \"Lal\", \"Den\", \"Uta\", \"Den\", \"Bro\", \"Okc\", \"Okc\", \"Phi\", \"Uta\", \"Lac\", \"Okc\", \"Mia\", \"Por\", \"Bos\", \"Ind\", \"Mia\", \"Uta\", \"Uta\", \"Phi\", \"Lac\", \"Okc\", \"Phi\", \"Den\", \"Bos\", \"Den\", \"Dal\", \"Tor\", \"Dal\", \"Phi\", \"Hou\", \"Okc\", \"Mia\", \"Lal\", \"Orl\", \"Ind\", \"Okc\", \"Phi\", \"Lac\", \"Tor\", \"Por\", \"Bos\", \"Lal\", \"Ind\", \"Bos\", \"Bro\", \"Bos\", \"Bro\", \"Tor\", \"Phi\", \"Por\", \"Hou\", \"Uta\", \"Ind\", \"Tor\", \"Mia\", \"Den\", \"Orl\", \"Lal\", \"Bos\", \"Bos\", \"Ind\", \"Bos\", \"Tor\", \"Hou\", \"Por\", \"Bos\", \"Uta\", \"Bos\", \"Lac\", \"Mil\", \"Dal\", \"Lac\"], \"xaxis\": \"x\", \"y\": [4, 1, 1, 0, 11, 40, 19, 41, 18, 0, 0, 22, 22, 0, 32, 3, 5, 0, 3, 24, 120, 1, 17, 16, 0, 43, 1, 119, 0, 61, 16, 32, 49, 5, 0, 1, 34, 23, 4, 0, 68, 42, 161, 21, 6, 60, 19, 5, 21, 44, 50, 8, 107, 3, 0, 16, 16, 0, 10, 30, 35, 2, 16, 5, 37, 27, 111, 35, 0, 90, 95, 115, 23, 2, 54, 0, 54, 117, 5, 52, 12, 15, 24, 128, 7, 28, 6, 0, 9, 16, 1, 4, 5, 53, 2, 45, 39, 5, 40, 7, 3, 32, 119, 0, 1, 5, 28, 98, 9, 1, 9, 26, 6, 37, 8, 83, 2, 1, 73, 4, 21, 33, 53, 0, 72, 39, 2, 1, 5, 0, 43, 35, 0, 10, 2, 3, 36, 65, 1, 44, 25, 64, 10, 59, 69, 40, 3, 137, 6, 1, 5, 5, 29, 0, 1, 43, 11, 23, 33, 49, 22, 4, 0, 3, 43, 0, 1, 0, 89, 17, 52, 1, 28, 35, 1, 156, 50, 30, 0, 45, 2, 42, 53, 14, 123, 22, 3, 126, 36, 26, 2, 12, 4, 24, 67, 3, 14, 110, 0, 0, 44, 4, 126, 27, 19, 1, 0, 33, 1, 1, 0, 17, 51, 23, 2, 0], \"yaxis\": \"y\"}],                        {\"barmode\": \"relative\", \"legend\": {\"title\": {\"text\": \"variable\"}, \"tracegroupgap\": 0}, \"template\": {\"data\": {\"bar\": [{\"error_x\": {\"color\": \"#2a3f5f\"}, \"error_y\": {\"color\": \"#2a3f5f\"}, \"marker\": {\"line\": {\"color\": \"#E5ECF6\", \"width\": 0.5}}, \"type\": \"bar\"}], \"barpolar\": [{\"marker\": {\"line\": {\"color\": \"#E5ECF6\", \"width\": 0.5}}, \"type\": \"barpolar\"}], \"carpet\": [{\"aaxis\": {\"endlinecolor\": \"#2a3f5f\", \"gridcolor\": \"white\", \"linecolor\": \"white\", \"minorgridcolor\": \"white\", \"startlinecolor\": \"#2a3f5f\"}, \"baxis\": {\"endlinecolor\": \"#2a3f5f\", \"gridcolor\": \"white\", \"linecolor\": \"white\", \"minorgridcolor\": \"white\", \"startlinecolor\": \"#2a3f5f\"}, \"type\": \"carpet\"}], \"choropleth\": [{\"colorbar\": {\"outlinewidth\": 0, \"ticks\": \"\"}, \"type\": \"choropleth\"}], \"contour\": [{\"colorbar\": {\"outlinewidth\": 0, \"ticks\": \"\"}, \"colorscale\": [[0.0, \"#0d0887\"], [0.1111111111111111, \"#46039f\"], [0.2222222222222222, \"#7201a8\"], [0.3333333333333333, \"#9c179e\"], [0.4444444444444444, \"#bd3786\"], [0.5555555555555556, \"#d8576b\"], [0.6666666666666666, \"#ed7953\"], [0.7777777777777778, \"#fb9f3a\"], [0.8888888888888888, \"#fdca26\"], [1.0, \"#f0f921\"]], \"type\": \"contour\"}], \"contourcarpet\": [{\"colorbar\": {\"outlinewidth\": 0, \"ticks\": \"\"}, \"type\": \"contourcarpet\"}], \"heatmap\": [{\"colorbar\": {\"outlinewidth\": 0, \"ticks\": \"\"}, \"colorscale\": [[0.0, \"#0d0887\"], [0.1111111111111111, \"#46039f\"], [0.2222222222222222, \"#7201a8\"], [0.3333333333333333, \"#9c179e\"], [0.4444444444444444, \"#bd3786\"], [0.5555555555555556, \"#d8576b\"], [0.6666666666666666, \"#ed7953\"], [0.7777777777777778, \"#fb9f3a\"], [0.8888888888888888, \"#fdca26\"], [1.0, \"#f0f921\"]], \"type\": \"heatmap\"}], \"heatmapgl\": [{\"colorbar\": {\"outlinewidth\": 0, \"ticks\": \"\"}, \"colorscale\": [[0.0, \"#0d0887\"], [0.1111111111111111, \"#46039f\"], [0.2222222222222222, \"#7201a8\"], [0.3333333333333333, \"#9c179e\"], [0.4444444444444444, \"#bd3786\"], [0.5555555555555556, \"#d8576b\"], [0.6666666666666666, \"#ed7953\"], [0.7777777777777778, \"#fb9f3a\"], [0.8888888888888888, \"#fdca26\"], [1.0, \"#f0f921\"]], \"type\": \"heatmapgl\"}], \"histogram\": [{\"marker\": {\"colorbar\": {\"outlinewidth\": 0, \"ticks\": \"\"}}, \"type\": \"histogram\"}], \"histogram2d\": [{\"colorbar\": {\"outlinewidth\": 0, \"ticks\": \"\"}, \"colorscale\": [[0.0, \"#0d0887\"], [0.1111111111111111, \"#46039f\"], [0.2222222222222222, \"#7201a8\"], [0.3333333333333333, \"#9c179e\"], [0.4444444444444444, \"#bd3786\"], [0.5555555555555556, \"#d8576b\"], [0.6666666666666666, \"#ed7953\"], [0.7777777777777778, \"#fb9f3a\"], [0.8888888888888888, \"#fdca26\"], [1.0, \"#f0f921\"]], \"type\": \"histogram2d\"}], \"histogram2dcontour\": [{\"colorbar\": {\"outlinewidth\": 0, \"ticks\": \"\"}, \"colorscale\": [[0.0, \"#0d0887\"], [0.1111111111111111, \"#46039f\"], [0.2222222222222222, \"#7201a8\"], [0.3333333333333333, \"#9c179e\"], [0.4444444444444444, \"#bd3786\"], [0.5555555555555556, \"#d8576b\"], [0.6666666666666666, \"#ed7953\"], [0.7777777777777778, \"#fb9f3a\"], [0.8888888888888888, \"#fdca26\"], [1.0, \"#f0f921\"]], \"type\": \"histogram2dcontour\"}], \"mesh3d\": [{\"colorbar\": {\"outlinewidth\": 0, \"ticks\": \"\"}, \"type\": \"mesh3d\"}], \"parcoords\": [{\"line\": {\"colorbar\": {\"outlinewidth\": 0, \"ticks\": \"\"}}, \"type\": \"parcoords\"}], \"pie\": [{\"automargin\": true, \"type\": \"pie\"}], \"scatter\": [{\"marker\": {\"colorbar\": {\"outlinewidth\": 0, \"ticks\": \"\"}}, \"type\": \"scatter\"}], \"scatter3d\": [{\"line\": {\"colorbar\": {\"outlinewidth\": 0, \"ticks\": \"\"}}, \"marker\": {\"colorbar\": {\"outlinewidth\": 0, \"ticks\": \"\"}}, \"type\": \"scatter3d\"}], \"scattercarpet\": [{\"marker\": {\"colorbar\": {\"outlinewidth\": 0, \"ticks\": \"\"}}, \"type\": \"scattercarpet\"}], \"scattergeo\": [{\"marker\": {\"colorbar\": {\"outlinewidth\": 0, \"ticks\": \"\"}}, \"type\": \"scattergeo\"}], \"scattergl\": [{\"marker\": {\"colorbar\": {\"outlinewidth\": 0, \"ticks\": \"\"}}, \"type\": \"scattergl\"}], \"scattermapbox\": [{\"marker\": {\"colorbar\": {\"outlinewidth\": 0, \"ticks\": \"\"}}, \"type\": \"scattermapbox\"}], \"scatterpolar\": [{\"marker\": {\"colorbar\": {\"outlinewidth\": 0, \"ticks\": \"\"}}, \"type\": \"scatterpolar\"}], \"scatterpolargl\": [{\"marker\": {\"colorbar\": {\"outlinewidth\": 0, \"ticks\": \"\"}}, \"type\": \"scatterpolargl\"}], \"scatterternary\": [{\"marker\": {\"colorbar\": {\"outlinewidth\": 0, \"ticks\": \"\"}}, \"type\": \"scatterternary\"}], \"surface\": [{\"colorbar\": {\"outlinewidth\": 0, \"ticks\": \"\"}, \"colorscale\": [[0.0, \"#0d0887\"], [0.1111111111111111, \"#46039f\"], [0.2222222222222222, \"#7201a8\"], [0.3333333333333333, \"#9c179e\"], [0.4444444444444444, \"#bd3786\"], [0.5555555555555556, \"#d8576b\"], [0.6666666666666666, \"#ed7953\"], [0.7777777777777778, \"#fb9f3a\"], [0.8888888888888888, \"#fdca26\"], [1.0, \"#f0f921\"]], \"type\": \"surface\"}], \"table\": [{\"cells\": {\"fill\": {\"color\": \"#EBF0F8\"}, \"line\": {\"color\": \"white\"}}, \"header\": {\"fill\": {\"color\": \"#C8D4E3\"}, \"line\": {\"color\": \"white\"}}, \"type\": \"table\"}]}, \"layout\": {\"annotationdefaults\": {\"arrowcolor\": \"#2a3f5f\", \"arrowhead\": 0, \"arrowwidth\": 1}, \"autotypenumbers\": \"strict\", \"coloraxis\": {\"colorbar\": {\"outlinewidth\": 0, \"ticks\": \"\"}}, \"colorscale\": {\"diverging\": [[0, \"#8e0152\"], [0.1, \"#c51b7d\"], [0.2, \"#de77ae\"], [0.3, \"#f1b6da\"], [0.4, \"#fde0ef\"], [0.5, \"#f7f7f7\"], [0.6, \"#e6f5d0\"], [0.7, \"#b8e186\"], [0.8, \"#7fbc41\"], [0.9, \"#4d9221\"], [1, \"#276419\"]], \"sequential\": [[0.0, \"#0d0887\"], [0.1111111111111111, \"#46039f\"], [0.2222222222222222, \"#7201a8\"], [0.3333333333333333, \"#9c179e\"], [0.4444444444444444, \"#bd3786\"], [0.5555555555555556, \"#d8576b\"], [0.6666666666666666, \"#ed7953\"], [0.7777777777777778, \"#fb9f3a\"], [0.8888888888888888, \"#fdca26\"], [1.0, \"#f0f921\"]], \"sequentialminus\": [[0.0, \"#0d0887\"], [0.1111111111111111, \"#46039f\"], [0.2222222222222222, \"#7201a8\"], [0.3333333333333333, \"#9c179e\"], [0.4444444444444444, \"#bd3786\"], [0.5555555555555556, \"#d8576b\"], [0.6666666666666666, \"#ed7953\"], [0.7777777777777778, \"#fb9f3a\"], [0.8888888888888888, \"#fdca26\"], [1.0, \"#f0f921\"]]}, \"colorway\": [\"#636efa\", \"#EF553B\", \"#00cc96\", \"#ab63fa\", \"#FFA15A\", \"#19d3f3\", \"#FF6692\", \"#B6E880\", \"#FF97FF\", \"#FECB52\"], \"font\": {\"color\": \"#2a3f5f\"}, \"geo\": {\"bgcolor\": \"white\", \"lakecolor\": \"white\", \"landcolor\": \"#E5ECF6\", \"showlakes\": true, \"showland\": true, \"subunitcolor\": \"white\"}, \"hoverlabel\": {\"align\": \"left\"}, \"hovermode\": \"closest\", \"mapbox\": {\"style\": \"light\"}, \"paper_bgcolor\": \"white\", \"plot_bgcolor\": \"#E5ECF6\", \"polar\": {\"angularaxis\": {\"gridcolor\": \"white\", \"linecolor\": \"white\", \"ticks\": \"\"}, \"bgcolor\": \"#E5ECF6\", \"radialaxis\": {\"gridcolor\": \"white\", \"linecolor\": \"white\", \"ticks\": \"\"}}, \"scene\": {\"xaxis\": {\"backgroundcolor\": \"#E5ECF6\", \"gridcolor\": \"white\", \"gridwidth\": 2, \"linecolor\": \"white\", \"showbackground\": true, \"ticks\": \"\", \"zerolinecolor\": \"white\"}, \"yaxis\": {\"backgroundcolor\": \"#E5ECF6\", \"gridcolor\": \"white\", \"gridwidth\": 2, \"linecolor\": \"white\", \"showbackground\": true, \"ticks\": \"\", \"zerolinecolor\": \"white\"}, \"zaxis\": {\"backgroundcolor\": \"#E5ECF6\", \"gridcolor\": \"white\", \"gridwidth\": 2, \"linecolor\": \"white\", \"showbackground\": true, \"ticks\": \"\", \"zerolinecolor\": \"white\"}}, \"shapedefaults\": {\"line\": {\"color\": \"#2a3f5f\"}}, \"ternary\": {\"aaxis\": {\"gridcolor\": \"white\", \"linecolor\": \"white\", \"ticks\": \"\"}, \"baxis\": {\"gridcolor\": \"white\", \"linecolor\": \"white\", \"ticks\": \"\"}, \"bgcolor\": \"#E5ECF6\", \"caxis\": {\"gridcolor\": \"white\", \"linecolor\": \"white\", \"ticks\": \"\"}}, \"title\": {\"x\": 0.05}, \"xaxis\": {\"automargin\": true, \"gridcolor\": \"white\", \"linecolor\": \"white\", \"ticks\": \"\", \"title\": {\"standoff\": 15}, \"zerolinecolor\": \"white\", \"zerolinewidth\": 2}, \"yaxis\": {\"automargin\": true, \"gridcolor\": \"white\", \"linecolor\": \"white\", \"ticks\": \"\", \"title\": {\"standoff\": 15}, \"zerolinecolor\": \"white\", \"zerolinewidth\": 2}}}, \"title\": {\"text\": \"2Pts. Vs. 3Pts.\"}, \"xaxis\": {\"anchor\": \"y\", \"domain\": [0.0, 1.0], \"title\": {\"text\": \"TEAM\"}}, \"yaxis\": {\"anchor\": \"x\", \"domain\": [0.0, 1.0], \"title\": {\"text\": \"value\"}}},                        {\"responsive\": true}                    ).then(function(){\n",
              "                            \n",
              "var gd = document.getElementById('e6a96b93-17ad-419c-853d-2208c5f0c367');\n",
              "var x = new MutationObserver(function (mutations, observer) {{\n",
              "        var display = window.getComputedStyle(gd).display;\n",
              "        if (!display || display === 'none') {{\n",
              "            console.log([gd, 'removed!']);\n",
              "            Plotly.purge(gd);\n",
              "            observer.disconnect();\n",
              "        }}\n",
              "}});\n",
              "\n",
              "// Listen for the removal of the full notebook cells\n",
              "var notebookContainer = gd.closest('#notebook-container');\n",
              "if (notebookContainer) {{\n",
              "    x.observe(notebookContainer, {childList: true});\n",
              "}}\n",
              "\n",
              "// Listen for the clearing of the current output cell\n",
              "var outputEl = gd.closest('.output');\n",
              "if (outputEl) {{\n",
              "    x.observe(outputEl, {childList: true});\n",
              "}}\n",
              "\n",
              "                        })                };                            </script>        </div>\n",
              "</body>\n",
              "</html>"
            ]
          },
          "metadata": {
            "tags": []
          }
        }
      ]
    },
    {
      "cell_type": "code",
      "metadata": {
        "id": "gJqJTYiRfroO"
      },
      "source": [
        ""
      ],
      "execution_count": null,
      "outputs": []
    },
    {
      "cell_type": "markdown",
      "metadata": {
        "id": "emf4CR10H5z_"
      },
      "source": [
        "#Total points by Two_pts"
      ]
    },
    {
      "cell_type": "code",
      "metadata": {
        "id": "uxS-KwNhHyNB",
        "colab": {
          "base_uri": "https://localhost:8080/",
          "height": 607
        },
        "outputId": "f2678751-c61b-428f-9f19-919c228b7d26"
      },
      "source": [
        "#Total points by Two_pts\r\n",
        "pd.pivot_table(nba_20_copy, index='TEAM', values=['two_pa', 'three_pa'], aggfunc='sum', margins=True)\r\n"
      ],
      "execution_count": null,
      "outputs": [
        {
          "output_type": "execute_result",
          "data": {
            "text/html": [
              "<div>\n",
              "<style scoped>\n",
              "    .dataframe tbody tr th:only-of-type {\n",
              "        vertical-align: middle;\n",
              "    }\n",
              "\n",
              "    .dataframe tbody tr th {\n",
              "        vertical-align: top;\n",
              "    }\n",
              "\n",
              "    .dataframe thead th {\n",
              "        text-align: right;\n",
              "    }\n",
              "</style>\n",
              "<table border=\"1\" class=\"dataframe\">\n",
              "  <thead>\n",
              "    <tr style=\"text-align: right;\">\n",
              "      <th></th>\n",
              "      <th>three_pa</th>\n",
              "      <th>two_pa</th>\n",
              "    </tr>\n",
              "    <tr>\n",
              "      <th>TEAM</th>\n",
              "      <th></th>\n",
              "      <th></th>\n",
              "    </tr>\n",
              "  </thead>\n",
              "  <tbody>\n",
              "    <tr>\n",
              "      <th>Bos</th>\n",
              "      <td>619</td>\n",
              "      <td>825</td>\n",
              "    </tr>\n",
              "    <tr>\n",
              "      <th>Bro</th>\n",
              "      <td>184</td>\n",
              "      <td>181</td>\n",
              "    </tr>\n",
              "    <tr>\n",
              "      <th>Dal</th>\n",
              "      <td>225</td>\n",
              "      <td>310</td>\n",
              "    </tr>\n",
              "    <tr>\n",
              "      <th>Den</th>\n",
              "      <td>615</td>\n",
              "      <td>953</td>\n",
              "    </tr>\n",
              "    <tr>\n",
              "      <th>Hou</th>\n",
              "      <td>561</td>\n",
              "      <td>468</td>\n",
              "    </tr>\n",
              "    <tr>\n",
              "      <th>Ind</th>\n",
              "      <td>128</td>\n",
              "      <td>193</td>\n",
              "    </tr>\n",
              "    <tr>\n",
              "      <th>Lac</th>\n",
              "      <td>427</td>\n",
              "      <td>696</td>\n",
              "    </tr>\n",
              "    <tr>\n",
              "      <th>Lal</th>\n",
              "      <td>718</td>\n",
              "      <td>1046</td>\n",
              "    </tr>\n",
              "    <tr>\n",
              "      <th>Mia</th>\n",
              "      <td>746</td>\n",
              "      <td>977</td>\n",
              "    </tr>\n",
              "    <tr>\n",
              "      <th>Mil</th>\n",
              "      <td>371</td>\n",
              "      <td>500</td>\n",
              "    </tr>\n",
              "    <tr>\n",
              "      <th>Okc</th>\n",
              "      <td>256</td>\n",
              "      <td>342</td>\n",
              "    </tr>\n",
              "    <tr>\n",
              "      <th>Orl</th>\n",
              "      <td>200</td>\n",
              "      <td>244</td>\n",
              "    </tr>\n",
              "    <tr>\n",
              "      <th>Phi</th>\n",
              "      <td>121</td>\n",
              "      <td>216</td>\n",
              "    </tr>\n",
              "    <tr>\n",
              "      <th>Por</th>\n",
              "      <td>153</td>\n",
              "      <td>288</td>\n",
              "    </tr>\n",
              "    <tr>\n",
              "      <th>Tor</th>\n",
              "      <td>443</td>\n",
              "      <td>530</td>\n",
              "    </tr>\n",
              "    <tr>\n",
              "      <th>Uta</th>\n",
              "      <td>261</td>\n",
              "      <td>312</td>\n",
              "    </tr>\n",
              "    <tr>\n",
              "      <th>All</th>\n",
              "      <td>6028</td>\n",
              "      <td>8081</td>\n",
              "    </tr>\n",
              "  </tbody>\n",
              "</table>\n",
              "</div>"
            ],
            "text/plain": [
              "      three_pa  two_pa\n",
              "TEAM                  \n",
              "Bos        619     825\n",
              "Bro        184     181\n",
              "Dal        225     310\n",
              "Den        615     953\n",
              "Hou        561     468\n",
              "Ind        128     193\n",
              "Lac        427     696\n",
              "Lal        718    1046\n",
              "Mia        746     977\n",
              "Mil        371     500\n",
              "Okc        256     342\n",
              "Orl        200     244\n",
              "Phi        121     216\n",
              "Por        153     288\n",
              "Tor        443     530\n",
              "Uta        261     312\n",
              "All       6028    8081"
            ]
          },
          "metadata": {
            "tags": []
          },
          "execution_count": 84
        }
      ]
    },
    {
      "cell_type": "markdown",
      "metadata": {
        "id": "4hfcyJjZIZOH"
      },
      "source": [
        "#Bar chart for the Sum of Two_pts by each Team  "
      ]
    },
    {
      "cell_type": "code",
      "metadata": {
        "id": "FFIUKOuSXt8p",
        "colab": {
          "base_uri": "https://localhost:8080/",
          "height": 542
        },
        "outputId": "a49ad042-e970-436b-e8cb-3c414ab0c937"
      },
      "source": [
        "px.histogram(nba_20_copy, x = 'TEAM', y='two_pa', color=\"TEAM\", title = 'Sum of Two points', template='plotly_white')"
      ],
      "execution_count": null,
      "outputs": [
        {
          "output_type": "display_data",
          "data": {
            "text/html": [
              "<html>\n",
              "<head><meta charset=\"utf-8\" /></head>\n",
              "<body>\n",
              "    <div>            <script src=\"https://cdnjs.cloudflare.com/ajax/libs/mathjax/2.7.5/MathJax.js?config=TeX-AMS-MML_SVG\"></script><script type=\"text/javascript\">if (window.MathJax) {MathJax.Hub.Config({SVG: {font: \"STIX-Web\"}});}</script>                <script type=\"text/javascript\">window.PlotlyConfig = {MathJaxConfig: 'local'};</script>\n",
              "        <script src=\"https://cdn.plot.ly/plotly-latest.min.js\"></script>                <div id=\"38694bc7-0e6f-45c9-8ad2-510fdf361ef0\" class=\"plotly-graph-div\" style=\"height:525px; width:100%;\"></div>            <script type=\"text/javascript\">                                    window.PLOTLYENV=window.PLOTLYENV || {};                                    if (document.getElementById(\"38694bc7-0e6f-45c9-8ad2-510fdf361ef0\")) {                    Plotly.newPlot(                        \"38694bc7-0e6f-45c9-8ad2-510fdf361ef0\",                        [{\"alignmentgroup\": \"True\", \"bingroup\": \"x\", \"histfunc\": \"sum\", \"hovertemplate\": \"TEAM=%{x}<br>sum of two_pa=%{y}<extra></extra>\", \"legendgroup\": \"Por\", \"marker\": {\"color\": \"#636efa\"}, \"name\": \"Por\", \"offsetgroup\": \"Por\", \"orientation\": \"v\", \"showlegend\": true, \"type\": \"histogram\", \"x\": [\"Por\", \"Por\", \"Por\", \"Por\", \"Por\", \"Por\", \"Por\", \"Por\", \"Por\", \"Por\", \"Por\"], \"xaxis\": \"x\", \"y\": [5, 49, 10, 15, 12, 31, 64, 46, 12, 21, 23], \"yaxis\": \"y\"}, {\"alignmentgroup\": \"True\", \"bingroup\": \"x\", \"histfunc\": \"sum\", \"hovertemplate\": \"TEAM=%{x}<br>sum of two_pa=%{y}<extra></extra>\", \"legendgroup\": \"Okc\", \"marker\": {\"color\": \"#EF553B\"}, \"name\": \"Okc\", \"offsetgroup\": \"Okc\", \"orientation\": \"v\", \"showlegend\": true, \"type\": \"histogram\", \"x\": [\"Okc\", \"Okc\", \"Okc\", \"Okc\", \"Okc\", \"Okc\", \"Okc\", \"Okc\", \"Okc\", \"Okc\", \"Okc\", \"Okc\", \"Okc\", \"Okc\"], \"xaxis\": \"x\", \"y\": [51, 9, 0, 6, 26, 1, 42, 55, 1, 2, 16, 69, 0, 64], \"yaxis\": \"y\"}, {\"alignmentgroup\": \"True\", \"bingroup\": \"x\", \"histfunc\": \"sum\", \"hovertemplate\": \"TEAM=%{x}<br>sum of two_pa=%{y}<extra></extra>\", \"legendgroup\": \"Mia\", \"marker\": {\"color\": \"#00cc96\"}, \"name\": \"Mia\", \"offsetgroup\": \"Mia\", \"orientation\": \"v\", \"showlegend\": true, \"type\": \"histogram\", \"x\": [\"Mia\", \"Mia\", \"Mia\", \"Mia\", \"Mia\", \"Mia\", \"Mia\", \"Mia\", \"Mia\", \"Mia\", \"Mia\", \"Mia\", \"Mia\"], \"xaxis\": \"x\", \"y\": [219, 252, 40, 161, 149, 3, 26, 8, 4, 49, 46, 20, 0], \"yaxis\": \"y\"}, {\"alignmentgroup\": \"True\", \"bingroup\": \"x\", \"histfunc\": \"sum\", \"hovertemplate\": \"TEAM=%{x}<br>sum of two_pa=%{y}<extra></extra>\", \"legendgroup\": \"Bro\", \"marker\": {\"color\": \"#ab63fa\"}, \"name\": \"Bro\", \"offsetgroup\": \"Bro\", \"orientation\": \"v\", \"showlegend\": true, \"type\": \"histogram\", \"x\": [\"Bro\", \"Bro\", \"Bro\", \"Bro\", \"Bro\", \"Bro\", \"Bro\", \"Bro\", \"Bro\", \"Bro\", \"Bro\", \"Bro\", \"Bro\"], \"xaxis\": \"x\", \"y\": [24, 1, 8, 5, 11, 18, 12, 52, 20, 9, 5, 13, 3], \"yaxis\": \"y\"}, {\"alignmentgroup\": \"True\", \"bingroup\": \"x\", \"histfunc\": \"sum\", \"hovertemplate\": \"TEAM=%{x}<br>sum of two_pa=%{y}<extra></extra>\", \"legendgroup\": \"Mil\", \"marker\": {\"color\": \"#FFA15A\"}, \"name\": \"Mil\", \"offsetgroup\": \"Mil\", \"orientation\": \"v\", \"showlegend\": true, \"type\": \"histogram\", \"x\": [\"Mil\", \"Mil\", \"Mil\", \"Mil\", \"Mil\", \"Mil\", \"Mil\", \"Mil\", \"Mil\", \"Mil\", \"Mil\", \"Mil\", \"Mil\", \"Mil\"], \"xaxis\": \"x\", \"y\": [121, 66, 0, 12, 30, 39, 4, 10, 61, 4, 0, 14, 115, 24], \"yaxis\": \"y\"}, {\"alignmentgroup\": \"True\", \"bingroup\": \"x\", \"histfunc\": \"sum\", \"hovertemplate\": \"TEAM=%{x}<br>sum of two_pa=%{y}<extra></extra>\", \"legendgroup\": \"Tor\", \"marker\": {\"color\": \"#19d3f3\"}, \"name\": \"Tor\", \"offsetgroup\": \"Tor\", \"orientation\": \"v\", \"showlegend\": true, \"type\": \"histogram\", \"x\": [\"Tor\", \"Tor\", \"Tor\", \"Tor\", \"Tor\", \"Tor\", \"Tor\", \"Tor\", \"Tor\", \"Tor\", \"Tor\", \"Tor\", \"Tor\", \"Tor\"], \"xaxis\": \"x\", \"y\": [47, 6, 10, 37, 9, 65, 6, 76, 2, 52, 129, 9, 80, 2], \"yaxis\": \"y\"}, {\"alignmentgroup\": \"True\", \"bingroup\": \"x\", \"histfunc\": \"sum\", \"hovertemplate\": \"TEAM=%{x}<br>sum of two_pa=%{y}<extra></extra>\", \"legendgroup\": \"Orl\", \"marker\": {\"color\": \"#FF6692\"}, \"name\": \"Orl\", \"offsetgroup\": \"Orl\", \"orientation\": \"v\", \"showlegend\": true, \"type\": \"histogram\", \"x\": [\"Orl\", \"Orl\", \"Orl\", \"Orl\", \"Orl\", \"Orl\", \"Orl\", \"Orl\", \"Orl\", \"Orl\", \"Orl\"], \"xaxis\": \"x\", \"y\": [29, 14, 1, 19, 22, 44, 13, 1, 0, 34, 67], \"yaxis\": \"y\"}, {\"alignmentgroup\": \"True\", \"bingroup\": \"x\", \"histfunc\": \"sum\", \"hovertemplate\": \"TEAM=%{x}<br>sum of two_pa=%{y}<extra></extra>\", \"legendgroup\": \"Dal\", \"marker\": {\"color\": \"#B6E880\"}, \"name\": \"Dal\", \"offsetgroup\": \"Dal\", \"orientation\": \"v\", \"showlegend\": true, \"type\": \"histogram\", \"x\": [\"Dal\", \"Dal\", \"Dal\", \"Dal\", \"Dal\", \"Dal\", \"Dal\", \"Dal\", \"Dal\", \"Dal\", \"Dal\", \"Dal\", \"Dal\", \"Dal\"], \"xaxis\": \"x\", \"y\": [1, 42, 5, 32, 84, 22, 41, 3, 5, 13, 29, 23, 2, 8], \"yaxis\": \"y\"}, {\"alignmentgroup\": \"True\", \"bingroup\": \"x\", \"histfunc\": \"sum\", \"hovertemplate\": \"TEAM=%{x}<br>sum of two_pa=%{y}<extra></extra>\", \"legendgroup\": \"Den\", \"marker\": {\"color\": \"#FF97FF\"}, \"name\": \"Den\", \"offsetgroup\": \"Den\", \"orientation\": \"v\", \"showlegend\": true, \"type\": \"histogram\", \"x\": [\"Den\", \"Den\", \"Den\", \"Den\", \"Den\", \"Den\", \"Den\", \"Den\", \"Den\", \"Den\", \"Den\", \"Den\", \"Den\", \"Den\", \"Den\"], \"xaxis\": \"x\", \"y\": [5, 6, 0, 36, 6, 25, 80, 38, 245, 74, 93, 231, 38, 75, 1], \"yaxis\": \"y\"}, {\"alignmentgroup\": \"True\", \"bingroup\": \"x\", \"histfunc\": \"sum\", \"hovertemplate\": \"TEAM=%{x}<br>sum of two_pa=%{y}<extra></extra>\", \"legendgroup\": \"Lac\", \"marker\": {\"color\": \"#FECB52\"}, \"name\": \"Lac\", \"offsetgroup\": \"Lac\", \"orientation\": \"v\", \"showlegend\": true, \"type\": \"histogram\", \"x\": [\"Lac\", \"Lac\", \"Lac\", \"Lac\", \"Lac\", \"Lac\", \"Lac\", \"Lac\", \"Lac\", \"Lac\", \"Lac\", \"Lac\", \"Lac\", \"Lac\", \"Lac\"], \"xaxis\": \"x\", \"y\": [17, 2, 110, 32, 77, 16, 195, 3, 2, 52, 0, 0, 17, 95, 78], \"yaxis\": \"y\"}, {\"alignmentgroup\": \"True\", \"bingroup\": \"x\", \"histfunc\": \"sum\", \"hovertemplate\": \"TEAM=%{x}<br>sum of two_pa=%{y}<extra></extra>\", \"legendgroup\": \"Uta\", \"marker\": {\"color\": \"#636efa\"}, \"name\": \"Uta\", \"offsetgroup\": \"Uta\", \"orientation\": \"v\", \"showlegend\": true, \"type\": \"histogram\", \"x\": [\"Uta\", \"Uta\", \"Uta\", \"Uta\", \"Uta\", \"Uta\", \"Uta\", \"Uta\", \"Uta\", \"Uta\", \"Uta\", \"Uta\", \"Uta\", \"Uta\"], \"xaxis\": \"x\", \"y\": [9, 2, 48, 30, 74, 14, 93, 2, 11, 15, 10, 2, 2, 0], \"yaxis\": \"y\"}, {\"alignmentgroup\": \"True\", \"bingroup\": \"x\", \"histfunc\": \"sum\", \"hovertemplate\": \"TEAM=%{x}<br>sum of two_pa=%{y}<extra></extra>\", \"legendgroup\": \"Ind\", \"marker\": {\"color\": \"#EF553B\"}, \"name\": \"Ind\", \"offsetgroup\": \"Ind\", \"orientation\": \"v\", \"showlegend\": true, \"type\": \"histogram\", \"x\": [\"Ind\", \"Ind\", \"Ind\", \"Ind\", \"Ind\", \"Ind\", \"Ind\", \"Ind\", \"Ind\", \"Ind\", \"Ind\"], \"xaxis\": \"x\", \"y\": [41, 12, 5, 0, 8, 5, 23, 16, 4, 30, 49], \"yaxis\": \"y\"}, {\"alignmentgroup\": \"True\", \"bingroup\": \"x\", \"histfunc\": \"sum\", \"hovertemplate\": \"TEAM=%{x}<br>sum of two_pa=%{y}<extra></extra>\", \"legendgroup\": \"Bos\", \"marker\": {\"color\": \"#00cc96\"}, \"name\": \"Bos\", \"offsetgroup\": \"Bos\", \"orientation\": \"v\", \"showlegend\": true, \"type\": \"histogram\", \"x\": [\"Bos\", \"Bos\", \"Bos\", \"Bos\", \"Bos\", \"Bos\", \"Bos\", \"Bos\", \"Bos\", \"Bos\", \"Bos\", \"Bos\", \"Bos\", \"Bos\", \"Bos\", \"Bos\", \"Bos\"], \"xaxis\": \"x\", \"y\": [168, 0, 1, 0, 26, 41, 8, 5, 0, 75, 208, 91, 130, 33, 0, 30, 9], \"yaxis\": \"y\"}, {\"alignmentgroup\": \"True\", \"bingroup\": \"x\", \"histfunc\": \"sum\", \"hovertemplate\": \"TEAM=%{x}<br>sum of two_pa=%{y}<extra></extra>\", \"legendgroup\": \"Phi\", \"marker\": {\"color\": \"#ab63fa\"}, \"name\": \"Phi\", \"offsetgroup\": \"Phi\", \"orientation\": \"v\", \"showlegend\": true, \"type\": \"histogram\", \"x\": [\"Phi\", \"Phi\", \"Phi\", \"Phi\", \"Phi\", \"Phi\", \"Phi\", \"Phi\", \"Phi\", \"Phi\", \"Phi\", \"Phi\"], \"xaxis\": \"x\", \"y\": [33, 58, 46, 21, 1, 19, 4, 0, 0, 28, 3, 3], \"yaxis\": \"y\"}, {\"alignmentgroup\": \"True\", \"bingroup\": \"x\", \"histfunc\": \"sum\", \"hovertemplate\": \"TEAM=%{x}<br>sum of two_pa=%{y}<extra></extra>\", \"legendgroup\": \"Hou\", \"marker\": {\"color\": \"#FFA15A\"}, \"name\": \"Hou\", \"offsetgroup\": \"Hou\", \"orientation\": \"v\", \"showlegend\": true, \"type\": \"histogram\", \"x\": [\"Hou\", \"Hou\", \"Hou\", \"Hou\", \"Hou\", \"Hou\", \"Hou\", \"Hou\", \"Hou\", \"Hou\", \"Hou\", \"Hou\", \"Hou\"], \"xaxis\": \"x\", \"y\": [1, 2, 0, 27, 2, 86, 49, 111, 32, 4, 26, 21, 107], \"yaxis\": \"y\"}, {\"alignmentgroup\": \"True\", \"bingroup\": \"x\", \"histfunc\": \"sum\", \"hovertemplate\": \"TEAM=%{x}<br>sum of two_pa=%{y}<extra></extra>\", \"legendgroup\": \"Lal\", \"marker\": {\"color\": \"#19d3f3\"}, \"name\": \"Lal\", \"offsetgroup\": \"Lal\", \"orientation\": \"v\", \"showlegend\": true, \"type\": \"histogram\", \"x\": [\"Lal\", \"Lal\", \"Lal\", \"Lal\", \"Lal\", \"Lal\", \"Lal\", \"Lal\", \"Lal\", \"Lal\", \"Lal\", \"Lal\", \"Lal\", \"Lal\", \"Lal\"], \"xaxis\": \"x\", \"y\": [70, 52, 6, 299, 1, 55, 7, 55, 263, 96, 30, 29, 71, 4, 8], \"yaxis\": \"y\"}],                        {\"barmode\": \"relative\", \"legend\": {\"title\": {\"text\": \"TEAM\"}, \"tracegroupgap\": 0}, \"template\": {\"data\": {\"bar\": [{\"error_x\": {\"color\": \"#2a3f5f\"}, \"error_y\": {\"color\": \"#2a3f5f\"}, \"marker\": {\"line\": {\"color\": \"white\", \"width\": 0.5}}, \"type\": \"bar\"}], \"barpolar\": [{\"marker\": {\"line\": {\"color\": \"white\", \"width\": 0.5}}, \"type\": \"barpolar\"}], \"carpet\": [{\"aaxis\": {\"endlinecolor\": \"#2a3f5f\", \"gridcolor\": \"#C8D4E3\", \"linecolor\": \"#C8D4E3\", \"minorgridcolor\": \"#C8D4E3\", \"startlinecolor\": \"#2a3f5f\"}, \"baxis\": {\"endlinecolor\": \"#2a3f5f\", \"gridcolor\": \"#C8D4E3\", \"linecolor\": \"#C8D4E3\", \"minorgridcolor\": \"#C8D4E3\", \"startlinecolor\": \"#2a3f5f\"}, \"type\": \"carpet\"}], \"choropleth\": [{\"colorbar\": {\"outlinewidth\": 0, \"ticks\": \"\"}, \"type\": \"choropleth\"}], \"contour\": [{\"colorbar\": {\"outlinewidth\": 0, \"ticks\": \"\"}, \"colorscale\": [[0.0, \"#0d0887\"], [0.1111111111111111, \"#46039f\"], [0.2222222222222222, \"#7201a8\"], [0.3333333333333333, \"#9c179e\"], [0.4444444444444444, \"#bd3786\"], [0.5555555555555556, \"#d8576b\"], [0.6666666666666666, \"#ed7953\"], [0.7777777777777778, \"#fb9f3a\"], [0.8888888888888888, \"#fdca26\"], [1.0, \"#f0f921\"]], \"type\": \"contour\"}], \"contourcarpet\": [{\"colorbar\": {\"outlinewidth\": 0, \"ticks\": \"\"}, \"type\": \"contourcarpet\"}], \"heatmap\": [{\"colorbar\": {\"outlinewidth\": 0, \"ticks\": \"\"}, \"colorscale\": [[0.0, \"#0d0887\"], [0.1111111111111111, \"#46039f\"], [0.2222222222222222, \"#7201a8\"], [0.3333333333333333, \"#9c179e\"], [0.4444444444444444, \"#bd3786\"], [0.5555555555555556, \"#d8576b\"], [0.6666666666666666, \"#ed7953\"], [0.7777777777777778, \"#fb9f3a\"], [0.8888888888888888, \"#fdca26\"], [1.0, \"#f0f921\"]], \"type\": \"heatmap\"}], \"heatmapgl\": [{\"colorbar\": {\"outlinewidth\": 0, \"ticks\": \"\"}, \"colorscale\": [[0.0, \"#0d0887\"], [0.1111111111111111, \"#46039f\"], [0.2222222222222222, \"#7201a8\"], [0.3333333333333333, \"#9c179e\"], [0.4444444444444444, \"#bd3786\"], [0.5555555555555556, \"#d8576b\"], [0.6666666666666666, \"#ed7953\"], [0.7777777777777778, \"#fb9f3a\"], [0.8888888888888888, \"#fdca26\"], [1.0, \"#f0f921\"]], \"type\": \"heatmapgl\"}], \"histogram\": [{\"marker\": {\"colorbar\": {\"outlinewidth\": 0, \"ticks\": \"\"}}, \"type\": \"histogram\"}], \"histogram2d\": [{\"colorbar\": {\"outlinewidth\": 0, \"ticks\": \"\"}, \"colorscale\": [[0.0, \"#0d0887\"], [0.1111111111111111, \"#46039f\"], [0.2222222222222222, \"#7201a8\"], [0.3333333333333333, \"#9c179e\"], [0.4444444444444444, \"#bd3786\"], [0.5555555555555556, \"#d8576b\"], [0.6666666666666666, \"#ed7953\"], [0.7777777777777778, \"#fb9f3a\"], [0.8888888888888888, \"#fdca26\"], [1.0, \"#f0f921\"]], \"type\": \"histogram2d\"}], \"histogram2dcontour\": [{\"colorbar\": {\"outlinewidth\": 0, \"ticks\": \"\"}, \"colorscale\": [[0.0, \"#0d0887\"], [0.1111111111111111, \"#46039f\"], [0.2222222222222222, \"#7201a8\"], [0.3333333333333333, \"#9c179e\"], [0.4444444444444444, \"#bd3786\"], [0.5555555555555556, \"#d8576b\"], [0.6666666666666666, \"#ed7953\"], [0.7777777777777778, \"#fb9f3a\"], [0.8888888888888888, \"#fdca26\"], [1.0, \"#f0f921\"]], \"type\": \"histogram2dcontour\"}], \"mesh3d\": [{\"colorbar\": {\"outlinewidth\": 0, \"ticks\": \"\"}, \"type\": \"mesh3d\"}], \"parcoords\": [{\"line\": {\"colorbar\": {\"outlinewidth\": 0, \"ticks\": \"\"}}, \"type\": \"parcoords\"}], \"pie\": [{\"automargin\": true, \"type\": \"pie\"}], \"scatter\": [{\"marker\": {\"colorbar\": {\"outlinewidth\": 0, \"ticks\": \"\"}}, \"type\": \"scatter\"}], \"scatter3d\": [{\"line\": {\"colorbar\": {\"outlinewidth\": 0, \"ticks\": \"\"}}, \"marker\": {\"colorbar\": {\"outlinewidth\": 0, \"ticks\": \"\"}}, \"type\": \"scatter3d\"}], \"scattercarpet\": [{\"marker\": {\"colorbar\": {\"outlinewidth\": 0, \"ticks\": \"\"}}, \"type\": \"scattercarpet\"}], \"scattergeo\": [{\"marker\": {\"colorbar\": {\"outlinewidth\": 0, \"ticks\": \"\"}}, \"type\": \"scattergeo\"}], \"scattergl\": [{\"marker\": {\"colorbar\": {\"outlinewidth\": 0, \"ticks\": \"\"}}, \"type\": \"scattergl\"}], \"scattermapbox\": [{\"marker\": {\"colorbar\": {\"outlinewidth\": 0, \"ticks\": \"\"}}, \"type\": \"scattermapbox\"}], \"scatterpolar\": [{\"marker\": {\"colorbar\": {\"outlinewidth\": 0, \"ticks\": \"\"}}, \"type\": \"scatterpolar\"}], \"scatterpolargl\": [{\"marker\": {\"colorbar\": {\"outlinewidth\": 0, \"ticks\": \"\"}}, \"type\": \"scatterpolargl\"}], \"scatterternary\": [{\"marker\": {\"colorbar\": {\"outlinewidth\": 0, \"ticks\": \"\"}}, \"type\": \"scatterternary\"}], \"surface\": [{\"colorbar\": {\"outlinewidth\": 0, \"ticks\": \"\"}, \"colorscale\": [[0.0, \"#0d0887\"], [0.1111111111111111, \"#46039f\"], [0.2222222222222222, \"#7201a8\"], [0.3333333333333333, \"#9c179e\"], [0.4444444444444444, \"#bd3786\"], [0.5555555555555556, \"#d8576b\"], [0.6666666666666666, \"#ed7953\"], [0.7777777777777778, \"#fb9f3a\"], [0.8888888888888888, \"#fdca26\"], [1.0, \"#f0f921\"]], \"type\": \"surface\"}], \"table\": [{\"cells\": {\"fill\": {\"color\": \"#EBF0F8\"}, \"line\": {\"color\": \"white\"}}, \"header\": {\"fill\": {\"color\": \"#C8D4E3\"}, \"line\": {\"color\": \"white\"}}, \"type\": \"table\"}]}, \"layout\": {\"annotationdefaults\": {\"arrowcolor\": \"#2a3f5f\", \"arrowhead\": 0, \"arrowwidth\": 1}, \"autotypenumbers\": \"strict\", \"coloraxis\": {\"colorbar\": {\"outlinewidth\": 0, \"ticks\": \"\"}}, \"colorscale\": {\"diverging\": [[0, \"#8e0152\"], [0.1, \"#c51b7d\"], [0.2, \"#de77ae\"], [0.3, \"#f1b6da\"], [0.4, \"#fde0ef\"], [0.5, \"#f7f7f7\"], [0.6, \"#e6f5d0\"], [0.7, \"#b8e186\"], [0.8, \"#7fbc41\"], [0.9, \"#4d9221\"], [1, \"#276419\"]], \"sequential\": [[0.0, \"#0d0887\"], [0.1111111111111111, \"#46039f\"], [0.2222222222222222, \"#7201a8\"], [0.3333333333333333, \"#9c179e\"], [0.4444444444444444, \"#bd3786\"], [0.5555555555555556, \"#d8576b\"], [0.6666666666666666, \"#ed7953\"], [0.7777777777777778, \"#fb9f3a\"], [0.8888888888888888, \"#fdca26\"], [1.0, \"#f0f921\"]], \"sequentialminus\": [[0.0, \"#0d0887\"], [0.1111111111111111, \"#46039f\"], [0.2222222222222222, \"#7201a8\"], [0.3333333333333333, \"#9c179e\"], [0.4444444444444444, \"#bd3786\"], [0.5555555555555556, \"#d8576b\"], [0.6666666666666666, \"#ed7953\"], [0.7777777777777778, \"#fb9f3a\"], [0.8888888888888888, \"#fdca26\"], [1.0, \"#f0f921\"]]}, \"colorway\": [\"#636efa\", \"#EF553B\", \"#00cc96\", \"#ab63fa\", \"#FFA15A\", \"#19d3f3\", \"#FF6692\", \"#B6E880\", \"#FF97FF\", \"#FECB52\"], \"font\": {\"color\": \"#2a3f5f\"}, \"geo\": {\"bgcolor\": \"white\", \"lakecolor\": \"white\", \"landcolor\": \"white\", \"showlakes\": true, \"showland\": true, \"subunitcolor\": \"#C8D4E3\"}, \"hoverlabel\": {\"align\": \"left\"}, \"hovermode\": \"closest\", \"mapbox\": {\"style\": \"light\"}, \"paper_bgcolor\": \"white\", \"plot_bgcolor\": \"white\", \"polar\": {\"angularaxis\": {\"gridcolor\": \"#EBF0F8\", \"linecolor\": \"#EBF0F8\", \"ticks\": \"\"}, \"bgcolor\": \"white\", \"radialaxis\": {\"gridcolor\": \"#EBF0F8\", \"linecolor\": \"#EBF0F8\", \"ticks\": \"\"}}, \"scene\": {\"xaxis\": {\"backgroundcolor\": \"white\", \"gridcolor\": \"#DFE8F3\", \"gridwidth\": 2, \"linecolor\": \"#EBF0F8\", \"showbackground\": true, \"ticks\": \"\", \"zerolinecolor\": \"#EBF0F8\"}, \"yaxis\": {\"backgroundcolor\": \"white\", \"gridcolor\": \"#DFE8F3\", \"gridwidth\": 2, \"linecolor\": \"#EBF0F8\", \"showbackground\": true, \"ticks\": \"\", \"zerolinecolor\": \"#EBF0F8\"}, \"zaxis\": {\"backgroundcolor\": \"white\", \"gridcolor\": \"#DFE8F3\", \"gridwidth\": 2, \"linecolor\": \"#EBF0F8\", \"showbackground\": true, \"ticks\": \"\", \"zerolinecolor\": \"#EBF0F8\"}}, \"shapedefaults\": {\"line\": {\"color\": \"#2a3f5f\"}}, \"ternary\": {\"aaxis\": {\"gridcolor\": \"#DFE8F3\", \"linecolor\": \"#A2B1C6\", \"ticks\": \"\"}, \"baxis\": {\"gridcolor\": \"#DFE8F3\", \"linecolor\": \"#A2B1C6\", \"ticks\": \"\"}, \"bgcolor\": \"white\", \"caxis\": {\"gridcolor\": \"#DFE8F3\", \"linecolor\": \"#A2B1C6\", \"ticks\": \"\"}}, \"title\": {\"x\": 0.05}, \"xaxis\": {\"automargin\": true, \"gridcolor\": \"#EBF0F8\", \"linecolor\": \"#EBF0F8\", \"ticks\": \"\", \"title\": {\"standoff\": 15}, \"zerolinecolor\": \"#EBF0F8\", \"zerolinewidth\": 2}, \"yaxis\": {\"automargin\": true, \"gridcolor\": \"#EBF0F8\", \"linecolor\": \"#EBF0F8\", \"ticks\": \"\", \"title\": {\"standoff\": 15}, \"zerolinecolor\": \"#EBF0F8\", \"zerolinewidth\": 2}}}, \"title\": {\"text\": \"Sum of Two points\"}, \"xaxis\": {\"anchor\": \"y\", \"categoryarray\": [\"Por\", \"Okc\", \"Mia\", \"Bro\", \"Mil\", \"Tor\", \"Orl\", \"Dal\", \"Den\", \"Lac\", \"Uta\", \"Ind\", \"Bos\", \"Phi\", \"Hou\", \"Lal\"], \"categoryorder\": \"array\", \"domain\": [0.0, 1.0], \"title\": {\"text\": \"TEAM\"}}, \"yaxis\": {\"anchor\": \"x\", \"domain\": [0.0, 1.0], \"title\": {\"text\": \"sum of two_pa\"}}},                        {\"responsive\": true}                    ).then(function(){\n",
              "                            \n",
              "var gd = document.getElementById('38694bc7-0e6f-45c9-8ad2-510fdf361ef0');\n",
              "var x = new MutationObserver(function (mutations, observer) {{\n",
              "        var display = window.getComputedStyle(gd).display;\n",
              "        if (!display || display === 'none') {{\n",
              "            console.log([gd, 'removed!']);\n",
              "            Plotly.purge(gd);\n",
              "            observer.disconnect();\n",
              "        }}\n",
              "}});\n",
              "\n",
              "// Listen for the removal of the full notebook cells\n",
              "var notebookContainer = gd.closest('#notebook-container');\n",
              "if (notebookContainer) {{\n",
              "    x.observe(notebookContainer, {childList: true});\n",
              "}}\n",
              "\n",
              "// Listen for the clearing of the current output cell\n",
              "var outputEl = gd.closest('.output');\n",
              "if (outputEl) {{\n",
              "    x.observe(outputEl, {childList: true});\n",
              "}}\n",
              "\n",
              "                        })                };                            </script>        </div>\n",
              "</body>\n",
              "</html>"
            ]
          },
          "metadata": {
            "tags": []
          }
        }
      ]
    },
    {
      "cell_type": "code",
      "metadata": {
        "id": "vMxrd8OVJ8pj",
        "colab": {
          "base_uri": "https://localhost:8080/",
          "height": 542
        },
        "outputId": "4bdc7aba-1e27-4474-ecc1-95416c608d41"
      },
      "source": [
        "px.histogram(nba_20_copy, x = 'TEAM', y='three_pa', color=\"TEAM\", title = 'Sum of Three points', template='plotly_white')"
      ],
      "execution_count": null,
      "outputs": [
        {
          "output_type": "display_data",
          "data": {
            "text/html": [
              "<html>\n",
              "<head><meta charset=\"utf-8\" /></head>\n",
              "<body>\n",
              "    <div>            <script src=\"https://cdnjs.cloudflare.com/ajax/libs/mathjax/2.7.5/MathJax.js?config=TeX-AMS-MML_SVG\"></script><script type=\"text/javascript\">if (window.MathJax) {MathJax.Hub.Config({SVG: {font: \"STIX-Web\"}});}</script>                <script type=\"text/javascript\">window.PlotlyConfig = {MathJaxConfig: 'local'};</script>\n",
              "        <script src=\"https://cdn.plot.ly/plotly-latest.min.js\"></script>                <div id=\"fab4f226-2368-4cfd-b0e6-72da8fccc3cc\" class=\"plotly-graph-div\" style=\"height:525px; width:100%;\"></div>            <script type=\"text/javascript\">                                    window.PLOTLYENV=window.PLOTLYENV || {};                                    if (document.getElementById(\"fab4f226-2368-4cfd-b0e6-72da8fccc3cc\")) {                    Plotly.newPlot(                        \"fab4f226-2368-4cfd-b0e6-72da8fccc3cc\",                        [{\"alignmentgroup\": \"True\", \"bingroup\": \"x\", \"histfunc\": \"sum\", \"hovertemplate\": \"TEAM=%{x}<br>sum of three_pa=%{y}<extra></extra>\", \"legendgroup\": \"Por\", \"marker\": {\"color\": \"#636efa\"}, \"name\": \"Por\", \"offsetgroup\": \"Por\", \"orientation\": \"v\", \"showlegend\": true, \"type\": \"histogram\", \"x\": [\"Por\", \"Por\", \"Por\", \"Por\", \"Por\", \"Por\", \"Por\", \"Por\", \"Por\", \"Por\", \"Por\"], \"xaxis\": \"x\", \"y\": [4, 19, 5, 7, 0, 33, 35, 11, 14, 24, 1], \"yaxis\": \"y\"}, {\"alignmentgroup\": \"True\", \"bingroup\": \"x\", \"histfunc\": \"sum\", \"hovertemplate\": \"TEAM=%{x}<br>sum of three_pa=%{y}<extra></extra>\", \"legendgroup\": \"Okc\", \"marker\": {\"color\": \"#EF553B\"}, \"name\": \"Okc\", \"offsetgroup\": \"Okc\", \"orientation\": \"v\", \"showlegend\": true, \"type\": \"histogram\", \"x\": [\"Okc\", \"Okc\", \"Okc\", \"Okc\", \"Okc\", \"Okc\", \"Okc\", \"Okc\", \"Okc\", \"Okc\", \"Okc\", \"Okc\", \"Okc\", \"Okc\"], \"xaxis\": \"x\", \"y\": [1, 22, 0, 5, 50, 10, 37, 35, 1, 5, 1, 43, 1, 45], \"yaxis\": \"y\"}, {\"alignmentgroup\": \"True\", \"bingroup\": \"x\", \"histfunc\": \"sum\", \"hovertemplate\": \"TEAM=%{x}<br>sum of three_pa=%{y}<extra></extra>\", \"legendgroup\": \"Mia\", \"marker\": {\"color\": \"#00cc96\"}, \"name\": \"Mia\", \"offsetgroup\": \"Mia\", \"orientation\": \"v\", \"showlegend\": true, \"type\": \"histogram\", \"x\": [\"Mia\", \"Mia\", \"Mia\", \"Mia\", \"Mia\", \"Mia\", \"Mia\", \"Mia\", \"Mia\", \"Mia\", \"Mia\", \"Mia\", \"Mia\"], \"xaxis\": \"x\", \"y\": [1, 43, 161, 107, 128, 6, 39, 9, 4, 43, 49, 156, 0], \"yaxis\": \"y\"}, {\"alignmentgroup\": \"True\", \"bingroup\": \"x\", \"histfunc\": \"sum\", \"hovertemplate\": \"TEAM=%{x}<br>sum of three_pa=%{y}<extra></extra>\", \"legendgroup\": \"Bro\", \"marker\": {\"color\": \"#ab63fa\"}, \"name\": \"Bro\", \"offsetgroup\": \"Bro\", \"orientation\": \"v\", \"showlegend\": true, \"type\": \"histogram\", \"x\": [\"Bro\", \"Bro\", \"Bro\", \"Bro\", \"Bro\", \"Bro\", \"Bro\", \"Bro\", \"Bro\", \"Bro\", \"Bro\", \"Bro\", \"Bro\"], \"xaxis\": \"x\", \"y\": [0, 11, 16, 0, 12, 28, 8, 21, 39, 5, 6, 36, 2], \"yaxis\": \"y\"}, {\"alignmentgroup\": \"True\", \"bingroup\": \"x\", \"histfunc\": \"sum\", \"hovertemplate\": \"TEAM=%{x}<br>sum of three_pa=%{y}<extra></extra>\", \"legendgroup\": \"Mil\", \"marker\": {\"color\": \"#FFA15A\"}, \"name\": \"Mil\", \"offsetgroup\": \"Mil\", \"orientation\": \"v\", \"showlegend\": true, \"type\": \"histogram\", \"x\": [\"Mil\", \"Mil\", \"Mil\", \"Mil\", \"Mil\", \"Mil\", \"Mil\", \"Mil\", \"Mil\", \"Mil\", \"Mil\", \"Mil\", \"Mil\", \"Mil\"], \"xaxis\": \"x\", \"y\": [40, 32, 1, 23, 21, 28, 5, 37, 53, 0, 0, 43, 65, 23], \"yaxis\": \"y\"}, {\"alignmentgroup\": \"True\", \"bingroup\": \"x\", \"histfunc\": \"sum\", \"hovertemplate\": \"TEAM=%{x}<br>sum of three_pa=%{y}<extra></extra>\", \"legendgroup\": \"Tor\", \"marker\": {\"color\": \"#19d3f3\"}, \"name\": \"Tor\", \"offsetgroup\": \"Tor\", \"orientation\": \"v\", \"showlegend\": true, \"type\": \"histogram\", \"x\": [\"Tor\", \"Tor\", \"Tor\", \"Tor\", \"Tor\", \"Tor\", \"Tor\", \"Tor\", \"Tor\", \"Tor\", \"Tor\", \"Tor\", \"Tor\", \"Tor\"], \"xaxis\": \"x\", \"y\": [41, 5, 19, 27, 1, 45, 5, 72, 1, 52, 53, 12, 110, 0], \"yaxis\": \"y\"}, {\"alignmentgroup\": \"True\", \"bingroup\": \"x\", \"histfunc\": \"sum\", \"hovertemplate\": \"TEAM=%{x}<br>sum of three_pa=%{y}<extra></extra>\", \"legendgroup\": \"Orl\", \"marker\": {\"color\": \"#FF6692\"}, \"name\": \"Orl\", \"offsetgroup\": \"Orl\", \"orientation\": \"v\", \"showlegend\": true, \"type\": \"histogram\", \"x\": [\"Orl\", \"Orl\", \"Orl\", \"Orl\", \"Orl\", \"Orl\", \"Orl\", \"Orl\", \"Orl\", \"Orl\", \"Orl\"], \"xaxis\": \"x\", \"y\": [18, 0, 32, 16, 35, 16, 7, 1, 1, 30, 44], \"yaxis\": \"y\"}, {\"alignmentgroup\": \"True\", \"bingroup\": \"x\", \"histfunc\": \"sum\", \"hovertemplate\": \"TEAM=%{x}<br>sum of three_pa=%{y}<extra></extra>\", \"legendgroup\": \"Dal\", \"marker\": {\"color\": \"#B6E880\"}, \"name\": \"Dal\", \"offsetgroup\": \"Dal\", \"orientation\": \"v\", \"showlegend\": true, \"type\": \"histogram\", \"x\": [\"Dal\", \"Dal\", \"Dal\", \"Dal\", \"Dal\", \"Dal\", \"Dal\", \"Dal\", \"Dal\", \"Dal\", \"Dal\", \"Dal\", \"Dal\", \"Dal\"], \"xaxis\": \"x\", \"y\": [0, 17, 0, 21, 44, 30, 54, 3, 9, 26, 1, 17, 1, 2], \"yaxis\": \"y\"}, {\"alignmentgroup\": \"True\", \"bingroup\": \"x\", \"histfunc\": \"sum\", \"hovertemplate\": \"TEAM=%{x}<br>sum of three_pa=%{y}<extra></extra>\", \"legendgroup\": \"Den\", \"marker\": {\"color\": \"#FF97FF\"}, \"name\": \"Den\", \"offsetgroup\": \"Den\", \"orientation\": \"v\", \"showlegend\": true, \"type\": \"histogram\", \"x\": [\"Den\", \"Den\", \"Den\", \"Den\", \"Den\", \"Den\", \"Den\", \"Den\", \"Den\", \"Den\", \"Den\", \"Den\", \"Den\", \"Den\", \"Den\"], \"xaxis\": \"x\", \"y\": [0, 3, 0, 42, 6, 8, 95, 52, 98, 44, 40, 137, 1, 89, 0], \"yaxis\": \"y\"}, {\"alignmentgroup\": \"True\", \"bingroup\": \"x\", \"histfunc\": \"sum\", \"hovertemplate\": \"TEAM=%{x}<br>sum of three_pa=%{y}<extra></extra>\", \"legendgroup\": \"Lac\", \"marker\": {\"color\": \"#FECB52\"}, \"name\": \"Lac\", \"offsetgroup\": \"Lac\", \"orientation\": \"v\", \"showlegend\": true, \"type\": \"histogram\", \"x\": [\"Lac\", \"Lac\", \"Lac\", \"Lac\", \"Lac\", \"Lac\", \"Lac\", \"Lac\", \"Lac\", \"Lac\", \"Lac\", \"Lac\", \"Lac\", \"Lac\", \"Lac\"], \"xaxis\": \"x\", \"y\": [22, 1, 111, 23, 5, 32, 73, 2, 3, 59, 0, 3, 42, 51, 0], \"yaxis\": \"y\"}, {\"alignmentgroup\": \"True\", \"bingroup\": \"x\", \"histfunc\": \"sum\", \"hovertemplate\": \"TEAM=%{x}<br>sum of three_pa=%{y}<extra></extra>\", \"legendgroup\": \"Uta\", \"marker\": {\"color\": \"#636efa\"}, \"name\": \"Uta\", \"offsetgroup\": \"Uta\", \"orientation\": \"v\", \"showlegend\": true, \"type\": \"histogram\", \"x\": [\"Uta\", \"Uta\", \"Uta\", \"Uta\", \"Uta\", \"Uta\", \"Uta\", \"Uta\", \"Uta\", \"Uta\", \"Uta\", \"Uta\", \"Uta\", \"Uta\"], \"xaxis\": \"x\", \"y\": [0, 3, 49, 34, 0, 40, 64, 10, 3, 29, 22, 4, 3, 0], \"yaxis\": \"y\"}, {\"alignmentgroup\": \"True\", \"bingroup\": \"x\", \"histfunc\": \"sum\", \"hovertemplate\": \"TEAM=%{x}<br>sum of three_pa=%{y}<extra></extra>\", \"legendgroup\": \"Ind\", \"marker\": {\"color\": \"#EF553B\"}, \"name\": \"Ind\", \"offsetgroup\": \"Ind\", \"orientation\": \"v\", \"showlegend\": true, \"type\": \"histogram\", \"x\": [\"Ind\", \"Ind\", \"Ind\", \"Ind\", \"Ind\", \"Ind\", \"Ind\", \"Ind\", \"Ind\", \"Ind\", \"Ind\"], \"xaxis\": \"x\", \"y\": [24, 9, 16, 0, 0, 10, 33, 0, 3, 14, 19], \"yaxis\": \"y\"}, {\"alignmentgroup\": \"True\", \"bingroup\": \"x\", \"histfunc\": \"sum\", \"hovertemplate\": \"TEAM=%{x}<br>sum of three_pa=%{y}<extra></extra>\", \"legendgroup\": \"Bos\", \"marker\": {\"color\": \"#00cc96\"}, \"name\": \"Bos\", \"offsetgroup\": \"Bos\", \"orientation\": \"v\", \"showlegend\": true, \"type\": \"histogram\", \"x\": [\"Bos\", \"Bos\", \"Bos\", \"Bos\", \"Bos\", \"Bos\", \"Bos\", \"Bos\", \"Bos\", \"Bos\", \"Bos\", \"Bos\", \"Bos\", \"Bos\", \"Bos\", \"Bos\", \"Bos\"], \"xaxis\": \"x\", \"y\": [120, 0, 0, 2, 24, 1, 2, 23, 0, 123, 126, 26, 126, 27, 1, 1, 17], \"yaxis\": \"y\"}, {\"alignmentgroup\": \"True\", \"bingroup\": \"x\", \"histfunc\": \"sum\", \"hovertemplate\": \"TEAM=%{x}<br>sum of three_pa=%{y}<extra></extra>\", \"legendgroup\": \"Phi\", \"marker\": {\"color\": \"#ab63fa\"}, \"name\": \"Phi\", \"offsetgroup\": \"Phi\", \"orientation\": \"v\", \"showlegend\": true, \"type\": \"histogram\", \"x\": [\"Phi\", \"Phi\", \"Phi\", \"Phi\", \"Phi\", \"Phi\", \"Phi\", \"Phi\", \"Phi\", \"Phi\", \"Phi\", \"Phi\"], \"xaxis\": \"x\", \"y\": [16, 16, 15, 4, 6, 25, 5, 0, 0, 28, 2, 4], \"yaxis\": \"y\"}, {\"alignmentgroup\": \"True\", \"bingroup\": \"x\", \"histfunc\": \"sum\", \"hovertemplate\": \"TEAM=%{x}<br>sum of three_pa=%{y}<extra></extra>\", \"legendgroup\": \"Hou\", \"marker\": {\"color\": \"#FFA15A\"}, \"name\": \"Hou\", \"offsetgroup\": \"Hou\", \"orientation\": \"v\", \"showlegend\": true, \"type\": \"histogram\", \"x\": [\"Hou\", \"Hou\", \"Hou\", \"Hou\", \"Hou\", \"Hou\", \"Hou\", \"Hou\", \"Hou\", \"Hou\", \"Hou\", \"Hou\", \"Hou\"], \"xaxis\": \"x\", \"y\": [1, 0, 5, 68, 2, 90, 54, 117, 53, 36, 35, 67, 33], \"yaxis\": \"y\"}, {\"alignmentgroup\": \"True\", \"bingroup\": \"x\", \"histfunc\": \"sum\", \"hovertemplate\": \"TEAM=%{x}<br>sum of three_pa=%{y}<extra></extra>\", \"legendgroup\": \"Lal\", \"marker\": {\"color\": \"#19d3f3\"}, \"name\": \"Lal\", \"offsetgroup\": \"Lal\", \"orientation\": \"v\", \"showlegend\": true, \"type\": \"histogram\", \"x\": [\"Lal\", \"Lal\", \"Lal\", \"Lal\", \"Lal\", \"Lal\", \"Lal\", \"Lal\", \"Lal\", \"Lal\", \"Lal\", \"Lal\", \"Lal\", \"Lal\", \"Lal\"], \"xaxis\": \"x\", \"y\": [119, 61, 4, 60, 3, 115, 5, 2, 119, 83, 2, 69, 50, 22, 4], \"yaxis\": \"y\"}],                        {\"barmode\": \"relative\", \"legend\": {\"title\": {\"text\": \"TEAM\"}, \"tracegroupgap\": 0}, \"template\": {\"data\": {\"bar\": [{\"error_x\": {\"color\": \"#2a3f5f\"}, \"error_y\": {\"color\": \"#2a3f5f\"}, \"marker\": {\"line\": {\"color\": \"white\", \"width\": 0.5}}, \"type\": \"bar\"}], \"barpolar\": [{\"marker\": {\"line\": {\"color\": \"white\", \"width\": 0.5}}, \"type\": \"barpolar\"}], \"carpet\": [{\"aaxis\": {\"endlinecolor\": \"#2a3f5f\", \"gridcolor\": \"#C8D4E3\", \"linecolor\": \"#C8D4E3\", \"minorgridcolor\": \"#C8D4E3\", \"startlinecolor\": \"#2a3f5f\"}, \"baxis\": {\"endlinecolor\": \"#2a3f5f\", \"gridcolor\": \"#C8D4E3\", \"linecolor\": \"#C8D4E3\", \"minorgridcolor\": \"#C8D4E3\", \"startlinecolor\": \"#2a3f5f\"}, \"type\": \"carpet\"}], \"choropleth\": [{\"colorbar\": {\"outlinewidth\": 0, \"ticks\": \"\"}, \"type\": \"choropleth\"}], \"contour\": [{\"colorbar\": {\"outlinewidth\": 0, \"ticks\": \"\"}, \"colorscale\": [[0.0, \"#0d0887\"], [0.1111111111111111, \"#46039f\"], [0.2222222222222222, \"#7201a8\"], [0.3333333333333333, \"#9c179e\"], [0.4444444444444444, \"#bd3786\"], [0.5555555555555556, \"#d8576b\"], [0.6666666666666666, \"#ed7953\"], [0.7777777777777778, \"#fb9f3a\"], [0.8888888888888888, \"#fdca26\"], [1.0, \"#f0f921\"]], \"type\": \"contour\"}], \"contourcarpet\": [{\"colorbar\": {\"outlinewidth\": 0, \"ticks\": \"\"}, \"type\": \"contourcarpet\"}], \"heatmap\": [{\"colorbar\": {\"outlinewidth\": 0, \"ticks\": \"\"}, \"colorscale\": [[0.0, \"#0d0887\"], [0.1111111111111111, \"#46039f\"], [0.2222222222222222, \"#7201a8\"], [0.3333333333333333, \"#9c179e\"], [0.4444444444444444, \"#bd3786\"], [0.5555555555555556, \"#d8576b\"], [0.6666666666666666, \"#ed7953\"], [0.7777777777777778, \"#fb9f3a\"], [0.8888888888888888, \"#fdca26\"], [1.0, \"#f0f921\"]], \"type\": \"heatmap\"}], \"heatmapgl\": [{\"colorbar\": {\"outlinewidth\": 0, \"ticks\": \"\"}, \"colorscale\": [[0.0, \"#0d0887\"], [0.1111111111111111, \"#46039f\"], [0.2222222222222222, \"#7201a8\"], [0.3333333333333333, \"#9c179e\"], [0.4444444444444444, \"#bd3786\"], [0.5555555555555556, \"#d8576b\"], [0.6666666666666666, \"#ed7953\"], [0.7777777777777778, \"#fb9f3a\"], [0.8888888888888888, \"#fdca26\"], [1.0, \"#f0f921\"]], \"type\": \"heatmapgl\"}], \"histogram\": [{\"marker\": {\"colorbar\": {\"outlinewidth\": 0, \"ticks\": \"\"}}, \"type\": \"histogram\"}], \"histogram2d\": [{\"colorbar\": {\"outlinewidth\": 0, \"ticks\": \"\"}, \"colorscale\": [[0.0, \"#0d0887\"], [0.1111111111111111, \"#46039f\"], [0.2222222222222222, \"#7201a8\"], [0.3333333333333333, \"#9c179e\"], [0.4444444444444444, \"#bd3786\"], [0.5555555555555556, \"#d8576b\"], [0.6666666666666666, \"#ed7953\"], [0.7777777777777778, \"#fb9f3a\"], [0.8888888888888888, \"#fdca26\"], [1.0, \"#f0f921\"]], \"type\": \"histogram2d\"}], \"histogram2dcontour\": [{\"colorbar\": {\"outlinewidth\": 0, \"ticks\": \"\"}, \"colorscale\": [[0.0, \"#0d0887\"], [0.1111111111111111, \"#46039f\"], [0.2222222222222222, \"#7201a8\"], [0.3333333333333333, \"#9c179e\"], [0.4444444444444444, \"#bd3786\"], [0.5555555555555556, \"#d8576b\"], [0.6666666666666666, \"#ed7953\"], [0.7777777777777778, \"#fb9f3a\"], [0.8888888888888888, \"#fdca26\"], [1.0, \"#f0f921\"]], \"type\": \"histogram2dcontour\"}], \"mesh3d\": [{\"colorbar\": {\"outlinewidth\": 0, \"ticks\": \"\"}, \"type\": \"mesh3d\"}], \"parcoords\": [{\"line\": {\"colorbar\": {\"outlinewidth\": 0, \"ticks\": \"\"}}, \"type\": \"parcoords\"}], \"pie\": [{\"automargin\": true, \"type\": \"pie\"}], \"scatter\": [{\"marker\": {\"colorbar\": {\"outlinewidth\": 0, \"ticks\": \"\"}}, \"type\": \"scatter\"}], \"scatter3d\": [{\"line\": {\"colorbar\": {\"outlinewidth\": 0, \"ticks\": \"\"}}, \"marker\": {\"colorbar\": {\"outlinewidth\": 0, \"ticks\": \"\"}}, \"type\": \"scatter3d\"}], \"scattercarpet\": [{\"marker\": {\"colorbar\": {\"outlinewidth\": 0, \"ticks\": \"\"}}, \"type\": \"scattercarpet\"}], \"scattergeo\": [{\"marker\": {\"colorbar\": {\"outlinewidth\": 0, \"ticks\": \"\"}}, \"type\": \"scattergeo\"}], \"scattergl\": [{\"marker\": {\"colorbar\": {\"outlinewidth\": 0, \"ticks\": \"\"}}, \"type\": \"scattergl\"}], \"scattermapbox\": [{\"marker\": {\"colorbar\": {\"outlinewidth\": 0, \"ticks\": \"\"}}, \"type\": \"scattermapbox\"}], \"scatterpolar\": [{\"marker\": {\"colorbar\": {\"outlinewidth\": 0, \"ticks\": \"\"}}, \"type\": \"scatterpolar\"}], \"scatterpolargl\": [{\"marker\": {\"colorbar\": {\"outlinewidth\": 0, \"ticks\": \"\"}}, \"type\": \"scatterpolargl\"}], \"scatterternary\": [{\"marker\": {\"colorbar\": {\"outlinewidth\": 0, \"ticks\": \"\"}}, \"type\": \"scatterternary\"}], \"surface\": [{\"colorbar\": {\"outlinewidth\": 0, \"ticks\": \"\"}, \"colorscale\": [[0.0, \"#0d0887\"], [0.1111111111111111, \"#46039f\"], [0.2222222222222222, \"#7201a8\"], [0.3333333333333333, \"#9c179e\"], [0.4444444444444444, \"#bd3786\"], [0.5555555555555556, \"#d8576b\"], [0.6666666666666666, \"#ed7953\"], [0.7777777777777778, \"#fb9f3a\"], [0.8888888888888888, \"#fdca26\"], [1.0, \"#f0f921\"]], \"type\": \"surface\"}], \"table\": [{\"cells\": {\"fill\": {\"color\": \"#EBF0F8\"}, \"line\": {\"color\": \"white\"}}, \"header\": {\"fill\": {\"color\": \"#C8D4E3\"}, \"line\": {\"color\": \"white\"}}, \"type\": \"table\"}]}, \"layout\": {\"annotationdefaults\": {\"arrowcolor\": \"#2a3f5f\", \"arrowhead\": 0, \"arrowwidth\": 1}, \"autotypenumbers\": \"strict\", \"coloraxis\": {\"colorbar\": {\"outlinewidth\": 0, \"ticks\": \"\"}}, \"colorscale\": {\"diverging\": [[0, \"#8e0152\"], [0.1, \"#c51b7d\"], [0.2, \"#de77ae\"], [0.3, \"#f1b6da\"], [0.4, \"#fde0ef\"], [0.5, \"#f7f7f7\"], [0.6, \"#e6f5d0\"], [0.7, \"#b8e186\"], [0.8, \"#7fbc41\"], [0.9, \"#4d9221\"], [1, \"#276419\"]], \"sequential\": [[0.0, \"#0d0887\"], [0.1111111111111111, \"#46039f\"], [0.2222222222222222, \"#7201a8\"], [0.3333333333333333, \"#9c179e\"], [0.4444444444444444, \"#bd3786\"], [0.5555555555555556, \"#d8576b\"], [0.6666666666666666, \"#ed7953\"], [0.7777777777777778, \"#fb9f3a\"], [0.8888888888888888, \"#fdca26\"], [1.0, \"#f0f921\"]], \"sequentialminus\": [[0.0, \"#0d0887\"], [0.1111111111111111, \"#46039f\"], [0.2222222222222222, \"#7201a8\"], [0.3333333333333333, \"#9c179e\"], [0.4444444444444444, \"#bd3786\"], [0.5555555555555556, \"#d8576b\"], [0.6666666666666666, \"#ed7953\"], [0.7777777777777778, \"#fb9f3a\"], [0.8888888888888888, \"#fdca26\"], [1.0, \"#f0f921\"]]}, \"colorway\": [\"#636efa\", \"#EF553B\", \"#00cc96\", \"#ab63fa\", \"#FFA15A\", \"#19d3f3\", \"#FF6692\", \"#B6E880\", \"#FF97FF\", \"#FECB52\"], \"font\": {\"color\": \"#2a3f5f\"}, \"geo\": {\"bgcolor\": \"white\", \"lakecolor\": \"white\", \"landcolor\": \"white\", \"showlakes\": true, \"showland\": true, \"subunitcolor\": \"#C8D4E3\"}, \"hoverlabel\": {\"align\": \"left\"}, \"hovermode\": \"closest\", \"mapbox\": {\"style\": \"light\"}, \"paper_bgcolor\": \"white\", \"plot_bgcolor\": \"white\", \"polar\": {\"angularaxis\": {\"gridcolor\": \"#EBF0F8\", \"linecolor\": \"#EBF0F8\", \"ticks\": \"\"}, \"bgcolor\": \"white\", \"radialaxis\": {\"gridcolor\": \"#EBF0F8\", \"linecolor\": \"#EBF0F8\", \"ticks\": \"\"}}, \"scene\": {\"xaxis\": {\"backgroundcolor\": \"white\", \"gridcolor\": \"#DFE8F3\", \"gridwidth\": 2, \"linecolor\": \"#EBF0F8\", \"showbackground\": true, \"ticks\": \"\", \"zerolinecolor\": \"#EBF0F8\"}, \"yaxis\": {\"backgroundcolor\": \"white\", \"gridcolor\": \"#DFE8F3\", \"gridwidth\": 2, \"linecolor\": \"#EBF0F8\", \"showbackground\": true, \"ticks\": \"\", \"zerolinecolor\": \"#EBF0F8\"}, \"zaxis\": {\"backgroundcolor\": \"white\", \"gridcolor\": \"#DFE8F3\", \"gridwidth\": 2, \"linecolor\": \"#EBF0F8\", \"showbackground\": true, \"ticks\": \"\", \"zerolinecolor\": \"#EBF0F8\"}}, \"shapedefaults\": {\"line\": {\"color\": \"#2a3f5f\"}}, \"ternary\": {\"aaxis\": {\"gridcolor\": \"#DFE8F3\", \"linecolor\": \"#A2B1C6\", \"ticks\": \"\"}, \"baxis\": {\"gridcolor\": \"#DFE8F3\", \"linecolor\": \"#A2B1C6\", \"ticks\": \"\"}, \"bgcolor\": \"white\", \"caxis\": {\"gridcolor\": \"#DFE8F3\", \"linecolor\": \"#A2B1C6\", \"ticks\": \"\"}}, \"title\": {\"x\": 0.05}, \"xaxis\": {\"automargin\": true, \"gridcolor\": \"#EBF0F8\", \"linecolor\": \"#EBF0F8\", \"ticks\": \"\", \"title\": {\"standoff\": 15}, \"zerolinecolor\": \"#EBF0F8\", \"zerolinewidth\": 2}, \"yaxis\": {\"automargin\": true, \"gridcolor\": \"#EBF0F8\", \"linecolor\": \"#EBF0F8\", \"ticks\": \"\", \"title\": {\"standoff\": 15}, \"zerolinecolor\": \"#EBF0F8\", \"zerolinewidth\": 2}}}, \"title\": {\"text\": \"Sum of Three points\"}, \"xaxis\": {\"anchor\": \"y\", \"categoryarray\": [\"Por\", \"Okc\", \"Mia\", \"Bro\", \"Mil\", \"Tor\", \"Orl\", \"Dal\", \"Den\", \"Lac\", \"Uta\", \"Ind\", \"Bos\", \"Phi\", \"Hou\", \"Lal\"], \"categoryorder\": \"array\", \"domain\": [0.0, 1.0], \"title\": {\"text\": \"TEAM\"}}, \"yaxis\": {\"anchor\": \"x\", \"domain\": [0.0, 1.0], \"title\": {\"text\": \"sum of three_pa\"}}},                        {\"responsive\": true}                    ).then(function(){\n",
              "                            \n",
              "var gd = document.getElementById('fab4f226-2368-4cfd-b0e6-72da8fccc3cc');\n",
              "var x = new MutationObserver(function (mutations, observer) {{\n",
              "        var display = window.getComputedStyle(gd).display;\n",
              "        if (!display || display === 'none') {{\n",
              "            console.log([gd, 'removed!']);\n",
              "            Plotly.purge(gd);\n",
              "            observer.disconnect();\n",
              "        }}\n",
              "}});\n",
              "\n",
              "// Listen for the removal of the full notebook cells\n",
              "var notebookContainer = gd.closest('#notebook-container');\n",
              "if (notebookContainer) {{\n",
              "    x.observe(notebookContainer, {childList: true});\n",
              "}}\n",
              "\n",
              "// Listen for the clearing of the current output cell\n",
              "var outputEl = gd.closest('.output');\n",
              "if (outputEl) {{\n",
              "    x.observe(outputEl, {childList: true});\n",
              "}}\n",
              "\n",
              "                        })                };                            </script>        </div>\n",
              "</body>\n",
              "</html>"
            ]
          },
          "metadata": {
            "tags": []
          }
        }
      ]
    },
    {
      "cell_type": "markdown",
      "metadata": {
        "id": "AL4VeV7-jCnH"
      },
      "source": [
        "#Group comparision, 2pts vs.3pts side by side bar graph"
      ]
    },
    {
      "cell_type": "code",
      "metadata": {
        "id": "KsfVeNd_gw_9",
        "colab": {
          "base_uri": "https://localhost:8080/",
          "height": 542
        },
        "outputId": "d9028ac7-fc3c-4cab-f05b-c4d00dbf60ce"
      },
      "source": [
        "import plotly.graph_objects as go\r\n",
        "\r\n",
        "\r\n",
        "fig = go.Figure(data=[\r\n",
        "    go.Bar(name='Pts_2', x=nba_20_copy.TEAM, y=nba_20_copy.two_pa),\r\n",
        "    go.Bar(name='Pts_3', x=nba_20_copy.TEAM, y=nba_20_copy.three_pa)\r\n",
        "])\r\n",
        "# Change the bar mode\r\n",
        "fig.update_layout(barmode='group')\r\n",
        "fig.show()"
      ],
      "execution_count": null,
      "outputs": [
        {
          "output_type": "display_data",
          "data": {
            "text/html": [
              "<html>\n",
              "<head><meta charset=\"utf-8\" /></head>\n",
              "<body>\n",
              "    <div>            <script src=\"https://cdnjs.cloudflare.com/ajax/libs/mathjax/2.7.5/MathJax.js?config=TeX-AMS-MML_SVG\"></script><script type=\"text/javascript\">if (window.MathJax) {MathJax.Hub.Config({SVG: {font: \"STIX-Web\"}});}</script>                <script type=\"text/javascript\">window.PlotlyConfig = {MathJaxConfig: 'local'};</script>\n",
              "        <script src=\"https://cdn.plot.ly/plotly-latest.min.js\"></script>                <div id=\"082625a2-1745-4431-a03d-13bf8aea336e\" class=\"plotly-graph-div\" style=\"height:525px; width:100%;\"></div>            <script type=\"text/javascript\">                                    window.PLOTLYENV=window.PLOTLYENV || {};                                    if (document.getElementById(\"082625a2-1745-4431-a03d-13bf8aea336e\")) {                    Plotly.newPlot(                        \"082625a2-1745-4431-a03d-13bf8aea336e\",                        [{\"name\": \"Pts_2\", \"type\": \"bar\", \"x\": [\"Por\", \"Okc\", \"Mia\", \"Bro\", \"Bro\", \"Mil\", \"Por\", \"Tor\", \"Orl\", \"Dal\", \"Den\", \"Okc\", \"Lac\", \"Orl\", \"Mil\", \"Den\", \"Tor\", \"Uta\", \"Uta\", \"Ind\", \"Bos\", \"Mil\", \"Dal\", \"Phi\", \"Okc\", \"Mia\", \"Hou\", \"Lal\", \"Hou\", \"Lal\", \"Bro\", \"Orl\", \"Uta\", \"Hou\", \"Dal\", \"Lac\", \"Uta\", \"Mil\", \"Lal\", \"Den\", \"Hou\", \"Den\", \"Mia\", \"Dal\", \"Den\", \"Lal\", \"Tor\", \"Okc\", \"Mil\", \"Dal\", \"Okc\", \"Den\", \"Mia\", \"Lal\", \"Bos\", \"Phi\", \"Orl\", \"Bos\", \"Okc\", \"Dal\", \"Orl\", \"Hou\", \"Orl\", \"Por\", \"Okc\", \"Tor\", \"Lac\", \"Okc\", \"Uta\", \"Hou\", \"Den\", \"Lal\", \"Lac\", \"Bos\", \"Hou\", \"Bro\", \"Dal\", \"Hou\", \"Lac\", \"Den\", \"Bro\", \"Phi\", \"Bos\", \"Mia\", \"Por\", \"Mil\", \"Mia\", \"Por\", \"Ind\", \"Ind\", \"Tor\", \"Phi\", \"Lal\", \"Hou\", \"Lal\", \"Tor\", \"Mia\", \"Mil\", \"Uta\", \"Orl\", \"Dal\", \"Lac\", \"Lal\", \"Ind\", \"Orl\", \"Tor\", \"Bro\", \"Den\", \"Mia\", \"Bos\", \"Dal\", \"Dal\", \"Phi\", \"Mil\", \"Bro\", \"Lal\", \"Bos\", \"Orl\", \"Lac\", \"Mia\", \"Bro\", \"Por\", \"Mil\", \"Mil\", \"Tor\", \"Bro\", \"Lac\", \"Dal\", \"Bro\", \"Mil\", \"Mil\", \"Por\", \"Ind\", \"Ind\", \"Lal\", \"Lac\", \"Hou\", \"Mil\", \"Tor\", \"Den\", \"Phi\", \"Uta\", \"Uta\", \"Lac\", \"Lal\", \"Den\", \"Uta\", \"Den\", \"Bro\", \"Okc\", \"Okc\", \"Phi\", \"Uta\", \"Lac\", \"Okc\", \"Mia\", \"Por\", \"Bos\", \"Ind\", \"Mia\", \"Uta\", \"Uta\", \"Phi\", \"Lac\", \"Okc\", \"Phi\", \"Den\", \"Bos\", \"Den\", \"Dal\", \"Tor\", \"Dal\", \"Phi\", \"Hou\", \"Okc\", \"Mia\", \"Lal\", \"Orl\", \"Ind\", \"Okc\", \"Phi\", \"Lac\", \"Tor\", \"Por\", \"Bos\", \"Lal\", \"Ind\", \"Bos\", \"Bro\", \"Bos\", \"Bro\", \"Tor\", \"Phi\", \"Por\", \"Hou\", \"Uta\", \"Ind\", \"Tor\", \"Mia\", \"Den\", \"Orl\", \"Lal\", \"Bos\", \"Bos\", \"Ind\", \"Bos\", \"Tor\", \"Hou\", \"Por\", \"Bos\", \"Uta\", \"Bos\", \"Lac\", \"Mil\", \"Dal\", \"Lac\"], \"y\": [5, 51, 219, 24, 1, 121, 49, 47, 29, 1, 5, 9, 17, 14, 66, 6, 6, 9, 2, 41, 168, 0, 42, 33, 0, 252, 1, 70, 2, 52, 8, 1, 48, 0, 5, 2, 30, 12, 6, 0, 27, 36, 40, 32, 6, 299, 10, 6, 30, 84, 26, 25, 161, 1, 0, 58, 19, 1, 1, 22, 22, 2, 44, 10, 42, 37, 110, 55, 74, 86, 80, 55, 32, 0, 49, 5, 41, 111, 77, 38, 11, 46, 26, 149, 15, 39, 3, 12, 12, 5, 9, 21, 7, 32, 55, 65, 26, 4, 14, 13, 3, 16, 263, 0, 1, 6, 18, 245, 8, 41, 5, 13, 1, 10, 12, 96, 8, 0, 195, 4, 52, 31, 61, 4, 76, 20, 3, 29, 9, 0, 14, 64, 8, 5, 30, 2, 4, 115, 2, 74, 19, 93, 2, 52, 29, 93, 11, 231, 5, 1, 2, 4, 15, 0, 16, 49, 46, 5, 23, 46, 10, 2, 0, 0, 69, 0, 38, 0, 75, 23, 52, 2, 28, 26, 0, 20, 71, 34, 16, 64, 3, 17, 129, 12, 75, 4, 4, 208, 13, 91, 3, 9, 3, 21, 21, 2, 30, 80, 0, 1, 67, 8, 130, 33, 49, 0, 2, 107, 23, 30, 0, 9, 95, 24, 8, 78]}, {\"name\": \"Pts_3\", \"type\": \"bar\", \"x\": [\"Por\", \"Okc\", \"Mia\", \"Bro\", \"Bro\", \"Mil\", \"Por\", \"Tor\", \"Orl\", \"Dal\", \"Den\", \"Okc\", \"Lac\", \"Orl\", \"Mil\", \"Den\", \"Tor\", \"Uta\", \"Uta\", \"Ind\", \"Bos\", \"Mil\", \"Dal\", \"Phi\", \"Okc\", \"Mia\", \"Hou\", \"Lal\", \"Hou\", \"Lal\", \"Bro\", \"Orl\", \"Uta\", \"Hou\", \"Dal\", \"Lac\", \"Uta\", \"Mil\", \"Lal\", \"Den\", \"Hou\", \"Den\", \"Mia\", \"Dal\", \"Den\", \"Lal\", \"Tor\", \"Okc\", \"Mil\", \"Dal\", \"Okc\", \"Den\", \"Mia\", \"Lal\", \"Bos\", \"Phi\", \"Orl\", \"Bos\", \"Okc\", \"Dal\", \"Orl\", \"Hou\", \"Orl\", \"Por\", \"Okc\", \"Tor\", \"Lac\", \"Okc\", \"Uta\", \"Hou\", \"Den\", \"Lal\", \"Lac\", \"Bos\", \"Hou\", \"Bro\", \"Dal\", \"Hou\", \"Lac\", \"Den\", \"Bro\", \"Phi\", \"Bos\", \"Mia\", \"Por\", \"Mil\", \"Mia\", \"Por\", \"Ind\", \"Ind\", \"Tor\", \"Phi\", \"Lal\", \"Hou\", \"Lal\", \"Tor\", \"Mia\", \"Mil\", \"Uta\", \"Orl\", \"Dal\", \"Lac\", \"Lal\", \"Ind\", \"Orl\", \"Tor\", \"Bro\", \"Den\", \"Mia\", \"Bos\", \"Dal\", \"Dal\", \"Phi\", \"Mil\", \"Bro\", \"Lal\", \"Bos\", \"Orl\", \"Lac\", \"Mia\", \"Bro\", \"Por\", \"Mil\", \"Mil\", \"Tor\", \"Bro\", \"Lac\", \"Dal\", \"Bro\", \"Mil\", \"Mil\", \"Por\", \"Ind\", \"Ind\", \"Lal\", \"Lac\", \"Hou\", \"Mil\", \"Tor\", \"Den\", \"Phi\", \"Uta\", \"Uta\", \"Lac\", \"Lal\", \"Den\", \"Uta\", \"Den\", \"Bro\", \"Okc\", \"Okc\", \"Phi\", \"Uta\", \"Lac\", \"Okc\", \"Mia\", \"Por\", \"Bos\", \"Ind\", \"Mia\", \"Uta\", \"Uta\", \"Phi\", \"Lac\", \"Okc\", \"Phi\", \"Den\", \"Bos\", \"Den\", \"Dal\", \"Tor\", \"Dal\", \"Phi\", \"Hou\", \"Okc\", \"Mia\", \"Lal\", \"Orl\", \"Ind\", \"Okc\", \"Phi\", \"Lac\", \"Tor\", \"Por\", \"Bos\", \"Lal\", \"Ind\", \"Bos\", \"Bro\", \"Bos\", \"Bro\", \"Tor\", \"Phi\", \"Por\", \"Hou\", \"Uta\", \"Ind\", \"Tor\", \"Mia\", \"Den\", \"Orl\", \"Lal\", \"Bos\", \"Bos\", \"Ind\", \"Bos\", \"Tor\", \"Hou\", \"Por\", \"Bos\", \"Uta\", \"Bos\", \"Lac\", \"Mil\", \"Dal\", \"Lac\"], \"y\": [4, 1, 1, 0, 11, 40, 19, 41, 18, 0, 0, 22, 22, 0, 32, 3, 5, 0, 3, 24, 120, 1, 17, 16, 0, 43, 1, 119, 0, 61, 16, 32, 49, 5, 0, 1, 34, 23, 4, 0, 68, 42, 161, 21, 6, 60, 19, 5, 21, 44, 50, 8, 107, 3, 0, 16, 16, 0, 10, 30, 35, 2, 16, 5, 37, 27, 111, 35, 0, 90, 95, 115, 23, 2, 54, 0, 54, 117, 5, 52, 12, 15, 24, 128, 7, 28, 6, 0, 9, 16, 1, 4, 5, 53, 2, 45, 39, 5, 40, 7, 3, 32, 119, 0, 1, 5, 28, 98, 9, 1, 9, 26, 6, 37, 8, 83, 2, 1, 73, 4, 21, 33, 53, 0, 72, 39, 2, 1, 5, 0, 43, 35, 0, 10, 2, 3, 36, 65, 1, 44, 25, 64, 10, 59, 69, 40, 3, 137, 6, 1, 5, 5, 29, 0, 1, 43, 11, 23, 33, 49, 22, 4, 0, 3, 43, 0, 1, 0, 89, 17, 52, 1, 28, 35, 1, 156, 50, 30, 0, 45, 2, 42, 53, 14, 123, 22, 3, 126, 36, 26, 2, 12, 4, 24, 67, 3, 14, 110, 0, 0, 44, 4, 126, 27, 19, 1, 0, 33, 1, 1, 0, 17, 51, 23, 2, 0]}],                        {\"barmode\": \"group\", \"template\": {\"data\": {\"bar\": [{\"error_x\": {\"color\": \"#2a3f5f\"}, \"error_y\": {\"color\": \"#2a3f5f\"}, \"marker\": {\"line\": {\"color\": \"#E5ECF6\", \"width\": 0.5}}, \"type\": \"bar\"}], \"barpolar\": [{\"marker\": {\"line\": {\"color\": \"#E5ECF6\", \"width\": 0.5}}, \"type\": \"barpolar\"}], \"carpet\": [{\"aaxis\": {\"endlinecolor\": \"#2a3f5f\", \"gridcolor\": \"white\", \"linecolor\": \"white\", \"minorgridcolor\": \"white\", \"startlinecolor\": \"#2a3f5f\"}, \"baxis\": {\"endlinecolor\": \"#2a3f5f\", \"gridcolor\": \"white\", \"linecolor\": \"white\", \"minorgridcolor\": \"white\", \"startlinecolor\": \"#2a3f5f\"}, \"type\": \"carpet\"}], \"choropleth\": [{\"colorbar\": {\"outlinewidth\": 0, \"ticks\": \"\"}, \"type\": \"choropleth\"}], \"contour\": [{\"colorbar\": {\"outlinewidth\": 0, \"ticks\": \"\"}, \"colorscale\": [[0.0, \"#0d0887\"], [0.1111111111111111, \"#46039f\"], [0.2222222222222222, \"#7201a8\"], [0.3333333333333333, \"#9c179e\"], [0.4444444444444444, \"#bd3786\"], [0.5555555555555556, \"#d8576b\"], [0.6666666666666666, \"#ed7953\"], [0.7777777777777778, \"#fb9f3a\"], [0.8888888888888888, \"#fdca26\"], [1.0, \"#f0f921\"]], \"type\": \"contour\"}], \"contourcarpet\": [{\"colorbar\": {\"outlinewidth\": 0, \"ticks\": \"\"}, \"type\": \"contourcarpet\"}], \"heatmap\": [{\"colorbar\": {\"outlinewidth\": 0, \"ticks\": \"\"}, \"colorscale\": [[0.0, \"#0d0887\"], [0.1111111111111111, \"#46039f\"], [0.2222222222222222, \"#7201a8\"], [0.3333333333333333, \"#9c179e\"], [0.4444444444444444, \"#bd3786\"], [0.5555555555555556, \"#d8576b\"], [0.6666666666666666, \"#ed7953\"], [0.7777777777777778, \"#fb9f3a\"], [0.8888888888888888, \"#fdca26\"], [1.0, \"#f0f921\"]], \"type\": \"heatmap\"}], \"heatmapgl\": [{\"colorbar\": {\"outlinewidth\": 0, \"ticks\": \"\"}, \"colorscale\": [[0.0, \"#0d0887\"], [0.1111111111111111, \"#46039f\"], [0.2222222222222222, \"#7201a8\"], [0.3333333333333333, \"#9c179e\"], [0.4444444444444444, \"#bd3786\"], [0.5555555555555556, \"#d8576b\"], [0.6666666666666666, \"#ed7953\"], [0.7777777777777778, \"#fb9f3a\"], [0.8888888888888888, \"#fdca26\"], [1.0, \"#f0f921\"]], \"type\": \"heatmapgl\"}], \"histogram\": [{\"marker\": {\"colorbar\": {\"outlinewidth\": 0, \"ticks\": \"\"}}, \"type\": \"histogram\"}], \"histogram2d\": [{\"colorbar\": {\"outlinewidth\": 0, \"ticks\": \"\"}, \"colorscale\": [[0.0, \"#0d0887\"], [0.1111111111111111, \"#46039f\"], [0.2222222222222222, \"#7201a8\"], [0.3333333333333333, \"#9c179e\"], [0.4444444444444444, \"#bd3786\"], [0.5555555555555556, \"#d8576b\"], [0.6666666666666666, \"#ed7953\"], [0.7777777777777778, \"#fb9f3a\"], [0.8888888888888888, \"#fdca26\"], [1.0, \"#f0f921\"]], \"type\": \"histogram2d\"}], \"histogram2dcontour\": [{\"colorbar\": {\"outlinewidth\": 0, \"ticks\": \"\"}, \"colorscale\": [[0.0, \"#0d0887\"], [0.1111111111111111, \"#46039f\"], [0.2222222222222222, \"#7201a8\"], [0.3333333333333333, \"#9c179e\"], [0.4444444444444444, \"#bd3786\"], [0.5555555555555556, \"#d8576b\"], [0.6666666666666666, \"#ed7953\"], [0.7777777777777778, \"#fb9f3a\"], [0.8888888888888888, \"#fdca26\"], [1.0, \"#f0f921\"]], \"type\": \"histogram2dcontour\"}], \"mesh3d\": [{\"colorbar\": {\"outlinewidth\": 0, \"ticks\": \"\"}, \"type\": \"mesh3d\"}], \"parcoords\": [{\"line\": {\"colorbar\": {\"outlinewidth\": 0, \"ticks\": \"\"}}, \"type\": \"parcoords\"}], \"pie\": [{\"automargin\": true, \"type\": \"pie\"}], \"scatter\": [{\"marker\": {\"colorbar\": {\"outlinewidth\": 0, \"ticks\": \"\"}}, \"type\": \"scatter\"}], \"scatter3d\": [{\"line\": {\"colorbar\": {\"outlinewidth\": 0, \"ticks\": \"\"}}, \"marker\": {\"colorbar\": {\"outlinewidth\": 0, \"ticks\": \"\"}}, \"type\": \"scatter3d\"}], \"scattercarpet\": [{\"marker\": {\"colorbar\": {\"outlinewidth\": 0, \"ticks\": \"\"}}, \"type\": \"scattercarpet\"}], \"scattergeo\": [{\"marker\": {\"colorbar\": {\"outlinewidth\": 0, \"ticks\": \"\"}}, \"type\": \"scattergeo\"}], \"scattergl\": [{\"marker\": {\"colorbar\": {\"outlinewidth\": 0, \"ticks\": \"\"}}, \"type\": \"scattergl\"}], \"scattermapbox\": [{\"marker\": {\"colorbar\": {\"outlinewidth\": 0, \"ticks\": \"\"}}, \"type\": \"scattermapbox\"}], \"scatterpolar\": [{\"marker\": {\"colorbar\": {\"outlinewidth\": 0, \"ticks\": \"\"}}, \"type\": \"scatterpolar\"}], \"scatterpolargl\": [{\"marker\": {\"colorbar\": {\"outlinewidth\": 0, \"ticks\": \"\"}}, \"type\": \"scatterpolargl\"}], \"scatterternary\": [{\"marker\": {\"colorbar\": {\"outlinewidth\": 0, \"ticks\": \"\"}}, \"type\": \"scatterternary\"}], \"surface\": [{\"colorbar\": {\"outlinewidth\": 0, \"ticks\": \"\"}, \"colorscale\": [[0.0, \"#0d0887\"], [0.1111111111111111, \"#46039f\"], [0.2222222222222222, \"#7201a8\"], [0.3333333333333333, \"#9c179e\"], [0.4444444444444444, \"#bd3786\"], [0.5555555555555556, \"#d8576b\"], [0.6666666666666666, \"#ed7953\"], [0.7777777777777778, \"#fb9f3a\"], [0.8888888888888888, \"#fdca26\"], [1.0, \"#f0f921\"]], \"type\": \"surface\"}], \"table\": [{\"cells\": {\"fill\": {\"color\": \"#EBF0F8\"}, \"line\": {\"color\": \"white\"}}, \"header\": {\"fill\": {\"color\": \"#C8D4E3\"}, \"line\": {\"color\": \"white\"}}, \"type\": \"table\"}]}, \"layout\": {\"annotationdefaults\": {\"arrowcolor\": \"#2a3f5f\", \"arrowhead\": 0, \"arrowwidth\": 1}, \"autotypenumbers\": \"strict\", \"coloraxis\": {\"colorbar\": {\"outlinewidth\": 0, \"ticks\": \"\"}}, \"colorscale\": {\"diverging\": [[0, \"#8e0152\"], [0.1, \"#c51b7d\"], [0.2, \"#de77ae\"], [0.3, \"#f1b6da\"], [0.4, \"#fde0ef\"], [0.5, \"#f7f7f7\"], [0.6, \"#e6f5d0\"], [0.7, \"#b8e186\"], [0.8, \"#7fbc41\"], [0.9, \"#4d9221\"], [1, \"#276419\"]], \"sequential\": [[0.0, \"#0d0887\"], [0.1111111111111111, \"#46039f\"], [0.2222222222222222, \"#7201a8\"], [0.3333333333333333, \"#9c179e\"], [0.4444444444444444, \"#bd3786\"], [0.5555555555555556, \"#d8576b\"], [0.6666666666666666, \"#ed7953\"], [0.7777777777777778, \"#fb9f3a\"], [0.8888888888888888, \"#fdca26\"], [1.0, \"#f0f921\"]], \"sequentialminus\": [[0.0, \"#0d0887\"], [0.1111111111111111, \"#46039f\"], [0.2222222222222222, \"#7201a8\"], [0.3333333333333333, \"#9c179e\"], [0.4444444444444444, \"#bd3786\"], [0.5555555555555556, \"#d8576b\"], [0.6666666666666666, \"#ed7953\"], [0.7777777777777778, \"#fb9f3a\"], [0.8888888888888888, \"#fdca26\"], [1.0, \"#f0f921\"]]}, \"colorway\": [\"#636efa\", \"#EF553B\", \"#00cc96\", \"#ab63fa\", \"#FFA15A\", \"#19d3f3\", \"#FF6692\", \"#B6E880\", \"#FF97FF\", \"#FECB52\"], \"font\": {\"color\": \"#2a3f5f\"}, \"geo\": {\"bgcolor\": \"white\", \"lakecolor\": \"white\", \"landcolor\": \"#E5ECF6\", \"showlakes\": true, \"showland\": true, \"subunitcolor\": \"white\"}, \"hoverlabel\": {\"align\": \"left\"}, \"hovermode\": \"closest\", \"mapbox\": {\"style\": \"light\"}, \"paper_bgcolor\": \"white\", \"plot_bgcolor\": \"#E5ECF6\", \"polar\": {\"angularaxis\": {\"gridcolor\": \"white\", \"linecolor\": \"white\", \"ticks\": \"\"}, \"bgcolor\": \"#E5ECF6\", \"radialaxis\": {\"gridcolor\": \"white\", \"linecolor\": \"white\", \"ticks\": \"\"}}, \"scene\": {\"xaxis\": {\"backgroundcolor\": \"#E5ECF6\", \"gridcolor\": \"white\", \"gridwidth\": 2, \"linecolor\": \"white\", \"showbackground\": true, \"ticks\": \"\", \"zerolinecolor\": \"white\"}, \"yaxis\": {\"backgroundcolor\": \"#E5ECF6\", \"gridcolor\": \"white\", \"gridwidth\": 2, \"linecolor\": \"white\", \"showbackground\": true, \"ticks\": \"\", \"zerolinecolor\": \"white\"}, \"zaxis\": {\"backgroundcolor\": \"#E5ECF6\", \"gridcolor\": \"white\", \"gridwidth\": 2, \"linecolor\": \"white\", \"showbackground\": true, \"ticks\": \"\", \"zerolinecolor\": \"white\"}}, \"shapedefaults\": {\"line\": {\"color\": \"#2a3f5f\"}}, \"ternary\": {\"aaxis\": {\"gridcolor\": \"white\", \"linecolor\": \"white\", \"ticks\": \"\"}, \"baxis\": {\"gridcolor\": \"white\", \"linecolor\": \"white\", \"ticks\": \"\"}, \"bgcolor\": \"#E5ECF6\", \"caxis\": {\"gridcolor\": \"white\", \"linecolor\": \"white\", \"ticks\": \"\"}}, \"title\": {\"x\": 0.05}, \"xaxis\": {\"automargin\": true, \"gridcolor\": \"white\", \"linecolor\": \"white\", \"ticks\": \"\", \"title\": {\"standoff\": 15}, \"zerolinecolor\": \"white\", \"zerolinewidth\": 2}, \"yaxis\": {\"automargin\": true, \"gridcolor\": \"white\", \"linecolor\": \"white\", \"ticks\": \"\", \"title\": {\"standoff\": 15}, \"zerolinecolor\": \"white\", \"zerolinewidth\": 2}}}},                        {\"responsive\": true}                    ).then(function(){\n",
              "                            \n",
              "var gd = document.getElementById('082625a2-1745-4431-a03d-13bf8aea336e');\n",
              "var x = new MutationObserver(function (mutations, observer) {{\n",
              "        var display = window.getComputedStyle(gd).display;\n",
              "        if (!display || display === 'none') {{\n",
              "            console.log([gd, 'removed!']);\n",
              "            Plotly.purge(gd);\n",
              "            observer.disconnect();\n",
              "        }}\n",
              "}});\n",
              "\n",
              "// Listen for the removal of the full notebook cells\n",
              "var notebookContainer = gd.closest('#notebook-container');\n",
              "if (notebookContainer) {{\n",
              "    x.observe(notebookContainer, {childList: true});\n",
              "}}\n",
              "\n",
              "// Listen for the clearing of the current output cell\n",
              "var outputEl = gd.closest('.output');\n",
              "if (outputEl) {{\n",
              "    x.observe(outputEl, {childList: true});\n",
              "}}\n",
              "\n",
              "                        })                };                            </script>        </div>\n",
              "</body>\n",
              "</html>"
            ]
          },
          "metadata": {
            "tags": []
          }
        }
      ]
    },
    {
      "cell_type": "markdown",
      "metadata": {
        "id": "8uofhYQvX1oT"
      },
      "source": [
        "#Analyze data by a team (subset)"
      ]
    },
    {
      "cell_type": "markdown",
      "metadata": {
        "id": "82E0FfdfYvws"
      },
      "source": [
        "#dataframe for lakers"
      ]
    },
    {
      "cell_type": "code",
      "metadata": {
        "id": "p_zu-hMVbkjB"
      },
      "source": [
        "df_lal = nba_20_copy.loc[nba_20_copy.TEAM == 'Lal']\r\n",
        "df_lal.sample(11)"
      ],
      "execution_count": null,
      "outputs": []
    },
    {
      "cell_type": "markdown",
      "metadata": {
        "id": "v1CMR28yGOTe"
      },
      "source": [
        "#renaming columns"
      ]
    },
    {
      "cell_type": "code",
      "metadata": {
        "id": "RtmiTBMF53p2"
      },
      "source": [
        "nba_20_copy  =nba_20_copy.rename(columns={\"2PA\": \"two_pa\", \"3PA\": \"three_pa\"})\r\n",
        "nba_20_copy.columns"
      ],
      "execution_count": null,
      "outputs": []
    },
    {
      "cell_type": "markdown",
      "metadata": {
        "id": "UBo0xKrVGUep"
      },
      "source": [
        "#Sum of two/three pts by a player"
      ]
    },
    {
      "cell_type": "code",
      "metadata": {
        "colab": {
          "base_uri": "https://localhost:8080/",
          "height": 542
        },
        "id": "y_gNYzK1YZSy",
        "outputId": "6506db95-7ef2-4861-80a6-5469e420ff30"
      },
      "source": [
        "px.histogram(df_lal, x = 'three_pa' , y='two_pa', color = 'FULL_NAME', title='Lakers_2_3_points_Sum', template='plotly_dark')"
      ],
      "execution_count": null,
      "outputs": [
        {
          "output_type": "display_data",
          "data": {
            "text/html": [
              "<html>\n",
              "<head><meta charset=\"utf-8\" /></head>\n",
              "<body>\n",
              "    <div>            <script src=\"https://cdnjs.cloudflare.com/ajax/libs/mathjax/2.7.5/MathJax.js?config=TeX-AMS-MML_SVG\"></script><script type=\"text/javascript\">if (window.MathJax) {MathJax.Hub.Config({SVG: {font: \"STIX-Web\"}});}</script>                <script type=\"text/javascript\">window.PlotlyConfig = {MathJaxConfig: 'local'};</script>\n",
              "        <script src=\"https://cdn.plot.ly/plotly-latest.min.js\"></script>                <div id=\"e4a994df-d2d4-4e9e-9d45-737415c35925\" class=\"plotly-graph-div\" style=\"height:525px; width:100%;\"></div>            <script type=\"text/javascript\">                                    window.PLOTLYENV=window.PLOTLYENV || {};                                    if (document.getElementById(\"e4a994df-d2d4-4e9e-9d45-737415c35925\")) {                    Plotly.newPlot(                        \"e4a994df-d2d4-4e9e-9d45-737415c35925\",                        [{\"alignmentgroup\": \"True\", \"bingroup\": \"x\", \"histfunc\": \"sum\", \"hovertemplate\": \"FULL_NAME=Kentavious Caldwell-Pope<br>three_pa=%{x}<br>sum of two_pa=%{y}<extra></extra>\", \"legendgroup\": \"Kentavious Caldwell-Pope\", \"marker\": {\"color\": \"#636efa\"}, \"name\": \"Kentavious Caldwell-Pope\", \"offsetgroup\": \"Kentavious Caldwell-Pope\", \"orientation\": \"v\", \"showlegend\": true, \"type\": \"histogram\", \"x\": [119], \"xaxis\": \"x\", \"y\": [70], \"yaxis\": \"y\"}, {\"alignmentgroup\": \"True\", \"bingroup\": \"x\", \"histfunc\": \"sum\", \"hovertemplate\": \"FULL_NAME=Alex Caruso<br>three_pa=%{x}<br>sum of two_pa=%{y}<extra></extra>\", \"legendgroup\": \"Alex Caruso\", \"marker\": {\"color\": \"#EF553B\"}, \"name\": \"Alex Caruso\", \"offsetgroup\": \"Alex Caruso\", \"orientation\": \"v\", \"showlegend\": true, \"type\": \"histogram\", \"x\": [61], \"xaxis\": \"x\", \"y\": [52], \"yaxis\": \"y\"}, {\"alignmentgroup\": \"True\", \"bingroup\": \"x\", \"histfunc\": \"sum\", \"hovertemplate\": \"FULL_NAME=Quinn Cook<br>three_pa=%{x}<br>sum of two_pa=%{y}<extra></extra>\", \"legendgroup\": \"Quinn Cook\", \"marker\": {\"color\": \"#00cc96\"}, \"name\": \"Quinn Cook\", \"offsetgroup\": \"Quinn Cook\", \"orientation\": \"v\", \"showlegend\": true, \"type\": \"histogram\", \"x\": [4], \"xaxis\": \"x\", \"y\": [6], \"yaxis\": \"y\"}, {\"alignmentgroup\": \"True\", \"bingroup\": \"x\", \"histfunc\": \"sum\", \"hovertemplate\": \"FULL_NAME=Anthony Davis<br>three_pa=%{x}<br>sum of two_pa=%{y}<extra></extra>\", \"legendgroup\": \"Anthony Davis\", \"marker\": {\"color\": \"#ab63fa\"}, \"name\": \"Anthony Davis\", \"offsetgroup\": \"Anthony Davis\", \"orientation\": \"v\", \"showlegend\": true, \"type\": \"histogram\", \"x\": [60], \"xaxis\": \"x\", \"y\": [299], \"yaxis\": \"y\"}, {\"alignmentgroup\": \"True\", \"bingroup\": \"x\", \"histfunc\": \"sum\", \"hovertemplate\": \"FULL_NAME=Jared Dudley<br>three_pa=%{x}<br>sum of two_pa=%{y}<extra></extra>\", \"legendgroup\": \"Jared Dudley\", \"marker\": {\"color\": \"#FFA15A\"}, \"name\": \"Jared Dudley\", \"offsetgroup\": \"Jared Dudley\", \"orientation\": \"v\", \"showlegend\": true, \"type\": \"histogram\", \"x\": [3], \"xaxis\": \"x\", \"y\": [1], \"yaxis\": \"y\"}, {\"alignmentgroup\": \"True\", \"bingroup\": \"x\", \"histfunc\": \"sum\", \"hovertemplate\": \"FULL_NAME=Danny Green<br>three_pa=%{x}<br>sum of two_pa=%{y}<extra></extra>\", \"legendgroup\": \"Danny Green\", \"marker\": {\"color\": \"#19d3f3\"}, \"name\": \"Danny Green\", \"offsetgroup\": \"Danny Green\", \"orientation\": \"v\", \"showlegend\": true, \"type\": \"histogram\", \"x\": [115], \"xaxis\": \"x\", \"y\": [55], \"yaxis\": \"y\"}, {\"alignmentgroup\": \"True\", \"bingroup\": \"x\", \"histfunc\": \"sum\", \"hovertemplate\": \"FULL_NAME=Talen Horton-Tucker<br>three_pa=%{x}<br>sum of two_pa=%{y}<extra></extra>\", \"legendgroup\": \"Talen Horton-Tucker\", \"marker\": {\"color\": \"#FF6692\"}, \"name\": \"Talen Horton-Tucker\", \"offsetgroup\": \"Talen Horton-Tucker\", \"orientation\": \"v\", \"showlegend\": true, \"type\": \"histogram\", \"x\": [5], \"xaxis\": \"x\", \"y\": [7], \"yaxis\": \"y\"}, {\"alignmentgroup\": \"True\", \"bingroup\": \"x\", \"histfunc\": \"sum\", \"hovertemplate\": \"FULL_NAME=Dwight Howard<br>three_pa=%{x}<br>sum of two_pa=%{y}<extra></extra>\", \"legendgroup\": \"Dwight Howard\", \"marker\": {\"color\": \"#B6E880\"}, \"name\": \"Dwight Howard\", \"offsetgroup\": \"Dwight Howard\", \"orientation\": \"v\", \"showlegend\": true, \"type\": \"histogram\", \"x\": [2], \"xaxis\": \"x\", \"y\": [55], \"yaxis\": \"y\"}, {\"alignmentgroup\": \"True\", \"bingroup\": \"x\", \"histfunc\": \"sum\", \"hovertemplate\": \"FULL_NAME=LeBron James<br>three_pa=%{x}<br>sum of two_pa=%{y}<extra></extra>\", \"legendgroup\": \"LeBron James\", \"marker\": {\"color\": \"#FF97FF\"}, \"name\": \"LeBron James\", \"offsetgroup\": \"LeBron James\", \"orientation\": \"v\", \"showlegend\": true, \"type\": \"histogram\", \"x\": [119], \"xaxis\": \"x\", \"y\": [263], \"yaxis\": \"y\"}, {\"alignmentgroup\": \"True\", \"bingroup\": \"x\", \"histfunc\": \"sum\", \"hovertemplate\": \"FULL_NAME=Kyle Kuzma<br>three_pa=%{x}<br>sum of two_pa=%{y}<extra></extra>\", \"legendgroup\": \"Kyle Kuzma\", \"marker\": {\"color\": \"#FECB52\"}, \"name\": \"Kyle Kuzma\", \"offsetgroup\": \"Kyle Kuzma\", \"orientation\": \"v\", \"showlegend\": true, \"type\": \"histogram\", \"x\": [83], \"xaxis\": \"x\", \"y\": [96], \"yaxis\": \"y\"}, {\"alignmentgroup\": \"True\", \"bingroup\": \"x\", \"histfunc\": \"sum\", \"hovertemplate\": \"FULL_NAME=JaVale McGee<br>three_pa=%{x}<br>sum of two_pa=%{y}<extra></extra>\", \"legendgroup\": \"JaVale McGee\", \"marker\": {\"color\": \"#636efa\"}, \"name\": \"JaVale McGee\", \"offsetgroup\": \"JaVale McGee\", \"orientation\": \"v\", \"showlegend\": true, \"type\": \"histogram\", \"x\": [2], \"xaxis\": \"x\", \"y\": [30], \"yaxis\": \"y\"}, {\"alignmentgroup\": \"True\", \"bingroup\": \"x\", \"histfunc\": \"sum\", \"hovertemplate\": \"FULL_NAME=Markieff Morris<br>three_pa=%{x}<br>sum of two_pa=%{y}<extra></extra>\", \"legendgroup\": \"Markieff Morris\", \"marker\": {\"color\": \"#EF553B\"}, \"name\": \"Markieff Morris\", \"offsetgroup\": \"Markieff Morris\", \"orientation\": \"v\", \"showlegend\": true, \"type\": \"histogram\", \"x\": [69], \"xaxis\": \"x\", \"y\": [29], \"yaxis\": \"y\"}, {\"alignmentgroup\": \"True\", \"bingroup\": \"x\", \"histfunc\": \"sum\", \"hovertemplate\": \"FULL_NAME=Rajon Rondo<br>three_pa=%{x}<br>sum of two_pa=%{y}<extra></extra>\", \"legendgroup\": \"Rajon Rondo\", \"marker\": {\"color\": \"#00cc96\"}, \"name\": \"Rajon Rondo\", \"offsetgroup\": \"Rajon Rondo\", \"orientation\": \"v\", \"showlegend\": true, \"type\": \"histogram\", \"x\": [50], \"xaxis\": \"x\", \"y\": [71], \"yaxis\": \"y\"}, {\"alignmentgroup\": \"True\", \"bingroup\": \"x\", \"histfunc\": \"sum\", \"hovertemplate\": \"FULL_NAME=JR Smith<br>three_pa=%{x}<br>sum of two_pa=%{y}<extra></extra>\", \"legendgroup\": \"JR Smith\", \"marker\": {\"color\": \"#ab63fa\"}, \"name\": \"JR Smith\", \"offsetgroup\": \"JR Smith\", \"orientation\": \"v\", \"showlegend\": true, \"type\": \"histogram\", \"x\": [22], \"xaxis\": \"x\", \"y\": [4], \"yaxis\": \"y\"}, {\"alignmentgroup\": \"True\", \"bingroup\": \"x\", \"histfunc\": \"sum\", \"hovertemplate\": \"FULL_NAME=Dion Waiters<br>three_pa=%{x}<br>sum of two_pa=%{y}<extra></extra>\", \"legendgroup\": \"Dion Waiters\", \"marker\": {\"color\": \"#FFA15A\"}, \"name\": \"Dion Waiters\", \"offsetgroup\": \"Dion Waiters\", \"orientation\": \"v\", \"showlegend\": true, \"type\": \"histogram\", \"x\": [4], \"xaxis\": \"x\", \"y\": [8], \"yaxis\": \"y\"}],                        {\"barmode\": \"relative\", \"legend\": {\"title\": {\"text\": \"FULL_NAME\"}, \"tracegroupgap\": 0}, \"template\": {\"data\": {\"bar\": [{\"error_x\": {\"color\": \"#f2f5fa\"}, \"error_y\": {\"color\": \"#f2f5fa\"}, \"marker\": {\"line\": {\"color\": \"rgb(17,17,17)\", \"width\": 0.5}}, \"type\": \"bar\"}], \"barpolar\": [{\"marker\": {\"line\": {\"color\": \"rgb(17,17,17)\", \"width\": 0.5}}, \"type\": \"barpolar\"}], \"carpet\": [{\"aaxis\": {\"endlinecolor\": \"#A2B1C6\", \"gridcolor\": \"#506784\", \"linecolor\": \"#506784\", \"minorgridcolor\": \"#506784\", \"startlinecolor\": \"#A2B1C6\"}, \"baxis\": {\"endlinecolor\": \"#A2B1C6\", \"gridcolor\": \"#506784\", \"linecolor\": \"#506784\", \"minorgridcolor\": \"#506784\", \"startlinecolor\": \"#A2B1C6\"}, \"type\": \"carpet\"}], \"choropleth\": [{\"colorbar\": {\"outlinewidth\": 0, \"ticks\": \"\"}, \"type\": \"choropleth\"}], \"contour\": [{\"colorbar\": {\"outlinewidth\": 0, \"ticks\": \"\"}, \"colorscale\": [[0.0, \"#0d0887\"], [0.1111111111111111, \"#46039f\"], [0.2222222222222222, \"#7201a8\"], [0.3333333333333333, \"#9c179e\"], [0.4444444444444444, \"#bd3786\"], [0.5555555555555556, \"#d8576b\"], [0.6666666666666666, \"#ed7953\"], [0.7777777777777778, \"#fb9f3a\"], [0.8888888888888888, \"#fdca26\"], [1.0, \"#f0f921\"]], \"type\": \"contour\"}], \"contourcarpet\": [{\"colorbar\": {\"outlinewidth\": 0, \"ticks\": \"\"}, \"type\": \"contourcarpet\"}], \"heatmap\": [{\"colorbar\": {\"outlinewidth\": 0, \"ticks\": \"\"}, \"colorscale\": [[0.0, \"#0d0887\"], [0.1111111111111111, \"#46039f\"], [0.2222222222222222, \"#7201a8\"], [0.3333333333333333, \"#9c179e\"], [0.4444444444444444, \"#bd3786\"], [0.5555555555555556, \"#d8576b\"], [0.6666666666666666, \"#ed7953\"], [0.7777777777777778, \"#fb9f3a\"], [0.8888888888888888, \"#fdca26\"], [1.0, \"#f0f921\"]], \"type\": \"heatmap\"}], \"heatmapgl\": [{\"colorbar\": {\"outlinewidth\": 0, \"ticks\": \"\"}, \"colorscale\": [[0.0, \"#0d0887\"], [0.1111111111111111, \"#46039f\"], [0.2222222222222222, \"#7201a8\"], [0.3333333333333333, \"#9c179e\"], [0.4444444444444444, \"#bd3786\"], [0.5555555555555556, \"#d8576b\"], [0.6666666666666666, \"#ed7953\"], [0.7777777777777778, \"#fb9f3a\"], [0.8888888888888888, \"#fdca26\"], [1.0, \"#f0f921\"]], \"type\": \"heatmapgl\"}], \"histogram\": [{\"marker\": {\"colorbar\": {\"outlinewidth\": 0, \"ticks\": \"\"}}, \"type\": \"histogram\"}], \"histogram2d\": [{\"colorbar\": {\"outlinewidth\": 0, \"ticks\": \"\"}, \"colorscale\": [[0.0, \"#0d0887\"], [0.1111111111111111, \"#46039f\"], [0.2222222222222222, \"#7201a8\"], [0.3333333333333333, \"#9c179e\"], [0.4444444444444444, \"#bd3786\"], [0.5555555555555556, \"#d8576b\"], [0.6666666666666666, \"#ed7953\"], [0.7777777777777778, \"#fb9f3a\"], [0.8888888888888888, \"#fdca26\"], [1.0, \"#f0f921\"]], \"type\": \"histogram2d\"}], \"histogram2dcontour\": [{\"colorbar\": {\"outlinewidth\": 0, \"ticks\": \"\"}, \"colorscale\": [[0.0, \"#0d0887\"], [0.1111111111111111, \"#46039f\"], [0.2222222222222222, \"#7201a8\"], [0.3333333333333333, \"#9c179e\"], [0.4444444444444444, \"#bd3786\"], [0.5555555555555556, \"#d8576b\"], [0.6666666666666666, \"#ed7953\"], [0.7777777777777778, \"#fb9f3a\"], [0.8888888888888888, \"#fdca26\"], [1.0, \"#f0f921\"]], \"type\": \"histogram2dcontour\"}], \"mesh3d\": [{\"colorbar\": {\"outlinewidth\": 0, \"ticks\": \"\"}, \"type\": \"mesh3d\"}], \"parcoords\": [{\"line\": {\"colorbar\": {\"outlinewidth\": 0, \"ticks\": \"\"}}, \"type\": \"parcoords\"}], \"pie\": [{\"automargin\": true, \"type\": \"pie\"}], \"scatter\": [{\"marker\": {\"line\": {\"color\": \"#283442\"}}, \"type\": \"scatter\"}], \"scatter3d\": [{\"line\": {\"colorbar\": {\"outlinewidth\": 0, \"ticks\": \"\"}}, \"marker\": {\"colorbar\": {\"outlinewidth\": 0, \"ticks\": \"\"}}, \"type\": \"scatter3d\"}], \"scattercarpet\": [{\"marker\": {\"colorbar\": {\"outlinewidth\": 0, \"ticks\": \"\"}}, \"type\": \"scattercarpet\"}], \"scattergeo\": [{\"marker\": {\"colorbar\": {\"outlinewidth\": 0, \"ticks\": \"\"}}, \"type\": \"scattergeo\"}], \"scattergl\": [{\"marker\": {\"line\": {\"color\": \"#283442\"}}, \"type\": \"scattergl\"}], \"scattermapbox\": [{\"marker\": {\"colorbar\": {\"outlinewidth\": 0, \"ticks\": \"\"}}, \"type\": \"scattermapbox\"}], \"scatterpolar\": [{\"marker\": {\"colorbar\": {\"outlinewidth\": 0, \"ticks\": \"\"}}, \"type\": \"scatterpolar\"}], \"scatterpolargl\": [{\"marker\": {\"colorbar\": {\"outlinewidth\": 0, \"ticks\": \"\"}}, \"type\": \"scatterpolargl\"}], \"scatterternary\": [{\"marker\": {\"colorbar\": {\"outlinewidth\": 0, \"ticks\": \"\"}}, \"type\": \"scatterternary\"}], \"surface\": [{\"colorbar\": {\"outlinewidth\": 0, \"ticks\": \"\"}, \"colorscale\": [[0.0, \"#0d0887\"], [0.1111111111111111, \"#46039f\"], [0.2222222222222222, \"#7201a8\"], [0.3333333333333333, \"#9c179e\"], [0.4444444444444444, \"#bd3786\"], [0.5555555555555556, \"#d8576b\"], [0.6666666666666666, \"#ed7953\"], [0.7777777777777778, \"#fb9f3a\"], [0.8888888888888888, \"#fdca26\"], [1.0, \"#f0f921\"]], \"type\": \"surface\"}], \"table\": [{\"cells\": {\"fill\": {\"color\": \"#506784\"}, \"line\": {\"color\": \"rgb(17,17,17)\"}}, \"header\": {\"fill\": {\"color\": \"#2a3f5f\"}, \"line\": {\"color\": \"rgb(17,17,17)\"}}, \"type\": \"table\"}]}, \"layout\": {\"annotationdefaults\": {\"arrowcolor\": \"#f2f5fa\", \"arrowhead\": 0, \"arrowwidth\": 1}, \"autotypenumbers\": \"strict\", \"coloraxis\": {\"colorbar\": {\"outlinewidth\": 0, \"ticks\": \"\"}}, \"colorscale\": {\"diverging\": [[0, \"#8e0152\"], [0.1, \"#c51b7d\"], [0.2, \"#de77ae\"], [0.3, \"#f1b6da\"], [0.4, \"#fde0ef\"], [0.5, \"#f7f7f7\"], [0.6, \"#e6f5d0\"], [0.7, \"#b8e186\"], [0.8, \"#7fbc41\"], [0.9, \"#4d9221\"], [1, \"#276419\"]], \"sequential\": [[0.0, \"#0d0887\"], [0.1111111111111111, \"#46039f\"], [0.2222222222222222, \"#7201a8\"], [0.3333333333333333, \"#9c179e\"], [0.4444444444444444, \"#bd3786\"], [0.5555555555555556, \"#d8576b\"], [0.6666666666666666, \"#ed7953\"], [0.7777777777777778, \"#fb9f3a\"], [0.8888888888888888, \"#fdca26\"], [1.0, \"#f0f921\"]], \"sequentialminus\": [[0.0, \"#0d0887\"], [0.1111111111111111, \"#46039f\"], [0.2222222222222222, \"#7201a8\"], [0.3333333333333333, \"#9c179e\"], [0.4444444444444444, \"#bd3786\"], [0.5555555555555556, \"#d8576b\"], [0.6666666666666666, \"#ed7953\"], [0.7777777777777778, \"#fb9f3a\"], [0.8888888888888888, \"#fdca26\"], [1.0, \"#f0f921\"]]}, \"colorway\": [\"#636efa\", \"#EF553B\", \"#00cc96\", \"#ab63fa\", \"#FFA15A\", \"#19d3f3\", \"#FF6692\", \"#B6E880\", \"#FF97FF\", \"#FECB52\"], \"font\": {\"color\": \"#f2f5fa\"}, \"geo\": {\"bgcolor\": \"rgb(17,17,17)\", \"lakecolor\": \"rgb(17,17,17)\", \"landcolor\": \"rgb(17,17,17)\", \"showlakes\": true, \"showland\": true, \"subunitcolor\": \"#506784\"}, \"hoverlabel\": {\"align\": \"left\"}, \"hovermode\": \"closest\", \"mapbox\": {\"style\": \"dark\"}, \"paper_bgcolor\": \"rgb(17,17,17)\", \"plot_bgcolor\": \"rgb(17,17,17)\", \"polar\": {\"angularaxis\": {\"gridcolor\": \"#506784\", \"linecolor\": \"#506784\", \"ticks\": \"\"}, \"bgcolor\": \"rgb(17,17,17)\", \"radialaxis\": {\"gridcolor\": \"#506784\", \"linecolor\": \"#506784\", \"ticks\": \"\"}}, \"scene\": {\"xaxis\": {\"backgroundcolor\": \"rgb(17,17,17)\", \"gridcolor\": \"#506784\", \"gridwidth\": 2, \"linecolor\": \"#506784\", \"showbackground\": true, \"ticks\": \"\", \"zerolinecolor\": \"#C8D4E3\"}, \"yaxis\": {\"backgroundcolor\": \"rgb(17,17,17)\", \"gridcolor\": \"#506784\", \"gridwidth\": 2, \"linecolor\": \"#506784\", \"showbackground\": true, \"ticks\": \"\", \"zerolinecolor\": \"#C8D4E3\"}, \"zaxis\": {\"backgroundcolor\": \"rgb(17,17,17)\", \"gridcolor\": \"#506784\", \"gridwidth\": 2, \"linecolor\": \"#506784\", \"showbackground\": true, \"ticks\": \"\", \"zerolinecolor\": \"#C8D4E3\"}}, \"shapedefaults\": {\"line\": {\"color\": \"#f2f5fa\"}}, \"sliderdefaults\": {\"bgcolor\": \"#C8D4E3\", \"bordercolor\": \"rgb(17,17,17)\", \"borderwidth\": 1, \"tickwidth\": 0}, \"ternary\": {\"aaxis\": {\"gridcolor\": \"#506784\", \"linecolor\": \"#506784\", \"ticks\": \"\"}, \"baxis\": {\"gridcolor\": \"#506784\", \"linecolor\": \"#506784\", \"ticks\": \"\"}, \"bgcolor\": \"rgb(17,17,17)\", \"caxis\": {\"gridcolor\": \"#506784\", \"linecolor\": \"#506784\", \"ticks\": \"\"}}, \"title\": {\"x\": 0.05}, \"updatemenudefaults\": {\"bgcolor\": \"#506784\", \"borderwidth\": 0}, \"xaxis\": {\"automargin\": true, \"gridcolor\": \"#283442\", \"linecolor\": \"#506784\", \"ticks\": \"\", \"title\": {\"standoff\": 15}, \"zerolinecolor\": \"#283442\", \"zerolinewidth\": 2}, \"yaxis\": {\"automargin\": true, \"gridcolor\": \"#283442\", \"linecolor\": \"#506784\", \"ticks\": \"\", \"title\": {\"standoff\": 15}, \"zerolinecolor\": \"#283442\", \"zerolinewidth\": 2}}}, \"title\": {\"text\": \"Lakers_2_3_points_Sum\"}, \"xaxis\": {\"anchor\": \"y\", \"domain\": [0.0, 1.0], \"title\": {\"text\": \"three_pa\"}}, \"yaxis\": {\"anchor\": \"x\", \"domain\": [0.0, 1.0], \"title\": {\"text\": \"sum of two_pa\"}}},                        {\"responsive\": true}                    ).then(function(){\n",
              "                            \n",
              "var gd = document.getElementById('e4a994df-d2d4-4e9e-9d45-737415c35925');\n",
              "var x = new MutationObserver(function (mutations, observer) {{\n",
              "        var display = window.getComputedStyle(gd).display;\n",
              "        if (!display || display === 'none') {{\n",
              "            console.log([gd, 'removed!']);\n",
              "            Plotly.purge(gd);\n",
              "            observer.disconnect();\n",
              "        }}\n",
              "}});\n",
              "\n",
              "// Listen for the removal of the full notebook cells\n",
              "var notebookContainer = gd.closest('#notebook-container');\n",
              "if (notebookContainer) {{\n",
              "    x.observe(notebookContainer, {childList: true});\n",
              "}}\n",
              "\n",
              "// Listen for the clearing of the current output cell\n",
              "var outputEl = gd.closest('.output');\n",
              "if (outputEl) {{\n",
              "    x.observe(outputEl, {childList: true});\n",
              "}}\n",
              "\n",
              "                        })                };                            </script>        </div>\n",
              "</body>\n",
              "</html>"
            ]
          },
          "metadata": {
            "tags": []
          }
        }
      ]
    },
    {
      "cell_type": "markdown",
      "metadata": {
        "id": "VTGeGaBvGqQK"
      },
      "source": [
        "#Heatmap 2/3 pts by a player"
      ]
    },
    {
      "cell_type": "code",
      "metadata": {
        "colab": {
          "base_uri": "https://localhost:8080/",
          "height": 542
        },
        "id": "BMdotALpbx7u",
        "outputId": "6bf7b7eb-89dd-4533-a0bb-3372c545b3fb"
      },
      "source": [
        "fig = px.bar(df_lal, x=\"FULL_NAME\", y=\"two_pa\", color='three_pa', title='2Points Vs. 3Poins By a PLAYER', template='plotly_white')\r\n",
        "fig.show()"
      ],
      "execution_count": null,
      "outputs": [
        {
          "output_type": "display_data",
          "data": {
            "text/html": [
              "<html>\n",
              "<head><meta charset=\"utf-8\" /></head>\n",
              "<body>\n",
              "    <div>            <script src=\"https://cdnjs.cloudflare.com/ajax/libs/mathjax/2.7.5/MathJax.js?config=TeX-AMS-MML_SVG\"></script><script type=\"text/javascript\">if (window.MathJax) {MathJax.Hub.Config({SVG: {font: \"STIX-Web\"}});}</script>                <script type=\"text/javascript\">window.PlotlyConfig = {MathJaxConfig: 'local'};</script>\n",
              "        <script src=\"https://cdn.plot.ly/plotly-latest.min.js\"></script>                <div id=\"1b323c0b-536c-420a-b041-1548f6b90043\" class=\"plotly-graph-div\" style=\"height:525px; width:100%;\"></div>            <script type=\"text/javascript\">                                    window.PLOTLYENV=window.PLOTLYENV || {};                                    if (document.getElementById(\"1b323c0b-536c-420a-b041-1548f6b90043\")) {                    Plotly.newPlot(                        \"1b323c0b-536c-420a-b041-1548f6b90043\",                        [{\"alignmentgroup\": \"True\", \"hovertemplate\": \"FULL_NAME=%{x}<br>two_pa=%{y}<br>three_pa=%{marker.color}<extra></extra>\", \"legendgroup\": \"\", \"marker\": {\"color\": [119, 61, 4, 60, 3, 115, 5, 2, 119, 83, 2, 69, 50, 22, 4], \"coloraxis\": \"coloraxis\"}, \"name\": \"\", \"offsetgroup\": \"\", \"orientation\": \"v\", \"showlegend\": false, \"textposition\": \"auto\", \"type\": \"bar\", \"x\": [\"Kentavious Caldwell-Pope\", \"Alex Caruso\", \"Quinn Cook\", \"Anthony Davis\", \"Jared Dudley\", \"Danny Green\", \"Talen Horton-Tucker\", \"Dwight Howard\", \"LeBron James\", \"Kyle Kuzma\", \"JaVale McGee\", \"Markieff Morris\", \"Rajon Rondo\", \"JR Smith\", \"Dion Waiters\"], \"xaxis\": \"x\", \"y\": [70, 52, 6, 299, 1, 55, 7, 55, 263, 96, 30, 29, 71, 4, 8], \"yaxis\": \"y\"}],                        {\"barmode\": \"relative\", \"coloraxis\": {\"colorbar\": {\"title\": {\"text\": \"three_pa\"}}, \"colorscale\": [[0.0, \"#0d0887\"], [0.1111111111111111, \"#46039f\"], [0.2222222222222222, \"#7201a8\"], [0.3333333333333333, \"#9c179e\"], [0.4444444444444444, \"#bd3786\"], [0.5555555555555556, \"#d8576b\"], [0.6666666666666666, \"#ed7953\"], [0.7777777777777778, \"#fb9f3a\"], [0.8888888888888888, \"#fdca26\"], [1.0, \"#f0f921\"]]}, \"legend\": {\"tracegroupgap\": 0}, \"template\": {\"data\": {\"bar\": [{\"error_x\": {\"color\": \"#2a3f5f\"}, \"error_y\": {\"color\": \"#2a3f5f\"}, \"marker\": {\"line\": {\"color\": \"white\", \"width\": 0.5}}, \"type\": \"bar\"}], \"barpolar\": [{\"marker\": {\"line\": {\"color\": \"white\", \"width\": 0.5}}, \"type\": \"barpolar\"}], \"carpet\": [{\"aaxis\": {\"endlinecolor\": \"#2a3f5f\", \"gridcolor\": \"#C8D4E3\", \"linecolor\": \"#C8D4E3\", \"minorgridcolor\": \"#C8D4E3\", \"startlinecolor\": \"#2a3f5f\"}, \"baxis\": {\"endlinecolor\": \"#2a3f5f\", \"gridcolor\": \"#C8D4E3\", \"linecolor\": \"#C8D4E3\", \"minorgridcolor\": \"#C8D4E3\", \"startlinecolor\": \"#2a3f5f\"}, \"type\": \"carpet\"}], \"choropleth\": [{\"colorbar\": {\"outlinewidth\": 0, \"ticks\": \"\"}, \"type\": \"choropleth\"}], \"contour\": [{\"colorbar\": {\"outlinewidth\": 0, \"ticks\": \"\"}, \"colorscale\": [[0.0, \"#0d0887\"], [0.1111111111111111, \"#46039f\"], [0.2222222222222222, \"#7201a8\"], [0.3333333333333333, \"#9c179e\"], [0.4444444444444444, \"#bd3786\"], [0.5555555555555556, \"#d8576b\"], [0.6666666666666666, \"#ed7953\"], [0.7777777777777778, \"#fb9f3a\"], [0.8888888888888888, \"#fdca26\"], [1.0, \"#f0f921\"]], \"type\": \"contour\"}], \"contourcarpet\": [{\"colorbar\": {\"outlinewidth\": 0, \"ticks\": \"\"}, \"type\": \"contourcarpet\"}], \"heatmap\": [{\"colorbar\": {\"outlinewidth\": 0, \"ticks\": \"\"}, \"colorscale\": [[0.0, \"#0d0887\"], [0.1111111111111111, \"#46039f\"], [0.2222222222222222, \"#7201a8\"], [0.3333333333333333, \"#9c179e\"], [0.4444444444444444, \"#bd3786\"], [0.5555555555555556, \"#d8576b\"], [0.6666666666666666, \"#ed7953\"], [0.7777777777777778, \"#fb9f3a\"], [0.8888888888888888, \"#fdca26\"], [1.0, \"#f0f921\"]], \"type\": \"heatmap\"}], \"heatmapgl\": [{\"colorbar\": {\"outlinewidth\": 0, \"ticks\": \"\"}, \"colorscale\": [[0.0, \"#0d0887\"], [0.1111111111111111, \"#46039f\"], [0.2222222222222222, \"#7201a8\"], [0.3333333333333333, \"#9c179e\"], [0.4444444444444444, \"#bd3786\"], [0.5555555555555556, \"#d8576b\"], [0.6666666666666666, \"#ed7953\"], [0.7777777777777778, \"#fb9f3a\"], [0.8888888888888888, \"#fdca26\"], [1.0, \"#f0f921\"]], \"type\": \"heatmapgl\"}], \"histogram\": [{\"marker\": {\"colorbar\": {\"outlinewidth\": 0, \"ticks\": \"\"}}, \"type\": \"histogram\"}], \"histogram2d\": [{\"colorbar\": {\"outlinewidth\": 0, \"ticks\": \"\"}, \"colorscale\": [[0.0, \"#0d0887\"], [0.1111111111111111, \"#46039f\"], [0.2222222222222222, \"#7201a8\"], [0.3333333333333333, \"#9c179e\"], [0.4444444444444444, \"#bd3786\"], [0.5555555555555556, \"#d8576b\"], [0.6666666666666666, \"#ed7953\"], [0.7777777777777778, \"#fb9f3a\"], [0.8888888888888888, \"#fdca26\"], [1.0, \"#f0f921\"]], \"type\": \"histogram2d\"}], \"histogram2dcontour\": [{\"colorbar\": {\"outlinewidth\": 0, \"ticks\": \"\"}, \"colorscale\": [[0.0, \"#0d0887\"], [0.1111111111111111, \"#46039f\"], [0.2222222222222222, \"#7201a8\"], [0.3333333333333333, \"#9c179e\"], [0.4444444444444444, \"#bd3786\"], [0.5555555555555556, \"#d8576b\"], [0.6666666666666666, \"#ed7953\"], [0.7777777777777778, \"#fb9f3a\"], [0.8888888888888888, \"#fdca26\"], [1.0, \"#f0f921\"]], \"type\": \"histogram2dcontour\"}], \"mesh3d\": [{\"colorbar\": {\"outlinewidth\": 0, \"ticks\": \"\"}, \"type\": \"mesh3d\"}], \"parcoords\": [{\"line\": {\"colorbar\": {\"outlinewidth\": 0, \"ticks\": \"\"}}, \"type\": \"parcoords\"}], \"pie\": [{\"automargin\": true, \"type\": \"pie\"}], \"scatter\": [{\"marker\": {\"colorbar\": {\"outlinewidth\": 0, \"ticks\": \"\"}}, \"type\": \"scatter\"}], \"scatter3d\": [{\"line\": {\"colorbar\": {\"outlinewidth\": 0, \"ticks\": \"\"}}, \"marker\": {\"colorbar\": {\"outlinewidth\": 0, \"ticks\": \"\"}}, \"type\": \"scatter3d\"}], \"scattercarpet\": [{\"marker\": {\"colorbar\": {\"outlinewidth\": 0, \"ticks\": \"\"}}, \"type\": \"scattercarpet\"}], \"scattergeo\": [{\"marker\": {\"colorbar\": {\"outlinewidth\": 0, \"ticks\": \"\"}}, \"type\": \"scattergeo\"}], \"scattergl\": [{\"marker\": {\"colorbar\": {\"outlinewidth\": 0, \"ticks\": \"\"}}, \"type\": \"scattergl\"}], \"scattermapbox\": [{\"marker\": {\"colorbar\": {\"outlinewidth\": 0, \"ticks\": \"\"}}, \"type\": \"scattermapbox\"}], \"scatterpolar\": [{\"marker\": {\"colorbar\": {\"outlinewidth\": 0, \"ticks\": \"\"}}, \"type\": \"scatterpolar\"}], \"scatterpolargl\": [{\"marker\": {\"colorbar\": {\"outlinewidth\": 0, \"ticks\": \"\"}}, \"type\": \"scatterpolargl\"}], \"scatterternary\": [{\"marker\": {\"colorbar\": {\"outlinewidth\": 0, \"ticks\": \"\"}}, \"type\": \"scatterternary\"}], \"surface\": [{\"colorbar\": {\"outlinewidth\": 0, \"ticks\": \"\"}, \"colorscale\": [[0.0, \"#0d0887\"], [0.1111111111111111, \"#46039f\"], [0.2222222222222222, \"#7201a8\"], [0.3333333333333333, \"#9c179e\"], [0.4444444444444444, \"#bd3786\"], [0.5555555555555556, \"#d8576b\"], [0.6666666666666666, \"#ed7953\"], [0.7777777777777778, \"#fb9f3a\"], [0.8888888888888888, \"#fdca26\"], [1.0, \"#f0f921\"]], \"type\": \"surface\"}], \"table\": [{\"cells\": {\"fill\": {\"color\": \"#EBF0F8\"}, \"line\": {\"color\": \"white\"}}, \"header\": {\"fill\": {\"color\": \"#C8D4E3\"}, \"line\": {\"color\": \"white\"}}, \"type\": \"table\"}]}, \"layout\": {\"annotationdefaults\": {\"arrowcolor\": \"#2a3f5f\", \"arrowhead\": 0, \"arrowwidth\": 1}, \"autotypenumbers\": \"strict\", \"coloraxis\": {\"colorbar\": {\"outlinewidth\": 0, \"ticks\": \"\"}}, \"colorscale\": {\"diverging\": [[0, \"#8e0152\"], [0.1, \"#c51b7d\"], [0.2, \"#de77ae\"], [0.3, \"#f1b6da\"], [0.4, \"#fde0ef\"], [0.5, \"#f7f7f7\"], [0.6, \"#e6f5d0\"], [0.7, \"#b8e186\"], [0.8, \"#7fbc41\"], [0.9, \"#4d9221\"], [1, \"#276419\"]], \"sequential\": [[0.0, \"#0d0887\"], [0.1111111111111111, \"#46039f\"], [0.2222222222222222, \"#7201a8\"], [0.3333333333333333, \"#9c179e\"], [0.4444444444444444, \"#bd3786\"], [0.5555555555555556, \"#d8576b\"], [0.6666666666666666, \"#ed7953\"], [0.7777777777777778, \"#fb9f3a\"], [0.8888888888888888, \"#fdca26\"], [1.0, \"#f0f921\"]], \"sequentialminus\": [[0.0, \"#0d0887\"], [0.1111111111111111, \"#46039f\"], [0.2222222222222222, \"#7201a8\"], [0.3333333333333333, \"#9c179e\"], [0.4444444444444444, \"#bd3786\"], [0.5555555555555556, \"#d8576b\"], [0.6666666666666666, \"#ed7953\"], [0.7777777777777778, \"#fb9f3a\"], [0.8888888888888888, \"#fdca26\"], [1.0, \"#f0f921\"]]}, \"colorway\": [\"#636efa\", \"#EF553B\", \"#00cc96\", \"#ab63fa\", \"#FFA15A\", \"#19d3f3\", \"#FF6692\", \"#B6E880\", \"#FF97FF\", \"#FECB52\"], \"font\": {\"color\": \"#2a3f5f\"}, \"geo\": {\"bgcolor\": \"white\", \"lakecolor\": \"white\", \"landcolor\": \"white\", \"showlakes\": true, \"showland\": true, \"subunitcolor\": \"#C8D4E3\"}, \"hoverlabel\": {\"align\": \"left\"}, \"hovermode\": \"closest\", \"mapbox\": {\"style\": \"light\"}, \"paper_bgcolor\": \"white\", \"plot_bgcolor\": \"white\", \"polar\": {\"angularaxis\": {\"gridcolor\": \"#EBF0F8\", \"linecolor\": \"#EBF0F8\", \"ticks\": \"\"}, \"bgcolor\": \"white\", \"radialaxis\": {\"gridcolor\": \"#EBF0F8\", \"linecolor\": \"#EBF0F8\", \"ticks\": \"\"}}, \"scene\": {\"xaxis\": {\"backgroundcolor\": \"white\", \"gridcolor\": \"#DFE8F3\", \"gridwidth\": 2, \"linecolor\": \"#EBF0F8\", \"showbackground\": true, \"ticks\": \"\", \"zerolinecolor\": \"#EBF0F8\"}, \"yaxis\": {\"backgroundcolor\": \"white\", \"gridcolor\": \"#DFE8F3\", \"gridwidth\": 2, \"linecolor\": \"#EBF0F8\", \"showbackground\": true, \"ticks\": \"\", \"zerolinecolor\": \"#EBF0F8\"}, \"zaxis\": {\"backgroundcolor\": \"white\", \"gridcolor\": \"#DFE8F3\", \"gridwidth\": 2, \"linecolor\": \"#EBF0F8\", \"showbackground\": true, \"ticks\": \"\", \"zerolinecolor\": \"#EBF0F8\"}}, \"shapedefaults\": {\"line\": {\"color\": \"#2a3f5f\"}}, \"ternary\": {\"aaxis\": {\"gridcolor\": \"#DFE8F3\", \"linecolor\": \"#A2B1C6\", \"ticks\": \"\"}, \"baxis\": {\"gridcolor\": \"#DFE8F3\", \"linecolor\": \"#A2B1C6\", \"ticks\": \"\"}, \"bgcolor\": \"white\", \"caxis\": {\"gridcolor\": \"#DFE8F3\", \"linecolor\": \"#A2B1C6\", \"ticks\": \"\"}}, \"title\": {\"x\": 0.05}, \"xaxis\": {\"automargin\": true, \"gridcolor\": \"#EBF0F8\", \"linecolor\": \"#EBF0F8\", \"ticks\": \"\", \"title\": {\"standoff\": 15}, \"zerolinecolor\": \"#EBF0F8\", \"zerolinewidth\": 2}, \"yaxis\": {\"automargin\": true, \"gridcolor\": \"#EBF0F8\", \"linecolor\": \"#EBF0F8\", \"ticks\": \"\", \"title\": {\"standoff\": 15}, \"zerolinecolor\": \"#EBF0F8\", \"zerolinewidth\": 2}}}, \"title\": {\"text\": \"2Points Vs. 3Poins By a PLAYER\"}, \"xaxis\": {\"anchor\": \"y\", \"domain\": [0.0, 1.0], \"title\": {\"text\": \"FULL_NAME\"}}, \"yaxis\": {\"anchor\": \"x\", \"domain\": [0.0, 1.0], \"title\": {\"text\": \"two_pa\"}}},                        {\"responsive\": true}                    ).then(function(){\n",
              "                            \n",
              "var gd = document.getElementById('1b323c0b-536c-420a-b041-1548f6b90043');\n",
              "var x = new MutationObserver(function (mutations, observer) {{\n",
              "        var display = window.getComputedStyle(gd).display;\n",
              "        if (!display || display === 'none') {{\n",
              "            console.log([gd, 'removed!']);\n",
              "            Plotly.purge(gd);\n",
              "            observer.disconnect();\n",
              "        }}\n",
              "}});\n",
              "\n",
              "// Listen for the removal of the full notebook cells\n",
              "var notebookContainer = gd.closest('#notebook-container');\n",
              "if (notebookContainer) {{\n",
              "    x.observe(notebookContainer, {childList: true});\n",
              "}}\n",
              "\n",
              "// Listen for the clearing of the current output cell\n",
              "var outputEl = gd.closest('.output');\n",
              "if (outputEl) {{\n",
              "    x.observe(outputEl, {childList: true});\n",
              "}}\n",
              "\n",
              "                        })                };                            </script>        </div>\n",
              "</body>\n",
              "</html>"
            ]
          },
          "metadata": {
            "tags": []
          }
        }
      ]
    },
    {
      "cell_type": "markdown",
      "metadata": {
        "id": "yFwppUy3HJrz"
      },
      "source": [
        "#heatmap 2 Vs. 3 pts by a player "
      ]
    },
    {
      "cell_type": "code",
      "metadata": {
        "colab": {
          "base_uri": "https://localhost:8080/",
          "height": 542
        },
        "id": "V2VMY7fzchXJ",
        "outputId": "03bba00c-d435-4d63-9256-25b0c7ede941"
      },
      "source": [
        "fig = px.bar(df_lal, x=\"FULL_NAME\", y=\"three_pa\", color='two_pa', title='2Points Vs. 3Poins By a PLAYER', template='plotly_dark')\r\n",
        "fig.show()"
      ],
      "execution_count": null,
      "outputs": [
        {
          "output_type": "display_data",
          "data": {
            "text/html": [
              "<html>\n",
              "<head><meta charset=\"utf-8\" /></head>\n",
              "<body>\n",
              "    <div>            <script src=\"https://cdnjs.cloudflare.com/ajax/libs/mathjax/2.7.5/MathJax.js?config=TeX-AMS-MML_SVG\"></script><script type=\"text/javascript\">if (window.MathJax) {MathJax.Hub.Config({SVG: {font: \"STIX-Web\"}});}</script>                <script type=\"text/javascript\">window.PlotlyConfig = {MathJaxConfig: 'local'};</script>\n",
              "        <script src=\"https://cdn.plot.ly/plotly-latest.min.js\"></script>                <div id=\"a47269c5-ef9a-46a3-8905-5bec0add04dc\" class=\"plotly-graph-div\" style=\"height:525px; width:100%;\"></div>            <script type=\"text/javascript\">                                    window.PLOTLYENV=window.PLOTLYENV || {};                                    if (document.getElementById(\"a47269c5-ef9a-46a3-8905-5bec0add04dc\")) {                    Plotly.newPlot(                        \"a47269c5-ef9a-46a3-8905-5bec0add04dc\",                        [{\"alignmentgroup\": \"True\", \"hovertemplate\": \"FULL_NAME=%{x}<br>three_pa=%{y}<br>two_pa=%{marker.color}<extra></extra>\", \"legendgroup\": \"\", \"marker\": {\"color\": [70, 52, 6, 299, 1, 55, 7, 55, 263, 96, 30, 29, 71, 4, 8], \"coloraxis\": \"coloraxis\"}, \"name\": \"\", \"offsetgroup\": \"\", \"orientation\": \"v\", \"showlegend\": false, \"textposition\": \"auto\", \"type\": \"bar\", \"x\": [\"Kentavious Caldwell-Pope\", \"Alex Caruso\", \"Quinn Cook\", \"Anthony Davis\", \"Jared Dudley\", \"Danny Green\", \"Talen Horton-Tucker\", \"Dwight Howard\", \"LeBron James\", \"Kyle Kuzma\", \"JaVale McGee\", \"Markieff Morris\", \"Rajon Rondo\", \"JR Smith\", \"Dion Waiters\"], \"xaxis\": \"x\", \"y\": [119, 61, 4, 60, 3, 115, 5, 2, 119, 83, 2, 69, 50, 22, 4], \"yaxis\": \"y\"}],                        {\"barmode\": \"relative\", \"coloraxis\": {\"colorbar\": {\"title\": {\"text\": \"two_pa\"}}, \"colorscale\": [[0.0, \"#0d0887\"], [0.1111111111111111, \"#46039f\"], [0.2222222222222222, \"#7201a8\"], [0.3333333333333333, \"#9c179e\"], [0.4444444444444444, \"#bd3786\"], [0.5555555555555556, \"#d8576b\"], [0.6666666666666666, \"#ed7953\"], [0.7777777777777778, \"#fb9f3a\"], [0.8888888888888888, \"#fdca26\"], [1.0, \"#f0f921\"]]}, \"legend\": {\"tracegroupgap\": 0}, \"template\": {\"data\": {\"bar\": [{\"error_x\": {\"color\": \"#f2f5fa\"}, \"error_y\": {\"color\": \"#f2f5fa\"}, \"marker\": {\"line\": {\"color\": \"rgb(17,17,17)\", \"width\": 0.5}}, \"type\": \"bar\"}], \"barpolar\": [{\"marker\": {\"line\": {\"color\": \"rgb(17,17,17)\", \"width\": 0.5}}, \"type\": \"barpolar\"}], \"carpet\": [{\"aaxis\": {\"endlinecolor\": \"#A2B1C6\", \"gridcolor\": \"#506784\", \"linecolor\": \"#506784\", \"minorgridcolor\": \"#506784\", \"startlinecolor\": \"#A2B1C6\"}, \"baxis\": {\"endlinecolor\": \"#A2B1C6\", \"gridcolor\": \"#506784\", \"linecolor\": \"#506784\", \"minorgridcolor\": \"#506784\", \"startlinecolor\": \"#A2B1C6\"}, \"type\": \"carpet\"}], \"choropleth\": [{\"colorbar\": {\"outlinewidth\": 0, \"ticks\": \"\"}, \"type\": \"choropleth\"}], \"contour\": [{\"colorbar\": {\"outlinewidth\": 0, \"ticks\": \"\"}, \"colorscale\": [[0.0, \"#0d0887\"], [0.1111111111111111, \"#46039f\"], [0.2222222222222222, \"#7201a8\"], [0.3333333333333333, \"#9c179e\"], [0.4444444444444444, \"#bd3786\"], [0.5555555555555556, \"#d8576b\"], [0.6666666666666666, \"#ed7953\"], [0.7777777777777778, \"#fb9f3a\"], [0.8888888888888888, \"#fdca26\"], [1.0, \"#f0f921\"]], \"type\": \"contour\"}], \"contourcarpet\": [{\"colorbar\": {\"outlinewidth\": 0, \"ticks\": \"\"}, \"type\": \"contourcarpet\"}], \"heatmap\": [{\"colorbar\": {\"outlinewidth\": 0, \"ticks\": \"\"}, \"colorscale\": [[0.0, \"#0d0887\"], [0.1111111111111111, \"#46039f\"], [0.2222222222222222, \"#7201a8\"], [0.3333333333333333, \"#9c179e\"], [0.4444444444444444, \"#bd3786\"], [0.5555555555555556, \"#d8576b\"], [0.6666666666666666, \"#ed7953\"], [0.7777777777777778, \"#fb9f3a\"], [0.8888888888888888, \"#fdca26\"], [1.0, \"#f0f921\"]], \"type\": \"heatmap\"}], \"heatmapgl\": [{\"colorbar\": {\"outlinewidth\": 0, \"ticks\": \"\"}, \"colorscale\": [[0.0, \"#0d0887\"], [0.1111111111111111, \"#46039f\"], [0.2222222222222222, \"#7201a8\"], [0.3333333333333333, \"#9c179e\"], [0.4444444444444444, \"#bd3786\"], [0.5555555555555556, \"#d8576b\"], [0.6666666666666666, \"#ed7953\"], [0.7777777777777778, \"#fb9f3a\"], [0.8888888888888888, \"#fdca26\"], [1.0, \"#f0f921\"]], \"type\": \"heatmapgl\"}], \"histogram\": [{\"marker\": {\"colorbar\": {\"outlinewidth\": 0, \"ticks\": \"\"}}, \"type\": \"histogram\"}], \"histogram2d\": [{\"colorbar\": {\"outlinewidth\": 0, \"ticks\": \"\"}, \"colorscale\": [[0.0, \"#0d0887\"], [0.1111111111111111, \"#46039f\"], [0.2222222222222222, \"#7201a8\"], [0.3333333333333333, \"#9c179e\"], [0.4444444444444444, \"#bd3786\"], [0.5555555555555556, \"#d8576b\"], [0.6666666666666666, \"#ed7953\"], [0.7777777777777778, \"#fb9f3a\"], [0.8888888888888888, \"#fdca26\"], [1.0, \"#f0f921\"]], \"type\": \"histogram2d\"}], \"histogram2dcontour\": [{\"colorbar\": {\"outlinewidth\": 0, \"ticks\": \"\"}, \"colorscale\": [[0.0, \"#0d0887\"], [0.1111111111111111, \"#46039f\"], [0.2222222222222222, \"#7201a8\"], [0.3333333333333333, \"#9c179e\"], [0.4444444444444444, \"#bd3786\"], [0.5555555555555556, \"#d8576b\"], [0.6666666666666666, \"#ed7953\"], [0.7777777777777778, \"#fb9f3a\"], [0.8888888888888888, \"#fdca26\"], [1.0, \"#f0f921\"]], \"type\": \"histogram2dcontour\"}], \"mesh3d\": [{\"colorbar\": {\"outlinewidth\": 0, \"ticks\": \"\"}, \"type\": \"mesh3d\"}], \"parcoords\": [{\"line\": {\"colorbar\": {\"outlinewidth\": 0, \"ticks\": \"\"}}, \"type\": \"parcoords\"}], \"pie\": [{\"automargin\": true, \"type\": \"pie\"}], \"scatter\": [{\"marker\": {\"line\": {\"color\": \"#283442\"}}, \"type\": \"scatter\"}], \"scatter3d\": [{\"line\": {\"colorbar\": {\"outlinewidth\": 0, \"ticks\": \"\"}}, \"marker\": {\"colorbar\": {\"outlinewidth\": 0, \"ticks\": \"\"}}, \"type\": \"scatter3d\"}], \"scattercarpet\": [{\"marker\": {\"colorbar\": {\"outlinewidth\": 0, \"ticks\": \"\"}}, \"type\": \"scattercarpet\"}], \"scattergeo\": [{\"marker\": {\"colorbar\": {\"outlinewidth\": 0, \"ticks\": \"\"}}, \"type\": \"scattergeo\"}], \"scattergl\": [{\"marker\": {\"line\": {\"color\": \"#283442\"}}, \"type\": \"scattergl\"}], \"scattermapbox\": [{\"marker\": {\"colorbar\": {\"outlinewidth\": 0, \"ticks\": \"\"}}, \"type\": \"scattermapbox\"}], \"scatterpolar\": [{\"marker\": {\"colorbar\": {\"outlinewidth\": 0, \"ticks\": \"\"}}, \"type\": \"scatterpolar\"}], \"scatterpolargl\": [{\"marker\": {\"colorbar\": {\"outlinewidth\": 0, \"ticks\": \"\"}}, \"type\": \"scatterpolargl\"}], \"scatterternary\": [{\"marker\": {\"colorbar\": {\"outlinewidth\": 0, \"ticks\": \"\"}}, \"type\": \"scatterternary\"}], \"surface\": [{\"colorbar\": {\"outlinewidth\": 0, \"ticks\": \"\"}, \"colorscale\": [[0.0, \"#0d0887\"], [0.1111111111111111, \"#46039f\"], [0.2222222222222222, \"#7201a8\"], [0.3333333333333333, \"#9c179e\"], [0.4444444444444444, \"#bd3786\"], [0.5555555555555556, \"#d8576b\"], [0.6666666666666666, \"#ed7953\"], [0.7777777777777778, \"#fb9f3a\"], [0.8888888888888888, \"#fdca26\"], [1.0, \"#f0f921\"]], \"type\": \"surface\"}], \"table\": [{\"cells\": {\"fill\": {\"color\": \"#506784\"}, \"line\": {\"color\": \"rgb(17,17,17)\"}}, \"header\": {\"fill\": {\"color\": \"#2a3f5f\"}, \"line\": {\"color\": \"rgb(17,17,17)\"}}, \"type\": \"table\"}]}, \"layout\": {\"annotationdefaults\": {\"arrowcolor\": \"#f2f5fa\", \"arrowhead\": 0, \"arrowwidth\": 1}, \"autotypenumbers\": \"strict\", \"coloraxis\": {\"colorbar\": {\"outlinewidth\": 0, \"ticks\": \"\"}}, \"colorscale\": {\"diverging\": [[0, \"#8e0152\"], [0.1, \"#c51b7d\"], [0.2, \"#de77ae\"], [0.3, \"#f1b6da\"], [0.4, \"#fde0ef\"], [0.5, \"#f7f7f7\"], [0.6, \"#e6f5d0\"], [0.7, \"#b8e186\"], [0.8, \"#7fbc41\"], [0.9, \"#4d9221\"], [1, \"#276419\"]], \"sequential\": [[0.0, \"#0d0887\"], [0.1111111111111111, \"#46039f\"], [0.2222222222222222, \"#7201a8\"], [0.3333333333333333, \"#9c179e\"], [0.4444444444444444, \"#bd3786\"], [0.5555555555555556, \"#d8576b\"], [0.6666666666666666, \"#ed7953\"], [0.7777777777777778, \"#fb9f3a\"], [0.8888888888888888, \"#fdca26\"], [1.0, \"#f0f921\"]], \"sequentialminus\": [[0.0, \"#0d0887\"], [0.1111111111111111, \"#46039f\"], [0.2222222222222222, \"#7201a8\"], [0.3333333333333333, \"#9c179e\"], [0.4444444444444444, \"#bd3786\"], [0.5555555555555556, \"#d8576b\"], [0.6666666666666666, \"#ed7953\"], [0.7777777777777778, \"#fb9f3a\"], [0.8888888888888888, \"#fdca26\"], [1.0, \"#f0f921\"]]}, \"colorway\": [\"#636efa\", \"#EF553B\", \"#00cc96\", \"#ab63fa\", \"#FFA15A\", \"#19d3f3\", \"#FF6692\", \"#B6E880\", \"#FF97FF\", \"#FECB52\"], \"font\": {\"color\": \"#f2f5fa\"}, \"geo\": {\"bgcolor\": \"rgb(17,17,17)\", \"lakecolor\": \"rgb(17,17,17)\", \"landcolor\": \"rgb(17,17,17)\", \"showlakes\": true, \"showland\": true, \"subunitcolor\": \"#506784\"}, \"hoverlabel\": {\"align\": \"left\"}, \"hovermode\": \"closest\", \"mapbox\": {\"style\": \"dark\"}, \"paper_bgcolor\": \"rgb(17,17,17)\", \"plot_bgcolor\": \"rgb(17,17,17)\", \"polar\": {\"angularaxis\": {\"gridcolor\": \"#506784\", \"linecolor\": \"#506784\", \"ticks\": \"\"}, \"bgcolor\": \"rgb(17,17,17)\", \"radialaxis\": {\"gridcolor\": \"#506784\", \"linecolor\": \"#506784\", \"ticks\": \"\"}}, \"scene\": {\"xaxis\": {\"backgroundcolor\": \"rgb(17,17,17)\", \"gridcolor\": \"#506784\", \"gridwidth\": 2, \"linecolor\": \"#506784\", \"showbackground\": true, \"ticks\": \"\", \"zerolinecolor\": \"#C8D4E3\"}, \"yaxis\": {\"backgroundcolor\": \"rgb(17,17,17)\", \"gridcolor\": \"#506784\", \"gridwidth\": 2, \"linecolor\": \"#506784\", \"showbackground\": true, \"ticks\": \"\", \"zerolinecolor\": \"#C8D4E3\"}, \"zaxis\": {\"backgroundcolor\": \"rgb(17,17,17)\", \"gridcolor\": \"#506784\", \"gridwidth\": 2, \"linecolor\": \"#506784\", \"showbackground\": true, \"ticks\": \"\", \"zerolinecolor\": \"#C8D4E3\"}}, \"shapedefaults\": {\"line\": {\"color\": \"#f2f5fa\"}}, \"sliderdefaults\": {\"bgcolor\": \"#C8D4E3\", \"bordercolor\": \"rgb(17,17,17)\", \"borderwidth\": 1, \"tickwidth\": 0}, \"ternary\": {\"aaxis\": {\"gridcolor\": \"#506784\", \"linecolor\": \"#506784\", \"ticks\": \"\"}, \"baxis\": {\"gridcolor\": \"#506784\", \"linecolor\": \"#506784\", \"ticks\": \"\"}, \"bgcolor\": \"rgb(17,17,17)\", \"caxis\": {\"gridcolor\": \"#506784\", \"linecolor\": \"#506784\", \"ticks\": \"\"}}, \"title\": {\"x\": 0.05}, \"updatemenudefaults\": {\"bgcolor\": \"#506784\", \"borderwidth\": 0}, \"xaxis\": {\"automargin\": true, \"gridcolor\": \"#283442\", \"linecolor\": \"#506784\", \"ticks\": \"\", \"title\": {\"standoff\": 15}, \"zerolinecolor\": \"#283442\", \"zerolinewidth\": 2}, \"yaxis\": {\"automargin\": true, \"gridcolor\": \"#283442\", \"linecolor\": \"#506784\", \"ticks\": \"\", \"title\": {\"standoff\": 15}, \"zerolinecolor\": \"#283442\", \"zerolinewidth\": 2}}}, \"title\": {\"text\": \"2Points Vs. 3Poins By a PLAYER\"}, \"xaxis\": {\"anchor\": \"y\", \"domain\": [0.0, 1.0], \"title\": {\"text\": \"FULL_NAME\"}}, \"yaxis\": {\"anchor\": \"x\", \"domain\": [0.0, 1.0], \"title\": {\"text\": \"three_pa\"}}},                        {\"responsive\": true}                    ).then(function(){\n",
              "                            \n",
              "var gd = document.getElementById('a47269c5-ef9a-46a3-8905-5bec0add04dc');\n",
              "var x = new MutationObserver(function (mutations, observer) {{\n",
              "        var display = window.getComputedStyle(gd).display;\n",
              "        if (!display || display === 'none') {{\n",
              "            console.log([gd, 'removed!']);\n",
              "            Plotly.purge(gd);\n",
              "            observer.disconnect();\n",
              "        }}\n",
              "}});\n",
              "\n",
              "// Listen for the removal of the full notebook cells\n",
              "var notebookContainer = gd.closest('#notebook-container');\n",
              "if (notebookContainer) {{\n",
              "    x.observe(notebookContainer, {childList: true});\n",
              "}}\n",
              "\n",
              "// Listen for the clearing of the current output cell\n",
              "var outputEl = gd.closest('.output');\n",
              "if (outputEl) {{\n",
              "    x.observe(outputEl, {childList: true});\n",
              "}}\n",
              "\n",
              "                        })                };                            </script>        </div>\n",
              "</body>\n",
              "</html>"
            ]
          },
          "metadata": {
            "tags": []
          }
        }
      ]
    },
    {
      "cell_type": "markdown",
      "metadata": {
        "id": "2zHlbQ44HTRw"
      },
      "source": [
        "#Scatter plot 2 Vs. 3 by a player"
      ]
    },
    {
      "cell_type": "code",
      "metadata": {
        "id": "DFYcTqwlaSdG",
        "colab": {
          "base_uri": "https://localhost:8080/",
          "height": 542
        },
        "outputId": "2c662736-adc8-4532-e04c-3db1364d804f"
      },
      "source": [
        "px.scatter(df_lal, x = 'two_pa', y = 'three_pa', color = 'FULL_NAME', title  = '2 Vs. 3 Pts', template = 'seaborn')"
      ],
      "execution_count": null,
      "outputs": [
        {
          "output_type": "display_data",
          "data": {
            "text/html": [
              "<html>\n",
              "<head><meta charset=\"utf-8\" /></head>\n",
              "<body>\n",
              "    <div>            <script src=\"https://cdnjs.cloudflare.com/ajax/libs/mathjax/2.7.5/MathJax.js?config=TeX-AMS-MML_SVG\"></script><script type=\"text/javascript\">if (window.MathJax) {MathJax.Hub.Config({SVG: {font: \"STIX-Web\"}});}</script>                <script type=\"text/javascript\">window.PlotlyConfig = {MathJaxConfig: 'local'};</script>\n",
              "        <script src=\"https://cdn.plot.ly/plotly-latest.min.js\"></script>                <div id=\"63375942-3209-4d00-97b2-7ae4a3cc0b7f\" class=\"plotly-graph-div\" style=\"height:525px; width:100%;\"></div>            <script type=\"text/javascript\">                                    window.PLOTLYENV=window.PLOTLYENV || {};                                    if (document.getElementById(\"63375942-3209-4d00-97b2-7ae4a3cc0b7f\")) {                    Plotly.newPlot(                        \"63375942-3209-4d00-97b2-7ae4a3cc0b7f\",                        [{\"hovertemplate\": \"FULL_NAME=Kentavious Caldwell-Pope<br>two_pa=%{x}<br>three_pa=%{y}<extra></extra>\", \"legendgroup\": \"Kentavious Caldwell-Pope\", \"marker\": {\"color\": \"rgb(76,114,176)\", \"symbol\": \"circle\"}, \"mode\": \"markers\", \"name\": \"Kentavious Caldwell-Pope\", \"orientation\": \"v\", \"showlegend\": true, \"type\": \"scatter\", \"x\": [70], \"xaxis\": \"x\", \"y\": [119], \"yaxis\": \"y\"}, {\"hovertemplate\": \"FULL_NAME=Alex Caruso<br>two_pa=%{x}<br>three_pa=%{y}<extra></extra>\", \"legendgroup\": \"Alex Caruso\", \"marker\": {\"color\": \"rgb(221,132,82)\", \"symbol\": \"circle\"}, \"mode\": \"markers\", \"name\": \"Alex Caruso\", \"orientation\": \"v\", \"showlegend\": true, \"type\": \"scatter\", \"x\": [52], \"xaxis\": \"x\", \"y\": [61], \"yaxis\": \"y\"}, {\"hovertemplate\": \"FULL_NAME=Quinn Cook<br>two_pa=%{x}<br>three_pa=%{y}<extra></extra>\", \"legendgroup\": \"Quinn Cook\", \"marker\": {\"color\": \"rgb(85,168,104)\", \"symbol\": \"circle\"}, \"mode\": \"markers\", \"name\": \"Quinn Cook\", \"orientation\": \"v\", \"showlegend\": true, \"type\": \"scatter\", \"x\": [6], \"xaxis\": \"x\", \"y\": [4], \"yaxis\": \"y\"}, {\"hovertemplate\": \"FULL_NAME=Anthony Davis<br>two_pa=%{x}<br>three_pa=%{y}<extra></extra>\", \"legendgroup\": \"Anthony Davis\", \"marker\": {\"color\": \"rgb(196,78,82)\", \"symbol\": \"circle\"}, \"mode\": \"markers\", \"name\": \"Anthony Davis\", \"orientation\": \"v\", \"showlegend\": true, \"type\": \"scatter\", \"x\": [299], \"xaxis\": \"x\", \"y\": [60], \"yaxis\": \"y\"}, {\"hovertemplate\": \"FULL_NAME=Jared Dudley<br>two_pa=%{x}<br>three_pa=%{y}<extra></extra>\", \"legendgroup\": \"Jared Dudley\", \"marker\": {\"color\": \"rgb(129,114,179)\", \"symbol\": \"circle\"}, \"mode\": \"markers\", \"name\": \"Jared Dudley\", \"orientation\": \"v\", \"showlegend\": true, \"type\": \"scatter\", \"x\": [1], \"xaxis\": \"x\", \"y\": [3], \"yaxis\": \"y\"}, {\"hovertemplate\": \"FULL_NAME=Danny Green<br>two_pa=%{x}<br>three_pa=%{y}<extra></extra>\", \"legendgroup\": \"Danny Green\", \"marker\": {\"color\": \"rgb(147,120,96)\", \"symbol\": \"circle\"}, \"mode\": \"markers\", \"name\": \"Danny Green\", \"orientation\": \"v\", \"showlegend\": true, \"type\": \"scatter\", \"x\": [55], \"xaxis\": \"x\", \"y\": [115], \"yaxis\": \"y\"}, {\"hovertemplate\": \"FULL_NAME=Talen Horton-Tucker<br>two_pa=%{x}<br>three_pa=%{y}<extra></extra>\", \"legendgroup\": \"Talen Horton-Tucker\", \"marker\": {\"color\": \"rgb(218,139,195)\", \"symbol\": \"circle\"}, \"mode\": \"markers\", \"name\": \"Talen Horton-Tucker\", \"orientation\": \"v\", \"showlegend\": true, \"type\": \"scatter\", \"x\": [7], \"xaxis\": \"x\", \"y\": [5], \"yaxis\": \"y\"}, {\"hovertemplate\": \"FULL_NAME=Dwight Howard<br>two_pa=%{x}<br>three_pa=%{y}<extra></extra>\", \"legendgroup\": \"Dwight Howard\", \"marker\": {\"color\": \"rgb(140,140,140)\", \"symbol\": \"circle\"}, \"mode\": \"markers\", \"name\": \"Dwight Howard\", \"orientation\": \"v\", \"showlegend\": true, \"type\": \"scatter\", \"x\": [55], \"xaxis\": \"x\", \"y\": [2], \"yaxis\": \"y\"}, {\"hovertemplate\": \"FULL_NAME=LeBron James<br>two_pa=%{x}<br>three_pa=%{y}<extra></extra>\", \"legendgroup\": \"LeBron James\", \"marker\": {\"color\": \"rgb(204,185,116)\", \"symbol\": \"circle\"}, \"mode\": \"markers\", \"name\": \"LeBron James\", \"orientation\": \"v\", \"showlegend\": true, \"type\": \"scatter\", \"x\": [263], \"xaxis\": \"x\", \"y\": [119], \"yaxis\": \"y\"}, {\"hovertemplate\": \"FULL_NAME=Kyle Kuzma<br>two_pa=%{x}<br>three_pa=%{y}<extra></extra>\", \"legendgroup\": \"Kyle Kuzma\", \"marker\": {\"color\": \"rgb(100,181,205)\", \"symbol\": \"circle\"}, \"mode\": \"markers\", \"name\": \"Kyle Kuzma\", \"orientation\": \"v\", \"showlegend\": true, \"type\": \"scatter\", \"x\": [96], \"xaxis\": \"x\", \"y\": [83], \"yaxis\": \"y\"}, {\"hovertemplate\": \"FULL_NAME=JaVale McGee<br>two_pa=%{x}<br>three_pa=%{y}<extra></extra>\", \"legendgroup\": \"JaVale McGee\", \"marker\": {\"color\": \"rgb(76,114,176)\", \"symbol\": \"circle\"}, \"mode\": \"markers\", \"name\": \"JaVale McGee\", \"orientation\": \"v\", \"showlegend\": true, \"type\": \"scatter\", \"x\": [30], \"xaxis\": \"x\", \"y\": [2], \"yaxis\": \"y\"}, {\"hovertemplate\": \"FULL_NAME=Markieff Morris<br>two_pa=%{x}<br>three_pa=%{y}<extra></extra>\", \"legendgroup\": \"Markieff Morris\", \"marker\": {\"color\": \"rgb(221,132,82)\", \"symbol\": \"circle\"}, \"mode\": \"markers\", \"name\": \"Markieff Morris\", \"orientation\": \"v\", \"showlegend\": true, \"type\": \"scatter\", \"x\": [29], \"xaxis\": \"x\", \"y\": [69], \"yaxis\": \"y\"}, {\"hovertemplate\": \"FULL_NAME=Rajon Rondo<br>two_pa=%{x}<br>three_pa=%{y}<extra></extra>\", \"legendgroup\": \"Rajon Rondo\", \"marker\": {\"color\": \"rgb(85,168,104)\", \"symbol\": \"circle\"}, \"mode\": \"markers\", \"name\": \"Rajon Rondo\", \"orientation\": \"v\", \"showlegend\": true, \"type\": \"scatter\", \"x\": [71], \"xaxis\": \"x\", \"y\": [50], \"yaxis\": \"y\"}, {\"hovertemplate\": \"FULL_NAME=JR Smith<br>two_pa=%{x}<br>three_pa=%{y}<extra></extra>\", \"legendgroup\": \"JR Smith\", \"marker\": {\"color\": \"rgb(196,78,82)\", \"symbol\": \"circle\"}, \"mode\": \"markers\", \"name\": \"JR Smith\", \"orientation\": \"v\", \"showlegend\": true, \"type\": \"scatter\", \"x\": [4], \"xaxis\": \"x\", \"y\": [22], \"yaxis\": \"y\"}, {\"hovertemplate\": \"FULL_NAME=Dion Waiters<br>two_pa=%{x}<br>three_pa=%{y}<extra></extra>\", \"legendgroup\": \"Dion Waiters\", \"marker\": {\"color\": \"rgb(129,114,179)\", \"symbol\": \"circle\"}, \"mode\": \"markers\", \"name\": \"Dion Waiters\", \"orientation\": \"v\", \"showlegend\": true, \"type\": \"scatter\", \"x\": [8], \"xaxis\": \"x\", \"y\": [4], \"yaxis\": \"y\"}],                        {\"legend\": {\"title\": {\"text\": \"FULL_NAME\"}, \"tracegroupgap\": 0}, \"template\": {\"data\": {\"bar\": [{\"error_x\": {\"color\": \"rgb(36,36,36)\"}, \"error_y\": {\"color\": \"rgb(36,36,36)\"}, \"marker\": {\"line\": {\"color\": \"rgb(234,234,242)\", \"width\": 0.5}}, \"type\": \"bar\"}], \"barpolar\": [{\"marker\": {\"line\": {\"color\": \"rgb(234,234,242)\", \"width\": 0.5}}, \"type\": \"barpolar\"}], \"carpet\": [{\"aaxis\": {\"endlinecolor\": \"rgb(36,36,36)\", \"gridcolor\": \"white\", \"linecolor\": \"white\", \"minorgridcolor\": \"white\", \"startlinecolor\": \"rgb(36,36,36)\"}, \"baxis\": {\"endlinecolor\": \"rgb(36,36,36)\", \"gridcolor\": \"white\", \"linecolor\": \"white\", \"minorgridcolor\": \"white\", \"startlinecolor\": \"rgb(36,36,36)\"}, \"type\": \"carpet\"}], \"choropleth\": [{\"colorbar\": {\"outlinewidth\": 0, \"tickcolor\": \"rgb(36,36,36)\", \"ticklen\": 8, \"ticks\": \"outside\", \"tickwidth\": 2}, \"type\": \"choropleth\"}], \"contour\": [{\"colorbar\": {\"outlinewidth\": 0, \"tickcolor\": \"rgb(36,36,36)\", \"ticklen\": 8, \"ticks\": \"outside\", \"tickwidth\": 2}, \"colorscale\": [[0.0, \"rgb(2,4,25)\"], [0.06274509803921569, \"rgb(24,15,41)\"], [0.12549019607843137, \"rgb(47,23,57)\"], [0.18823529411764706, \"rgb(71,28,72)\"], [0.25098039215686274, \"rgb(97,30,82)\"], [0.3137254901960784, \"rgb(123,30,89)\"], [0.3764705882352941, \"rgb(150,27,91)\"], [0.4392156862745098, \"rgb(177,22,88)\"], [0.5019607843137255, \"rgb(203,26,79)\"], [0.5647058823529412, \"rgb(223,47,67)\"], [0.6274509803921569, \"rgb(236,76,61)\"], [0.6901960784313725, \"rgb(242,107,73)\"], [0.7529411764705882, \"rgb(244,135,95)\"], [0.8156862745098039, \"rgb(245,162,122)\"], [0.8784313725490196, \"rgb(246,188,153)\"], [0.9411764705882353, \"rgb(247,212,187)\"], [1.0, \"rgb(250,234,220)\"]], \"type\": \"contour\"}], \"contourcarpet\": [{\"colorbar\": {\"outlinewidth\": 0, \"tickcolor\": \"rgb(36,36,36)\", \"ticklen\": 8, \"ticks\": \"outside\", \"tickwidth\": 2}, \"type\": \"contourcarpet\"}], \"heatmap\": [{\"colorbar\": {\"outlinewidth\": 0, \"tickcolor\": \"rgb(36,36,36)\", \"ticklen\": 8, \"ticks\": \"outside\", \"tickwidth\": 2}, \"colorscale\": [[0.0, \"rgb(2,4,25)\"], [0.06274509803921569, \"rgb(24,15,41)\"], [0.12549019607843137, \"rgb(47,23,57)\"], [0.18823529411764706, \"rgb(71,28,72)\"], [0.25098039215686274, \"rgb(97,30,82)\"], [0.3137254901960784, \"rgb(123,30,89)\"], [0.3764705882352941, \"rgb(150,27,91)\"], [0.4392156862745098, \"rgb(177,22,88)\"], [0.5019607843137255, \"rgb(203,26,79)\"], [0.5647058823529412, \"rgb(223,47,67)\"], [0.6274509803921569, \"rgb(236,76,61)\"], [0.6901960784313725, \"rgb(242,107,73)\"], [0.7529411764705882, \"rgb(244,135,95)\"], [0.8156862745098039, \"rgb(245,162,122)\"], [0.8784313725490196, \"rgb(246,188,153)\"], [0.9411764705882353, \"rgb(247,212,187)\"], [1.0, \"rgb(250,234,220)\"]], \"type\": \"heatmap\"}], \"heatmapgl\": [{\"colorbar\": {\"outlinewidth\": 0, \"tickcolor\": \"rgb(36,36,36)\", \"ticklen\": 8, \"ticks\": \"outside\", \"tickwidth\": 2}, \"colorscale\": [[0.0, \"rgb(2,4,25)\"], [0.06274509803921569, \"rgb(24,15,41)\"], [0.12549019607843137, \"rgb(47,23,57)\"], [0.18823529411764706, \"rgb(71,28,72)\"], [0.25098039215686274, \"rgb(97,30,82)\"], [0.3137254901960784, \"rgb(123,30,89)\"], [0.3764705882352941, \"rgb(150,27,91)\"], [0.4392156862745098, \"rgb(177,22,88)\"], [0.5019607843137255, \"rgb(203,26,79)\"], [0.5647058823529412, \"rgb(223,47,67)\"], [0.6274509803921569, \"rgb(236,76,61)\"], [0.6901960784313725, \"rgb(242,107,73)\"], [0.7529411764705882, \"rgb(244,135,95)\"], [0.8156862745098039, \"rgb(245,162,122)\"], [0.8784313725490196, \"rgb(246,188,153)\"], [0.9411764705882353, \"rgb(247,212,187)\"], [1.0, \"rgb(250,234,220)\"]], \"type\": \"heatmapgl\"}], \"histogram\": [{\"marker\": {\"colorbar\": {\"outlinewidth\": 0, \"tickcolor\": \"rgb(36,36,36)\", \"ticklen\": 8, \"ticks\": \"outside\", \"tickwidth\": 2}}, \"type\": \"histogram\"}], \"histogram2d\": [{\"colorbar\": {\"outlinewidth\": 0, \"tickcolor\": \"rgb(36,36,36)\", \"ticklen\": 8, \"ticks\": \"outside\", \"tickwidth\": 2}, \"colorscale\": [[0.0, \"rgb(2,4,25)\"], [0.06274509803921569, \"rgb(24,15,41)\"], [0.12549019607843137, \"rgb(47,23,57)\"], [0.18823529411764706, \"rgb(71,28,72)\"], [0.25098039215686274, \"rgb(97,30,82)\"], [0.3137254901960784, \"rgb(123,30,89)\"], [0.3764705882352941, \"rgb(150,27,91)\"], [0.4392156862745098, \"rgb(177,22,88)\"], [0.5019607843137255, \"rgb(203,26,79)\"], [0.5647058823529412, \"rgb(223,47,67)\"], [0.6274509803921569, \"rgb(236,76,61)\"], [0.6901960784313725, \"rgb(242,107,73)\"], [0.7529411764705882, \"rgb(244,135,95)\"], [0.8156862745098039, \"rgb(245,162,122)\"], [0.8784313725490196, \"rgb(246,188,153)\"], [0.9411764705882353, \"rgb(247,212,187)\"], [1.0, \"rgb(250,234,220)\"]], \"type\": \"histogram2d\"}], \"histogram2dcontour\": [{\"colorbar\": {\"outlinewidth\": 0, \"tickcolor\": \"rgb(36,36,36)\", \"ticklen\": 8, \"ticks\": \"outside\", \"tickwidth\": 2}, \"colorscale\": [[0.0, \"rgb(2,4,25)\"], [0.06274509803921569, \"rgb(24,15,41)\"], [0.12549019607843137, \"rgb(47,23,57)\"], [0.18823529411764706, \"rgb(71,28,72)\"], [0.25098039215686274, \"rgb(97,30,82)\"], [0.3137254901960784, \"rgb(123,30,89)\"], [0.3764705882352941, \"rgb(150,27,91)\"], [0.4392156862745098, \"rgb(177,22,88)\"], [0.5019607843137255, \"rgb(203,26,79)\"], [0.5647058823529412, \"rgb(223,47,67)\"], [0.6274509803921569, \"rgb(236,76,61)\"], [0.6901960784313725, \"rgb(242,107,73)\"], [0.7529411764705882, \"rgb(244,135,95)\"], [0.8156862745098039, \"rgb(245,162,122)\"], [0.8784313725490196, \"rgb(246,188,153)\"], [0.9411764705882353, \"rgb(247,212,187)\"], [1.0, \"rgb(250,234,220)\"]], \"type\": \"histogram2dcontour\"}], \"mesh3d\": [{\"colorbar\": {\"outlinewidth\": 0, \"tickcolor\": \"rgb(36,36,36)\", \"ticklen\": 8, \"ticks\": \"outside\", \"tickwidth\": 2}, \"type\": \"mesh3d\"}], \"parcoords\": [{\"line\": {\"colorbar\": {\"outlinewidth\": 0, \"tickcolor\": \"rgb(36,36,36)\", \"ticklen\": 8, \"ticks\": \"outside\", \"tickwidth\": 2}}, \"type\": \"parcoords\"}], \"pie\": [{\"automargin\": true, \"type\": \"pie\"}], \"scatter\": [{\"marker\": {\"colorbar\": {\"outlinewidth\": 0, \"tickcolor\": \"rgb(36,36,36)\", \"ticklen\": 8, \"ticks\": \"outside\", \"tickwidth\": 2}}, \"type\": \"scatter\"}], \"scatter3d\": [{\"line\": {\"colorbar\": {\"outlinewidth\": 0, \"tickcolor\": \"rgb(36,36,36)\", \"ticklen\": 8, \"ticks\": \"outside\", \"tickwidth\": 2}}, \"marker\": {\"colorbar\": {\"outlinewidth\": 0, \"tickcolor\": \"rgb(36,36,36)\", \"ticklen\": 8, \"ticks\": \"outside\", \"tickwidth\": 2}}, \"type\": \"scatter3d\"}], \"scattercarpet\": [{\"marker\": {\"colorbar\": {\"outlinewidth\": 0, \"tickcolor\": \"rgb(36,36,36)\", \"ticklen\": 8, \"ticks\": \"outside\", \"tickwidth\": 2}}, \"type\": \"scattercarpet\"}], \"scattergeo\": [{\"marker\": {\"colorbar\": {\"outlinewidth\": 0, \"tickcolor\": \"rgb(36,36,36)\", \"ticklen\": 8, \"ticks\": \"outside\", \"tickwidth\": 2}}, \"type\": \"scattergeo\"}], \"scattergl\": [{\"marker\": {\"colorbar\": {\"outlinewidth\": 0, \"tickcolor\": \"rgb(36,36,36)\", \"ticklen\": 8, \"ticks\": \"outside\", \"tickwidth\": 2}}, \"type\": \"scattergl\"}], \"scattermapbox\": [{\"marker\": {\"colorbar\": {\"outlinewidth\": 0, \"tickcolor\": \"rgb(36,36,36)\", \"ticklen\": 8, \"ticks\": \"outside\", \"tickwidth\": 2}}, \"type\": \"scattermapbox\"}], \"scatterpolar\": [{\"marker\": {\"colorbar\": {\"outlinewidth\": 0, \"tickcolor\": \"rgb(36,36,36)\", \"ticklen\": 8, \"ticks\": \"outside\", \"tickwidth\": 2}}, \"type\": \"scatterpolar\"}], \"scatterpolargl\": [{\"marker\": {\"colorbar\": {\"outlinewidth\": 0, \"tickcolor\": \"rgb(36,36,36)\", \"ticklen\": 8, \"ticks\": \"outside\", \"tickwidth\": 2}}, \"type\": \"scatterpolargl\"}], \"scatterternary\": [{\"marker\": {\"colorbar\": {\"outlinewidth\": 0, \"tickcolor\": \"rgb(36,36,36)\", \"ticklen\": 8, \"ticks\": \"outside\", \"tickwidth\": 2}}, \"type\": \"scatterternary\"}], \"surface\": [{\"colorbar\": {\"outlinewidth\": 0, \"tickcolor\": \"rgb(36,36,36)\", \"ticklen\": 8, \"ticks\": \"outside\", \"tickwidth\": 2}, \"colorscale\": [[0.0, \"rgb(2,4,25)\"], [0.06274509803921569, \"rgb(24,15,41)\"], [0.12549019607843137, \"rgb(47,23,57)\"], [0.18823529411764706, \"rgb(71,28,72)\"], [0.25098039215686274, \"rgb(97,30,82)\"], [0.3137254901960784, \"rgb(123,30,89)\"], [0.3764705882352941, \"rgb(150,27,91)\"], [0.4392156862745098, \"rgb(177,22,88)\"], [0.5019607843137255, \"rgb(203,26,79)\"], [0.5647058823529412, \"rgb(223,47,67)\"], [0.6274509803921569, \"rgb(236,76,61)\"], [0.6901960784313725, \"rgb(242,107,73)\"], [0.7529411764705882, \"rgb(244,135,95)\"], [0.8156862745098039, \"rgb(245,162,122)\"], [0.8784313725490196, \"rgb(246,188,153)\"], [0.9411764705882353, \"rgb(247,212,187)\"], [1.0, \"rgb(250,234,220)\"]], \"type\": \"surface\"}], \"table\": [{\"cells\": {\"fill\": {\"color\": \"rgb(231,231,240)\"}, \"line\": {\"color\": \"white\"}}, \"header\": {\"fill\": {\"color\": \"rgb(183,183,191)\"}, \"line\": {\"color\": \"white\"}}, \"type\": \"table\"}]}, \"layout\": {\"annotationdefaults\": {\"arrowcolor\": \"rgb(67,103,167)\"}, \"autotypenumbers\": \"strict\", \"coloraxis\": {\"colorbar\": {\"outlinewidth\": 0, \"tickcolor\": \"rgb(36,36,36)\", \"ticklen\": 8, \"ticks\": \"outside\", \"tickwidth\": 2}}, \"colorscale\": {\"sequential\": [[0.0, \"rgb(2,4,25)\"], [0.06274509803921569, \"rgb(24,15,41)\"], [0.12549019607843137, \"rgb(47,23,57)\"], [0.18823529411764706, \"rgb(71,28,72)\"], [0.25098039215686274, \"rgb(97,30,82)\"], [0.3137254901960784, \"rgb(123,30,89)\"], [0.3764705882352941, \"rgb(150,27,91)\"], [0.4392156862745098, \"rgb(177,22,88)\"], [0.5019607843137255, \"rgb(203,26,79)\"], [0.5647058823529412, \"rgb(223,47,67)\"], [0.6274509803921569, \"rgb(236,76,61)\"], [0.6901960784313725, \"rgb(242,107,73)\"], [0.7529411764705882, \"rgb(244,135,95)\"], [0.8156862745098039, \"rgb(245,162,122)\"], [0.8784313725490196, \"rgb(246,188,153)\"], [0.9411764705882353, \"rgb(247,212,187)\"], [1.0, \"rgb(250,234,220)\"]], \"sequentialminus\": [[0.0, \"rgb(2,4,25)\"], [0.06274509803921569, \"rgb(24,15,41)\"], [0.12549019607843137, \"rgb(47,23,57)\"], [0.18823529411764706, \"rgb(71,28,72)\"], [0.25098039215686274, \"rgb(97,30,82)\"], [0.3137254901960784, \"rgb(123,30,89)\"], [0.3764705882352941, \"rgb(150,27,91)\"], [0.4392156862745098, \"rgb(177,22,88)\"], [0.5019607843137255, \"rgb(203,26,79)\"], [0.5647058823529412, \"rgb(223,47,67)\"], [0.6274509803921569, \"rgb(236,76,61)\"], [0.6901960784313725, \"rgb(242,107,73)\"], [0.7529411764705882, \"rgb(244,135,95)\"], [0.8156862745098039, \"rgb(245,162,122)\"], [0.8784313725490196, \"rgb(246,188,153)\"], [0.9411764705882353, \"rgb(247,212,187)\"], [1.0, \"rgb(250,234,220)\"]]}, \"colorway\": [\"rgb(76,114,176)\", \"rgb(221,132,82)\", \"rgb(85,168,104)\", \"rgb(196,78,82)\", \"rgb(129,114,179)\", \"rgb(147,120,96)\", \"rgb(218,139,195)\", \"rgb(140,140,140)\", \"rgb(204,185,116)\", \"rgb(100,181,205)\"], \"font\": {\"color\": \"rgb(36,36,36)\"}, \"geo\": {\"bgcolor\": \"white\", \"lakecolor\": \"white\", \"landcolor\": \"rgb(234,234,242)\", \"showlakes\": true, \"showland\": true, \"subunitcolor\": \"white\"}, \"hoverlabel\": {\"align\": \"left\"}, \"hovermode\": \"closest\", \"paper_bgcolor\": \"white\", \"plot_bgcolor\": \"rgb(234,234,242)\", \"polar\": {\"angularaxis\": {\"gridcolor\": \"white\", \"linecolor\": \"white\", \"showgrid\": true, \"ticks\": \"\"}, \"bgcolor\": \"rgb(234,234,242)\", \"radialaxis\": {\"gridcolor\": \"white\", \"linecolor\": \"white\", \"showgrid\": true, \"ticks\": \"\"}}, \"scene\": {\"xaxis\": {\"backgroundcolor\": \"rgb(234,234,242)\", \"gridcolor\": \"white\", \"gridwidth\": 2, \"linecolor\": \"white\", \"showbackground\": true, \"showgrid\": true, \"ticks\": \"\", \"zerolinecolor\": \"white\"}, \"yaxis\": {\"backgroundcolor\": \"rgb(234,234,242)\", \"gridcolor\": \"white\", \"gridwidth\": 2, \"linecolor\": \"white\", \"showbackground\": true, \"showgrid\": true, \"ticks\": \"\", \"zerolinecolor\": \"white\"}, \"zaxis\": {\"backgroundcolor\": \"rgb(234,234,242)\", \"gridcolor\": \"white\", \"gridwidth\": 2, \"linecolor\": \"white\", \"showbackground\": true, \"showgrid\": true, \"ticks\": \"\", \"zerolinecolor\": \"white\"}}, \"shapedefaults\": {\"fillcolor\": \"rgb(67,103,167)\", \"line\": {\"width\": 0}, \"opacity\": 0.5}, \"ternary\": {\"aaxis\": {\"gridcolor\": \"white\", \"linecolor\": \"white\", \"showgrid\": true, \"ticks\": \"\"}, \"baxis\": {\"gridcolor\": \"white\", \"linecolor\": \"white\", \"showgrid\": true, \"ticks\": \"\"}, \"bgcolor\": \"rgb(234,234,242)\", \"caxis\": {\"gridcolor\": \"white\", \"linecolor\": \"white\", \"showgrid\": true, \"ticks\": \"\"}}, \"xaxis\": {\"automargin\": true, \"gridcolor\": \"white\", \"linecolor\": \"white\", \"showgrid\": true, \"ticks\": \"\", \"title\": {\"standoff\": 15}, \"zerolinecolor\": \"white\"}, \"yaxis\": {\"automargin\": true, \"gridcolor\": \"white\", \"linecolor\": \"white\", \"showgrid\": true, \"ticks\": \"\", \"title\": {\"standoff\": 15}, \"zerolinecolor\": \"white\"}}}, \"title\": {\"text\": \"2 Vs. 3 Pts\"}, \"xaxis\": {\"anchor\": \"y\", \"domain\": [0.0, 1.0], \"title\": {\"text\": \"two_pa\"}}, \"yaxis\": {\"anchor\": \"x\", \"domain\": [0.0, 1.0], \"title\": {\"text\": \"three_pa\"}}},                        {\"responsive\": true}                    ).then(function(){\n",
              "                            \n",
              "var gd = document.getElementById('63375942-3209-4d00-97b2-7ae4a3cc0b7f');\n",
              "var x = new MutationObserver(function (mutations, observer) {{\n",
              "        var display = window.getComputedStyle(gd).display;\n",
              "        if (!display || display === 'none') {{\n",
              "            console.log([gd, 'removed!']);\n",
              "            Plotly.purge(gd);\n",
              "            observer.disconnect();\n",
              "        }}\n",
              "}});\n",
              "\n",
              "// Listen for the removal of the full notebook cells\n",
              "var notebookContainer = gd.closest('#notebook-container');\n",
              "if (notebookContainer) {{\n",
              "    x.observe(notebookContainer, {childList: true});\n",
              "}}\n",
              "\n",
              "// Listen for the clearing of the current output cell\n",
              "var outputEl = gd.closest('.output');\n",
              "if (outputEl) {{\n",
              "    x.observe(outputEl, {childList: true});\n",
              "}}\n",
              "\n",
              "                        })                };                            </script>        </div>\n",
              "</body>\n",
              "</html>"
            ]
          },
          "metadata": {
            "tags": []
          }
        }
      ]
    },
    {
      "cell_type": "markdown",
      "metadata": {
        "id": "4vAkkE_OQ-z1"
      },
      "source": [
        "#box plot for 2 pts for Lakers"
      ]
    },
    {
      "cell_type": "code",
      "metadata": {
        "id": "xApfc_WVaUXh",
        "colab": {
          "base_uri": "https://localhost:8080/",
          "height": 542
        },
        "outputId": "498c02d5-ac7a-4d60-aa8e-ab6a8df013c7"
      },
      "source": [
        "fig = px.box(df_lal, y=\"two_pa\", title='Box plot for 2Pts', template='plotly_white')\r\n",
        "fig.show()"
      ],
      "execution_count": null,
      "outputs": [
        {
          "output_type": "display_data",
          "data": {
            "text/html": [
              "<html>\n",
              "<head><meta charset=\"utf-8\" /></head>\n",
              "<body>\n",
              "    <div>            <script src=\"https://cdnjs.cloudflare.com/ajax/libs/mathjax/2.7.5/MathJax.js?config=TeX-AMS-MML_SVG\"></script><script type=\"text/javascript\">if (window.MathJax) {MathJax.Hub.Config({SVG: {font: \"STIX-Web\"}});}</script>                <script type=\"text/javascript\">window.PlotlyConfig = {MathJaxConfig: 'local'};</script>\n",
              "        <script src=\"https://cdn.plot.ly/plotly-latest.min.js\"></script>                <div id=\"d5d0f3c1-a906-46b7-acd2-f1a9308c1215\" class=\"plotly-graph-div\" style=\"height:525px; width:100%;\"></div>            <script type=\"text/javascript\">                                    window.PLOTLYENV=window.PLOTLYENV || {};                                    if (document.getElementById(\"d5d0f3c1-a906-46b7-acd2-f1a9308c1215\")) {                    Plotly.newPlot(                        \"d5d0f3c1-a906-46b7-acd2-f1a9308c1215\",                        [{\"alignmentgroup\": \"True\", \"hovertemplate\": \"two_pa=%{y}<extra></extra>\", \"legendgroup\": \"\", \"marker\": {\"color\": \"#636efa\"}, \"name\": \"\", \"notched\": false, \"offsetgroup\": \"\", \"orientation\": \"v\", \"showlegend\": false, \"type\": \"box\", \"x0\": \" \", \"xaxis\": \"x\", \"y\": [70, 52, 6, 299, 1, 55, 7, 55, 263, 96, 30, 29, 71, 4, 8], \"y0\": \" \", \"yaxis\": \"y\"}],                        {\"boxmode\": \"group\", \"legend\": {\"tracegroupgap\": 0}, \"template\": {\"data\": {\"bar\": [{\"error_x\": {\"color\": \"#2a3f5f\"}, \"error_y\": {\"color\": \"#2a3f5f\"}, \"marker\": {\"line\": {\"color\": \"white\", \"width\": 0.5}}, \"type\": \"bar\"}], \"barpolar\": [{\"marker\": {\"line\": {\"color\": \"white\", \"width\": 0.5}}, \"type\": \"barpolar\"}], \"carpet\": [{\"aaxis\": {\"endlinecolor\": \"#2a3f5f\", \"gridcolor\": \"#C8D4E3\", \"linecolor\": \"#C8D4E3\", \"minorgridcolor\": \"#C8D4E3\", \"startlinecolor\": \"#2a3f5f\"}, \"baxis\": {\"endlinecolor\": \"#2a3f5f\", \"gridcolor\": \"#C8D4E3\", \"linecolor\": \"#C8D4E3\", \"minorgridcolor\": \"#C8D4E3\", \"startlinecolor\": \"#2a3f5f\"}, \"type\": \"carpet\"}], \"choropleth\": [{\"colorbar\": {\"outlinewidth\": 0, \"ticks\": \"\"}, \"type\": \"choropleth\"}], \"contour\": [{\"colorbar\": {\"outlinewidth\": 0, \"ticks\": \"\"}, \"colorscale\": [[0.0, \"#0d0887\"], [0.1111111111111111, \"#46039f\"], [0.2222222222222222, \"#7201a8\"], [0.3333333333333333, \"#9c179e\"], [0.4444444444444444, \"#bd3786\"], [0.5555555555555556, \"#d8576b\"], [0.6666666666666666, \"#ed7953\"], [0.7777777777777778, \"#fb9f3a\"], [0.8888888888888888, \"#fdca26\"], [1.0, \"#f0f921\"]], \"type\": \"contour\"}], \"contourcarpet\": [{\"colorbar\": {\"outlinewidth\": 0, \"ticks\": \"\"}, \"type\": \"contourcarpet\"}], \"heatmap\": [{\"colorbar\": {\"outlinewidth\": 0, \"ticks\": \"\"}, \"colorscale\": [[0.0, \"#0d0887\"], [0.1111111111111111, \"#46039f\"], [0.2222222222222222, \"#7201a8\"], [0.3333333333333333, \"#9c179e\"], [0.4444444444444444, \"#bd3786\"], [0.5555555555555556, \"#d8576b\"], [0.6666666666666666, \"#ed7953\"], [0.7777777777777778, \"#fb9f3a\"], [0.8888888888888888, \"#fdca26\"], [1.0, \"#f0f921\"]], \"type\": \"heatmap\"}], \"heatmapgl\": [{\"colorbar\": {\"outlinewidth\": 0, \"ticks\": \"\"}, \"colorscale\": [[0.0, \"#0d0887\"], [0.1111111111111111, \"#46039f\"], [0.2222222222222222, \"#7201a8\"], [0.3333333333333333, \"#9c179e\"], [0.4444444444444444, \"#bd3786\"], [0.5555555555555556, \"#d8576b\"], [0.6666666666666666, \"#ed7953\"], [0.7777777777777778, \"#fb9f3a\"], [0.8888888888888888, \"#fdca26\"], [1.0, \"#f0f921\"]], \"type\": \"heatmapgl\"}], \"histogram\": [{\"marker\": {\"colorbar\": {\"outlinewidth\": 0, \"ticks\": \"\"}}, \"type\": \"histogram\"}], \"histogram2d\": [{\"colorbar\": {\"outlinewidth\": 0, \"ticks\": \"\"}, \"colorscale\": [[0.0, \"#0d0887\"], [0.1111111111111111, \"#46039f\"], [0.2222222222222222, \"#7201a8\"], [0.3333333333333333, \"#9c179e\"], [0.4444444444444444, \"#bd3786\"], [0.5555555555555556, \"#d8576b\"], [0.6666666666666666, \"#ed7953\"], [0.7777777777777778, \"#fb9f3a\"], [0.8888888888888888, \"#fdca26\"], [1.0, \"#f0f921\"]], \"type\": \"histogram2d\"}], \"histogram2dcontour\": [{\"colorbar\": {\"outlinewidth\": 0, \"ticks\": \"\"}, \"colorscale\": [[0.0, \"#0d0887\"], [0.1111111111111111, \"#46039f\"], [0.2222222222222222, \"#7201a8\"], [0.3333333333333333, \"#9c179e\"], [0.4444444444444444, \"#bd3786\"], [0.5555555555555556, \"#d8576b\"], [0.6666666666666666, \"#ed7953\"], [0.7777777777777778, \"#fb9f3a\"], [0.8888888888888888, \"#fdca26\"], [1.0, \"#f0f921\"]], \"type\": \"histogram2dcontour\"}], \"mesh3d\": [{\"colorbar\": {\"outlinewidth\": 0, \"ticks\": \"\"}, \"type\": \"mesh3d\"}], \"parcoords\": [{\"line\": {\"colorbar\": {\"outlinewidth\": 0, \"ticks\": \"\"}}, \"type\": \"parcoords\"}], \"pie\": [{\"automargin\": true, \"type\": \"pie\"}], \"scatter\": [{\"marker\": {\"colorbar\": {\"outlinewidth\": 0, \"ticks\": \"\"}}, \"type\": \"scatter\"}], \"scatter3d\": [{\"line\": {\"colorbar\": {\"outlinewidth\": 0, \"ticks\": \"\"}}, \"marker\": {\"colorbar\": {\"outlinewidth\": 0, \"ticks\": \"\"}}, \"type\": \"scatter3d\"}], \"scattercarpet\": [{\"marker\": {\"colorbar\": {\"outlinewidth\": 0, \"ticks\": \"\"}}, \"type\": \"scattercarpet\"}], \"scattergeo\": [{\"marker\": {\"colorbar\": {\"outlinewidth\": 0, \"ticks\": \"\"}}, \"type\": \"scattergeo\"}], \"scattergl\": [{\"marker\": {\"colorbar\": {\"outlinewidth\": 0, \"ticks\": \"\"}}, \"type\": \"scattergl\"}], \"scattermapbox\": [{\"marker\": {\"colorbar\": {\"outlinewidth\": 0, \"ticks\": \"\"}}, \"type\": \"scattermapbox\"}], \"scatterpolar\": [{\"marker\": {\"colorbar\": {\"outlinewidth\": 0, \"ticks\": \"\"}}, \"type\": \"scatterpolar\"}], \"scatterpolargl\": [{\"marker\": {\"colorbar\": {\"outlinewidth\": 0, \"ticks\": \"\"}}, \"type\": \"scatterpolargl\"}], \"scatterternary\": [{\"marker\": {\"colorbar\": {\"outlinewidth\": 0, \"ticks\": \"\"}}, \"type\": \"scatterternary\"}], \"surface\": [{\"colorbar\": {\"outlinewidth\": 0, \"ticks\": \"\"}, \"colorscale\": [[0.0, \"#0d0887\"], [0.1111111111111111, \"#46039f\"], [0.2222222222222222, \"#7201a8\"], [0.3333333333333333, \"#9c179e\"], [0.4444444444444444, \"#bd3786\"], [0.5555555555555556, \"#d8576b\"], [0.6666666666666666, \"#ed7953\"], [0.7777777777777778, \"#fb9f3a\"], [0.8888888888888888, \"#fdca26\"], [1.0, \"#f0f921\"]], \"type\": \"surface\"}], \"table\": [{\"cells\": {\"fill\": {\"color\": \"#EBF0F8\"}, \"line\": {\"color\": \"white\"}}, \"header\": {\"fill\": {\"color\": \"#C8D4E3\"}, \"line\": {\"color\": \"white\"}}, \"type\": \"table\"}]}, \"layout\": {\"annotationdefaults\": {\"arrowcolor\": \"#2a3f5f\", \"arrowhead\": 0, \"arrowwidth\": 1}, \"autotypenumbers\": \"strict\", \"coloraxis\": {\"colorbar\": {\"outlinewidth\": 0, \"ticks\": \"\"}}, \"colorscale\": {\"diverging\": [[0, \"#8e0152\"], [0.1, \"#c51b7d\"], [0.2, \"#de77ae\"], [0.3, \"#f1b6da\"], [0.4, \"#fde0ef\"], [0.5, \"#f7f7f7\"], [0.6, \"#e6f5d0\"], [0.7, \"#b8e186\"], [0.8, \"#7fbc41\"], [0.9, \"#4d9221\"], [1, \"#276419\"]], \"sequential\": [[0.0, \"#0d0887\"], [0.1111111111111111, \"#46039f\"], [0.2222222222222222, \"#7201a8\"], [0.3333333333333333, \"#9c179e\"], [0.4444444444444444, \"#bd3786\"], [0.5555555555555556, \"#d8576b\"], [0.6666666666666666, \"#ed7953\"], [0.7777777777777778, \"#fb9f3a\"], [0.8888888888888888, \"#fdca26\"], [1.0, \"#f0f921\"]], \"sequentialminus\": [[0.0, \"#0d0887\"], [0.1111111111111111, \"#46039f\"], [0.2222222222222222, \"#7201a8\"], [0.3333333333333333, \"#9c179e\"], [0.4444444444444444, \"#bd3786\"], [0.5555555555555556, \"#d8576b\"], [0.6666666666666666, \"#ed7953\"], [0.7777777777777778, \"#fb9f3a\"], [0.8888888888888888, \"#fdca26\"], [1.0, \"#f0f921\"]]}, \"colorway\": [\"#636efa\", \"#EF553B\", \"#00cc96\", \"#ab63fa\", \"#FFA15A\", \"#19d3f3\", \"#FF6692\", \"#B6E880\", \"#FF97FF\", \"#FECB52\"], \"font\": {\"color\": \"#2a3f5f\"}, \"geo\": {\"bgcolor\": \"white\", \"lakecolor\": \"white\", \"landcolor\": \"white\", \"showlakes\": true, \"showland\": true, \"subunitcolor\": \"#C8D4E3\"}, \"hoverlabel\": {\"align\": \"left\"}, \"hovermode\": \"closest\", \"mapbox\": {\"style\": \"light\"}, \"paper_bgcolor\": \"white\", \"plot_bgcolor\": \"white\", \"polar\": {\"angularaxis\": {\"gridcolor\": \"#EBF0F8\", \"linecolor\": \"#EBF0F8\", \"ticks\": \"\"}, \"bgcolor\": \"white\", \"radialaxis\": {\"gridcolor\": \"#EBF0F8\", \"linecolor\": \"#EBF0F8\", \"ticks\": \"\"}}, \"scene\": {\"xaxis\": {\"backgroundcolor\": \"white\", \"gridcolor\": \"#DFE8F3\", \"gridwidth\": 2, \"linecolor\": \"#EBF0F8\", \"showbackground\": true, \"ticks\": \"\", \"zerolinecolor\": \"#EBF0F8\"}, \"yaxis\": {\"backgroundcolor\": \"white\", \"gridcolor\": \"#DFE8F3\", \"gridwidth\": 2, \"linecolor\": \"#EBF0F8\", \"showbackground\": true, \"ticks\": \"\", \"zerolinecolor\": \"#EBF0F8\"}, \"zaxis\": {\"backgroundcolor\": \"white\", \"gridcolor\": \"#DFE8F3\", \"gridwidth\": 2, \"linecolor\": \"#EBF0F8\", \"showbackground\": true, \"ticks\": \"\", \"zerolinecolor\": \"#EBF0F8\"}}, \"shapedefaults\": {\"line\": {\"color\": \"#2a3f5f\"}}, \"ternary\": {\"aaxis\": {\"gridcolor\": \"#DFE8F3\", \"linecolor\": \"#A2B1C6\", \"ticks\": \"\"}, \"baxis\": {\"gridcolor\": \"#DFE8F3\", \"linecolor\": \"#A2B1C6\", \"ticks\": \"\"}, \"bgcolor\": \"white\", \"caxis\": {\"gridcolor\": \"#DFE8F3\", \"linecolor\": \"#A2B1C6\", \"ticks\": \"\"}}, \"title\": {\"x\": 0.05}, \"xaxis\": {\"automargin\": true, \"gridcolor\": \"#EBF0F8\", \"linecolor\": \"#EBF0F8\", \"ticks\": \"\", \"title\": {\"standoff\": 15}, \"zerolinecolor\": \"#EBF0F8\", \"zerolinewidth\": 2}, \"yaxis\": {\"automargin\": true, \"gridcolor\": \"#EBF0F8\", \"linecolor\": \"#EBF0F8\", \"ticks\": \"\", \"title\": {\"standoff\": 15}, \"zerolinecolor\": \"#EBF0F8\", \"zerolinewidth\": 2}}}, \"title\": {\"text\": \"Box plot for 2Pts\"}, \"xaxis\": {\"anchor\": \"y\", \"domain\": [0.0, 1.0]}, \"yaxis\": {\"anchor\": \"x\", \"domain\": [0.0, 1.0], \"title\": {\"text\": \"two_pa\"}}},                        {\"responsive\": true}                    ).then(function(){\n",
              "                            \n",
              "var gd = document.getElementById('d5d0f3c1-a906-46b7-acd2-f1a9308c1215');\n",
              "var x = new MutationObserver(function (mutations, observer) {{\n",
              "        var display = window.getComputedStyle(gd).display;\n",
              "        if (!display || display === 'none') {{\n",
              "            console.log([gd, 'removed!']);\n",
              "            Plotly.purge(gd);\n",
              "            observer.disconnect();\n",
              "        }}\n",
              "}});\n",
              "\n",
              "// Listen for the removal of the full notebook cells\n",
              "var notebookContainer = gd.closest('#notebook-container');\n",
              "if (notebookContainer) {{\n",
              "    x.observe(notebookContainer, {childList: true});\n",
              "}}\n",
              "\n",
              "// Listen for the clearing of the current output cell\n",
              "var outputEl = gd.closest('.output');\n",
              "if (outputEl) {{\n",
              "    x.observe(outputEl, {childList: true});\n",
              "}}\n",
              "\n",
              "                        })                };                            </script>        </div>\n",
              "</body>\n",
              "</html>"
            ]
          },
          "metadata": {
            "tags": []
          }
        }
      ]
    },
    {
      "cell_type": "markdown",
      "metadata": {
        "id": "sHpU-KzwTsr2"
      },
      "source": [
        "#Box plot for 3Pts. (on y-axis)"
      ]
    },
    {
      "cell_type": "code",
      "metadata": {
        "colab": {
          "base_uri": "https://localhost:8080/",
          "height": 542
        },
        "id": "uETDZtpySXuw",
        "outputId": "4ed32a9f-e772-4f3d-e465-984ae4443e7a"
      },
      "source": [
        "fig = px.box(df_lal, y=\"three_pa\", title='Box plot for 3Pts', template='plotly_dark')\r\n",
        "fig.show()"
      ],
      "execution_count": null,
      "outputs": [
        {
          "output_type": "display_data",
          "data": {
            "text/html": [
              "<html>\n",
              "<head><meta charset=\"utf-8\" /></head>\n",
              "<body>\n",
              "    <div>            <script src=\"https://cdnjs.cloudflare.com/ajax/libs/mathjax/2.7.5/MathJax.js?config=TeX-AMS-MML_SVG\"></script><script type=\"text/javascript\">if (window.MathJax) {MathJax.Hub.Config({SVG: {font: \"STIX-Web\"}});}</script>                <script type=\"text/javascript\">window.PlotlyConfig = {MathJaxConfig: 'local'};</script>\n",
              "        <script src=\"https://cdn.plot.ly/plotly-latest.min.js\"></script>                <div id=\"18f6f3d3-cb89-4391-bce0-f2f17662983e\" class=\"plotly-graph-div\" style=\"height:525px; width:100%;\"></div>            <script type=\"text/javascript\">                                    window.PLOTLYENV=window.PLOTLYENV || {};                                    if (document.getElementById(\"18f6f3d3-cb89-4391-bce0-f2f17662983e\")) {                    Plotly.newPlot(                        \"18f6f3d3-cb89-4391-bce0-f2f17662983e\",                        [{\"alignmentgroup\": \"True\", \"hovertemplate\": \"three_pa=%{y}<extra></extra>\", \"legendgroup\": \"\", \"marker\": {\"color\": \"#636efa\"}, \"name\": \"\", \"notched\": false, \"offsetgroup\": \"\", \"orientation\": \"v\", \"showlegend\": false, \"type\": \"box\", \"x0\": \" \", \"xaxis\": \"x\", \"y\": [119, 61, 4, 60, 3, 115, 5, 2, 119, 83, 2, 69, 50, 22, 4], \"y0\": \" \", \"yaxis\": \"y\"}],                        {\"boxmode\": \"group\", \"legend\": {\"tracegroupgap\": 0}, \"template\": {\"data\": {\"bar\": [{\"error_x\": {\"color\": \"#f2f5fa\"}, \"error_y\": {\"color\": \"#f2f5fa\"}, \"marker\": {\"line\": {\"color\": \"rgb(17,17,17)\", \"width\": 0.5}}, \"type\": \"bar\"}], \"barpolar\": [{\"marker\": {\"line\": {\"color\": \"rgb(17,17,17)\", \"width\": 0.5}}, \"type\": \"barpolar\"}], \"carpet\": [{\"aaxis\": {\"endlinecolor\": \"#A2B1C6\", \"gridcolor\": \"#506784\", \"linecolor\": \"#506784\", \"minorgridcolor\": \"#506784\", \"startlinecolor\": \"#A2B1C6\"}, \"baxis\": {\"endlinecolor\": \"#A2B1C6\", \"gridcolor\": \"#506784\", \"linecolor\": \"#506784\", \"minorgridcolor\": \"#506784\", \"startlinecolor\": \"#A2B1C6\"}, \"type\": \"carpet\"}], \"choropleth\": [{\"colorbar\": {\"outlinewidth\": 0, \"ticks\": \"\"}, \"type\": \"choropleth\"}], \"contour\": [{\"colorbar\": {\"outlinewidth\": 0, \"ticks\": \"\"}, \"colorscale\": [[0.0, \"#0d0887\"], [0.1111111111111111, \"#46039f\"], [0.2222222222222222, \"#7201a8\"], [0.3333333333333333, \"#9c179e\"], [0.4444444444444444, \"#bd3786\"], [0.5555555555555556, \"#d8576b\"], [0.6666666666666666, \"#ed7953\"], [0.7777777777777778, \"#fb9f3a\"], [0.8888888888888888, \"#fdca26\"], [1.0, \"#f0f921\"]], \"type\": \"contour\"}], \"contourcarpet\": [{\"colorbar\": {\"outlinewidth\": 0, \"ticks\": \"\"}, \"type\": \"contourcarpet\"}], \"heatmap\": [{\"colorbar\": {\"outlinewidth\": 0, \"ticks\": \"\"}, \"colorscale\": [[0.0, \"#0d0887\"], [0.1111111111111111, \"#46039f\"], [0.2222222222222222, \"#7201a8\"], [0.3333333333333333, \"#9c179e\"], [0.4444444444444444, \"#bd3786\"], [0.5555555555555556, \"#d8576b\"], [0.6666666666666666, \"#ed7953\"], [0.7777777777777778, \"#fb9f3a\"], [0.8888888888888888, \"#fdca26\"], [1.0, \"#f0f921\"]], \"type\": \"heatmap\"}], \"heatmapgl\": [{\"colorbar\": {\"outlinewidth\": 0, \"ticks\": \"\"}, \"colorscale\": [[0.0, \"#0d0887\"], [0.1111111111111111, \"#46039f\"], [0.2222222222222222, \"#7201a8\"], [0.3333333333333333, \"#9c179e\"], [0.4444444444444444, \"#bd3786\"], [0.5555555555555556, \"#d8576b\"], [0.6666666666666666, \"#ed7953\"], [0.7777777777777778, \"#fb9f3a\"], [0.8888888888888888, \"#fdca26\"], [1.0, \"#f0f921\"]], \"type\": \"heatmapgl\"}], \"histogram\": [{\"marker\": {\"colorbar\": {\"outlinewidth\": 0, \"ticks\": \"\"}}, \"type\": \"histogram\"}], \"histogram2d\": [{\"colorbar\": {\"outlinewidth\": 0, \"ticks\": \"\"}, \"colorscale\": [[0.0, \"#0d0887\"], [0.1111111111111111, \"#46039f\"], [0.2222222222222222, \"#7201a8\"], [0.3333333333333333, \"#9c179e\"], [0.4444444444444444, \"#bd3786\"], [0.5555555555555556, \"#d8576b\"], [0.6666666666666666, \"#ed7953\"], [0.7777777777777778, \"#fb9f3a\"], [0.8888888888888888, \"#fdca26\"], [1.0, \"#f0f921\"]], \"type\": \"histogram2d\"}], \"histogram2dcontour\": [{\"colorbar\": {\"outlinewidth\": 0, \"ticks\": \"\"}, \"colorscale\": [[0.0, \"#0d0887\"], [0.1111111111111111, \"#46039f\"], [0.2222222222222222, \"#7201a8\"], [0.3333333333333333, \"#9c179e\"], [0.4444444444444444, \"#bd3786\"], [0.5555555555555556, \"#d8576b\"], [0.6666666666666666, \"#ed7953\"], [0.7777777777777778, \"#fb9f3a\"], [0.8888888888888888, \"#fdca26\"], [1.0, \"#f0f921\"]], \"type\": \"histogram2dcontour\"}], \"mesh3d\": [{\"colorbar\": {\"outlinewidth\": 0, \"ticks\": \"\"}, \"type\": \"mesh3d\"}], \"parcoords\": [{\"line\": {\"colorbar\": {\"outlinewidth\": 0, \"ticks\": \"\"}}, \"type\": \"parcoords\"}], \"pie\": [{\"automargin\": true, \"type\": \"pie\"}], \"scatter\": [{\"marker\": {\"line\": {\"color\": \"#283442\"}}, \"type\": \"scatter\"}], \"scatter3d\": [{\"line\": {\"colorbar\": {\"outlinewidth\": 0, \"ticks\": \"\"}}, \"marker\": {\"colorbar\": {\"outlinewidth\": 0, \"ticks\": \"\"}}, \"type\": \"scatter3d\"}], \"scattercarpet\": [{\"marker\": {\"colorbar\": {\"outlinewidth\": 0, \"ticks\": \"\"}}, \"type\": \"scattercarpet\"}], \"scattergeo\": [{\"marker\": {\"colorbar\": {\"outlinewidth\": 0, \"ticks\": \"\"}}, \"type\": \"scattergeo\"}], \"scattergl\": [{\"marker\": {\"line\": {\"color\": \"#283442\"}}, \"type\": \"scattergl\"}], \"scattermapbox\": [{\"marker\": {\"colorbar\": {\"outlinewidth\": 0, \"ticks\": \"\"}}, \"type\": \"scattermapbox\"}], \"scatterpolar\": [{\"marker\": {\"colorbar\": {\"outlinewidth\": 0, \"ticks\": \"\"}}, \"type\": \"scatterpolar\"}], \"scatterpolargl\": [{\"marker\": {\"colorbar\": {\"outlinewidth\": 0, \"ticks\": \"\"}}, \"type\": \"scatterpolargl\"}], \"scatterternary\": [{\"marker\": {\"colorbar\": {\"outlinewidth\": 0, \"ticks\": \"\"}}, \"type\": \"scatterternary\"}], \"surface\": [{\"colorbar\": {\"outlinewidth\": 0, \"ticks\": \"\"}, \"colorscale\": [[0.0, \"#0d0887\"], [0.1111111111111111, \"#46039f\"], [0.2222222222222222, \"#7201a8\"], [0.3333333333333333, \"#9c179e\"], [0.4444444444444444, \"#bd3786\"], [0.5555555555555556, \"#d8576b\"], [0.6666666666666666, \"#ed7953\"], [0.7777777777777778, \"#fb9f3a\"], [0.8888888888888888, \"#fdca26\"], [1.0, \"#f0f921\"]], \"type\": \"surface\"}], \"table\": [{\"cells\": {\"fill\": {\"color\": \"#506784\"}, \"line\": {\"color\": \"rgb(17,17,17)\"}}, \"header\": {\"fill\": {\"color\": \"#2a3f5f\"}, \"line\": {\"color\": \"rgb(17,17,17)\"}}, \"type\": \"table\"}]}, \"layout\": {\"annotationdefaults\": {\"arrowcolor\": \"#f2f5fa\", \"arrowhead\": 0, \"arrowwidth\": 1}, \"autotypenumbers\": \"strict\", \"coloraxis\": {\"colorbar\": {\"outlinewidth\": 0, \"ticks\": \"\"}}, \"colorscale\": {\"diverging\": [[0, \"#8e0152\"], [0.1, \"#c51b7d\"], [0.2, \"#de77ae\"], [0.3, \"#f1b6da\"], [0.4, \"#fde0ef\"], [0.5, \"#f7f7f7\"], [0.6, \"#e6f5d0\"], [0.7, \"#b8e186\"], [0.8, \"#7fbc41\"], [0.9, \"#4d9221\"], [1, \"#276419\"]], \"sequential\": [[0.0, \"#0d0887\"], [0.1111111111111111, \"#46039f\"], [0.2222222222222222, \"#7201a8\"], [0.3333333333333333, \"#9c179e\"], [0.4444444444444444, \"#bd3786\"], [0.5555555555555556, \"#d8576b\"], [0.6666666666666666, \"#ed7953\"], [0.7777777777777778, \"#fb9f3a\"], [0.8888888888888888, \"#fdca26\"], [1.0, \"#f0f921\"]], \"sequentialminus\": [[0.0, \"#0d0887\"], [0.1111111111111111, \"#46039f\"], [0.2222222222222222, \"#7201a8\"], [0.3333333333333333, \"#9c179e\"], [0.4444444444444444, \"#bd3786\"], [0.5555555555555556, \"#d8576b\"], [0.6666666666666666, \"#ed7953\"], [0.7777777777777778, \"#fb9f3a\"], [0.8888888888888888, \"#fdca26\"], [1.0, \"#f0f921\"]]}, \"colorway\": [\"#636efa\", \"#EF553B\", \"#00cc96\", \"#ab63fa\", \"#FFA15A\", \"#19d3f3\", \"#FF6692\", \"#B6E880\", \"#FF97FF\", \"#FECB52\"], \"font\": {\"color\": \"#f2f5fa\"}, \"geo\": {\"bgcolor\": \"rgb(17,17,17)\", \"lakecolor\": \"rgb(17,17,17)\", \"landcolor\": \"rgb(17,17,17)\", \"showlakes\": true, \"showland\": true, \"subunitcolor\": \"#506784\"}, \"hoverlabel\": {\"align\": \"left\"}, \"hovermode\": \"closest\", \"mapbox\": {\"style\": \"dark\"}, \"paper_bgcolor\": \"rgb(17,17,17)\", \"plot_bgcolor\": \"rgb(17,17,17)\", \"polar\": {\"angularaxis\": {\"gridcolor\": \"#506784\", \"linecolor\": \"#506784\", \"ticks\": \"\"}, \"bgcolor\": \"rgb(17,17,17)\", \"radialaxis\": {\"gridcolor\": \"#506784\", \"linecolor\": \"#506784\", \"ticks\": \"\"}}, \"scene\": {\"xaxis\": {\"backgroundcolor\": \"rgb(17,17,17)\", \"gridcolor\": \"#506784\", \"gridwidth\": 2, \"linecolor\": \"#506784\", \"showbackground\": true, \"ticks\": \"\", \"zerolinecolor\": \"#C8D4E3\"}, \"yaxis\": {\"backgroundcolor\": \"rgb(17,17,17)\", \"gridcolor\": \"#506784\", \"gridwidth\": 2, \"linecolor\": \"#506784\", \"showbackground\": true, \"ticks\": \"\", \"zerolinecolor\": \"#C8D4E3\"}, \"zaxis\": {\"backgroundcolor\": \"rgb(17,17,17)\", \"gridcolor\": \"#506784\", \"gridwidth\": 2, \"linecolor\": \"#506784\", \"showbackground\": true, \"ticks\": \"\", \"zerolinecolor\": \"#C8D4E3\"}}, \"shapedefaults\": {\"line\": {\"color\": \"#f2f5fa\"}}, \"sliderdefaults\": {\"bgcolor\": \"#C8D4E3\", \"bordercolor\": \"rgb(17,17,17)\", \"borderwidth\": 1, \"tickwidth\": 0}, \"ternary\": {\"aaxis\": {\"gridcolor\": \"#506784\", \"linecolor\": \"#506784\", \"ticks\": \"\"}, \"baxis\": {\"gridcolor\": \"#506784\", \"linecolor\": \"#506784\", \"ticks\": \"\"}, \"bgcolor\": \"rgb(17,17,17)\", \"caxis\": {\"gridcolor\": \"#506784\", \"linecolor\": \"#506784\", \"ticks\": \"\"}}, \"title\": {\"x\": 0.05}, \"updatemenudefaults\": {\"bgcolor\": \"#506784\", \"borderwidth\": 0}, \"xaxis\": {\"automargin\": true, \"gridcolor\": \"#283442\", \"linecolor\": \"#506784\", \"ticks\": \"\", \"title\": {\"standoff\": 15}, \"zerolinecolor\": \"#283442\", \"zerolinewidth\": 2}, \"yaxis\": {\"automargin\": true, \"gridcolor\": \"#283442\", \"linecolor\": \"#506784\", \"ticks\": \"\", \"title\": {\"standoff\": 15}, \"zerolinecolor\": \"#283442\", \"zerolinewidth\": 2}}}, \"title\": {\"text\": \"Box plot for 3Pts\"}, \"xaxis\": {\"anchor\": \"y\", \"domain\": [0.0, 1.0]}, \"yaxis\": {\"anchor\": \"x\", \"domain\": [0.0, 1.0], \"title\": {\"text\": \"three_pa\"}}},                        {\"responsive\": true}                    ).then(function(){\n",
              "                            \n",
              "var gd = document.getElementById('18f6f3d3-cb89-4391-bce0-f2f17662983e');\n",
              "var x = new MutationObserver(function (mutations, observer) {{\n",
              "        var display = window.getComputedStyle(gd).display;\n",
              "        if (!display || display === 'none') {{\n",
              "            console.log([gd, 'removed!']);\n",
              "            Plotly.purge(gd);\n",
              "            observer.disconnect();\n",
              "        }}\n",
              "}});\n",
              "\n",
              "// Listen for the removal of the full notebook cells\n",
              "var notebookContainer = gd.closest('#notebook-container');\n",
              "if (notebookContainer) {{\n",
              "    x.observe(notebookContainer, {childList: true});\n",
              "}}\n",
              "\n",
              "// Listen for the clearing of the current output cell\n",
              "var outputEl = gd.closest('.output');\n",
              "if (outputEl) {{\n",
              "    x.observe(outputEl, {childList: true});\n",
              "}}\n",
              "\n",
              "                        })                };                            </script>        </div>\n",
              "</body>\n",
              "</html>"
            ]
          },
          "metadata": {
            "tags": []
          }
        }
      ]
    },
    {
      "cell_type": "markdown",
      "metadata": {
        "id": "4MeuH1hXVnKK"
      },
      "source": [
        "#box plot on x-axis"
      ]
    },
    {
      "cell_type": "code",
      "metadata": {
        "colab": {
          "base_uri": "https://localhost:8080/",
          "height": 542
        },
        "id": "d5-g3_wUTXIQ",
        "outputId": "ef40ff27-6380-46e4-ea9e-7b59881fb181"
      },
      "source": [
        "fig = px.box(df_lal, x=\"three_pa\", title='Box plot for 3Pts', template='plotly_dark')\r\n",
        "fig.show()"
      ],
      "execution_count": null,
      "outputs": [
        {
          "output_type": "display_data",
          "data": {
            "text/html": [
              "<html>\n",
              "<head><meta charset=\"utf-8\" /></head>\n",
              "<body>\n",
              "    <div>            <script src=\"https://cdnjs.cloudflare.com/ajax/libs/mathjax/2.7.5/MathJax.js?config=TeX-AMS-MML_SVG\"></script><script type=\"text/javascript\">if (window.MathJax) {MathJax.Hub.Config({SVG: {font: \"STIX-Web\"}});}</script>                <script type=\"text/javascript\">window.PlotlyConfig = {MathJaxConfig: 'local'};</script>\n",
              "        <script src=\"https://cdn.plot.ly/plotly-latest.min.js\"></script>                <div id=\"750d7eb3-694d-4465-9977-1151d9dacad1\" class=\"plotly-graph-div\" style=\"height:525px; width:100%;\"></div>            <script type=\"text/javascript\">                                    window.PLOTLYENV=window.PLOTLYENV || {};                                    if (document.getElementById(\"750d7eb3-694d-4465-9977-1151d9dacad1\")) {                    Plotly.newPlot(                        \"750d7eb3-694d-4465-9977-1151d9dacad1\",                        [{\"alignmentgroup\": \"True\", \"hovertemplate\": \"three_pa=%{x}<extra></extra>\", \"legendgroup\": \"\", \"marker\": {\"color\": \"#636efa\"}, \"name\": \"\", \"notched\": false, \"offsetgroup\": \"\", \"orientation\": \"h\", \"showlegend\": false, \"type\": \"box\", \"x\": [119, 61, 4, 60, 3, 115, 5, 2, 119, 83, 2, 69, 50, 22, 4], \"x0\": \" \", \"xaxis\": \"x\", \"y0\": \" \", \"yaxis\": \"y\"}],                        {\"boxmode\": \"group\", \"legend\": {\"tracegroupgap\": 0}, \"template\": {\"data\": {\"bar\": [{\"error_x\": {\"color\": \"#f2f5fa\"}, \"error_y\": {\"color\": \"#f2f5fa\"}, \"marker\": {\"line\": {\"color\": \"rgb(17,17,17)\", \"width\": 0.5}}, \"type\": \"bar\"}], \"barpolar\": [{\"marker\": {\"line\": {\"color\": \"rgb(17,17,17)\", \"width\": 0.5}}, \"type\": \"barpolar\"}], \"carpet\": [{\"aaxis\": {\"endlinecolor\": \"#A2B1C6\", \"gridcolor\": \"#506784\", \"linecolor\": \"#506784\", \"minorgridcolor\": \"#506784\", \"startlinecolor\": \"#A2B1C6\"}, \"baxis\": {\"endlinecolor\": \"#A2B1C6\", \"gridcolor\": \"#506784\", \"linecolor\": \"#506784\", \"minorgridcolor\": \"#506784\", \"startlinecolor\": \"#A2B1C6\"}, \"type\": \"carpet\"}], \"choropleth\": [{\"colorbar\": {\"outlinewidth\": 0, \"ticks\": \"\"}, \"type\": \"choropleth\"}], \"contour\": [{\"colorbar\": {\"outlinewidth\": 0, \"ticks\": \"\"}, \"colorscale\": [[0.0, \"#0d0887\"], [0.1111111111111111, \"#46039f\"], [0.2222222222222222, \"#7201a8\"], [0.3333333333333333, \"#9c179e\"], [0.4444444444444444, \"#bd3786\"], [0.5555555555555556, \"#d8576b\"], [0.6666666666666666, \"#ed7953\"], [0.7777777777777778, \"#fb9f3a\"], [0.8888888888888888, \"#fdca26\"], [1.0, \"#f0f921\"]], \"type\": \"contour\"}], \"contourcarpet\": [{\"colorbar\": {\"outlinewidth\": 0, \"ticks\": \"\"}, \"type\": \"contourcarpet\"}], \"heatmap\": [{\"colorbar\": {\"outlinewidth\": 0, \"ticks\": \"\"}, \"colorscale\": [[0.0, \"#0d0887\"], [0.1111111111111111, \"#46039f\"], [0.2222222222222222, \"#7201a8\"], [0.3333333333333333, \"#9c179e\"], [0.4444444444444444, \"#bd3786\"], [0.5555555555555556, \"#d8576b\"], [0.6666666666666666, \"#ed7953\"], [0.7777777777777778, \"#fb9f3a\"], [0.8888888888888888, \"#fdca26\"], [1.0, \"#f0f921\"]], \"type\": \"heatmap\"}], \"heatmapgl\": [{\"colorbar\": {\"outlinewidth\": 0, \"ticks\": \"\"}, \"colorscale\": [[0.0, \"#0d0887\"], [0.1111111111111111, \"#46039f\"], [0.2222222222222222, \"#7201a8\"], [0.3333333333333333, \"#9c179e\"], [0.4444444444444444, \"#bd3786\"], [0.5555555555555556, \"#d8576b\"], [0.6666666666666666, \"#ed7953\"], [0.7777777777777778, \"#fb9f3a\"], [0.8888888888888888, \"#fdca26\"], [1.0, \"#f0f921\"]], \"type\": \"heatmapgl\"}], \"histogram\": [{\"marker\": {\"colorbar\": {\"outlinewidth\": 0, \"ticks\": \"\"}}, \"type\": \"histogram\"}], \"histogram2d\": [{\"colorbar\": {\"outlinewidth\": 0, \"ticks\": \"\"}, \"colorscale\": [[0.0, \"#0d0887\"], [0.1111111111111111, \"#46039f\"], [0.2222222222222222, \"#7201a8\"], [0.3333333333333333, \"#9c179e\"], [0.4444444444444444, \"#bd3786\"], [0.5555555555555556, \"#d8576b\"], [0.6666666666666666, \"#ed7953\"], [0.7777777777777778, \"#fb9f3a\"], [0.8888888888888888, \"#fdca26\"], [1.0, \"#f0f921\"]], \"type\": \"histogram2d\"}], \"histogram2dcontour\": [{\"colorbar\": {\"outlinewidth\": 0, \"ticks\": \"\"}, \"colorscale\": [[0.0, \"#0d0887\"], [0.1111111111111111, \"#46039f\"], [0.2222222222222222, \"#7201a8\"], [0.3333333333333333, \"#9c179e\"], [0.4444444444444444, \"#bd3786\"], [0.5555555555555556, \"#d8576b\"], [0.6666666666666666, \"#ed7953\"], [0.7777777777777778, \"#fb9f3a\"], [0.8888888888888888, \"#fdca26\"], [1.0, \"#f0f921\"]], \"type\": \"histogram2dcontour\"}], \"mesh3d\": [{\"colorbar\": {\"outlinewidth\": 0, \"ticks\": \"\"}, \"type\": \"mesh3d\"}], \"parcoords\": [{\"line\": {\"colorbar\": {\"outlinewidth\": 0, \"ticks\": \"\"}}, \"type\": \"parcoords\"}], \"pie\": [{\"automargin\": true, \"type\": \"pie\"}], \"scatter\": [{\"marker\": {\"line\": {\"color\": \"#283442\"}}, \"type\": \"scatter\"}], \"scatter3d\": [{\"line\": {\"colorbar\": {\"outlinewidth\": 0, \"ticks\": \"\"}}, \"marker\": {\"colorbar\": {\"outlinewidth\": 0, \"ticks\": \"\"}}, \"type\": \"scatter3d\"}], \"scattercarpet\": [{\"marker\": {\"colorbar\": {\"outlinewidth\": 0, \"ticks\": \"\"}}, \"type\": \"scattercarpet\"}], \"scattergeo\": [{\"marker\": {\"colorbar\": {\"outlinewidth\": 0, \"ticks\": \"\"}}, \"type\": \"scattergeo\"}], \"scattergl\": [{\"marker\": {\"line\": {\"color\": \"#283442\"}}, \"type\": \"scattergl\"}], \"scattermapbox\": [{\"marker\": {\"colorbar\": {\"outlinewidth\": 0, \"ticks\": \"\"}}, \"type\": \"scattermapbox\"}], \"scatterpolar\": [{\"marker\": {\"colorbar\": {\"outlinewidth\": 0, \"ticks\": \"\"}}, \"type\": \"scatterpolar\"}], \"scatterpolargl\": [{\"marker\": {\"colorbar\": {\"outlinewidth\": 0, \"ticks\": \"\"}}, \"type\": \"scatterpolargl\"}], \"scatterternary\": [{\"marker\": {\"colorbar\": {\"outlinewidth\": 0, \"ticks\": \"\"}}, \"type\": \"scatterternary\"}], \"surface\": [{\"colorbar\": {\"outlinewidth\": 0, \"ticks\": \"\"}, \"colorscale\": [[0.0, \"#0d0887\"], [0.1111111111111111, \"#46039f\"], [0.2222222222222222, \"#7201a8\"], [0.3333333333333333, \"#9c179e\"], [0.4444444444444444, \"#bd3786\"], [0.5555555555555556, \"#d8576b\"], [0.6666666666666666, \"#ed7953\"], [0.7777777777777778, \"#fb9f3a\"], [0.8888888888888888, \"#fdca26\"], [1.0, \"#f0f921\"]], \"type\": \"surface\"}], \"table\": [{\"cells\": {\"fill\": {\"color\": \"#506784\"}, \"line\": {\"color\": \"rgb(17,17,17)\"}}, \"header\": {\"fill\": {\"color\": \"#2a3f5f\"}, \"line\": {\"color\": \"rgb(17,17,17)\"}}, \"type\": \"table\"}]}, \"layout\": {\"annotationdefaults\": {\"arrowcolor\": \"#f2f5fa\", \"arrowhead\": 0, \"arrowwidth\": 1}, \"autotypenumbers\": \"strict\", \"coloraxis\": {\"colorbar\": {\"outlinewidth\": 0, \"ticks\": \"\"}}, \"colorscale\": {\"diverging\": [[0, \"#8e0152\"], [0.1, \"#c51b7d\"], [0.2, \"#de77ae\"], [0.3, \"#f1b6da\"], [0.4, \"#fde0ef\"], [0.5, \"#f7f7f7\"], [0.6, \"#e6f5d0\"], [0.7, \"#b8e186\"], [0.8, \"#7fbc41\"], [0.9, \"#4d9221\"], [1, \"#276419\"]], \"sequential\": [[0.0, \"#0d0887\"], [0.1111111111111111, \"#46039f\"], [0.2222222222222222, \"#7201a8\"], [0.3333333333333333, \"#9c179e\"], [0.4444444444444444, \"#bd3786\"], [0.5555555555555556, \"#d8576b\"], [0.6666666666666666, \"#ed7953\"], [0.7777777777777778, \"#fb9f3a\"], [0.8888888888888888, \"#fdca26\"], [1.0, \"#f0f921\"]], \"sequentialminus\": [[0.0, \"#0d0887\"], [0.1111111111111111, \"#46039f\"], [0.2222222222222222, \"#7201a8\"], [0.3333333333333333, \"#9c179e\"], [0.4444444444444444, \"#bd3786\"], [0.5555555555555556, \"#d8576b\"], [0.6666666666666666, \"#ed7953\"], [0.7777777777777778, \"#fb9f3a\"], [0.8888888888888888, \"#fdca26\"], [1.0, \"#f0f921\"]]}, \"colorway\": [\"#636efa\", \"#EF553B\", \"#00cc96\", \"#ab63fa\", \"#FFA15A\", \"#19d3f3\", \"#FF6692\", \"#B6E880\", \"#FF97FF\", \"#FECB52\"], \"font\": {\"color\": \"#f2f5fa\"}, \"geo\": {\"bgcolor\": \"rgb(17,17,17)\", \"lakecolor\": \"rgb(17,17,17)\", \"landcolor\": \"rgb(17,17,17)\", \"showlakes\": true, \"showland\": true, \"subunitcolor\": \"#506784\"}, \"hoverlabel\": {\"align\": \"left\"}, \"hovermode\": \"closest\", \"mapbox\": {\"style\": \"dark\"}, \"paper_bgcolor\": \"rgb(17,17,17)\", \"plot_bgcolor\": \"rgb(17,17,17)\", \"polar\": {\"angularaxis\": {\"gridcolor\": \"#506784\", \"linecolor\": \"#506784\", \"ticks\": \"\"}, \"bgcolor\": \"rgb(17,17,17)\", \"radialaxis\": {\"gridcolor\": \"#506784\", \"linecolor\": \"#506784\", \"ticks\": \"\"}}, \"scene\": {\"xaxis\": {\"backgroundcolor\": \"rgb(17,17,17)\", \"gridcolor\": \"#506784\", \"gridwidth\": 2, \"linecolor\": \"#506784\", \"showbackground\": true, \"ticks\": \"\", \"zerolinecolor\": \"#C8D4E3\"}, \"yaxis\": {\"backgroundcolor\": \"rgb(17,17,17)\", \"gridcolor\": \"#506784\", \"gridwidth\": 2, \"linecolor\": \"#506784\", \"showbackground\": true, \"ticks\": \"\", \"zerolinecolor\": \"#C8D4E3\"}, \"zaxis\": {\"backgroundcolor\": \"rgb(17,17,17)\", \"gridcolor\": \"#506784\", \"gridwidth\": 2, \"linecolor\": \"#506784\", \"showbackground\": true, \"ticks\": \"\", \"zerolinecolor\": \"#C8D4E3\"}}, \"shapedefaults\": {\"line\": {\"color\": \"#f2f5fa\"}}, \"sliderdefaults\": {\"bgcolor\": \"#C8D4E3\", \"bordercolor\": \"rgb(17,17,17)\", \"borderwidth\": 1, \"tickwidth\": 0}, \"ternary\": {\"aaxis\": {\"gridcolor\": \"#506784\", \"linecolor\": \"#506784\", \"ticks\": \"\"}, \"baxis\": {\"gridcolor\": \"#506784\", \"linecolor\": \"#506784\", \"ticks\": \"\"}, \"bgcolor\": \"rgb(17,17,17)\", \"caxis\": {\"gridcolor\": \"#506784\", \"linecolor\": \"#506784\", \"ticks\": \"\"}}, \"title\": {\"x\": 0.05}, \"updatemenudefaults\": {\"bgcolor\": \"#506784\", \"borderwidth\": 0}, \"xaxis\": {\"automargin\": true, \"gridcolor\": \"#283442\", \"linecolor\": \"#506784\", \"ticks\": \"\", \"title\": {\"standoff\": 15}, \"zerolinecolor\": \"#283442\", \"zerolinewidth\": 2}, \"yaxis\": {\"automargin\": true, \"gridcolor\": \"#283442\", \"linecolor\": \"#506784\", \"ticks\": \"\", \"title\": {\"standoff\": 15}, \"zerolinecolor\": \"#283442\", \"zerolinewidth\": 2}}}, \"title\": {\"text\": \"Box plot for 3Pts\"}, \"xaxis\": {\"anchor\": \"y\", \"domain\": [0.0, 1.0], \"title\": {\"text\": \"three_pa\"}}, \"yaxis\": {\"anchor\": \"x\", \"domain\": [0.0, 1.0]}},                        {\"responsive\": true}                    ).then(function(){\n",
              "                            \n",
              "var gd = document.getElementById('750d7eb3-694d-4465-9977-1151d9dacad1');\n",
              "var x = new MutationObserver(function (mutations, observer) {{\n",
              "        var display = window.getComputedStyle(gd).display;\n",
              "        if (!display || display === 'none') {{\n",
              "            console.log([gd, 'removed!']);\n",
              "            Plotly.purge(gd);\n",
              "            observer.disconnect();\n",
              "        }}\n",
              "}});\n",
              "\n",
              "// Listen for the removal of the full notebook cells\n",
              "var notebookContainer = gd.closest('#notebook-container');\n",
              "if (notebookContainer) {{\n",
              "    x.observe(notebookContainer, {childList: true});\n",
              "}}\n",
              "\n",
              "// Listen for the clearing of the current output cell\n",
              "var outputEl = gd.closest('.output');\n",
              "if (outputEl) {{\n",
              "    x.observe(outputEl, {childList: true});\n",
              "}}\n",
              "\n",
              "                        })                };                            </script>        </div>\n",
              "</body>\n",
              "</html>"
            ]
          },
          "metadata": {
            "tags": []
          }
        }
      ]
    },
    {
      "cell_type": "code",
      "metadata": {
        "id": "E7o9S1eSVa6X"
      },
      "source": [
        ""
      ],
      "execution_count": null,
      "outputs": []
    }
  ]
}